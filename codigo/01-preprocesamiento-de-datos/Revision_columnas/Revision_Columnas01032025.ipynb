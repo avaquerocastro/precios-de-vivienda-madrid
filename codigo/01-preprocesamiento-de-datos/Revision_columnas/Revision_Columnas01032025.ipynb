{
  "cells": [
    {
      "cell_type": "code",
      "execution_count": 4613,
      "metadata": {
        "id": "PoLdcqULxX41"
      },
      "outputs": [],
      "source": [
        "# Principales\n",
        "import pandas as pd\n",
        "import numpy as np\n",
        "\n",
        "# Modificaciones\n",
        "import re\n",
        "\n",
        "from unidecode import unidecode\n",
        "import unicodedata\n",
        "import datetime\n",
        "import os\n",
        "import gc\n",
        "\n",
        "\n",
        "# visuzalizaciones\n",
        "import missingno as msno\n",
        "import matplotlib as plt\n",
        "import plotly.express as px"
      ]
    },
    {
      "cell_type": "code",
      "execution_count": 4614,
      "metadata": {
        "id": "YwGZLyNSxX43"
      },
      "outputs": [],
      "source": [
        "pd.set_option(\"display.max_columns\", None)\n",
        "pd.set_option('display.max_rows',80)\n",
        "pd.set_option('display.float_format', lambda x: '%.2f' % x)\n",
        "pd.set_option('display.max_colwidth', None)\n",
        "# Ajustar la configuración para mostrar más filas\n",
        "#pd.set_option('display.max_rows', 500)\n",
        "\n",
        "#inicializo la lista to replace\n",
        "to_replace=['Null','Nan','nan','NULL',None]"
      ]
    },
    {
      "cell_type": "markdown",
      "metadata": {
        "id": "hmGlpPspxX43"
      },
      "source": [
        "# Funciones"
      ]
    },
    {
      "cell_type": "code",
      "execution_count": 4615,
      "metadata": {
        "id": "0G_zedy2xX45"
      },
      "outputs": [],
      "source": [
        "\n",
        "\n",
        "# Función para normalizar texto\n",
        "def normalize_text(text):\n",
        "    # Reemplazar caracteres especiales y convertir a minúsculas para una comparación consistente\n",
        "    text = text.replace(\"/\", \" \")  # Reemplazar la barra por espacio o eliminarla completamente\n",
        "    text = text.replace(\"ñ\", \"n\")  # Reemplazar la \"ñ\" por \"n\"\n",
        "    return ''.join(\n",
        "        c for c in unicodedata.normalize('NFD', text)\n",
        "        if unicodedata.category(c) != 'Mn'\n",
        "    ).lower()"
      ]
    },
    {
      "cell_type": "code",
      "execution_count": 4616,
      "metadata": {
        "id": "znoauSP4xX46"
      },
      "outputs": [],
      "source": [
        "def normalizar(texto):\n",
        " return unidecode(texto).lower()"
      ]
    },
    {
      "cell_type": "code",
      "execution_count": 4617,
      "metadata": {
        "id": "c_kZDermxX46"
      },
      "outputs": [],
      "source": [
        "def actualizar_valores(df, df1, clave, columna_a_actualizar):\n",
        "    \"\"\"\n",
        "    Actualiza los valores de una columna en un dataframe utilizando los valores de otro dataframe.\n",
        "\n",
        "    :param df: DataFrame a actualizar.\n",
        "    :param df1: DataFrame que contiene los valores correctos.\n",
        "    :param clave: Nombre de la columna que funciona como clave primaria para hacer la correspondencia.\n",
        "    :param columna_a_actualizar: Nombre de la columna que será actualizada en df.\n",
        "    :return: DataFrame actualizado.\n",
        "    \"\"\"\n",
        "    # Crear un diccionario con los valores correctos del segundo dataframe\n",
        "    valores_correctos = df1.set_index(clave)[columna_a_actualizar].to_dict()\n",
        "\n",
        "    # Actualizar los valores en el dataframe principal\n",
        "    df[columna_a_actualizar] = df[clave].map(valores_correctos).fillna(df[columna_a_actualizar])\n",
        "\n",
        "    return df\n"
      ]
    },
    {
      "cell_type": "code",
      "execution_count": 4618,
      "metadata": {
        "id": "rOV3SPX-xX46"
      },
      "outputs": [],
      "source": [
        "def actualizar_valores_conclave(df, df1, clave, columna_a_actualizar):\n",
        "    \"\"\"\n",
        "    Actualiza los valores de una columna en un dataframe utilizando los valores de otro dataframe.\n",
        "\n",
        "    :param df: DataFrame a actualizar.\n",
        "    :param df1: DataFrame que contiene los valores correctos.\n",
        "    :param clave: Nombre de la columna que funciona como clave primaria para hacer la correspondencia.\n",
        "    :param columna_a_actualizar: Nombre de la columna que será actualizada en df.\n",
        "    :return: DataFrame actualizado.\n",
        "    \"\"\"\n",
        "    # Crear un diccionario con los valores correctos del segundo dataframe\n",
        "    valores_correctos = df1.set_index(clave)[columna_a_actualizar].to_dict()\n",
        "\n",
        "    # Actualizar los valores en el dataframe principal solo si coinciden las claves\n",
        "    df[columna_a_actualizar] = df[clave].map(valores_correctos).combine_first(df[columna_a_actualizar])\n",
        "\n",
        "    return df\n"
      ]
    },
    {
      "cell_type": "code",
      "execution_count": 4619,
      "metadata": {
        "id": "ogFsGUsXxX47"
      },
      "outputs": [],
      "source": [
        "def obtener_valores_por_columna(df, columna, valor):\n",
        "    \"\"\"\n",
        "    Devuelve los valores de las demás columnas de la fila donde la columna especificada tiene el valor dado.\n",
        "\n",
        "    :param df: DataFrame de pandas\n",
        "    :param columna: Nombre de la columna para buscar el valor\n",
        "    :param valor: Valor único para buscar en la columna\n",
        "    :return: Diccionario con los valores de las demás columnas\n",
        "    \"\"\"\n",
        "    # Convertir los valores de la columna a cadenas de texto y eliminar espacios en blanco\n",
        "    df[columna] = df[columna].astype(str).str.strip()\n",
        "    valor = str(valor).strip()\n",
        "\n",
        "    fila = df.loc[df[columna] == valor]\n",
        "    if not fila.empty:\n",
        "        return fila.iloc[0].to_dict()\n",
        "    else:\n",
        "        return {}\n"
      ]
    },
    {
      "cell_type": "code",
      "execution_count": 4620,
      "metadata": {
        "id": "0WQGmAkuxX47"
      },
      "outputs": [],
      "source": [
        "def porcentaje_nulos(df, columnas):\n",
        "    if isinstance(columnas, str):\n",
        "        columnas = [columnas]  # Convertir a lista si es una sola columna\n",
        "    resultados = {}\n",
        "    for columna in columnas:\n",
        "        if columna in df.columns:\n",
        "            total_filas = len(df)\n",
        "            nulos = df[columna].isnull().sum()\n",
        "            porcentaje_nulos = (nulos / total_filas) * 100\n",
        "            resultados[columna] = porcentaje_nulos\n",
        "        else:\n",
        "            resultados[columna] = 'Column not found'\n",
        "    return resultados\n",
        "\n"
      ]
    },
    {
      "cell_type": "code",
      "execution_count": 4621,
      "metadata": {
        "id": "6c5rnyo5xX48"
      },
      "outputs": [],
      "source": [
        "\n",
        "# Función para clasificar el tipo de calefacción y asignar el nombre de la lista\n",
        "def clasificar_calefaccion(calefaccion, listas):\n",
        "    for tipo, lista in listas.items():\n",
        "        if calefaccion in lista:\n",
        "            return tipo\n",
        "    return 'No clasif'"
      ]
    },
    {
      "cell_type": "code",
      "execution_count": 4622,
      "metadata": {
        "id": "EftINk0pxX48"
      },
      "outputs": [],
      "source": [
        "def agrupar_cocinas(tipo):\n",
        "    categorias = []\n",
        "    if pd.isnull(tipo):\n",
        "        categorias.append('sin_informacion')\n",
        "    elif isinstance(tipo, str):\n",
        "        if 'abierta' in tipo.lower() or 'abierto' in tipo.lower() or 'americana' in tipo.lower() or 'integrada' in tipo.lower():\n",
        "            categorias.append('abierta')\n",
        "        if 'independiente' in tipo.lower():\n",
        "            categorias.append('independiente')\n",
        "        if 'amplia' in tipo.lower():\n",
        "            categorias.append('amplia')\n",
        "        if 'isla' in tipo.lower():\n",
        "            categorias.append('con isla')\n",
        "        if 'amueblada' in tipo.lower():\n",
        "            categorias.append('amueblada')\n",
        "        if 'con electrodomesticos' in tipo.lower() or 'equipada' in tipo.lower() or 'con elec.' in tipo.lower():\n",
        "            categorias.append('equipada')\n",
        "        if 'sin amueblar' in tipo.lower():\n",
        "            categorias.append('no amueblada')\n",
        "        if 'reformada' in tipo.lower():\n",
        "            return 'reformada'\n",
        "        elif 'a reformar' in tipo.lower() or 'necesita reforma' in tipo.lower():\n",
        "            return 'Sin reforma'\n",
        "        if not categorias:\n",
        "            categorias.append('sin categoria')\n",
        "        return ', '.join(categorias)\n",
        "    else:\n",
        "        return 'error tipo campo no texto'\n",
        "    return ', '.join(categorias)\n"
      ]
    },
    {
      "cell_type": "code",
      "execution_count": 4623,
      "metadata": {
        "id": "uWc_pDpqxX48"
      },
      "outputs": [],
      "source": [
        "\n",
        "def clasificar_consumo(valor):\n",
        "    try:\n",
        "        valor = float(valor)\n",
        "        if valor < 10:\n",
        "            return 'A'\n",
        "        elif valor <= 20:\n",
        "            return 'B'\n",
        "        elif valor <= 35:\n",
        "            return 'C'\n",
        "        elif valor <= 55:\n",
        "            return 'D'\n",
        "        elif valor <= 75:\n",
        "            return 'E'\n",
        "        elif valor <= 100:\n",
        "            return 'F'\n",
        "        else:\n",
        "            return 'G'\n",
        "    except ValueError:\n",
        "        return None\n",
        "\n"
      ]
    },
    {
      "cell_type": "code",
      "execution_count": 4624,
      "metadata": {},
      "outputs": [],
      "source": [
        "# Función para extraer solo el número de la cadena de texto\n",
        "def extraer_numero(texto):\n",
        "    if isinstance(texto, str):\n",
        "        match = re.search(r'\\d+', texto)\n",
        "        return match.group(0) if match else None\n",
        "    return None"
      ]
    },
    {
      "cell_type": "markdown",
      "metadata": {
        "id": "gYvF_5qDxX48"
      },
      "source": [
        "# Carga de datos"
      ]
    },
    {
      "cell_type": "code",
      "execution_count": 4625,
      "metadata": {
        "colab": {
          "base_uri": "https://localhost:8080/"
        },
        "id": "GS3iQSX6xX48",
        "outputId": "bbec7764-0b6d-4e92-842c-3ae34b134884"
      },
      "outputs": [
        {
          "name": "stdout",
          "output_type": "stream",
          "text": [
            "c:\\Users\\extas\\Documents\\GitHub\\precios-de-vivienda-madrid\\codigo\\01-preprocesamiento-de-datos\\Revision_columnas\n"
          ]
        }
      ],
      "source": [
        "\n",
        "print(os.getcwd())"
      ]
    },
    {
      "cell_type": "code",
      "execution_count": 4626,
      "metadata": {
        "colab": {
          "base_uri": "https://localhost:8080/",
          "height": 316
        },
        "id": "ykPKKsC-xX49",
        "outputId": "cc97ae30-3100-45f2-e6c0-9041c6156dd1"
      },
      "outputs": [
        {
          "name": "stderr",
          "output_type": "stream",
          "text": [
            "C:\\Users\\extas\\AppData\\Local\\Temp\\ipykernel_21996\\3324451358.py:1: DtypeWarning: Columns (3,12,13,14,17,20,23,34,51,53,54,57,58,63,64,69,84) have mixed types. Specify dtype option on import or set low_memory=False.\n",
            "  df17= pd.read_csv('./data/20250301_Union_todos.csv',sep=\";\",index_col=False)\n"
          ]
        }
      ],
      "source": [
        "df17= pd.read_csv('./data/20250301_Union_todos.csv',sep=\";\",index_col=False)"
      ]
    },
    {
      "cell_type": "code",
      "execution_count": 4627,
      "metadata": {
        "id": "FJrX4JyHxX49"
      },
      "outputs": [],
      "source": [
        "dfbarrios= pd.read_excel('../02-datos-limpios/distr_barrios_codpostal.xlsx')"
      ]
    },
    {
      "cell_type": "code",
      "execution_count": 4628,
      "metadata": {},
      "outputs": [],
      "source": [
        "# Reemplazar los valores 'na' por NaN\n",
        "df17.replace('na', pd.NA, inplace=True)"
      ]
    },
    {
      "cell_type": "code",
      "execution_count": 4629,
      "metadata": {
        "id": "S5dFg7G5jhg1"
      },
      "outputs": [
        {
          "data": {
            "text/plain": [
              "Index(['title', 'url', 'precio_anterior', 'descuento', 'EUR/m2', 'm2_constr',\n",
              "       'distrito', 'cod_distrito', 'barrio', 'cod_barrio', 'zona', 'calle',\n",
              "       'consumoce_ano', 'letra_ce', 'emisiones_co2', 'tipologia', 'estado',\n",
              "       'amueblado', 'planta', 'dormitorios', 'banos', 'balcon', 'terraza',\n",
              "       'garaje', 'trastero', 'ascensor', 'calefaccion', 'antiguedad',\n",
              "       'num_plantas', 'aire_acondicionado', 'jardin', 'inmueble_ingresos',\n",
              "       'alquiler_opcion_a_compra', 'nuda_propiedad', 'tipo_inmueble',\n",
              "       'tiene_armario', 'cancha_tenis',\n",
              "       'carpinteria_exterior_doble_vidrio/pvc',\n",
              "       'carpinteria_exterior_doble_vidrio/madera',\n",
              "       'carpinteria_exterior_doble_vidrio/metal',\n",
              "       'carpinteria_exterior_triple_vidrio/madera',\n",
              "       'carpinteria_exterior_triple_vidrio/metal',\n",
              "       'carpinteria_exterior_vidrio/pvc', 'carpinteria_exterior_vidrio/madera',\n",
              "       'carpinteria_exterior_vidrio/metal', 'chimenea', 'cocina',\n",
              "       'fibra_optica', 'exterior', 'interior', 'interior_y_exterior',\n",
              "       'piscina', 'porton_electrico', 'puerta_blindada', 'alarma',\n",
              "       'videoportero', 'lujosa', '€_comunidad_mes', 'acceso_discapacitado',\n",
              "       'orientacion', 'precio', 'web', 'fecha_descarga', 'actualizacion',\n",
              "       'armarios', 'codigo_Postal', 'm2_utiles', 'referencia', 'tipo_suelo',\n",
              "       'certificado_energetico', 'tiene_jardin', 'descripcion_larga',\n",
              "       'num_visitas', 'fecha_publicacion', 'titularanuncio', 'num_pisos',\n",
              "       'puerta_seguridad', 'zonas_verdes', 'gastos_comunidad', 'tiene_piscina',\n",
              "       'tipo_fachada', 'agua_caliente', 'consumo_energia', 'nombre_oficina',\n",
              "       'letrace', 'portero', 'orientacion_este', 'orientacion_oeste',\n",
              "       'orientacion_sur'],\n",
              "      dtype='object')"
            ]
          },
          "execution_count": 4629,
          "metadata": {},
          "output_type": "execute_result"
        }
      ],
      "source": [
        "df17.columns"
      ]
    },
    {
      "cell_type": "code",
      "execution_count": 4630,
      "metadata": {
        "id": "BpPutHs0xX4-"
      },
      "outputs": [
        {
          "data": {
            "text/plain": [
              "(10205, 89)"
            ]
          },
          "execution_count": 4630,
          "metadata": {},
          "output_type": "execute_result"
        }
      ],
      "source": [
        "df17.shape"
      ]
    },
    {
      "cell_type": "code",
      "execution_count": 4631,
      "metadata": {
        "id": "Sy_HFF8BxX5A"
      },
      "outputs": [
        {
          "data": {
            "text/plain": [
              "title                    0\n",
              "url                      0\n",
              "precio_anterior      10150\n",
              "descuento            10150\n",
              "EUR/m2                2350\n",
              "                     ...  \n",
              "letrace              10203\n",
              "portero              10006\n",
              "orientacion_este     10204\n",
              "orientacion_oeste    10204\n",
              "orientacion_sur      10202\n",
              "Length: 89, dtype: int64"
            ]
          },
          "execution_count": 4631,
          "metadata": {},
          "output_type": "execute_result"
        }
      ],
      "source": [
        "# Chqueo de nulos en todas las columnas\n",
        "df17.isna().sum()\n",
        "# Muestreo estadistico de las columnas"
      ]
    },
    {
      "cell_type": "code",
      "execution_count": 4632,
      "metadata": {},
      "outputs": [
        {
          "name": "stdout",
          "output_type": "stream",
          "text": [
            "<class 'pandas.core.frame.DataFrame'>\n",
            "RangeIndex: 10205 entries, 0 to 10204\n",
            "Data columns (total 89 columns):\n",
            " #   Column                                     Non-Null Count  Dtype  \n",
            "---  ------                                     --------------  -----  \n",
            " 0   title                                      10205 non-null  object \n",
            " 1   url                                        10205 non-null  object \n",
            " 2   precio_anterior                            55 non-null     float64\n",
            " 3   descuento                                  55 non-null     object \n",
            " 4   EUR/m2                                     7855 non-null   float64\n",
            " 5   m2_constr                                  10198 non-null  float64\n",
            " 6   distrito                                   10198 non-null  object \n",
            " 7   cod_distrito                               10198 non-null  float64\n",
            " 8   barrio                                     10137 non-null  object \n",
            " 9   cod_barrio                                 10137 non-null  float64\n",
            " 10  zona                                       8619 non-null   object \n",
            " 11  calle                                      5366 non-null   object \n",
            " 12  consumoce_ano                              3144 non-null   object \n",
            " 13  letra_ce                                   1922 non-null   object \n",
            " 14  emisiones_co2                              3405 non-null   object \n",
            " 15  tipologia                                  10205 non-null  object \n",
            " 16  estado                                     5586 non-null   object \n",
            " 17  amueblado                                  1248 non-null   object \n",
            " 18  planta                                     5554 non-null   object \n",
            " 19  dormitorios                                9976 non-null   float64\n",
            " 20  banos                                      9804 non-null   object \n",
            " 21  balcon                                     1461 non-null   float64\n",
            " 22  terraza                                    2499 non-null   float64\n",
            " 23  garaje                                     2015 non-null   object \n",
            " 24  trastero                                   2724 non-null   float64\n",
            " 25  ascensor                                   4638 non-null   float64\n",
            " 26  calefaccion                                3479 non-null   object \n",
            " 27  antiguedad                                 3441 non-null   object \n",
            " 28  num_plantas                                233 non-null    object \n",
            " 29  aire_acondicionado                         2562 non-null   object \n",
            " 30  jardin                                     2118 non-null   object \n",
            " 31  inmueble_ingresos                          10 non-null     float64\n",
            " 32  alquiler_opcion_a_compra                   3 non-null      float64\n",
            " 33  nuda_propiedad                             12 non-null     float64\n",
            " 34  tipo_inmueble                              565 non-null    object \n",
            " 35  tiene_armario                              4284 non-null   float64\n",
            " 36  cancha_tenis                               3144 non-null   float64\n",
            " 37  carpinteria_exterior_doble_vidrio/pvc      3502 non-null   float64\n",
            " 38  carpinteria_exterior_doble_vidrio/madera   3144 non-null   float64\n",
            " 39  carpinteria_exterior_doble_vidrio/metal    3144 non-null   float64\n",
            " 40  carpinteria_exterior_triple_vidrio/madera  3144 non-null   float64\n",
            " 41  carpinteria_exterior_triple_vidrio/metal   3144 non-null   float64\n",
            " 42  carpinteria_exterior_vidrio/pvc            3144 non-null   float64\n",
            " 43  carpinteria_exterior_vidrio/madera         3144 non-null   float64\n",
            " 44  carpinteria_exterior_vidrio/metal          3144 non-null   float64\n",
            " 45  chimenea                                   3148 non-null   float64\n",
            " 46  cocina                                     1043 non-null   object \n",
            " 47  fibra_optica                               3144 non-null   float64\n",
            " 48  exterior                                   5577 non-null   float64\n",
            " 49  interior                                   3146 non-null   float64\n",
            " 50  interior_y_exterior                        3144 non-null   float64\n",
            " 51  piscina                                    4219 non-null   object \n",
            " 52  porton_electrico                           3144 non-null   float64\n",
            " 53  puerta_blindada                            3152 non-null   object \n",
            " 54  alarma                                     3244 non-null   object \n",
            " 55  videoportero                               3426 non-null   float64\n",
            " 56  lujosa                                     3145 non-null   float64\n",
            " 57  €_comunidad_mes                            527 non-null    object \n",
            " 58  acceso_discapacitado                       504 non-null    object \n",
            " 59  orientacion                                1936 non-null   object \n",
            " 60  precio                                     10205 non-null  int64  \n",
            " 61  web                                        10205 non-null  object \n",
            " 62  fecha_descarga                             10205 non-null  object \n",
            " 63  actualizacion                              2865 non-null   object \n",
            " 64  armarios                                   1726 non-null   object \n",
            " 65  codigo_Postal                              10137 non-null  float64\n",
            " 66  m2_utiles                                  2262 non-null   object \n",
            " 67  referencia                                 5198 non-null   object \n",
            " 68  tipo_suelo                                 1322 non-null   object \n",
            " 69  certificado_energetico                     6009 non-null   object \n",
            " 70  tiene_jardin                               2118 non-null   float64\n",
            " 71  descripcion_larga                          8279 non-null   object \n",
            " 72  num_visitas                                2318 non-null   float64\n",
            " 73  fecha_publicacion                          2318 non-null   object \n",
            " 74  titularanuncio                             967 non-null    object \n",
            " 75  num_pisos                                  16 non-null     object \n",
            " 76  puerta_seguridad                           18 non-null     float64\n",
            " 77  zonas_verdes                               131 non-null    float64\n",
            " 78  gastos_comunidad                           34 non-null     object \n",
            " 79  tiene_piscina                              50 non-null     float64\n",
            " 80  tipo_fachada                               181 non-null    object \n",
            " 81  agua_caliente                              689 non-null    object \n",
            " 82  consumo_energia                            260 non-null    object \n",
            " 83  nombre_oficina                             1460 non-null   object \n",
            " 84  letrace                                    2 non-null      object \n",
            " 85  portero                                    199 non-null    object \n",
            " 86  orientacion_este                           1 non-null      float64\n",
            " 87  orientacion_oeste                          1 non-null      float64\n",
            " 88  orientacion_sur                            3 non-null      float64\n",
            "dtypes: float64(40), int64(1), object(48)\n",
            "memory usage: 6.9+ MB\n"
          ]
        }
      ],
      "source": [
        "df17.info()"
      ]
    },
    {
      "cell_type": "code",
      "execution_count": 4633,
      "metadata": {
        "id": "7_zzfgeSxX5A"
      },
      "outputs": [
        {
          "data": {
            "text/html": [
              "<div>\n",
              "<style scoped>\n",
              "    .dataframe tbody tr th:only-of-type {\n",
              "        vertical-align: middle;\n",
              "    }\n",
              "\n",
              "    .dataframe tbody tr th {\n",
              "        vertical-align: top;\n",
              "    }\n",
              "\n",
              "    .dataframe thead th {\n",
              "        text-align: right;\n",
              "    }\n",
              "</style>\n",
              "<table border=\"1\" class=\"dataframe\">\n",
              "  <thead>\n",
              "    <tr style=\"text-align: right;\">\n",
              "      <th></th>\n",
              "      <th>count</th>\n",
              "      <th>mean</th>\n",
              "      <th>std</th>\n",
              "      <th>min</th>\n",
              "      <th>25%</th>\n",
              "      <th>50%</th>\n",
              "      <th>75%</th>\n",
              "      <th>max</th>\n",
              "    </tr>\n",
              "  </thead>\n",
              "  <tbody>\n",
              "    <tr>\n",
              "      <th>precio_anterior</th>\n",
              "      <td>55.00</td>\n",
              "      <td>830694.55</td>\n",
              "      <td>977555.73</td>\n",
              "      <td>98100.00</td>\n",
              "      <td>201500.00</td>\n",
              "      <td>440000.00</td>\n",
              "      <td>955000.00</td>\n",
              "      <td>4900000.00</td>\n",
              "    </tr>\n",
              "    <tr>\n",
              "      <th>EUR/m2</th>\n",
              "      <td>7855.00</td>\n",
              "      <td>3745.76</td>\n",
              "      <td>3996.23</td>\n",
              "      <td>0.00</td>\n",
              "      <td>7.08</td>\n",
              "      <td>3020.00</td>\n",
              "      <td>6360.00</td>\n",
              "      <td>27708.00</td>\n",
              "    </tr>\n",
              "    <tr>\n",
              "      <th>m2_constr</th>\n",
              "      <td>10198.00</td>\n",
              "      <td>138.65</td>\n",
              "      <td>150.97</td>\n",
              "      <td>0.00</td>\n",
              "      <td>68.00</td>\n",
              "      <td>99.00</td>\n",
              "      <td>150.00</td>\n",
              "      <td>4574.00</td>\n",
              "    </tr>\n",
              "    <tr>\n",
              "      <th>cod_distrito</th>\n",
              "      <td>10198.00</td>\n",
              "      <td>7.78</td>\n",
              "      <td>5.77</td>\n",
              "      <td>1.00</td>\n",
              "      <td>4.00</td>\n",
              "      <td>6.00</td>\n",
              "      <td>12.00</td>\n",
              "      <td>21.00</td>\n",
              "    </tr>\n",
              "    <tr>\n",
              "      <th>cod_barrio</th>\n",
              "      <td>10137.00</td>\n",
              "      <td>80.95</td>\n",
              "      <td>57.73</td>\n",
              "      <td>1.00</td>\n",
              "      <td>36.00</td>\n",
              "      <td>64.00</td>\n",
              "      <td>123.00</td>\n",
              "      <td>215.00</td>\n",
              "    </tr>\n",
              "    <tr>\n",
              "      <th>dormitorios</th>\n",
              "      <td>9976.00</td>\n",
              "      <td>2.83</td>\n",
              "      <td>1.42</td>\n",
              "      <td>0.00</td>\n",
              "      <td>2.00</td>\n",
              "      <td>3.00</td>\n",
              "      <td>3.00</td>\n",
              "      <td>24.00</td>\n",
              "    </tr>\n",
              "    <tr>\n",
              "      <th>balcon</th>\n",
              "      <td>1461.00</td>\n",
              "      <td>0.58</td>\n",
              "      <td>0.49</td>\n",
              "      <td>0.00</td>\n",
              "      <td>0.00</td>\n",
              "      <td>1.00</td>\n",
              "      <td>1.00</td>\n",
              "      <td>1.00</td>\n",
              "    </tr>\n",
              "    <tr>\n",
              "      <th>terraza</th>\n",
              "      <td>2499.00</td>\n",
              "      <td>0.77</td>\n",
              "      <td>0.42</td>\n",
              "      <td>0.00</td>\n",
              "      <td>1.00</td>\n",
              "      <td>1.00</td>\n",
              "      <td>1.00</td>\n",
              "      <td>1.00</td>\n",
              "    </tr>\n",
              "    <tr>\n",
              "      <th>trastero</th>\n",
              "      <td>2724.00</td>\n",
              "      <td>0.50</td>\n",
              "      <td>0.50</td>\n",
              "      <td>0.00</td>\n",
              "      <td>0.00</td>\n",
              "      <td>1.00</td>\n",
              "      <td>1.00</td>\n",
              "      <td>1.00</td>\n",
              "    </tr>\n",
              "    <tr>\n",
              "      <th>ascensor</th>\n",
              "      <td>4638.00</td>\n",
              "      <td>0.91</td>\n",
              "      <td>0.29</td>\n",
              "      <td>0.00</td>\n",
              "      <td>1.00</td>\n",
              "      <td>1.00</td>\n",
              "      <td>1.00</td>\n",
              "      <td>1.00</td>\n",
              "    </tr>\n",
              "    <tr>\n",
              "      <th>inmueble_ingresos</th>\n",
              "      <td>10.00</td>\n",
              "      <td>1.00</td>\n",
              "      <td>0.00</td>\n",
              "      <td>1.00</td>\n",
              "      <td>1.00</td>\n",
              "      <td>1.00</td>\n",
              "      <td>1.00</td>\n",
              "      <td>1.00</td>\n",
              "    </tr>\n",
              "    <tr>\n",
              "      <th>alquiler_opcion_a_compra</th>\n",
              "      <td>3.00</td>\n",
              "      <td>1.00</td>\n",
              "      <td>0.00</td>\n",
              "      <td>1.00</td>\n",
              "      <td>1.00</td>\n",
              "      <td>1.00</td>\n",
              "      <td>1.00</td>\n",
              "      <td>1.00</td>\n",
              "    </tr>\n",
              "    <tr>\n",
              "      <th>nuda_propiedad</th>\n",
              "      <td>12.00</td>\n",
              "      <td>0.83</td>\n",
              "      <td>0.39</td>\n",
              "      <td>0.00</td>\n",
              "      <td>1.00</td>\n",
              "      <td>1.00</td>\n",
              "      <td>1.00</td>\n",
              "      <td>1.00</td>\n",
              "    </tr>\n",
              "    <tr>\n",
              "      <th>tiene_armario</th>\n",
              "      <td>4284.00</td>\n",
              "      <td>0.42</td>\n",
              "      <td>0.49</td>\n",
              "      <td>0.00</td>\n",
              "      <td>0.00</td>\n",
              "      <td>0.00</td>\n",
              "      <td>1.00</td>\n",
              "      <td>1.00</td>\n",
              "    </tr>\n",
              "    <tr>\n",
              "      <th>cancha_tenis</th>\n",
              "      <td>3144.00</td>\n",
              "      <td>0.00</td>\n",
              "      <td>0.03</td>\n",
              "      <td>0.00</td>\n",
              "      <td>0.00</td>\n",
              "      <td>0.00</td>\n",
              "      <td>0.00</td>\n",
              "      <td>1.00</td>\n",
              "    </tr>\n",
              "    <tr>\n",
              "      <th>carpinteria_exterior_doble_vidrio/pvc</th>\n",
              "      <td>3502.00</td>\n",
              "      <td>0.11</td>\n",
              "      <td>0.31</td>\n",
              "      <td>0.00</td>\n",
              "      <td>0.00</td>\n",
              "      <td>0.00</td>\n",
              "      <td>0.00</td>\n",
              "      <td>1.00</td>\n",
              "    </tr>\n",
              "    <tr>\n",
              "      <th>carpinteria_exterior_doble_vidrio/madera</th>\n",
              "      <td>3144.00</td>\n",
              "      <td>0.00</td>\n",
              "      <td>0.04</td>\n",
              "      <td>0.00</td>\n",
              "      <td>0.00</td>\n",
              "      <td>0.00</td>\n",
              "      <td>0.00</td>\n",
              "      <td>1.00</td>\n",
              "    </tr>\n",
              "    <tr>\n",
              "      <th>carpinteria_exterior_doble_vidrio/metal</th>\n",
              "      <td>3144.00</td>\n",
              "      <td>0.00</td>\n",
              "      <td>0.06</td>\n",
              "      <td>0.00</td>\n",
              "      <td>0.00</td>\n",
              "      <td>0.00</td>\n",
              "      <td>0.00</td>\n",
              "      <td>1.00</td>\n",
              "    </tr>\n",
              "    <tr>\n",
              "      <th>carpinteria_exterior_triple_vidrio/madera</th>\n",
              "      <td>3144.00</td>\n",
              "      <td>0.00</td>\n",
              "      <td>0.02</td>\n",
              "      <td>0.00</td>\n",
              "      <td>0.00</td>\n",
              "      <td>0.00</td>\n",
              "      <td>0.00</td>\n",
              "      <td>1.00</td>\n",
              "    </tr>\n",
              "    <tr>\n",
              "      <th>carpinteria_exterior_triple_vidrio/metal</th>\n",
              "      <td>3144.00</td>\n",
              "      <td>0.00</td>\n",
              "      <td>0.03</td>\n",
              "      <td>0.00</td>\n",
              "      <td>0.00</td>\n",
              "      <td>0.00</td>\n",
              "      <td>0.00</td>\n",
              "      <td>1.00</td>\n",
              "    </tr>\n",
              "    <tr>\n",
              "      <th>carpinteria_exterior_vidrio/pvc</th>\n",
              "      <td>3144.00</td>\n",
              "      <td>0.00</td>\n",
              "      <td>0.05</td>\n",
              "      <td>0.00</td>\n",
              "      <td>0.00</td>\n",
              "      <td>0.00</td>\n",
              "      <td>0.00</td>\n",
              "      <td>1.00</td>\n",
              "    </tr>\n",
              "    <tr>\n",
              "      <th>carpinteria_exterior_vidrio/madera</th>\n",
              "      <td>3144.00</td>\n",
              "      <td>0.00</td>\n",
              "      <td>0.06</td>\n",
              "      <td>0.00</td>\n",
              "      <td>0.00</td>\n",
              "      <td>0.00</td>\n",
              "      <td>0.00</td>\n",
              "      <td>1.00</td>\n",
              "    </tr>\n",
              "    <tr>\n",
              "      <th>carpinteria_exterior_vidrio/metal</th>\n",
              "      <td>3144.00</td>\n",
              "      <td>0.01</td>\n",
              "      <td>0.07</td>\n",
              "      <td>0.00</td>\n",
              "      <td>0.00</td>\n",
              "      <td>0.00</td>\n",
              "      <td>0.00</td>\n",
              "      <td>1.00</td>\n",
              "    </tr>\n",
              "    <tr>\n",
              "      <th>chimenea</th>\n",
              "      <td>3148.00</td>\n",
              "      <td>0.02</td>\n",
              "      <td>0.12</td>\n",
              "      <td>0.00</td>\n",
              "      <td>0.00</td>\n",
              "      <td>0.00</td>\n",
              "      <td>0.00</td>\n",
              "      <td>1.00</td>\n",
              "    </tr>\n",
              "    <tr>\n",
              "      <th>fibra_optica</th>\n",
              "      <td>3144.00</td>\n",
              "      <td>0.01</td>\n",
              "      <td>0.11</td>\n",
              "      <td>0.00</td>\n",
              "      <td>0.00</td>\n",
              "      <td>0.00</td>\n",
              "      <td>0.00</td>\n",
              "      <td>1.00</td>\n",
              "    </tr>\n",
              "    <tr>\n",
              "      <th>exterior</th>\n",
              "      <td>5577.00</td>\n",
              "      <td>0.46</td>\n",
              "      <td>0.50</td>\n",
              "      <td>0.00</td>\n",
              "      <td>0.00</td>\n",
              "      <td>0.00</td>\n",
              "      <td>1.00</td>\n",
              "      <td>1.00</td>\n",
              "    </tr>\n",
              "    <tr>\n",
              "      <th>interior</th>\n",
              "      <td>3146.00</td>\n",
              "      <td>0.01</td>\n",
              "      <td>0.08</td>\n",
              "      <td>0.00</td>\n",
              "      <td>0.00</td>\n",
              "      <td>0.00</td>\n",
              "      <td>0.00</td>\n",
              "      <td>1.00</td>\n",
              "    </tr>\n",
              "    <tr>\n",
              "      <th>interior_y_exterior</th>\n",
              "      <td>3144.00</td>\n",
              "      <td>0.00</td>\n",
              "      <td>0.05</td>\n",
              "      <td>0.00</td>\n",
              "      <td>0.00</td>\n",
              "      <td>0.00</td>\n",
              "      <td>0.00</td>\n",
              "      <td>1.00</td>\n",
              "    </tr>\n",
              "    <tr>\n",
              "      <th>porton_electrico</th>\n",
              "      <td>3144.00</td>\n",
              "      <td>0.01</td>\n",
              "      <td>0.07</td>\n",
              "      <td>0.00</td>\n",
              "      <td>0.00</td>\n",
              "      <td>0.00</td>\n",
              "      <td>0.00</td>\n",
              "      <td>1.00</td>\n",
              "    </tr>\n",
              "    <tr>\n",
              "      <th>videoportero</th>\n",
              "      <td>3426.00</td>\n",
              "      <td>0.10</td>\n",
              "      <td>0.30</td>\n",
              "      <td>0.00</td>\n",
              "      <td>0.00</td>\n",
              "      <td>0.00</td>\n",
              "      <td>0.00</td>\n",
              "      <td>1.00</td>\n",
              "    </tr>\n",
              "    <tr>\n",
              "      <th>lujosa</th>\n",
              "      <td>3145.00</td>\n",
              "      <td>0.45</td>\n",
              "      <td>0.50</td>\n",
              "      <td>0.00</td>\n",
              "      <td>0.00</td>\n",
              "      <td>0.00</td>\n",
              "      <td>1.00</td>\n",
              "      <td>1.00</td>\n",
              "    </tr>\n",
              "    <tr>\n",
              "      <th>precio</th>\n",
              "      <td>10205.00</td>\n",
              "      <td>898039.89</td>\n",
              "      <td>1188962.35</td>\n",
              "      <td>25000.00</td>\n",
              "      <td>239900.00</td>\n",
              "      <td>480000.00</td>\n",
              "      <td>1090000.00</td>\n",
              "      <td>19950000.00</td>\n",
              "    </tr>\n",
              "    <tr>\n",
              "      <th>codigo_Postal</th>\n",
              "      <td>10137.00</td>\n",
              "      <td>28021.10</td>\n",
              "      <td>15.07</td>\n",
              "      <td>28001.00</td>\n",
              "      <td>28009.00</td>\n",
              "      <td>28017.00</td>\n",
              "      <td>28032.00</td>\n",
              "      <td>28055.00</td>\n",
              "    </tr>\n",
              "    <tr>\n",
              "      <th>tiene_jardin</th>\n",
              "      <td>2118.00</td>\n",
              "      <td>0.26</td>\n",
              "      <td>0.44</td>\n",
              "      <td>0.00</td>\n",
              "      <td>0.00</td>\n",
              "      <td>0.00</td>\n",
              "      <td>1.00</td>\n",
              "      <td>1.00</td>\n",
              "    </tr>\n",
              "    <tr>\n",
              "      <th>num_visitas</th>\n",
              "      <td>2318.00</td>\n",
              "      <td>725.42</td>\n",
              "      <td>1004.11</td>\n",
              "      <td>1.00</td>\n",
              "      <td>5.00</td>\n",
              "      <td>428.50</td>\n",
              "      <td>1085.75</td>\n",
              "      <td>11368.00</td>\n",
              "    </tr>\n",
              "    <tr>\n",
              "      <th>puerta_seguridad</th>\n",
              "      <td>18.00</td>\n",
              "      <td>1.00</td>\n",
              "      <td>0.00</td>\n",
              "      <td>1.00</td>\n",
              "      <td>1.00</td>\n",
              "      <td>1.00</td>\n",
              "      <td>1.00</td>\n",
              "      <td>1.00</td>\n",
              "    </tr>\n",
              "    <tr>\n",
              "      <th>zonas_verdes</th>\n",
              "      <td>131.00</td>\n",
              "      <td>1.00</td>\n",
              "      <td>0.00</td>\n",
              "      <td>1.00</td>\n",
              "      <td>1.00</td>\n",
              "      <td>1.00</td>\n",
              "      <td>1.00</td>\n",
              "      <td>1.00</td>\n",
              "    </tr>\n",
              "    <tr>\n",
              "      <th>tiene_piscina</th>\n",
              "      <td>50.00</td>\n",
              "      <td>0.98</td>\n",
              "      <td>0.14</td>\n",
              "      <td>0.00</td>\n",
              "      <td>1.00</td>\n",
              "      <td>1.00</td>\n",
              "      <td>1.00</td>\n",
              "      <td>1.00</td>\n",
              "    </tr>\n",
              "    <tr>\n",
              "      <th>orientacion_este</th>\n",
              "      <td>1.00</td>\n",
              "      <td>1.00</td>\n",
              "      <td>NaN</td>\n",
              "      <td>1.00</td>\n",
              "      <td>1.00</td>\n",
              "      <td>1.00</td>\n",
              "      <td>1.00</td>\n",
              "      <td>1.00</td>\n",
              "    </tr>\n",
              "    <tr>\n",
              "      <th>orientacion_oeste</th>\n",
              "      <td>1.00</td>\n",
              "      <td>1.00</td>\n",
              "      <td>NaN</td>\n",
              "      <td>1.00</td>\n",
              "      <td>1.00</td>\n",
              "      <td>1.00</td>\n",
              "      <td>1.00</td>\n",
              "      <td>1.00</td>\n",
              "    </tr>\n",
              "    <tr>\n",
              "      <th>orientacion_sur</th>\n",
              "      <td>3.00</td>\n",
              "      <td>1.00</td>\n",
              "      <td>0.00</td>\n",
              "      <td>1.00</td>\n",
              "      <td>1.00</td>\n",
              "      <td>1.00</td>\n",
              "      <td>1.00</td>\n",
              "      <td>1.00</td>\n",
              "    </tr>\n",
              "  </tbody>\n",
              "</table>\n",
              "</div>"
            ],
            "text/plain": [
              "                                             count      mean        std  \\\n",
              "precio_anterior                              55.00 830694.55  977555.73   \n",
              "EUR/m2                                     7855.00   3745.76    3996.23   \n",
              "m2_constr                                 10198.00    138.65     150.97   \n",
              "cod_distrito                              10198.00      7.78       5.77   \n",
              "cod_barrio                                10137.00     80.95      57.73   \n",
              "dormitorios                                9976.00      2.83       1.42   \n",
              "balcon                                     1461.00      0.58       0.49   \n",
              "terraza                                    2499.00      0.77       0.42   \n",
              "trastero                                   2724.00      0.50       0.50   \n",
              "ascensor                                   4638.00      0.91       0.29   \n",
              "inmueble_ingresos                            10.00      1.00       0.00   \n",
              "alquiler_opcion_a_compra                      3.00      1.00       0.00   \n",
              "nuda_propiedad                               12.00      0.83       0.39   \n",
              "tiene_armario                              4284.00      0.42       0.49   \n",
              "cancha_tenis                               3144.00      0.00       0.03   \n",
              "carpinteria_exterior_doble_vidrio/pvc      3502.00      0.11       0.31   \n",
              "carpinteria_exterior_doble_vidrio/madera   3144.00      0.00       0.04   \n",
              "carpinteria_exterior_doble_vidrio/metal    3144.00      0.00       0.06   \n",
              "carpinteria_exterior_triple_vidrio/madera  3144.00      0.00       0.02   \n",
              "carpinteria_exterior_triple_vidrio/metal   3144.00      0.00       0.03   \n",
              "carpinteria_exterior_vidrio/pvc            3144.00      0.00       0.05   \n",
              "carpinteria_exterior_vidrio/madera         3144.00      0.00       0.06   \n",
              "carpinteria_exterior_vidrio/metal          3144.00      0.01       0.07   \n",
              "chimenea                                   3148.00      0.02       0.12   \n",
              "fibra_optica                               3144.00      0.01       0.11   \n",
              "exterior                                   5577.00      0.46       0.50   \n",
              "interior                                   3146.00      0.01       0.08   \n",
              "interior_y_exterior                        3144.00      0.00       0.05   \n",
              "porton_electrico                           3144.00      0.01       0.07   \n",
              "videoportero                               3426.00      0.10       0.30   \n",
              "lujosa                                     3145.00      0.45       0.50   \n",
              "precio                                    10205.00 898039.89 1188962.35   \n",
              "codigo_Postal                             10137.00  28021.10      15.07   \n",
              "tiene_jardin                               2118.00      0.26       0.44   \n",
              "num_visitas                                2318.00    725.42    1004.11   \n",
              "puerta_seguridad                             18.00      1.00       0.00   \n",
              "zonas_verdes                                131.00      1.00       0.00   \n",
              "tiene_piscina                                50.00      0.98       0.14   \n",
              "orientacion_este                              1.00      1.00        NaN   \n",
              "orientacion_oeste                             1.00      1.00        NaN   \n",
              "orientacion_sur                               3.00      1.00       0.00   \n",
              "\n",
              "                                               min       25%       50%  \\\n",
              "precio_anterior                           98100.00 201500.00 440000.00   \n",
              "EUR/m2                                        0.00      7.08   3020.00   \n",
              "m2_constr                                     0.00     68.00     99.00   \n",
              "cod_distrito                                  1.00      4.00      6.00   \n",
              "cod_barrio                                    1.00     36.00     64.00   \n",
              "dormitorios                                   0.00      2.00      3.00   \n",
              "balcon                                        0.00      0.00      1.00   \n",
              "terraza                                       0.00      1.00      1.00   \n",
              "trastero                                      0.00      0.00      1.00   \n",
              "ascensor                                      0.00      1.00      1.00   \n",
              "inmueble_ingresos                             1.00      1.00      1.00   \n",
              "alquiler_opcion_a_compra                      1.00      1.00      1.00   \n",
              "nuda_propiedad                                0.00      1.00      1.00   \n",
              "tiene_armario                                 0.00      0.00      0.00   \n",
              "cancha_tenis                                  0.00      0.00      0.00   \n",
              "carpinteria_exterior_doble_vidrio/pvc         0.00      0.00      0.00   \n",
              "carpinteria_exterior_doble_vidrio/madera      0.00      0.00      0.00   \n",
              "carpinteria_exterior_doble_vidrio/metal       0.00      0.00      0.00   \n",
              "carpinteria_exterior_triple_vidrio/madera     0.00      0.00      0.00   \n",
              "carpinteria_exterior_triple_vidrio/metal      0.00      0.00      0.00   \n",
              "carpinteria_exterior_vidrio/pvc               0.00      0.00      0.00   \n",
              "carpinteria_exterior_vidrio/madera            0.00      0.00      0.00   \n",
              "carpinteria_exterior_vidrio/metal             0.00      0.00      0.00   \n",
              "chimenea                                      0.00      0.00      0.00   \n",
              "fibra_optica                                  0.00      0.00      0.00   \n",
              "exterior                                      0.00      0.00      0.00   \n",
              "interior                                      0.00      0.00      0.00   \n",
              "interior_y_exterior                           0.00      0.00      0.00   \n",
              "porton_electrico                              0.00      0.00      0.00   \n",
              "videoportero                                  0.00      0.00      0.00   \n",
              "lujosa                                        0.00      0.00      0.00   \n",
              "precio                                    25000.00 239900.00 480000.00   \n",
              "codigo_Postal                             28001.00  28009.00  28017.00   \n",
              "tiene_jardin                                  0.00      0.00      0.00   \n",
              "num_visitas                                   1.00      5.00    428.50   \n",
              "puerta_seguridad                              1.00      1.00      1.00   \n",
              "zonas_verdes                                  1.00      1.00      1.00   \n",
              "tiene_piscina                                 0.00      1.00      1.00   \n",
              "orientacion_este                              1.00      1.00      1.00   \n",
              "orientacion_oeste                             1.00      1.00      1.00   \n",
              "orientacion_sur                               1.00      1.00      1.00   \n",
              "\n",
              "                                                 75%         max  \n",
              "precio_anterior                            955000.00  4900000.00  \n",
              "EUR/m2                                       6360.00    27708.00  \n",
              "m2_constr                                     150.00     4574.00  \n",
              "cod_distrito                                   12.00       21.00  \n",
              "cod_barrio                                    123.00      215.00  \n",
              "dormitorios                                     3.00       24.00  \n",
              "balcon                                          1.00        1.00  \n",
              "terraza                                         1.00        1.00  \n",
              "trastero                                        1.00        1.00  \n",
              "ascensor                                        1.00        1.00  \n",
              "inmueble_ingresos                               1.00        1.00  \n",
              "alquiler_opcion_a_compra                        1.00        1.00  \n",
              "nuda_propiedad                                  1.00        1.00  \n",
              "tiene_armario                                   1.00        1.00  \n",
              "cancha_tenis                                    0.00        1.00  \n",
              "carpinteria_exterior_doble_vidrio/pvc           0.00        1.00  \n",
              "carpinteria_exterior_doble_vidrio/madera        0.00        1.00  \n",
              "carpinteria_exterior_doble_vidrio/metal         0.00        1.00  \n",
              "carpinteria_exterior_triple_vidrio/madera       0.00        1.00  \n",
              "carpinteria_exterior_triple_vidrio/metal        0.00        1.00  \n",
              "carpinteria_exterior_vidrio/pvc                 0.00        1.00  \n",
              "carpinteria_exterior_vidrio/madera              0.00        1.00  \n",
              "carpinteria_exterior_vidrio/metal               0.00        1.00  \n",
              "chimenea                                        0.00        1.00  \n",
              "fibra_optica                                    0.00        1.00  \n",
              "exterior                                        1.00        1.00  \n",
              "interior                                        0.00        1.00  \n",
              "interior_y_exterior                             0.00        1.00  \n",
              "porton_electrico                                0.00        1.00  \n",
              "videoportero                                    0.00        1.00  \n",
              "lujosa                                          1.00        1.00  \n",
              "precio                                    1090000.00 19950000.00  \n",
              "codigo_Postal                               28032.00    28055.00  \n",
              "tiene_jardin                                    1.00        1.00  \n",
              "num_visitas                                  1085.75    11368.00  \n",
              "puerta_seguridad                                1.00        1.00  \n",
              "zonas_verdes                                    1.00        1.00  \n",
              "tiene_piscina                                   1.00        1.00  \n",
              "orientacion_este                                1.00        1.00  \n",
              "orientacion_oeste                               1.00        1.00  \n",
              "orientacion_sur                                 1.00        1.00  "
            ]
          },
          "execution_count": 4633,
          "metadata": {},
          "output_type": "execute_result"
        }
      ],
      "source": [
        "df17.describe().T"
      ]
    },
    {
      "cell_type": "code",
      "execution_count": 4634,
      "metadata": {
        "id": "yQicb7GixX5B"
      },
      "outputs": [
        {
          "data": {
            "text/plain": [
              "0"
            ]
          },
          "execution_count": 4634,
          "metadata": {},
          "output_type": "execute_result"
        }
      ],
      "source": [
        "df17[\"url\"].isna().sum()"
      ]
    },
    {
      "cell_type": "markdown",
      "metadata": {
        "id": "ui2vLonMxX5J"
      },
      "source": [
        "## m2_constr"
      ]
    },
    {
      "cell_type": "code",
      "execution_count": 4635,
      "metadata": {
        "id": "NRWp1TI4xX5J"
      },
      "outputs": [
        {
          "data": {
            "text/plain": [
              "count   10198.00\n",
              "mean      138.65\n",
              "std       150.97\n",
              "min         0.00\n",
              "25%        68.00\n",
              "50%        99.00\n",
              "75%       150.00\n",
              "max      4574.00\n",
              "Name: m2_constr, dtype: float64"
            ]
          },
          "execution_count": 4635,
          "metadata": {},
          "output_type": "execute_result"
        }
      ],
      "source": [
        "# Analisis descriptivo de la columna m2/constr\n",
        "df17[\"m2_constr\"].describe()"
      ]
    },
    {
      "cell_type": "code",
      "execution_count": 4636,
      "metadata": {
        "id": "C0p1Ty8ixX5K"
      },
      "outputs": [
        {
          "data": {
            "text/plain": [
              "title                3\n",
              "url                  3\n",
              "precio_anterior      0\n",
              "descuento            0\n",
              "EUR/m2               1\n",
              "                    ..\n",
              "letrace              0\n",
              "portero              0\n",
              "orientacion_este     0\n",
              "orientacion_oeste    0\n",
              "orientacion_sur      0\n",
              "Length: 89, dtype: int64"
            ]
          },
          "execution_count": 4636,
          "metadata": {},
          "output_type": "execute_result"
        }
      ],
      "source": [
        "\n",
        "#Filtro de valores menores a 20 metros cuadrados. Se analizo con 10 tambien y siguen siendo mas de 200\n",
        "df17[df17[\"m2_constr\"] <= 10].count()"
      ]
    },
    {
      "cell_type": "markdown",
      "metadata": {
        "id": "3xv-DCzQxX5M"
      },
      "source": [
        "#en la web ponen que tiene 10 m2, y por las fotos lo parece"
      ]
    },
    {
      "cell_type": "code",
      "execution_count": 4637,
      "metadata": {
        "id": "l1jcFQ-xxX5M"
      },
      "outputs": [
        {
          "data": {
            "text/html": [
              "<div>\n",
              "<style scoped>\n",
              "    .dataframe tbody tr th:only-of-type {\n",
              "        vertical-align: middle;\n",
              "    }\n",
              "\n",
              "    .dataframe tbody tr th {\n",
              "        vertical-align: top;\n",
              "    }\n",
              "\n",
              "    .dataframe thead th {\n",
              "        text-align: right;\n",
              "    }\n",
              "</style>\n",
              "<table border=\"1\" class=\"dataframe\">\n",
              "  <thead>\n",
              "    <tr style=\"text-align: right;\">\n",
              "      <th></th>\n",
              "      <th>url</th>\n",
              "      <th>dormitorios</th>\n",
              "      <th>m2_constr</th>\n",
              "    </tr>\n",
              "  </thead>\n",
              "  <tbody>\n",
              "    <tr>\n",
              "      <th>2394</th>\n",
              "      <td>https://www.indomio.es/anuncios/96765659/</td>\n",
              "      <td>10.00</td>\n",
              "      <td>4574.00</td>\n",
              "    </tr>\n",
              "  </tbody>\n",
              "</table>\n",
              "</div>"
            ],
            "text/plain": [
              "                                            url  dormitorios  m2_constr\n",
              "2394  https://www.indomio.es/anuncios/96765659/        10.00    4574.00"
            ]
          },
          "execution_count": 4637,
          "metadata": {},
          "output_type": "execute_result"
        }
      ],
      "source": [
        "#voy a mirar los valores de m2_constr>1000\n",
        "df17.query(\"m2_constr>= 4000\")[['url','dormitorios','m2_constr']]"
      ]
    },
    {
      "cell_type": "code",
      "execution_count": 4638,
      "metadata": {
        "id": "zqKhfSFRxX5N"
      },
      "outputs": [],
      "source": [
        "# Eliminar la fila donde la columna 'url' es igual a la URL especificada\n",
        "df17 = df17[df17[\"url\"] != \"https://www.indomio.es/anuncios/96246263/\"]\n"
      ]
    },
    {
      "cell_type": "code",
      "execution_count": 4639,
      "metadata": {
        "id": "gwJF6JhMxX5O"
      },
      "outputs": [],
      "source": [
        "# Resetear el índice del DataFrame\n",
        "df17.reset_index(drop=True, inplace=True)"
      ]
    },
    {
      "cell_type": "code",
      "execution_count": 4640,
      "metadata": {
        "id": "mexui_XHxX5O"
      },
      "outputs": [],
      "source": [
        "#en la informacion dela web https://www.pisos.com/comprar/chalet-moncloa_aravaca_aravaca28023-4710772760_109700/ se dice 800 m2\n",
        "\n",
        "# Actualizar el valor de m2_contr para la fila cuya URL contiene la cadena proporcionada\n",
        "url_especifica = 'https://www.pisos.com/comprar/chalet-moncloa_aravaca_aravaca28023-'\n",
        "#dfEDA.loc[dfEDA['url'].str.contains(url_especifica), ['m2_constr','dormitorios','banos','tiene_piscina',\"num_garajes\",\"trastero\",\"estado\"] = [800,5,5,1,2,1,'Obra nueva']\n",
        "df17.loc[df17['url'].str.contains(url_especifica), ['m2_constr', 'dormitorios', 'banos', 'tiene_piscina', 'num_garajes', 'trastero', 'estado']] = [800, 5, 5, 1, 2, 1,'Obra nueva']\n",
        "url_especifica='https://www.indomio.es/anuncios/95261315/'\n",
        "df17.loc[df17['url'].str.contains(url_especifica), ['m2_constr',  'tiene_piscina', 'num_garajes', 'trastero', 'estado']] = [271,1,0, 0,'Buen Estado']\n",
        "url_especifica='https://www.indomio.es/anuncios/94926741/'\n",
        "df17.loc[df17['url'].str.contains(url_especifica), ['nuda_propiedad',  'tiene_piscina', 'num_garajes', 'trastero']] = [1,0,0,0]\n",
        "#Elimino https://www.indomio.es/anuncios/91050501/ por que es un edificio con 5 estudios, no tenemos metros\n",
        "url_a_eliminar = 'https://www.indomio.es/anuncios/91050501/'\n",
        "df17 = df17[df17['url'] != url_a_eliminar]\n",
        "df17.loc[df17[\"m2_constr\"] == \"3 baños\", \"m2_constr\"] = np.nan\n",
        "\n",
        "# se elimina la url https://www.pisos.com/comprar/piso-fontarron-47524209698_100600/ por que es un restaurante en venta\n",
        "\n"
      ]
    },
    {
      "cell_type": "code",
      "execution_count": 4641,
      "metadata": {
        "id": "u93EzgIhxX5O"
      },
      "outputs": [],
      "source": [
        "df17.reset_index(drop=True, inplace=True)"
      ]
    },
    {
      "cell_type": "code",
      "execution_count": 4642,
      "metadata": {
        "id": "peqoxKk8xX5P"
      },
      "outputs": [],
      "source": [
        "#quedan 5 viviendas sin m2_constr"
      ]
    },
    {
      "cell_type": "markdown",
      "metadata": {
        "id": "wMauTwWCxX5P"
      },
      "source": [
        "#### distrito"
      ]
    },
    {
      "cell_type": "code",
      "execution_count": 4643,
      "metadata": {
        "id": "7-aV2hlRjhhG"
      },
      "outputs": [
        {
          "data": {
            "text/plain": [
              "distrito\n",
              "Centro                 1808\n",
              "Salamanca              1532\n",
              "Chamartín               640\n",
              "Chamberí                612\n",
              "Carabanchel             541\n",
              "Puente De Vallecas      530\n",
              "Tetuán                  467\n",
              "Fuencarral-El Pardo     432\n",
              "Retiro                  428\n",
              "Latina                  416\n",
              "Ciudad Lineal           409\n",
              "Moncloa-Aravaca         380\n",
              "San Blas-Canillejas     351\n",
              "Arganzuela              298\n",
              "Hortaleza               291\n",
              "Villaverde              290\n",
              "Villa De Vallecas       233\n",
              "Usera                   196\n",
              "Vicálvaro               137\n",
              "Moratalaz               105\n",
              "Barajas                 100\n",
              "NaN                       7\n",
              "Name: count, dtype: int64"
            ]
          },
          "execution_count": 4643,
          "metadata": {},
          "output_type": "execute_result"
        }
      ],
      "source": [
        "df17['distrito'].value_counts(dropna=False)"
      ]
    },
    {
      "cell_type": "code",
      "execution_count": 4644,
      "metadata": {
        "id": "jwomHMKyxX5P"
      },
      "outputs": [
        {
          "data": {
            "text/plain": [
              "array(['Salamanca', 'Barajas', 'Arganzuela', 'Chamartín', 'Tetuán',\n",
              "       'Chamberí', 'Villaverde', 'Latina', 'Centro',\n",
              "       'Fuencarral-El Pardo', 'Villa De Vallecas', 'Puente De Vallecas',\n",
              "       'Retiro', 'San Blas-Canillejas', 'Ciudad Lineal', 'Hortaleza',\n",
              "       'Moncloa-Aravaca', 'Carabanchel', 'Vicálvaro', 'Usera',\n",
              "       'Moratalaz', nan], dtype=object)"
            ]
          },
          "execution_count": 4644,
          "metadata": {},
          "output_type": "execute_result"
        }
      ],
      "source": [
        "df17[\"distrito\"].unique()"
      ]
    },
    {
      "cell_type": "code",
      "execution_count": 4645,
      "metadata": {
        "id": "uQEULGwVxX5P"
      },
      "outputs": [],
      "source": [
        "# Ajustar la configuración para mostrar más caracteres en las columnas\n",
        "pd.set_option('display.max_colwidth', None)"
      ]
    },
    {
      "cell_type": "markdown",
      "metadata": {
        "id": "uhDFIpU7xX5Q"
      },
      "source": [
        "### nuda propiedad son imuebles sin posesion, se estan incluyendo inmuebles que se tiene la posesion pero no el uso y disfrute por que alguien tiene el usufructo, tabien se incluye inmuebles ocupados"
      ]
    },
    {
      "cell_type": "code",
      "execution_count": 4646,
      "metadata": {
        "id": "Z5yx4j-5xX5Q"
      },
      "outputs": [
        {
          "data": {
            "text/html": [
              "<div>\n",
              "<style scoped>\n",
              "    .dataframe tbody tr th:only-of-type {\n",
              "        vertical-align: middle;\n",
              "    }\n",
              "\n",
              "    .dataframe tbody tr th {\n",
              "        vertical-align: top;\n",
              "    }\n",
              "\n",
              "    .dataframe thead th {\n",
              "        text-align: right;\n",
              "    }\n",
              "</style>\n",
              "<table border=\"1\" class=\"dataframe\">\n",
              "  <thead>\n",
              "    <tr style=\"text-align: right;\">\n",
              "      <th></th>\n",
              "      <th>distrito</th>\n",
              "      <th>url</th>\n",
              "      <th>cod_distrito</th>\n",
              "      <th>barrio</th>\n",
              "      <th>cod_barrio</th>\n",
              "      <th>m2_constr</th>\n",
              "      <th>planta</th>\n",
              "      <th>dormitorios</th>\n",
              "      <th>banos</th>\n",
              "      <th>precio</th>\n",
              "      <th>estado</th>\n",
              "      <th>tipologia</th>\n",
              "      <th>terraza</th>\n",
              "    </tr>\n",
              "  </thead>\n",
              "  <tbody>\n",
              "    <tr>\n",
              "      <th>9391</th>\n",
              "      <td>NaN</td>\n",
              "      <td>https://www.pisosmadrid.com.es/propiedad/3890778-piso-en-venta-en-madrid</td>\n",
              "      <td>NaN</td>\n",
              "      <td>NaN</td>\n",
              "      <td>NaN</td>\n",
              "      <td>26.00</td>\n",
              "      <td>NaN</td>\n",
              "      <td>0.00</td>\n",
              "      <td>0.00</td>\n",
              "      <td>79900</td>\n",
              "      <td>NaN</td>\n",
              "      <td>Piso</td>\n",
              "      <td>NaN</td>\n",
              "    </tr>\n",
              "    <tr>\n",
              "      <th>9584</th>\n",
              "      <td>NaN</td>\n",
              "      <td>https://www.pisosmadrid.com.es/propiedad/3961341-piso-en-venta-en-madrid</td>\n",
              "      <td>NaN</td>\n",
              "      <td>NaN</td>\n",
              "      <td>NaN</td>\n",
              "      <td>109.00</td>\n",
              "      <td>NaN</td>\n",
              "      <td>1.00</td>\n",
              "      <td>1.00</td>\n",
              "      <td>138600</td>\n",
              "      <td>NaN</td>\n",
              "      <td>Piso</td>\n",
              "      <td>NaN</td>\n",
              "    </tr>\n",
              "    <tr>\n",
              "      <th>9592</th>\n",
              "      <td>NaN</td>\n",
              "      <td>https://www.pisosmadrid.com.es/propiedad/3963177-piso-en-venta-en-arturo-soria-madrid</td>\n",
              "      <td>NaN</td>\n",
              "      <td>NaN</td>\n",
              "      <td>NaN</td>\n",
              "      <td>70.00</td>\n",
              "      <td>NaN</td>\n",
              "      <td>1.00</td>\n",
              "      <td>1.00</td>\n",
              "      <td>450410</td>\n",
              "      <td>NaN</td>\n",
              "      <td>Piso</td>\n",
              "      <td>NaN</td>\n",
              "    </tr>\n",
              "    <tr>\n",
              "      <th>9680</th>\n",
              "      <td>NaN</td>\n",
              "      <td>https://www.pisosmadrid.com.es/propiedad/3998979-piso-en-venta-en-vallecas-madrid</td>\n",
              "      <td>NaN</td>\n",
              "      <td>NaN</td>\n",
              "      <td>NaN</td>\n",
              "      <td>98.00</td>\n",
              "      <td>NaN</td>\n",
              "      <td>2.00</td>\n",
              "      <td>2.00</td>\n",
              "      <td>205000</td>\n",
              "      <td>NaN</td>\n",
              "      <td>Piso</td>\n",
              "      <td>NaN</td>\n",
              "    </tr>\n",
              "    <tr>\n",
              "      <th>9794</th>\n",
              "      <td>NaN</td>\n",
              "      <td>https://www.pisosmadrid.com.es/propiedad/4029531-piso-en-venta-en-madrid</td>\n",
              "      <td>NaN</td>\n",
              "      <td>NaN</td>\n",
              "      <td>NaN</td>\n",
              "      <td>81.00</td>\n",
              "      <td>NaN</td>\n",
              "      <td>3.00</td>\n",
              "      <td>1.00</td>\n",
              "      <td>295000</td>\n",
              "      <td>NaN</td>\n",
              "      <td>Piso</td>\n",
              "      <td>NaN</td>\n",
              "    </tr>\n",
              "    <tr>\n",
              "      <th>9839</th>\n",
              "      <td>NaN</td>\n",
              "      <td>https://www.pisosmadrid.com.es/propiedad/4042093-piso-en-venta-en-madrid</td>\n",
              "      <td>NaN</td>\n",
              "      <td>NaN</td>\n",
              "      <td>NaN</td>\n",
              "      <td>139.00</td>\n",
              "      <td>NaN</td>\n",
              "      <td>3.00</td>\n",
              "      <td>2.00</td>\n",
              "      <td>426000</td>\n",
              "      <td>NaN</td>\n",
              "      <td>Piso</td>\n",
              "      <td>NaN</td>\n",
              "    </tr>\n",
              "    <tr>\n",
              "      <th>9960</th>\n",
              "      <td>NaN</td>\n",
              "      <td>https://www.pisosmadrid.com.es/propiedad/4056566-piso-en-venta-en-madrid</td>\n",
              "      <td>NaN</td>\n",
              "      <td>NaN</td>\n",
              "      <td>NaN</td>\n",
              "      <td>73.00</td>\n",
              "      <td>NaN</td>\n",
              "      <td>2.00</td>\n",
              "      <td>2.00</td>\n",
              "      <td>395000</td>\n",
              "      <td>NaN</td>\n",
              "      <td>Piso</td>\n",
              "      <td>NaN</td>\n",
              "    </tr>\n",
              "  </tbody>\n",
              "</table>\n",
              "</div>"
            ],
            "text/plain": [
              "     distrito  \\\n",
              "9391      NaN   \n",
              "9584      NaN   \n",
              "9592      NaN   \n",
              "9680      NaN   \n",
              "9794      NaN   \n",
              "9839      NaN   \n",
              "9960      NaN   \n",
              "\n",
              "                                                                                        url  \\\n",
              "9391               https://www.pisosmadrid.com.es/propiedad/3890778-piso-en-venta-en-madrid   \n",
              "9584               https://www.pisosmadrid.com.es/propiedad/3961341-piso-en-venta-en-madrid   \n",
              "9592  https://www.pisosmadrid.com.es/propiedad/3963177-piso-en-venta-en-arturo-soria-madrid   \n",
              "9680      https://www.pisosmadrid.com.es/propiedad/3998979-piso-en-venta-en-vallecas-madrid   \n",
              "9794               https://www.pisosmadrid.com.es/propiedad/4029531-piso-en-venta-en-madrid   \n",
              "9839               https://www.pisosmadrid.com.es/propiedad/4042093-piso-en-venta-en-madrid   \n",
              "9960               https://www.pisosmadrid.com.es/propiedad/4056566-piso-en-venta-en-madrid   \n",
              "\n",
              "      cod_distrito barrio  cod_barrio  m2_constr planta  dormitorios banos  \\\n",
              "9391           NaN    NaN         NaN      26.00    NaN         0.00  0.00   \n",
              "9584           NaN    NaN         NaN     109.00    NaN         1.00  1.00   \n",
              "9592           NaN    NaN         NaN      70.00    NaN         1.00  1.00   \n",
              "9680           NaN    NaN         NaN      98.00    NaN         2.00  2.00   \n",
              "9794           NaN    NaN         NaN      81.00    NaN         3.00  1.00   \n",
              "9839           NaN    NaN         NaN     139.00    NaN         3.00  2.00   \n",
              "9960           NaN    NaN         NaN      73.00    NaN         2.00  2.00   \n",
              "\n",
              "      precio estado tipologia  terraza  \n",
              "9391   79900    NaN      Piso      NaN  \n",
              "9584  138600    NaN      Piso      NaN  \n",
              "9592  450410    NaN      Piso      NaN  \n",
              "9680  205000    NaN      Piso      NaN  \n",
              "9794  295000    NaN      Piso      NaN  \n",
              "9839  426000    NaN      Piso      NaN  \n",
              "9960  395000    NaN      Piso      NaN  "
            ]
          },
          "execution_count": 4646,
          "metadata": {},
          "output_type": "execute_result"
        }
      ],
      "source": [
        "df17.query(\"cod_distrito.isnull()\")[['distrito','url','cod_distrito','barrio','cod_barrio','m2_constr','planta','dormitorios','banos','precio','estado','tipologia','terraza']]"
      ]
    },
    {
      "cell_type": "markdown",
      "metadata": {
        "id": "w6Un3SFWxX5R"
      },
      "source": [
        "No tenemos forma de conocer la ubicacion de https://www.pisosmadrid.com.es/propiedad/3930386-piso-en-venta-en-madrid\t, lo elimino del dataset"
      ]
    },
    {
      "cell_type": "code",
      "execution_count": 4647,
      "metadata": {},
      "outputs": [
        {
          "data": {
            "text/plain": [
              "title                68\n",
              "url                  68\n",
              "precio_anterior       0\n",
              "descuento             0\n",
              "EUR/m2               19\n",
              "                     ..\n",
              "portero               0\n",
              "orientacion_este      0\n",
              "orientacion_oeste     0\n",
              "orientacion_sur       0\n",
              "num_garajes           0\n",
              "Length: 90, dtype: int64"
            ]
          },
          "execution_count": 4647,
          "metadata": {},
          "output_type": "execute_result"
        }
      ],
      "source": [
        "df17.query(\"cod_barrio.isnull()\").count()"
      ]
    },
    {
      "cell_type": "code",
      "execution_count": 4648,
      "metadata": {
        "id": "ex6UI8lrxX5V"
      },
      "outputs": [
        {
          "data": {
            "text/plain": [
              "num_visitas\n",
              "NaN        7885\n",
              "3.00        149\n",
              "4.00        139\n",
              "2.00        126\n",
              "5.00         94\n",
              "           ... \n",
              "2175.00       1\n",
              "414.00        1\n",
              "2279.00       1\n",
              "322.00        1\n",
              "1923.00       1\n",
              "Name: count, Length: 1103, dtype: int64"
            ]
          },
          "execution_count": 4648,
          "metadata": {},
          "output_type": "execute_result"
        }
      ],
      "source": [
        "df17['num_visitas'].value_counts(dropna=False)"
      ]
    },
    {
      "cell_type": "markdown",
      "metadata": {},
      "source": [
        "#### portero"
      ]
    },
    {
      "cell_type": "code",
      "execution_count": 4649,
      "metadata": {
        "id": "8bKI0681xX5V"
      },
      "outputs": [
        {
          "data": {
            "text/plain": [
              "portero\n",
              "NaN                      10004\n",
              "Portero todo el día        145\n",
              "1.0                         41\n",
              "1                            6\n",
              "Portero media jornada        4\n",
              "todo el dia                  2\n",
              "media jornada                1\n",
              "Name: count, dtype: int64"
            ]
          },
          "execution_count": 4649,
          "metadata": {},
          "output_type": "execute_result"
        }
      ],
      "source": [
        "df17[\"portero\"].value_counts(dropna=False)"
      ]
    },
    {
      "cell_type": "code",
      "execution_count": 4650,
      "metadata": {},
      "outputs": [],
      "source": [
        "\n",
        "df17['portero'] = df17['portero'].replace('1', 'Portero todo el día')\n",
        "df17['portero'] = df17['portero'].replace('1.0', 'Portero todo el día')\n",
        "df17['portero'] = df17['portero'].replace('todo el dia', 'Portero todo el día')\n",
        "df17['portero'] = df17['portero'].replace('media jornada', 'Portero media jornada')"
      ]
    },
    {
      "cell_type": "markdown",
      "metadata": {},
      "source": [
        "## gastos comunidad"
      ]
    },
    {
      "cell_type": "code",
      "execution_count": 4651,
      "metadata": {},
      "outputs": [],
      "source": [
        "\n",
        "df17['gastos_comunidad'] = df17['gastos_comunidad'].str.replace('Ningún gasto de comunidad', '0')\n",
        "df17['gastos_comunidad'] = df17['gastos_comunidad'].str.replace(',00', '')\n",
        "df17['gastos_comunidad'] = df17['gastos_comunidad'].str.replace('.', '').str.strip()\n",
        "df17['gastos_comunidad'] = df17['gastos_comunidad'].str.replace('37,50', '38').str.strip()"
      ]
    },
    {
      "cell_type": "markdown",
      "metadata": {
        "id": "7uHIJNldxX5W"
      },
      "source": [
        "##  terraza"
      ]
    },
    {
      "cell_type": "code",
      "execution_count": 4652,
      "metadata": {
        "id": "BBCUgPO3xX5W"
      },
      "outputs": [
        {
          "data": {
            "text/plain": [
              "terraza\n",
              "NaN     7705\n",
              "1.00    1929\n",
              "0.00     569\n",
              "Name: count, dtype: int64"
            ]
          },
          "execution_count": 4652,
          "metadata": {},
          "output_type": "execute_result"
        }
      ],
      "source": [
        "df17[\"terraza\"].value_counts(dropna=False)"
      ]
    },
    {
      "cell_type": "code",
      "execution_count": 4653,
      "metadata": {},
      "outputs": [],
      "source": [
        "df17['tiene_armario'] = df17['tiene_armario'].replace(0.0, np.nan)\n",
        "df17['tiene_piscina'] = df17['tiene_piscina'].replace(0, np.nan)"
      ]
    },
    {
      "cell_type": "markdown",
      "metadata": {},
      "source": [
        "# calefaccion"
      ]
    },
    {
      "cell_type": "code",
      "execution_count": 4654,
      "metadata": {},
      "outputs": [
        {
          "data": {
            "text/plain": [
              "calefaccion\n",
              "NaN                                                   6724\n",
              "Central                                                905\n",
              "Individual                                             583\n",
              "1.0                                                    565\n",
              "Gas natural                                            520\n",
              " Gas Natural                                           251\n",
              " Eléctrica                                             123\n",
              "Eléctrica                                              113\n",
              " Individual                                            104\n",
              " Central                                                87\n",
              "Individual, alimentación eléctrica                      34\n",
              "Individual, por radiadores, de gas                      30\n",
              "Individual - gas natural                                18\n",
              "Central, por radiadores, de gas                         13\n",
              "Suelo radiante                                          11\n",
              "Individual, por radiadores                              10\n",
              "Gasoil                                                   9\n",
              "Aerotermia                                               7\n",
              "Individual, de gas                                       6\n",
              "Individual, por radiadores, alimentación eléctrica       5\n",
              " Suelo Radiante                                          5\n",
              "Individual, suelo radiante                               5\n",
              "Central, de gasóil                                       5\n",
              "Central, por radiadores                                  4\n",
              "Bomba frio calor                                         3\n",
              "Comunitario                                              3\n",
              "Termo electrico                                          3\n",
              "Individual, por aire, alimentación eléctrica             3\n",
              "gas natural                                              3\n",
              "Central, suelo radiante                                  2\n",
              "Individual, de gasóil                                    2\n",
              "Gas particular                                           2\n",
              "Climatización                                            2\n",
              "central                                                  2\n",
              "Calefaccion individual                                   2\n",
              "Calefaccion comunitaria                                  2\n",
              "Individual, por aire, por bomba de calor                 2\n",
              "radiadores gas natural                                   2\n",
              "Individual, suelo radiante, de gas                       2\n",
              "aerotermia suelo radiante                                1\n",
              "central por gas                                          1\n",
              " Aerotermia                                              1\n",
              "G/n                                                      1\n",
              "Agua caliente y calefacción central con contador i       1\n",
              "aire                                                     1\n",
              "Centralizada                                             1\n",
              "Bomba de calor                                           1\n",
              " Propano                                                 1\n",
              "Chimenea                                                 1\n",
              "Calefacción central individualizada                      1\n",
              "Conducto                                                 1\n",
              "Central, de gas                                          1\n",
              "Central, alimentación eléctrica                          1\n",
              "Central, por aire, de gas                                1\n",
              "Central, suelo radiante, de gas                          1\n",
              "Individual, por radiadores, de gasóil                    1\n",
              "Central, por radiadores, de gasóil                       1\n",
              "Individual con gas natural                               1\n",
              "Gas natural y biomasa                                    1\n",
              "Climatizaciòn                                            1\n",
              "Comunitaria                                              1\n",
              "Geotermia y aerotermia                                   1\n",
              "Contadores individuales                                  1\n",
              "Bomba frio/calor                                         1\n",
              "Suelo radiante agua                                      1\n",
              "Central individualizada                                  1\n",
              "Climatizacion                                            1\n",
              "Bomba frio-calor                                         1\n",
              "Por climatizacion                                        1\n",
              "individual gas natural                                   1\n",
              "Name: count, dtype: int64"
            ]
          },
          "execution_count": 4654,
          "metadata": {},
          "output_type": "execute_result"
        }
      ],
      "source": [
        "df17[\"calefaccion\"].value_counts(dropna=False)"
      ]
    },
    {
      "cell_type": "code",
      "execution_count": 4655,
      "metadata": {
        "id": "3L9qiUKuxX5X"
      },
      "outputs": [],
      "source": [
        "\n",
        "\n",
        "# Supongamos que df17 es tu DataFrame\n",
        "#df17['portero'] = df17['portero'].replace('0', np.nan)\n",
        "df17['calefaccion'] = df17['calefaccion'].replace('0.0', np.nan)\n",
        "df17['calefaccion'] = df17['calefaccion'].replace('Climatización', 'climatizacion')\n",
        "df17['calefaccion'] = df17['calefaccion'].replace('Climatizaciòn', 'climatizacion')\n",
        "df17['calefaccion']=df17['calefaccion'].str.strip()"
      ]
    },
    {
      "cell_type": "code",
      "execution_count": 4656,
      "metadata": {
        "id": "dlh5qK7qxX5Y"
      },
      "outputs": [
        {
          "name": "stdout",
          "output_type": "stream",
          "text": [
            "Central: ['Central, por aire, de gas', 'Calefaccion comunitaria', 'Central, suelo radiante, de gas', 'Central, de gas', 'Agua caliente y calefacción central con contador i', 'Central', 'Comunitario', 'Centralizada', 'Central, alimentación eléctrica', 'Central, por radiadores, de gasóil', 'Central, suelo radiante', 'Central, por radiadores, de gas', 'central por gas', 'Comunitaria', 'Central, de gasóil', 'Central, por radiadores', 'Central individualizada', 'central', 'Calefacción central individualizada']\n",
            "Individual: ['Individual', 'individual gas natural', 'Individual, de gas', 'Termo electrico', 'Individual con gas natural', 'Bomba de calor', 'Climatizacion', 'Individual, suelo radiante, de gas', 'Individual, por radiadores', 'climatizacion', 'Bomba frio/calor', 'Bomba frio-calor', 'Por climatizacion', 'Contadores individuales', 'Individual, por radiadores, de gas', 'Individual, por radiadores, de gasóil', 'Individual, por radiadores, alimentación eléctrica', 'Individual, suelo radiante', 'Individual, alimentación eléctrica', 'Individual, de gasóil', 'Individual, por aire, por bomba de calor', 'Chimenea', 'Bomba frio calor', 'Individual, por aire, alimentación eléctrica', 'Gas particular', 'Individual - gas natural', 'Calefaccion individual']\n",
            "No clasificado: ['Aerotermia', 'aire', 'Conducto', 'radiadores gas natural', 'Gas natural y biomasa', 'Gasoil', 'gas natural', 'Suelo radiante', 'Gas Natural', 'G/n', 'Propano', 'Geotermia y aerotermia', 'Suelo radiante agua', 'Gas natural', nan, 'Eléctrica', 'aerotermia suelo radiante', '1.0', 'Suelo Radiante']\n",
            "Electrica: ['Termo electrico', 'Por climatizacion', 'Individual, por aire, por bomba de calor', 'Bomba de calor', 'Climatizacion', 'Eléctrica', 'Central, alimentación eléctrica', 'Bomba frio calor', 'Individual, por aire, alimentación eléctrica', 'Individual, por radiadores, alimentación eléctrica', 'climatizacion', 'Bomba frio/calor', 'Individual, alimentación eléctrica', 'Bomba frio-calor']\n",
            "Gas: ['Central, por aire, de gas', 'individual gas natural', 'Central, suelo radiante, de gas', 'Individual, de gas', 'radiadores gas natural', 'Gas natural y biomasa', 'Central, de gas', 'Individual con gas natural', 'gas natural', 'Individual, suelo radiante, de gas', 'Gas Natural', 'G/n', 'Central, por radiadores, de gas', 'Propano', 'central por gas', 'Individual, por radiadores, de gas', 'Gas natural', 'Gas particular', 'Individual - gas natural']\n",
            "Gasoil: ['Individual, por radiadores, de gasóil', 'Central, por radiadores, de gasóil', 'Central, de gasóil', 'Gasoil', 'Individual, de gasóil']\n",
            "Renovables: ['Geotermia y aerotermia', 'Aerotermia', 'Chimenea', 'aerotermia suelo radiante']\n",
            "No clasificado en energía: ['Individual', 'Calefaccion comunitaria', 'aire', 'Conducto', 'Agua caliente y calefacción central con contador i', 'Central', 'Comunitario', 'Centralizada', 'Individual, por radiadores', 'Suelo radiante', 'Central, suelo radiante', 'Contadores individuales', 'Comunitaria', 'Individual, suelo radiante', 'Central, por radiadores', 'Suelo radiante agua', 'Central individualizada', nan, 'central', '1.0', 'Suelo Radiante', 'Calefaccion individual', 'Calefacción central individualizada']\n",
            "Suelo Radiante: ['Suelo radiante', 'Individual, suelo radiante, de gas', 'Central, suelo radiante, de gas', 'aerotermia suelo radiante', 'Individual, suelo radiante', 'Central, suelo radiante', 'Suelo Radiante', 'Suelo radiante agua']\n",
            "Radiadores: ['Central, por aire, de gas', 'Individual', 'Aerotermia', 'Calefaccion comunitaria', 'aire', 'individual gas natural', 'Individual, de gas', 'radiadores gas natural', 'Gas natural y biomasa', 'Central, de gas', 'Gasoil', 'Individual con gas natural', 'Agua caliente y calefacción central con contador i', 'Central', 'Comunitario', 'gas natural', 'Centralizada', 'Individual, por radiadores', 'Central, alimentación eléctrica', 'G/n', 'Central, por radiadores, de gasóil', 'Gas Natural', 'Central, por radiadores, de gas', 'Propano', 'central por gas', 'Contadores individuales', 'Individual, por radiadores, de gas', 'Individual, por radiadores, de gasóil', 'Geotermia y aerotermia', 'Comunitaria', 'Individual, por radiadores, alimentación eléctrica', 'Central, de gasóil', 'Individual, alimentación eléctrica', 'Central, por radiadores', 'Individual, de gasóil', 'Gas natural', 'Central individualizada', nan, 'Eléctrica', 'Individual, por aire, alimentación eléctrica', 'central', 'Gas particular', '1.0', 'Individual - gas natural', 'Calefaccion individual', 'Calefacción central individualizada']\n",
            "Aire: ['Por climatizacion', 'Individual, por aire, por bomba de calor', 'Bomba de calor', 'Climatizacion', 'Bomba frio calor', 'Conducto', 'climatizacion', 'Bomba frio/calor', 'Bomba frio-calor']\n",
            "No clasificado en medio: ['Termo electrico', 'Chimenea']\n"
          ]
        }
      ],
      "source": [
        "\n",
        "\n",
        "# Palabras clave para clasificar\n",
        "central_keywords = [\"central\", \"comunitaria\", \"comunitario\"]\n",
        "individual_keywords = [\"individual\", \"particular\", \"chimenea\", \"bomba\", \"termo\", \"climatizacion\"]\n",
        "electric_keywords = [\"electrica\", \"bomba\", \"climatización\", 'termo electrico','climatizacion']\n",
        "gas_keywords = [\"gas\", \"propano\", \"g n\", \"g/n\",\"G/n\"]  # Asegurarse de que 'g n' y 'g/n' estén bien escritos\n",
        "gasoil_keywords = [\"gasóil\",\"gasoil\",'gasoil',\"Gasoil\"]  # Añadir \"gasoil\" aquí\n",
        "renovables_keywords = [\"aerotermia\", \"geotermia\", \"chimenea\"]\n",
        "suelo_radiante_keywords=[\"suelo_radiante\", \"suelo\"]\n",
        "#radiadores_keywords=[\"radiadores\"]\n",
        "aire_keywords=[\"bomba\",\"climatización\",'climatizacion','conducto']\n",
        "desconocido_keywords=['chimenea', 'termo electrico']\n",
        "#lo mas extendido son los radiadores por eso despues de pasar , suelo radiante y aire pongo a todos radiadores salvo a chimenea y termo electrico que no lo se\n",
        "radiadores_keywords=['radiadores','Gas natural', 'G/n', 'Gas particular', 'Central, alimentación eléctrica', 'Agua caliente y calefacción central con contador i', 'Comunitario', 'Individual con gas natural', 'Individual, de gasóil', 'Comunitaria', 'Calefaccion Propano', 'Calefaccion Gas Natural', 'Central, por aire, de gas', 'Gas natural y biomasa', 'Centralizada', 'Eléctrica', 'Calefaccion Individual', 'Calefaccion individual','Contadores individuales', '1.0', 'Individual, alimentación eléctrica', 'Aerotermia', 'Individual - gas natural', 'Individual', 'Calefaccion Aerotermia', 'Gasoil', 'Central individualizada', 'Individual, por aire, alimentación eléctrica', 'Geotermia y aerotermia', 'Calefaccion comunitaria', 'Calefaccion Central', 'Central, de gas', 'Calefaccion Electrica', 'Calefacción central individualizada', 'Central, de gasóil', 'Individual, de gas', 'Central']\n",
        "\n",
        "# Inicializar conjuntos para valores únicos\n",
        "central = set()\n",
        "individual = set()\n",
        "electrica = set()\n",
        "gas = set()\n",
        "gsoil = set()\n",
        "renovables = set()\n",
        "suelo_radiante = set()\n",
        "radiadores = set()\n",
        "aire = set()\n",
        "sin_clasificar = set()\n",
        "sin_clasificar_energia = set()\n",
        "sin_clasificar_medio = set()\n",
        "radiadores=set()\n",
        "suelo_radiante=set()\n",
        "\n",
        "\n",
        "# Clasificar categorías\n",
        "for categoria in df17[\"calefaccion\"]:\n",
        "    categoria_normalized = normalize_text(str(categoria))  # Normalizar texto\n",
        "\n",
        "    # Clasificación por tipo (central o individual)\n",
        "    if any(keyword in categoria_normalized for keyword in central_keywords):\n",
        "        central.add(categoria)\n",
        "    elif any(keyword in categoria_normalized for keyword in individual_keywords):\n",
        "        individual.add(categoria)\n",
        "    else:\n",
        "        sin_clasificar.add(categoria)\n",
        "\n",
        "    # Clasificación por energía (eléctrica, gas, gasoil)\n",
        "    if any(keyword in categoria_normalized for keyword in electric_keywords):\n",
        "        electrica.add(categoria)\n",
        "    elif any(keyword in categoria_normalized for keyword in gasoil_keywords):\n",
        "        gsoil.add(categoria)\n",
        "    elif any(keyword in categoria_normalized for keyword in gas_keywords):\n",
        "        gas.add(categoria)\n",
        "\n",
        "\n",
        "    elif any(keyword in categoria_normalized for keyword in renovables_keywords):\n",
        "        renovables.add(categoria)\n",
        "    else:\n",
        "        sin_clasificar_energia.add(categoria)\n",
        "\n",
        "    # Clasificación por medio (suelo radiante, radiadores, aire)\n",
        "\n",
        "\n",
        "    if any(keyword in categoria_normalized for keyword in aire_keywords):\n",
        "        aire.add(categoria)\n",
        "    elif any(keyword in categoria_normalized for keyword in suelo_radiante_keywords):\n",
        "        suelo_radiante.add(categoria)\n",
        "    elif any(keyword in categoria_normalized for keyword in desconocido_keywords):\n",
        "        sin_clasificar_medio.add(categoria)\n",
        "  #  else: any(keyword in categoria_normalized for keyword in radiadores_keywords):\n",
        "    else:\n",
        "        radiadores.add(categoria)\n",
        "\n",
        "\n",
        "# Convertir los conjuntos a listas\n",
        "central = list(central)\n",
        "individual = list(individual)\n",
        "sin_clasificar = list(sin_clasificar)\n",
        "electrica = list(electrica)\n",
        "gas = list(gas)\n",
        "gasoil = list(gsoil)\n",
        "renovables = list(renovables)\n",
        "sin_clasificar_energia = list(sin_clasificar_energia)\n",
        "aire=list(aire)\n",
        "radiadores=list(radiadores)\n",
        "suelo_radiante=list(suelo_radiante)\n",
        "sin_clasificar_medio=list(sin_clasificar_medio)\n",
        "# Imprimir resultados\n",
        "print(\"Central:\", central)\n",
        "print(\"Individual:\", individual)\n",
        "print(\"No clasificado:\", sin_clasificar)\n",
        "print(\"Electrica:\", electrica)\n",
        "print(\"Gas:\", gas)\n",
        "print(\"Gasoil:\", gasoil)\n",
        "print(\"Renovables:\", renovables)\n",
        "print(\"No clasificado en energía:\", sin_clasificar_energia)\n",
        "print(\"Suelo Radiante:\", suelo_radiante)\n",
        "print(\"Radiadores:\", radiadores)\n",
        "print(\"Aire:\", aire)\n",
        "print(\"No clasificado en medio:\", sin_clasificar_medio)\n"
      ]
    },
    {
      "cell_type": "code",
      "execution_count": 4657,
      "metadata": {
        "id": "qzG7JjFHxX5Y"
      },
      "outputs": [
        {
          "data": {
            "text/plain": [
              "antiguedad\n",
              "NaN                    6762\n",
              "Más de 50 años         1261\n",
              "Entre 30 y 50 años      208\n",
              "1960                    109\n",
              "1900                    109\n",
              "                       ... \n",
              "1916                      1\n",
              "Entre 10 y  15 Años       1\n",
              " 1970                     1\n",
              " 1979                     1\n",
              "2007.0                    1\n",
              "Name: count, Length: 165, dtype: int64"
            ]
          },
          "execution_count": 4657,
          "metadata": {},
          "output_type": "execute_result"
        }
      ],
      "source": [
        "df17[\"antiguedad\"].value_counts(dropna=False)"
      ]
    },
    {
      "cell_type": "code",
      "execution_count": 4658,
      "metadata": {
        "id": "JcrUPbFMxX5Y"
      },
      "outputs": [
        {
          "data": {
            "text/plain": [
              "num_plantas\n",
              "NaN           9970\n",
              "6.0             40\n",
              "4.0             39\n",
              "3.0             28\n",
              "7.0             24\n",
              "5.0             23\n",
              "8.0             19\n",
              "10.0            13\n",
              "2.0             13\n",
              "Plantas: 5       6\n",
              "9.0              6\n",
              "Plantas: 4       5\n",
              "1.0              5\n",
              "Plantas: 6       3\n",
              "Plantas: 3       2\n",
              "12.0             1\n",
              "11.0             1\n",
              "23.0             1\n",
              "Plantas: 2       1\n",
              "Plantas: 7       1\n",
              "Plantas: 1       1\n",
              "Plantas: 8       1\n",
              "Name: count, dtype: int64"
            ]
          },
          "execution_count": 4658,
          "metadata": {},
          "output_type": "execute_result"
        }
      ],
      "source": [
        "df17[\"num_plantas\"].value_counts(dropna=False)"
      ]
    },
    {
      "cell_type": "code",
      "execution_count": 4659,
      "metadata": {},
      "outputs": [],
      "source": [
        "df17[\"num_plantas\"]=df17[\"num_plantas\"].str.replace(\"Plantas: \",\"\",regex=False)"
      ]
    },
    {
      "cell_type": "markdown",
      "metadata": {
        "id": "o6NVq17exX5Z"
      },
      "source": [
        "## aire acondicionado"
      ]
    },
    {
      "cell_type": "code",
      "execution_count": 4660,
      "metadata": {
        "id": "_CzU1V-HxX5Z"
      },
      "outputs": [
        {
          "data": {
            "text/plain": [
              "aire_acondicionado\n",
              "NaN                                                   7642\n",
              "Individual                                             583\n",
              "Frío                                                   480\n",
              "1.0                                                    465\n",
              "Individual, frío/calor                                 399\n",
              "Frío y calor                                           320\n",
              "Individual, frío                                       115\n",
              "Splites repartidos                                      70\n",
              "Independiente                                           26\n",
              "Frío/calor                                              20\n",
              "Centralizada                                            16\n",
              "Suelo refrigerante                                      10\n",
              "Frío-calor                                               7\n",
              "Preinstalación                                           6\n",
              "Preinstalado                                             5\n",
              "Aerotermia                                               5\n",
              "Central                                                  5\n",
              "1                                                        4\n",
              "Con bomba de calor                                       4\n",
              "Centralizada, frío/calor                                 4\n",
              "Suelo radiante refrescante                               2\n",
              "Suelo radiante                                           1\n",
              "por splits                                               1\n",
              "Centralizada, frío                                       1\n",
              "Por conductos en toda la casa                            1\n",
              "Aire frio/ calor por conductos/suelo refrescante         1\n",
              "En toda la casa, por conductos                           1\n",
              "Centralizada, calor                                      1\n",
              "Frió/calor por conductos                                 1\n",
              "No disponible                                            1\n",
              "Tiene la instalción hecha en toda la casa por cond       1\n",
              "Climatizacion por conductos frio y calor                 1\n",
              "Geotermia y aerotermia                                   1\n",
              "Sistema air zone                                         1\n",
              "A/a f/c                                                  1\n",
              "bomba frio calor                                         1\n",
              "Name: count, dtype: int64"
            ]
          },
          "execution_count": 4660,
          "metadata": {},
          "output_type": "execute_result"
        }
      ],
      "source": [
        "df17[\"aire_acondicionado\"].value_counts(dropna=False)"
      ]
    },
    {
      "cell_type": "code",
      "execution_count": 4661,
      "metadata": {
        "id": "ftbcfYMqxX5Z"
      },
      "outputs": [
        {
          "data": {
            "text/plain": [
              "array([nan, 'Preinstalación', 'Individual, frío/calor',\n",
              "       'Individual, frío', 'Individual', 'Frío/calor',\n",
              "       'Centralizada, frío', 'Centralizada, frío/calor',\n",
              "       'Centralizada, calor', 'Centralizada', 'Frío', 'Frío y calor',\n",
              "       'Splites repartidos', 'Aerotermia', 'A/a f/c',\n",
              "       'Con bomba de calor', 'Preinstalado', 'Independiente',\n",
              "       'Suelo refrigerante', 'Frío-calor', 'Sistema air zone',\n",
              "       'Geotermia y aerotermia',\n",
              "       'Climatizacion por conductos frio y calor',\n",
              "       'Tiene la instalción hecha en toda la casa por cond',\n",
              "       'Suelo radiante refrescante', 'No disponible', 'Central',\n",
              "       'Frió/calor por conductos', 'Suelo radiante',\n",
              "       'En toda la casa, por conductos',\n",
              "       'Aire frio/ calor por conductos/suelo refrescante',\n",
              "       'Por conductos en toda la casa', '1.0', 'por splits', '1',\n",
              "       'bomba frio calor'], dtype=object)"
            ]
          },
          "execution_count": 4661,
          "metadata": {},
          "output_type": "execute_result"
        }
      ],
      "source": [
        "df17[\"aire_acondicionado\"].unique()\n"
      ]
    },
    {
      "cell_type": "code",
      "execution_count": 4662,
      "metadata": {
        "id": "-aWjBbdXxX5Z"
      },
      "outputs": [],
      "source": [
        "# Listas de valores para cada grupo\n",
        "eficientes_val_columna = [\n",
        "    'Aerotermia', 'Geotermia y aerotermia', 'Suelo radiante refrescante', 'Suelo refrigerante',\n",
        "    'Sistema air zone', 'Climatizacion por conductos frio y calor', 'Frió/calor por conductos',\n",
        "    'Suelo radiante', 'Aire frio/ calor por conductos/suelo refrescante', 'Por conductos en toda la casa',\n",
        "    'Tiene la instalción hecha en toda la casa por cond', 'En toda la casa, por conductos'\n",
        "]\n",
        "\n",
        "normales_val_columna = [\n",
        "    'Individual, frío/calor', 'Individual, frío', 'Individual', 'Frío/calor', 'Centralizada, frío',\n",
        "    'Centralizada, frío/calor', 'Centralizada, calor', 'Central', 'Frío', 'Frío y calor',\n",
        "    'Splites repartidos', 'Independiente', 'Con bomba de calor', 'A/a f/c',\n",
        "    'Aire frio/calor por conductos/suelo refrescante', '1', '1.0'\n",
        "]\n",
        "\n",
        "sin_aire_val_columna = ['Preinstalación', 'Preinstalado', 'No disponible', '0', '0.0']\n",
        "\n",
        "# Función para clasificar los sistemas\n",
        "def clasificar_sistema(valor):\n",
        "    if valor in eficientes_val_columna:\n",
        "        return 'Eficiente'\n",
        "    elif valor in normales_val_columna:\n",
        "        return 'Normal'\n",
        "    elif valor in sin_aire_val_columna:\n",
        "        return 'Sin Aire'\n",
        "    else:\n",
        "        return 'Desconocido'  # Si el valor no coincide con ninguno de los grupos\n",
        "\n",
        "\n"
      ]
    },
    {
      "cell_type": "code",
      "execution_count": 4663,
      "metadata": {
        "id": "sbJwEjZwxX5Z"
      },
      "outputs": [],
      "source": [
        "# Crear una nueva columna en el DataFrame\n",
        "df17['clasificacion_aire'] = df17['aire_acondicionado'].apply(clasificar_sistema)\n"
      ]
    },
    {
      "cell_type": "markdown",
      "metadata": {
        "id": "QkD3YP1_xX5a"
      },
      "source": [
        "La columna disponibilidad no aporta nada"
      ]
    },
    {
      "cell_type": "code",
      "execution_count": 4664,
      "metadata": {},
      "outputs": [
        {
          "data": {
            "text/plain": [
              "lujosa\n",
              "NaN     7060\n",
              "0.00    1715\n",
              "1.00    1428\n",
              "Name: count, dtype: int64"
            ]
          },
          "execution_count": 4664,
          "metadata": {},
          "output_type": "execute_result"
        }
      ],
      "source": [
        "df17[\"lujosa\"].value_counts(dropna=False)"
      ]
    },
    {
      "cell_type": "code",
      "execution_count": 4665,
      "metadata": {},
      "outputs": [],
      "source": [
        "\n",
        "\n",
        "# Aplicar la lógica: si 'lujosa' es 1 y 'tipo_inmueble' es nulo (NaN), entonces 'tipo_inmueble' = 'lujo'\n",
        "df17['tipo_inmueble'] = df17.apply(\n",
        "    lambda fila: 'lujo' if fila['lujosa'] == 1.00 and pd.isna(fila['tipo_inmueble']) else fila['tipo_inmueble'], axis=1\n",
        ")\n",
        "\n"
      ]
    },
    {
      "cell_type": "code",
      "execution_count": 4666,
      "metadata": {},
      "outputs": [],
      "source": [
        "df17=df17.drop(columns='lujosa')"
      ]
    },
    {
      "cell_type": "code",
      "execution_count": 4667,
      "metadata": {},
      "outputs": [
        {
          "data": {
            "text/plain": [
              "Index(['title', 'url', 'precio_anterior', 'descuento', 'EUR/m2', 'm2_constr',\n",
              "       'distrito', 'cod_distrito', 'barrio', 'cod_barrio', 'zona', 'calle',\n",
              "       'consumoce_ano', 'letra_ce', 'emisiones_co2', 'tipologia', 'estado',\n",
              "       'amueblado', 'planta', 'dormitorios', 'banos', 'balcon', 'terraza',\n",
              "       'garaje', 'trastero', 'ascensor', 'calefaccion', 'antiguedad',\n",
              "       'num_plantas', 'aire_acondicionado', 'jardin', 'inmueble_ingresos',\n",
              "       'alquiler_opcion_a_compra', 'nuda_propiedad', 'tipo_inmueble',\n",
              "       'tiene_armario', 'cancha_tenis',\n",
              "       'carpinteria_exterior_doble_vidrio/pvc',\n",
              "       'carpinteria_exterior_doble_vidrio/madera',\n",
              "       'carpinteria_exterior_doble_vidrio/metal',\n",
              "       'carpinteria_exterior_triple_vidrio/madera',\n",
              "       'carpinteria_exterior_triple_vidrio/metal',\n",
              "       'carpinteria_exterior_vidrio/pvc', 'carpinteria_exterior_vidrio/madera',\n",
              "       'carpinteria_exterior_vidrio/metal', 'chimenea', 'cocina',\n",
              "       'fibra_optica', 'exterior', 'interior', 'interior_y_exterior',\n",
              "       'piscina', 'porton_electrico', 'puerta_blindada', 'alarma',\n",
              "       'videoportero', '€_comunidad_mes', 'acceso_discapacitado',\n",
              "       'orientacion', 'precio', 'web', 'fecha_descarga', 'actualizacion',\n",
              "       'armarios', 'codigo_Postal', 'm2_utiles', 'referencia', 'tipo_suelo',\n",
              "       'certificado_energetico', 'tiene_jardin', 'descripcion_larga',\n",
              "       'num_visitas', 'fecha_publicacion', 'titularanuncio', 'num_pisos',\n",
              "       'puerta_seguridad', 'zonas_verdes', 'gastos_comunidad', 'tiene_piscina',\n",
              "       'tipo_fachada', 'agua_caliente', 'consumo_energia', 'nombre_oficina',\n",
              "       'letrace', 'portero', 'orientacion_este', 'orientacion_oeste',\n",
              "       'orientacion_sur', 'num_garajes', 'clasificacion_aire'],\n",
              "      dtype='object')"
            ]
          },
          "execution_count": 4667,
          "metadata": {},
          "output_type": "execute_result"
        }
      ],
      "source": [
        "df17.columns"
      ]
    },
    {
      "cell_type": "code",
      "execution_count": 4668,
      "metadata": {
        "id": "EFSCT4jYxX5b"
      },
      "outputs": [
        {
          "data": {
            "text/plain": [
              "tiene_armario\n",
              "NaN     8401\n",
              "1.00    1802\n",
              "Name: count, dtype: int64"
            ]
          },
          "execution_count": 4668,
          "metadata": {},
          "output_type": "execute_result"
        }
      ],
      "source": [
        "df17['tiene_armario'].value_counts(dropna=False)"
      ]
    },
    {
      "cell_type": "code",
      "execution_count": 4669,
      "metadata": {},
      "outputs": [
        {
          "data": {
            "text/plain": [
              "armarios\n",
              " NaN                      8477\n",
              " 1                         810\n",
              " Más de 2                  254\n",
              "2.00                       143\n",
              "1.00                       120\n",
              "3.00                       104\n",
              " 2                          71\n",
              "4.00                        70\n",
              " 1.0                        42\n",
              " 2.0                        24\n",
              "5.00                        23\n",
              "6.00                        18\n",
              " 3.0                        17\n",
              " 5.0                         6\n",
              " 4.0                         6\n",
              "7.00                         5\n",
              "8.00                         3\n",
              " 8.0                         3\n",
              " 6.0                         1\n",
              " 3 empotrados                1\n",
              " 8 armarios empotrados       1\n",
              " 4 empotrados                1\n",
              " Mas de 5                    1\n",
              " 1 closet                    1\n",
              "9.00                         1\n",
              "Name: count, dtype: int64"
            ]
          },
          "execution_count": 4669,
          "metadata": {},
          "output_type": "execute_result"
        }
      ],
      "source": [
        "df17['armarios'].value_counts(dropna=False)"
      ]
    },
    {
      "cell_type": "code",
      "execution_count": 4670,
      "metadata": {},
      "outputs": [],
      "source": [
        "\n",
        "# Lista de palabras a reemplazar\n",
        "palabras_a_eliminar = [\"empotrados\", \"armarios\", \"closet\"]\n",
        "\n",
        "# Crear una expresión regular que abarque todas las palabras\n",
        "patron = '|'.join(palabras_a_eliminar)\n",
        "\n",
        "# Reemplazar las palabras por vacío\n",
        "df17['armarios'] = df17['armarios'].str.replace(patron, '', regex=True)\n",
        "\n",
        "\n"
      ]
    },
    {
      "cell_type": "code",
      "execution_count": 4671,
      "metadata": {},
      "outputs": [],
      "source": [
        "# Aplicar la lógica: si 'armarios' no es NaN, entonces 'tiene_armario' = 1\n",
        "df17['tiene_armario'] = df17.apply(\n",
        "    lambda fila: 1 if pd.notna(fila['armarios']) and fila['armarios'] != '' else fila['tiene_armario'], axis=1\n",
        ")"
      ]
    },
    {
      "cell_type": "code",
      "execution_count": 4672,
      "metadata": {
        "id": "wlIqJDZMxX5b"
      },
      "outputs": [
        {
          "data": {
            "text/plain": [
              "cancha_tenis\n",
              "NaN     7061\n",
              "0.00    3140\n",
              "1.00       2\n",
              "Name: count, dtype: int64"
            ]
          },
          "execution_count": 4672,
          "metadata": {},
          "output_type": "execute_result"
        }
      ],
      "source": [
        "df17['cancha_tenis'].value_counts(dropna=False)"
      ]
    },
    {
      "cell_type": "code",
      "execution_count": 4673,
      "metadata": {
        "id": "iRNey7LoxX5b"
      },
      "outputs": [
        {
          "data": {
            "text/plain": [
              "chimenea\n",
              "NaN     7057\n",
              "0.00    3097\n",
              "1.00      49\n",
              "Name: count, dtype: int64"
            ]
          },
          "execution_count": 4673,
          "metadata": {},
          "output_type": "execute_result"
        }
      ],
      "source": [
        "df17['chimenea'].value_counts(dropna=False)"
      ]
    },
    {
      "cell_type": "code",
      "execution_count": 4674,
      "metadata": {
        "id": "ZWZ7JLCHxX5b"
      },
      "outputs": [
        {
          "data": {
            "text/plain": [
              "fibra_optica\n",
              "NaN     7061\n",
              "0.00    3104\n",
              "1.00      38\n",
              "Name: count, dtype: int64"
            ]
          },
          "execution_count": 4674,
          "metadata": {},
          "output_type": "execute_result"
        }
      ],
      "source": [
        "df17['fibra_optica'].value_counts(dropna=False)"
      ]
    },
    {
      "cell_type": "code",
      "execution_count": 4675,
      "metadata": {
        "id": "gTFeef4ZxX5c"
      },
      "outputs": [
        {
          "data": {
            "text/plain": [
              "carpinteria_exterior_doble_vidrio/pvc\n",
              "NaN     6703\n",
              "0.00    3126\n",
              "1.00     374\n",
              "Name: count, dtype: int64"
            ]
          },
          "execution_count": 4675,
          "metadata": {},
          "output_type": "execute_result"
        }
      ],
      "source": [
        "df17['carpinteria_exterior_doble_vidrio/pvc'].value_counts(dropna=False)"
      ]
    },
    {
      "cell_type": "markdown",
      "metadata": {
        "id": "pNprMm9-xX5c"
      },
      "source": [
        "## cocina"
      ]
    },
    {
      "cell_type": "code",
      "execution_count": 4676,
      "metadata": {
        "id": "q7RVNJ3nxX5c"
      },
      "outputs": [
        {
          "data": {
            "text/plain": [
              "cocina\n",
              "NaN                                                 9160\n",
              "Cocina independiente                                 323\n",
              "Cocina amueblada                                     190\n",
              "Independiente                                        131\n",
              "Cocina abierta                                        72\n",
              "                                                    ... \n",
              "Con tendedero que se puede incluir en la cocicna       1\n",
              "Grande                                                 1\n",
              "Sin amueblar                                           1\n",
              "Amplia y completamente amueblada                       1\n",
              "amueblada equipada                                     1\n",
              "Name: count, Length: 96, dtype: int64"
            ]
          },
          "execution_count": 4676,
          "metadata": {},
          "output_type": "execute_result"
        }
      ],
      "source": [
        "df17['cocina'].value_counts(dropna=False)"
      ]
    },
    {
      "cell_type": "code",
      "execution_count": 4677,
      "metadata": {
        "id": "vnrg3lqbxX5c"
      },
      "outputs": [
        {
          "data": {
            "text/plain": [
              "array([nan, 'Cocina abierta', 'Cocina independiente',\n",
              "       'Independiente y equipada', 'Cocina americana', 'Cocina equipada',\n",
              "       'Cocina amueblada', 'Amueblada sin electrodomésticos',\n",
              "       'Amueblada con electrodomésticos', 'Americana',\n",
              "       'Independiente con zona de servicio',\n",
              "       'Independiente - amueblada con elec.', 'Independiente',\n",
              "       'Independiente con office', 'Amueblada', 'Equipada', 'Amplia',\n",
              "       'Amueblada y equipada con electrodomésticos',\n",
              "       'Pequeña cocina integrada', 'Americana, amueblada y equipada.',\n",
              "       'Gran cocina abierta con isla', 'Moderna', 'Individual',\n",
              "       'Hall de entrada', 'Reformada', 'Completamente equipada',\n",
              "       'Totalmente equipada',\n",
              "       'Abierta al comedor, completamente equipada',\n",
              "       'En office amplia completamente equipada',\n",
              "       'Cocina amueblada, sin aparatos', 'Con tendedero', 'Con terraza',\n",
              "       'Dos cocinas, una en cada planta',\n",
              "       'Amueblada con electrodomésticos, caldera nueva',\n",
              "       'No incluye nevera ni horno', 'Equipada e independiente',\n",
              "       'Amplia y completamente amueblada', 'Sin amueblar', 'Grande',\n",
              "       'Con tendedero que se puede incluir en la cocicna',\n",
              "       'Completamente equipada abierta al salón',\n",
              "       'Diáfana con primeras calidades', 'Americana equipada',\n",
              "       'Amplia, exterior y amueblada.', 'Abierta al salon amueblada',\n",
              "       'Vitro2 fuegos-frigorifico-lavadora',\n",
              "       'Independiente amueblada y equipada', 'Equipada americana',\n",
              "       'Equipada con excelentes calidades', 'Necesita reforma',\n",
              "       'Zona lavandería', 'Totalmente equipada.', 'Integrada al salón',\n",
              "       'Amueblada reformada', 'Y equipada', 'Equipafda americana',\n",
              "       'Abierta al comedor completamente equipada',\n",
              "       'Co oficce, dormitorio de servicio y entrada indep.',\n",
              "       'Amueblada con electrodomésticos alta gama',\n",
              "       'Equipada y amueblada', 'Amueblada con electrodomesticos',\n",
              "       'Con officce y terraza tendedero', 'Amueblada y equipada',\n",
              "       'Integrada en salón', '0ffice,habitacion ,baño y terraza',\n",
              "       'Electrodomésticos', 'Pequeña', 'Incorporada', 'Francesa',\n",
              "       'Independiente con office, dormi. Servic. Con baño',\n",
              "       'Abierto al salón', 'Abierta al salon',\n",
              "       'Equipada con electrodomésticos de alta gama.',\n",
              "       'Equipada con península', 'Independiente con despensa',\n",
              "       'Con entrada independiente', 'Integrada',\n",
              "       'Independiente con entrada de servicio',\n",
              "       'Con office y salida al jardin', 'A reformar',\n",
              "       'Equipada electrodomesticos alta gama',\n",
              "       'Amueblada y equipada. Muy amplia', 'Con isla',\n",
              "       'Equipada con electrodomésticos', 'Qmueblada y equipada',\n",
              "       'Amueblada y en isla', 'Amueblada, equipada',\n",
              "       'amueblada y equipada', 'equipada e integrada',\n",
              "       'independiente con zona office', 'abierta', 'equipada',\n",
              "       'independiente equipada', 'americana', 'independiente',\n",
              "       'amueblada equipada'], dtype=object)"
            ]
          },
          "execution_count": 4677,
          "metadata": {},
          "output_type": "execute_result"
        }
      ],
      "source": [
        "df17['cocina'].unique()"
      ]
    },
    {
      "cell_type": "code",
      "execution_count": 4678,
      "metadata": {
        "id": "2kIVaBrfxX5c"
      },
      "outputs": [
        {
          "data": {
            "text/html": [
              "<div>\n",
              "<style scoped>\n",
              "    .dataframe tbody tr th:only-of-type {\n",
              "        vertical-align: middle;\n",
              "    }\n",
              "\n",
              "    .dataframe tbody tr th {\n",
              "        vertical-align: top;\n",
              "    }\n",
              "\n",
              "    .dataframe thead th {\n",
              "        text-align: right;\n",
              "    }\n",
              "</style>\n",
              "<table border=\"1\" class=\"dataframe\">\n",
              "  <thead>\n",
              "    <tr style=\"text-align: right;\">\n",
              "      <th></th>\n",
              "      <th>amueblado</th>\n",
              "      <th>cocina</th>\n",
              "    </tr>\n",
              "  </thead>\n",
              "  <tbody>\n",
              "    <tr>\n",
              "      <th>492</th>\n",
              "      <td>Sólo cocina amueblada</td>\n",
              "      <td>Cocina abierta</td>\n",
              "    </tr>\n",
              "    <tr>\n",
              "      <th>1279</th>\n",
              "      <td>Sólo cocina amueblada</td>\n",
              "      <td>Cocina independiente</td>\n",
              "    </tr>\n",
              "    <tr>\n",
              "      <th>1748</th>\n",
              "      <td>Sólo cocina amueblada</td>\n",
              "      <td>Cocina independiente</td>\n",
              "    </tr>\n",
              "    <tr>\n",
              "      <th>1799</th>\n",
              "      <td>Sólo cocina amueblada</td>\n",
              "      <td>Cocina independiente</td>\n",
              "    </tr>\n",
              "    <tr>\n",
              "      <th>2823</th>\n",
              "      <td>Sólo cocina amueblada</td>\n",
              "      <td>Cocina independiente</td>\n",
              "    </tr>\n",
              "  </tbody>\n",
              "</table>\n",
              "</div>"
            ],
            "text/plain": [
              "                  amueblado                cocina\n",
              "492   Sólo cocina amueblada        Cocina abierta\n",
              "1279  Sólo cocina amueblada  Cocina independiente\n",
              "1748  Sólo cocina amueblada  Cocina independiente\n",
              "1799  Sólo cocina amueblada  Cocina independiente\n",
              "2823  Sólo cocina amueblada  Cocina independiente"
            ]
          },
          "execution_count": 4678,
          "metadata": {},
          "output_type": "execute_result"
        }
      ],
      "source": [
        "df17.query(\"amueblado=='Sólo cocina amueblada' and cocina.notnull()\")[['amueblado','cocina']]"
      ]
    },
    {
      "cell_type": "code",
      "execution_count": 4679,
      "metadata": {
        "id": "Pn_PzP0RxX5c"
      },
      "outputs": [],
      "source": [
        "\n",
        "df17.loc[df17['cocina']=='Francesa', 'cocina'] = 'independiente y amueblada'\n",
        "df17.loc[(df17['amueblado'] == 'Sólo cocina amueblada') & (df17['cocina'].notnull()), 'cocina'] = df17['cocina'] + ' amueblada'\n",
        "df17.loc[df17['cocina']=='Equipafda americana', 'cocina'] = 'Equipada americana'\n",
        "\n"
      ]
    },
    {
      "cell_type": "code",
      "execution_count": 4680,
      "metadata": {
        "id": "gvzukl_ExX5d"
      },
      "outputs": [
        {
          "name": "stdout",
          "output_type": "stream",
          "text": [
            "               cocina     grupo_cocina\n",
            "0                 NaN  sin_informacion\n",
            "1      Cocina abierta          abierta\n",
            "2                 NaN  sin_informacion\n",
            "3                 NaN  sin_informacion\n",
            "4                 NaN  sin_informacion\n",
            "...               ...              ...\n",
            "10198             NaN  sin_informacion\n",
            "10199             NaN  sin_informacion\n",
            "10200             NaN  sin_informacion\n",
            "10201             NaN  sin_informacion\n",
            "10202             NaN  sin_informacion\n",
            "\n",
            "[10203 rows x 2 columns]\n"
          ]
        }
      ],
      "source": [
        "# Aplica la función de agrupación\n",
        "df17['grupo_cocina'] = df17['cocina'].apply(agrupar_cocinas)\n",
        "\n",
        "print(df17[['cocina', 'grupo_cocina']])\n"
      ]
    },
    {
      "cell_type": "code",
      "execution_count": 4681,
      "metadata": {
        "id": "stzoKb_9xX5d"
      },
      "outputs": [
        {
          "data": {
            "text/plain": [
              "array(['Cocina abierta', 'Cocina independiente',\n",
              "       'Cocina abierta amueblada', 'Cocina independiente amueblada',\n",
              "       'Independiente y equipada', 'Cocina americana', 'Cocina equipada',\n",
              "       'Cocina amueblada', 'Amueblada sin electrodomésticos',\n",
              "       'Amueblada con electrodomésticos', 'Americana',\n",
              "       'Independiente con zona de servicio',\n",
              "       'Independiente - amueblada con elec.', 'Independiente',\n",
              "       'Independiente con office', 'Amueblada', 'Equipada', 'Amplia',\n",
              "       'Amueblada y equipada con electrodomésticos',\n",
              "       'Pequeña cocina integrada', 'Americana, amueblada y equipada.',\n",
              "       'Gran cocina abierta con isla', 'Moderna', 'Individual',\n",
              "       'Hall de entrada', 'Reformada', 'Completamente equipada',\n",
              "       'Totalmente equipada',\n",
              "       'Abierta al comedor, completamente equipada',\n",
              "       'En office amplia completamente equipada',\n",
              "       'Cocina amueblada, sin aparatos', 'Con tendedero', 'Con terraza',\n",
              "       'Dos cocinas, una en cada planta',\n",
              "       'Amueblada con electrodomésticos, caldera nueva',\n",
              "       'No incluye nevera ni horno', 'Equipada e independiente',\n",
              "       'Amplia y completamente amueblada', 'Sin amueblar', 'Grande',\n",
              "       'Con tendedero que se puede incluir en la cocicna',\n",
              "       'Completamente equipada abierta al salón',\n",
              "       'Diáfana con primeras calidades', 'Americana equipada',\n",
              "       'Amplia, exterior y amueblada.', 'Abierta al salon amueblada',\n",
              "       'Vitro2 fuegos-frigorifico-lavadora',\n",
              "       'Independiente amueblada y equipada', 'Equipada americana',\n",
              "       'Equipada con excelentes calidades', 'Necesita reforma',\n",
              "       'Zona lavandería', 'Totalmente equipada.', 'Integrada al salón',\n",
              "       'Amueblada reformada', 'Y equipada',\n",
              "       'Abierta al comedor completamente equipada',\n",
              "       'Co oficce, dormitorio de servicio y entrada indep.',\n",
              "       'Amueblada con electrodomésticos alta gama',\n",
              "       'Equipada y amueblada', 'Amueblada con electrodomesticos',\n",
              "       'Con officce y terraza tendedero', 'Amueblada y equipada',\n",
              "       'Integrada en salón', '0ffice,habitacion ,baño y terraza',\n",
              "       'Electrodomésticos', 'Pequeña', 'Incorporada',\n",
              "       'independiente y amueblada',\n",
              "       'Independiente con office, dormi. Servic. Con baño',\n",
              "       'Abierto al salón', 'Abierta al salon',\n",
              "       'Equipada con electrodomésticos de alta gama.',\n",
              "       'Equipada con península', 'Independiente con despensa',\n",
              "       'Con entrada independiente', 'Integrada',\n",
              "       'Independiente con entrada de servicio',\n",
              "       'Con office y salida al jardin', 'A reformar',\n",
              "       'Equipada electrodomesticos alta gama',\n",
              "       'Amueblada y equipada. Muy amplia', 'Con isla',\n",
              "       'Equipada con electrodomésticos', 'Qmueblada y equipada',\n",
              "       'Amueblada y en isla', 'Amueblada, equipada',\n",
              "       'amueblada y equipada', 'equipada e integrada',\n",
              "       'independiente con zona office', 'abierta', 'equipada',\n",
              "       'independiente equipada', 'americana', 'independiente',\n",
              "       'amueblada equipada'], dtype=object)"
            ]
          },
          "execution_count": 4681,
          "metadata": {},
          "output_type": "execute_result"
        }
      ],
      "source": [
        "df17.query(\"cocina.notnull()\")['cocina'].unique()"
      ]
    },
    {
      "cell_type": "code",
      "execution_count": 4682,
      "metadata": {
        "id": "cI-tzPgzxX5d"
      },
      "outputs": [
        {
          "data": {
            "text/plain": [
              "title                 69\n",
              "url                   69\n",
              "precio_anterior        0\n",
              "descuento              0\n",
              "EUR/m2                68\n",
              "                      ..\n",
              "orientacion_oeste      0\n",
              "orientacion_sur        0\n",
              "num_garajes            1\n",
              "clasificacion_aire    69\n",
              "grupo_cocina          69\n",
              "Length: 91, dtype: int64"
            ]
          },
          "execution_count": 4682,
          "metadata": {},
          "output_type": "execute_result"
        }
      ],
      "source": [
        "df17.query(\"amueblado=='Sólo cocina amueblada'\").count()"
      ]
    },
    {
      "cell_type": "code",
      "execution_count": 4683,
      "metadata": {
        "id": "xdfPKkGPxX5d"
      },
      "outputs": [
        {
          "data": {
            "text/plain": [
              "amueblado\n",
              " NaN                       8955\n",
              " 1.0                        575\n",
              " Sí                         274\n",
              "1.00                        159\n",
              " No                         158\n",
              " Sólo cocina amueblada       69\n",
              " Parcialmente amueblado      13\n",
              "Name: count, dtype: int64"
            ]
          },
          "execution_count": 4683,
          "metadata": {},
          "output_type": "execute_result"
        }
      ],
      "source": [
        "df17['amueblado'].value_counts(dropna=False)"
      ]
    },
    {
      "cell_type": "code",
      "execution_count": 4684,
      "metadata": {
        "id": "cLiI4CIfxX5d"
      },
      "outputs": [
        {
          "data": {
            "text/plain": [
              "interior\n",
              "NaN     7059\n",
              "0.00    3123\n",
              "1.00      21\n",
              "Name: count, dtype: int64"
            ]
          },
          "execution_count": 4684,
          "metadata": {},
          "output_type": "execute_result"
        }
      ],
      "source": [
        "## interior, exterior\n",
        "df17['interior'].value_counts(dropna=False)"
      ]
    },
    {
      "cell_type": "code",
      "execution_count": 4685,
      "metadata": {
        "id": "BhRJWIjdxX5d"
      },
      "outputs": [
        {
          "data": {
            "text/plain": [
              "exterior\n",
              "NaN     4628\n",
              "0.00    3008\n",
              "1.00    2567\n",
              "Name: count, dtype: int64"
            ]
          },
          "execution_count": 4685,
          "metadata": {},
          "output_type": "execute_result"
        }
      ],
      "source": [
        "\n",
        "df17['exterior'].value_counts(dropna=False)"
      ]
    },
    {
      "cell_type": "code",
      "execution_count": 4686,
      "metadata": {
        "id": "zCusXgtJxX5e"
      },
      "outputs": [
        {
          "data": {
            "text/plain": [
              "interior_y_exterior\n",
              "NaN     7061\n",
              "0.00    3134\n",
              "1.00       8\n",
              "Name: count, dtype: int64"
            ]
          },
          "execution_count": 4686,
          "metadata": {},
          "output_type": "execute_result"
        }
      ],
      "source": [
        "\n",
        "df17['interior_y_exterior'].value_counts(dropna=False)"
      ]
    },
    {
      "cell_type": "code",
      "execution_count": 4687,
      "metadata": {
        "id": "_M40755cxX5e"
      },
      "outputs": [
        {
          "data": {
            "text/plain": [
              "array(['pisos.com', 'redpiso', 'pisosmadrid'], dtype=object)"
            ]
          },
          "execution_count": 4687,
          "metadata": {},
          "output_type": "execute_result"
        }
      ],
      "source": [
        "\n",
        "df17.query(\"interior.isnull() & exterior.isnull() & interior_y_exterior.isnull()\")[\"web\"].unique()"
      ]
    },
    {
      "cell_type": "markdown",
      "metadata": {
        "id": "-7HIYYWWxX5e"
      },
      "source": [
        "## piscina"
      ]
    },
    {
      "cell_type": "code",
      "execution_count": 4688,
      "metadata": {
        "id": "02URhBisxX5f"
      },
      "outputs": [
        {
          "data": {
            "text/plain": [
              "tiene_piscina\n",
              "NaN     10143\n",
              "1.00       60\n",
              "Name: count, dtype: int64"
            ]
          },
          "execution_count": 4688,
          "metadata": {},
          "output_type": "execute_result"
        }
      ],
      "source": [
        "\n",
        "\n",
        "df17['tiene_piscina'].value_counts(dropna=False)"
      ]
    },
    {
      "cell_type": "code",
      "execution_count": 4689,
      "metadata": {},
      "outputs": [],
      "source": [
        "df17.loc[df17['url'] == 'https://www.indomio.es/anuncios/95261315/', 'piscina'] = 'comunitaria'"
      ]
    },
    {
      "cell_type": "code",
      "execution_count": 4690,
      "metadata": {
        "id": "EOMwGvngxX5f"
      },
      "outputs": [
        {
          "data": {
            "text/plain": [
              "piscina\n",
              " NaN                                          5986\n",
              " 0                                            2744\n",
              "0.00                                           750\n",
              " 1                                             397\n",
              " Comunitaria                                   139\n",
              "1.00                                           108\n",
              " Propia                                         76\n",
              " comunitaria                                     1\n",
              " 1 piscina de adultos y 1 piscina de niños       1\n",
              " Con salorium                                    1\n",
              "Name: count, dtype: int64"
            ]
          },
          "execution_count": 4690,
          "metadata": {},
          "output_type": "execute_result"
        }
      ],
      "source": [
        "df17['piscina'].value_counts(dropna=False)"
      ]
    },
    {
      "cell_type": "code",
      "execution_count": 4691,
      "metadata": {},
      "outputs": [],
      "source": [
        "df17['piscina'] = df17['piscina'].astype(str).str.lower().apply(unidecode).str.strip().replace('nan', None)"
      ]
    },
    {
      "cell_type": "code",
      "execution_count": 4692,
      "metadata": {},
      "outputs": [],
      "source": [
        "df17['piscina']=df17['piscina'].replace('0.0','sin piscina')\n",
        "df17['piscina']=df17['piscina'].replace('0','sin piscina')"
      ]
    },
    {
      "cell_type": "code",
      "execution_count": 4693,
      "metadata": {},
      "outputs": [
        {
          "data": {
            "text/plain": [
              "piscina\n",
              "None                                         5986\n",
              "sin piscina                                  3494\n",
              "1                                             397\n",
              "comunitaria                                   140\n",
              "1.0                                           108\n",
              "propia                                         76\n",
              "1 piscina de adultos y 1 piscina de ninos       1\n",
              "con salorium                                    1\n",
              "Name: count, dtype: int64"
            ]
          },
          "execution_count": 4693,
          "metadata": {},
          "output_type": "execute_result"
        }
      ],
      "source": [
        "df17['piscina'].value_counts(dropna=False)"
      ]
    },
    {
      "cell_type": "code",
      "execution_count": 4694,
      "metadata": {},
      "outputs": [],
      "source": [
        "# Aplicar la lógica solo a los valores nulos en 'tiene_jardin'\n",
        "df17['tiene_piscina'] = df17['tiene_piscina'].where(\n",
        "    pd.notnull(df17['tiene_piscina']),  # Mantener valores no nulos existentes\n",
        "    df17['piscina'].apply(lambda x: 1 if pd.notnull(x) and x != 'sin piscina' else (0 if x == 'sin piscina' else None))\n",
        ")\n",
        "\n"
      ]
    },
    {
      "cell_type": "code",
      "execution_count": 4695,
      "metadata": {
        "id": "CNzE2kBkxX5f"
      },
      "outputs": [
        {
          "data": {
            "text/plain": [
              "tiene_piscina\n",
              "NaN     5933\n",
              "0.00    3491\n",
              "1.00     779\n",
              "Name: count, dtype: int64"
            ]
          },
          "execution_count": 4695,
          "metadata": {},
          "output_type": "execute_result"
        }
      ],
      "source": [
        "df17['tiene_piscina'].value_counts(dropna=False)"
      ]
    },
    {
      "cell_type": "code",
      "execution_count": 4696,
      "metadata": {},
      "outputs": [],
      "source": [
        "# Aplicar condiciones a la columna 'piscina'\n",
        "df17['piscina'] = df17.apply(\n",
        "    lambda x: 'privada' if pd.isnull(x['piscina']) and x['tiene_piscina'] == 1 and x['tipologia'] == 'Chalet' else\n",
        "              ('comunitaria' if pd.isnull(x['piscina']) and x['tiene_piscina'] == 1 and x['tipologia'] != 'Chalet' else x['piscina']),\n",
        "    axis=1\n",
        ")\n",
        "\n"
      ]
    },
    {
      "cell_type": "code",
      "execution_count": 4697,
      "metadata": {},
      "outputs": [
        {
          "data": {
            "text/plain": [
              "piscina\n",
              "None                                         5933\n",
              "sin piscina                                  3494\n",
              "1                                             397\n",
              "comunitaria                                   184\n",
              "1.0                                           108\n",
              "propia                                         76\n",
              "privada                                         9\n",
              "1 piscina de adultos y 1 piscina de ninos       1\n",
              "con salorium                                    1\n",
              "Name: count, dtype: int64"
            ]
          },
          "execution_count": 4697,
          "metadata": {},
          "output_type": "execute_result"
        }
      ],
      "source": [
        "df17['piscina'].value_counts(dropna=False)"
      ]
    },
    {
      "cell_type": "code",
      "execution_count": 4698,
      "metadata": {},
      "outputs": [],
      "source": [
        "# Actualizar la columna 'tiene_piscina' donde 'piscina' es igual a 'sin piscina'\n",
        "df17.loc[df17['piscina'] == 'sin piscina', 'tiene_piscina'] = 0\n",
        "\n",
        "\n"
      ]
    },
    {
      "cell_type": "code",
      "execution_count": 4699,
      "metadata": {},
      "outputs": [
        {
          "data": {
            "text/html": [
              "<div>\n",
              "<style scoped>\n",
              "    .dataframe tbody tr th:only-of-type {\n",
              "        vertical-align: middle;\n",
              "    }\n",
              "\n",
              "    .dataframe tbody tr th {\n",
              "        vertical-align: top;\n",
              "    }\n",
              "\n",
              "    .dataframe thead th {\n",
              "        text-align: right;\n",
              "    }\n",
              "</style>\n",
              "<table border=\"1\" class=\"dataframe\">\n",
              "  <thead>\n",
              "    <tr style=\"text-align: right;\">\n",
              "      <th></th>\n",
              "      <th>title</th>\n",
              "      <th>url</th>\n",
              "      <th>precio_anterior</th>\n",
              "      <th>descuento</th>\n",
              "      <th>EUR/m2</th>\n",
              "      <th>m2_constr</th>\n",
              "      <th>distrito</th>\n",
              "      <th>cod_distrito</th>\n",
              "      <th>barrio</th>\n",
              "      <th>cod_barrio</th>\n",
              "      <th>zona</th>\n",
              "      <th>calle</th>\n",
              "      <th>consumoce_ano</th>\n",
              "      <th>letra_ce</th>\n",
              "      <th>emisiones_co2</th>\n",
              "      <th>tipologia</th>\n",
              "      <th>estado</th>\n",
              "      <th>amueblado</th>\n",
              "      <th>planta</th>\n",
              "      <th>dormitorios</th>\n",
              "      <th>banos</th>\n",
              "      <th>balcon</th>\n",
              "      <th>terraza</th>\n",
              "      <th>garaje</th>\n",
              "      <th>trastero</th>\n",
              "      <th>ascensor</th>\n",
              "      <th>calefaccion</th>\n",
              "      <th>antiguedad</th>\n",
              "      <th>num_plantas</th>\n",
              "      <th>aire_acondicionado</th>\n",
              "      <th>jardin</th>\n",
              "      <th>inmueble_ingresos</th>\n",
              "      <th>alquiler_opcion_a_compra</th>\n",
              "      <th>nuda_propiedad</th>\n",
              "      <th>tipo_inmueble</th>\n",
              "      <th>tiene_armario</th>\n",
              "      <th>cancha_tenis</th>\n",
              "      <th>carpinteria_exterior_doble_vidrio/pvc</th>\n",
              "      <th>carpinteria_exterior_doble_vidrio/madera</th>\n",
              "      <th>carpinteria_exterior_doble_vidrio/metal</th>\n",
              "      <th>carpinteria_exterior_triple_vidrio/madera</th>\n",
              "      <th>carpinteria_exterior_triple_vidrio/metal</th>\n",
              "      <th>carpinteria_exterior_vidrio/pvc</th>\n",
              "      <th>carpinteria_exterior_vidrio/madera</th>\n",
              "      <th>carpinteria_exterior_vidrio/metal</th>\n",
              "      <th>chimenea</th>\n",
              "      <th>cocina</th>\n",
              "      <th>fibra_optica</th>\n",
              "      <th>exterior</th>\n",
              "      <th>interior</th>\n",
              "      <th>interior_y_exterior</th>\n",
              "      <th>piscina</th>\n",
              "      <th>porton_electrico</th>\n",
              "      <th>puerta_blindada</th>\n",
              "      <th>alarma</th>\n",
              "      <th>videoportero</th>\n",
              "      <th>€_comunidad_mes</th>\n",
              "      <th>acceso_discapacitado</th>\n",
              "      <th>orientacion</th>\n",
              "      <th>precio</th>\n",
              "      <th>web</th>\n",
              "      <th>fecha_descarga</th>\n",
              "      <th>actualizacion</th>\n",
              "      <th>armarios</th>\n",
              "      <th>codigo_Postal</th>\n",
              "      <th>m2_utiles</th>\n",
              "      <th>referencia</th>\n",
              "      <th>tipo_suelo</th>\n",
              "      <th>certificado_energetico</th>\n",
              "      <th>tiene_jardin</th>\n",
              "      <th>descripcion_larga</th>\n",
              "      <th>num_visitas</th>\n",
              "      <th>fecha_publicacion</th>\n",
              "      <th>titularanuncio</th>\n",
              "      <th>num_pisos</th>\n",
              "      <th>puerta_seguridad</th>\n",
              "      <th>zonas_verdes</th>\n",
              "      <th>gastos_comunidad</th>\n",
              "      <th>tiene_piscina</th>\n",
              "      <th>tipo_fachada</th>\n",
              "      <th>agua_caliente</th>\n",
              "      <th>consumo_energia</th>\n",
              "      <th>nombre_oficina</th>\n",
              "      <th>letrace</th>\n",
              "      <th>portero</th>\n",
              "      <th>orientacion_este</th>\n",
              "      <th>orientacion_oeste</th>\n",
              "      <th>orientacion_sur</th>\n",
              "      <th>num_garajes</th>\n",
              "      <th>clasificacion_aire</th>\n",
              "      <th>grupo_cocina</th>\n",
              "    </tr>\n",
              "  </thead>\n",
              "  <tbody>\n",
              "  </tbody>\n",
              "</table>\n",
              "</div>"
            ],
            "text/plain": [
              "Empty DataFrame\n",
              "Columns: [title, url, precio_anterior, descuento, EUR/m2, m2_constr, distrito, cod_distrito, barrio, cod_barrio, zona, calle, consumoce_ano, letra_ce, emisiones_co2, tipologia, estado, amueblado, planta, dormitorios, banos, balcon, terraza, garaje, trastero, ascensor, calefaccion, antiguedad, num_plantas, aire_acondicionado, jardin, inmueble_ingresos, alquiler_opcion_a_compra, nuda_propiedad, tipo_inmueble, tiene_armario, cancha_tenis, carpinteria_exterior_doble_vidrio/pvc, carpinteria_exterior_doble_vidrio/madera, carpinteria_exterior_doble_vidrio/metal, carpinteria_exterior_triple_vidrio/madera, carpinteria_exterior_triple_vidrio/metal, carpinteria_exterior_vidrio/pvc, carpinteria_exterior_vidrio/madera, carpinteria_exterior_vidrio/metal, chimenea, cocina, fibra_optica, exterior, interior, interior_y_exterior, piscina, porton_electrico, puerta_blindada, alarma, videoportero, €_comunidad_mes, acceso_discapacitado, orientacion, precio, web, fecha_descarga, actualizacion, armarios, codigo_Postal, m2_utiles, referencia, tipo_suelo, certificado_energetico, tiene_jardin, descripcion_larga, num_visitas, fecha_publicacion, titularanuncio, num_pisos, puerta_seguridad, zonas_verdes, gastos_comunidad, tiene_piscina, tipo_fachada, agua_caliente, consumo_energia, nombre_oficina, letrace, portero, orientacion_este, orientacion_oeste, orientacion_sur, num_garajes, clasificacion_aire, grupo_cocina]\n",
              "Index: []"
            ]
          },
          "execution_count": 4699,
          "metadata": {},
          "output_type": "execute_result"
        }
      ],
      "source": [
        "df17.query(\"piscina=='sin piscina' & tiene_piscina==1\")"
      ]
    },
    {
      "cell_type": "markdown",
      "metadata": {
        "id": "KR3eGIPwxX5f"
      },
      "source": [
        "## porton electrico, puerta blindada"
      ]
    },
    {
      "cell_type": "code",
      "execution_count": 4700,
      "metadata": {
        "id": "2jvxCjR6xX5f"
      },
      "outputs": [
        {
          "name": "stdout",
          "output_type": "stream",
          "text": [
            "Porcentaje de nulos en porton_electrico: 69.21%\n",
            "Porcentaje de nulos en puerta_blindada: 69.13%\n",
            "Porcentaje de nulos en alarma: 68.23%\n",
            "Porcentaje de nulos en videoportero: 66.44%\n",
            "Porcentaje de nulos en descripcion_larga: 18.88%\n"
          ]
        }
      ],
      "source": [
        "\n",
        "## portn_electrico,puerta_blindad\n",
        "\n",
        "columnas = [\"porton_electrico\", \"puerta_blindada\", \"alarma\",\"videoportero\",\"descripcion_larga\"]\n",
        "porcentaje_resultados = porcentaje_nulos(df17, columnas)\n",
        "\n",
        "\n",
        "# Mostrar los resultados\n",
        "for columna, porcentaje in porcentaje_resultados.items():\n",
        "    print(f\"Porcentaje de nulos en {columna}: {porcentaje:.2f}%\")"
      ]
    },
    {
      "cell_type": "code",
      "execution_count": 4701,
      "metadata": {
        "id": "HeFQdfobxX5g"
      },
      "outputs": [
        {
          "data": {
            "text/plain": [
              "porton_electrico\n",
              "NaN     7061\n",
              "0.00    3126\n",
              "1.00      16\n",
              "Name: count, dtype: int64"
            ]
          },
          "execution_count": 4701,
          "metadata": {},
          "output_type": "execute_result"
        }
      ],
      "source": [
        "\n",
        "df17['porton_electrico'].value_counts(dropna=False)"
      ]
    },
    {
      "cell_type": "code",
      "execution_count": 4702,
      "metadata": {
        "id": "fiN87S1txX5g"
      },
      "outputs": [
        {
          "data": {
            "text/plain": [
              "puerta_blindada\n",
              "NaN                                                   7053\n",
              "0                                                     3050\n",
              "1                                                       92\n",
              "Acorazada                                                2\n",
              "Tiene 3 puertas de acceso                                1\n",
              "Muy cerca centro comercial las rosas, metro y bus.       1\n",
              "Puerta acorazada                                         1\n",
              "Bombillo seguridad multilock                             1\n",
              "Puerta a la calle                                        1\n",
              "Puerta de entrada blindada                               1\n",
              "Name: count, dtype: int64"
            ]
          },
          "execution_count": 4702,
          "metadata": {},
          "output_type": "execute_result"
        }
      ],
      "source": [
        "\n",
        "df17['puerta_blindada'].value_counts(dropna=False)"
      ]
    },
    {
      "cell_type": "code",
      "execution_count": 4703,
      "metadata": {
        "id": "xqeA7yFgxX5g"
      },
      "outputs": [
        {
          "data": {
            "text/plain": [
              "alarma\n",
              " NaN                                              6961\n",
              " 0                                                3100\n",
              "1.00                                                48\n",
              " 1                                                  42\n",
              " Portero físico                                     12\n",
              " vigilancia 24h, con cámaras de seguridad            5\n",
              " Conserje                                            4\n",
              " con cámaras de seguridad                            3\n",
              " Servicio de portería                                2\n",
              " Alarma                                              2\n",
              " Portero fisico                                      2\n",
              " 24h                                                 2\n",
              " 24 horas                                            2\n",
              " Alarma y cámaras                                    1\n",
              " Alarma instalada.                                   1\n",
              " Conserje 24 horas                                   1\n",
              " Circuito de video vigilancia en zonas comunes       1\n",
              " Cámaras de vigilancia en portal                     1\n",
              " Portero físico 24 horas                             1\n",
              " Portería. Portero físico                            1\n",
              " Puerta de seguridad                                 1\n",
              " Camaras                                             1\n",
              " vigilancia 24h                                      1\n",
              " Vigilancia 24 horas                                 1\n",
              " Portero fisico horario laboral                      1\n",
              " Sie                                                 1\n",
              " Servicio de conserjeria                             1\n",
              " Puerta para entrar en la urb. Y otra portal         1\n",
              " Tiene portero físico                                1\n",
              " Conserje 24 h                                       1\n",
              " Portero fisico de dia.                              1\n",
              "Name: count, dtype: int64"
            ]
          },
          "execution_count": 4703,
          "metadata": {},
          "output_type": "execute_result"
        }
      ],
      "source": [
        "\n",
        "df17['alarma'].value_counts(dropna=False)"
      ]
    },
    {
      "cell_type": "code",
      "execution_count": 4704,
      "metadata": {},
      "outputs": [],
      "source": [
        "# Actualizar la columna 'portero' únicamente donde 'alarma' contiene \"portero\"\n",
        "df17['portero'] = df17.apply(\n",
        "    lambda fila: 1 if \"portero\" in str(fila['alarma']).lower() else fila['portero'], axis=1\n",
        ")\n",
        "\n",
        "df17['portero'] = df17.apply(\n",
        "    lambda fila: 1 if \"conserje\" in str(fila['alarma']).lower() else fila['portero'], axis=1\n",
        ")\n",
        "\n",
        "df17['portero'] = df17.apply(\n",
        "    lambda fila: 1 if \"vigilancia\" in str(fila['alarma']).lower() else fila['portero'], axis=1\n",
        ")\n",
        "\n",
        "df17['alarma'] = df17.apply(\n",
        "    lambda fila: 1 if \"alarma\" in str(fila['alarma']).lower() else fila['alarma'], axis=1\n",
        ")"
      ]
    },
    {
      "cell_type": "code",
      "execution_count": 4705,
      "metadata": {},
      "outputs": [
        {
          "data": {
            "text/plain": [
              "Index(['title', 'url', 'precio_anterior', 'descuento', 'EUR/m2', 'm2_constr',\n",
              "       'distrito', 'cod_distrito', 'barrio', 'cod_barrio', 'zona', 'calle',\n",
              "       'consumoce_ano', 'letra_ce', 'emisiones_co2', 'tipologia', 'estado',\n",
              "       'amueblado', 'planta', 'dormitorios', 'banos', 'balcon', 'terraza',\n",
              "       'garaje', 'trastero', 'ascensor', 'calefaccion', 'antiguedad',\n",
              "       'num_plantas', 'aire_acondicionado', 'jardin', 'inmueble_ingresos',\n",
              "       'alquiler_opcion_a_compra', 'nuda_propiedad', 'tipo_inmueble',\n",
              "       'tiene_armario', 'cancha_tenis',\n",
              "       'carpinteria_exterior_doble_vidrio/pvc',\n",
              "       'carpinteria_exterior_doble_vidrio/madera',\n",
              "       'carpinteria_exterior_doble_vidrio/metal',\n",
              "       'carpinteria_exterior_triple_vidrio/madera',\n",
              "       'carpinteria_exterior_triple_vidrio/metal',\n",
              "       'carpinteria_exterior_vidrio/pvc', 'carpinteria_exterior_vidrio/madera',\n",
              "       'carpinteria_exterior_vidrio/metal', 'chimenea', 'cocina',\n",
              "       'fibra_optica', 'exterior', 'interior', 'interior_y_exterior',\n",
              "       'piscina', 'porton_electrico', 'puerta_blindada', 'alarma',\n",
              "       'videoportero', '€_comunidad_mes', 'acceso_discapacitado',\n",
              "       'orientacion', 'precio', 'web', 'fecha_descarga', 'actualizacion',\n",
              "       'armarios', 'codigo_Postal', 'm2_utiles', 'referencia', 'tipo_suelo',\n",
              "       'certificado_energetico', 'tiene_jardin', 'descripcion_larga',\n",
              "       'num_visitas', 'fecha_publicacion', 'titularanuncio', 'num_pisos',\n",
              "       'puerta_seguridad', 'zonas_verdes', 'gastos_comunidad', 'tiene_piscina',\n",
              "       'tipo_fachada', 'agua_caliente', 'consumo_energia', 'nombre_oficina',\n",
              "       'letrace', 'portero', 'orientacion_este', 'orientacion_oeste',\n",
              "       'orientacion_sur', 'num_garajes', 'clasificacion_aire', 'grupo_cocina'],\n",
              "      dtype='object')"
            ]
          },
          "execution_count": 4705,
          "metadata": {},
          "output_type": "execute_result"
        }
      ],
      "source": [
        "df17.columns"
      ]
    },
    {
      "cell_type": "code",
      "execution_count": 4706,
      "metadata": {
        "id": "NtVjbJ7kxX5g"
      },
      "outputs": [
        {
          "data": {
            "text/html": [
              "<div>\n",
              "<style scoped>\n",
              "    .dataframe tbody tr th:only-of-type {\n",
              "        vertical-align: middle;\n",
              "    }\n",
              "\n",
              "    .dataframe tbody tr th {\n",
              "        vertical-align: top;\n",
              "    }\n",
              "\n",
              "    .dataframe thead th {\n",
              "        text-align: right;\n",
              "    }\n",
              "</style>\n",
              "<table border=\"1\" class=\"dataframe\">\n",
              "  <thead>\n",
              "    <tr style=\"text-align: right;\">\n",
              "      <th></th>\n",
              "      <th>precio</th>\n",
              "      <th>alarma</th>\n",
              "      <th>puerta_blindada</th>\n",
              "    </tr>\n",
              "  </thead>\n",
              "  <tbody>\n",
              "    <tr>\n",
              "      <th>3373</th>\n",
              "      <td>1050000</td>\n",
              "      <td>1</td>\n",
              "      <td>NaN</td>\n",
              "    </tr>\n",
              "    <tr>\n",
              "      <th>3374</th>\n",
              "      <td>1985000</td>\n",
              "      <td>1</td>\n",
              "      <td>NaN</td>\n",
              "    </tr>\n",
              "    <tr>\n",
              "      <th>4331</th>\n",
              "      <td>225000</td>\n",
              "      <td>1</td>\n",
              "      <td>NaN</td>\n",
              "    </tr>\n",
              "    <tr>\n",
              "      <th>5869</th>\n",
              "      <td>145000</td>\n",
              "      <td>1</td>\n",
              "      <td>NaN</td>\n",
              "    </tr>\n",
              "    <tr>\n",
              "      <th>8715</th>\n",
              "      <td>81500</td>\n",
              "      <td>1.00</td>\n",
              "      <td>NaN</td>\n",
              "    </tr>\n",
              "    <tr>\n",
              "      <th>8754</th>\n",
              "      <td>115000</td>\n",
              "      <td>1.00</td>\n",
              "      <td>NaN</td>\n",
              "    </tr>\n",
              "    <tr>\n",
              "      <th>9297</th>\n",
              "      <td>925000</td>\n",
              "      <td>1.00</td>\n",
              "      <td>NaN</td>\n",
              "    </tr>\n",
              "    <tr>\n",
              "      <th>9351</th>\n",
              "      <td>419900</td>\n",
              "      <td>1.00</td>\n",
              "      <td>NaN</td>\n",
              "    </tr>\n",
              "    <tr>\n",
              "      <th>9376</th>\n",
              "      <td>229000</td>\n",
              "      <td>1.00</td>\n",
              "      <td>NaN</td>\n",
              "    </tr>\n",
              "    <tr>\n",
              "      <th>9399</th>\n",
              "      <td>450000</td>\n",
              "      <td>1.00</td>\n",
              "      <td>NaN</td>\n",
              "    </tr>\n",
              "    <tr>\n",
              "      <th>9446</th>\n",
              "      <td>7570000</td>\n",
              "      <td>1.00</td>\n",
              "      <td>NaN</td>\n",
              "    </tr>\n",
              "    <tr>\n",
              "      <th>9451</th>\n",
              "      <td>1190000</td>\n",
              "      <td>1.00</td>\n",
              "      <td>NaN</td>\n",
              "    </tr>\n",
              "    <tr>\n",
              "      <th>9456</th>\n",
              "      <td>1290000</td>\n",
              "      <td>1.00</td>\n",
              "      <td>NaN</td>\n",
              "    </tr>\n",
              "    <tr>\n",
              "      <th>9458</th>\n",
              "      <td>3750000</td>\n",
              "      <td>1.00</td>\n",
              "      <td>NaN</td>\n",
              "    </tr>\n",
              "    <tr>\n",
              "      <th>9460</th>\n",
              "      <td>239900</td>\n",
              "      <td>1.00</td>\n",
              "      <td>NaN</td>\n",
              "    </tr>\n",
              "    <tr>\n",
              "      <th>9544</th>\n",
              "      <td>560000</td>\n",
              "      <td>1.00</td>\n",
              "      <td>NaN</td>\n",
              "    </tr>\n",
              "    <tr>\n",
              "      <th>9621</th>\n",
              "      <td>1050000</td>\n",
              "      <td>1.00</td>\n",
              "      <td>NaN</td>\n",
              "    </tr>\n",
              "    <tr>\n",
              "      <th>9634</th>\n",
              "      <td>1650000</td>\n",
              "      <td>1.00</td>\n",
              "      <td>NaN</td>\n",
              "    </tr>\n",
              "    <tr>\n",
              "      <th>9645</th>\n",
              "      <td>169990</td>\n",
              "      <td>1.00</td>\n",
              "      <td>NaN</td>\n",
              "    </tr>\n",
              "    <tr>\n",
              "      <th>9663</th>\n",
              "      <td>367000</td>\n",
              "      <td>1.00</td>\n",
              "      <td>NaN</td>\n",
              "    </tr>\n",
              "    <tr>\n",
              "      <th>9666</th>\n",
              "      <td>985000</td>\n",
              "      <td>1.00</td>\n",
              "      <td>NaN</td>\n",
              "    </tr>\n",
              "    <tr>\n",
              "      <th>9677</th>\n",
              "      <td>345000</td>\n",
              "      <td>1.00</td>\n",
              "      <td>NaN</td>\n",
              "    </tr>\n",
              "    <tr>\n",
              "      <th>9700</th>\n",
              "      <td>3200000</td>\n",
              "      <td>1.00</td>\n",
              "      <td>NaN</td>\n",
              "    </tr>\n",
              "    <tr>\n",
              "      <th>9707</th>\n",
              "      <td>328000</td>\n",
              "      <td>1.00</td>\n",
              "      <td>NaN</td>\n",
              "    </tr>\n",
              "    <tr>\n",
              "      <th>9731</th>\n",
              "      <td>990000</td>\n",
              "      <td>1.00</td>\n",
              "      <td>NaN</td>\n",
              "    </tr>\n",
              "    <tr>\n",
              "      <th>9745</th>\n",
              "      <td>580000</td>\n",
              "      <td>1.00</td>\n",
              "      <td>NaN</td>\n",
              "    </tr>\n",
              "    <tr>\n",
              "      <th>9748</th>\n",
              "      <td>878000</td>\n",
              "      <td>1.00</td>\n",
              "      <td>NaN</td>\n",
              "    </tr>\n",
              "    <tr>\n",
              "      <th>9774</th>\n",
              "      <td>138000</td>\n",
              "      <td>1.00</td>\n",
              "      <td>NaN</td>\n",
              "    </tr>\n",
              "    <tr>\n",
              "      <th>9776</th>\n",
              "      <td>945000</td>\n",
              "      <td>1.00</td>\n",
              "      <td>NaN</td>\n",
              "    </tr>\n",
              "    <tr>\n",
              "      <th>9789</th>\n",
              "      <td>1560000</td>\n",
              "      <td>1.00</td>\n",
              "      <td>NaN</td>\n",
              "    </tr>\n",
              "    <tr>\n",
              "      <th>9790</th>\n",
              "      <td>580000</td>\n",
              "      <td>1.00</td>\n",
              "      <td>NaN</td>\n",
              "    </tr>\n",
              "    <tr>\n",
              "      <th>9797</th>\n",
              "      <td>345000</td>\n",
              "      <td>1.00</td>\n",
              "      <td>NaN</td>\n",
              "    </tr>\n",
              "    <tr>\n",
              "      <th>9810</th>\n",
              "      <td>7400000</td>\n",
              "      <td>1.00</td>\n",
              "      <td>NaN</td>\n",
              "    </tr>\n",
              "    <tr>\n",
              "      <th>9858</th>\n",
              "      <td>149000</td>\n",
              "      <td>1.00</td>\n",
              "      <td>NaN</td>\n",
              "    </tr>\n",
              "    <tr>\n",
              "      <th>9871</th>\n",
              "      <td>1850000</td>\n",
              "      <td>1.00</td>\n",
              "      <td>NaN</td>\n",
              "    </tr>\n",
              "    <tr>\n",
              "      <th>9886</th>\n",
              "      <td>725000</td>\n",
              "      <td>1.00</td>\n",
              "      <td>NaN</td>\n",
              "    </tr>\n",
              "    <tr>\n",
              "      <th>9888</th>\n",
              "      <td>797000</td>\n",
              "      <td>1.00</td>\n",
              "      <td>NaN</td>\n",
              "    </tr>\n",
              "    <tr>\n",
              "      <th>9892</th>\n",
              "      <td>374000</td>\n",
              "      <td>1.00</td>\n",
              "      <td>NaN</td>\n",
              "    </tr>\n",
              "    <tr>\n",
              "      <th>9901</th>\n",
              "      <td>2898000</td>\n",
              "      <td>1.00</td>\n",
              "      <td>NaN</td>\n",
              "    </tr>\n",
              "    <tr>\n",
              "      <th>9922</th>\n",
              "      <td>995000</td>\n",
              "      <td>1.00</td>\n",
              "      <td>NaN</td>\n",
              "    </tr>\n",
              "    <tr>\n",
              "      <th>9930</th>\n",
              "      <td>435000</td>\n",
              "      <td>1.00</td>\n",
              "      <td>NaN</td>\n",
              "    </tr>\n",
              "    <tr>\n",
              "      <th>9978</th>\n",
              "      <td>208000</td>\n",
              "      <td>1.00</td>\n",
              "      <td>NaN</td>\n",
              "    </tr>\n",
              "    <tr>\n",
              "      <th>9992</th>\n",
              "      <td>500000</td>\n",
              "      <td>1.00</td>\n",
              "      <td>NaN</td>\n",
              "    </tr>\n",
              "    <tr>\n",
              "      <th>10014</th>\n",
              "      <td>1800000</td>\n",
              "      <td>1.00</td>\n",
              "      <td>NaN</td>\n",
              "    </tr>\n",
              "    <tr>\n",
              "      <th>10046</th>\n",
              "      <td>870000</td>\n",
              "      <td>1.00</td>\n",
              "      <td>NaN</td>\n",
              "    </tr>\n",
              "    <tr>\n",
              "      <th>10078</th>\n",
              "      <td>745100</td>\n",
              "      <td>1.00</td>\n",
              "      <td>NaN</td>\n",
              "    </tr>\n",
              "    <tr>\n",
              "      <th>10079</th>\n",
              "      <td>136000</td>\n",
              "      <td>1.00</td>\n",
              "      <td>NaN</td>\n",
              "    </tr>\n",
              "    <tr>\n",
              "      <th>10097</th>\n",
              "      <td>1939000</td>\n",
              "      <td>1.00</td>\n",
              "      <td>NaN</td>\n",
              "    </tr>\n",
              "    <tr>\n",
              "      <th>10144</th>\n",
              "      <td>800000</td>\n",
              "      <td>1.00</td>\n",
              "      <td>NaN</td>\n",
              "    </tr>\n",
              "    <tr>\n",
              "      <th>10182</th>\n",
              "      <td>870000</td>\n",
              "      <td>1.00</td>\n",
              "      <td>NaN</td>\n",
              "    </tr>\n",
              "    <tr>\n",
              "      <th>10183</th>\n",
              "      <td>515000</td>\n",
              "      <td>1.00</td>\n",
              "      <td>NaN</td>\n",
              "    </tr>\n",
              "    <tr>\n",
              "      <th>10200</th>\n",
              "      <td>740000</td>\n",
              "      <td>1.00</td>\n",
              "      <td>NaN</td>\n",
              "    </tr>\n",
              "  </tbody>\n",
              "</table>\n",
              "</div>"
            ],
            "text/plain": [
              "        precio alarma puerta_blindada\n",
              "3373   1050000      1             NaN\n",
              "3374   1985000      1             NaN\n",
              "4331    225000      1             NaN\n",
              "5869    145000      1             NaN\n",
              "8715     81500   1.00             NaN\n",
              "8754    115000   1.00             NaN\n",
              "9297    925000   1.00             NaN\n",
              "9351    419900   1.00             NaN\n",
              "9376    229000   1.00             NaN\n",
              "9399    450000   1.00             NaN\n",
              "9446   7570000   1.00             NaN\n",
              "9451   1190000   1.00             NaN\n",
              "9456   1290000   1.00             NaN\n",
              "9458   3750000   1.00             NaN\n",
              "9460    239900   1.00             NaN\n",
              "9544    560000   1.00             NaN\n",
              "9621   1050000   1.00             NaN\n",
              "9634   1650000   1.00             NaN\n",
              "9645    169990   1.00             NaN\n",
              "9663    367000   1.00             NaN\n",
              "9666    985000   1.00             NaN\n",
              "9677    345000   1.00             NaN\n",
              "9700   3200000   1.00             NaN\n",
              "9707    328000   1.00             NaN\n",
              "9731    990000   1.00             NaN\n",
              "9745    580000   1.00             NaN\n",
              "9748    878000   1.00             NaN\n",
              "9774    138000   1.00             NaN\n",
              "9776    945000   1.00             NaN\n",
              "9789   1560000   1.00             NaN\n",
              "9790    580000   1.00             NaN\n",
              "9797    345000   1.00             NaN\n",
              "9810   7400000   1.00             NaN\n",
              "9858    149000   1.00             NaN\n",
              "9871   1850000   1.00             NaN\n",
              "9886    725000   1.00             NaN\n",
              "9888    797000   1.00             NaN\n",
              "9892    374000   1.00             NaN\n",
              "9901   2898000   1.00             NaN\n",
              "9922    995000   1.00             NaN\n",
              "9930    435000   1.00             NaN\n",
              "9978    208000   1.00             NaN\n",
              "9992    500000   1.00             NaN\n",
              "10014  1800000   1.00             NaN\n",
              "10046   870000   1.00             NaN\n",
              "10078   745100   1.00             NaN\n",
              "10079   136000   1.00             NaN\n",
              "10097  1939000   1.00             NaN\n",
              "10144   800000   1.00             NaN\n",
              "10182   870000   1.00             NaN\n",
              "10183   515000   1.00             NaN\n",
              "10200   740000   1.00             NaN"
            ]
          },
          "execution_count": 4706,
          "metadata": {},
          "output_type": "execute_result"
        }
      ],
      "source": [
        "\n",
        "df17.query(\"alarma==1 | puerta_blindada==1\")[['precio','alarma','puerta_blindada']]"
      ]
    },
    {
      "cell_type": "markdown",
      "metadata": {
        "id": "xeyv--TbxX5h"
      },
      "source": [
        "€_comunidad_mes"
      ]
    },
    {
      "cell_type": "code",
      "execution_count": 4707,
      "metadata": {},
      "outputs": [
        {
          "data": {
            "text/plain": [
              "€_comunidad_mes\n",
              "NaN    9676\n",
              "50       23\n",
              "60       22\n",
              "100      17\n",
              "70       15\n",
              "       ... \n",
              "270       1\n",
              "9         1\n",
              "39        1\n",
              "294       1\n",
              "108       1\n",
              "Name: count, Length: 204, dtype: int64"
            ]
          },
          "execution_count": 4707,
          "metadata": {},
          "output_type": "execute_result"
        }
      ],
      "source": [
        "df17['€_comunidad_mes'].value_counts(dropna=False)"
      ]
    },
    {
      "cell_type": "code",
      "execution_count": 4708,
      "metadata": {
        "id": "UYEZU4cRxX5h"
      },
      "outputs": [
        {
          "data": {
            "text/plain": [
              "gastos_comunidad\n",
              "NaN     10169\n",
              "50          8\n",
              "45          4\n",
              "40          3\n",
              "69          1\n",
              "2110        1\n",
              "500         1\n",
              "550         1\n",
              "380         1\n",
              "60          1\n",
              "236         1\n",
              "38          1\n",
              "30          1\n",
              "35          1\n",
              "150         1\n",
              "74          1\n",
              "65          1\n",
              "110         1\n",
              "100         1\n",
              "180         1\n",
              "20          1\n",
              "99          1\n",
              "850         1\n",
              "Name: count, dtype: int64"
            ]
          },
          "execution_count": 4708,
          "metadata": {},
          "output_type": "execute_result"
        }
      ],
      "source": [
        "df17['gastos_comunidad'].value_counts(dropna=False)"
      ]
    },
    {
      "cell_type": "code",
      "execution_count": 4709,
      "metadata": {},
      "outputs": [],
      "source": [
        "df17['gastos_comunidad'] = df17.apply(\n",
        "    lambda fila: fila['€_comunidad_mes'] if pd.isna(fila['gastos_comunidad']) else fila['gastos_comunidad'], axis=1\n",
        ")"
      ]
    },
    {
      "cell_type": "code",
      "execution_count": 4710,
      "metadata": {},
      "outputs": [],
      "source": [
        "df17=df17.drop(columns='€_comunidad_mes')"
      ]
    },
    {
      "cell_type": "code",
      "execution_count": 4711,
      "metadata": {
        "id": "Iu6SxlmxxX5h"
      },
      "outputs": [
        {
          "data": {
            "text/plain": [
              "(10203, 90)"
            ]
          },
          "execution_count": 4711,
          "metadata": {},
          "output_type": "execute_result"
        }
      ],
      "source": [
        "df17.shape"
      ]
    },
    {
      "cell_type": "code",
      "execution_count": 4712,
      "metadata": {
        "id": "9f_1XKEzxX5k"
      },
      "outputs": [
        {
          "data": {
            "text/plain": [
              "acceso_discapacitado\n",
              " NaN                              9699\n",
              " Exteriores                        211\n",
              " 0.0                               187\n",
              " 1.0                                69\n",
              " Ver todas las características      25\n",
              "1.00                                10\n",
              " Otros                               2\n",
              "Name: count, dtype: int64"
            ]
          },
          "execution_count": 4712,
          "metadata": {},
          "output_type": "execute_result"
        }
      ],
      "source": [
        "df17['acceso_discapacitado'].value_counts(dropna=False)"
      ]
    },
    {
      "cell_type": "markdown",
      "metadata": {
        "id": "BRYtsJDgxX5k"
      },
      "source": [
        "## acceso_discapacitados"
      ]
    },
    {
      "cell_type": "code",
      "execution_count": 4713,
      "metadata": {
        "id": "6yZCV48gxX5k"
      },
      "outputs": [],
      "source": [
        "\n",
        "# Renombrar la columna 'acceso_discapacitado' a 'acceso_discapacidad'\n",
        "df17.rename(columns={'acceso_discapacitado': 'acceso_discapacidad'}, inplace=True)"
      ]
    },
    {
      "cell_type": "markdown",
      "metadata": {
        "id": "TAG5DcXVxX5k"
      },
      "source": [
        "## orientacion"
      ]
    },
    {
      "cell_type": "code",
      "execution_count": 4714,
      "metadata": {
        "id": "JOXg5S9bxX5l"
      },
      "outputs": [
        {
          "data": {
            "text/plain": [
              "orientacion\n",
              "Sur                                312\n",
              "Este                               263\n",
              " Sur                               161\n",
              " Este                              150\n",
              "Oeste                              148\n",
              "Norte                              131\n",
              " Oeste                             125\n",
              "Sureste                            105\n",
              " Norte                              80\n",
              " Sureste                            71\n",
              "Suroeste                            59\n",
              " Suroeste                           59\n",
              " Noroeste                           53\n",
              "Noreste                             52\n",
              "Noroeste                            51\n",
              " Noreste                            50\n",
              "sur                                 11\n",
              "Medio día                           10\n",
              "este                                 9\n",
              "-1                                   9\n",
              "norte                                4\n",
              "Nordeste                             2\n",
              "oeste                                2\n",
              "A la montaña                         2\n",
              "sur_este                             2\n",
              "Sur en la terraza y dormitorios      1\n",
              "norte_sur                            1\n",
              "Varias                               1\n",
              "Este y oeste                         1\n",
              "Sur, este y norte                    1\n",
              "Sur/norte                            1\n",
              "Vistas al palacio de parcent.        1\n",
              "Sudeste                              1\n",
              "Sur, oeste                           1\n",
              "Este, oeste y norte                  1\n",
              "Norte y este                         1\n",
              "Oeste y este                         1\n",
              "Este, noreste y suroeste             1\n",
              "Este|oeste                           1\n",
              "Este-oeste                           1\n",
              "Name: count, dtype: int64"
            ]
          },
          "execution_count": 4714,
          "metadata": {},
          "output_type": "execute_result"
        }
      ],
      "source": [
        "df17[\"orientacion\"].value_counts()"
      ]
    },
    {
      "cell_type": "code",
      "execution_count": 4715,
      "metadata": {
        "id": "MoP43XWyxX5l"
      },
      "outputs": [],
      "source": [
        "# Eliminar 'Orientacion' y limpiar espacios adicionales\n",
        "df17['orientacion'] = df17['orientacion'].str.replace('Orientacion', '').str.strip()\n",
        "\n",
        "# Sustituir ',' y '-' por '_' y poner los valores en minúsculas en la columna 'orientacion'\n",
        "df17['orientacion'] = df17['orientacion'].str.replace(',', '_').str.replace('/', '_').str.replace('|', '_').str.replace('y', '_').str.replace('-', '_').str.lower()\n",
        "\n",
        "# Eliminar espacios adicionales entre palabras\n",
        "df17['orientacion'] = df17['orientacion'].str.replace(r'\\s+', '_', regex=True).str.strip()\n",
        "df17['orientacion'] = df17['orientacion'].str.replace('__', '_')\n",
        "\n",
        "# Reemplazar múltiples valores en la columna 'orientacion' por np.nan\n",
        "df17['orientacion'] = df17['orientacion'].replace({\n",
        "    '__':'_',\n",
        "    '_1': np.nan,\n",
        "    'medio_día': np.nan,\n",
        "    'sur_en_la_terraza__dormitorios': np.nan,\n",
        "    'vistas_al_palacio_de_parcent.': np.nan,\n",
        "    'a_la_montaña': np.nan,\n",
        "    'varias':np.nan\n",
        "})\n",
        "\n",
        "df17['orientacion'] = df17['orientacion'].str.replace('__', '_')\n",
        "\n"
      ]
    },
    {
      "cell_type": "code",
      "execution_count": 4716,
      "metadata": {
        "id": "7_H7EU6bxX5l"
      },
      "outputs": [
        {
          "data": {
            "text/plain": [
              "array(['norte', 'sur_este', 'este', 'oeste', 'sur', 'norte_sur',\n",
              "       'suroeste', 'sureste', 'noroeste', 'este_oeste', 'noreste',\n",
              "       'sur_este_norte', 'este_noreste_suroeste', 'oeste_este',\n",
              "       'norte_este', 'este_oeste_norte', 'sur_oeste', 'sudeste',\n",
              "       'sur_norte', 'nordeste'], dtype=object)"
            ]
          },
          "execution_count": 4716,
          "metadata": {},
          "output_type": "execute_result"
        }
      ],
      "source": [
        "# Obtener los valores únicos de la columna 'orientacion' donde los valores no son nulos\n",
        "df17.loc[df17['orientacion'].notnull(), 'orientacion'].unique()\n"
      ]
    },
    {
      "cell_type": "code",
      "execution_count": 4717,
      "metadata": {
        "id": "YGkGqsyVxX5l"
      },
      "outputs": [],
      "source": [
        "\n",
        "\n",
        "# Procesar la columna 'orientacion'\n",
        "for index, value in df17[\"orientacion\"].items():\n",
        "    # hasta los nan los convierte a string, recordar luego cambiar 'nan' por nan de nuevo\n",
        "    value_str = str(value)\n",
        "    if re.search(r'\\bnorte\\b', value_str):\n",
        "        df17.at[index, \"orientacion_norte\"] = 1\n",
        "    if re.search(r'\\bsur\\b', value_str):\n",
        "        df17.at[index, \"orientacion_sur\"] = 1\n",
        "    if re.search(r'\\beste\\b', value_str):\n",
        "        df17.at[index, \"orientacion_este\"] = 1\n",
        "    if re.search(r'\\boeste\\b', value_str):\n",
        "        df17.at[index, \"orientacion_oeste\"] = 1\n",
        "    if re.search(r'\\bnoroeste\\b', value_str):\n",
        "        df17.at[index, \"orientacion_norte\"] = 1\n",
        "        df17.at[index, \"orientacion_oeste\"] = 1\n",
        "    if re.search(r'\\bsuroeste\\b', value_str):\n",
        "        df17.at[index, \"orientacion_sur\"] = 1\n",
        "        df17.at[index, \"orientacion_oeste\"] = 1\n",
        "    if re.search(r'\\bsureste\\b', value_str):\n",
        "        df17.at[index, \"orientacion_sur\"] = 1\n",
        "        df17.at[index, \"orientacion_este\"] = 1\n",
        "    if re.search(r'\\bnordeste\\b', value_str):\n",
        "        df17.at[index, \"orientacion_norte\"] = 1\n",
        "        df17.at[index, \"orientacion_este\"] = 1\n",
        "    if re.search(r'\\bsur_este\\b', value_str):\n",
        "        df17.at[index, \"orientacion_sur\"] = 1\n",
        "        df17.at[index, \"orientacion_este\"] = 1\n",
        "\n",
        "\n",
        "        \n",
        "\n",
        "# Revisar las columnas orientacion_norte,_sur y orientacion_sur,_este\n",
        "# y asegurarnos de que las combinaciones sean coherentes\n",
        "if \"orientacion_norte,_sur\" in df17.columns:\n",
        "    for index, value in df17[\"orientacion_norte,_sur\"].items():\n",
        "        if value == 1:\n",
        "            df17.at[index, \"orientacion_norte\"] = 1\n",
        "            df17.at[index, \"orientacion_sur\"] = 1\n",
        "\n",
        "if \"orientacion_sur,_este\" in df17.columns:\n",
        "    for index, value in df17[\"orientacion_sur,_este\"].items():\n",
        "        if value == 1:\n",
        "            df17.at[index, \"orientacion_sur\"] = 1\n",
        "            df17.at[index, \"orientacion_este\"] = 1\n"
      ]
    },
    {
      "cell_type": "code",
      "execution_count": 4718,
      "metadata": {
        "id": "X_81JUkbxX5l"
      },
      "outputs": [
        {
          "name": "stdout",
          "output_type": "stream",
          "text": [
            "      orientacion  orientacion_norte  orientacion_sur  orientacion_este  \\\n",
            "93          norte               1.00              NaN               NaN   \n",
            "174      sur_este                NaN             1.00              1.00   \n",
            "228          este                NaN              NaN              1.00   \n",
            "310      sur_este                NaN             1.00              1.00   \n",
            "361         oeste                NaN              NaN               NaN   \n",
            "...           ...                ...              ...               ...   \n",
            "9762          NaN                NaN              NaN              1.00   \n",
            "9874          NaN                NaN              NaN               NaN   \n",
            "9907          NaN                NaN             1.00               NaN   \n",
            "9908          NaN                NaN             1.00               NaN   \n",
            "10103         NaN                NaN             1.00               NaN   \n",
            "\n",
            "       orientacion_oeste  \n",
            "93                   NaN  \n",
            "174                  NaN  \n",
            "228                  NaN  \n",
            "310                  NaN  \n",
            "361                 1.00  \n",
            "...                  ...  \n",
            "9762                 NaN  \n",
            "9874                1.00  \n",
            "9907                 NaN  \n",
            "9908                 NaN  \n",
            "10103                NaN  \n",
            "\n",
            "[1917 rows x 5 columns]\n"
          ]
        }
      ],
      "source": [
        "# Filtrar filas donde todas las columnas relevantes no sean nulas\n",
        "filtered_df = df17[\n",
        "    df17[\"orientacion\"].notnull() |\n",
        "    df17[\"orientacion_norte\"].notnull() |\n",
        "    df17[\"orientacion_sur\"].notnull() |\n",
        "    df17[\"orientacion_este\"].notnull() |\n",
        "    df17[\"orientacion_oeste\"].notnull()\n",
        "   \n",
        "]\n",
        "\n",
        "# Mostrar las columnas deseadas\n",
        "result = filtered_df[[\"orientacion\", \"orientacion_norte\", \"orientacion_sur\", \"orientacion_este\", \"orientacion_oeste\"]]\n",
        "print(result)\n"
      ]
    },
    {
      "cell_type": "code",
      "execution_count": 4719,
      "metadata": {
        "id": "8-d_YWIaxX5l"
      },
      "outputs": [],
      "source": [
        "#eliminacion de las columnas orientacion,orientacion_sur,_este,orientacion_norte,_sur\n",
        "df17.drop(columns=['orientacion'], inplace=True)\n"
      ]
    },
    {
      "cell_type": "code",
      "execution_count": 4720,
      "metadata": {
        "id": "wkJi0JJNxX5m"
      },
      "outputs": [
        {
          "data": {
            "text/plain": [
              "title                 8400\n",
              "url                   8400\n",
              "precio_anterior         55\n",
              "descuento               55\n",
              "EUR/m2                6755\n",
              "                      ... \n",
              "orientacion_sur          0\n",
              "num_garajes             12\n",
              "clasificacion_aire    8400\n",
              "grupo_cocina          8400\n",
              "orientacion_norte        0\n",
              "Length: 90, dtype: int64"
            ]
          },
          "execution_count": 4720,
          "metadata": {},
          "output_type": "execute_result"
        }
      ],
      "source": [
        "df17.query(\"orientacion_norte!=1 and orientacion_sur!=1  and orientacion_este!=1  and orientacion_oeste!=1 \").count()"
      ]
    },
    {
      "cell_type": "code",
      "execution_count": 4721,
      "metadata": {
        "id": "7u0Wr1vNxX5m"
      },
      "outputs": [],
      "source": [
        "# Poner NaN en las columnas si no cumplen con la condición\n",
        "df17.loc[df17.query(\"orientacion_norte!=1 and orientacion_sur!=1 and orientacion_este!=1 and orientacion_oeste!=1\").index, [\"orientacion_norte\", \"orientacion_sur\", \"orientacion_este\", \"orientacion_oeste\"]] = np.nan\n",
        "\n",
        "# Asegurarse de que si alguna columna tiene valor 1, las demás sean 0\n",
        "df17[[\"orientacion_norte\", \"orientacion_sur\", \"orientacion_este\", \"orientacion_oeste\"]] = df17[[\"orientacion_norte\", \"orientacion_sur\", \"orientacion_este\", \"orientacion_oeste\"]].fillna(0)"
      ]
    },
    {
      "cell_type": "markdown",
      "metadata": {
        "id": "WAABsA_lxX5m"
      },
      "source": [
        "## web"
      ]
    },
    {
      "cell_type": "code",
      "execution_count": 4722,
      "metadata": {
        "id": "kTlbjtmJxX5m"
      },
      "outputs": [
        {
          "data": {
            "text/plain": [
              "web\n",
              "pisos.com      4728\n",
              "Indomio.com    3142\n",
              "redpiso        1460\n",
              "pisosmadrid     873\n",
              "Name: count, dtype: int64"
            ]
          },
          "execution_count": 4722,
          "metadata": {},
          "output_type": "execute_result"
        }
      ],
      "source": [
        "df17[\"web\"].value_counts(dropna=False)"
      ]
    },
    {
      "cell_type": "code",
      "execution_count": 4723,
      "metadata": {
        "id": "qVE-nvH3xX5m"
      },
      "outputs": [
        {
          "data": {
            "text/plain": [
              "fecha_descarga\n",
              "2024-11-20    3142\n",
              "19/08/2024    2745\n",
              "19/10/2024    1983\n",
              "28/10/2024    1460\n",
              "24/10/2024     873\n",
              "Name: count, dtype: int64"
            ]
          },
          "execution_count": 4723,
          "metadata": {},
          "output_type": "execute_result"
        }
      ],
      "source": [
        "df17[\"fecha_descarga\"].value_counts(dropna=False)"
      ]
    },
    {
      "cell_type": "markdown",
      "metadata": {
        "id": "1JjdrNFgxX5m"
      },
      "source": [
        "## certificado_energetico"
      ]
    },
    {
      "cell_type": "code",
      "execution_count": 4724,
      "metadata": {
        "id": "Q-J5-PAlxX5n"
      },
      "outputs": [
        {
          "data": {
            "text/plain": [
              "certificado_energetico\n",
              "NaN            4196\n",
              "0.0            2254\n",
              "No indicado    1832\n",
              "Disponible     1310\n",
              "1.0             611\n",
              "Name: count, dtype: int64"
            ]
          },
          "execution_count": 4724,
          "metadata": {},
          "output_type": "execute_result"
        }
      ],
      "source": [
        "df17[\"certificado_energetico\"].value_counts(dropna=False)"
      ]
    },
    {
      "cell_type": "code",
      "execution_count": 4725,
      "metadata": {
        "id": "K_K636i7xX5n"
      },
      "outputs": [
        {
          "data": {
            "text/html": [
              "<div>\n",
              "<style scoped>\n",
              "    .dataframe tbody tr th:only-of-type {\n",
              "        vertical-align: middle;\n",
              "    }\n",
              "\n",
              "    .dataframe tbody tr th {\n",
              "        vertical-align: top;\n",
              "    }\n",
              "\n",
              "    .dataframe thead th {\n",
              "        text-align: right;\n",
              "    }\n",
              "</style>\n",
              "<table border=\"1\" class=\"dataframe\">\n",
              "  <thead>\n",
              "    <tr style=\"text-align: right;\">\n",
              "      <th></th>\n",
              "      <th>certificado_energetico</th>\n",
              "      <th>consumoce_ano</th>\n",
              "      <th>letrace</th>\n",
              "      <th>emisiones_co2</th>\n",
              "    </tr>\n",
              "  </thead>\n",
              "  <tbody>\n",
              "    <tr>\n",
              "      <th>0</th>\n",
              "      <td>Disponible</td>\n",
              "      <td>≥ 3,51</td>\n",
              "      <td>NaN</td>\n",
              "      <td>D</td>\n",
              "    </tr>\n",
              "    <tr>\n",
              "      <th>1</th>\n",
              "      <td>No indicado</td>\n",
              "      <td>desconocido</td>\n",
              "      <td>NaN</td>\n",
              "      <td>No indicado</td>\n",
              "    </tr>\n",
              "    <tr>\n",
              "      <th>2</th>\n",
              "      <td>No indicado</td>\n",
              "      <td>desconocido</td>\n",
              "      <td>NaN</td>\n",
              "      <td>No indicado</td>\n",
              "    </tr>\n",
              "    <tr>\n",
              "      <th>3</th>\n",
              "      <td>No indicado</td>\n",
              "      <td>desconocido</td>\n",
              "      <td>NaN</td>\n",
              "      <td>No indicado</td>\n",
              "    </tr>\n",
              "    <tr>\n",
              "      <th>4</th>\n",
              "      <td>Disponible</td>\n",
              "      <td>desconocido</td>\n",
              "      <td>NaN</td>\n",
              "      <td>No indicado</td>\n",
              "    </tr>\n",
              "    <tr>\n",
              "      <th>...</th>\n",
              "      <td>...</td>\n",
              "      <td>...</td>\n",
              "      <td>...</td>\n",
              "      <td>...</td>\n",
              "    </tr>\n",
              "    <tr>\n",
              "      <th>9298</th>\n",
              "      <td>NaN</td>\n",
              "      <td>NaN</td>\n",
              "      <td>NaN</td>\n",
              "      <td>34.00</td>\n",
              "    </tr>\n",
              "    <tr>\n",
              "      <th>9317</th>\n",
              "      <td>NaN</td>\n",
              "      <td>NaN</td>\n",
              "      <td>NaN</td>\n",
              "      <td>45.00</td>\n",
              "    </tr>\n",
              "    <tr>\n",
              "      <th>9318</th>\n",
              "      <td>NaN</td>\n",
              "      <td>NaN</td>\n",
              "      <td>NaN</td>\n",
              "      <td>86.00</td>\n",
              "    </tr>\n",
              "    <tr>\n",
              "      <th>9431</th>\n",
              "      <td>NaN</td>\n",
              "      <td>NaN</td>\n",
              "      <td>B</td>\n",
              "      <td>NaN</td>\n",
              "    </tr>\n",
              "    <tr>\n",
              "      <th>9433</th>\n",
              "      <td>NaN</td>\n",
              "      <td>NaN</td>\n",
              "      <td>B</td>\n",
              "      <td>NaN</td>\n",
              "    </tr>\n",
              "  </tbody>\n",
              "</table>\n",
              "<p>3405 rows × 4 columns</p>\n",
              "</div>"
            ],
            "text/plain": [
              "     certificado_energetico consumoce_ano letrace emisiones_co2\n",
              "0                Disponible        ≥ 3,51     NaN             D\n",
              "1               No indicado   desconocido     NaN   No indicado\n",
              "2               No indicado   desconocido     NaN   No indicado\n",
              "3               No indicado   desconocido     NaN   No indicado\n",
              "4                Disponible   desconocido     NaN   No indicado\n",
              "...                     ...           ...     ...           ...\n",
              "9298                    NaN           NaN     NaN         34.00\n",
              "9317                    NaN           NaN     NaN         45.00\n",
              "9318                    NaN           NaN     NaN         86.00\n",
              "9431                    NaN           NaN       B           NaN\n",
              "9433                    NaN           NaN       B           NaN\n",
              "\n",
              "[3405 rows x 4 columns]"
            ]
          },
          "execution_count": 4725,
          "metadata": {},
          "output_type": "execute_result"
        }
      ],
      "source": [
        "df17.query(\"consumoce_ano.notnull() | letrace.notnull() | emisiones_co2.notnull()\" )[ [\"certificado_energetico\",'consumoce_ano','letrace','emisiones_co2']]"
      ]
    },
    {
      "cell_type": "code",
      "execution_count": 4726,
      "metadata": {
        "id": "kGsNoC8ExX5n"
      },
      "outputs": [
        {
          "data": {
            "text/plain": [
              "emisiones_co2\n",
              " NaN                    6800\n",
              " No indicado            2027\n",
              " Inclasificable          289\n",
              " E                       122\n",
              " D                        97\n",
              "                        ... \n",
              " 45.7 kg CO₂/m² añoE       1\n",
              " 26.3 kg CO₂/m² añoD       1\n",
              " 321 kg CO₂/m² añoE        1\n",
              " 13 kg CO₂/m² añoC         1\n",
              "86.00                      1\n",
              "Name: count, Length: 350, dtype: int64"
            ]
          },
          "execution_count": 4726,
          "metadata": {},
          "output_type": "execute_result"
        }
      ],
      "source": [
        "df17[\"emisiones_co2\"].value_counts(dropna=False)"
      ]
    },
    {
      "cell_type": "code",
      "execution_count": 4727,
      "metadata": {
        "id": "St5La6G2xX5n"
      },
      "outputs": [
        {
          "data": {
            "text/plain": [
              "array(['≥ 3,51', 'desconocido', '90', '258.5', '129', '284', '207', '145',\n",
              "       '170', '77', '138', '120', '231.1', '224', '191', '50', '194.2',\n",
              "       '216', '121', '85', '123', '399', '999', '41.2', '294', '300',\n",
              "       '173', '186', '193', '400', '170.3', '172.2', '444', '176',\n",
              "       '209.7', '24', '74', '164', '163', '222', '2', '328', '242', '78',\n",
              "       '89', '87', '382', '342', '441', '767', '111.1', '312', '199',\n",
              "       '407', '336.3', '132', '266', '55', '248', '38', '463', '188',\n",
              "       '126', '414', '155', '460', '301', '44', '354', '285', '178',\n",
              "       '272', '260', '324', '221', '200.8', '35', '40', '47', '158',\n",
              "       '262', '130', '114.1', '212', '192', '68.5', '214', '117', '186.9',\n",
              "       '245', '299', '204', '137.9', '166', '55.5', '160', '255', '189',\n",
              "       '195', '263', '244', '135', '180', '110', '321', '225', '313',\n",
              "       '200', '149', nan], dtype=object)"
            ]
          },
          "execution_count": 4727,
          "metadata": {},
          "output_type": "execute_result"
        }
      ],
      "source": [
        "df17[\"consumoce_ano\"].unique()"
      ]
    },
    {
      "cell_type": "code",
      "execution_count": 4728,
      "metadata": {
        "id": "M1mxUtiZjhiX"
      },
      "outputs": [],
      "source": [
        "# Asignar letrace a letra_ce solo cuando letra_ce es nulo y letrace no es nulo\n",
        "df17.loc[df17['letra_ce'].isnull() & df17['letrace'].notnull(), 'letra_ce'] = df17['letrace']\n",
        "df17=df17.drop(columns='letrace')"
      ]
    },
    {
      "cell_type": "code",
      "execution_count": 4729,
      "metadata": {
        "id": "xWX8TIAPxX5n"
      },
      "outputs": [],
      "source": [
        "#se encuentra un piso que han modificado los valores en la web\n",
        "# debe tener https://www.indomio.es/anuncios/97003125/, Consumo de energia:57.9 kWh/m² año, letrace:B, e Emisiones de CO₂:11.08 kg CO₂/m² año B\n",
        "# Asignar valores específicos si la URL coincide\n",
        "for index, value in df17[\"url\"].items():\n",
        "    if value == \"https://www.indomio.es/anuncios/97003125/\":\n",
        "        df17.at[index, \"consumoce_ano\"] = 57.9\n",
        "        df17.at[index, \"letra_ce\"] = \"B\"\n",
        "        df17.at[index, \"emisiones_co2\"] = \"11.08 kg CO₂/m² año B\"\n"
      ]
    },
    {
      "cell_type": "code",
      "execution_count": 4730,
      "metadata": {
        "id": "p_W8iN9vjhih"
      },
      "outputs": [
        {
          "data": {
            "text/plain": [
              "letra_ce\n",
              "NaN    8280\n",
              "E       572\n",
              "e       332\n",
              "D       248\n",
              "F       174\n",
              "G       134\n",
              "d       126\n",
              "C        96\n",
              "A        48\n",
              "f        46\n",
              "c        46\n",
              "B        40\n",
              "g        28\n",
              "a        18\n",
              "b        15\n",
              "Name: count, dtype: int64"
            ]
          },
          "execution_count": 4730,
          "metadata": {},
          "output_type": "execute_result"
        }
      ],
      "source": [
        "df17[\"letra_ce\"].value_counts(dropna=False)"
      ]
    },
    {
      "cell_type": "markdown",
      "metadata": {
        "id": "mya8wxmexX5o"
      },
      "source": [
        "#"
      ]
    },
    {
      "cell_type": "markdown",
      "metadata": {
        "id": "d3rCstawxX5o"
      },
      "source": [
        "CONSUMO Y LETRA\n",
        "A: Menos de 50 kWh/m²/año\n",
        "B: 51-90 kWh/m²/año\n",
        "C: 91-150 kWh/m²/año\n",
        "D: 151-230 kWh/m²/año\n",
        "E: 231-330 kWh/m²/año\n",
        "F: 331-450 kWh/m²/año\n",
        "G: Más de 450 kWh/m²/año\n",
        "\n",
        "En el caso de las emisiones:\n",
        "A: Menos de 10 kg CO2/m²/año\n",
        "B: 10-20 kg CO2/m²/año\n",
        "C: 20-35 kg CO2/m²/año\n",
        "D: 35-55 kg CO2/m²/año\n",
        "E: 55-75 kg CO2/m²/año\n",
        "F: 75-100 kg CO2/m²/año\n",
        "G: Más de 100 kg CO2/m²/año"
      ]
    },
    {
      "cell_type": "code",
      "execution_count": 4731,
      "metadata": {
        "id": "ZGtl81aoxX5o"
      },
      "outputs": [
        {
          "data": {
            "text/plain": [
              "array(['Indomio.com', 'pisos.com', 'redpiso', 'pisosmadrid'], dtype=object)"
            ]
          },
          "execution_count": 4731,
          "metadata": {},
          "output_type": "execute_result"
        }
      ],
      "source": [
        "#Revisar que filas no tiene descripcion_larga , deberian tenerlas todas\n",
        "df17.query(\"descripcion_larga.isnull()\")['web'].unique()"
      ]
    },
    {
      "cell_type": "code",
      "execution_count": 4732,
      "metadata": {
        "id": "z4lN8T-dxX5p"
      },
      "outputs": [
        {
          "data": {
            "text/plain": [
              "zonas_verdes\n",
              "NaN     10072\n",
              "1.00      131\n",
              "Name: count, dtype: int64"
            ]
          },
          "execution_count": 4732,
          "metadata": {},
          "output_type": "execute_result"
        }
      ],
      "source": [
        "df17['zonas_verdes'].value_counts(dropna=False)"
      ]
    },
    {
      "cell_type": "code",
      "execution_count": 4733,
      "metadata": {
        "id": "nl2OS2m9xX5p"
      },
      "outputs": [
        {
          "data": {
            "text/plain": [
              "{'zonas_verdes': 98.7160639027737, 'nombre_oficina': 85.69048319121826}"
            ]
          },
          "execution_count": 4733,
          "metadata": {},
          "output_type": "execute_result"
        }
      ],
      "source": [
        "porcentaje_nulos(df17,['zonas_verdes','nombre_oficina'])"
      ]
    },
    {
      "cell_type": "code",
      "execution_count": 4734,
      "metadata": {
        "id": "bt4khffGxX5q"
      },
      "outputs": [],
      "source": [
        "df17.loc[df17['consumoce_ano'].isnull(), 'consumoce_ano'] = df17.loc[df17['consumoce_ano'].isnull(), 'consumo_energia'].apply(lambda x: extraer_numero(x) if isinstance(x, str) else None)"
      ]
    },
    {
      "cell_type": "code",
      "execution_count": 4735,
      "metadata": {
        "id": "9Nq3u8nixX5q"
      },
      "outputs": [],
      "source": [
        "columns_to_replace = ['consumoce_ano','letra_ce', 'emisiones_co2']\n",
        "df17[columns_to_replace] = df17[columns_to_replace].replace(['desconocido', 'No indicado', 'Inclasificable','Pendiente','Exento','Cal energetica','Cal energetica Exento '], np.nan)"
      ]
    },
    {
      "cell_type": "code",
      "execution_count": 4736,
      "metadata": {
        "id": "r6sDc7oZjhip"
      },
      "outputs": [
        {
          "data": {
            "text/plain": [
              "letra_ce\n",
              "NaN    8280\n",
              "E       572\n",
              "e       332\n",
              "D       248\n",
              "F       174\n",
              "G       134\n",
              "d       126\n",
              "C        96\n",
              "A        48\n",
              "f        46\n",
              "c        46\n",
              "B        40\n",
              "g        28\n",
              "a        18\n",
              "b        15\n",
              "Name: count, dtype: int64"
            ]
          },
          "execution_count": 4736,
          "metadata": {},
          "output_type": "execute_result"
        }
      ],
      "source": [
        "df17[\"letra_ce\"].value_counts(dropna=False)"
      ]
    },
    {
      "cell_type": "code",
      "execution_count": 4737,
      "metadata": {
        "id": "v71eeVdQxX5q"
      },
      "outputs": [
        {
          "data": {
            "text/plain": [
              "emisiones_co2\n",
              " NaN                    9144\n",
              " E                       122\n",
              " D                        97\n",
              " F                        77\n",
              " C                        46\n",
              "                        ... \n",
              " 45.7 kg CO₂/m² añoE       1\n",
              " 26.3 kg CO₂/m² añoD       1\n",
              " 321 kg CO₂/m² añoE        1\n",
              " 13 kg CO₂/m² añoC         1\n",
              "86.00                      1\n",
              "Name: count, Length: 346, dtype: int64"
            ]
          },
          "execution_count": 4737,
          "metadata": {},
          "output_type": "execute_result"
        }
      ],
      "source": [
        "df17[\"emisiones_co2\"].value_counts(dropna=False)"
      ]
    },
    {
      "cell_type": "code",
      "execution_count": 4738,
      "metadata": {
        "id": "lb7CQjzLxX5r"
      },
      "outputs": [],
      "source": [
        "df17['emisiones_co2'] = df17['emisiones_co2'].str.replace('kg CO₂/m² año', '')\n"
      ]
    },
    {
      "cell_type": "code",
      "execution_count": 4739,
      "metadata": {
        "id": "MHErLWDDxX5r"
      },
      "outputs": [],
      "source": [
        "# Reemplazar 'NaN' con valores nulos de Pandas\n",
        "df17['emisiones_co2'] = df17['emisiones_co2'].replace('NaN', np.nan)\n",
        "\n",
        "# Extraer letra_emisiones y emisiones_ano\n",
        "df17[['emisiones_ano', 'letra_emisiones']] = df17['emisiones_co2'].str.extract(r'(?:(\\d+\\.\\d+|\\d+)\\s)?([A-Z])')\n",
        "\n",
        "# Convertir emisiones_ano a float\n",
        "df17['emisiones_ano'] = df17['emisiones_ano'].astype(float)"
      ]
    },
    {
      "cell_type": "code",
      "execution_count": 4740,
      "metadata": {
        "id": "kjoTpERajhir"
      },
      "outputs": [
        {
          "data": {
            "text/plain": [
              "letra_emisiones\n",
              "NaN    9405\n",
              "E       384\n",
              "D       154\n",
              "F       105\n",
              "C        60\n",
              "G        58\n",
              "A        19\n",
              "B        18\n",
              "Name: count, dtype: int64"
            ]
          },
          "execution_count": 4740,
          "metadata": {},
          "output_type": "execute_result"
        }
      ],
      "source": [
        "df17['letra_emisiones'].value_counts(dropna=False)"
      ]
    },
    {
      "cell_type": "code",
      "execution_count": 4741,
      "metadata": {
        "id": "l9JbTJnExX5r"
      },
      "outputs": [
        {
          "data": {
            "text/plain": [
              "emisiones_ano\n",
              "NaN      9816\n",
              "44.00      11\n",
              "42.00       9\n",
              "56.00       8\n",
              "36.00       8\n",
              "         ... \n",
              "56.90       1\n",
              "49.80       1\n",
              "58.10       1\n",
              "18.00       1\n",
              "86.00       1\n",
              "Name: count, Length: 180, dtype: int64"
            ]
          },
          "execution_count": 4741,
          "metadata": {},
          "output_type": "execute_result"
        }
      ],
      "source": [
        "df17['emisiones_ano'].value_counts(dropna=False)"
      ]
    },
    {
      "cell_type": "code",
      "execution_count": 4742,
      "metadata": {
        "id": "rKE7-ScexX5r"
      },
      "outputs": [
        {
          "data": {
            "text/html": [
              "<div>\n",
              "<style scoped>\n",
              "    .dataframe tbody tr th:only-of-type {\n",
              "        vertical-align: middle;\n",
              "    }\n",
              "\n",
              "    .dataframe tbody tr th {\n",
              "        vertical-align: top;\n",
              "    }\n",
              "\n",
              "    .dataframe thead th {\n",
              "        text-align: right;\n",
              "    }\n",
              "</style>\n",
              "<table border=\"1\" class=\"dataframe\">\n",
              "  <thead>\n",
              "    <tr style=\"text-align: right;\">\n",
              "      <th></th>\n",
              "      <th>url</th>\n",
              "      <th>consumoce_ano</th>\n",
              "      <th>letra_ce</th>\n",
              "      <th>emisiones_co2</th>\n",
              "    </tr>\n",
              "  </thead>\n",
              "  <tbody>\n",
              "    <tr>\n",
              "      <th>7872</th>\n",
              "      <td>https://www.redpiso.es/inmueble/piso-en-venta-en-buenavista-carabanchel-madrid-madrid-RP442024126007</td>\n",
              "      <td>111</td>\n",
              "      <td>NaN</td>\n",
              "      <td>18.0</td>\n",
              "    </tr>\n",
              "    <tr>\n",
              "      <th>7873</th>\n",
              "      <td>https://www.redpiso.es/inmueble/piso-en-venta-en-buenavista-carabanchel-madrid-madrid-RP442024126427</td>\n",
              "      <td>145</td>\n",
              "      <td>NaN</td>\n",
              "      <td>24.0</td>\n",
              "    </tr>\n",
              "    <tr>\n",
              "      <th>7876</th>\n",
              "      <td>https://www.redpiso.es/inmueble/piso-en-venta-en-buenavista-carabanchel-madrid-madrid-RP442024126442</td>\n",
              "      <td>104</td>\n",
              "      <td>NaN</td>\n",
              "      <td>17.0</td>\n",
              "    </tr>\n",
              "    <tr>\n",
              "      <th>7882</th>\n",
              "      <td>https://www.redpiso.es/inmueble/piso-en-venta-en-buenavista-carabanchel-madrid-madrid-RP442024126423</td>\n",
              "      <td>88</td>\n",
              "      <td>NaN</td>\n",
              "      <td>14.0</td>\n",
              "    </tr>\n",
              "    <tr>\n",
              "      <th>7883</th>\n",
              "      <td>https://www.redpiso.es/inmueble/piso-en-venta-en-calle-alejandro-sanchez-opanel-carabanchel-madrid-madrid-RP512023115395</td>\n",
              "      <td>600</td>\n",
              "      <td>NaN</td>\n",
              "      <td>149.0</td>\n",
              "    </tr>\n",
              "    <tr>\n",
              "      <th>...</th>\n",
              "      <td>...</td>\n",
              "      <td>...</td>\n",
              "      <td>...</td>\n",
              "      <td>...</td>\n",
              "    </tr>\n",
              "    <tr>\n",
              "      <th>9287</th>\n",
              "      <td>https://www.redpiso.es/inmueble/piso-en-venta-en-calle-fresnedillas-fuentelarreina-fuencarral-el-pardo-madrid-madrid-RP722023118677</td>\n",
              "      <td>198</td>\n",
              "      <td>NaN</td>\n",
              "      <td>NaN</td>\n",
              "    </tr>\n",
              "    <tr>\n",
              "      <th>9292</th>\n",
              "      <td>https://www.redpiso.es/inmueble/piso-en-venta-en-calle-general-pardinas-58-lista-salamanca-madrid-madrid-RP1432024124685</td>\n",
              "      <td>326</td>\n",
              "      <td>NaN</td>\n",
              "      <td>NaN</td>\n",
              "    </tr>\n",
              "    <tr>\n",
              "      <th>9298</th>\n",
              "      <td>https://www.redpiso.es/inmueble/piso-en-venta-en-calle-orense-cuatro-caminos-tetuan-madrid-madrid-RP2332023114339</td>\n",
              "      <td>138</td>\n",
              "      <td>NaN</td>\n",
              "      <td>NaN</td>\n",
              "    </tr>\n",
              "    <tr>\n",
              "      <th>9317</th>\n",
              "      <td>https://www.redpiso.es/inmueble/piso-en-venta-en-calle-casado-del-alisal-jeronimos-retiro-madrid-madrid-RP1792023115851</td>\n",
              "      <td>180</td>\n",
              "      <td>NaN</td>\n",
              "      <td>NaN</td>\n",
              "    </tr>\n",
              "    <tr>\n",
              "      <th>9318</th>\n",
              "      <td>https://www.redpiso.es/inmueble/piso-en-venta-en-lista-salamanca-madrid-madrid-RP1642024124993</td>\n",
              "      <td>417</td>\n",
              "      <td>NaN</td>\n",
              "      <td>NaN</td>\n",
              "    </tr>\n",
              "  </tbody>\n",
              "</table>\n",
              "<p>260 rows × 4 columns</p>\n",
              "</div>"
            ],
            "text/plain": [
              "                                                                                                                                      url  \\\n",
              "7872                                 https://www.redpiso.es/inmueble/piso-en-venta-en-buenavista-carabanchel-madrid-madrid-RP442024126007   \n",
              "7873                                 https://www.redpiso.es/inmueble/piso-en-venta-en-buenavista-carabanchel-madrid-madrid-RP442024126427   \n",
              "7876                                 https://www.redpiso.es/inmueble/piso-en-venta-en-buenavista-carabanchel-madrid-madrid-RP442024126442   \n",
              "7882                                 https://www.redpiso.es/inmueble/piso-en-venta-en-buenavista-carabanchel-madrid-madrid-RP442024126423   \n",
              "7883             https://www.redpiso.es/inmueble/piso-en-venta-en-calle-alejandro-sanchez-opanel-carabanchel-madrid-madrid-RP512023115395   \n",
              "...                                                                                                                                   ...   \n",
              "9287  https://www.redpiso.es/inmueble/piso-en-venta-en-calle-fresnedillas-fuentelarreina-fuencarral-el-pardo-madrid-madrid-RP722023118677   \n",
              "9292             https://www.redpiso.es/inmueble/piso-en-venta-en-calle-general-pardinas-58-lista-salamanca-madrid-madrid-RP1432024124685   \n",
              "9298                    https://www.redpiso.es/inmueble/piso-en-venta-en-calle-orense-cuatro-caminos-tetuan-madrid-madrid-RP2332023114339   \n",
              "9317              https://www.redpiso.es/inmueble/piso-en-venta-en-calle-casado-del-alisal-jeronimos-retiro-madrid-madrid-RP1792023115851   \n",
              "9318                                       https://www.redpiso.es/inmueble/piso-en-venta-en-lista-salamanca-madrid-madrid-RP1642024124993   \n",
              "\n",
              "     consumoce_ano letra_ce emisiones_co2  \n",
              "7872           111      NaN          18.0  \n",
              "7873           145      NaN          24.0  \n",
              "7876           104      NaN          17.0  \n",
              "7882            88      NaN          14.0  \n",
              "7883           600      NaN         149.0  \n",
              "...            ...      ...           ...  \n",
              "9287           198      NaN           NaN  \n",
              "9292           326      NaN           NaN  \n",
              "9298           138      NaN           NaN  \n",
              "9317           180      NaN           NaN  \n",
              "9318           417      NaN           NaN  \n",
              "\n",
              "[260 rows x 4 columns]"
            ]
          },
          "execution_count": 4742,
          "metadata": {},
          "output_type": "execute_result"
        }
      ],
      "source": [
        "df17.query(\"consumoce_ano.notnull() and letra_ce.isnull()\")[['url','consumoce_ano','letra_ce','emisiones_co2']]"
      ]
    },
    {
      "cell_type": "code",
      "execution_count": 4743,
      "metadata": {
        "id": "mcL03_RYxX5r"
      },
      "outputs": [
        {
          "data": {
            "text/html": [
              "<div>\n",
              "<style scoped>\n",
              "    .dataframe tbody tr th:only-of-type {\n",
              "        vertical-align: middle;\n",
              "    }\n",
              "\n",
              "    .dataframe tbody tr th {\n",
              "        vertical-align: top;\n",
              "    }\n",
              "\n",
              "    .dataframe thead th {\n",
              "        text-align: right;\n",
              "    }\n",
              "</style>\n",
              "<table border=\"1\" class=\"dataframe\">\n",
              "  <thead>\n",
              "    <tr style=\"text-align: right;\">\n",
              "      <th></th>\n",
              "      <th>url</th>\n",
              "      <th>consumoce_ano</th>\n",
              "      <th>letra_ce</th>\n",
              "      <th>emisiones_co2</th>\n",
              "      <th>letra_emisiones</th>\n",
              "      <th>emisiones_ano</th>\n",
              "    </tr>\n",
              "  </thead>\n",
              "  <tbody>\n",
              "    <tr>\n",
              "      <th>0</th>\n",
              "      <td>https://www.indomio.es/anuncios/75404850/</td>\n",
              "      <td>≥ 3,51</td>\n",
              "      <td>F</td>\n",
              "      <td>D</td>\n",
              "      <td>D</td>\n",
              "      <td>NaN</td>\n",
              "    </tr>\n",
              "    <tr>\n",
              "      <th>4</th>\n",
              "      <td>https://www.indomio.es/anuncios/82164739/</td>\n",
              "      <td>NaN</td>\n",
              "      <td>E</td>\n",
              "      <td>NaN</td>\n",
              "      <td>NaN</td>\n",
              "      <td>NaN</td>\n",
              "    </tr>\n",
              "    <tr>\n",
              "      <th>11</th>\n",
              "      <td>https://www.indomio.es/anuncios/83875795/</td>\n",
              "      <td>≥ 3,51</td>\n",
              "      <td>F</td>\n",
              "      <td>NaN</td>\n",
              "      <td>NaN</td>\n",
              "      <td>NaN</td>\n",
              "    </tr>\n",
              "    <tr>\n",
              "      <th>12</th>\n",
              "      <td>https://www.indomio.es/anuncios/84201619/</td>\n",
              "      <td>≥ 3,51</td>\n",
              "      <td>G</td>\n",
              "      <td>NaN</td>\n",
              "      <td>NaN</td>\n",
              "      <td>NaN</td>\n",
              "    </tr>\n",
              "    <tr>\n",
              "      <th>13</th>\n",
              "      <td>https://www.indomio.es/anuncios/84201619/</td>\n",
              "      <td>≥ 3,51</td>\n",
              "      <td>G</td>\n",
              "      <td>NaN</td>\n",
              "      <td>NaN</td>\n",
              "      <td>NaN</td>\n",
              "    </tr>\n",
              "    <tr>\n",
              "      <th>...</th>\n",
              "      <td>...</td>\n",
              "      <td>...</td>\n",
              "      <td>...</td>\n",
              "      <td>...</td>\n",
              "      <td>...</td>\n",
              "      <td>...</td>\n",
              "    </tr>\n",
              "    <tr>\n",
              "      <th>9298</th>\n",
              "      <td>https://www.redpiso.es/inmueble/piso-en-venta-en-calle-orense-cuatro-caminos-tetuan-madrid-madrid-RP2332023114339</td>\n",
              "      <td>138</td>\n",
              "      <td>NaN</td>\n",
              "      <td>NaN</td>\n",
              "      <td>NaN</td>\n",
              "      <td>NaN</td>\n",
              "    </tr>\n",
              "    <tr>\n",
              "      <th>9317</th>\n",
              "      <td>https://www.redpiso.es/inmueble/piso-en-venta-en-calle-casado-del-alisal-jeronimos-retiro-madrid-madrid-RP1792023115851</td>\n",
              "      <td>180</td>\n",
              "      <td>NaN</td>\n",
              "      <td>NaN</td>\n",
              "      <td>NaN</td>\n",
              "      <td>NaN</td>\n",
              "    </tr>\n",
              "    <tr>\n",
              "      <th>9318</th>\n",
              "      <td>https://www.redpiso.es/inmueble/piso-en-venta-en-lista-salamanca-madrid-madrid-RP1642024124993</td>\n",
              "      <td>417</td>\n",
              "      <td>NaN</td>\n",
              "      <td>NaN</td>\n",
              "      <td>NaN</td>\n",
              "      <td>NaN</td>\n",
              "    </tr>\n",
              "    <tr>\n",
              "      <th>9431</th>\n",
              "      <td>https://www.pisosmadrid.com.es/propiedad/3906133-piso-en-venta-en-madrid</td>\n",
              "      <td>None</td>\n",
              "      <td>B</td>\n",
              "      <td>NaN</td>\n",
              "      <td>NaN</td>\n",
              "      <td>NaN</td>\n",
              "    </tr>\n",
              "    <tr>\n",
              "      <th>9433</th>\n",
              "      <td>https://www.pisosmadrid.com.es/propiedad/3906149-piso-en-venta-en-madrid</td>\n",
              "      <td>None</td>\n",
              "      <td>B</td>\n",
              "      <td>NaN</td>\n",
              "      <td>NaN</td>\n",
              "      <td>NaN</td>\n",
              "    </tr>\n",
              "  </tbody>\n",
              "</table>\n",
              "<p>2183 rows × 6 columns</p>\n",
              "</div>"
            ],
            "text/plain": [
              "                                                                                                                          url  \\\n",
              "0                                                                                   https://www.indomio.es/anuncios/75404850/   \n",
              "4                                                                                   https://www.indomio.es/anuncios/82164739/   \n",
              "11                                                                                  https://www.indomio.es/anuncios/83875795/   \n",
              "12                                                                                  https://www.indomio.es/anuncios/84201619/   \n",
              "13                                                                                  https://www.indomio.es/anuncios/84201619/   \n",
              "...                                                                                                                       ...   \n",
              "9298        https://www.redpiso.es/inmueble/piso-en-venta-en-calle-orense-cuatro-caminos-tetuan-madrid-madrid-RP2332023114339   \n",
              "9317  https://www.redpiso.es/inmueble/piso-en-venta-en-calle-casado-del-alisal-jeronimos-retiro-madrid-madrid-RP1792023115851   \n",
              "9318                           https://www.redpiso.es/inmueble/piso-en-venta-en-lista-salamanca-madrid-madrid-RP1642024124993   \n",
              "9431                                                 https://www.pisosmadrid.com.es/propiedad/3906133-piso-en-venta-en-madrid   \n",
              "9433                                                 https://www.pisosmadrid.com.es/propiedad/3906149-piso-en-venta-en-madrid   \n",
              "\n",
              "     consumoce_ano letra_ce emisiones_co2 letra_emisiones  emisiones_ano  \n",
              "0           ≥ 3,51        F             D               D            NaN  \n",
              "4              NaN        E           NaN             NaN            NaN  \n",
              "11          ≥ 3,51        F           NaN             NaN            NaN  \n",
              "12          ≥ 3,51        G           NaN             NaN            NaN  \n",
              "13          ≥ 3,51        G           NaN             NaN            NaN  \n",
              "...            ...      ...           ...             ...            ...  \n",
              "9298           138      NaN           NaN             NaN            NaN  \n",
              "9317           180      NaN           NaN             NaN            NaN  \n",
              "9318           417      NaN           NaN             NaN            NaN  \n",
              "9431          None        B           NaN             NaN            NaN  \n",
              "9433          None        B           NaN             NaN            NaN  \n",
              "\n",
              "[2183 rows x 6 columns]"
            ]
          },
          "execution_count": 4743,
          "metadata": {},
          "output_type": "execute_result"
        }
      ],
      "source": [
        "df17.query(\"consumo_energia.notnull() or letra_ce.notnull() or emisiones_co2.notnull()\")[['url','consumoce_ano','letra_ce','emisiones_co2','letra_emisiones','emisiones_ano']]"
      ]
    },
    {
      "cell_type": "code",
      "execution_count": 4744,
      "metadata": {
        "id": "OwlrfByAxX5r"
      },
      "outputs": [],
      "source": [
        "pd.set_option('display.max_rows', None)"
      ]
    },
    {
      "cell_type": "code",
      "execution_count": 4745,
      "metadata": {
        "id": "y3aRhg5GxX5r"
      },
      "outputs": [],
      "source": [
        "#eliminar las columnas consumo_energia,cal_energetica"
      ]
    },
    {
      "cell_type": "code",
      "execution_count": 4746,
      "metadata": {
        "id": "SqA10wG3xX5r"
      },
      "outputs": [],
      "source": [
        "df17 = df17.drop(columns=['consumo_energia'])"
      ]
    },
    {
      "cell_type": "code",
      "execution_count": 4747,
      "metadata": {
        "id": "Gmm1TlmBxX5s"
      },
      "outputs": [
        {
          "name": "stdout",
          "output_type": "stream",
          "text": [
            "Central: ['Central, por aire, de gas', 'Calefaccion comunitaria', 'Central, suelo radiante, de gas', 'Central, de gas', 'Agua caliente y calefacción central con contador i', 'Central', 'Comunitario', 'Centralizada', 'Central, alimentación eléctrica', 'Central, por radiadores, de gasóil', 'Central, suelo radiante', 'Central, por radiadores, de gas', 'central por gas', 'Comunitaria', 'Central, de gasóil', 'Central, por radiadores', 'Central individualizada', 'central', 'Calefacción central individualizada']\n",
            "Individual: ['Individual', 'individual gas natural', 'Individual, de gas', 'Termo electrico', 'Individual con gas natural', 'Bomba de calor', 'Climatizacion', 'Individual, suelo radiante, de gas', 'Individual, por radiadores', 'climatizacion', 'Bomba frio/calor', 'Bomba frio-calor', 'Por climatizacion', 'Contadores individuales', 'Individual, por radiadores, de gas', 'Individual, por radiadores, de gasóil', 'Individual, por radiadores, alimentación eléctrica', 'Individual, suelo radiante', 'Individual, alimentación eléctrica', 'Individual, de gasóil', 'Individual, por aire, por bomba de calor', 'Chimenea', 'Bomba frio calor', 'Individual, por aire, alimentación eléctrica', 'Gas particular', 'Individual - gas natural', 'Calefaccion individual']\n",
            "No clasificado: ['Aerotermia', 'aire', 'Conducto', 'radiadores gas natural', 'Gas natural y biomasa', 'Gasoil', 'gas natural', 'Suelo radiante', 'Gas Natural', 'G/n', 'Propano', 'Geotermia y aerotermia', 'Suelo radiante agua', 'Gas natural', nan, 'Eléctrica', 'aerotermia suelo radiante', '1.0', 'Suelo Radiante']\n",
            "Electrica: ['Termo electrico', 'Por climatizacion', 'Individual, por aire, por bomba de calor', 'Bomba de calor', 'Climatizacion', 'Eléctrica', 'Central, alimentación eléctrica', 'Bomba frio calor', 'Individual, por aire, alimentación eléctrica', 'Individual, por radiadores, alimentación eléctrica', 'climatizacion', 'Bomba frio/calor', 'Individual, alimentación eléctrica', 'Bomba frio-calor']\n",
            "Gas: ['Central, por aire, de gas', 'individual gas natural', 'Central, suelo radiante, de gas', 'Individual, de gas', 'radiadores gas natural', 'Gas natural y biomasa', 'Central, de gas', 'Individual con gas natural', 'gas natural', 'Individual, suelo radiante, de gas', 'Gas Natural', 'G/n', 'Central, por radiadores, de gas', 'Propano', 'central por gas', 'Individual, por radiadores, de gas', 'Gas natural', 'Gas particular', 'Individual - gas natural']\n",
            "Gasoil: ['Individual, por radiadores, de gasóil', 'Central, por radiadores, de gasóil', 'Central, de gasóil', 'Gasoil', 'Individual, de gasóil']\n",
            "Renovables: ['Geotermia y aerotermia', 'Aerotermia', 'Chimenea', 'aerotermia suelo radiante']\n",
            "No clasificado en energía: ['Individual', 'Calefaccion comunitaria', 'aire', 'Conducto', 'Agua caliente y calefacción central con contador i', 'Central', 'Comunitario', 'Centralizada', 'Individual, por radiadores', 'Suelo radiante', 'Central, suelo radiante', 'Contadores individuales', 'Comunitaria', 'Individual, suelo radiante', 'Central, por radiadores', 'Suelo radiante agua', 'Central individualizada', nan, 'central', '1.0', 'Suelo Radiante', 'Calefaccion individual', 'Calefacción central individualizada']\n",
            "Suelo Radiante: ['Suelo radiante', 'Individual, suelo radiante, de gas', 'Central, suelo radiante, de gas', 'aerotermia suelo radiante', 'Individual, suelo radiante', 'Central, suelo radiante', 'Suelo Radiante', 'Suelo radiante agua']\n",
            "Radiadores: ['Central, por aire, de gas', 'Individual', 'Aerotermia', 'Calefaccion comunitaria', 'aire', 'individual gas natural', 'Individual, de gas', 'radiadores gas natural', 'Gas natural y biomasa', 'Central, de gas', 'Gasoil', 'Individual con gas natural', 'Agua caliente y calefacción central con contador i', 'Central', 'Comunitario', 'gas natural', 'Centralizada', 'Individual, por radiadores', 'Central, alimentación eléctrica', 'G/n', 'Central, por radiadores, de gasóil', 'Gas Natural', 'Central, por radiadores, de gas', 'Propano', 'central por gas', 'Contadores individuales', 'Individual, por radiadores, de gas', 'Individual, por radiadores, de gasóil', 'Geotermia y aerotermia', 'Comunitaria', 'Individual, por radiadores, alimentación eléctrica', 'Central, de gasóil', 'Individual, alimentación eléctrica', 'Central, por radiadores', 'Individual, de gasóil', 'Gas natural', 'Central individualizada', nan, 'Eléctrica', 'Individual, por aire, alimentación eléctrica', 'central', 'Gas particular', '1.0', 'Individual - gas natural', 'Calefaccion individual', 'Calefacción central individualizada']\n",
            "Aire: ['Por climatizacion', 'Individual, por aire, por bomba de calor', 'Bomba de calor', 'Climatizacion', 'Bomba frio calor', 'Conducto', 'climatizacion', 'Bomba frio/calor', 'Bomba frio-calor']\n",
            "No clasificado en medio: ['Termo electrico', 'Chimenea']\n"
          ]
        }
      ],
      "source": [
        "\n",
        "\n",
        "# Palabras clave para clasificar\n",
        "central_keywords = [\"central\", \"comunitaria\", \"comunitario\"]\n",
        "individual_keywords = [\"individual\", \"particular\", \"chimenea\", \"bomba\", \"termo\", \"climatizacion\"]\n",
        "electric_keywords = [\"electrica\", \"bomba\", \"climatización\", 'termo electrico','climatizacion']\n",
        "gas_keywords = [\"gas\", \"propano\", \"g n\", \"g/n\"]  # Asegurarse de que 'g n' y 'g/n' estén bien escritos\n",
        "gasoil_keywords = [\"gasóil\",\"gasoil\",'gasoil',\"Gasoil\"]  # Añadir \"gasoil\" aquí\n",
        "renovables_keywords = [\"aerotermia\", \"geotermia\", \"chimenea\"]\n",
        "suelo_radiante_keywords=[\"suelo_radiante\", \"suelo\"]\n",
        "#radiadores_keywords=[\"radiadores\"]\n",
        "aire_keywords=[\"bomba\",\"climatización\",'climatizacion','conducto']\n",
        "desconocido_keywords=['chimenea', 'termo electrico']\n",
        "#lo mas extendido son los radiadores por eso despues de pasar , suelo radiante y aire pongo a todos radiadores salvo a chimenea y termo electrico que no lo se\n",
        "radiadores_keywords=['radiadores','Gas natural', 'G/n', 'Gas particular', 'Central, alimentación eléctrica', 'Agua caliente y calefacción central con contador i', 'Comunitario', 'Individual con gas natural', 'Individual, de gasóil', 'Comunitaria', 'Calefaccion Propano', 'Calefaccion Gas Natural', 'Central, por aire, de gas', 'Gas natural y biomasa', 'Centralizada', 'Eléctrica', 'Calefaccion Individual', 'Calefaccion individual','Contadores individuales', '1.0', 'Individual, alimentación eléctrica', 'Aerotermia', 'Individual - gas natural', 'Individual', 'Calefaccion Aerotermia', 'Gasoil', 'Central individualizada', 'Individual, por aire, alimentación eléctrica', 'Geotermia y aerotermia', 'Calefaccion comunitaria', 'Calefaccion Central', 'Central, de gas', 'Calefaccion Electrica', 'Calefacción central individualizada', 'Central, de gasóil', 'Individual, de gas', 'Central']\n",
        "\n",
        "# Inicializar conjuntos para valores únicos\n",
        "central = set()\n",
        "individual = set()\n",
        "electrica = set()\n",
        "gas = set()\n",
        "gsoil = set()\n",
        "renovables = set()\n",
        "suelo_radiante = set()\n",
        "radiadores = set()\n",
        "aire = set()\n",
        "sin_clasificar = set()\n",
        "sin_clasificar_energia = set()\n",
        "sin_clasificar_medio = set()\n",
        "radiadores=set()\n",
        "suelo_radiante=set()\n",
        "\n",
        "\n",
        "# Clasificar categorías\n",
        "for categoria in df17[\"calefaccion\"]:\n",
        "    categoria_normalized = normalize_text(str(categoria))  # Normalizar texto\n",
        "\n",
        "\n",
        "\n",
        "    # Clasificación por tipo (central o individual)\n",
        "    if any(keyword in categoria_normalized for keyword in central_keywords):\n",
        "        central.add(categoria)\n",
        "    elif any(keyword in categoria_normalized for keyword in individual_keywords):\n",
        "        individual.add(categoria)\n",
        "    else:\n",
        "        sin_clasificar.add(categoria)\n",
        "\n",
        "    # Clasificación por energía (eléctrica, gas, gasoil)\n",
        "    if any(keyword in categoria_normalized for keyword in electric_keywords):\n",
        "        electrica.add(categoria)\n",
        "    elif any(keyword in categoria_normalized for keyword in gasoil_keywords):\n",
        "        gsoil.add(categoria)\n",
        "    elif any(keyword in categoria_normalized for keyword in gas_keywords):\n",
        "        gas.add(categoria)\n",
        "\n",
        "\n",
        "    elif any(keyword in categoria_normalized for keyword in renovables_keywords):\n",
        "        renovables.add(categoria)\n",
        "    else:\n",
        "        sin_clasificar_energia.add(categoria)\n",
        "\n",
        "    # Clasificación por medio (suelo radiante, radiadores, aire)\n",
        "\n",
        "\n",
        "    if any(keyword in categoria_normalized for keyword in aire_keywords):\n",
        "        aire.add(categoria)\n",
        "    elif any(keyword in categoria_normalized for keyword in suelo_radiante_keywords):\n",
        "        suelo_radiante.add(categoria)\n",
        "    elif any(keyword in categoria_normalized for keyword in desconocido_keywords):\n",
        "        sin_clasificar_medio.add(categoria)\n",
        "  #  else: any(keyword in categoria_normalized for keyword in radiadores_keywords):\n",
        "    else:\n",
        "        radiadores.add(categoria)\n",
        "\n",
        "\n",
        "# Convertir los conjuntos a listas\n",
        "central = list(central)\n",
        "individual = list(individual)\n",
        "sin_clasificar = list(sin_clasificar)\n",
        "electrica = list(electrica)\n",
        "gas = list(gas)\n",
        "gasoil = list(gsoil)\n",
        "renovables = list(renovables)\n",
        "sin_clasificar_energia = list(sin_clasificar_energia)\n",
        "aire=list(aire)\n",
        "radiadores=list(radiadores)\n",
        "suelo_radiante=list(suelo_radiante)\n",
        "sin_clasificar_medio=list(sin_clasificar_medio)\n",
        "# Imprimir resultados\n",
        "print(\"Central:\", central)\n",
        "print(\"Individual:\", individual)\n",
        "print(\"No clasificado:\", sin_clasificar)\n",
        "print(\"Electrica:\", electrica)\n",
        "print(\"Gas:\", gas)\n",
        "print(\"Gasoil:\", gasoil)\n",
        "print(\"Renovables:\", renovables)\n",
        "print(\"No clasificado en energía:\", sin_clasificar_energia)\n",
        "print(\"Suelo Radiante:\", suelo_radiante)\n",
        "print(\"Radiadores:\", radiadores)\n",
        "print(\"Aire:\", aire)\n",
        "print(\"No clasificado en medio:\", sin_clasificar_medio)\n"
      ]
    },
    {
      "cell_type": "code",
      "execution_count": 4748,
      "metadata": {
        "id": "1i8Mdhy5xX5s"
      },
      "outputs": [],
      "source": [
        "# Listas proporcionadas\n",
        "listas = {\n",
        "    'Central': ['Calefaccion comunitaria', 'Agua caliente y calefacción central con contador i', 'Central', 'Calefaccion Central', 'Calefacción central individualizada', 'Central, por radiadores, de gas', 'Comunitario', 'Central, por aire, de gas', 'Central, por radiadores', 'Comunitaria', 'Central individualizada', 'Central, de gas', 'Central, de gasóil', 'Centralizada', 'Central, por radiadores, de gasóil', 'Central, suelo radiante, de gas', 'Central, suelo radiante', 'Central, alimentación eléctrica'],\n",
        "    'Individual': ['Gas particular', 'Climatizacion', 'Individual, suelo radiante', 'Calefaccion individual', 'Contadores individuales', 'climatizacion', 'Individual, por radiadores', 'Individual, por radiadores, de gasóil', 'Chimenea', 'Individual, alimentación eléctrica', 'Bomba frio-calor', 'Termo electrico', 'Individual, por aire, por bomba de calor', 'Individual, por radiadores, de gas', 'Individual con gas natural', 'Individual, suelo radiante, de gas', 'Bomba de calor', 'Individual, por aire, alimentación eléctrica', 'Bomba frio/calor', 'Individual - gas natural', 'Bomba frio calor', 'Individual, de gas', 'Calefaccion Individual', 'Individual, por radiadores, alimentación eléctrica', 'Por climatizacion', 'Individual', 'Individual, de gasóil'],\n",
        "    'No clasificado': ['Calefaccion Propano', 'Calefaccion Electrica', 'Eléctrica', 'Suelo radiante agua', 'Conducto', 'Gasoil', 'Calefaccion Gas Natural', 'G/n', 'Geotermia y aerotermia', 'Calefaccion Aerotermia', '1.0', 'Calefaccion Suelo Radiante', 'Aerotermia', np.nan, 'Gas natural', 'Gas natural y biomasa', 'Suelo radiante'],\n",
        "    'Electrica': ['Individual, por aire, por bomba de calor', 'Individual, por aire, alimentación eléctrica', 'Bomba frio calor', 'Calefaccion Electrica', 'Individual, por radiadores, alimentación eléctrica', 'Climatizacion', 'Eléctrica', 'Bomba frio/calor', 'Por climatizacion', 'climatizacion', 'Individual, alimentación eléctrica', 'Bomba de calor', 'Bomba frio-calor', 'Termo electrico', 'Central, alimentación eléctrica'],\n",
        "    'Gas': ['Calefaccion Propano', 'Gas particular', 'Individual, por radiadores, de gas', 'Individual, de gas', 'Central, por radiadores, de gas', 'Individual con gas natural', 'Individual, suelo radiante, de gas', 'Central, por aire, de gas', 'Calefaccion Gas Natural', 'G/n', 'Individual - gas natural', 'Central, de gas', 'Central, suelo radiante, de gas', 'Gas natural', 'Gas natural y biomasa'],\n",
        "    'Gasoil': ['Gasoil', 'Individual, por radiadores, de gasóil', 'Central, de gasóil', 'Central, por radiadores, de gasóil', 'Individual, de gasóil'],\n",
        "    'Renovables': ['Calefaccion Aerotermia', 'Chimenea', 'Aerotermia', 'Geotermia y aerotermia'],\n",
        "    'No clasificado en energía': ['Comunitario', 'Individual, suelo radiante', 'Calefaccion individual', 'Contadores individuales', 'Individual, por radiadores', 'Centralizada', 'Suelo radiante', 'Calefaccion Central', 'Calefacción central individualizada', 'Conducto', 'Central, suelo radiante', 'Agua caliente y calefacción central con contador i', 'Comunitaria', 'Central individualizada', 'Calefaccion Suelo Radiante', np.nan, 'Central, por radiadores', 'Calefaccion comunitaria', 'Central', 'Calefaccion Individual', 'Suelo radiante agua', '1.0', 'Individual'],\n",
        "    'Suelo Radiante': ['Individual, suelo radiante, de gas', 'Suelo radiante agua', 'Individual, suelo radiante', 'Calefaccion Suelo Radiante', 'Central, suelo radiante, de gas', 'Central, suelo radiante', 'Suelo radiante'],\n",
        "    'Radiadores': ['Gas particular', 'Calefaccion Electrica', 'Central, por radiadores, de gas', 'Comunitario', 'Central, por aire, de gas', 'Eléctrica', 'Gasoil', 'Geotermia y aerotermia', 'Calefaccion individual', 'Contadores individuales', 'Calefaccion Aerotermia', 'Individual, por radiadores', 'Individual, por radiadores, de gasóil', 'Centralizada', 'Individual, alimentación eléctrica', 'Calefaccion Central', 'Individual, por radiadores, de gas', 'Calefacción central individualizada', 'Individual con gas natural', 'G/n', 'Central, de gas', 'Central, de gasóil', 'Central, por radiadores, de gasóil', 'Agua caliente y calefacción central con contador i', 'Calefaccion Propano', 'Individual, por aire, alimentación eléctrica', 'Calefaccion Gas Natural', 'Comunitaria', 'Individual - gas natural', 'Central individualizada', np.nan, 'Central, por radiadores', 'Central, alimentación eléctrica', 'Calefaccion comunitaria', 'Central', 'Individual, de gas', 'Calefaccion Individual', 'Individual, por radiadores, alimentación eléctrica', '1.0', 'Individual', 'Aerotermia', 'Gas natural', 'Gas natural y biomasa', 'Individual, de gasóil'],\n",
        "    'Aire': ['Individual, por aire, por bomba de calor', 'Bomba frio calor', 'Climatizacion', 'Conducto', 'Bomba frio/calor', 'Por climatizacion', 'climatizacion', 'Bomba de calor', 'Bomba frio-calor'],\n",
        "    'No clasificado en medio': ['Termo electrico', 'Chimenea']\n",
        "}"
      ]
    },
    {
      "cell_type": "code",
      "execution_count": 4749,
      "metadata": {
        "id": "lC6rQO0fxX5s"
      },
      "outputs": [],
      "source": [
        "# Definir las listas específicas para cada columna nueva\n",
        "listas_tipo_1 = {k: listas[k] for k in ['Central', 'Individual']}\n",
        "listas_tipo_2 = {k: listas[k] for k in ['Electrica', 'Gas', 'Gasoil','Renovables','No clasificado en energía']}\n",
        "listas_tipo_3 = {k: listas[k] for k in ['Suelo Radiante', 'Radiadores', 'Aire', 'No clasificado en medio']}\n",
        "\n",
        "# Aplicar la función a la columna calefaccion y crear tres nuevas columnas\n",
        "df17['tipo_calefaccion'] = df17['calefaccion'].apply(lambda x: clasificar_calefaccion(x, listas_tipo_1))\n",
        "df17['energia_calefaccion'] = df17['calefaccion'].apply(lambda x: clasificar_calefaccion(x, listas_tipo_2))\n",
        "df17['instalacion_calefaccion'] = df17['calefaccion'].apply(lambda x: clasificar_calefaccion(x, listas_tipo_3))\n",
        "\n"
      ]
    },
    {
      "cell_type": "code",
      "execution_count": 4750,
      "metadata": {
        "id": "8t34XOzCxX5s"
      },
      "outputs": [
        {
          "data": {
            "text/plain": [
              "amueblado\n",
              " NaN                       8955\n",
              " 1.0                        575\n",
              " Sí                         274\n",
              "1.00                        159\n",
              " No                         158\n",
              " Sólo cocina amueblada       69\n",
              " Parcialmente amueblado      13\n",
              "Name: count, dtype: int64"
            ]
          },
          "execution_count": 4750,
          "metadata": {},
          "output_type": "execute_result"
        }
      ],
      "source": [
        "df17[\"amueblado\"].value_counts(dropna=False)"
      ]
    },
    {
      "cell_type": "code",
      "execution_count": 4751,
      "metadata": {
        "id": "QJIq3AbzxX5s"
      },
      "outputs": [
        {
          "data": {
            "text/plain": [
              "title                                        0.00\n",
              "url                                          0.00\n",
              "precio_anterior                             99.46\n",
              "descuento                                   99.46\n",
              "EUR/m2                                      23.02\n",
              "m2_constr                                    0.05\n",
              "distrito                                     0.07\n",
              "cod_distrito                                 0.07\n",
              "barrio                                       0.67\n",
              "cod_barrio                                   0.67\n",
              "zona                                        15.54\n",
              "calle                                       47.41\n",
              "consumoce_ano                               95.22\n",
              "letra_ce                                    81.15\n",
              "emisiones_co2                               91.57\n",
              "tipologia                                    0.00\n",
              "estado                                      45.23\n",
              "amueblado                                   87.77\n",
              "planta                                      45.57\n",
              "dormitorios                                  2.22\n",
              "banos                                        3.91\n",
              "balcon                                      85.68\n",
              "terraza                                     75.52\n",
              "garaje                                      80.25\n",
              "trastero                                    73.29\n",
              "ascensor                                    54.55\n",
              "calefaccion                                 65.90\n",
              "antiguedad                                  66.27\n",
              "num_plantas                                 97.72\n",
              "aire_acondicionado                          74.90\n",
              "jardin                                      79.25\n",
              "inmueble_ingresos                           99.90\n",
              "alquiler_opcion_a_compra                    99.97\n",
              "nuda_propiedad                              99.87\n",
              "tipo_inmueble                               80.86\n",
              "tiene_armario                               81.37\n",
              "cancha_tenis                                69.21\n",
              "carpinteria_exterior_doble_vidrio/pvc       65.70\n",
              "carpinteria_exterior_doble_vidrio/madera    69.21\n",
              "carpinteria_exterior_doble_vidrio/metal     69.21\n",
              "carpinteria_exterior_triple_vidrio/madera   69.21\n",
              "carpinteria_exterior_triple_vidrio/metal    69.21\n",
              "carpinteria_exterior_vidrio/pvc             69.21\n",
              "carpinteria_exterior_vidrio/madera          69.21\n",
              "carpinteria_exterior_vidrio/metal           69.21\n",
              "chimenea                                    69.17\n",
              "cocina                                      89.78\n",
              "fibra_optica                                69.21\n",
              "exterior                                    45.36\n",
              "interior                                    69.19\n",
              "interior_y_exterior                         69.21\n",
              "piscina                                     58.15\n",
              "porton_electrico                            69.21\n",
              "puerta_blindada                             69.13\n",
              "alarma                                      68.23\n",
              "videoportero                                66.44\n",
              "acceso_discapacidad                         95.06\n",
              "precio                                       0.00\n",
              "web                                          0.00\n",
              "fecha_descarga                               0.00\n",
              "actualizacion                               71.92\n",
              "armarios                                    87.86\n",
              "codigo_Postal                                0.67\n",
              "m2_utiles                                   77.83\n",
              "referencia                                  49.05\n",
              "tipo_suelo                                  87.04\n",
              "certificado_energetico                      41.13\n",
              "tiene_jardin                                79.25\n",
              "descripcion_larga                           18.88\n",
              "num_visitas                                 77.28\n",
              "fecha_publicacion                           77.28\n",
              "titularanuncio                              90.52\n",
              "num_pisos                                   99.84\n",
              "puerta_seguridad                            99.82\n",
              "zonas_verdes                                98.72\n",
              "gastos_comunidad                            94.50\n",
              "tiene_piscina                               58.15\n",
              "tipo_fachada                                98.23\n",
              "agua_caliente                               93.25\n",
              "nombre_oficina                              85.69\n",
              "portero                                     97.71\n",
              "orientacion_este                             0.00\n",
              "orientacion_oeste                            0.00\n",
              "orientacion_sur                              0.00\n",
              "num_garajes                                 99.88\n",
              "clasificacion_aire                           0.00\n",
              "grupo_cocina                                 0.00\n",
              "orientacion_norte                            0.00\n",
              "emisiones_ano                               96.21\n",
              "letra_emisiones                             92.18\n",
              "tipo_calefaccion                             0.00\n",
              "energia_calefaccion                          0.00\n",
              "instalacion_calefaccion                      0.00\n",
              "dtype: float64"
            ]
          },
          "execution_count": 4751,
          "metadata": {},
          "output_type": "execute_result"
        }
      ],
      "source": [
        "df17.isna().mean()*100"
      ]
    },
    {
      "cell_type": "code",
      "execution_count": 4752,
      "metadata": {
        "id": "zVE3u5D1xX5s"
      },
      "outputs": [
        {
          "data": {
            "text/plain": [
              "alarma\n",
              "0                                                3100\n",
              "1                                                  52\n",
              "1                                                  42\n",
              "Portero físico                                     12\n",
              "vigilancia 24h, con cámaras de seguridad            5\n",
              "Conserje                                            4\n",
              "con cámaras de seguridad                            3\n",
              "Portero fisico                                      2\n",
              "24 horas                                            2\n",
              "Servicio de portería                                2\n",
              "24h                                                 2\n",
              "Conserje 24 horas                                   1\n",
              "vigilancia 24h                                      1\n",
              "Circuito de video vigilancia en zonas comunes       1\n",
              "Cámaras de vigilancia en portal                     1\n",
              "Camaras                                             1\n",
              "Portería. Portero físico                            1\n",
              "Portero fisico de dia.                              1\n",
              "Puerta de seguridad                                 1\n",
              "Vigilancia 24 horas                                 1\n",
              "Portero fisico horario laboral                      1\n",
              "Sie                                                 1\n",
              "Servicio de conserjeria                             1\n",
              "Puerta para entrar en la urb. Y otra portal         1\n",
              "Tiene portero físico                                1\n",
              "Conserje 24 h                                       1\n",
              "Portero físico 24 horas                             1\n",
              "Name: count, dtype: int64"
            ]
          },
          "execution_count": 4752,
          "metadata": {},
          "output_type": "execute_result"
        }
      ],
      "source": [
        "# Chequeo de valores en columna\n",
        "df17[\"alarma\"].value_counts()"
      ]
    },
    {
      "cell_type": "code",
      "execution_count": 4753,
      "metadata": {
        "id": "C1SGm5pkxX5t"
      },
      "outputs": [
        {
          "data": {
            "text/plain": [
              "puerta_seguridad\n",
              "1.00    18\n",
              "Name: count, dtype: int64"
            ]
          },
          "execution_count": 4753,
          "metadata": {},
          "output_type": "execute_result"
        }
      ],
      "source": [
        "df17[\"puerta_seguridad\"].value_counts()"
      ]
    },
    {
      "cell_type": "code",
      "execution_count": 4754,
      "metadata": {},
      "outputs": [
        {
          "data": {
            "text/plain": [
              "puerta_blindada\n",
              "0                                                     3050\n",
              "1                                                       92\n",
              "Acorazada                                                2\n",
              "Tiene 3 puertas de acceso                                1\n",
              "Muy cerca centro comercial las rosas, metro y bus.       1\n",
              "Puerta acorazada                                         1\n",
              "Bombillo seguridad multilock                             1\n",
              "Puerta a la calle                                        1\n",
              "Puerta de entrada blindada                               1\n",
              "Name: count, dtype: int64"
            ]
          },
          "execution_count": 4754,
          "metadata": {},
          "output_type": "execute_result"
        }
      ],
      "source": [
        "df17[\"puerta_blindada\"].value_counts()"
      ]
    },
    {
      "cell_type": "code",
      "execution_count": 4755,
      "metadata": {
        "id": "zZje8zw_xX5t"
      },
      "outputs": [
        {
          "data": {
            "text/plain": [
              "zonas_verdes\n",
              "1.00    131\n",
              "Name: count, dtype: int64"
            ]
          },
          "execution_count": 4755,
          "metadata": {},
          "output_type": "execute_result"
        }
      ],
      "source": [
        "df17[\"zonas_verdes\"].value_counts()"
      ]
    },
    {
      "cell_type": "code",
      "execution_count": 4756,
      "metadata": {
        "id": "60zAA-5LxX5t"
      },
      "outputs": [
        {
          "data": {
            "text/plain": [
              "array([28001., 28042., 28045., 28016., 28020., 28002., 28015., 28021.,\n",
              "       28024., 28006., 28004., 28035., 28031., 28053., 28013., 28010.,\n",
              "       28028., 28046., 28014., 28037., 28027., 28055., 28012., 28008.,\n",
              "       28011., 28019., 28003., 28009., 28007., 28039., 28033., 28032.,\n",
              "       28044., 28041., 28043., 28017., 28018., 28029., 28023., 28038.,\n",
              "       28034., 28047., 28026., 28048., 28025., 28040., 28030., 28005.,\n",
              "          nan, 28049.])"
            ]
          },
          "execution_count": 4756,
          "metadata": {},
          "output_type": "execute_result"
        }
      ],
      "source": [
        "df17[\"codigo_Postal\"].unique()"
      ]
    },
    {
      "cell_type": "code",
      "execution_count": 4757,
      "metadata": {
        "id": "y_EzH-UwxX5u"
      },
      "outputs": [],
      "source": [
        "df17.loc[df17['url'].str.contains('calle-narvaez'), ['cod_barrio', 'barrio']] = [34, 'Ibiza']\n",
        "df17.loc[df17['url'].str.contains('calle-claudio-coello'), ['cod_barrio', 'barrio']] = [41, 'Recoletos']\n",
        "df17.loc[df17['url'].str.contains('calle-maria-de-molina'), ['cod_barrio', 'barrio']] = [51, 'El Viso']\n",
        "df17.loc[df17['url'].str.contains('calle-eloy-gonzalo'), ['cod_barrio', 'barrio']] = [73, 'Trafalgar']\n",
        "\n",
        "df17['titular_anuncio'] = df17['descripcion_larga'].fillna('')\n",
        "df17.loc[df17['titular_anuncio'].str.contains('Ibiza'), ['cod_barrio', 'barrio']] = [34, 'Ibiza']\n",
        "\n",
        "\n",
        "# Reemplazar valores NaN en 'descripcion_larga' con una cadena vacía\n",
        "df17['descripcion_larga'] = df17['descripcion_larga'].fillna('')\n",
        "df17.loc[df17['descripcion_larga'].str.contains('Calle Mariano Benlliure'), ['cod_barrio', 'barrio','cod_distrito','distrito']] = [74, 'Almagro',7,'Chamberí']\n",
        "df17.loc[df17['descripcion_larga'].str.contains('Calle Moquetas 11'), ['cod_barrio', 'barrio','cod_distrito','distrito','estado']] = [74, 'Almagro',7,'Chamberí','Obra nueva']\n",
        "df17.loc[df17['descripcion_larga'].str.contains('calle de Castello'), ['cod_barrio', 'barrio']] = [74, 'Almagro']\n",
        "df17.loc[df17['descripcion_larga'].str.contains('IBIZA'), ['cod_barrio', 'barrio']] = [34, 'Ibiza']"
      ]
    },
    {
      "cell_type": "code",
      "execution_count": 4758,
      "metadata": {},
      "outputs": [],
      "source": [
        "# Convertir las columnas a enteros, ignorando los errores\n",
        "df17['cod_distrito'] = pd.to_numeric(df17['cod_distrito']).astype('Int64')\n",
        "df17['cod_barrio'] = pd.to_numeric(df17['cod_barrio']).astype('Int64')"
      ]
    },
    {
      "cell_type": "code",
      "execution_count": 4759,
      "metadata": {},
      "outputs": [],
      "source": [
        "# Concatenar cod_barrio y cod_distrito si cod_barrio < 11\n",
        "df17.loc[df17['cod_barrio'] < 11, 'cod_barrio'] =  df17['cod_distrito'].astype(str)+df17['cod_barrio'].astype(str)\n"
      ]
    },
    {
      "cell_type": "code",
      "execution_count": 4760,
      "metadata": {
        "id": "WP-eHXduxX5u"
      },
      "outputs": [],
      "source": [
        "df17[\"m2_utiles\"]=df17[\"m2_utiles\"].str.replace(\"Metros\",\"\")\n",
        "df17[\"m2_utiles\"]=df17[\"m2_utiles\"].str.replace(\"m²\",\"\")"
      ]
    },
    {
      "cell_type": "code",
      "execution_count": 4761,
      "metadata": {
        "id": "Na74JFJzxX5u"
      },
      "outputs": [],
      "source": [
        "df17.drop_duplicates(subset=['url'], keep='first', inplace=True)\n"
      ]
    },
    {
      "cell_type": "code",
      "execution_count": 4762,
      "metadata": {
        "id": "4cRX_Le-xX5u"
      },
      "outputs": [
        {
          "data": {
            "text/plain": [
              "True"
            ]
          },
          "execution_count": 4762,
          "metadata": {},
          "output_type": "execute_result"
        }
      ],
      "source": [
        "df17['url'].nunique() == len(df17)"
      ]
    },
    {
      "cell_type": "code",
      "execution_count": 4763,
      "metadata": {
        "id": "JXYvHFTajhi7"
      },
      "outputs": [],
      "source": [
        "df17.drop_duplicates(subset=['url'], keep='first', inplace=True)\n"
      ]
    },
    {
      "cell_type": "code",
      "execution_count": 4764,
      "metadata": {
        "id": "7qbgTm7Ajhi8"
      },
      "outputs": [
        {
          "data": {
            "text/plain": [
              "count      10113.00\n",
              "mean      887858.30\n",
              "std      1160881.31\n",
              "min        25000.00\n",
              "25%       239000.00\n",
              "50%       477500.00\n",
              "75%      1080000.00\n",
              "max     19950000.00\n",
              "Name: precio, dtype: float64"
            ]
          },
          "execution_count": 4764,
          "metadata": {},
          "output_type": "execute_result"
        }
      ],
      "source": [
        "df17.precio.describe()"
      ]
    },
    {
      "cell_type": "code",
      "execution_count": 4765,
      "metadata": {},
      "outputs": [],
      "source": [
        "# Replace values in the 'portero' column\n",
        "df17['portero'] = np.where(df17['portero'] == 'Portero media jornada', 0.5, df17['portero'])\n",
        "df17['portero'] = np.where(df17['portero'] == 'Portero todo el día', 1, df17['portero'])\n",
        "df17['portero'] = np.where(df17['portero'] == '1', 1, df17['portero'])"
      ]
    },
    {
      "cell_type": "code",
      "execution_count": 4766,
      "metadata": {
        "id": "wfoeSyayxX5v"
      },
      "outputs": [],
      "source": [
        "# Eliminar el símbolo '%' y convertir a tipo numérico\n",
        "df17['descuento'] = df17['descuento'].str.replace('%', '')\n",
        "df17['descuento'] = pd.to_numeric(df17['descuento'].str.replace(',', '.'))\n",
        "#df17[\"alarma\"] = df17[\"alarma\"].fillna(df17[\"sistema_alarma\"])\n",
        "#puerta de seguridad y puerta_blindada en una columna\n",
        "df17[\"puerta_seguridad\"] = df17[\"puerta_seguridad\"].fillna(df17[\"puerta_blindada\"])\n",
        "df17=df17.drop(columns=\"puerta_blindada\")"
      ]
    },
    {
      "cell_type": "code",
      "execution_count": 4767,
      "metadata": {
        "id": "Hs0oQm8Gjhi9"
      },
      "outputs": [
        {
          "data": {
            "text/plain": [
              "letra_ce\n",
              "NaN    8220\n",
              "E       563\n",
              "e       332\n",
              "D       238\n",
              "F       170\n",
              "G       131\n",
              "d       126\n",
              "C        93\n",
              "A        47\n",
              "f        46\n",
              "c        46\n",
              "B        40\n",
              "g        28\n",
              "a        18\n",
              "b        15\n",
              "Name: count, dtype: int64"
            ]
          },
          "execution_count": 4767,
          "metadata": {},
          "output_type": "execute_result"
        }
      ],
      "source": [
        "df17[\"letra_ce\"].value_counts(dropna=False)"
      ]
    },
    {
      "cell_type": "code",
      "execution_count": 4768,
      "metadata": {
        "id": "aobh1ZkzxX5v"
      },
      "outputs": [],
      "source": [
        "# Aplicar la función a la columna consumo_ce solo cuando letrace es nulo y consumo_ce no es nulo\n",
        "df17['letra_ce'] = df17.apply(lambda row: clasificar_consumo(row['consumoce_ano']) if pd.isnull(row['letra_ce']) and not pd.isnull(row['consumoce_ano']) else row['letra_ce'], axis=1)"
      ]
    },
    {
      "cell_type": "code",
      "execution_count": 4769,
      "metadata": {
        "id": "J2zqzuxnxX5v"
      },
      "outputs": [],
      "source": [
        "df17= df17[df17['tipologia'] != 'Negocio']\n",
        "df17['tipologia'] = df17['tipologia'].replace('Venta', 'Piso')\n",
        "# Actualizar los valores de 'distrito' y 'barrio' cuando 'cod_barrio' es 195\n",
        "df17.loc[df17['cod_barrio'] == 195.00, ['distrito', 'barrio']] = ['Vicalvaro', 'Los Berrocales']"
      ]
    },
    {
      "cell_type": "code",
      "execution_count": 4770,
      "metadata": {},
      "outputs": [],
      "source": [
        "df_final=df17"
      ]
    },
    {
      "cell_type": "code",
      "execution_count": 4771,
      "metadata": {
        "id": "k3x6tIjrxX5w"
      },
      "outputs": [
        {
          "name": "stderr",
          "output_type": "stream",
          "text": [
            "c:\\Users\\extas\\anaconda3\\envs\\Nuclio\\Lib\\site-packages\\IPython\\core\\displayhook.py:281: UserWarning: Output cache limit (currently 1000 entries) hit.\n",
            "Flushing oldest 200 entries.\n",
            "  warn('Output cache limit (currently {sz} entries) hit.\\n'\n"
          ]
        },
        {
          "data": {
            "text/plain": [
              "(10109, 93)"
            ]
          },
          "execution_count": 4771,
          "metadata": {},
          "output_type": "execute_result"
        }
      ],
      "source": [
        "df_final.shape"
      ]
    },
    {
      "cell_type": "code",
      "execution_count": 4772,
      "metadata": {},
      "outputs": [
        {
          "data": {
            "text/plain": [
              "Index(['title', 'url', 'precio_anterior', 'descuento', 'EUR/m2', 'm2_constr',\n",
              "       'distrito', 'cod_distrito', 'barrio', 'cod_barrio', 'zona', 'calle',\n",
              "       'consumoce_ano', 'letra_ce', 'emisiones_co2', 'tipologia', 'estado',\n",
              "       'amueblado', 'planta', 'dormitorios', 'banos', 'balcon', 'terraza',\n",
              "       'garaje', 'trastero', 'ascensor', 'calefaccion', 'antiguedad',\n",
              "       'num_plantas', 'aire_acondicionado', 'jardin', 'inmueble_ingresos',\n",
              "       'alquiler_opcion_a_compra', 'nuda_propiedad', 'tipo_inmueble',\n",
              "       'tiene_armario', 'cancha_tenis',\n",
              "       'carpinteria_exterior_doble_vidrio/pvc',\n",
              "       'carpinteria_exterior_doble_vidrio/madera',\n",
              "       'carpinteria_exterior_doble_vidrio/metal',\n",
              "       'carpinteria_exterior_triple_vidrio/madera',\n",
              "       'carpinteria_exterior_triple_vidrio/metal',\n",
              "       'carpinteria_exterior_vidrio/pvc', 'carpinteria_exterior_vidrio/madera',\n",
              "       'carpinteria_exterior_vidrio/metal', 'chimenea', 'cocina',\n",
              "       'fibra_optica', 'exterior', 'interior', 'interior_y_exterior',\n",
              "       'piscina', 'porton_electrico', 'alarma', 'videoportero',\n",
              "       'acceso_discapacidad', 'precio', 'web', 'fecha_descarga',\n",
              "       'actualizacion', 'armarios', 'codigo_Postal', 'm2_utiles', 'referencia',\n",
              "       'tipo_suelo', 'certificado_energetico', 'tiene_jardin',\n",
              "       'descripcion_larga', 'num_visitas', 'fecha_publicacion',\n",
              "       'titularanuncio', 'num_pisos', 'puerta_seguridad', 'zonas_verdes',\n",
              "       'gastos_comunidad', 'tiene_piscina', 'tipo_fachada', 'agua_caliente',\n",
              "       'nombre_oficina', 'portero', 'orientacion_este', 'orientacion_oeste',\n",
              "       'orientacion_sur', 'num_garajes', 'clasificacion_aire', 'grupo_cocina',\n",
              "       'orientacion_norte', 'emisiones_ano', 'letra_emisiones',\n",
              "       'tipo_calefaccion', 'energia_calefaccion', 'instalacion_calefaccion',\n",
              "       'titular_anuncio'],\n",
              "      dtype='object')"
            ]
          },
          "execution_count": 4772,
          "metadata": {},
          "output_type": "execute_result"
        }
      ],
      "source": [
        "df_final.columns"
      ]
    },
    {
      "cell_type": "code",
      "execution_count": 4773,
      "metadata": {},
      "outputs": [],
      "source": [
        "# Aplicar la lógica: valores no nulos y diferentes de 0.00 se convierten en 1\n",
        "df_final['garaje'] = df_final['garaje'].apply(lambda x: 1 if pd.notna(x) and x!=0.00 else x)"
      ]
    },
    {
      "cell_type": "code",
      "execution_count": 4774,
      "metadata": {},
      "outputs": [],
      "source": [
        "df_final.loc[df_final['num_garajes'] == 2, 'garaje'] = 1"
      ]
    },
    {
      "cell_type": "code",
      "execution_count": 4775,
      "metadata": {},
      "outputs": [
        {
          "data": {
            "text/plain": [
              "array([ 1., nan,  0.])"
            ]
          },
          "execution_count": 4775,
          "metadata": {},
          "output_type": "execute_result"
        }
      ],
      "source": [
        "df_final['garaje'].unique()"
      ]
    },
    {
      "cell_type": "code",
      "execution_count": 4776,
      "metadata": {},
      "outputs": [
        {
          "data": {
            "text/plain": [
              "interior_y_exterior\n",
              "NaN     7057\n",
              "0.00    3044\n",
              "1.00       8\n",
              "Name: count, dtype: int64"
            ]
          },
          "execution_count": 4776,
          "metadata": {},
          "output_type": "execute_result"
        }
      ],
      "source": [
        "df_final[\"interior_y_exterior\"].value_counts(dropna=False)"
      ]
    },
    {
      "cell_type": "code",
      "execution_count": 4777,
      "metadata": {},
      "outputs": [],
      "source": [
        "# Asignar 1 a 'interior' y 'exterior' cuando 'interior_y_exterior' es igual a 1.00\n",
        "df_final.loc[df_final['interior_y_exterior'] == 1.00, ['interior', 'exterior']] = 1\n"
      ]
    },
    {
      "cell_type": "code",
      "execution_count": 4778,
      "metadata": {},
      "outputs": [],
      "source": [
        "#vamos a agrupar algunas categorias que están repetidas con acentos y sin acentos\n",
        "\n",
        "df_final[\"tipologia\"]=df_final[\"tipologia\"].replace({'Ático': 'Atico', 'Dúplex': 'Duplex'})\n",
        "df_final[\"distrito\"]=df_final[\"distrito\"].replace({'Puente de Vallecas': 'Puente De Vallecas'})\n",
        "\n",
        "\n",
        "#Convertir los valores de 'letra_ce' a mayúsculas\n",
        "df_final['letra_ce'] = df_final['letra_ce'].str.upper()\n",
        "df_final['letra_emisiones'] = df_final['letra_ce'].str.upper()\n",
        "df_final['estado'] = df_final['estado'].str.strip().str.title()\n",
        "\n"
      ]
    },
    {
      "cell_type": "code",
      "execution_count": 4779,
      "metadata": {},
      "outputs": [],
      "source": [
        "# Rellenar los valores nulos de 'garajes' con los valores de 'num_garajes'\n",
        "df_final['garaje'] = df_final['garaje'].fillna(df_final['num_garajes'])"
      ]
    },
    {
      "cell_type": "code",
      "execution_count": 4780,
      "metadata": {},
      "outputs": [],
      "source": [
        "#Elimino las filas con cod_barrio nulo\n",
        "# Eliminar filas donde 'cod_barrio' es nulo\n",
        "df_final = df_final.dropna(subset=['cod_barrio'])\n",
        "#eLIMINO LAS FILAS con M2_CONSTR nulo\n",
        "df_final=df_final.dropna(subset=['m2_constr'])"
      ]
    },
    {
      "cell_type": "code",
      "execution_count": 4781,
      "metadata": {},
      "outputs": [],
      "source": [
        "df_final.reset_index(drop=True, inplace=True)"
      ]
    },
    {
      "cell_type": "code",
      "execution_count": 4782,
      "metadata": {},
      "outputs": [],
      "source": [
        "#columna 45 acceso_discapacidad, eliminar los valores\n",
        "val=['Exteriores' 'Ver todas las características' 'Otros']\n",
        "df_final['acceso_discapacidad'] = df_final['acceso_discapacidad'].replace(val, np.nan)\n",
        "# Replace '.0' and similar patterns with empty string using regex\n",
        "df_final['acceso_discapacidad'] = df_final['acceso_discapacidad'].astype(str).str.replace('.0', '', regex=True)\n",
        "df_final['acceso_discapacidad'] = pd.to_numeric(df_final['acceso_discapacidad'], errors='coerce').astype('Int64') # Convert to numeric, handle errors, then to Int64"
      ]
    },
    {
      "cell_type": "code",
      "execution_count": 4783,
      "metadata": {},
      "outputs": [],
      "source": [
        "cambios = {'3+': '5',  '.0': '','0.0':np.nan,'nan':np.nan}\n",
        "# Reemplazar los valores '3+' por 5 en la columna 'banos'\n",
        "df_final['banos'] = df_final['banos'].astype(str).replace(cambios).str.strip()\n"
      ]
    },
    {
      "cell_type": "code",
      "execution_count": 4784,
      "metadata": {},
      "outputs": [],
      "source": [
        "#56 puerta_seguridad\n",
        "cambios = {'Puerta acorazada': '1',  'Bombillo seguridad multilock': '1', 'Acorazada': '1','Puerta de entrada blindada':'1','Puerta a la calle':'1','1.0':'1'}\n",
        "cambiosnan={'Tiene 3 puertas de acceso','Muy cerca centro comercial las rosas, metro y bus.'}\n",
        "df_final['puerta_seguridad'] = df_final['puerta_seguridad'].astype(str).replace(cambios).str.strip()\n",
        "df_final['puerta_seguridad'] = df_final['puerta_seguridad'].replace(cambiosnan,np.nan)\n",
        "df_final['puerta_seguridad'] = pd.to_numeric(df_final['puerta_seguridad'], errors='coerce')\n",
        "# Change the astype to pd.Int64Dtype() to handle NaN\n",
        "df_final['puerta_seguridad'] = df_final['puerta_seguridad'].astype(pd.Int64Dtype())"
      ]
    },
    {
      "cell_type": "code",
      "execution_count": 4785,
      "metadata": {},
      "outputs": [],
      "source": [
        "cambios = {'Más de 2': '4', 'Mas de 5': '7', '.0': ''}\n",
        "df_final['armarios'] = df_final['armarios'].replace(cambios).str.strip()\n"
      ]
    },
    {
      "cell_type": "markdown",
      "metadata": {
        "id": "11kWPnxbxX5x"
      },
      "source": [
        "# creacion dataframe EDA"
      ]
    },
    {
      "cell_type": "code",
      "execution_count": 4786,
      "metadata": {
        "id": "4FdhDsm3xX5x"
      },
      "outputs": [
        {
          "data": {
            "text/plain": [
              "['title',\n",
              " 'url',\n",
              " 'precio_anterior',\n",
              " 'descuento',\n",
              " 'EUR/m2',\n",
              " 'm2_constr',\n",
              " 'distrito',\n",
              " 'cod_distrito',\n",
              " 'barrio',\n",
              " 'cod_barrio',\n",
              " 'zona',\n",
              " 'calle',\n",
              " 'consumoce_ano',\n",
              " 'letra_ce',\n",
              " 'emisiones_co2',\n",
              " 'tipologia',\n",
              " 'estado',\n",
              " 'amueblado',\n",
              " 'planta',\n",
              " 'dormitorios',\n",
              " 'banos',\n",
              " 'balcon',\n",
              " 'terraza',\n",
              " 'garaje',\n",
              " 'trastero',\n",
              " 'ascensor',\n",
              " 'calefaccion',\n",
              " 'antiguedad',\n",
              " 'num_plantas',\n",
              " 'aire_acondicionado',\n",
              " 'jardin',\n",
              " 'inmueble_ingresos',\n",
              " 'alquiler_opcion_a_compra',\n",
              " 'nuda_propiedad',\n",
              " 'tipo_inmueble',\n",
              " 'tiene_armario',\n",
              " 'cancha_tenis',\n",
              " 'carpinteria_exterior_doble_vidrio/pvc',\n",
              " 'carpinteria_exterior_doble_vidrio/madera',\n",
              " 'carpinteria_exterior_doble_vidrio/metal',\n",
              " 'carpinteria_exterior_triple_vidrio/madera',\n",
              " 'carpinteria_exterior_triple_vidrio/metal',\n",
              " 'carpinteria_exterior_vidrio/pvc',\n",
              " 'carpinteria_exterior_vidrio/madera',\n",
              " 'carpinteria_exterior_vidrio/metal',\n",
              " 'chimenea',\n",
              " 'cocina',\n",
              " 'fibra_optica',\n",
              " 'exterior',\n",
              " 'interior',\n",
              " 'interior_y_exterior',\n",
              " 'piscina',\n",
              " 'porton_electrico',\n",
              " 'alarma',\n",
              " 'videoportero',\n",
              " 'acceso_discapacidad',\n",
              " 'precio',\n",
              " 'web',\n",
              " 'fecha_descarga',\n",
              " 'actualizacion',\n",
              " 'armarios',\n",
              " 'codigo_Postal',\n",
              " 'm2_utiles',\n",
              " 'referencia',\n",
              " 'tipo_suelo',\n",
              " 'certificado_energetico',\n",
              " 'tiene_jardin',\n",
              " 'descripcion_larga',\n",
              " 'num_visitas',\n",
              " 'fecha_publicacion',\n",
              " 'titularanuncio',\n",
              " 'num_pisos',\n",
              " 'puerta_seguridad',\n",
              " 'zonas_verdes',\n",
              " 'gastos_comunidad',\n",
              " 'tiene_piscina',\n",
              " 'tipo_fachada',\n",
              " 'agua_caliente',\n",
              " 'nombre_oficina',\n",
              " 'portero',\n",
              " 'orientacion_este',\n",
              " 'orientacion_oeste',\n",
              " 'orientacion_sur',\n",
              " 'num_garajes',\n",
              " 'clasificacion_aire',\n",
              " 'grupo_cocina',\n",
              " 'orientacion_norte',\n",
              " 'emisiones_ano',\n",
              " 'letra_emisiones',\n",
              " 'tipo_calefaccion',\n",
              " 'energia_calefaccion',\n",
              " 'instalacion_calefaccion',\n",
              " 'titular_anuncio']"
            ]
          },
          "execution_count": 4786,
          "metadata": {},
          "output_type": "execute_result"
        }
      ],
      "source": [
        "df_final.columns.tolist()"
      ]
    },
    {
      "cell_type": "code",
      "execution_count": 4787,
      "metadata": {},
      "outputs": [],
      "source": [
        "df_final[\"num_pisos\"]=df_final[\"num_pisos\"].replace('Pisos:','',regex=True)"
      ]
    },
    {
      "cell_type": "code",
      "execution_count": 4788,
      "metadata": {},
      "outputs": [],
      "source": [
        "# Eliminar filas donde 'm2_constr' sea igual a 0\n",
        "df_final = df_final.query(\"m2_constr != 0\")"
      ]
    },
    {
      "cell_type": "code",
      "execution_count": 4789,
      "metadata": {},
      "outputs": [
        {
          "data": {
            "text/plain": [
              "132"
            ]
          },
          "execution_count": 4789,
          "metadata": {},
          "output_type": "execute_result"
        }
      ],
      "source": [
        "df_final.barrio.nunique()"
      ]
    },
    {
      "cell_type": "code",
      "execution_count": 4790,
      "metadata": {},
      "outputs": [],
      "source": [
        "df_final[\"barrio\"]=df_final[\"barrio\"].replace(\"Niño Jesús\",'Niño Jesus',regex=True)"
      ]
    },
    {
      "cell_type": "code",
      "execution_count": 4791,
      "metadata": {},
      "outputs": [
        {
          "data": {
            "text/plain": [
              "131"
            ]
          },
          "execution_count": 4791,
          "metadata": {},
          "output_type": "execute_result"
        }
      ],
      "source": [
        "df_final.barrio.nunique()"
      ]
    },
    {
      "cell_type": "code",
      "execution_count": 4792,
      "metadata": {},
      "outputs": [],
      "source": [
        "# Modificar los valores según la condición\n",
        "df_final.loc[(df_final['tiene_armario'] == 1) & (df_final['armarios'] == 0), 'armarios'] = 1"
      ]
    },
    {
      "cell_type": "code",
      "execution_count": 4793,
      "metadata": {},
      "outputs": [],
      "source": [
        "# Cargar datos adicionales desde una ruta relativa\n",
        "dfadicionales = pd.read_csv('../02-datos-limpios/Datos_adicionales.csv', sep=\";\", index_col=False)"
      ]
    },
    {
      "cell_type": "code",
      "execution_count": 4794,
      "metadata": {},
      "outputs": [],
      "source": [
        "def actualizar_datos(df_principal, df_adicionales,filtro):\n",
        "    # Filtrar las filas según las condiciones\n",
        "  \n",
        "    \n",
        "    # Iterar sobre las filas que cumplen el filtro\n",
        "    for index, row in df_principal[filtro].iterrows():\n",
        "        cod_barrio = row['cod_barrio']\n",
        "        \n",
        "        # Buscar el barrio en el DataFrame adicional\n",
        "        match = df_adicionales[df_adicionales['cod_barrio'] == cod_barrio]\n",
        "        if not match.empty:\n",
        "            # Extraer los valores necesarios\n",
        "            cod_distrito = match.iloc[0]['cod_distrito']\n",
        "            distrito = match.iloc[0]['distrito']\n",
        "            codigo_postal = match.iloc[0]['codigo_Postal']\n",
        "            \n",
        "            # Actualizar el DataFrame principal\n",
        "            df_principal.at[index, 'cod_distrito'] = cod_distrito\n",
        "            df_principal.at[index, 'distrito'] = distrito\n",
        "            df_principal.at[index, 'codigo_Postal'] = codigo_postal\n",
        "        \n",
        "    \n",
        "    return df_principal\n"
      ]
    },
    {
      "cell_type": "code",
      "execution_count": 4795,
      "metadata": {},
      "outputs": [],
      "source": [
        "filtro = (df_final['cod_distrito'] == 1) & (df_final['cod_barrio'] > 16)\n",
        "# Aplicar la función\n",
        "df_final = actualizar_datos(df_final, dfadicionales,filtro)"
      ]
    },
    {
      "cell_type": "code",
      "execution_count": 4796,
      "metadata": {},
      "outputs": [],
      "source": [
        "#filtro = df_final.query('cod_distrito == 13 and cod_barrio ==153')\n",
        "filtro = (df_final['cod_distrito'] == 13) & (df_final['cod_barrio'] ==153)\n",
        "df_final = actualizar_datos(df_final, dfadicionales,filtro)"
      ]
    },
    {
      "cell_type": "code",
      "execution_count": 4797,
      "metadata": {},
      "outputs": [],
      "source": [
        "#filtro = df_final.query('cod_distrito == 12 and cod_barrio <121')\n",
        "filtro = (df_final['cod_distrito'] == 12) & (df_final['cod_barrio'] <121)\n",
        "df_final = actualizar_datos(df_final, dfadicionales,filtro)"
      ]
    },
    {
      "cell_type": "code",
      "execution_count": 4798,
      "metadata": {},
      "outputs": [],
      "source": [
        "filtro = (df_final['cod_distrito'] == 11) & (df_final['cod_barrio'] <120)\n",
        "#filtro = df_final.query('cod_distrito == 11 and cod_barrio <120')\n",
        "df_final = actualizar_datos(df_final, dfadicionales,filtro)"
      ]
    },
    {
      "cell_type": "code",
      "execution_count": 4799,
      "metadata": {},
      "outputs": [],
      "source": [
        "filtro = (df_final['cod_distrito'] == 10) & (df_final['cod_barrio'] ==21)\n",
        "#filtro = df_final.query('cod_distrito == 10 and cod_barrio==21')\n",
        "df_final = actualizar_datos(df_final, dfadicionales,filtro)"
      ]
    },
    {
      "cell_type": "code",
      "execution_count": 4800,
      "metadata": {},
      "outputs": [],
      "source": [
        "filtro = (df_final['cod_distrito'] == 7) & (df_final['cod_barrio'] <70)\n",
        "#filtro = df_final.query('cod_distrito == 7 and cod_barrio<70')\n",
        "df_final = actualizar_datos(df_final, dfadicionales,filtro)"
      ]
    },
    {
      "cell_type": "code",
      "execution_count": 4801,
      "metadata": {},
      "outputs": [],
      "source": [
        "filtro = (df_final['cod_distrito'] == 17) & (df_final['cod_barrio'] ==117)\n",
        "#filtro = df_final.query('cod_distrito == 7 and cod_barrio<70')\n",
        "df_final = actualizar_datos(df_final, dfadicionales,filtro)"
      ]
    },
    {
      "cell_type": "code",
      "execution_count": 4802,
      "metadata": {},
      "outputs": [],
      "source": [
        "filtro = (df_final['cod_distrito'] == 6) & (df_final['cod_barrio'] ==56)\n",
        "#filtro = df_final.query('cod_distrito == 6 and cod_barrio==56')\n",
        "\n",
        "\n",
        "    # Filtrar las filas según las condiciones\n",
        "  \n",
        "    \n",
        "    # Iterar sobre las filas que cumplen el filtro\n",
        "for index, row in df_final[filtro].iterrows():\n",
        "        \n",
        "    # Extraer los valores necesarios\n",
        "    distrito='Tetuán'\n",
        "    cod_distrito = 6\n",
        "    cod_barrio=65\n",
        "    barrio='Valdeacederas' \n",
        "    cp=28029\n",
        "    \n",
        "            \n",
        "            # Actualizar el DataFrame principal\n",
        "    df_final.at[index, 'cod_distrito'] = cod_distrito\n",
        "    df_final.at[index, 'cod_barrio'] = cod_barrio\n",
        "\n",
        "    df_final.at[index, 'distrito'] = distrito\n",
        "    df_final.at[index, 'codigo_Postal'] = cp\n",
        "        \n",
        "    \n",
        "    "
      ]
    },
    {
      "cell_type": "code",
      "execution_count": 4803,
      "metadata": {},
      "outputs": [],
      "source": [
        "#filtro = df_final.query('cod_distrito == 5 and cod_barrio==34')\n",
        "filtro = (df_final['cod_distrito'] == 5) & (df_final['cod_barrio'] ==34)\n",
        "\n",
        "\n",
        "    # Filtrar las filas según las condiciones\n",
        "  \n",
        "    \n",
        "    # Iterar sobre las filas que cumplen el filtro\n",
        "for index, row in df_final[filtro].iterrows():\n",
        "        \n",
        "    # Extraer los valores necesarios\n",
        "    distrito='Chamartín'\n",
        "    cod_distrito = 5\n",
        "    cod_barrio=54\n",
        "    barrio='Hispanoamérica' \n",
        "    cp=28016\n",
        "    \n",
        "            \n",
        "            # Actualizar el DataFrame principal\n",
        "    df_final.at[index, 'cod_distrito'] = cod_distrito\n",
        "    df_final.at[index, 'cod_barrio'] = cod_barrio\n",
        "\n",
        "    df_final.at[index, 'distrito'] = distrito\n",
        "    df_final.at[index, 'codigo_Postal'] = cp"
      ]
    },
    {
      "cell_type": "code",
      "execution_count": 4804,
      "metadata": {},
      "outputs": [],
      "source": [
        "#filtro = df_final.query('cod_distrito == 4 and cod_barrio==34')\n",
        "\n",
        "filtro = (df_final['cod_distrito'] == 4) & (df_final['cod_barrio'] ==34)\n",
        "\n",
        "\n",
        "    # Filtrar las filas según las condiciones\n",
        "  \n",
        "    \n",
        "    # Iterar sobre las filas que cumplen el filtro\n",
        "for index, row in df_final[filtro].iterrows():\n",
        "        \n",
        "    # Extraer los valores necesarios\n",
        "    distrito='Salamanca'\n",
        "    cod_distrito = 4\n",
        "    cod_barrio=42\n",
        "    barrio='Goya' \n",
        "    cp=28001\n",
        "    \n",
        "            \n",
        "            # Actualizar el DataFrame principal\n",
        "    df_final.at[index, 'cod_distrito'] = cod_distrito\n",
        "    df_final.at[index, 'cod_barrio'] = cod_barrio\n",
        "\n",
        "    df_final.at[index, 'distrito'] = distrito\n",
        "    df_final.at[index, 'codigo_Postal'] = cp"
      ]
    },
    {
      "cell_type": "code",
      "execution_count": 4805,
      "metadata": {},
      "outputs": [
        {
          "name": "stderr",
          "output_type": "stream",
          "text": [
            "C:\\Users\\extas\\AppData\\Local\\Temp\\ipykernel_21996\\4051052091.py:17: FutureWarning: Setting an item of incompatible dtype is deprecated and will raise an error in a future version of pandas. Value '['3 privado']' has dtype incompatible with float64, please explicitly cast to a compatible dtype first.\n",
            "  df_final.loc[df_final['url']=='https://www.indomio.es/anuncios/93066623/',[\"garaje\"]]=['3 privado']\n"
          ]
        }
      ],
      "source": [
        "#18\n",
        "df_final.loc[df_final['url']=='https://www.indomio.es/anuncios/92616805/',['cod_distrito','distrito','cod_barrio','barrio','cod_postal']]=[18,'Villa De Vallecas',181,'Casco Histórico de Vallecas',28031]\n",
        "df_final.loc[df_final['url']=='https://www.pisosmadrid.com.es/propiedad/4015338-piso-en-venta-en-vallecas-madrid',['cod_distrito','distrito','cod_barrio','barrio','cod_postal']]=[18,'Villa De Vallecas',181,'Casco Histórico de Vallecas',28031]\n",
        "\n",
        "df_final.loc[df_final['url']=='https://www.indomio.es/anuncios/96828167/',['cod_distrito','distrito','cod_barrio','barrio','cod_postal']]=[17,'Villaverde',171,'Villaverde Alto',28021]\n",
        "\n",
        "\n",
        "curls = [\n",
        "    'https://www.redpiso.es/inmueble/piso-en-venta-en-calle-encomienda-de-palacios-fontarron-moratalaz-madrid-madrid-RP242024131120',\n",
        "    'https://www.redpiso.es/inmueble/piso-en-venta-en-calle-encomienda-de-palacios-fontarron-moratalaz-madrid-madrid-RP242023119430',\n",
        "    'https://www.redpiso.es/inmueble/piso-en-venta-en-calle-encomienda-de-palacios-fontarron-moratalaz-madrid-madrid-RP242024124287',\n",
        "    'https://www.redpiso.es/inmueble/piso-en-venta-en-calle-encomienda-de-palacios-fontarron-moratalaz-madrid-madrid-RP242024127735',\n",
        "    'https://www.redpiso.es/inmueble/piso-en-venta-en-calle-encomienda-de-palacios-fontarron-moratalaz-madrid-madrid-RP242024128606'\n",
        "]\n",
        "df_final.loc[df_final['url'].isin(curls), ['cod_distrito', 'distrito', 'cod_barrio', 'barrio', 'cod_postal']] = [14, 'Moratalaz', 145, 'Fontarrón', 28030]\n",
        "\n",
        "df_final.loc[df_final['url']=='https://www.indomio.es/anuncios/93066623/',[\"garaje\"]]=['3 privado']\n",
        "df_final.loc[df_final['url']=='https://www.pisos.com/comprar/chalet-ciudad_universitaria28035-41701368068_101800/',[\"chimenea\",\"cancha_tenis\"]]=[1,1]\n",
        "\n",
        "df_final.loc[df_final['url']=='https://www.indomio.es/anuncios/96758341/',[\"garaje\",\"jardin\"]]=[0,0]\n",
        "df_final.loc[df_final['url']=='https://www.indomio.es/anuncios/96760239/',[\"garaje\",\"jardin\"]]=[0,0]\n",
        "df_final.loc[df_final['url']=='https://www.indomio.es/anuncios/96828189/',[\"garaje\",\"jardin\"]]=[0,0]\n",
        "df_final.loc[df_final['url']=='https://www.indomio.es/anuncios/95053235/',[\"garaje\",\"jardin\"]]=[0,0]\n",
        "df_final.loc[df_final['url']=='https://www.redpiso.es/inmueble/piso-en-venta-en-calle-valmojado-aluche-latina-madrid-madrid-RP272024123901',[\"garaje\",\"piscina\",'trastero']]=[0,0,0]\n",
        "df_final.loc[df_final['url']=='https://www.indomio.es/anuncios/95469291/',[\"garaje\",\"piscina\"]]=[0,0]\n",
        "df_final.loc[df_final['url']=='https://www.pisos.com/comprar/piso-chamberi_almagro28010-34259046046_996542/',[\"chimenea\"]]=[1]\n",
        "df_final.loc[df_final['url']=='https://www.indomio.es/anuncios/94254871/',[\"chimenea\"]]=[1]\n",
        "df_final.loc[df_final['url']=='https://www.indomio.es/anuncios/96905449/',[\"garaje\"]]=['3 privado']\n",
        "\n",
        "#12\n"
      ]
    },
    {
      "cell_type": "code",
      "execution_count": 4806,
      "metadata": {},
      "outputs": [
        {
          "data": {
            "text/html": [
              "<div>\n",
              "<style scoped>\n",
              "    .dataframe tbody tr th:only-of-type {\n",
              "        vertical-align: middle;\n",
              "    }\n",
              "\n",
              "    .dataframe tbody tr th {\n",
              "        vertical-align: top;\n",
              "    }\n",
              "\n",
              "    .dataframe thead th {\n",
              "        text-align: right;\n",
              "    }\n",
              "</style>\n",
              "<table border=\"1\" class=\"dataframe\">\n",
              "  <thead>\n",
              "    <tr style=\"text-align: right;\">\n",
              "      <th></th>\n",
              "      <th>cancha_tenis</th>\n",
              "      <th>piscina</th>\n",
              "      <th>terraza</th>\n",
              "      <th>jardin</th>\n",
              "      <th>garaje</th>\n",
              "      <th>trastero</th>\n",
              "      <th>chimenea</th>\n",
              "    </tr>\n",
              "  </thead>\n",
              "  <tbody>\n",
              "    <tr>\n",
              "      <th>2966</th>\n",
              "      <td>0.00</td>\n",
              "      <td>1</td>\n",
              "      <td>1.00</td>\n",
              "      <td>privado</td>\n",
              "      <td>3 privado</td>\n",
              "      <td>0.00</td>\n",
              "      <td>1.00</td>\n",
              "    </tr>\n",
              "  </tbody>\n",
              "</table>\n",
              "</div>"
            ],
            "text/plain": [
              "      cancha_tenis piscina  terraza   jardin     garaje  trastero  chimenea\n",
              "2966          0.00       1     1.00  privado  3 privado      0.00      1.00"
            ]
          },
          "execution_count": 4806,
          "metadata": {},
          "output_type": "execute_result"
        }
      ],
      "source": [
        "df_final.query(\"url=='https://www.indomio.es/anuncios/96905449/'\")[['cancha_tenis', 'piscina','terraza','jardin','garaje','trastero','chimenea']]"
      ]
    },
    {
      "cell_type": "code",
      "execution_count": 4807,
      "metadata": {},
      "outputs": [
        {
          "name": "stderr",
          "output_type": "stream",
          "text": [
            "C:\\Users\\extas\\AppData\\Local\\Temp\\ipykernel_21996\\463572899.py:44: FutureWarning: Setting an item of incompatible dtype is deprecated and will raise an error in a future version of pandas. Value '1' has dtype incompatible with float64, please explicitly cast to a compatible dtype first.\n",
            "  df_final.loc[df_final['url']=='https://www.pisos.com/comprar/chalet-fuencarral_el_pardo_el_pardo28023-46668989227_102100/',[\"piscina\",\"calefaccion\",\"estado\",\"tipologia\",\"exterior\",\"chimenea\",\"jardin\",\"tiene_jardin\",\"cancha_tenis\"]]=['propia','suelo radiante','perfecto estado','Chalet',1,1,\"privado\",'1',1]\n",
            "C:\\Users\\extas\\AppData\\Local\\Temp\\ipykernel_21996\\463572899.py:49: FutureWarning: Setting an item of incompatible dtype is deprecated and will raise an error in a future version of pandas. Value '1' has dtype incompatible with float64, please explicitly cast to a compatible dtype first.\n",
            "  df_final.loc[df_final['url']=='https://www.redpiso.es/inmueble/piso-en-venta-en-casco-historico-de-vallecas-villa-de-vallecas-ensanche-y-santa-eugenia-madrid-madrid-RP532024131243',[\"antiguedad\",\"estado\",\"letra_ce\",\"terraza\",\"trastero\"]]=[1979,\"reformado\",\"E\",\"1\",0]\n"
          ]
        }
      ],
      "source": [
        "\n",
        "#eliminamos esta url , es un edificio\n",
        "\n",
        "# Eliminar la fila donde la columna 'url' contiene la URL especificada\n",
        "df_final = df_final[df_final['url'] != 'https://www.indomio.es/anuncios/93990143/']\n",
        "df_final.loc[df_final['url'].str.contains('https://www.indomio.es/anuncios/93455821/'), ['tipologia', 'terraza', 'estado','garaje']] = ['Loft',1,'Buen estado',1]\n",
        "df_final.loc[df_final[\"url\"] == \"https://www.indomio.es/anuncios/96654135/\", \"inmueble_ingresos\"] = 1\n",
        "\n",
        "urlsnuevo=['https://www.pisos.com/comprar/apartamento-adelfas28007-45835099732_101800/','https://www.pisos.com/comprar/apartamento-adelfas28007-45869202772_101800/',\n",
        "'https://www.pisos.com/comprar/apartamento-adelfas28007-45912206979_101800/',\n",
        "'https://www.pisos.com/comprar/apartamento-adelfas28007-45919489438_101800/',\n",
        "'https://www.pisos.com/comprar/apartamento-adelfas28007-46667942689_101800/',\n",
        "'https://www.pisos.com/comprar/apartamento-adelfas28007-46731956156_101800/']\n",
        "#les asignamos una planta 5, los aticos son mas caros \n",
        "# Actualizar las filas correspondientes usando isin\n",
        "df_final.loc[df_final['url'].isin(urlsnuevo), ['estado', 'trastero', 'tiene_piscina', 'garaje', 'planta']] = ['Obra nueva', 1, 1, 1, 5]\n",
        "\n",
        "# se elimina la url https://www.pisos.com/comprar/piso-fontarron-47524209698_100600/ por que es un restaurante en venta\n",
        "url_a_eliminar = 'https://www.pisos.com/comprar/piso-fontarron-47524209698_100600/'\n",
        "df_final = df_final[df_final['url'] != url_a_eliminar]\n",
        "#elimino esta fila , tiene datos que no ayudaran al modelo\n",
        "df_final = df_final[df_final['url'] != 'https://www.indomio.es/anuncios/81008864/']\n",
        "\n",
        "\n",
        "urls=['https://www.indomio.es/anuncios/96343641/','https://www.indomio.es/anuncios/96535879/']\n",
        "df_final.loc[df_final['url'].isin(urls), 'num_plantas'] = 3\n",
        "\n",
        "urls=['https://www.redpiso.es/inmueble/piso-en-venta-en-calle-alvarado-cuatro-caminos-tetuan-madrid-madrid-RP1362024130128',\n",
        "      'https://www.redpiso.es/inmueble/estudio-en-venta-en-calle-bustamante-delicias-arganzuela-madrid-madrid-RP2102024125647']\n",
        "df_final.loc[df_final['url'].isin(urls), 'planta'] = 3\n",
        "# Asignar valores específicos a las columnas 'tipo_inmueble', 'estado' y 'num_garajes' para la URL indicada\n",
        "df_final.loc[df_final['url'] == 'https://www.pisos.com/comprar/piso-goya28006-39193055272_102100/', ['tipo_inmueble', 'estado', 'garaje']] = ['lujo', 'Obra nueva', '4 privado']\n",
        "df_final.loc[df_final['url'] == 'https://www.indomio.es/anuncios/95552665/', ['exterior', 'estado', 'garaje']] = [1, 'reformado', '4 privado']\n",
        "df_final.loc[df_final['url'] == 'https://www.indomio.es/anuncios/96669269/', ['exterior', 'estado', 'grupo_cocina']] = [1, 'reformado', 'abierta, amueblada, equipada']\n",
        "df_final.loc[df_final['url'] == 'https://www.indomio.es/anuncios/95491161/', ['exterior', 'estado', 'amueblado','grupo_cocina','aire_acondicionado','calefaccion']] = [1, 'reformado', '1','abierta',1,'central']\n",
        "df_final.loc[df_final['url'] == 'https://www.pisos.com/comprar/duplex-recoletos28001-32597181586_996542/', ['exterior', 'estado', 'antiguedad']] = [1, 'reformado','Más de 50 años']\n",
        "df_final.loc[df_final['url'] == 'https://www.redpiso.es/inmueble/piso-en-venta-en-paseo-castellana-almagro-chamberi-madrid-madrid-RP1922023117294', ['grupo_cocina','portero', 'estado', 'antiguedad','gastos_comunidad','amueblado','terraza','calefaccion']] = ['equipada',1, 'reformado',1954,1000,'1',1,'central']\n",
        "df_final.loc[df_final['url'] == 'https://www.indomio.es/anuncios/96662699/', ['cod_barrio','barrio','cod_distrito','distrito','codigo_Postal','grupo_cocina','estado']] = [35,'Jerónimos',3,'Retiro',28014,'equipada','reformado']\n",
        "df_final.loc[df_final['url'] == 'https://www.indomio.es/anuncios/82878580/', [\"garaje\",'chimenea',\"grupo_cocina\"]] = [\"1 privado\",1,\"equipada independiente\"]\n",
        "\n",
        "df_final.loc[df_final['url']=='https://www.indomio.es/anuncios/96736113/',[\"piscina\",\"orientacion_norte\",\"orientacion_sur\",\"orientacion_este\",\"orientacion_oeste\",\"tipologia\",\"portero\",\"calefaccion\",\"tipo_inmueble\"]]=[1,1,1,1,1,\"Atico\",1,\"central\",\"lujo\"]\n",
        "df_final.loc[df_final['url']=='https://www.indomio.es/anuncios/95463509/',[\"estado\"]]=['reformado']\n",
        "\n",
        "df_final.loc[df_final['url']=='https://www.pisos.com/comprar/piso-recoletos28009-32538606854_149200/',[\"planta\",\"estado\",\"tipologia\",\"exterior\"]]=['bajo','reformado','Chalet',1]\n",
        "df_final.loc[df_final['url']=='https://www.pisos.com/comprar/chalet-fuencarral_el_pardo_el_pardo28023-46668989227_102100/',[\"piscina\",\"calefaccion\",\"estado\",\"tipologia\",\"exterior\",\"chimenea\",\"jardin\",\"tiene_jardin\",\"cancha_tenis\"]]=['propia','suelo radiante','perfecto estado','Chalet',1,1,\"privado\",'1',1]\n",
        "df_final.loc[df_final['url']=='https://www.pisosmadrid.com.es/propiedad/4044649-estudio-en-venta-en-nueva-espana-madrid',\"banos\"]=1\n",
        "df_final.loc[df_final['url']=='https://www.indomio.es/anuncios/93990153/',[\"garaje\",\"trastero\"]]=[\"2 privado\",1]\n",
        "df_final.loc[df_final['url']=='https://www.pisos.com/comprar/piso-casco_historico_de_vallecas28031-39169651748_101800/',[\"estado\",\"calefaccion\",\"puerta_seguridad\",\"aire_acondicionado\",\"grupo_cocina\"]]=[\"buen estado\",\"individual\",1,\"1\",\"independiente equipada\"]\n",
        "\n",
        "df_final.loc[df_final['url']=='https://www.redpiso.es/inmueble/piso-en-venta-en-casco-historico-de-vallecas-villa-de-vallecas-ensanche-y-santa-eugenia-madrid-madrid-RP532024131243',[\"antiguedad\",\"estado\",\"letra_ce\",\"terraza\",\"trastero\"]]=[1979,\"reformado\",\"E\",\"1\",0]\n",
        "# Cambiar este valor por que no puede ser mayor los m2_utiles que los construidos\n",
        "# Asignar NaN a 'm2_utiles' cuando 'url' es igual al valor indicado\n",
        "df_final.loc[df_final['url'] == 'https://www.pisos.com/comprar/piso-centro_palacio28013-48428210263_100500/', 'm2_utiles'] = np.nan\n",
        "# Cambiar este valor por que no puede ser mayor los m2_utiles que los construidos\n",
        "\n",
        "df_final.loc[df_final['url'] == 'https://www.pisos.com/comprar/chalet-piovera28043-45869946604_108700/', 'm2_utiles'] = 1150\n",
        "df_final.loc[df_final['url'] == 'https://www.pisos.com/comprar/piso-salamanca_castellana28006-41697553178_996152/', 'm2_utiles'] = 462\n",
        "df_final.loc[df_final['url'] == 'https://www.pisos.com/comprar/piso-recoletos28001-44168048071_996152/', 'm2_utiles'] = 323\n",
        "\n",
        "df_final.loc[df_final['url']=='https://www.indomio.es/anuncios/96571765/',['letra_ce','tipologia','estado','garaje','antiguedad','tiene_armario','exterior','piscina','orientacion_oeste','armarios','cocina','portero','banos']]=['A','Atico','En Buen Estado','4 privado','Entre 5 y 10 años',1,1,'1 propia y 2 comunitaria',1,5,'independiente , amuelada y equipada','todo el dia',6]\n",
        "\n",
        "df_final.loc[df_final['url']=='https://www.pisos.com/comprar/casa_pareada-moncloa_aravaca_aravaca28023-48337093593_108900/',['garaje','jardin','cancha_tenis','tiene_armario','exterior','estado','piscina','armarios','cocina','portero']]=['2 privado',1,1,1,1,'reformado',1,4,'independiente , amuelada y equipada','todo el dia']\n",
        "\n",
        "df_final.loc[df_final['url']=='https://www.pisosmadrid.com.es/propiedad/3895830-piso-en-venta-en-lucero-madrid','nuda_propiedad']=1\n",
        "df_final.loc[df_final['url']=='https://www.indomio.es/anuncios/96758185/','nuda_propiedad']=1\n",
        "\n",
        "df_final.loc[df_final['url']=='https://www.pisosmadrid.com.es/propiedad/3967137-piso-en-venta-en-lucero-madrid','nuda_propiedad']=1\n",
        "\n",
        "\n",
        "df_final.loc[df_final['url']=='https://www.redpiso.es/inmueble/piso-en-venta-en-calle-juan-alvarez-de-mendizabal-arguelles-moncloa-aravaca-madrid-madrid-RP71202192163',['dormitorios','banos','m2_constr','calefaccion','estado','planta','ascensor','aire_acondicionado','armarios','antiguedad','letra_ce']]=[2,2,120,'central','reformado',2,1,1,1,1950,'E']\n",
        "\n",
        "df_final.loc[df_final['url']=='https://www.pisosmadrid.com.es/propiedad/3967137-piso-en-venta-en-lucero-madrid',['m2_constr','estado','piscina','portero','garaje','armarios','antiguedad','terraza','cancha_tenis','trastero']]=[75,'reformado',1,1,1,2,2005,1,1,1]\n"
      ]
    },
    {
      "cell_type": "code",
      "execution_count": 4808,
      "metadata": {},
      "outputs": [
        {
          "data": {
            "text/html": [
              "<div>\n",
              "<style scoped>\n",
              "    .dataframe tbody tr th:only-of-type {\n",
              "        vertical-align: middle;\n",
              "    }\n",
              "\n",
              "    .dataframe tbody tr th {\n",
              "        vertical-align: top;\n",
              "    }\n",
              "\n",
              "    .dataframe thead th {\n",
              "        text-align: right;\n",
              "    }\n",
              "</style>\n",
              "<table border=\"1\" class=\"dataframe\">\n",
              "  <thead>\n",
              "    <tr style=\"text-align: right;\">\n",
              "      <th></th>\n",
              "      <th>title</th>\n",
              "      <th>url</th>\n",
              "      <th>precio_anterior</th>\n",
              "      <th>descuento</th>\n",
              "      <th>EUR/m2</th>\n",
              "      <th>m2_constr</th>\n",
              "      <th>distrito</th>\n",
              "      <th>cod_distrito</th>\n",
              "      <th>barrio</th>\n",
              "      <th>cod_barrio</th>\n",
              "      <th>zona</th>\n",
              "      <th>calle</th>\n",
              "      <th>consumoce_ano</th>\n",
              "      <th>letra_ce</th>\n",
              "      <th>emisiones_co2</th>\n",
              "      <th>tipologia</th>\n",
              "      <th>estado</th>\n",
              "      <th>amueblado</th>\n",
              "      <th>planta</th>\n",
              "      <th>dormitorios</th>\n",
              "      <th>banos</th>\n",
              "      <th>balcon</th>\n",
              "      <th>terraza</th>\n",
              "      <th>garaje</th>\n",
              "      <th>trastero</th>\n",
              "      <th>ascensor</th>\n",
              "      <th>calefaccion</th>\n",
              "      <th>antiguedad</th>\n",
              "      <th>num_plantas</th>\n",
              "      <th>aire_acondicionado</th>\n",
              "      <th>jardin</th>\n",
              "      <th>inmueble_ingresos</th>\n",
              "      <th>alquiler_opcion_a_compra</th>\n",
              "      <th>nuda_propiedad</th>\n",
              "      <th>tipo_inmueble</th>\n",
              "      <th>tiene_armario</th>\n",
              "      <th>cancha_tenis</th>\n",
              "      <th>carpinteria_exterior_doble_vidrio/pvc</th>\n",
              "      <th>carpinteria_exterior_doble_vidrio/madera</th>\n",
              "      <th>carpinteria_exterior_doble_vidrio/metal</th>\n",
              "      <th>carpinteria_exterior_triple_vidrio/madera</th>\n",
              "      <th>carpinteria_exterior_triple_vidrio/metal</th>\n",
              "      <th>carpinteria_exterior_vidrio/pvc</th>\n",
              "      <th>carpinteria_exterior_vidrio/madera</th>\n",
              "      <th>carpinteria_exterior_vidrio/metal</th>\n",
              "      <th>chimenea</th>\n",
              "      <th>cocina</th>\n",
              "      <th>fibra_optica</th>\n",
              "      <th>exterior</th>\n",
              "      <th>interior</th>\n",
              "      <th>interior_y_exterior</th>\n",
              "      <th>piscina</th>\n",
              "      <th>porton_electrico</th>\n",
              "      <th>alarma</th>\n",
              "      <th>videoportero</th>\n",
              "      <th>acceso_discapacidad</th>\n",
              "      <th>precio</th>\n",
              "      <th>web</th>\n",
              "      <th>fecha_descarga</th>\n",
              "      <th>actualizacion</th>\n",
              "      <th>armarios</th>\n",
              "      <th>codigo_Postal</th>\n",
              "      <th>m2_utiles</th>\n",
              "      <th>referencia</th>\n",
              "      <th>tipo_suelo</th>\n",
              "      <th>certificado_energetico</th>\n",
              "      <th>tiene_jardin</th>\n",
              "      <th>descripcion_larga</th>\n",
              "      <th>num_visitas</th>\n",
              "      <th>fecha_publicacion</th>\n",
              "      <th>titularanuncio</th>\n",
              "      <th>num_pisos</th>\n",
              "      <th>puerta_seguridad</th>\n",
              "      <th>zonas_verdes</th>\n",
              "      <th>gastos_comunidad</th>\n",
              "      <th>tiene_piscina</th>\n",
              "      <th>tipo_fachada</th>\n",
              "      <th>agua_caliente</th>\n",
              "      <th>nombre_oficina</th>\n",
              "      <th>portero</th>\n",
              "      <th>orientacion_este</th>\n",
              "      <th>orientacion_oeste</th>\n",
              "      <th>orientacion_sur</th>\n",
              "      <th>num_garajes</th>\n",
              "      <th>clasificacion_aire</th>\n",
              "      <th>grupo_cocina</th>\n",
              "      <th>orientacion_norte</th>\n",
              "      <th>emisiones_ano</th>\n",
              "      <th>letra_emisiones</th>\n",
              "      <th>tipo_calefaccion</th>\n",
              "      <th>energia_calefaccion</th>\n",
              "      <th>instalacion_calefaccion</th>\n",
              "      <th>titular_anuncio</th>\n",
              "      <th>cod_postal</th>\n",
              "    </tr>\n",
              "  </thead>\n",
              "  <tbody>\n",
              "    <tr>\n",
              "      <th>238</th>\n",
              "      <td>Piso de cuatro habitaciones Paseo Castellana, Almagro, Madrid</td>\n",
              "      <td>https://www.indomio.es/anuncios/94254871/</td>\n",
              "      <td>NaN</td>\n",
              "      <td>NaN</td>\n",
              "      <td>10.90</td>\n",
              "      <td>624.00</td>\n",
              "      <td>Chamberí</td>\n",
              "      <td>7</td>\n",
              "      <td>Almagro</td>\n",
              "      <td>74</td>\n",
              "      <td>Almagro</td>\n",
              "      <td>CASTELLANA, ALMAGRO, MADRID</td>\n",
              "      <td>NaN</td>\n",
              "      <td>NaN</td>\n",
              "      <td>NaN</td>\n",
              "      <td>Piso</td>\n",
              "      <td>Bueno / Habitable</td>\n",
              "      <td>NaN</td>\n",
              "      <td>2</td>\n",
              "      <td>4.00</td>\n",
              "      <td>5</td>\n",
              "      <td>NaN</td>\n",
              "      <td>1.00</td>\n",
              "      <td>NaN</td>\n",
              "      <td>1.00</td>\n",
              "      <td>1.00</td>\n",
              "      <td>NaN</td>\n",
              "      <td>1954</td>\n",
              "      <td>NaN</td>\n",
              "      <td>Individual, frío/calor</td>\n",
              "      <td>sin jardin</td>\n",
              "      <td>NaN</td>\n",
              "      <td>NaN</td>\n",
              "      <td>NaN</td>\n",
              "      <td>lujo</td>\n",
              "      <td>1.00</td>\n",
              "      <td>0.00</td>\n",
              "      <td>0.00</td>\n",
              "      <td>0.00</td>\n",
              "      <td>0.00</td>\n",
              "      <td>0.00</td>\n",
              "      <td>0.00</td>\n",
              "      <td>0.00</td>\n",
              "      <td>0.00</td>\n",
              "      <td>0.00</td>\n",
              "      <td>1.00</td>\n",
              "      <td>NaN</td>\n",
              "      <td>0.00</td>\n",
              "      <td>0.00</td>\n",
              "      <td>0.00</td>\n",
              "      <td>0.00</td>\n",
              "      <td>sin piscina</td>\n",
              "      <td>0.00</td>\n",
              "      <td>0</td>\n",
              "      <td>0.00</td>\n",
              "      <td>&lt;NA&gt;</td>\n",
              "      <td>6800000</td>\n",
              "      <td>Indomio.com</td>\n",
              "      <td>2024-11-20</td>\n",
              "      <td>NaN</td>\n",
              "      <td>NaN</td>\n",
              "      <td>28010.00</td>\n",
              "      <td>NaN</td>\n",
              "      <td>NaN</td>\n",
              "      <td>NaN</td>\n",
              "      <td>No indicado</td>\n",
              "      <td>0.00</td>\n",
              "      <td>Diplomatic Real Estate ofrece fantástica vivienda de lujo con reforma integral, calidades excepcionales, totalmente aislada de ruido, de diseño, ubicado en edificio clásico y señorial que data de 1954. Se distribuye de la siguiente manera; Amplio recibidor con un espacio acristalado para un jardín / invernadero, aseo de cortesía, y a la izquierda se encuentran tres salones independientes con puertas correderas que se pueden comunicar entre sí, uno de ellos con chimenea. Dispone de puerta de acceso a una terraza rectangular / balcón corrido de 8 m2.El comedor es abierto y dispone de una cocina de apoyo. Un espacio único con distintos ambientes. La zona de noche la compone tres dormitorios en suite, el principal dispone también de un excelente vestidor y bañera exenta además de una importante ducha y dos lavabos. El segundo dormitorio (en suite) tiene un closet además de armarios empotrados. El tercer dormitorio (también en suite) tiene una pared de armarios de gran almacenaje. La zona de servicio está compuesta por una amplia cocina en isla totalmente equipada y amueblada con electrodomésticos de alta gama + puerta de servicio al montacargas + patio acristalado para disfrutar de deliciosos desayunos + zona de lavado + cuarto de plancha + dormitorio de servicio junto con su correspondiente baño. Se vende con una plaza de garaje dentro del propio edificio y trastero. El portero vive en la finca. Esperamos su llamada, 91 564 77 00 Diplomatic Real Estate con más de 25 años en el sector inmobiliario y una amplia cartera de viviendas de lujo, locales, oficinas y edificios ofrece asesoramiento completo a sus clientes tanto en alquiler como en compra venta de inmuebles.</td>\n",
              "      <td>NaN</td>\n",
              "      <td>NaN</td>\n",
              "      <td>NaN</td>\n",
              "      <td>NaN</td>\n",
              "      <td>0</td>\n",
              "      <td>NaN</td>\n",
              "      <td>NaN</td>\n",
              "      <td>0.00</td>\n",
              "      <td>NaN</td>\n",
              "      <td>NaN</td>\n",
              "      <td>NaN</td>\n",
              "      <td>NaN</td>\n",
              "      <td>0.00</td>\n",
              "      <td>0.00</td>\n",
              "      <td>0.00</td>\n",
              "      <td>NaN</td>\n",
              "      <td>Normal</td>\n",
              "      <td>sin_informacion</td>\n",
              "      <td>0.00</td>\n",
              "      <td>NaN</td>\n",
              "      <td>NaN</td>\n",
              "      <td>No clasif</td>\n",
              "      <td>No clasificado en energía</td>\n",
              "      <td>Radiadores</td>\n",
              "      <td>Diplomatic Real Estate ofrece fantástica vivienda de lujo con reforma integral, calidades excepcionales, totalmente aislada de ruido, de diseño, ubicado en edificio clásico y señorial que data de 1954. Se distribuye de la siguiente manera; Amplio recibidor con un espacio acristalado para un jardín / invernadero, aseo de cortesía, y a la izquierda se encuentran tres salones independientes con puertas correderas que se pueden comunicar entre sí, uno de ellos con chimenea. Dispone de puerta de acceso a una terraza rectangular / balcón corrido de 8 m2.El comedor es abierto y dispone de una cocina de apoyo. Un espacio único con distintos ambientes. La zona de noche la compone tres dormitorios en suite, el principal dispone también de un excelente vestidor y bañera exenta además de una importante ducha y dos lavabos. El segundo dormitorio (en suite) tiene un closet además de armarios empotrados. El tercer dormitorio (también en suite) tiene una pared de armarios de gran almacenaje. La zona de servicio está compuesta por una amplia cocina en isla totalmente equipada y amueblada con electrodomésticos de alta gama + puerta de servicio al montacargas + patio acristalado para disfrutar de deliciosos desayunos + zona de lavado + cuarto de plancha + dormitorio de servicio junto con su correspondiente baño. Se vende con una plaza de garaje dentro del propio edificio y trastero. El portero vive en la finca. Esperamos su llamada, 91 564 77 00 Diplomatic Real Estate con más de 25 años en el sector inmobiliario y una amplia cartera de viviendas de lujo, locales, oficinas y edificios ofrece asesoramiento completo a sus clientes tanto en alquiler como en compra venta de inmuebles.</td>\n",
              "      <td>NaN</td>\n",
              "    </tr>\n",
              "  </tbody>\n",
              "</table>\n",
              "</div>"
            ],
            "text/plain": [
              "                                                             title  \\\n",
              "238  Piso de cuatro habitaciones Paseo Castellana, Almagro, Madrid   \n",
              "\n",
              "                                           url  precio_anterior  descuento  \\\n",
              "238  https://www.indomio.es/anuncios/94254871/              NaN        NaN   \n",
              "\n",
              "     EUR/m2  m2_constr  distrito  cod_distrito   barrio  cod_barrio     zona  \\\n",
              "238   10.90     624.00  Chamberí             7  Almagro          74  Almagro   \n",
              "\n",
              "                            calle consumoce_ano letra_ce emisiones_co2  \\\n",
              "238   CASTELLANA, ALMAGRO, MADRID           NaN      NaN           NaN   \n",
              "\n",
              "    tipologia             estado amueblado planta  dormitorios banos  balcon  \\\n",
              "238      Piso  Bueno / Habitable       NaN      2         4.00     5     NaN   \n",
              "\n",
              "    terraza garaje  trastero  ascensor calefaccion antiguedad num_plantas  \\\n",
              "238    1.00    NaN      1.00      1.00         NaN       1954         NaN   \n",
              "\n",
              "         aire_acondicionado      jardin  inmueble_ingresos  \\\n",
              "238  Individual, frío/calor  sin jardin                NaN   \n",
              "\n",
              "     alquiler_opcion_a_compra  nuda_propiedad tipo_inmueble  tiene_armario  \\\n",
              "238                       NaN             NaN          lujo           1.00   \n",
              "\n",
              "     cancha_tenis  carpinteria_exterior_doble_vidrio/pvc  \\\n",
              "238          0.00                                   0.00   \n",
              "\n",
              "     carpinteria_exterior_doble_vidrio/madera  \\\n",
              "238                                      0.00   \n",
              "\n",
              "     carpinteria_exterior_doble_vidrio/metal  \\\n",
              "238                                     0.00   \n",
              "\n",
              "     carpinteria_exterior_triple_vidrio/madera  \\\n",
              "238                                       0.00   \n",
              "\n",
              "     carpinteria_exterior_triple_vidrio/metal  \\\n",
              "238                                      0.00   \n",
              "\n",
              "     carpinteria_exterior_vidrio/pvc  carpinteria_exterior_vidrio/madera  \\\n",
              "238                             0.00                                0.00   \n",
              "\n",
              "     carpinteria_exterior_vidrio/metal  chimenea cocina  fibra_optica  \\\n",
              "238                               0.00      1.00    NaN          0.00   \n",
              "\n",
              "     exterior  interior  interior_y_exterior      piscina  porton_electrico  \\\n",
              "238      0.00      0.00                 0.00  sin piscina              0.00   \n",
              "\n",
              "    alarma  videoportero  acceso_discapacidad   precio          web  \\\n",
              "238      0          0.00                 <NA>  6800000  Indomio.com   \n",
              "\n",
              "    fecha_descarga actualizacion armarios  codigo_Postal m2_utiles referencia  \\\n",
              "238     2024-11-20           NaN      NaN       28010.00       NaN        NaN   \n",
              "\n",
              "    tipo_suelo certificado_energetico tiene_jardin  \\\n",
              "238        NaN            No indicado         0.00   \n",
              "\n",
              "                                                                                                                                                                                                                                                                                                                                                                                                                                                                                                                                                                                                                                                                                                                                                                                                                                                                                                                                                                                                                                                                                                                                                                                                                                                                                                                                                                                                                                                                                                                                                                                                                                                                                                                                             descripcion_larga  \\\n",
              "238  Diplomatic Real Estate ofrece fantástica vivienda de lujo con reforma integral, calidades excepcionales, totalmente aislada de ruido, de diseño, ubicado en edificio clásico y señorial que data de 1954. Se distribuye de la siguiente manera; Amplio recibidor con un espacio acristalado para un jardín / invernadero, aseo de cortesía, y a la izquierda se encuentran tres salones independientes con puertas correderas que se pueden comunicar entre sí, uno de ellos con chimenea. Dispone de puerta de acceso a una terraza rectangular / balcón corrido de 8 m2.El comedor es abierto y dispone de una cocina de apoyo. Un espacio único con distintos ambientes. La zona de noche la compone tres dormitorios en suite, el principal dispone también de un excelente vestidor y bañera exenta además de una importante ducha y dos lavabos. El segundo dormitorio (en suite) tiene un closet además de armarios empotrados. El tercer dormitorio (también en suite) tiene una pared de armarios de gran almacenaje. La zona de servicio está compuesta por una amplia cocina en isla totalmente equipada y amueblada con electrodomésticos de alta gama + puerta de servicio al montacargas + patio acristalado para disfrutar de deliciosos desayunos + zona de lavado + cuarto de plancha + dormitorio de servicio junto con su correspondiente baño. Se vende con una plaza de garaje dentro del propio edificio y trastero. El portero vive en la finca. Esperamos su llamada, 91 564 77 00 Diplomatic Real Estate con más de 25 años en el sector inmobiliario y una amplia cartera de viviendas de lujo, locales, oficinas y edificios ofrece asesoramiento completo a sus clientes tanto en alquiler como en compra venta de inmuebles.   \n",
              "\n",
              "     num_visitas fecha_publicacion titularanuncio num_pisos  puerta_seguridad  \\\n",
              "238          NaN               NaN            NaN       NaN                 0   \n",
              "\n",
              "     zonas_verdes gastos_comunidad  tiene_piscina tipo_fachada agua_caliente  \\\n",
              "238           NaN              NaN           0.00          NaN           NaN   \n",
              "\n",
              "    nombre_oficina portero  orientacion_este  orientacion_oeste  \\\n",
              "238            NaN     NaN              0.00               0.00   \n",
              "\n",
              "     orientacion_sur  num_garajes clasificacion_aire     grupo_cocina  \\\n",
              "238             0.00          NaN             Normal  sin_informacion   \n",
              "\n",
              "     orientacion_norte  emisiones_ano letra_emisiones tipo_calefaccion  \\\n",
              "238               0.00            NaN             NaN        No clasif   \n",
              "\n",
              "           energia_calefaccion instalacion_calefaccion  \\\n",
              "238  No clasificado en energía              Radiadores   \n",
              "\n",
              "                                                                                                                                                                                                                                                                                                                                                                                                                                                                                                                                                                                                                                                                                                                                                                                                                                                                                                                                                                                                                                                                                                                                                                                                                                                                                                                                                                                                                                                                                                                                                                                                                                                                                                                                               titular_anuncio  \\\n",
              "238  Diplomatic Real Estate ofrece fantástica vivienda de lujo con reforma integral, calidades excepcionales, totalmente aislada de ruido, de diseño, ubicado en edificio clásico y señorial que data de 1954. Se distribuye de la siguiente manera; Amplio recibidor con un espacio acristalado para un jardín / invernadero, aseo de cortesía, y a la izquierda se encuentran tres salones independientes con puertas correderas que se pueden comunicar entre sí, uno de ellos con chimenea. Dispone de puerta de acceso a una terraza rectangular / balcón corrido de 8 m2.El comedor es abierto y dispone de una cocina de apoyo. Un espacio único con distintos ambientes. La zona de noche la compone tres dormitorios en suite, el principal dispone también de un excelente vestidor y bañera exenta además de una importante ducha y dos lavabos. El segundo dormitorio (en suite) tiene un closet además de armarios empotrados. El tercer dormitorio (también en suite) tiene una pared de armarios de gran almacenaje. La zona de servicio está compuesta por una amplia cocina en isla totalmente equipada y amueblada con electrodomésticos de alta gama + puerta de servicio al montacargas + patio acristalado para disfrutar de deliciosos desayunos + zona de lavado + cuarto de plancha + dormitorio de servicio junto con su correspondiente baño. Se vende con una plaza de garaje dentro del propio edificio y trastero. El portero vive en la finca. Esperamos su llamada, 91 564 77 00 Diplomatic Real Estate con más de 25 años en el sector inmobiliario y una amplia cartera de viviendas de lujo, locales, oficinas y edificios ofrece asesoramiento completo a sus clientes tanto en alquiler como en compra venta de inmuebles.   \n",
              "\n",
              "     cod_postal  \n",
              "238         NaN  "
            ]
          },
          "execution_count": 4808,
          "metadata": {},
          "output_type": "execute_result"
        }
      ],
      "source": [
        "df_final.query(\"url=='https://www.indomio.es/anuncios/94254871/'\")"
      ]
    },
    {
      "cell_type": "code",
      "execution_count": 4809,
      "metadata": {},
      "outputs": [
        {
          "name": "stdout",
          "output_type": "stream",
          "text": [
            "certificado_energetico\n",
            "0.00    8144\n",
            "1.00    1888\n",
            "Name: count, dtype: int64\n"
          ]
        }
      ],
      "source": [
        "# Asignar valores según las siguientes condiciones:\n",
        "df_final['certificado_energetico'] = df_final['certificado_energetico'].replace({\n",
        "    'Disponible': 1,\n",
        "    'No indicado': 0\n",
        "})\n",
        "df_final['certificado_energetico'] = df_final['certificado_energetico'].fillna(0)\n",
        "\n",
        "# Asegurarse de que todos los valores sean tratados de forma uniforme\n",
        "df_final['certificado_energetico'] = df_final['certificado_energetico'].astype(float)\n",
        "\n",
        "# También se puede reemplazar 0.0 por 0 (si quieres mantenerlo como entero)\n",
        "df_final['certificado_energetico'] = df_final['certificado_energetico'].replace(0.0, 0)\n",
        "\n",
        "# Verificar los cambios\n",
        "print(df_final['certificado_energetico'].value_counts())"
      ]
    },
    {
      "cell_type": "code",
      "execution_count": 4810,
      "metadata": {},
      "outputs": [],
      "source": [
        "df_final[\"distrito\"]=df_final[\"distrito\"].str.strip()\n",
        "df_final[\"barrio\"]=df_final[\"barrio\"].str.strip()"
      ]
    },
    {
      "cell_type": "code",
      "execution_count": 4811,
      "metadata": {},
      "outputs": [
        {
          "data": {
            "text/plain": [
              "distrito\n",
              "Centro                 1755\n",
              "Salamanca              1514\n",
              "Chamartín               636\n",
              "Chamberí                605\n",
              "Carabanchel             537\n",
              "Puente De Vallecas      525\n",
              "Tetuán                  464\n",
              "Fuencarral-El Pardo     424\n",
              "Retiro                  410\n",
              "Latina                  406\n",
              "Ciudad Lineal           397\n",
              "Moncloa-Aravaca         376\n",
              "San Blas-Canillejas     351\n",
              "Arganzuela              294\n",
              "Villaverde              291\n",
              "Hortaleza               290\n",
              "Villa De Vallecas       232\n",
              "Usera                   190\n",
              "Vicálvaro               132\n",
              "Moratalaz               103\n",
              "Barajas                 100\n",
              "Name: count, dtype: int64"
            ]
          },
          "execution_count": 4811,
          "metadata": {},
          "output_type": "execute_result"
        }
      ],
      "source": [
        "df_final[\"distrito\"].value_counts(dropna=False)"
      ]
    },
    {
      "cell_type": "code",
      "execution_count": 4812,
      "metadata": {},
      "outputs": [],
      "source": [
        "# Supongamos que tienes un DataFrame llamado df\n",
        "# Establecer el valor en 'tipo_suelo' como 'suelo radiante' si 'instalacion calefaccion' es 'suelo radiante'\n",
        "df_final.loc[df_final['instalacion_calefaccion'] == 'Suelo Radiante', 'tipo_suelo'] = 'Suelo radiante'\n",
        "df_final.loc[df_final['tipo_suelo'] == 'Suelo radiante', 'tipo_suelo'] = 'Suelo Radiante'"
      ]
    },
    {
      "cell_type": "code",
      "execution_count": 4813,
      "metadata": {},
      "outputs": [],
      "source": [
        "df_final=df_final.drop(columns='num_garajes')\n",
        "df_final=df_final.drop(columns='interior_y_exterior')"
      ]
    },
    {
      "cell_type": "code",
      "execution_count": 4814,
      "metadata": {},
      "outputs": [],
      "source": [
        "cols=['amueblado','puerta_seguridad','piscina','jardin','garaje']\n",
        "for c in cols:\n",
        "  df_final[c]=df_final[c].astype(str)"
      ]
    },
    {
      "cell_type": "markdown",
      "metadata": {},
      "source": []
    },
    {
      "cell_type": "code",
      "execution_count": 4815,
      "metadata": {
        "id": "27rjqO3dxX5x"
      },
      "outputs": [],
      "source": [
        "\n",
        "df_final.reset_index(drop=True, inplace=True)\n",
        "\n",
        "\n",
        "dfEDA = df_final\n",
        "# Ruta relativa del archivo\n",
        "ruta_guardado_relativa = '../../02-EDA-y-feature-engineering/data/pisosEDA.csv'\n",
        "\n",
        "# Crear el directorio de destino si no existe\n",
        "directorio_destino = os.path.dirname(ruta_guardado_relativa)\n",
        "os.makedirs(directorio_destino, exist_ok=True)\n",
        "\n",
        "# Guardar el DataFrame dfEDA en la ruta relativa especificada\n",
        "dfEDA.to_csv(ruta_guardado_relativa,sep=\";\", index=False)"
      ]
    }
  ],
  "metadata": {
    "colab": {
      "provenance": []
    },
    "kernelspec": {
      "display_name": "Nuclio",
      "language": "python",
      "name": "python3"
    },
    "language_info": {
      "codemirror_mode": {
        "name": "ipython",
        "version": 3
      },
      "file_extension": ".py",
      "mimetype": "text/x-python",
      "name": "python",
      "nbconvert_exporter": "python",
      "pygments_lexer": "ipython3",
      "version": "3.12.7"
    }
  },
  "nbformat": 4,
  "nbformat_minor": 0
}
