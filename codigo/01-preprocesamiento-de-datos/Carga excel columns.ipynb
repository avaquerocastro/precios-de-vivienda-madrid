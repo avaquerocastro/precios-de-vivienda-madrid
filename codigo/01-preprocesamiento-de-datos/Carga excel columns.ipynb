{
 "cells": [
  {
   "cell_type": "code",
   "execution_count": null,
   "metadata": {},
   "outputs": [],
   "source": [
    "# Load the full dataset from the \"Detalle_Columnas\" sheet for analysis\n",
    "full_data = pd.read_excel(file_path, sheet_name=\"Detalle_Columnas\")\n",
    "\n",
    "# Generate a structured summary for each column in the dataset\n",
    "column_summaries = []\n",
    "\n",
    "for index, row in full_data.iterrows():\n",
    "    column_summary = {\n",
    "        \"Columna\": row.get(\"Columna\", \"Sin nombre\"),\n",
    "        \"Definición\": row.get(\"Definición\", \"No proporcionada\"),\n",
    "        \"Valores Encontrados\": row.get(\"Valores Encontrados\", \"No especificados\"),\n",
    "        \"Tratamiento Sugerido\": row.get(\"Tratamiento\", \"No especificado\"),\n",
    "        \"Nulos\": row.get(\"Valores Nulos\", \"No especificado\"),\n",
    "    }\n",
    "    column_summaries.append(column_summary)\n",
    "\n",
    "# Format the summaries into text for inclusion in the document\n",
    "formatted_summaries = \"\\n\\n\".join([\n",
    "    f\"- **Columna: {col['Columna']}**\\n\"\n",
    "    f\"  - **Definición**: {col['Definición']}\\n\"\n",
    "    f\"  - **Valores Encontrados**: {col['Valores Encontrados']}\\n\"\n",
    "    f\"  - **Tratamiento Sugerido**: {col['Tratamiento Sugerido']}\\n\"\n",
    "    f\"  - **Nulos**: {col['Nulos']}\"\n",
    "    for col in column_summaries\n",
    "])\n",
    "\n",
    "formatted_summaries[:1000]  # Display a preview of the formatted summaries\n"
   ]
  }
 ],
 "metadata": {
  "language_info": {
   "name": "python"
  }
 },
 "nbformat": 4,
 "nbformat_minor": 2
}
