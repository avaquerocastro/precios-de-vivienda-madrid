{
 "cells": [
  {
   "cell_type": "markdown",
   "metadata": {},
   "source": [
    "### **_Importar librerias_**"
   ]
  },
  {
   "cell_type": "code",
   "execution_count": 510,
   "metadata": {},
   "outputs": [],
   "source": [
    "# Principales\n",
    "import pandas as pd\n",
    "import numpy as np\n",
    "\n",
    "# Modificaciones \n",
    "import re\n",
    "from unidecode import unidecode\n",
    "import unicodedata\n",
    "import datetime\n",
    "\n",
    "\n",
    "# visuzalizaciones\n",
    "import missingno as msno\n",
    "import matplotlib as plt \n",
    "import plotly.express as px "
   ]
  },
  {
   "cell_type": "code",
   "execution_count": 511,
   "metadata": {},
   "outputs": [],
   "source": [
    "pd.set_option(\"display.max_columns\",None)"
   ]
  },
  {
   "cell_type": "code",
   "execution_count": 512,
   "metadata": {},
   "outputs": [],
   "source": [
    "def crear_columnas(df,nueva_col,valor_busqueda):\n",
    "   # df[nueva_col]= np.nan\n",
    "    for index, row in df.iterrows():\n",
    "     for col in df.columns[:-1]:\n",
    "        if pd.notna(row[col]):\n",
    "            for valor in valor_busqueda:\n",
    "                if valor in str(row[col]):\n",
    "                    df.at[index, nueva_col] =valor \n",
    "                    #df.at[index, col]= np.nan\n",
    "                    break\n",
    "\n"
   ]
  },
  {
   "cell_type": "code",
   "execution_count": 513,
   "metadata": {},
   "outputs": [],
   "source": [
    "\n",
    "\n",
    "# Función para crear y rellenar la nueva columna en base a un patrón\n",
    "def crear_columnas_conpatron(df, nueva_col, patron,lborrar):\n",
    "  #  df[nueva_col] = np.nan  # Inicializar la nueva columna con valores NaN\n",
    "    for index, row in df.iterrows():\n",
    "        for col in df.columns[:-1]:  # Excluir la nueva columna en la iteración\n",
    "            if pd.notna(row[col]):\n",
    "                valor = str(row[col])\n",
    "                if pd.Series(valor).str.contains(patron, regex=True).any():\n",
    "                    valorasignar = pd.Series(valor).str.replace(\":\", \"\").str.replace(patron, \"\", regex=True).values[0]\n",
    "                    if valorasignar == \"\" or lborrar==False:  # Corregir la condición\n",
    "                        df.at[index, nueva_col] = valor.strip()\n",
    "                    else:\n",
    "                        df.at[index, nueva_col] = valorasignar.strip()\n",
    "                    break  # Salir del bucle interno una vez que se ha encontrado el valor y asignado\n",
    "\n"
   ]
  },
  {
   "cell_type": "code",
   "execution_count": 514,
   "metadata": {},
   "outputs": [],
   "source": [
    "# Definir la función replaceporvacio\n",
    "def replaceporvacio(df, col, palabra_a_sustituir):\n",
    "    df[col] = df[col].replace(palabra_a_sustituir, \"\", regex=True)"
   ]
  },
  {
   "cell_type": "markdown",
   "metadata": {},
   "source": [
    "### **_Lectura de datos_**"
   ]
  },
  {
   "cell_type": "code",
   "execution_count": 515,
   "metadata": {},
   "outputs": [],
   "source": [
    "redpiso_normal= pd.read_excel(\"../01-datos-iniciales/06-RedPiso/Redpiso.xlsx\")\n",
    "redpiso_detalles= pd.read_excel(\"../01-datos-iniciales/06-RedPiso/Detalle_RedPiso.xlsx\")"
   ]
  },
  {
   "cell_type": "code",
   "execution_count": 516,
   "metadata": {},
   "outputs": [],
   "source": [
    "dbcp_ordenado= pd.read_excel('../02-datos-limpios/distr_barrios_codpostal.xlsx')\n",
    "#dbcp_ordenado= pd.read_excel(\"distr_barrios_codpostal.xlsx\")\n",
    "#redpiso_normal= pd.read_excel(\"Redpiso.xlsx\")\n",
    "#redpiso_detalles= pd.read_excel(\"Detalle_RedPiso.xlsx\")"
   ]
  },
  {
   "cell_type": "code",
   "execution_count": 517,
   "metadata": {},
   "outputs": [],
   "source": [
    "# Bien aqui vamos a construir una funcion que recorra todo el dataframe y tome los caracteres especiales \n",
    "# las comas, los puntos, entre otros y los reemplaza con nada o sea basicamente eliminarlos. \n",
    "\n",
    "#def limpiar_texto(x):\n",
    " #   return re.sub(r'[^\\w\\s]','',unidecode(str(x)))\n",
    "\n"
   ]
  },
  {
   "cell_type": "code",
   "execution_count": 518,
   "metadata": {},
   "outputs": [],
   "source": [
    "#def limpiar_valores(valor):\n",
    " #   if type(valor) == str:\n",
    "  #      valor = re.sub(r'[^\\w\\s]','', valor)\n",
    "   #     valor = valor.strip()\n",
    "    #return valor "
   ]
  },
  {
   "cell_type": "code",
   "execution_count": 519,
   "metadata": {},
   "outputs": [],
   "source": [
    "#def normalize_string(s):\n",
    " #  if pd.notna(s):\n",
    "  #      s = unicodedata.normalize('NFD', s)  # Descomponer los caracteres con acento\n",
    "     #   s = ''.join([c for c in s if not unicodedata.combining(c)])  # Eliminar los caracteres de acento\n",
    "      #  s = s.lower()  # Convertir a minúsculas\n",
    "    #return s"
   ]
  },
  {
   "cell_type": "markdown",
   "metadata": {},
   "source": [
    "----------"
   ]
  },
  {
   "cell_type": "code",
   "execution_count": 520,
   "metadata": {},
   "outputs": [],
   "source": [
    "## Aqui empieza el primer tratamiento de redpiso normal"
   ]
  },
  {
   "cell_type": "code",
   "execution_count": 521,
   "metadata": {},
   "outputs": [
    {
     "data": {
      "text/plain": [
       "Index(['Título', 'propertylistoptionsitememblem', 'propertylistoptionsitem',\n",
       "       'dormitorios', 'banos', 'itemlink_URL', 'itemlink', 'officelink_URL',\n",
       "       'officelink'],\n",
       "      dtype='object')"
      ]
     },
     "execution_count": 521,
     "metadata": {},
     "output_type": "execute_result"
    }
   ],
   "source": [
    "redpiso_normal.columns"
   ]
  },
  {
   "cell_type": "code",
   "execution_count": 522,
   "metadata": {},
   "outputs": [
    {
     "data": {
      "text/plain": [
       "itemlink_URL\n",
       "https://www.redpiso.es/inmueble/piso-en-venta-en-calle-pinzon-vista-alegre-carabanchel-madrid-madrid-RP302023121517                                                            2\n",
       "https://www.redpiso.es/inmueble/piso-en-venta-en-calle-benimamet-san-cristobal-villaverde-madrid-madrid-RP2842024125161                                                        1\n",
       "https://www.redpiso.es/inmueble/piso-en-venta-en-pilar-fuencarral-el-pardo-madrid-madrid-RP462023121637                                                                        1\n",
       "https://www.redpiso.es/inmueble/piso-en-venta-en-calle-alcala-de-guadaira-portazgo-puente-de-vallecas-madrid-madrid-RP082023121205                                             1\n",
       "https://www.redpiso.es/inmueble/piso-en-venta-en-calle-sierra-de-cuerda-larga-nueva-numancia-puente-de-vallecas-madrid-madrid-RP022022105196                                   1\n",
       "                                                                                                                                                                              ..\n",
       "https://www.redpiso.es/inmueble/piso-en-venta-en-avenida-ensanche-de-vallecas-ensanche-de-vallecas-villa-de-vallecas-ensanche-y-santa-eugenia-madrid-madrid-RP2062024131501    1\n",
       "https://www.redpiso.es/inmueble/estudio-en-venta-en-prosperidad-chamartin-madrid-madrid-RP1892024128590                                                                        1\n",
       "https://www.redpiso.es/inmueble/piso-en-venta-en-los-rosales-villaverde-madrid-madrid-RP182024130223                                                                           1\n",
       "https://www.redpiso.es/inmueble/piso-en-venta-en-los-rosales-villaverde-madrid-madrid-RP182024130127                                                                           1\n",
       "https://www.redpiso.es/inmueble/piso-en-venta-en-usera-madrid-madrid-RP782024126316                                                                                            1\n",
       "Name: count, Length: 2107, dtype: int64"
      ]
     },
     "execution_count": 522,
     "metadata": {},
     "output_type": "execute_result"
    }
   ],
   "source": [
    "redpiso_normal[\"itemlink_URL\"].value_counts(dropna=False)"
   ]
  },
  {
   "cell_type": "code",
   "execution_count": 523,
   "metadata": {},
   "outputs": [],
   "source": [
    "# Extraer la última palabra después del guion \n",
    "\n",
    "redpiso_normal[\"referencia\"] = redpiso_normal['itemlink_URL'].apply(lambda x: re.findall(r'[^-]+$', x)[0])"
   ]
  },
  {
   "cell_type": "code",
   "execution_count": 524,
   "metadata": {},
   "outputs": [],
   "source": [
    "# Conversion de letras a minusculas en las columnas\n",
    "redpiso_normal.columns= redpiso_normal.columns.str.lower()"
   ]
  },
  {
   "cell_type": "code",
   "execution_count": 525,
   "metadata": {},
   "outputs": [],
   "source": [
    "# Columnas que seran eliminadas ya previamente analizadas.\n",
    "#columnas_a_eliminar = [\"item\",\"item1\",\"imagen4\",\"propertylistoptionsitem3\",\"número5\"]\n",
    "#eliminadas en fichero\n",
    "#redpiso_normal= redpiso_normal.drop(columns=columnas_a_eliminar)"
   ]
  },
  {
   "cell_type": "code",
   "execution_count": 526,
   "metadata": {},
   "outputs": [
    {
     "data": {
      "text/html": [
       "<div>\n",
       "<style scoped>\n",
       "    .dataframe tbody tr th:only-of-type {\n",
       "        vertical-align: middle;\n",
       "    }\n",
       "\n",
       "    .dataframe tbody tr th {\n",
       "        vertical-align: top;\n",
       "    }\n",
       "\n",
       "    .dataframe thead th {\n",
       "        text-align: right;\n",
       "    }\n",
       "</style>\n",
       "<table border=\"1\" class=\"dataframe\">\n",
       "  <thead>\n",
       "    <tr style=\"text-align: right;\">\n",
       "      <th></th>\n",
       "      <th>título</th>\n",
       "      <th>propertylistoptionsitememblem</th>\n",
       "      <th>propertylistoptionsitem</th>\n",
       "      <th>dormitorios</th>\n",
       "      <th>banos</th>\n",
       "      <th>itemlink_url</th>\n",
       "      <th>itemlink</th>\n",
       "      <th>officelink_url</th>\n",
       "      <th>officelink</th>\n",
       "      <th>referencia</th>\n",
       "    </tr>\n",
       "  </thead>\n",
       "  <tbody>\n",
       "    <tr>\n",
       "      <th>0</th>\n",
       "      <td>106.500 €</td>\n",
       "      <td>RESERVADO</td>\n",
       "      <td>64 m²</td>\n",
       "      <td>2 hab.</td>\n",
       "      <td>1.0</td>\n",
       "      <td>https://www.redpiso.es/inmueble/piso-en-venta-...</td>\n",
       "      <td>Piso en venta en CALLE BENIMAMET, San Cristóba...</td>\n",
       "      <td>https://www.redpiso.es/oficina/inmobiliaria-sa...</td>\n",
       "      <td>REDPISO SAN CRISTOBAL</td>\n",
       "      <td>RP2842024125161</td>\n",
       "    </tr>\n",
       "    <tr>\n",
       "      <th>1</th>\n",
       "      <td>119.000 €</td>\n",
       "      <td>NaN</td>\n",
       "      <td>30 m²</td>\n",
       "      <td>1 hab.</td>\n",
       "      <td>1.0</td>\n",
       "      <td>https://www.redpiso.es/inmueble/piso-en-venta-...</td>\n",
       "      <td>Piso en venta en Usera, Madrid, Madrid</td>\n",
       "      <td>https://www.redpiso.es/oficina/inmobiliaria-us...</td>\n",
       "      <td>REDPISO USERA-ORCASITAS</td>\n",
       "      <td>RP782024130863</td>\n",
       "    </tr>\n",
       "    <tr>\n",
       "      <th>2</th>\n",
       "      <td>120.000 €</td>\n",
       "      <td>RESERVADO</td>\n",
       "      <td>37 m²</td>\n",
       "      <td>1 hab.</td>\n",
       "      <td>1.0</td>\n",
       "      <td>https://www.redpiso.es/inmueble/piso-en-venta-...</td>\n",
       "      <td>Piso en venta en Buenavista, Carabanchel, Madr...</td>\n",
       "      <td>https://www.redpiso.es/oficina/inmobiliaria-pa...</td>\n",
       "      <td>REDPISO PAU CARABANCHEL</td>\n",
       "      <td>RP442024126007</td>\n",
       "    </tr>\n",
       "    <tr>\n",
       "      <th>3</th>\n",
       "      <td>120.000 €</td>\n",
       "      <td>RESERVADO</td>\n",
       "      <td>33 m²</td>\n",
       "      <td>1 hab.</td>\n",
       "      <td>1.0</td>\n",
       "      <td>https://www.redpiso.es/inmueble/piso-en-venta-...</td>\n",
       "      <td>Piso en venta en Buenavista, Carabanchel, Madr...</td>\n",
       "      <td>https://www.redpiso.es/oficina/inmobiliaria-pa...</td>\n",
       "      <td>REDPISO PAU CARABANCHEL</td>\n",
       "      <td>RP442024126427</td>\n",
       "    </tr>\n",
       "    <tr>\n",
       "      <th>4</th>\n",
       "      <td>127.500 €</td>\n",
       "      <td>RESERVADO</td>\n",
       "      <td>58 m²</td>\n",
       "      <td>3 hab.</td>\n",
       "      <td>1.0</td>\n",
       "      <td>https://www.redpiso.es/inmueble/piso-en-venta-...</td>\n",
       "      <td>Piso en venta en CALLE BENIFERRI, San Cristóba...</td>\n",
       "      <td>https://www.redpiso.es/oficina/inmobiliaria-sa...</td>\n",
       "      <td>REDPISO SAN CRISTOBAL</td>\n",
       "      <td>RP2842024130186</td>\n",
       "    </tr>\n",
       "  </tbody>\n",
       "</table>\n",
       "</div>"
      ],
      "text/plain": [
       "      título propertylistoptionsitememblem propertylistoptionsitem  \\\n",
       "0  106.500 €                     RESERVADO                   64 m²   \n",
       "1  119.000 €                           NaN                   30 m²   \n",
       "2  120.000 €                     RESERVADO                   37 m²   \n",
       "3  120.000 €                     RESERVADO                   33 m²   \n",
       "4  127.500 €                     RESERVADO                   58 m²   \n",
       "\n",
       "  dormitorios  banos                                       itemlink_url  \\\n",
       "0      2 hab.    1.0  https://www.redpiso.es/inmueble/piso-en-venta-...   \n",
       "1      1 hab.    1.0  https://www.redpiso.es/inmueble/piso-en-venta-...   \n",
       "2      1 hab.    1.0  https://www.redpiso.es/inmueble/piso-en-venta-...   \n",
       "3      1 hab.    1.0  https://www.redpiso.es/inmueble/piso-en-venta-...   \n",
       "4      3 hab.    1.0  https://www.redpiso.es/inmueble/piso-en-venta-...   \n",
       "\n",
       "                                            itemlink  \\\n",
       "0  Piso en venta en CALLE BENIMAMET, San Cristóba...   \n",
       "1             Piso en venta en Usera, Madrid, Madrid   \n",
       "2  Piso en venta en Buenavista, Carabanchel, Madr...   \n",
       "3  Piso en venta en Buenavista, Carabanchel, Madr...   \n",
       "4  Piso en venta en CALLE BENIFERRI, San Cristóba...   \n",
       "\n",
       "                                      officelink_url               officelink  \\\n",
       "0  https://www.redpiso.es/oficina/inmobiliaria-sa...    REDPISO SAN CRISTOBAL   \n",
       "1  https://www.redpiso.es/oficina/inmobiliaria-us...  REDPISO USERA-ORCASITAS   \n",
       "2  https://www.redpiso.es/oficina/inmobiliaria-pa...  REDPISO PAU CARABANCHEL   \n",
       "3  https://www.redpiso.es/oficina/inmobiliaria-pa...  REDPISO PAU CARABANCHEL   \n",
       "4  https://www.redpiso.es/oficina/inmobiliaria-sa...    REDPISO SAN CRISTOBAL   \n",
       "\n",
       "        referencia  \n",
       "0  RP2842024125161  \n",
       "1   RP782024130863  \n",
       "2   RP442024126007  \n",
       "3   RP442024126427  \n",
       "4  RP2842024130186  "
      ]
     },
     "execution_count": 526,
     "metadata": {},
     "output_type": "execute_result"
    }
   ],
   "source": [
    "redpiso_normal.head(5)"
   ]
  },
  {
   "cell_type": "code",
   "execution_count": 527,
   "metadata": {},
   "outputs": [
    {
     "data": {
      "text/plain": [
       "Index(['título', 'propertylistoptionsitememblem', 'propertylistoptionsitem',\n",
       "       'dormitorios', 'banos', 'itemlink_url', 'itemlink', 'officelink_url',\n",
       "       'officelink', 'referencia'],\n",
       "      dtype='object')"
      ]
     },
     "execution_count": 527,
     "metadata": {},
     "output_type": "execute_result"
    }
   ],
   "source": [
    "redpiso_normal.columns"
   ]
  },
  {
   "cell_type": "code",
   "execution_count": 528,
   "metadata": {},
   "outputs": [],
   "source": [
    "# Renombramiento de la columna.\n",
    "redpiso_normal = redpiso_normal.rename(columns={\"título\": \"precio\"})\n",
    "#redpiso_normal = redpiso_normal.rename(columns={\"imagen\": \"url_imagen\"})\n",
    "redpiso_normal = redpiso_normal.rename(columns={\"propertylistoptionsitememblem\": \"reservado\"})\n",
    "redpiso_normal = redpiso_normal.rename(columns={\"propertylistoptionsitem\": \"m2_constr\"})\n",
    "redpiso_normal = redpiso_normal.rename(columns={\"propertylistoptionsitem2\": \"dormitorios\"})\n",
    "redpiso_normal = redpiso_normal.rename(columns={\"itemlink_url\": \"url\"})\n",
    "redpiso_normal = redpiso_normal.rename(columns={\"itemlink\": \"title\"})\n",
    "#redpiso_normal = redpiso_normal.rename(columns={\"número\": \"contacto\"})\n",
    "redpiso_normal = redpiso_normal.rename(columns={\"officelink\": \"nombre_oficina\"})"
   ]
  },
  {
   "cell_type": "code",
   "execution_count": 529,
   "metadata": {},
   "outputs": [
    {
     "data": {
      "text/plain": [
       "precio\n",
       "A consultar    640\n",
       "280.000 €       21\n",
       "185.000 €       20\n",
       "230.000 €       19\n",
       "180.000 €       18\n",
       "              ... \n",
       "182.500 €        1\n",
       "187.050 €        1\n",
       "1.849.000 €      1\n",
       "1.380.000 €      1\n",
       "1.990.000 €      1\n",
       "Name: count, Length: 482, dtype: int64"
      ]
     },
     "execution_count": 529,
     "metadata": {},
     "output_type": "execute_result"
    }
   ],
   "source": [
    "redpiso_normal[\"precio\"].value_counts(dropna=False)"
   ]
  },
  {
   "cell_type": "code",
   "execution_count": 530,
   "metadata": {},
   "outputs": [],
   "source": [
    "# Eliminar las filas donde el precio es \"A consultar\"\n",
    "redpiso_normal = redpiso_normal[redpiso_normal['precio'] != 'A consultar']"
   ]
  },
  {
   "cell_type": "code",
   "execution_count": 531,
   "metadata": {},
   "outputs": [],
   "source": [
    "#for col in redpiso_normal.columns: \n",
    " #   if col != 'url': \n",
    "  #      redpiso_normal[col] = redpiso_normal[col].apply(limpiar_valores) \n",
    "     "
   ]
  },
  {
   "cell_type": "code",
   "execution_count": 532,
   "metadata": {},
   "outputs": [],
   "source": [
    "# Rellena los valores nulos a sin_reserva\n",
    "#redpiso_normal[\"reservado/sin_reserva\"]= redpiso_normal[\"reservado/sin_reserva\"].fillna(\"sin_reserva\")"
   ]
  },
  {
   "cell_type": "code",
   "execution_count": 533,
   "metadata": {},
   "outputs": [],
   "source": [
    "# Expresion regular que recorre la columna extrae los numeros de la cada valor y elimina lo demas.aplicada a la columna que se muestra.\n",
    "\n",
    "redpiso_normal[\"dormitorios\"] = redpiso_normal[\"dormitorios\"].str.extract(r'(\\d+)')\n",
    "\n",
    "redpiso_normal[\"m2_constr\"] = redpiso_normal[\"m2_constr\"].str.extract(r'(\\d+)')\n",
    "# Asignar 1 a \"Reservado\", 0 a \"Sin Reserva\" y dejar el resto como están\n",
    "redpiso_normal[\"reservado\"] = redpiso_normal[\"reservado\"].apply(lambda x: 1 if str(x).strip().upper() == \"RESERVADO\" else 0)"
   ]
  },
  {
   "cell_type": "code",
   "execution_count": 534,
   "metadata": {},
   "outputs": [
    {
     "data": {
      "text/plain": [
       "precio             0\n",
       "reservado          0\n",
       "m2_constr          3\n",
       "dormitorios        2\n",
       "banos             34\n",
       "url                0\n",
       "title              0\n",
       "officelink_url     0\n",
       "nombre_oficina     0\n",
       "referencia         0\n",
       "dtype: int64"
      ]
     },
     "execution_count": 534,
     "metadata": {},
     "output_type": "execute_result"
    }
   ],
   "source": [
    "redpiso_normal.isna().sum()"
   ]
  },
  {
   "cell_type": "code",
   "execution_count": 622,
   "metadata": {},
   "outputs": [],
   "source": [
    "redpiso_normal [\"precio\"]= redpiso_normal[\"precio\"].str.replace('€',\"\")"
   ]
  },
  {
   "cell_type": "code",
   "execution_count": 627,
   "metadata": {},
   "outputs": [],
   "source": [
    "col_tiponuevo= [\"precio\",\"m2_constr\",\"dormitorios\",\"banos\"]\n",
    "\n",
    "redpiso_normal = redpiso_normal.replace(\"nan\",0)\n",
    "redpiso_normal[col_tiponuevo]=redpiso_normal[col_tiponuevo].fillna(0)\n",
    "\n",
    "# Eliminar los separadores de miles solo para los valores mayores a 1.000.000\n",
    "redpiso_normal['precio'] = redpiso_normal['precio'].apply(lambda x: x.replace('.', '') if float(x.replace('.', '')) >= 1000000 else x)\n",
    "redpiso_normal[col_tiponuevo] = redpiso_normal[col_tiponuevo].astype(\"float\")\n",
    "\n",
    "redpiso_normal[col_tiponuevo]=redpiso_normal[col_tiponuevo].replace(0,np.nan)"
   ]
  },
  {
   "cell_type": "code",
   "execution_count": null,
   "metadata": {},
   "outputs": [],
   "source": [
    "redpiso_normal[\"web\"]=\"redpiso\"\n",
    "redpiso_normal[\"fecha_descarga\"]=\"28/10/2024\""
   ]
  },
  {
   "cell_type": "code",
   "execution_count": 535,
   "metadata": {},
   "outputs": [
    {
     "data": {
      "text/plain": [
       "(1468, 10)"
      ]
     },
     "execution_count": 535,
     "metadata": {},
     "output_type": "execute_result"
    }
   ],
   "source": [
    "redpiso_normal.shape"
   ]
  },
  {
   "cell_type": "markdown",
   "metadata": {},
   "source": [
    "### **_Aqui se termina el tratamiento de redpiso_normal,ahora sigue el procesmiento de redpiso_detalles_**"
   ]
  },
  {
   "cell_type": "code",
   "execution_count": 536,
   "metadata": {},
   "outputs": [
    {
     "data": {
      "text/html": [
       "<div>\n",
       "<style scoped>\n",
       "    .dataframe tbody tr th:only-of-type {\n",
       "        vertical-align: middle;\n",
       "    }\n",
       "\n",
       "    .dataframe tbody tr th {\n",
       "        vertical-align: top;\n",
       "    }\n",
       "\n",
       "    .dataframe thead th {\n",
       "        text-align: right;\n",
       "    }\n",
       "</style>\n",
       "<table border=\"1\" class=\"dataframe\">\n",
       "  <thead>\n",
       "    <tr style=\"text-align: right;\">\n",
       "      <th></th>\n",
       "      <th>Título</th>\n",
       "      <th>Campo1</th>\n",
       "      <th>Campo2</th>\n",
       "      <th>Campo3</th>\n",
       "      <th>Campo4</th>\n",
       "      <th>Campo5</th>\n",
       "      <th>Campo6</th>\n",
       "      <th>Tiempo</th>\n",
       "      <th>Tiempo1</th>\n",
       "      <th>Campo7</th>\n",
       "      <th>Campo8</th>\n",
       "      <th>Campo9</th>\n",
       "      <th>Campo10</th>\n",
       "      <th>Campo11</th>\n",
       "      <th>Campo12</th>\n",
       "      <th>Campo13</th>\n",
       "      <th>Tiempo2</th>\n",
       "      <th>Campo14</th>\n",
       "      <th>Campo15</th>\n",
       "      <th>Tiempo3</th>\n",
       "      <th>Campo16</th>\n",
       "      <th>Campo17</th>\n",
       "      <th>Campo18</th>\n",
       "      <th>Tiempo4</th>\n",
       "      <th>Campo19</th>\n",
       "    </tr>\n",
       "  </thead>\n",
       "  <tbody>\n",
       "    <tr>\n",
       "      <th>0</th>\n",
       "      <td>Piso en venta en CALLE BENIMAMET, San Cristóba...</td>\n",
       "      <td>106.500 €</td>\n",
       "      <td>Piso en venta en CALLE BENIMAMET, San Cristóba...</td>\n",
       "      <td>ESTUPENDA VIVIENDA EN CALLE BENIMAMET</td>\n",
       "      <td>RP2842024125161</td>\n",
       "      <td>Piso en venta en CALLE BENIMAMET, San Cristóba...</td>\n",
       "      <td>REF: RP2842024125161</td>\n",
       "      <td>Nº Visitas 5857</td>\n",
       "      <td>02/04/2024</td>\n",
       "      <td>64 m²</td>\n",
       "      <td>2.0</td>\n",
       "      <td>1.0</td>\n",
       "      <td>ESTUPENDA VIVIENDA EN CALLE BENIMAMET</td>\n",
       "      <td>Redpiso San Cristobal de los Ángeles, inscrito...</td>\n",
       "      <td>Metros: 64 m²</td>\n",
       "      <td>Metros útiles: 60 m²</td>\n",
       "      <td>Dormitorios: 2</td>\n",
       "      <td>Exterior</td>\n",
       "      <td>Estado: Perfecto Estado</td>\n",
       "      <td>Baños: 1</td>\n",
       "      <td>Aire acondicionado</td>\n",
       "      <td>Agua caliente: Individual</td>\n",
       "      <td>Tipo de suelo: Tarima normal</td>\n",
       "      <td>Año de construcción: 1962</td>\n",
       "      <td>Antigüedad: Más de 50 años</td>\n",
       "    </tr>\n",
       "    <tr>\n",
       "      <th>1</th>\n",
       "      <td>Piso en venta en Usera, Madrid, Madrid</td>\n",
       "      <td>119.000 €</td>\n",
       "      <td>Piso en venta en Usera, Madrid, Madrid\\n      ...</td>\n",
       "      <td>ESTUDIO JARDINES DE YBARRA II</td>\n",
       "      <td>RP782024130863</td>\n",
       "      <td>Piso en venta en Usera, Madrid, Madrid</td>\n",
       "      <td>REF: RP782024130863</td>\n",
       "      <td>Nº Visitas 714</td>\n",
       "      <td>02/10/2024</td>\n",
       "      <td>30 m²</td>\n",
       "      <td>1.0</td>\n",
       "      <td>1.0</td>\n",
       "      <td>ESTUDIO JARDINES DE YBARRA II</td>\n",
       "      <td>Redpiso vende en exclusiva ACOGEDOR ESTUDIO en...</td>\n",
       "      <td>Metros: 30 m²</td>\n",
       "      <td>Metros útiles: 27 m²</td>\n",
       "      <td>Dormitorios: 1</td>\n",
       "      <td>Cal. energética:</td>\n",
       "      <td>Armarios: 1</td>\n",
       "      <td>Baños: 1</td>\n",
       "      <td>Estado: Perfecto Estado</td>\n",
       "      <td>Orientación: Sur</td>\n",
       "      <td>Exterior</td>\n",
       "      <td>Agua caliente: Individual</td>\n",
       "      <td>Cocina equipada</td>\n",
       "    </tr>\n",
       "    <tr>\n",
       "      <th>2</th>\n",
       "      <td>Piso en venta en Buenavista, Carabanchel, Madr...</td>\n",
       "      <td>120.000 €</td>\n",
       "      <td>Piso en venta en Buenavista, Carabanchel, Madr...</td>\n",
       "      <td>¡Tu nuevo hogar te espera en Buena Vista!</td>\n",
       "      <td>RP442024126007</td>\n",
       "      <td>Piso en venta en Buenavista, Carabanchel, Madr...</td>\n",
       "      <td>REF: RP442024126007</td>\n",
       "      <td>Nº Visitas 3387</td>\n",
       "      <td>26/04/2024</td>\n",
       "      <td>37 m²</td>\n",
       "      <td>1.0</td>\n",
       "      <td>1.0</td>\n",
       "      <td>¡Tu nuevo hogar te espera en Buena Vista!</td>\n",
       "      <td>Redpiso vende en exclusiva este encantador est...</td>\n",
       "      <td>Metros: 37 m²</td>\n",
       "      <td>Metros útiles: 34 m²</td>\n",
       "      <td>Dormitorios: 1</td>\n",
       "      <td>Cal. energética:</td>\n",
       "      <td>Armarios: 1</td>\n",
       "      <td>Baños: 1</td>\n",
       "      <td>Consumo: 111 KW h/m² año</td>\n",
       "      <td>Emisiones: 18 Kg CO2/m² año</td>\n",
       "      <td>Estado: Perfecto Estado</td>\n",
       "      <td>Exterior</td>\n",
       "      <td>Orientación: Sur</td>\n",
       "    </tr>\n",
       "  </tbody>\n",
       "</table>\n",
       "</div>"
      ],
      "text/plain": [
       "                                              Título     Campo1  \\\n",
       "0  Piso en venta en CALLE BENIMAMET, San Cristóba...  106.500 €   \n",
       "1             Piso en venta en Usera, Madrid, Madrid  119.000 €   \n",
       "2  Piso en venta en Buenavista, Carabanchel, Madr...  120.000 €   \n",
       "\n",
       "                                              Campo2  \\\n",
       "0  Piso en venta en CALLE BENIMAMET, San Cristóba...   \n",
       "1  Piso en venta en Usera, Madrid, Madrid\\n      ...   \n",
       "2  Piso en venta en Buenavista, Carabanchel, Madr...   \n",
       "\n",
       "                                      Campo3           Campo4  \\\n",
       "0      ESTUPENDA VIVIENDA EN CALLE BENIMAMET  RP2842024125161   \n",
       "1              ESTUDIO JARDINES DE YBARRA II   RP782024130863   \n",
       "2  ¡Tu nuevo hogar te espera en Buena Vista!   RP442024126007   \n",
       "\n",
       "                                              Campo5                Campo6  \\\n",
       "0  Piso en venta en CALLE BENIMAMET, San Cristóba...  REF: RP2842024125161   \n",
       "1             Piso en venta en Usera, Madrid, Madrid   REF: RP782024130863   \n",
       "2  Piso en venta en Buenavista, Carabanchel, Madr...   REF: RP442024126007   \n",
       "\n",
       "            Tiempo     Tiempo1 Campo7  Campo8  Campo9  \\\n",
       "0  Nº Visitas 5857  02/04/2024  64 m²     2.0     1.0   \n",
       "1   Nº Visitas 714  02/10/2024  30 m²     1.0     1.0   \n",
       "2  Nº Visitas 3387  26/04/2024  37 m²     1.0     1.0   \n",
       "\n",
       "                                     Campo10  \\\n",
       "0      ESTUPENDA VIVIENDA EN CALLE BENIMAMET   \n",
       "1              ESTUDIO JARDINES DE YBARRA II   \n",
       "2  ¡Tu nuevo hogar te espera en Buena Vista!   \n",
       "\n",
       "                                             Campo11        Campo12  \\\n",
       "0  Redpiso San Cristobal de los Ángeles, inscrito...  Metros: 64 m²   \n",
       "1  Redpiso vende en exclusiva ACOGEDOR ESTUDIO en...  Metros: 30 m²   \n",
       "2  Redpiso vende en exclusiva este encantador est...  Metros: 37 m²   \n",
       "\n",
       "                Campo13         Tiempo2           Campo14  \\\n",
       "0  Metros útiles: 60 m²  Dormitorios: 2          Exterior   \n",
       "1  Metros útiles: 27 m²  Dormitorios: 1  Cal. energética:   \n",
       "2  Metros útiles: 34 m²  Dormitorios: 1  Cal. energética:   \n",
       "\n",
       "                   Campo15   Tiempo3                   Campo16  \\\n",
       "0  Estado: Perfecto Estado  Baños: 1        Aire acondicionado   \n",
       "1              Armarios: 1  Baños: 1   Estado: Perfecto Estado   \n",
       "2              Armarios: 1  Baños: 1  Consumo: 111 KW h/m² año   \n",
       "\n",
       "                       Campo17                       Campo18  \\\n",
       "0    Agua caliente: Individual  Tipo de suelo: Tarima normal   \n",
       "1             Orientación: Sur                      Exterior   \n",
       "2  Emisiones: 18 Kg CO2/m² año       Estado: Perfecto Estado   \n",
       "\n",
       "                     Tiempo4                     Campo19  \n",
       "0  Año de construcción: 1962  Antigüedad: Más de 50 años  \n",
       "1  Agua caliente: Individual             Cocina equipada  \n",
       "2                   Exterior            Orientación: Sur  "
      ]
     },
     "execution_count": 536,
     "metadata": {},
     "output_type": "execute_result"
    }
   ],
   "source": [
    "redpiso_detalles.head(3)"
   ]
  },
  {
   "cell_type": "code",
   "execution_count": null,
   "metadata": {},
   "outputs": [],
   "source": []
  },
  {
   "cell_type": "code",
   "execution_count": 537,
   "metadata": {},
   "outputs": [],
   "source": [
    "# eliminacion de columnas\n",
    "#redpiso_detalles= redpiso_detalles.drop(\"descripcion\", axis=1)\n",
    "\n",
    "\n",
    "redpiso_detalles = redpiso_detalles.drop(\"Campo5\", axis=1)\n",
    "#redpiso_detalles = redpiso_detalles.drop(\"Campo9\",axis=1)\n",
    "#redpiso_detalles = redpiso_detalles.drop(\"Campo10\",axis=1)\n",
    "#redpiso_detalles = redpiso_detalles.drop (\"Campo11\", axis=1)\n",
    "#redpiso_detalles = redpiso_detalles.drop(\"Campo12\",axis=1)\n",
    "redpiso_detalles = redpiso_detalles.drop(\"Campo8\", axis= 1)\n",
    "redpiso_detalles = redpiso_detalles.drop(\"Campo3\", axis= 1)\n",
    "redpiso_detalles = redpiso_detalles.drop(\"Campo6\", axis= 1)"
   ]
  },
  {
   "cell_type": "code",
   "execution_count": 538,
   "metadata": {},
   "outputs": [],
   "source": [
    "# renombramiento de columnas \n",
    "redpiso_detalles = redpiso_detalles.rename( columns={\"Campo1\": \"precio\"})\n",
    "redpiso_detalles = redpiso_detalles.rename(columns={\"Campo2\":\"descripcion\"})\n",
    "redpiso_detalles = redpiso_detalles.rename(columns={\"Tiempo\":\"cantidad_visitas\"})\n",
    "redpiso_detalles = redpiso_detalles.rename(columns={\"Tiempo1\":\"fecha_publicacion\"})\n",
    "redpiso_detalles = redpiso_detalles.rename(columns={\"Campo7\":\"m2_constr\"})\n",
    "redpiso_detalles = redpiso_detalles.rename(columns={\"Tiempo1\":\"fecha_publicacion\"})\n",
    "redpiso_detalles = redpiso_detalles.rename(columns={\"Campo4\": \"referencia\"})\n",
    "redpiso_detalles = redpiso_detalles.rename( columns={\"Título\": \"title\"})\n",
    "#redpiso_detalles= redpiso_detalles.rename(columns={\"campo12\":\"m2_constr\"})\n",
    "#redpiso_detalles= redpiso_detalles.rename(columns={\"campo13\":\"m2_utiles\"})\n",
    "#redpiso_detalles = redpiso_detalles.rename(columns={\"tiempo2\": \"dormitorios\"})\n",
    "#redpiso_detalles = redpiso_detalles.rename(columns={\"Campo9\": \"banos\"})\n",
    "#redpiso_detalles = redpiso_detalles.rename(columns={\"campo15\": \"cant_armarios\"})\n",
    "#redpiso_detalles= redpiso_detalles.rename(columns={\"campo14\":\"calidad_energetica\"})\n",
    "redpiso_detalles= redpiso_detalles.rename(columns={\"campo10\":\"titularanuncio\"})\n",
    "redpiso_detalles= redpiso_detalles.rename(columns={\"campo11\":\"descripcion_detallada\"})\n",
    "#redpiso_detalles= redpiso_detalles.rename(columns={\"campo4\":\"referencia\"})"
   ]
  },
  {
   "cell_type": "code",
   "execution_count": 591,
   "metadata": {},
   "outputs": [],
   "source": [
    "# Eliminar las filas donde el precio es \"A consultar\"\n",
    "redpiso_detalles = redpiso_detalles[redpiso_detalles['precio'] != 'A consultar']\n",
    "redpiso_detalles [\"precio\"]= redpiso_detalles[\"precio\"].str.replace('€',\"\")"
   ]
  },
  {
   "cell_type": "code",
   "execution_count": 540,
   "metadata": {},
   "outputs": [],
   "source": [
    "# Columnas a minusculas\n",
    "redpiso_detalles.columns = redpiso_detalles.columns.str.lower()"
   ]
  },
  {
   "cell_type": "code",
   "execution_count": 541,
   "metadata": {},
   "outputs": [
    {
     "data": {
      "text/plain": [
       "title                  0\n",
       "precio                 0\n",
       "descripcion            0\n",
       "referencia             0\n",
       "cantidad_visitas       0\n",
       "fecha_publicacion      0\n",
       "m2_constr              2\n",
       "campo9                25\n",
       "campo10              498\n",
       "campo11               11\n",
       "campo12                0\n",
       "campo13                2\n",
       "tiempo2                4\n",
       "campo14                5\n",
       "campo15                0\n",
       "tiempo3                0\n",
       "campo16                9\n",
       "campo17               28\n",
       "campo18               48\n",
       "tiempo4              111\n",
       "campo19               77\n",
       "dtype: int64"
      ]
     },
     "execution_count": 541,
     "metadata": {},
     "output_type": "execute_result"
    }
   ],
   "source": [
    "redpiso_detalles.isna().sum()"
   ]
  },
  {
   "cell_type": "code",
   "execution_count": 542,
   "metadata": {},
   "outputs": [
    {
     "data": {
      "text/html": [
       "<div>\n",
       "<style scoped>\n",
       "    .dataframe tbody tr th:only-of-type {\n",
       "        vertical-align: middle;\n",
       "    }\n",
       "\n",
       "    .dataframe tbody tr th {\n",
       "        vertical-align: top;\n",
       "    }\n",
       "\n",
       "    .dataframe thead th {\n",
       "        text-align: right;\n",
       "    }\n",
       "</style>\n",
       "<table border=\"1\" class=\"dataframe\">\n",
       "  <thead>\n",
       "    <tr style=\"text-align: right;\">\n",
       "      <th></th>\n",
       "      <th>title</th>\n",
       "      <th>precio</th>\n",
       "      <th>descripcion</th>\n",
       "      <th>referencia</th>\n",
       "      <th>cantidad_visitas</th>\n",
       "      <th>fecha_publicacion</th>\n",
       "      <th>m2_constr</th>\n",
       "      <th>campo9</th>\n",
       "      <th>campo10</th>\n",
       "      <th>campo11</th>\n",
       "      <th>campo12</th>\n",
       "      <th>campo13</th>\n",
       "      <th>tiempo2</th>\n",
       "      <th>campo14</th>\n",
       "      <th>campo15</th>\n",
       "      <th>tiempo3</th>\n",
       "      <th>campo16</th>\n",
       "      <th>campo17</th>\n",
       "      <th>campo18</th>\n",
       "      <th>tiempo4</th>\n",
       "      <th>campo19</th>\n",
       "    </tr>\n",
       "  </thead>\n",
       "  <tbody>\n",
       "    <tr>\n",
       "      <th>0</th>\n",
       "      <td>Piso en venta en CALLE BENIMAMET, San Cristóba...</td>\n",
       "      <td>106.500 €</td>\n",
       "      <td>Piso en venta en CALLE BENIMAMET, San Cristóba...</td>\n",
       "      <td>RP2842024125161</td>\n",
       "      <td>Nº Visitas 5857</td>\n",
       "      <td>02/04/2024</td>\n",
       "      <td>64 m²</td>\n",
       "      <td>1.0</td>\n",
       "      <td>ESTUPENDA VIVIENDA EN CALLE BENIMAMET</td>\n",
       "      <td>Redpiso San Cristobal de los Ángeles, inscrito...</td>\n",
       "      <td>Metros: 64 m²</td>\n",
       "      <td>Metros útiles: 60 m²</td>\n",
       "      <td>Dormitorios: 2</td>\n",
       "      <td>Exterior</td>\n",
       "      <td>Estado: Perfecto Estado</td>\n",
       "      <td>Baños: 1</td>\n",
       "      <td>Aire acondicionado</td>\n",
       "      <td>Agua caliente: Individual</td>\n",
       "      <td>Tipo de suelo: Tarima normal</td>\n",
       "      <td>Año de construcción: 1962</td>\n",
       "      <td>Antigüedad: Más de 50 años</td>\n",
       "    </tr>\n",
       "    <tr>\n",
       "      <th>1</th>\n",
       "      <td>Piso en venta en Usera, Madrid, Madrid</td>\n",
       "      <td>119.000 €</td>\n",
       "      <td>Piso en venta en Usera, Madrid, Madrid\\n      ...</td>\n",
       "      <td>RP782024130863</td>\n",
       "      <td>Nº Visitas 714</td>\n",
       "      <td>02/10/2024</td>\n",
       "      <td>30 m²</td>\n",
       "      <td>1.0</td>\n",
       "      <td>ESTUDIO JARDINES DE YBARRA II</td>\n",
       "      <td>Redpiso vende en exclusiva ACOGEDOR ESTUDIO en...</td>\n",
       "      <td>Metros: 30 m²</td>\n",
       "      <td>Metros útiles: 27 m²</td>\n",
       "      <td>Dormitorios: 1</td>\n",
       "      <td>Cal. energética:</td>\n",
       "      <td>Armarios: 1</td>\n",
       "      <td>Baños: 1</td>\n",
       "      <td>Estado: Perfecto Estado</td>\n",
       "      <td>Orientación: Sur</td>\n",
       "      <td>Exterior</td>\n",
       "      <td>Agua caliente: Individual</td>\n",
       "      <td>Cocina equipada</td>\n",
       "    </tr>\n",
       "    <tr>\n",
       "      <th>2</th>\n",
       "      <td>Piso en venta en Buenavista, Carabanchel, Madr...</td>\n",
       "      <td>120.000 €</td>\n",
       "      <td>Piso en venta en Buenavista, Carabanchel, Madr...</td>\n",
       "      <td>RP442024126007</td>\n",
       "      <td>Nº Visitas 3387</td>\n",
       "      <td>26/04/2024</td>\n",
       "      <td>37 m²</td>\n",
       "      <td>1.0</td>\n",
       "      <td>¡Tu nuevo hogar te espera en Buena Vista!</td>\n",
       "      <td>Redpiso vende en exclusiva este encantador est...</td>\n",
       "      <td>Metros: 37 m²</td>\n",
       "      <td>Metros útiles: 34 m²</td>\n",
       "      <td>Dormitorios: 1</td>\n",
       "      <td>Cal. energética:</td>\n",
       "      <td>Armarios: 1</td>\n",
       "      <td>Baños: 1</td>\n",
       "      <td>Consumo: 111 KW h/m² año</td>\n",
       "      <td>Emisiones: 18 Kg CO2/m² año</td>\n",
       "      <td>Estado: Perfecto Estado</td>\n",
       "      <td>Exterior</td>\n",
       "      <td>Orientación: Sur</td>\n",
       "    </tr>\n",
       "    <tr>\n",
       "      <th>3</th>\n",
       "      <td>Piso en venta en Buenavista, Carabanchel, Madr...</td>\n",
       "      <td>120.000 €</td>\n",
       "      <td>Piso en venta en Buenavista, Carabanchel, Madr...</td>\n",
       "      <td>RP442024126427</td>\n",
       "      <td>Nº Visitas 2924</td>\n",
       "      <td>10/05/2024</td>\n",
       "      <td>33 m²</td>\n",
       "      <td>1.0</td>\n",
       "      <td>¡Tu nuevo hogar te espera en Buena Vista!</td>\n",
       "      <td>Redpiso vende en exclusiva este encantador est...</td>\n",
       "      <td>Metros: 33 m²</td>\n",
       "      <td>Metros útiles: 30 m²</td>\n",
       "      <td>Dormitorios: 1</td>\n",
       "      <td>Cal. energética:</td>\n",
       "      <td>Armarios: 1</td>\n",
       "      <td>Baños: 1</td>\n",
       "      <td>Consumo: 145 KW h/m² año</td>\n",
       "      <td>Emisiones: 24 Kg CO2/m² año</td>\n",
       "      <td>Estado: Perfecto Estado</td>\n",
       "      <td>Agua caliente: Individual</td>\n",
       "      <td>Orientación: Oeste</td>\n",
       "    </tr>\n",
       "    <tr>\n",
       "      <th>4</th>\n",
       "      <td>Piso en venta en CALLE BENIFERRI, San Cristóba...</td>\n",
       "      <td>127.500 €</td>\n",
       "      <td>Piso en venta en CALLE BENIFERRI, San Cristóba...</td>\n",
       "      <td>RP2842024130186</td>\n",
       "      <td>Nº Visitas 485</td>\n",
       "      <td>12/09/2024</td>\n",
       "      <td>58 m²</td>\n",
       "      <td>1.0</td>\n",
       "      <td>VIVIENDA EN CALLE BENIFERRI</td>\n",
       "      <td>Redpiso San Cristobal de los Ángeles, inscrito...</td>\n",
       "      <td>Metros: 58 m²</td>\n",
       "      <td>Metros útiles: 50 m²</td>\n",
       "      <td>Dormitorios: 3</td>\n",
       "      <td>Exterior</td>\n",
       "      <td>Estado: Perfecto Estado</td>\n",
       "      <td>Baños: 1</td>\n",
       "      <td>Ascensor</td>\n",
       "      <td>Aire acondicionado</td>\n",
       "      <td>Agua caliente: Gas natural</td>\n",
       "      <td>Tipo de suelo: Terrazo</td>\n",
       "      <td>Calefacción: Gas Natural</td>\n",
       "    </tr>\n",
       "    <tr>\n",
       "      <th>...</th>\n",
       "      <td>...</td>\n",
       "      <td>...</td>\n",
       "      <td>...</td>\n",
       "      <td>...</td>\n",
       "      <td>...</td>\n",
       "      <td>...</td>\n",
       "      <td>...</td>\n",
       "      <td>...</td>\n",
       "      <td>...</td>\n",
       "      <td>...</td>\n",
       "      <td>...</td>\n",
       "      <td>...</td>\n",
       "      <td>...</td>\n",
       "      <td>...</td>\n",
       "      <td>...</td>\n",
       "      <td>...</td>\n",
       "      <td>...</td>\n",
       "      <td>...</td>\n",
       "      <td>...</td>\n",
       "      <td>...</td>\n",
       "      <td>...</td>\n",
       "    </tr>\n",
       "    <tr>\n",
       "      <th>2090</th>\n",
       "      <td>Piso en venta en CALLE NARVAEZ, Retiro, Madrid...</td>\n",
       "      <td>1.450.000 €</td>\n",
       "      <td>Piso en venta en CALLE NARVAEZ, Retiro, Madrid...</td>\n",
       "      <td>RP962024124554</td>\n",
       "      <td>Nº Visitas 376</td>\n",
       "      <td>11/03/2024</td>\n",
       "      <td>158 m²</td>\n",
       "      <td>3.0</td>\n",
       "      <td>Piso en venta en CALLE NARVAEZ, Retiro, Madrid...</td>\n",
       "      <td>REDPISO RETIRO pone a su disposición este piso...</td>\n",
       "      <td>Metros: 158 m²</td>\n",
       "      <td>Metros útiles: 129 m²</td>\n",
       "      <td>Dormitorios: 3</td>\n",
       "      <td>Garajes: 1</td>\n",
       "      <td>Armarios: 3</td>\n",
       "      <td>Baños: 3</td>\n",
       "      <td>Estado: Perfecto Estado</td>\n",
       "      <td>Orientación: Este</td>\n",
       "      <td>Exterior</td>\n",
       "      <td>Trastero</td>\n",
       "      <td>Ascensor</td>\n",
       "    </tr>\n",
       "    <tr>\n",
       "      <th>2091</th>\n",
       "      <td>Piso en venta en CALLE FERNÁNDEZ DE LA HOZ, Al...</td>\n",
       "      <td>1.990.000 €</td>\n",
       "      <td>Piso en venta en CALLE FERNÁNDEZ DE LA HOZ, Al...</td>\n",
       "      <td>RP1922024124579</td>\n",
       "      <td>Nº Visitas 443</td>\n",
       "      <td>11/03/2024</td>\n",
       "      <td>317 m²</td>\n",
       "      <td>3.0</td>\n",
       "      <td>NaN</td>\n",
       "      <td>En pleno barrio de Almagro. Vivienda para refo...</td>\n",
       "      <td>Metros: 317 m²</td>\n",
       "      <td>Metros útiles: 181 m²</td>\n",
       "      <td>Dormitorios: 4</td>\n",
       "      <td>Garajes: 2</td>\n",
       "      <td>Armarios: 7</td>\n",
       "      <td>Baños: 3</td>\n",
       "      <td>Estado: A reformar</td>\n",
       "      <td>Orientación: Noroeste</td>\n",
       "      <td>Exterior</td>\n",
       "      <td>Trastero</td>\n",
       "      <td>Ascensor</td>\n",
       "    </tr>\n",
       "    <tr>\n",
       "      <th>2095</th>\n",
       "      <td>Piso en venta en Aluche, Latina, Madrid, Madrid</td>\n",
       "      <td>110.000 €</td>\n",
       "      <td>Piso en venta en Aluche, Latina, Madrid, Madri...</td>\n",
       "      <td>RP272023121667</td>\n",
       "      <td>Nº Visitas 864</td>\n",
       "      <td>13/12/2023</td>\n",
       "      <td>68 m²</td>\n",
       "      <td>1.0</td>\n",
       "      <td>NaN</td>\n",
       "      <td>REDPISO ALUCHE CAMARENA vende en exclusiva una...</td>\n",
       "      <td>Metros: 68 m²</td>\n",
       "      <td>Metros útiles: 66 m²</td>\n",
       "      <td>Dormitorios: 2</td>\n",
       "      <td>Orientación: Este</td>\n",
       "      <td>Estado: A reformar</td>\n",
       "      <td>Baños: 1</td>\n",
       "      <td>Tipo de suelo: Parquet</td>\n",
       "      <td>Antigüedad: Más de 50 años</td>\n",
       "      <td>Año de construcción: 1965</td>\n",
       "      <td>Número de terrazas: 1</td>\n",
       "      <td>Plantas: 5</td>\n",
       "    </tr>\n",
       "    <tr>\n",
       "      <th>2096</th>\n",
       "      <td>Piso en venta en CALLE FONDON, Apóstol Santiag...</td>\n",
       "      <td>170.000 €</td>\n",
       "      <td>Piso en venta en CALLE FONDON, Apóstol Santiag...</td>\n",
       "      <td>RP2532022104355</td>\n",
       "      <td>Nº Visitas 2475</td>\n",
       "      <td>19/09/2022</td>\n",
       "      <td>107 m²</td>\n",
       "      <td>2.0</td>\n",
       "      <td>NaN</td>\n",
       "      <td>¡Excelente Oportunidad! Piso en venta que cuen...</td>\n",
       "      <td>Metros: 107 m²</td>\n",
       "      <td>Metros útiles: 97 m²</td>\n",
       "      <td>Dormitorios: 3</td>\n",
       "      <td>Estado: Perfecto Estado</td>\n",
       "      <td>Armarios: 3</td>\n",
       "      <td>Baños: 2</td>\n",
       "      <td>Orientación: Sur</td>\n",
       "      <td>Exterior</td>\n",
       "      <td>Ascensor</td>\n",
       "      <td>Zonas verdes</td>\n",
       "      <td>Cocina equipada</td>\n",
       "    </tr>\n",
       "    <tr>\n",
       "      <th>2097</th>\n",
       "      <td>Piso en venta en CALLE INFANTA MERCEDES, 11, C...</td>\n",
       "      <td>420.000 €</td>\n",
       "      <td>Piso en venta en CALLE INFANTA MERCEDES, 11, C...</td>\n",
       "      <td>RP2332024131076</td>\n",
       "      <td>Nº Visitas 72</td>\n",
       "      <td>08/10/2024</td>\n",
       "      <td>61 m²</td>\n",
       "      <td>1.0</td>\n",
       "      <td>NaN</td>\n",
       "      <td>NaN</td>\n",
       "      <td>Metros: 61 m²</td>\n",
       "      <td>Metros útiles: 49 m²</td>\n",
       "      <td>Dormitorios: 2</td>\n",
       "      <td>Estado: Perfecto Estado</td>\n",
       "      <td>Armarios: 1</td>\n",
       "      <td>Baños: 1</td>\n",
       "      <td>Exterior</td>\n",
       "      <td>Ascensor</td>\n",
       "      <td>Cocina equipada</td>\n",
       "      <td>Agua caliente: Central</td>\n",
       "      <td>Aire acondicionado</td>\n",
       "    </tr>\n",
       "  </tbody>\n",
       "</table>\n",
       "<p>1468 rows × 21 columns</p>\n",
       "</div>"
      ],
      "text/plain": [
       "                                                  title       precio  \\\n",
       "0     Piso en venta en CALLE BENIMAMET, San Cristóba...    106.500 €   \n",
       "1                Piso en venta en Usera, Madrid, Madrid    119.000 €   \n",
       "2     Piso en venta en Buenavista, Carabanchel, Madr...    120.000 €   \n",
       "3     Piso en venta en Buenavista, Carabanchel, Madr...    120.000 €   \n",
       "4     Piso en venta en CALLE BENIFERRI, San Cristóba...    127.500 €   \n",
       "...                                                 ...          ...   \n",
       "2090  Piso en venta en CALLE NARVAEZ, Retiro, Madrid...  1.450.000 €   \n",
       "2091  Piso en venta en CALLE FERNÁNDEZ DE LA HOZ, Al...  1.990.000 €   \n",
       "2095    Piso en venta en Aluche, Latina, Madrid, Madrid    110.000 €   \n",
       "2096  Piso en venta en CALLE FONDON, Apóstol Santiag...    170.000 €   \n",
       "2097  Piso en venta en CALLE INFANTA MERCEDES, 11, C...    420.000 €   \n",
       "\n",
       "                                            descripcion       referencia  \\\n",
       "0     Piso en venta en CALLE BENIMAMET, San Cristóba...  RP2842024125161   \n",
       "1     Piso en venta en Usera, Madrid, Madrid\\n      ...   RP782024130863   \n",
       "2     Piso en venta en Buenavista, Carabanchel, Madr...   RP442024126007   \n",
       "3     Piso en venta en Buenavista, Carabanchel, Madr...   RP442024126427   \n",
       "4     Piso en venta en CALLE BENIFERRI, San Cristóba...  RP2842024130186   \n",
       "...                                                 ...              ...   \n",
       "2090  Piso en venta en CALLE NARVAEZ, Retiro, Madrid...   RP962024124554   \n",
       "2091  Piso en venta en CALLE FERNÁNDEZ DE LA HOZ, Al...  RP1922024124579   \n",
       "2095  Piso en venta en Aluche, Latina, Madrid, Madri...   RP272023121667   \n",
       "2096  Piso en venta en CALLE FONDON, Apóstol Santiag...  RP2532022104355   \n",
       "2097  Piso en venta en CALLE INFANTA MERCEDES, 11, C...  RP2332024131076   \n",
       "\n",
       "     cantidad_visitas fecha_publicacion m2_constr  campo9  \\\n",
       "0     Nº Visitas 5857        02/04/2024     64 m²     1.0   \n",
       "1      Nº Visitas 714        02/10/2024     30 m²     1.0   \n",
       "2     Nº Visitas 3387        26/04/2024     37 m²     1.0   \n",
       "3     Nº Visitas 2924        10/05/2024     33 m²     1.0   \n",
       "4      Nº Visitas 485        12/09/2024     58 m²     1.0   \n",
       "...               ...               ...       ...     ...   \n",
       "2090   Nº Visitas 376        11/03/2024    158 m²     3.0   \n",
       "2091   Nº Visitas 443        11/03/2024    317 m²     3.0   \n",
       "2095   Nº Visitas 864        13/12/2023     68 m²     1.0   \n",
       "2096  Nº Visitas 2475        19/09/2022    107 m²     2.0   \n",
       "2097    Nº Visitas 72        08/10/2024     61 m²     1.0   \n",
       "\n",
       "                                                campo10  \\\n",
       "0                 ESTUPENDA VIVIENDA EN CALLE BENIMAMET   \n",
       "1                         ESTUDIO JARDINES DE YBARRA II   \n",
       "2             ¡Tu nuevo hogar te espera en Buena Vista!   \n",
       "3             ¡Tu nuevo hogar te espera en Buena Vista!   \n",
       "4                           VIVIENDA EN CALLE BENIFERRI   \n",
       "...                                                 ...   \n",
       "2090  Piso en venta en CALLE NARVAEZ, Retiro, Madrid...   \n",
       "2091                                                NaN   \n",
       "2095                                                NaN   \n",
       "2096                                                NaN   \n",
       "2097                                                NaN   \n",
       "\n",
       "                                                campo11         campo12  \\\n",
       "0     Redpiso San Cristobal de los Ángeles, inscrito...   Metros: 64 m²   \n",
       "1     Redpiso vende en exclusiva ACOGEDOR ESTUDIO en...   Metros: 30 m²   \n",
       "2     Redpiso vende en exclusiva este encantador est...   Metros: 37 m²   \n",
       "3     Redpiso vende en exclusiva este encantador est...   Metros: 33 m²   \n",
       "4     Redpiso San Cristobal de los Ángeles, inscrito...   Metros: 58 m²   \n",
       "...                                                 ...             ...   \n",
       "2090  REDPISO RETIRO pone a su disposición este piso...  Metros: 158 m²   \n",
       "2091  En pleno barrio de Almagro. Vivienda para refo...  Metros: 317 m²   \n",
       "2095  REDPISO ALUCHE CAMARENA vende en exclusiva una...   Metros: 68 m²   \n",
       "2096  ¡Excelente Oportunidad! Piso en venta que cuen...  Metros: 107 m²   \n",
       "2097                                                NaN   Metros: 61 m²   \n",
       "\n",
       "                    campo13         tiempo2                  campo14  \\\n",
       "0      Metros útiles: 60 m²  Dormitorios: 2                 Exterior   \n",
       "1      Metros útiles: 27 m²  Dormitorios: 1         Cal. energética:   \n",
       "2      Metros útiles: 34 m²  Dormitorios: 1         Cal. energética:   \n",
       "3      Metros útiles: 30 m²  Dormitorios: 1         Cal. energética:   \n",
       "4      Metros útiles: 50 m²  Dormitorios: 3                 Exterior   \n",
       "...                     ...             ...                      ...   \n",
       "2090  Metros útiles: 129 m²  Dormitorios: 3               Garajes: 1   \n",
       "2091  Metros útiles: 181 m²  Dormitorios: 4               Garajes: 2   \n",
       "2095   Metros útiles: 66 m²  Dormitorios: 2        Orientación: Este   \n",
       "2096   Metros útiles: 97 m²  Dormitorios: 3  Estado: Perfecto Estado   \n",
       "2097   Metros útiles: 49 m²  Dormitorios: 2  Estado: Perfecto Estado   \n",
       "\n",
       "                      campo15   tiempo3                   campo16  \\\n",
       "0     Estado: Perfecto Estado  Baños: 1        Aire acondicionado   \n",
       "1                 Armarios: 1  Baños: 1   Estado: Perfecto Estado   \n",
       "2                 Armarios: 1  Baños: 1  Consumo: 111 KW h/m² año   \n",
       "3                 Armarios: 1  Baños: 1  Consumo: 145 KW h/m² año   \n",
       "4     Estado: Perfecto Estado  Baños: 1                  Ascensor   \n",
       "...                       ...       ...                       ...   \n",
       "2090              Armarios: 3  Baños: 3   Estado: Perfecto Estado   \n",
       "2091              Armarios: 7  Baños: 3        Estado: A reformar   \n",
       "2095       Estado: A reformar  Baños: 1    Tipo de suelo: Parquet   \n",
       "2096              Armarios: 3  Baños: 2          Orientación: Sur   \n",
       "2097              Armarios: 1  Baños: 1                  Exterior   \n",
       "\n",
       "                          campo17                       campo18  \\\n",
       "0       Agua caliente: Individual  Tipo de suelo: Tarima normal   \n",
       "1                Orientación: Sur                      Exterior   \n",
       "2     Emisiones: 18 Kg CO2/m² año       Estado: Perfecto Estado   \n",
       "3     Emisiones: 24 Kg CO2/m² año       Estado: Perfecto Estado   \n",
       "4              Aire acondicionado    Agua caliente: Gas natural   \n",
       "...                           ...                           ...   \n",
       "2090            Orientación: Este                      Exterior   \n",
       "2091        Orientación: Noroeste                      Exterior   \n",
       "2095   Antigüedad: Más de 50 años     Año de construcción: 1965   \n",
       "2096                     Exterior                      Ascensor   \n",
       "2097                     Ascensor               Cocina equipada   \n",
       "\n",
       "                        tiempo4                     campo19  \n",
       "0     Año de construcción: 1962  Antigüedad: Más de 50 años  \n",
       "1     Agua caliente: Individual             Cocina equipada  \n",
       "2                      Exterior            Orientación: Sur  \n",
       "3     Agua caliente: Individual          Orientación: Oeste  \n",
       "4        Tipo de suelo: Terrazo    Calefacción: Gas Natural  \n",
       "...                         ...                         ...  \n",
       "2090                   Trastero                    Ascensor  \n",
       "2091                   Trastero                    Ascensor  \n",
       "2095      Número de terrazas: 1                  Plantas: 5  \n",
       "2096               Zonas verdes             Cocina equipada  \n",
       "2097     Agua caliente: Central          Aire acondicionado  \n",
       "\n",
       "[1468 rows x 21 columns]"
      ]
     },
     "execution_count": 542,
     "metadata": {},
     "output_type": "execute_result"
    }
   ],
   "source": [
    "redpiso_detalles"
   ]
  },
  {
   "cell_type": "code",
   "execution_count": 543,
   "metadata": {},
   "outputs": [],
   "source": [
    "# Eliminacion de las primeras 3 letras en la referencia web - REF- dejando solo la referencia \n",
    "#redpiso_detalles[\"referencia_web\"] = redpiso_detalles[\"referencia_web\"].str[3:].str.strip()"
   ]
  },
  {
   "cell_type": "code",
   "execution_count": 544,
   "metadata": {},
   "outputs": [],
   "source": [
    "# Reemplace todas las letras ñ por n.\n",
    "#redpiso_detalles = redpiso_detalles.apply(lambda col : col.str.replace(\"ñ\",\"n\")if col.dtype == \"object\" else col)\n",
    "\n",
    "\n",
    "\n",
    "#  Cree una funcion corta que recorre cada valor del dataset y toma los valores que especificmaos en la funcion anterior.\n",
    "#redpiso_detalles = redpiso_detalles.apply(lambda col: col.apply(limpiar_valores))\n",
    "\n",
    "\n",
    "# Cree una funcion que elimina todos los acentos  y caracteres especiales\n",
    "#redpiso_detalles = redpiso_detalles.apply(lambda x: x.apply(lambda y: unidecode(y) if isinstance(y,str) else y )if x.dtype == \"object\" else x)\n",
    "\n"
   ]
  },
  {
   "cell_type": "code",
   "execution_count": 545,
   "metadata": {},
   "outputs": [],
   "source": [
    "#valores_buscar= [\"Dormitorios 1\", \"Dormitorios 2\", \"Dormitorios 3\", \"Dormitorios 4\",\"Dormitorios1\", \"Dormitorios2\",\"Dormitorios3\", \"Dormitorios4\",\n",
    "               #   \"Dormitorios 5\", \"Dormitorios 6\", \"Dormitorios 7\", \"Dormitorios 8\",\"Dormitorios  8\", \"Dormitorios 9\", \"Dormitorios 10\", \"Dormitorios5\",\"Dormitorios6\",\n",
    "                #  \"Dormitorios7\", \"Dormitorios8\", \"Dormitoros9\"]\n",
    "\n",
    "#crear_columnas(redpiso_detalles,\"dormitorios\",valores_buscar)\n",
    "\n",
    "#valores_buscar= [\"Banos 1\", \"Banos 2\", \"Banos 3\", \"Banos 4\",\"Banos 5\",\"Banos 6\",\"Banos 7\",\"Banos 8\",\n",
    " #                  \"Banos1\", \"Banos2\", \"Banos3\", \"Banos4\", \"Banos5\", \"Banos6\", \"Banos7\",\"Banos8\"]\n",
    "#crear_columnas(redpiso_detalles,\"banos\",valores_buscar)\n",
    "\n",
    "\n",
    "\n",
    "valores_buscar = [\n",
    "    \"primera planta\", \"Primera planta\", \"1ª planta\", \"1a planta\",\n",
    "    \"segunda planta\", \"Segunda planta\", \"2ª planta\", \"2a planta\",\n",
    "    \"tercera planta\", \"Tercera planta\", \"3ª planta\", \"3a planta\",\n",
    "    \"cuarta planta\", \"Cuarta planta\", \"4ª planta\", \"4a planta\",\n",
    "    \"quinta planta\", \"Quinta planta\", \"5ª planta\", \"5a planta\",\n",
    "    \"sexta planta\", \"Sexta planta\", \"6ª planta\", \"6a planta\",\n",
    "    \"séptima planta\", \"Séptima planta\", \"7ª planta\", \"7a planta\",\n",
    "    \"octava planta\", \"Octava planta\", \"8ª planta\", \"8a planta\",\n",
    "    \"novena planta\", \"Novena planta\", \"9ª planta\", \"9a planta\",\n",
    "    \"décima planta\", \"Décima planta\", \"10ª planta\", \"10a planta\",\n",
    "    \"undécima planta\", \"Undécima planta\", \"11ª planta\", \"11a planta\",\n",
    "    \"duodécima planta\", \"Duodécima planta\", \"12ª planta\", \"12a planta\",\n",
    "    \"decimotercera planta\", \"Decimotercera planta\", \"13ª planta\", \"13a planta\",\n",
    "    \"decimocuarta planta\", \"Decimocuarta planta\", \"14ª planta\", \"14a planta\",\n",
    "    \"decimoquinta planta\", \"Decimoquinta planta\", \"15ª planta\", \"15a planta\",\n",
    "    \"decimosexta planta\", \"Decimosexta planta\", \"16ª planta\", \"16a planta\",\n",
    "    \"decimoséptima planta\", \"Decimoséptima planta\", \"17ª planta\", \"17a planta\",\n",
    "    \"decimoctava planta\", \"Decimoctava planta\", \"18ª planta\", \"18a planta\",\n",
    "    \"decimonovena planta\", \"Decimonovena planta\", \"19ª planta\", \"19a planta\",\n",
    "    \"vigésima planta\", \"Vigésima planta\", \"20ª planta\", \"20a planta\"\n",
    "]\n",
    "\n",
    "\n",
    "\n",
    "crear_columnas(redpiso_detalles, \"planta\", valores_buscar)"
   ]
  },
  {
   "cell_type": "code",
   "execution_count": null,
   "metadata": {},
   "outputs": [],
   "source": [
    "patron = r'(?i)^baño' \n",
    "crear_columnas_conpatron(redpiso_detalles,\"banos\",patron,True)\n",
    "patron = r'(?i)^dormitorio' \n",
    "crear_columnas_conpatron(redpiso_detalles,\"dormitorios\",patron,True)\n",
    "patron = r'(?i)^armario' \n",
    "crear_columnas_conpatron(redpiso_detalles,\"armarios\",patron,False)\n",
    "\n",
    "patron = r'(?i)^consumo' \n",
    "crear_columnas_conpatron(redpiso_detalles,\"consumo_energetico\",patron,True)\n",
    "\n",
    "patron = r'(?i)^emisiones' \n",
    "crear_columnas_conpatron(redpiso_detalles,\"emisiones_CO2\",patron,True)\n",
    "\n",
    "#patron = r'(?i)^cal' \n",
    "#crear_columnas_conpatron(redpiso_detalles,\"cal_energetica\",patron)\n",
    "patron = r'(?i)^estado' \n",
    "crear_columnas_conpatron(redpiso_detalles,\"estado\",patron,True)\n",
    "patron = r'(?i)^reformado' \n",
    "crear_columnas_conpatron(redpiso_detalles,\"estado\",patron,False)\n",
    "patron = r'(?i)^obra nueva' \n",
    "crear_columnas_conpatron(redpiso_detalles,\"estado\",patron,False)\n",
    "patron = r'(?i)^Antigüedad' \n",
    "crear_columnas_conpatron(redpiso_detalles,\"antiguedad\",patron,True)\n",
    "patron = r'(?i)^ascensor' \n",
    "crear_columnas_conpatron(redpiso_detalles,\"ascensor\",patron,True)\n",
    "patron = r'(?i)^con ascensor' \n",
    "crear_columnas_conpatron(redpiso_detalles,\"ascensor\",patron,False)\n",
    "patron = r'(?i)^sin ascensor' \n",
    "crear_columnas_conpatron(redpiso_detalles,\"sin_ascensor\",patron,False)\n",
    "patron = r'(?i)^aire_acondicionado' \n",
    "crear_columnas_conpatron(redpiso_detalles,\"aire_acondicionado\",patron,False)\n",
    "\n",
    "patron = r'(?i)^orientacion' \n",
    "\n",
    "crear_columnas_conpatron(redpiso_detalles,\"orientacion\",patron,False)\n",
    "\n",
    "patron = r'(?i)^agua_caliente' \n",
    "crear_columnas_conpatron(redpiso_detalles,\"agua_caliente\",patron,True)\n",
    "\n",
    "patron = r'(?i)^calefaccion' \n",
    "crear_columnas_conpatron(redpiso_detalles,\"calefaccion\",patron,True)\n",
    "\n",
    "patron = r'(?i)^tipo de suelo' \n",
    "crear_columnas_conpatron(redpiso_detalles,\"tipo_suelo\",patron,True)\n",
    "\n",
    "patron = r'(?i)^tipo de fachada' \n",
    "crear_columnas_conpatron(redpiso_detalles,\"tipo_fachada\",patron,True)\n",
    "\n",
    "patron = r'(?i)^cocina_equipada' \n",
    "crear_columnas_conpatron(redpiso_detalles,\"cocina\",patron,True)\n",
    "\n",
    "patron = r'(?i)^garaje' \n",
    "crear_columnas_conpatron(redpiso_detalles,\"garaje\",patron,False)\n",
    "\n",
    "patron = r'(?i)^Metros útiles:' \n",
    "crear_columnas_conpatron(redpiso_detalles,\"m2_utiles\",patron,True)\n",
    "\n",
    "patron = r'(?i)^exterior' \n",
    "crear_columnas_conpatron(redpiso_detalles,\"exterior\",patron,False)\n",
    "patron = r'(?i)^interior' \n",
    "crear_columnas_conpatron(redpiso_detalles,\"interior\",patron,False)\n",
    "\n",
    "patron = r'(?i)^trastero' \n",
    "crear_columnas_conpatron(redpiso_detalles,\"trastero\",patron,False)\n",
    "\n",
    "patron = r'(?i)^piscina'\n",
    "crear_columnas_conpatron(redpiso_detalles,\"piscina\",patron,False)\n",
    "\n",
    "patron = r'(?i)^zonas_verdes'\n",
    "crear_columnas_conpatron(redpiso_detalles,\"zonas\",patron,True)\n",
    "\n",
    "patron = r'(?i)^comunidad'\n",
    "crear_columnas_conpatron(redpiso_detalles,\"gastos_comunidad\",patron,True)\n",
    "\n",
    "patron = r'(?i)^terraza'\n",
    "crear_columnas_conpatron(redpiso_detalles,\"terraza\",patron,False)\n",
    "\n",
    "patron = r'(?i)^minusvalido'\n",
    "crear_columnas_conpatron(redpiso_detalles,\"acceso_minusvalido\",patron,False)\n",
    "patron = r'(?i)^blindada'\n",
    "crear_columnas_conpatron(redpiso_detalles,\"puerta_blindada\",patron,False)\n",
    "patron = r'(?i)^alarma'\n",
    "crear_columnas_conpatron(redpiso_detalles,\"alarma\",patron,False)\n",
    "patron = r'(?i)^portero'\n",
    "crear_columnas_conpatron(redpiso_detalles,\"porteria\",patron,False)\n",
    "patron = r'(?i)^conserje'\n",
    "crear_columnas_conpatron(redpiso_detalles,\"porteria\",patron,False)\n",
    "patron = r'(?i)^amueblado'\n",
    "crear_columnas_conpatron(redpiso_detalles,\"amueblado\",patron,False)\n",
    "patron = r'(?i)^cocina independiente'\n",
    "crear_columnas_conpatron(redpiso_detalles,\"cocina_independiente\",patron,False)\n",
    "patron = r'(?i)^cocina equipada'\n",
    "crear_columnas_conpatron(redpiso_detalles,\"cocina_equipada\",patron,False)\n",
    "patron = r'(?i)^cocina americana'\n",
    "crear_columnas_conpatron(redpiso_detalles,\"cocina_americana\",patron,False)\n",
    "patron = r'(?i)^cocina integrada'\n",
    "crear_columnas_conpatron(redpiso_detalles,\"cocina_integrada\",patron,False)\n",
    "patron = r'(?i)^plantas'\n",
    "crear_columnas_conpatron(redpiso_detalles,\"num_plantas\",patron,False)\n",
    "patron = r'(?i)^pisos'\n",
    "crear_columnas_conpatron(redpiso_detalles,\"num_pisos\",patron,False)\n",
    "\n"
   ]
  },
  {
   "cell_type": "code",
   "execution_count": 562,
   "metadata": {},
   "outputs": [
    {
     "ename": "KeyError",
     "evalue": "'armario'",
     "output_type": "error",
     "traceback": [
      "\u001b[1;31m---------------------------------------------------------------------------\u001b[0m",
      "\u001b[1;31mKeyError\u001b[0m                                  Traceback (most recent call last)",
      "File \u001b[1;32mc:\\Users\\extas\\anaconda3\\envs\\Nuclio\\Lib\\site-packages\\pandas\\core\\indexes\\base.py:3805\u001b[0m, in \u001b[0;36mIndex.get_loc\u001b[1;34m(self, key)\u001b[0m\n\u001b[0;32m   3804\u001b[0m \u001b[38;5;28;01mtry\u001b[39;00m:\n\u001b[1;32m-> 3805\u001b[0m     \u001b[38;5;28;01mreturn\u001b[39;00m \u001b[38;5;28;43mself\u001b[39;49m\u001b[38;5;241;43m.\u001b[39;49m\u001b[43m_engine\u001b[49m\u001b[38;5;241;43m.\u001b[39;49m\u001b[43mget_loc\u001b[49m\u001b[43m(\u001b[49m\u001b[43mcasted_key\u001b[49m\u001b[43m)\u001b[49m\n\u001b[0;32m   3806\u001b[0m \u001b[38;5;28;01mexcept\u001b[39;00m \u001b[38;5;167;01mKeyError\u001b[39;00m \u001b[38;5;28;01mas\u001b[39;00m err:\n",
      "File \u001b[1;32mindex.pyx:167\u001b[0m, in \u001b[0;36mpandas._libs.index.IndexEngine.get_loc\u001b[1;34m()\u001b[0m\n",
      "File \u001b[1;32mindex.pyx:196\u001b[0m, in \u001b[0;36mpandas._libs.index.IndexEngine.get_loc\u001b[1;34m()\u001b[0m\n",
      "File \u001b[1;32mpandas\\\\_libs\\\\hashtable_class_helper.pxi:7081\u001b[0m, in \u001b[0;36mpandas._libs.hashtable.PyObjectHashTable.get_item\u001b[1;34m()\u001b[0m\n",
      "File \u001b[1;32mpandas\\\\_libs\\\\hashtable_class_helper.pxi:7089\u001b[0m, in \u001b[0;36mpandas._libs.hashtable.PyObjectHashTable.get_item\u001b[1;34m()\u001b[0m\n",
      "\u001b[1;31mKeyError\u001b[0m: 'armario'",
      "\nThe above exception was the direct cause of the following exception:\n",
      "\u001b[1;31mKeyError\u001b[0m                                  Traceback (most recent call last)",
      "Cell \u001b[1;32mIn[562], line 1\u001b[0m\n\u001b[1;32m----> 1\u001b[0m \u001b[43mredpiso_detalles\u001b[49m\u001b[43m[\u001b[49m\u001b[38;5;124;43m\"\u001b[39;49m\u001b[38;5;124;43marmario\u001b[39;49m\u001b[38;5;124;43m\"\u001b[39;49m\u001b[43m]\u001b[49m\u001b[38;5;241m.\u001b[39mvalue_counts(dropna\u001b[38;5;241m=\u001b[39m\u001b[38;5;28;01mFalse\u001b[39;00m)\n",
      "File \u001b[1;32mc:\\Users\\extas\\anaconda3\\envs\\Nuclio\\Lib\\site-packages\\pandas\\core\\frame.py:4102\u001b[0m, in \u001b[0;36mDataFrame.__getitem__\u001b[1;34m(self, key)\u001b[0m\n\u001b[0;32m   4100\u001b[0m \u001b[38;5;28;01mif\u001b[39;00m \u001b[38;5;28mself\u001b[39m\u001b[38;5;241m.\u001b[39mcolumns\u001b[38;5;241m.\u001b[39mnlevels \u001b[38;5;241m>\u001b[39m \u001b[38;5;241m1\u001b[39m:\n\u001b[0;32m   4101\u001b[0m     \u001b[38;5;28;01mreturn\u001b[39;00m \u001b[38;5;28mself\u001b[39m\u001b[38;5;241m.\u001b[39m_getitem_multilevel(key)\n\u001b[1;32m-> 4102\u001b[0m indexer \u001b[38;5;241m=\u001b[39m \u001b[38;5;28;43mself\u001b[39;49m\u001b[38;5;241;43m.\u001b[39;49m\u001b[43mcolumns\u001b[49m\u001b[38;5;241;43m.\u001b[39;49m\u001b[43mget_loc\u001b[49m\u001b[43m(\u001b[49m\u001b[43mkey\u001b[49m\u001b[43m)\u001b[49m\n\u001b[0;32m   4103\u001b[0m \u001b[38;5;28;01mif\u001b[39;00m is_integer(indexer):\n\u001b[0;32m   4104\u001b[0m     indexer \u001b[38;5;241m=\u001b[39m [indexer]\n",
      "File \u001b[1;32mc:\\Users\\extas\\anaconda3\\envs\\Nuclio\\Lib\\site-packages\\pandas\\core\\indexes\\base.py:3812\u001b[0m, in \u001b[0;36mIndex.get_loc\u001b[1;34m(self, key)\u001b[0m\n\u001b[0;32m   3807\u001b[0m     \u001b[38;5;28;01mif\u001b[39;00m \u001b[38;5;28misinstance\u001b[39m(casted_key, \u001b[38;5;28mslice\u001b[39m) \u001b[38;5;129;01mor\u001b[39;00m (\n\u001b[0;32m   3808\u001b[0m         \u001b[38;5;28misinstance\u001b[39m(casted_key, abc\u001b[38;5;241m.\u001b[39mIterable)\n\u001b[0;32m   3809\u001b[0m         \u001b[38;5;129;01mand\u001b[39;00m \u001b[38;5;28many\u001b[39m(\u001b[38;5;28misinstance\u001b[39m(x, \u001b[38;5;28mslice\u001b[39m) \u001b[38;5;28;01mfor\u001b[39;00m x \u001b[38;5;129;01min\u001b[39;00m casted_key)\n\u001b[0;32m   3810\u001b[0m     ):\n\u001b[0;32m   3811\u001b[0m         \u001b[38;5;28;01mraise\u001b[39;00m InvalidIndexError(key)\n\u001b[1;32m-> 3812\u001b[0m     \u001b[38;5;28;01mraise\u001b[39;00m \u001b[38;5;167;01mKeyError\u001b[39;00m(key) \u001b[38;5;28;01mfrom\u001b[39;00m \u001b[38;5;21;01merr\u001b[39;00m\n\u001b[0;32m   3813\u001b[0m \u001b[38;5;28;01mexcept\u001b[39;00m \u001b[38;5;167;01mTypeError\u001b[39;00m:\n\u001b[0;32m   3814\u001b[0m     \u001b[38;5;66;03m# If we have a listlike key, _check_indexing_error will raise\u001b[39;00m\n\u001b[0;32m   3815\u001b[0m     \u001b[38;5;66;03m#  InvalidIndexError. Otherwise we fall through and re-raise\u001b[39;00m\n\u001b[0;32m   3816\u001b[0m     \u001b[38;5;66;03m#  the TypeError.\u001b[39;00m\n\u001b[0;32m   3817\u001b[0m     \u001b[38;5;28mself\u001b[39m\u001b[38;5;241m.\u001b[39m_check_indexing_error(key)\n",
      "\u001b[1;31mKeyError\u001b[0m: 'armario'"
     ]
    }
   ],
   "source": [
    "redpiso_detalles[\"armario\"].value_counts(dropna=False)"
   ]
  },
  {
   "cell_type": "code",
   "execution_count": 561,
   "metadata": {},
   "outputs": [
    {
     "data": {
      "text/plain": [
       "m2_utiles\n",
       "NaN                     394\n",
       "Metros útiles 60 m²      40\n",
       "Metros útiles 50 m²      34\n",
       "Metros útiles 80 m²      32\n",
       "Metros útiles 66 m²      30\n",
       "                       ... \n",
       "Metros útiles 318 m²      1\n",
       "Metros útiles 240 m²      1\n",
       "Metros útiles 109 m²      1\n",
       "Metros útiles 159 m²      1\n",
       "Metros útiles 181 m²      1\n",
       "Name: count, Length: 153, dtype: int64"
      ]
     },
     "execution_count": 561,
     "metadata": {},
     "output_type": "execute_result"
    }
   ],
   "source": [
    "redpiso_detalles[\"m2_utiles\"].value_counts(dropna=False)"
   ]
  },
  {
   "cell_type": "code",
   "execution_count": 615,
   "metadata": {},
   "outputs": [],
   "source": [
    "def eliminar_no_visitas(texto):\n",
    "    # Eliminar \"No Visitas\" y dejar solo el número que le sigue\n",
    "    return re.sub(r'(?i)No Visitas\\s*(\\d+)', r'\\1', str(texto))\n",
    "\n",
    "# Aplicar la función a la columna \"cantidad_visitas\"\n",
    "redpiso_detalles[\"cantidad_visitas\"] = redpiso_detalles[\"cantidad_visitas\"].str.replace(\"Nº Visitas \",\"\",case=False,regex=True)\n",
    "redpiso_detalles[\"m2_utiles\"] = redpiso_detalles[\"m2_utiles\"].str.replace(\"m2\", \"\", case=False, regex= True)\n",
    "redpiso_detalles[\"m2_constr\"] = redpiso_detalles[\"m2_constr\"].str.replace(\"m²\", \"\", case=False, regex= True)\n",
    "redpiso_detalles[\"dormitorios\"] = redpiso_detalles[\"dormitorios\"].str.replace(\"s\", \"\", case=False, regex= True)\n",
    "redpiso_detalles[\"banos\"] = redpiso_detalles[\"banos\"].str.replace(\"s\", \"\", case=False, regex= True)\n",
    "redpiso_detalles[\"armarios\"] = redpiso_detalles[\"armarios\"].str.replace(\"Armarios: \", \"\", case=False, regex= True)\n"
   ]
  },
  {
   "cell_type": "code",
   "execution_count": 616,
   "metadata": {},
   "outputs": [
    {
     "ename": "KeyError",
     "evalue": "\"['campo13', 'tiempo2', 'campo14', 'campo15', 'tiempo3', 'campo16', 'campo17', 'campo18', 'tiempo4', 'campo19'] not found in axis\"",
     "output_type": "error",
     "traceback": [
      "\u001b[1;31m---------------------------------------------------------------------------\u001b[0m",
      "\u001b[1;31mKeyError\u001b[0m                                  Traceback (most recent call last)",
      "Cell \u001b[1;32mIn[616], line 2\u001b[0m\n\u001b[0;32m      1\u001b[0m \u001b[38;5;66;03m# eliminacion de columnas \u001b[39;00m\n\u001b[1;32m----> 2\u001b[0m redpiso_detalles\u001b[38;5;241m=\u001b[39m \u001b[43mredpiso_detalles\u001b[49m\u001b[38;5;241;43m.\u001b[39;49m\u001b[43mdrop\u001b[49m\u001b[43m(\u001b[49m\u001b[43mcolumns\u001b[49m\u001b[38;5;241;43m=\u001b[39;49m\u001b[43m[\u001b[49m\u001b[38;5;124;43m\"\u001b[39;49m\u001b[38;5;124;43mcampo13\u001b[39;49m\u001b[38;5;124;43m\"\u001b[39;49m\u001b[43m,\u001b[49m\u001b[38;5;124;43m\"\u001b[39;49m\u001b[38;5;124;43mtiempo2\u001b[39;49m\u001b[38;5;124;43m\"\u001b[39;49m\u001b[43m,\u001b[49m\u001b[38;5;124;43m\"\u001b[39;49m\u001b[38;5;124;43mcampo14\u001b[39;49m\u001b[38;5;124;43m\"\u001b[39;49m\u001b[43m,\u001b[49m\u001b[38;5;124;43m\"\u001b[39;49m\u001b[38;5;124;43mcampo15\u001b[39;49m\u001b[38;5;124;43m\"\u001b[39;49m\u001b[43m,\u001b[49m\u001b[38;5;124;43m\"\u001b[39;49m\u001b[38;5;124;43mtiempo3\u001b[39;49m\u001b[38;5;124;43m\"\u001b[39;49m\u001b[43m,\u001b[49m\u001b[38;5;124;43m\"\u001b[39;49m\u001b[38;5;124;43mcampo16\u001b[39;49m\u001b[38;5;124;43m\"\u001b[39;49m\u001b[43m,\u001b[49m\u001b[38;5;124;43m\"\u001b[39;49m\u001b[38;5;124;43mcampo17\u001b[39;49m\u001b[38;5;124;43m\"\u001b[39;49m\u001b[43m,\u001b[49m\u001b[38;5;124;43m\"\u001b[39;49m\u001b[38;5;124;43mcampo18\u001b[39;49m\u001b[38;5;124;43m\"\u001b[39;49m\u001b[43m,\u001b[49m\u001b[38;5;124;43m\"\u001b[39;49m\u001b[38;5;124;43mtiempo4\u001b[39;49m\u001b[38;5;124;43m\"\u001b[39;49m\u001b[43m,\u001b[49m\u001b[38;5;124;43m\"\u001b[39;49m\u001b[38;5;124;43mcampo19\u001b[39;49m\u001b[38;5;124;43m\"\u001b[39;49m\u001b[43m]\u001b[49m\u001b[43m)\u001b[49m\n",
      "File \u001b[1;32mc:\\Users\\extas\\anaconda3\\envs\\Nuclio\\Lib\\site-packages\\pandas\\core\\frame.py:5581\u001b[0m, in \u001b[0;36mDataFrame.drop\u001b[1;34m(self, labels, axis, index, columns, level, inplace, errors)\u001b[0m\n\u001b[0;32m   5433\u001b[0m \u001b[38;5;28;01mdef\u001b[39;00m \u001b[38;5;21mdrop\u001b[39m(\n\u001b[0;32m   5434\u001b[0m     \u001b[38;5;28mself\u001b[39m,\n\u001b[0;32m   5435\u001b[0m     labels: IndexLabel \u001b[38;5;241m|\u001b[39m \u001b[38;5;28;01mNone\u001b[39;00m \u001b[38;5;241m=\u001b[39m \u001b[38;5;28;01mNone\u001b[39;00m,\n\u001b[1;32m   (...)\u001b[0m\n\u001b[0;32m   5442\u001b[0m     errors: IgnoreRaise \u001b[38;5;241m=\u001b[39m \u001b[38;5;124m\"\u001b[39m\u001b[38;5;124mraise\u001b[39m\u001b[38;5;124m\"\u001b[39m,\n\u001b[0;32m   5443\u001b[0m ) \u001b[38;5;241m-\u001b[39m\u001b[38;5;241m>\u001b[39m DataFrame \u001b[38;5;241m|\u001b[39m \u001b[38;5;28;01mNone\u001b[39;00m:\n\u001b[0;32m   5444\u001b[0m \u001b[38;5;250m    \u001b[39m\u001b[38;5;124;03m\"\"\"\u001b[39;00m\n\u001b[0;32m   5445\u001b[0m \u001b[38;5;124;03m    Drop specified labels from rows or columns.\u001b[39;00m\n\u001b[0;32m   5446\u001b[0m \n\u001b[1;32m   (...)\u001b[0m\n\u001b[0;32m   5579\u001b[0m \u001b[38;5;124;03m            weight  1.0     0.8\u001b[39;00m\n\u001b[0;32m   5580\u001b[0m \u001b[38;5;124;03m    \"\"\"\u001b[39;00m\n\u001b[1;32m-> 5581\u001b[0m     \u001b[38;5;28;01mreturn\u001b[39;00m \u001b[38;5;28;43msuper\u001b[39;49m\u001b[43m(\u001b[49m\u001b[43m)\u001b[49m\u001b[38;5;241;43m.\u001b[39;49m\u001b[43mdrop\u001b[49m\u001b[43m(\u001b[49m\n\u001b[0;32m   5582\u001b[0m \u001b[43m        \u001b[49m\u001b[43mlabels\u001b[49m\u001b[38;5;241;43m=\u001b[39;49m\u001b[43mlabels\u001b[49m\u001b[43m,\u001b[49m\n\u001b[0;32m   5583\u001b[0m \u001b[43m        \u001b[49m\u001b[43maxis\u001b[49m\u001b[38;5;241;43m=\u001b[39;49m\u001b[43maxis\u001b[49m\u001b[43m,\u001b[49m\n\u001b[0;32m   5584\u001b[0m \u001b[43m        \u001b[49m\u001b[43mindex\u001b[49m\u001b[38;5;241;43m=\u001b[39;49m\u001b[43mindex\u001b[49m\u001b[43m,\u001b[49m\n\u001b[0;32m   5585\u001b[0m \u001b[43m        \u001b[49m\u001b[43mcolumns\u001b[49m\u001b[38;5;241;43m=\u001b[39;49m\u001b[43mcolumns\u001b[49m\u001b[43m,\u001b[49m\n\u001b[0;32m   5586\u001b[0m \u001b[43m        \u001b[49m\u001b[43mlevel\u001b[49m\u001b[38;5;241;43m=\u001b[39;49m\u001b[43mlevel\u001b[49m\u001b[43m,\u001b[49m\n\u001b[0;32m   5587\u001b[0m \u001b[43m        \u001b[49m\u001b[43minplace\u001b[49m\u001b[38;5;241;43m=\u001b[39;49m\u001b[43minplace\u001b[49m\u001b[43m,\u001b[49m\n\u001b[0;32m   5588\u001b[0m \u001b[43m        \u001b[49m\u001b[43merrors\u001b[49m\u001b[38;5;241;43m=\u001b[39;49m\u001b[43merrors\u001b[49m\u001b[43m,\u001b[49m\n\u001b[0;32m   5589\u001b[0m \u001b[43m    \u001b[49m\u001b[43m)\u001b[49m\n",
      "File \u001b[1;32mc:\\Users\\extas\\anaconda3\\envs\\Nuclio\\Lib\\site-packages\\pandas\\core\\generic.py:4788\u001b[0m, in \u001b[0;36mNDFrame.drop\u001b[1;34m(self, labels, axis, index, columns, level, inplace, errors)\u001b[0m\n\u001b[0;32m   4786\u001b[0m \u001b[38;5;28;01mfor\u001b[39;00m axis, labels \u001b[38;5;129;01min\u001b[39;00m axes\u001b[38;5;241m.\u001b[39mitems():\n\u001b[0;32m   4787\u001b[0m     \u001b[38;5;28;01mif\u001b[39;00m labels \u001b[38;5;129;01mis\u001b[39;00m \u001b[38;5;129;01mnot\u001b[39;00m \u001b[38;5;28;01mNone\u001b[39;00m:\n\u001b[1;32m-> 4788\u001b[0m         obj \u001b[38;5;241m=\u001b[39m \u001b[43mobj\u001b[49m\u001b[38;5;241;43m.\u001b[39;49m\u001b[43m_drop_axis\u001b[49m\u001b[43m(\u001b[49m\u001b[43mlabels\u001b[49m\u001b[43m,\u001b[49m\u001b[43m \u001b[49m\u001b[43maxis\u001b[49m\u001b[43m,\u001b[49m\u001b[43m \u001b[49m\u001b[43mlevel\u001b[49m\u001b[38;5;241;43m=\u001b[39;49m\u001b[43mlevel\u001b[49m\u001b[43m,\u001b[49m\u001b[43m \u001b[49m\u001b[43merrors\u001b[49m\u001b[38;5;241;43m=\u001b[39;49m\u001b[43merrors\u001b[49m\u001b[43m)\u001b[49m\n\u001b[0;32m   4790\u001b[0m \u001b[38;5;28;01mif\u001b[39;00m inplace:\n\u001b[0;32m   4791\u001b[0m     \u001b[38;5;28mself\u001b[39m\u001b[38;5;241m.\u001b[39m_update_inplace(obj)\n",
      "File \u001b[1;32mc:\\Users\\extas\\anaconda3\\envs\\Nuclio\\Lib\\site-packages\\pandas\\core\\generic.py:4830\u001b[0m, in \u001b[0;36mNDFrame._drop_axis\u001b[1;34m(self, labels, axis, level, errors, only_slice)\u001b[0m\n\u001b[0;32m   4828\u001b[0m         new_axis \u001b[38;5;241m=\u001b[39m axis\u001b[38;5;241m.\u001b[39mdrop(labels, level\u001b[38;5;241m=\u001b[39mlevel, errors\u001b[38;5;241m=\u001b[39merrors)\n\u001b[0;32m   4829\u001b[0m     \u001b[38;5;28;01melse\u001b[39;00m:\n\u001b[1;32m-> 4830\u001b[0m         new_axis \u001b[38;5;241m=\u001b[39m \u001b[43maxis\u001b[49m\u001b[38;5;241;43m.\u001b[39;49m\u001b[43mdrop\u001b[49m\u001b[43m(\u001b[49m\u001b[43mlabels\u001b[49m\u001b[43m,\u001b[49m\u001b[43m \u001b[49m\u001b[43merrors\u001b[49m\u001b[38;5;241;43m=\u001b[39;49m\u001b[43merrors\u001b[49m\u001b[43m)\u001b[49m\n\u001b[0;32m   4831\u001b[0m     indexer \u001b[38;5;241m=\u001b[39m axis\u001b[38;5;241m.\u001b[39mget_indexer(new_axis)\n\u001b[0;32m   4833\u001b[0m \u001b[38;5;66;03m# Case for non-unique axis\u001b[39;00m\n\u001b[0;32m   4834\u001b[0m \u001b[38;5;28;01melse\u001b[39;00m:\n",
      "File \u001b[1;32mc:\\Users\\extas\\anaconda3\\envs\\Nuclio\\Lib\\site-packages\\pandas\\core\\indexes\\base.py:7070\u001b[0m, in \u001b[0;36mIndex.drop\u001b[1;34m(self, labels, errors)\u001b[0m\n\u001b[0;32m   7068\u001b[0m \u001b[38;5;28;01mif\u001b[39;00m mask\u001b[38;5;241m.\u001b[39many():\n\u001b[0;32m   7069\u001b[0m     \u001b[38;5;28;01mif\u001b[39;00m errors \u001b[38;5;241m!=\u001b[39m \u001b[38;5;124m\"\u001b[39m\u001b[38;5;124mignore\u001b[39m\u001b[38;5;124m\"\u001b[39m:\n\u001b[1;32m-> 7070\u001b[0m         \u001b[38;5;28;01mraise\u001b[39;00m \u001b[38;5;167;01mKeyError\u001b[39;00m(\u001b[38;5;124mf\u001b[39m\u001b[38;5;124m\"\u001b[39m\u001b[38;5;132;01m{\u001b[39;00mlabels[mask]\u001b[38;5;241m.\u001b[39mtolist()\u001b[38;5;132;01m}\u001b[39;00m\u001b[38;5;124m not found in axis\u001b[39m\u001b[38;5;124m\"\u001b[39m)\n\u001b[0;32m   7071\u001b[0m     indexer \u001b[38;5;241m=\u001b[39m indexer[\u001b[38;5;241m~\u001b[39mmask]\n\u001b[0;32m   7072\u001b[0m \u001b[38;5;28;01mreturn\u001b[39;00m \u001b[38;5;28mself\u001b[39m\u001b[38;5;241m.\u001b[39mdelete(indexer)\n",
      "\u001b[1;31mKeyError\u001b[0m: \"['campo13', 'tiempo2', 'campo14', 'campo15', 'tiempo3', 'campo16', 'campo17', 'campo18', 'tiempo4', 'campo19'] not found in axis\""
     ]
    }
   ],
   "source": [
    "# eliminacion de columnas \n",
    "redpiso_detalles= redpiso_detalles.drop(columns=[\"campo13\",\"tiempo2\",\"campo14\",\"campo15\",\"tiempo3\",\"campo16\",\"campo17\",\"campo18\",\"tiempo4\",\"campo19\"])"
   ]
  },
  {
   "cell_type": "code",
   "execution_count": 564,
   "metadata": {},
   "outputs": [
    {
     "data": {
      "text/plain": [
       "(1468, 34)"
      ]
     },
     "execution_count": 564,
     "metadata": {},
     "output_type": "execute_result"
    }
   ],
   "source": [
    "redpiso_detalles.shape"
   ]
  },
  {
   "cell_type": "code",
   "execution_count": null,
   "metadata": {},
   "outputs": [],
   "source": [
    "# Reemplazo de valores nulos por ceros y los otros por unos \n",
    "#columnas_binario= [\"amueblado\",\"alarma\",\"porteria\",\"puerta_seguridad\",\"acceso_minusvalido\",\"aire_acondicionado\",\n",
    " #                  \"ascensor\",\"piscina\",\"trastero\",\"Zonas_verdes\"]\n",
    "\n",
    "#redpiso_detalles[columnas_binario]= redpiso_detalles[columnas_binario].notnull().astype(int)\n"
   ]
  },
  {
   "cell_type": "markdown",
   "metadata": {},
   "source": [
    "-----------"
   ]
  },
  {
   "cell_type": "code",
   "execution_count": 629,
   "metadata": {},
   "outputs": [],
   "source": [
    "redpiso_detalles2= redpiso_detalles\n",
    "redpiso_normal2= redpiso_normal"
   ]
  },
  {
   "cell_type": "code",
   "execution_count": 580,
   "metadata": {},
   "outputs": [
    {
     "data": {
      "text/plain": [
       "Index(['title', 'precio', 'descripcion', 'referencia', 'cantidad_visitas',\n",
       "       'fecha_publicacion', 'm2_constr', 'campo9', 'campo10', 'campo11',\n",
       "       'campo12', 'planta', 'banos', 'dormitorios', 'armarios',\n",
       "       'consumo_energetico', 'emisiones_CO2', 'estado', 'antiguedad',\n",
       "       'ascensor', 'tipo_suelo', 'tipo_fachada', 'garaje', 'm2_utiles',\n",
       "       'exterior', 'trastero', 'piscina', 'gastos_comunidad', 'alarma',\n",
       "       'porteria', 'amueblado', 'cocina_equipada', 'num_plantas', 'num_pisos'],\n",
       "      dtype='object')"
      ]
     },
     "execution_count": 580,
     "metadata": {},
     "output_type": "execute_result"
    }
   ],
   "source": [
    "redpiso_detalles2.columns"
   ]
  },
  {
   "cell_type": "code",
   "execution_count": 581,
   "metadata": {},
   "outputs": [
    {
     "data": {
      "text/plain": [
       "cantidad_visitas\n",
       "1002    6\n",
       "767     5\n",
       "330     5\n",
       "373     4\n",
       "916     4\n",
       "       ..\n",
       "128     1\n",
       "272     1\n",
       "262     1\n",
       "441     1\n",
       "72      1\n",
       "Name: count, Length: 1087, dtype: int64"
      ]
     },
     "execution_count": 581,
     "metadata": {},
     "output_type": "execute_result"
    }
   ],
   "source": [
    "redpiso_detalles2[\"cantidad_visitas\"].value_counts(dropna=False)"
   ]
  },
  {
   "cell_type": "code",
   "execution_count": 73,
   "metadata": {},
   "outputs": [
    {
     "data": {
      "text/plain": [
       "Index(['precio', 'url_imagen', 'reservado', 'm2_constr',\n",
       "       'cantidad_habitaciones', 'url', 'descripcion', 'contacto',\n",
       "       'officelink_url', 'nombre_oficina', 'referencia'],\n",
       "      dtype='object')"
      ]
     },
     "execution_count": 73,
     "metadata": {},
     "output_type": "execute_result"
    }
   ],
   "source": [
    "redpiso_normal2.columns      #A diferencia del notebook donde se hizo la el trabajo inicialmente aqui tengo la columna officeling_url "
   ]
  },
  {
   "cell_type": "code",
   "execution_count": 582,
   "metadata": {},
   "outputs": [
    {
     "data": {
      "text/plain": [
       "precio             0\n",
       "reservado          0\n",
       "m2_constr          3\n",
       "dormitorios        2\n",
       "banos             34\n",
       "url                0\n",
       "title              0\n",
       "officelink_url     0\n",
       "nombre_oficina     0\n",
       "referencia         0\n",
       "dtype: int64"
      ]
     },
     "execution_count": 582,
     "metadata": {},
     "output_type": "execute_result"
    }
   ],
   "source": [
    "redpiso_normal2.isna().sum()"
   ]
  },
  {
   "cell_type": "code",
   "execution_count": 568,
   "metadata": {},
   "outputs": [
    {
     "data": {
      "text/plain": [
       "(1468, 34)"
      ]
     },
     "execution_count": 568,
     "metadata": {},
     "output_type": "execute_result"
    }
   ],
   "source": [
    "redpiso_detalles2.shape"
   ]
  },
  {
   "cell_type": "code",
   "execution_count": 569,
   "metadata": {},
   "outputs": [
    {
     "data": {
      "text/plain": [
       "(1468, 10)"
      ]
     },
     "execution_count": 569,
     "metadata": {},
     "output_type": "execute_result"
    }
   ],
   "source": [
    "redpiso_normal2.shape"
   ]
  },
  {
   "cell_type": "code",
   "execution_count": 77,
   "metadata": {},
   "outputs": [],
   "source": [
    "#redpiso_detalles2[\"dormitorios\"] = redpiso_detalles2[\"dormitorios\"].fillna(redpiso_normal2[\"habitaciones\"].reindex(redpiso_normal2.index))"
   ]
  },
  {
   "cell_type": "code",
   "execution_count": 610,
   "metadata": {},
   "outputs": [],
   "source": [
    "redpiso_detalles2[\"dormitorios\"]= redpiso_detalles2[\"dormitorios\"].astype(str)\n",
    "redpiso_detalles2[\"banos\"]= redpiso_detalles2[\"banos\"].astype(str)\n",
    "redpiso_detalles2[\"m2_constr\"]= redpiso_detalles2[\"m2_constr\"].astype(str) \n",
    "redpiso_detalles2[\"armarios\"]= redpiso_detalles2[\"armarios\"].astype(str)\n",
    "redpiso_detalles2[\"cantidad_visitas\"]= redpiso_detalles2[\"cantidad_visitas\"].astype(str)"
   ]
  },
  {
   "cell_type": "code",
   "execution_count": 83,
   "metadata": {},
   "outputs": [],
   "source": [
    "# redpiso_detalles['fecha_publicacion'] = pd.to_datetime(redpiso_detalles['fecha_publicacion'].astype(str), format='%d%m%Y')"
   ]
  },
  {
   "cell_type": "code",
   "execution_count": 618,
   "metadata": {},
   "outputs": [],
   "source": [
    "col_tiponuevo= [\"precio\",\"m2_constr\",\"dormitorios\",\"banos\",\"armarios\"]\n",
    "\n",
    "redpiso_detalles2 = redpiso_detalles2.replace(\"nan\",0)\n",
    "redpiso_detalles2[col_tiponuevo]=redpiso_detalles2[col_tiponuevo].fillna(0)\n",
    "\n",
    "# Eliminar los separadores de miles solo para los valores mayores a 1.000.000\n",
    "redpiso_detalles2['precio'] = redpiso_detalles2['precio'].apply(lambda x: x.replace('.', '') if float(x.replace('.', '')) >= 1000000 else x)\n",
    "redpiso_detalles2[col_tiponuevo] = redpiso_detalles2[col_tiponuevo].astype(\"float\")\n",
    "\n",
    "redpiso_detalles2[col_tiponuevo]=redpiso_detalles2[col_tiponuevo].replace(0,np.nan)\n"
   ]
  },
  {
   "cell_type": "code",
   "execution_count": 619,
   "metadata": {},
   "outputs": [],
   "source": [
    "redpiso_detalles2=redpiso_detalles2.dropna(subset=[\"precio\"])\n",
    "redpiso_normal2= redpiso_normal2.dropna(subset=[\"precio\"])"
   ]
  },
  {
   "cell_type": "code",
   "execution_count": 620,
   "metadata": {},
   "outputs": [
    {
     "data": {
      "text/plain": [
       "((1468, 34), (1468, 10))"
      ]
     },
     "execution_count": 620,
     "metadata": {},
     "output_type": "execute_result"
    }
   ],
   "source": [
    "redpiso_detalles2.shape,redpiso_normal2.shape"
   ]
  },
  {
   "cell_type": "code",
   "execution_count": null,
   "metadata": {},
   "outputs": [],
   "source": [
    "#nuevos_nombres={\n",
    " #   \"descripcion\":\"titulo\",\n",
    "  #  \"cantidad_habitaciones\":\"cantidad_dormitorios\"\n",
    "#}\n",
    "#redpiso_normal2= redpiso_normal2.rename(columns=nuevos_nombres)"
   ]
  },
  {
   "cell_type": "code",
   "execution_count": 90,
   "metadata": {},
   "outputs": [],
   "source": [
    "#redpiso_detalles2[\"espacio_metros_cuadrados\"]=redpiso_detalles2[\"espacio_metros_cuadrados\"].fillna(0) #Tenia dos nulos \n",
    "#redpiso_detalles2[\"dormitorios\"]=redpiso_detalles2[\"cantidad_dormitorios\"].fillna(0) #Tenia dos nulos"
   ]
  },
  {
   "cell_type": "code",
   "execution_count": null,
   "metadata": {},
   "outputs": [
    {
     "ename": "ValueError",
     "evalue": "could not convert string to float: '1.380.000 '",
     "output_type": "error",
     "traceback": [
      "\u001b[1;31m---------------------------------------------------------------------------\u001b[0m",
      "\u001b[1;31mValueError\u001b[0m                                Traceback (most recent call last)",
      "Cell \u001b[1;32mIn[630], line 2\u001b[0m\n\u001b[0;32m      1\u001b[0m redpiso_normal2[\u001b[38;5;124m\"\u001b[39m\u001b[38;5;124mprecio\u001b[39m\u001b[38;5;124m\"\u001b[39m]\u001b[38;5;241m=\u001b[39mredpiso_normal2[\u001b[38;5;124m\"\u001b[39m\u001b[38;5;124mprecio\u001b[39m\u001b[38;5;124m\"\u001b[39m]\u001b[38;5;241m.\u001b[39mastype(\u001b[38;5;124m\"\u001b[39m\u001b[38;5;124mfloat\u001b[39m\u001b[38;5;124m\"\u001b[39m)\n\u001b[1;32m----> 2\u001b[0m redpiso_detalles2[\u001b[38;5;124m\"\u001b[39m\u001b[38;5;124mprecio\u001b[39m\u001b[38;5;124m\"\u001b[39m]\u001b[38;5;241m=\u001b[39m\u001b[43mredpiso_detalles2\u001b[49m\u001b[43m[\u001b[49m\u001b[38;5;124;43m\"\u001b[39;49m\u001b[38;5;124;43mprecio\u001b[39;49m\u001b[38;5;124;43m\"\u001b[39;49m\u001b[43m]\u001b[49m\u001b[38;5;241;43m.\u001b[39;49m\u001b[43mastype\u001b[49m\u001b[43m(\u001b[49m\u001b[38;5;124;43m\"\u001b[39;49m\u001b[38;5;124;43mfloat\u001b[39;49m\u001b[38;5;124;43m\"\u001b[39;49m\u001b[43m)\u001b[49m\n\u001b[0;32m      3\u001b[0m redpiso_detalles2[\u001b[38;5;124m\"\u001b[39m\u001b[38;5;124mdormitorios\u001b[39m\u001b[38;5;124m\"\u001b[39m]\u001b[38;5;241m=\u001b[39mredpiso_detalles2[\u001b[38;5;124m\"\u001b[39m\u001b[38;5;124mdormitorios\u001b[39m\u001b[38;5;124m\"\u001b[39m]\u001b[38;5;241m.\u001b[39mastype(\u001b[38;5;124m\"\u001b[39m\u001b[38;5;124mint\u001b[39m\u001b[38;5;124m\"\u001b[39m)\n\u001b[0;32m      4\u001b[0m redpiso_detalles2[\u001b[38;5;124m\"\u001b[39m\u001b[38;5;124mm2_constr\u001b[39m\u001b[38;5;124m\"\u001b[39m]\u001b[38;5;241m=\u001b[39mredpiso_detalles2[\u001b[38;5;124m\"\u001b[39m\u001b[38;5;124mm2_constr\u001b[39m\u001b[38;5;124m\"\u001b[39m]\u001b[38;5;241m.\u001b[39mastype(\u001b[38;5;124m\"\u001b[39m\u001b[38;5;124mfloat\u001b[39m\u001b[38;5;124m\"\u001b[39m)\n",
      "File \u001b[1;32mc:\\Users\\extas\\anaconda3\\envs\\Nuclio\\Lib\\site-packages\\pandas\\core\\generic.py:6643\u001b[0m, in \u001b[0;36mNDFrame.astype\u001b[1;34m(self, dtype, copy, errors)\u001b[0m\n\u001b[0;32m   6637\u001b[0m     results \u001b[38;5;241m=\u001b[39m [\n\u001b[0;32m   6638\u001b[0m         ser\u001b[38;5;241m.\u001b[39mastype(dtype, copy\u001b[38;5;241m=\u001b[39mcopy, errors\u001b[38;5;241m=\u001b[39merrors) \u001b[38;5;28;01mfor\u001b[39;00m _, ser \u001b[38;5;129;01min\u001b[39;00m \u001b[38;5;28mself\u001b[39m\u001b[38;5;241m.\u001b[39mitems()\n\u001b[0;32m   6639\u001b[0m     ]\n\u001b[0;32m   6641\u001b[0m \u001b[38;5;28;01melse\u001b[39;00m:\n\u001b[0;32m   6642\u001b[0m     \u001b[38;5;66;03m# else, only a single dtype is given\u001b[39;00m\n\u001b[1;32m-> 6643\u001b[0m     new_data \u001b[38;5;241m=\u001b[39m \u001b[38;5;28;43mself\u001b[39;49m\u001b[38;5;241;43m.\u001b[39;49m\u001b[43m_mgr\u001b[49m\u001b[38;5;241;43m.\u001b[39;49m\u001b[43mastype\u001b[49m\u001b[43m(\u001b[49m\u001b[43mdtype\u001b[49m\u001b[38;5;241;43m=\u001b[39;49m\u001b[43mdtype\u001b[49m\u001b[43m,\u001b[49m\u001b[43m \u001b[49m\u001b[43mcopy\u001b[49m\u001b[38;5;241;43m=\u001b[39;49m\u001b[43mcopy\u001b[49m\u001b[43m,\u001b[49m\u001b[43m \u001b[49m\u001b[43merrors\u001b[49m\u001b[38;5;241;43m=\u001b[39;49m\u001b[43merrors\u001b[49m\u001b[43m)\u001b[49m\n\u001b[0;32m   6644\u001b[0m     res \u001b[38;5;241m=\u001b[39m \u001b[38;5;28mself\u001b[39m\u001b[38;5;241m.\u001b[39m_constructor_from_mgr(new_data, axes\u001b[38;5;241m=\u001b[39mnew_data\u001b[38;5;241m.\u001b[39maxes)\n\u001b[0;32m   6645\u001b[0m     \u001b[38;5;28;01mreturn\u001b[39;00m res\u001b[38;5;241m.\u001b[39m__finalize__(\u001b[38;5;28mself\u001b[39m, method\u001b[38;5;241m=\u001b[39m\u001b[38;5;124m\"\u001b[39m\u001b[38;5;124mastype\u001b[39m\u001b[38;5;124m\"\u001b[39m)\n",
      "File \u001b[1;32mc:\\Users\\extas\\anaconda3\\envs\\Nuclio\\Lib\\site-packages\\pandas\\core\\internals\\managers.py:430\u001b[0m, in \u001b[0;36mBaseBlockManager.astype\u001b[1;34m(self, dtype, copy, errors)\u001b[0m\n\u001b[0;32m    427\u001b[0m \u001b[38;5;28;01melif\u001b[39;00m using_copy_on_write():\n\u001b[0;32m    428\u001b[0m     copy \u001b[38;5;241m=\u001b[39m \u001b[38;5;28;01mFalse\u001b[39;00m\n\u001b[1;32m--> 430\u001b[0m \u001b[38;5;28;01mreturn\u001b[39;00m \u001b[38;5;28;43mself\u001b[39;49m\u001b[38;5;241;43m.\u001b[39;49m\u001b[43mapply\u001b[49m\u001b[43m(\u001b[49m\n\u001b[0;32m    431\u001b[0m \u001b[43m    \u001b[49m\u001b[38;5;124;43m\"\u001b[39;49m\u001b[38;5;124;43mastype\u001b[39;49m\u001b[38;5;124;43m\"\u001b[39;49m\u001b[43m,\u001b[49m\n\u001b[0;32m    432\u001b[0m \u001b[43m    \u001b[49m\u001b[43mdtype\u001b[49m\u001b[38;5;241;43m=\u001b[39;49m\u001b[43mdtype\u001b[49m\u001b[43m,\u001b[49m\n\u001b[0;32m    433\u001b[0m \u001b[43m    \u001b[49m\u001b[43mcopy\u001b[49m\u001b[38;5;241;43m=\u001b[39;49m\u001b[43mcopy\u001b[49m\u001b[43m,\u001b[49m\n\u001b[0;32m    434\u001b[0m \u001b[43m    \u001b[49m\u001b[43merrors\u001b[49m\u001b[38;5;241;43m=\u001b[39;49m\u001b[43merrors\u001b[49m\u001b[43m,\u001b[49m\n\u001b[0;32m    435\u001b[0m \u001b[43m    \u001b[49m\u001b[43musing_cow\u001b[49m\u001b[38;5;241;43m=\u001b[39;49m\u001b[43musing_copy_on_write\u001b[49m\u001b[43m(\u001b[49m\u001b[43m)\u001b[49m\u001b[43m,\u001b[49m\n\u001b[0;32m    436\u001b[0m \u001b[43m\u001b[49m\u001b[43m)\u001b[49m\n",
      "File \u001b[1;32mc:\\Users\\extas\\anaconda3\\envs\\Nuclio\\Lib\\site-packages\\pandas\\core\\internals\\managers.py:363\u001b[0m, in \u001b[0;36mBaseBlockManager.apply\u001b[1;34m(self, f, align_keys, **kwargs)\u001b[0m\n\u001b[0;32m    361\u001b[0m         applied \u001b[38;5;241m=\u001b[39m b\u001b[38;5;241m.\u001b[39mapply(f, \u001b[38;5;241m*\u001b[39m\u001b[38;5;241m*\u001b[39mkwargs)\n\u001b[0;32m    362\u001b[0m     \u001b[38;5;28;01melse\u001b[39;00m:\n\u001b[1;32m--> 363\u001b[0m         applied \u001b[38;5;241m=\u001b[39m \u001b[38;5;28;43mgetattr\u001b[39;49m\u001b[43m(\u001b[49m\u001b[43mb\u001b[49m\u001b[43m,\u001b[49m\u001b[43m \u001b[49m\u001b[43mf\u001b[49m\u001b[43m)\u001b[49m\u001b[43m(\u001b[49m\u001b[38;5;241;43m*\u001b[39;49m\u001b[38;5;241;43m*\u001b[39;49m\u001b[43mkwargs\u001b[49m\u001b[43m)\u001b[49m\n\u001b[0;32m    364\u001b[0m     result_blocks \u001b[38;5;241m=\u001b[39m extend_blocks(applied, result_blocks)\n\u001b[0;32m    366\u001b[0m out \u001b[38;5;241m=\u001b[39m \u001b[38;5;28mtype\u001b[39m(\u001b[38;5;28mself\u001b[39m)\u001b[38;5;241m.\u001b[39mfrom_blocks(result_blocks, \u001b[38;5;28mself\u001b[39m\u001b[38;5;241m.\u001b[39maxes)\n",
      "File \u001b[1;32mc:\\Users\\extas\\anaconda3\\envs\\Nuclio\\Lib\\site-packages\\pandas\\core\\internals\\blocks.py:758\u001b[0m, in \u001b[0;36mBlock.astype\u001b[1;34m(self, dtype, copy, errors, using_cow, squeeze)\u001b[0m\n\u001b[0;32m    755\u001b[0m         \u001b[38;5;28;01mraise\u001b[39;00m \u001b[38;5;167;01mValueError\u001b[39;00m(\u001b[38;5;124m\"\u001b[39m\u001b[38;5;124mCan not squeeze with more than one column.\u001b[39m\u001b[38;5;124m\"\u001b[39m)\n\u001b[0;32m    756\u001b[0m     values \u001b[38;5;241m=\u001b[39m values[\u001b[38;5;241m0\u001b[39m, :]  \u001b[38;5;66;03m# type: ignore[call-overload]\u001b[39;00m\n\u001b[1;32m--> 758\u001b[0m new_values \u001b[38;5;241m=\u001b[39m \u001b[43mastype_array_safe\u001b[49m\u001b[43m(\u001b[49m\u001b[43mvalues\u001b[49m\u001b[43m,\u001b[49m\u001b[43m \u001b[49m\u001b[43mdtype\u001b[49m\u001b[43m,\u001b[49m\u001b[43m \u001b[49m\u001b[43mcopy\u001b[49m\u001b[38;5;241;43m=\u001b[39;49m\u001b[43mcopy\u001b[49m\u001b[43m,\u001b[49m\u001b[43m \u001b[49m\u001b[43merrors\u001b[49m\u001b[38;5;241;43m=\u001b[39;49m\u001b[43merrors\u001b[49m\u001b[43m)\u001b[49m\n\u001b[0;32m    760\u001b[0m new_values \u001b[38;5;241m=\u001b[39m maybe_coerce_values(new_values)\n\u001b[0;32m    762\u001b[0m refs \u001b[38;5;241m=\u001b[39m \u001b[38;5;28;01mNone\u001b[39;00m\n",
      "File \u001b[1;32mc:\\Users\\extas\\anaconda3\\envs\\Nuclio\\Lib\\site-packages\\pandas\\core\\dtypes\\astype.py:237\u001b[0m, in \u001b[0;36mastype_array_safe\u001b[1;34m(values, dtype, copy, errors)\u001b[0m\n\u001b[0;32m    234\u001b[0m     dtype \u001b[38;5;241m=\u001b[39m dtype\u001b[38;5;241m.\u001b[39mnumpy_dtype\n\u001b[0;32m    236\u001b[0m \u001b[38;5;28;01mtry\u001b[39;00m:\n\u001b[1;32m--> 237\u001b[0m     new_values \u001b[38;5;241m=\u001b[39m \u001b[43mastype_array\u001b[49m\u001b[43m(\u001b[49m\u001b[43mvalues\u001b[49m\u001b[43m,\u001b[49m\u001b[43m \u001b[49m\u001b[43mdtype\u001b[49m\u001b[43m,\u001b[49m\u001b[43m \u001b[49m\u001b[43mcopy\u001b[49m\u001b[38;5;241;43m=\u001b[39;49m\u001b[43mcopy\u001b[49m\u001b[43m)\u001b[49m\n\u001b[0;32m    238\u001b[0m \u001b[38;5;28;01mexcept\u001b[39;00m (\u001b[38;5;167;01mValueError\u001b[39;00m, \u001b[38;5;167;01mTypeError\u001b[39;00m):\n\u001b[0;32m    239\u001b[0m     \u001b[38;5;66;03m# e.g. _astype_nansafe can fail on object-dtype of strings\u001b[39;00m\n\u001b[0;32m    240\u001b[0m     \u001b[38;5;66;03m#  trying to convert to float\u001b[39;00m\n\u001b[0;32m    241\u001b[0m     \u001b[38;5;28;01mif\u001b[39;00m errors \u001b[38;5;241m==\u001b[39m \u001b[38;5;124m\"\u001b[39m\u001b[38;5;124mignore\u001b[39m\u001b[38;5;124m\"\u001b[39m:\n",
      "File \u001b[1;32mc:\\Users\\extas\\anaconda3\\envs\\Nuclio\\Lib\\site-packages\\pandas\\core\\dtypes\\astype.py:182\u001b[0m, in \u001b[0;36mastype_array\u001b[1;34m(values, dtype, copy)\u001b[0m\n\u001b[0;32m    179\u001b[0m     values \u001b[38;5;241m=\u001b[39m values\u001b[38;5;241m.\u001b[39mastype(dtype, copy\u001b[38;5;241m=\u001b[39mcopy)\n\u001b[0;32m    181\u001b[0m \u001b[38;5;28;01melse\u001b[39;00m:\n\u001b[1;32m--> 182\u001b[0m     values \u001b[38;5;241m=\u001b[39m \u001b[43m_astype_nansafe\u001b[49m\u001b[43m(\u001b[49m\u001b[43mvalues\u001b[49m\u001b[43m,\u001b[49m\u001b[43m \u001b[49m\u001b[43mdtype\u001b[49m\u001b[43m,\u001b[49m\u001b[43m \u001b[49m\u001b[43mcopy\u001b[49m\u001b[38;5;241;43m=\u001b[39;49m\u001b[43mcopy\u001b[49m\u001b[43m)\u001b[49m\n\u001b[0;32m    184\u001b[0m \u001b[38;5;66;03m# in pandas we don't store numpy str dtypes, so convert to object\u001b[39;00m\n\u001b[0;32m    185\u001b[0m \u001b[38;5;28;01mif\u001b[39;00m \u001b[38;5;28misinstance\u001b[39m(dtype, np\u001b[38;5;241m.\u001b[39mdtype) \u001b[38;5;129;01mand\u001b[39;00m \u001b[38;5;28missubclass\u001b[39m(values\u001b[38;5;241m.\u001b[39mdtype\u001b[38;5;241m.\u001b[39mtype, \u001b[38;5;28mstr\u001b[39m):\n",
      "File \u001b[1;32mc:\\Users\\extas\\anaconda3\\envs\\Nuclio\\Lib\\site-packages\\pandas\\core\\dtypes\\astype.py:133\u001b[0m, in \u001b[0;36m_astype_nansafe\u001b[1;34m(arr, dtype, copy, skipna)\u001b[0m\n\u001b[0;32m    129\u001b[0m     \u001b[38;5;28;01mraise\u001b[39;00m \u001b[38;5;167;01mValueError\u001b[39;00m(msg)\n\u001b[0;32m    131\u001b[0m \u001b[38;5;28;01mif\u001b[39;00m copy \u001b[38;5;129;01mor\u001b[39;00m arr\u001b[38;5;241m.\u001b[39mdtype \u001b[38;5;241m==\u001b[39m \u001b[38;5;28mobject\u001b[39m \u001b[38;5;129;01mor\u001b[39;00m dtype \u001b[38;5;241m==\u001b[39m \u001b[38;5;28mobject\u001b[39m:\n\u001b[0;32m    132\u001b[0m     \u001b[38;5;66;03m# Explicit copy, or required since NumPy can't view from / to object.\u001b[39;00m\n\u001b[1;32m--> 133\u001b[0m     \u001b[38;5;28;01mreturn\u001b[39;00m \u001b[43marr\u001b[49m\u001b[38;5;241;43m.\u001b[39;49m\u001b[43mastype\u001b[49m\u001b[43m(\u001b[49m\u001b[43mdtype\u001b[49m\u001b[43m,\u001b[49m\u001b[43m \u001b[49m\u001b[43mcopy\u001b[49m\u001b[38;5;241;43m=\u001b[39;49m\u001b[38;5;28;43;01mTrue\u001b[39;49;00m\u001b[43m)\u001b[49m\n\u001b[0;32m    135\u001b[0m \u001b[38;5;28;01mreturn\u001b[39;00m arr\u001b[38;5;241m.\u001b[39mastype(dtype, copy\u001b[38;5;241m=\u001b[39mcopy)\n",
      "\u001b[1;31mValueError\u001b[0m: could not convert string to float: '1.380.000 '"
     ]
    }
   ],
   "source": [
    "#redpiso_normal2[\"precio\"]=redpiso_normal2[\"precio\"].astype(\"float\")\n",
    "#redpiso_detalles2[\"precio\"]=redpiso_detalles2[\"precio\"].astype(\"float\")\n",
    "#redpiso_detalles2[\"dormitorios\"]=redpiso_detalles2[\"dormitorios\"].astype(\"int\")\n",
    "#redpiso_detalles2[\"m2_constr\"]=redpiso_detalles2[\"m2_constr\"].astype(\"float\")"
   ]
  },
  {
   "cell_type": "code",
   "execution_count": 92,
   "metadata": {},
   "outputs": [
    {
     "data": {
      "text/html": [
       "<div>\n",
       "<style scoped>\n",
       "    .dataframe tbody tr th:only-of-type {\n",
       "        vertical-align: middle;\n",
       "    }\n",
       "\n",
       "    .dataframe tbody tr th {\n",
       "        vertical-align: top;\n",
       "    }\n",
       "\n",
       "    .dataframe thead th {\n",
       "        text-align: right;\n",
       "    }\n",
       "</style>\n",
       "<table border=\"1\" class=\"dataframe\">\n",
       "  <thead>\n",
       "    <tr style=\"text-align: right;\">\n",
       "      <th></th>\n",
       "      <th>precio</th>\n",
       "      <th>url_imagen</th>\n",
       "      <th>reservado</th>\n",
       "      <th>m2_constr</th>\n",
       "      <th>cantidad_dormitorios</th>\n",
       "      <th>url</th>\n",
       "      <th>titulo</th>\n",
       "      <th>contacto</th>\n",
       "      <th>officelink_url</th>\n",
       "      <th>nombre_oficina</th>\n",
       "      <th>referencia</th>\n",
       "    </tr>\n",
       "  </thead>\n",
       "  <tbody>\n",
       "    <tr>\n",
       "      <th>0</th>\n",
       "      <td>106500</td>\n",
       "      <td>NaN</td>\n",
       "      <td>1</td>\n",
       "      <td>64</td>\n",
       "      <td>2</td>\n",
       "      <td>https://www.redpiso.es/inmueble/piso-en-venta-...</td>\n",
       "      <td>Piso en venta en CALLE BENIMAMET San Cristóbal...</td>\n",
       "      <td>919208536</td>\n",
       "      <td>httpswwwredpisoesoficinainmobiliariasancristob...</td>\n",
       "      <td>REDPISO SAN CRISTOBAL</td>\n",
       "      <td>RP2842024125161</td>\n",
       "    </tr>\n",
       "    <tr>\n",
       "      <th>1</th>\n",
       "      <td>119000</td>\n",
       "      <td>NaN</td>\n",
       "      <td>0</td>\n",
       "      <td>30</td>\n",
       "      <td>1</td>\n",
       "      <td>https://www.redpiso.es/inmueble/piso-en-venta-...</td>\n",
       "      <td>Piso en venta en Usera Madrid Madrid</td>\n",
       "      <td>914282010</td>\n",
       "      <td>httpswwwredpisoesoficinainmobiliariauseraorcas...</td>\n",
       "      <td>REDPISO USERAORCASITAS</td>\n",
       "      <td>RP782024130863</td>\n",
       "    </tr>\n",
       "    <tr>\n",
       "      <th>2</th>\n",
       "      <td>120000</td>\n",
       "      <td>NaN</td>\n",
       "      <td>1</td>\n",
       "      <td>37</td>\n",
       "      <td>1</td>\n",
       "      <td>https://www.redpiso.es/inmueble/piso-en-venta-...</td>\n",
       "      <td>Piso en venta en Buenavista Carabanchel Madrid...</td>\n",
       "      <td>915996359</td>\n",
       "      <td>httpswwwredpisoesoficinainmobiliariapaucaraban...</td>\n",
       "      <td>REDPISO PAU CARABANCHEL</td>\n",
       "      <td>RP442024126007</td>\n",
       "    </tr>\n",
       "    <tr>\n",
       "      <th>3</th>\n",
       "      <td>120000</td>\n",
       "      <td>NaN</td>\n",
       "      <td>1</td>\n",
       "      <td>33</td>\n",
       "      <td>1</td>\n",
       "      <td>https://www.redpiso.es/inmueble/piso-en-venta-...</td>\n",
       "      <td>Piso en venta en Buenavista Carabanchel Madrid...</td>\n",
       "      <td>915996359</td>\n",
       "      <td>httpswwwredpisoesoficinainmobiliariapaucaraban...</td>\n",
       "      <td>REDPISO PAU CARABANCHEL</td>\n",
       "      <td>RP442024126427</td>\n",
       "    </tr>\n",
       "    <tr>\n",
       "      <th>4</th>\n",
       "      <td>127500</td>\n",
       "      <td>httpswwwredpisoesuploadpropertiesthumbsimg_951...</td>\n",
       "      <td>1</td>\n",
       "      <td>58</td>\n",
       "      <td>3</td>\n",
       "      <td>https://www.redpiso.es/inmueble/piso-en-venta-...</td>\n",
       "      <td>Piso en venta en CALLE BENIFERRI San Cristóbal...</td>\n",
       "      <td>919208536</td>\n",
       "      <td>httpswwwredpisoesoficinainmobiliariasancristob...</td>\n",
       "      <td>REDPISO SAN CRISTOBAL</td>\n",
       "      <td>RP2842024130186</td>\n",
       "    </tr>\n",
       "  </tbody>\n",
       "</table>\n",
       "</div>"
      ],
      "text/plain": [
       "   precio                                         url_imagen  reservado  \\\n",
       "0  106500                                                NaN          1   \n",
       "1  119000                                                NaN          0   \n",
       "2  120000                                                NaN          1   \n",
       "3  120000                                                NaN          1   \n",
       "4  127500  httpswwwredpisoesuploadpropertiesthumbsimg_951...          1   \n",
       "\n",
       "  m2_constr cantidad_dormitorios  \\\n",
       "0        64                    2   \n",
       "1        30                    1   \n",
       "2        37                    1   \n",
       "3        33                    1   \n",
       "4        58                    3   \n",
       "\n",
       "                                                 url  \\\n",
       "0  https://www.redpiso.es/inmueble/piso-en-venta-...   \n",
       "1  https://www.redpiso.es/inmueble/piso-en-venta-...   \n",
       "2  https://www.redpiso.es/inmueble/piso-en-venta-...   \n",
       "3  https://www.redpiso.es/inmueble/piso-en-venta-...   \n",
       "4  https://www.redpiso.es/inmueble/piso-en-venta-...   \n",
       "\n",
       "                                              titulo   contacto  \\\n",
       "0  Piso en venta en CALLE BENIMAMET San Cristóbal...  919208536   \n",
       "1               Piso en venta en Usera Madrid Madrid  914282010   \n",
       "2  Piso en venta en Buenavista Carabanchel Madrid...  915996359   \n",
       "3  Piso en venta en Buenavista Carabanchel Madrid...  915996359   \n",
       "4  Piso en venta en CALLE BENIFERRI San Cristóbal...  919208536   \n",
       "\n",
       "                                      officelink_url           nombre_oficina  \\\n",
       "0  httpswwwredpisoesoficinainmobiliariasancristob...    REDPISO SAN CRISTOBAL   \n",
       "1  httpswwwredpisoesoficinainmobiliariauseraorcas...   REDPISO USERAORCASITAS   \n",
       "2  httpswwwredpisoesoficinainmobiliariapaucaraban...  REDPISO PAU CARABANCHEL   \n",
       "3  httpswwwredpisoesoficinainmobiliariapaucaraban...  REDPISO PAU CARABANCHEL   \n",
       "4  httpswwwredpisoesoficinainmobiliariasancristob...    REDPISO SAN CRISTOBAL   \n",
       "\n",
       "        referencia  \n",
       "0  RP2842024125161  \n",
       "1   RP782024130863  \n",
       "2   RP442024126007  \n",
       "3   RP442024126427  \n",
       "4  RP2842024130186  "
      ]
     },
     "execution_count": 92,
     "metadata": {},
     "output_type": "execute_result"
    }
   ],
   "source": [
    "redpiso_normal2.head(5)"
   ]
  },
  {
   "cell_type": "code",
   "execution_count": 93,
   "metadata": {},
   "outputs": [
    {
     "data": {
      "text/plain": [
       "precio                  object\n",
       "url_imagen              object\n",
       "reservado                int64\n",
       "m2_constr               object\n",
       "cantidad_dormitorios    object\n",
       "url                     object\n",
       "titulo                  object\n",
       "contacto                object\n",
       "officelink_url          object\n",
       "nombre_oficina          object\n",
       "referencia              object\n",
       "dtype: object"
      ]
     },
     "execution_count": 93,
     "metadata": {},
     "output_type": "execute_result"
    }
   ],
   "source": [
    "redpiso_normal2.dtypes"
   ]
  },
  {
   "cell_type": "code",
   "execution_count": 94,
   "metadata": {},
   "outputs": [],
   "source": [
    "#redpiso_normal2[\"espacio_metros_cuadrados\"]=redpiso_normal2[\"espacio_metros_cuadrados\"].fillna(0) #Tenia 4 nulos \n",
    "#redpiso_normal2[\"cantidad_dormitorios\"]=redpiso_normal2[\"cantidad_dormitorios\"].fillna(0) #Tenia 3 nulos"
   ]
  },
  {
   "cell_type": "code",
   "execution_count": null,
   "metadata": {},
   "outputs": [],
   "source": [
    "#redpiso_normal2[\"precio\"]=redpiso_normal2[\"precio\"].astype(\"float\")\n",
    "#redpiso_normal2[\"espacio_metros_cuadrados\"]=redpiso_normal2[\"espacio_metros_cuadrados\"].astype(\"float\")\n",
    "\n"
   ]
  },
  {
   "cell_type": "code",
   "execution_count": 96,
   "metadata": {},
   "outputs": [
    {
     "data": {
      "text/plain": [
       "título                       object\n",
       "precio                      float64\n",
       "referencia                   object\n",
       "cantidad_visitas             object\n",
       "fecha_publicacion            object\n",
       "espacio_metros_cuadrados    float64\n",
       "banos                       float64\n",
       "campo10                      object\n",
       "campo11                      object\n",
       "campo12                      object\n",
       "dormitorios                 float64\n",
       "cantidad_armarios           float64\n",
       "consumo_energia              object\n",
       "emisiones_CO2                object\n",
       "cal_energetica               object\n",
       "estado                       object\n",
       "antiguedad                   object\n",
       "ascensor                      int32\n",
       "aire_acondicionado            int32\n",
       "orientacion                  object\n",
       "agua_caliente                object\n",
       "calefaccion                  object\n",
       "Tipo de suelo_fachada        object\n",
       "cocina_equipada               int32\n",
       "garaje                       object\n",
       "m2_utiles                    object\n",
       "vista_zona                   object\n",
       "piscina                       int32\n",
       "trastero                      int32\n",
       "gastos_comunidad             object\n",
       "Zonas_verdes                  int32\n",
       "terrazas                     object\n",
       "acceso_minusvalido            int32\n",
       "puerta_seguridad              int32\n",
       "conserje                      int32\n",
       "num_plantas                  object\n",
       "num_pisos                    object\n",
       "alarma                        int32\n",
       "amueblado                     int32\n",
       "dtype: object"
      ]
     },
     "execution_count": 96,
     "metadata": {},
     "output_type": "execute_result"
    }
   ],
   "source": [
    "redpiso_detalles2.dtypes"
   ]
  },
  {
   "cell_type": "code",
   "execution_count": 97,
   "metadata": {},
   "outputs": [],
   "source": [
    "redpiso_detalles2 = redpiso_detalles2.rename(columns={\"título\":\"titulo\"})"
   ]
  },
  {
   "cell_type": "code",
   "execution_count": 98,
   "metadata": {},
   "outputs": [
    {
     "data": {
      "text/plain": [
       "Index(['precio', 'url_imagen', 'reservado', 'm2_constr',\n",
       "       'cantidad_dormitorios', 'url', 'titulo', 'contacto', 'officelink_url',\n",
       "       'nombre_oficina', 'referencia'],\n",
       "      dtype='object')"
      ]
     },
     "execution_count": 98,
     "metadata": {},
     "output_type": "execute_result"
    }
   ],
   "source": [
    "redpiso_normal2.columns"
   ]
  },
  {
   "cell_type": "code",
   "execution_count": 99,
   "metadata": {},
   "outputs": [
    {
     "data": {
      "text/plain": [
       "((1468, 39), (1468, 11))"
      ]
     },
     "execution_count": 99,
     "metadata": {},
     "output_type": "execute_result"
    }
   ],
   "source": [
    "redpiso_detalles2.shape,redpiso_normal2.shape"
   ]
  },
  {
   "cell_type": "code",
   "execution_count": 587,
   "metadata": {},
   "outputs": [
    {
     "ename": "KeyError",
     "evalue": "'titulo'",
     "output_type": "error",
     "traceback": [
      "\u001b[1;31m---------------------------------------------------------------------------\u001b[0m",
      "\u001b[1;31mKeyError\u001b[0m                                  Traceback (most recent call last)",
      "File \u001b[1;32mc:\\Users\\extas\\anaconda3\\envs\\Nuclio\\Lib\\site-packages\\pandas\\core\\indexes\\base.py:3805\u001b[0m, in \u001b[0;36mIndex.get_loc\u001b[1;34m(self, key)\u001b[0m\n\u001b[0;32m   3804\u001b[0m \u001b[38;5;28;01mtry\u001b[39;00m:\n\u001b[1;32m-> 3805\u001b[0m     \u001b[38;5;28;01mreturn\u001b[39;00m \u001b[38;5;28;43mself\u001b[39;49m\u001b[38;5;241;43m.\u001b[39;49m\u001b[43m_engine\u001b[49m\u001b[38;5;241;43m.\u001b[39;49m\u001b[43mget_loc\u001b[49m\u001b[43m(\u001b[49m\u001b[43mcasted_key\u001b[49m\u001b[43m)\u001b[49m\n\u001b[0;32m   3806\u001b[0m \u001b[38;5;28;01mexcept\u001b[39;00m \u001b[38;5;167;01mKeyError\u001b[39;00m \u001b[38;5;28;01mas\u001b[39;00m err:\n",
      "File \u001b[1;32mindex.pyx:167\u001b[0m, in \u001b[0;36mpandas._libs.index.IndexEngine.get_loc\u001b[1;34m()\u001b[0m\n",
      "File \u001b[1;32mindex.pyx:196\u001b[0m, in \u001b[0;36mpandas._libs.index.IndexEngine.get_loc\u001b[1;34m()\u001b[0m\n",
      "File \u001b[1;32mpandas\\\\_libs\\\\hashtable_class_helper.pxi:7081\u001b[0m, in \u001b[0;36mpandas._libs.hashtable.PyObjectHashTable.get_item\u001b[1;34m()\u001b[0m\n",
      "File \u001b[1;32mpandas\\\\_libs\\\\hashtable_class_helper.pxi:7089\u001b[0m, in \u001b[0;36mpandas._libs.hashtable.PyObjectHashTable.get_item\u001b[1;34m()\u001b[0m\n",
      "\u001b[1;31mKeyError\u001b[0m: 'titulo'",
      "\nThe above exception was the direct cause of the following exception:\n",
      "\u001b[1;31mKeyError\u001b[0m                                  Traceback (most recent call last)",
      "Cell \u001b[1;32mIn[587], line 1\u001b[0m\n\u001b[1;32m----> 1\u001b[0m \u001b[43mredpiso_detalles2\u001b[49m\u001b[43m[\u001b[49m\u001b[38;5;124;43m'\u001b[39;49m\u001b[38;5;124;43mtitulo\u001b[39;49m\u001b[38;5;124;43m'\u001b[39;49m\u001b[43m]\u001b[49m\u001b[38;5;241m.\u001b[39mequals(redpiso_detalles2[\u001b[38;5;124m'\u001b[39m\u001b[38;5;124mtitulo\u001b[39m\u001b[38;5;124m'\u001b[39m]) \n",
      "File \u001b[1;32mc:\\Users\\extas\\anaconda3\\envs\\Nuclio\\Lib\\site-packages\\pandas\\core\\frame.py:4102\u001b[0m, in \u001b[0;36mDataFrame.__getitem__\u001b[1;34m(self, key)\u001b[0m\n\u001b[0;32m   4100\u001b[0m \u001b[38;5;28;01mif\u001b[39;00m \u001b[38;5;28mself\u001b[39m\u001b[38;5;241m.\u001b[39mcolumns\u001b[38;5;241m.\u001b[39mnlevels \u001b[38;5;241m>\u001b[39m \u001b[38;5;241m1\u001b[39m:\n\u001b[0;32m   4101\u001b[0m     \u001b[38;5;28;01mreturn\u001b[39;00m \u001b[38;5;28mself\u001b[39m\u001b[38;5;241m.\u001b[39m_getitem_multilevel(key)\n\u001b[1;32m-> 4102\u001b[0m indexer \u001b[38;5;241m=\u001b[39m \u001b[38;5;28;43mself\u001b[39;49m\u001b[38;5;241;43m.\u001b[39;49m\u001b[43mcolumns\u001b[49m\u001b[38;5;241;43m.\u001b[39;49m\u001b[43mget_loc\u001b[49m\u001b[43m(\u001b[49m\u001b[43mkey\u001b[49m\u001b[43m)\u001b[49m\n\u001b[0;32m   4103\u001b[0m \u001b[38;5;28;01mif\u001b[39;00m is_integer(indexer):\n\u001b[0;32m   4104\u001b[0m     indexer \u001b[38;5;241m=\u001b[39m [indexer]\n",
      "File \u001b[1;32mc:\\Users\\extas\\anaconda3\\envs\\Nuclio\\Lib\\site-packages\\pandas\\core\\indexes\\base.py:3812\u001b[0m, in \u001b[0;36mIndex.get_loc\u001b[1;34m(self, key)\u001b[0m\n\u001b[0;32m   3807\u001b[0m     \u001b[38;5;28;01mif\u001b[39;00m \u001b[38;5;28misinstance\u001b[39m(casted_key, \u001b[38;5;28mslice\u001b[39m) \u001b[38;5;129;01mor\u001b[39;00m (\n\u001b[0;32m   3808\u001b[0m         \u001b[38;5;28misinstance\u001b[39m(casted_key, abc\u001b[38;5;241m.\u001b[39mIterable)\n\u001b[0;32m   3809\u001b[0m         \u001b[38;5;129;01mand\u001b[39;00m \u001b[38;5;28many\u001b[39m(\u001b[38;5;28misinstance\u001b[39m(x, \u001b[38;5;28mslice\u001b[39m) \u001b[38;5;28;01mfor\u001b[39;00m x \u001b[38;5;129;01min\u001b[39;00m casted_key)\n\u001b[0;32m   3810\u001b[0m     ):\n\u001b[0;32m   3811\u001b[0m         \u001b[38;5;28;01mraise\u001b[39;00m InvalidIndexError(key)\n\u001b[1;32m-> 3812\u001b[0m     \u001b[38;5;28;01mraise\u001b[39;00m \u001b[38;5;167;01mKeyError\u001b[39;00m(key) \u001b[38;5;28;01mfrom\u001b[39;00m \u001b[38;5;21;01merr\u001b[39;00m\n\u001b[0;32m   3813\u001b[0m \u001b[38;5;28;01mexcept\u001b[39;00m \u001b[38;5;167;01mTypeError\u001b[39;00m:\n\u001b[0;32m   3814\u001b[0m     \u001b[38;5;66;03m# If we have a listlike key, _check_indexing_error will raise\u001b[39;00m\n\u001b[0;32m   3815\u001b[0m     \u001b[38;5;66;03m#  InvalidIndexError. Otherwise we fall through and re-raise\u001b[39;00m\n\u001b[0;32m   3816\u001b[0m     \u001b[38;5;66;03m#  the TypeError.\u001b[39;00m\n\u001b[0;32m   3817\u001b[0m     \u001b[38;5;28mself\u001b[39m\u001b[38;5;241m.\u001b[39m_check_indexing_error(key)\n",
      "\u001b[1;31mKeyError\u001b[0m: 'titulo'"
     ]
    }
   ],
   "source": [
    "redpiso_detalles2['titulo'].equals(redpiso_detalles2['titulo']) "
   ]
  },
  {
   "cell_type": "code",
   "execution_count": null,
   "metadata": {},
   "outputs": [],
   "source": [
    "#elimino columnas iguales de los 2 dataframes\n",
    "#colseliminar=[\"titulo\",'precio']\n",
    "#redpiso_detalles2.drop(columns=colseliminar,inplace=True)"
   ]
  },
  {
   "cell_type": "code",
   "execution_count": 102,
   "metadata": {},
   "outputs": [
    {
     "data": {
      "text/plain": [
       "Index(['referencia', 'cantidad_visitas', 'fecha_publicacion',\n",
       "       'espacio_metros_cuadrados', 'banos', 'campo10', 'campo11', 'campo12',\n",
       "       'dormitorios', 'cantidad_armarios', 'consumo_energia', 'emisiones_CO2',\n",
       "       'cal_energetica', 'estado', 'antiguedad', 'ascensor',\n",
       "       'aire_acondicionado', 'orientacion', 'agua_caliente', 'calefaccion',\n",
       "       'Tipo de suelo_fachada', 'cocina_equipada', 'garaje', 'm2_utiles',\n",
       "       'vista_zona', 'piscina', 'trastero', 'gastos_comunidad', 'Zonas_verdes',\n",
       "       'terrazas', 'acceso_minusvalido', 'puerta_seguridad', 'conserje',\n",
       "       'num_plantas', 'num_pisos', 'alarma', 'amueblado'],\n",
       "      dtype='object')"
      ]
     },
     "execution_count": 102,
     "metadata": {},
     "output_type": "execute_result"
    }
   ],
   "source": [
    "redpiso_detalles2.columns"
   ]
  },
  {
   "cell_type": "code",
   "execution_count": 103,
   "metadata": {},
   "outputs": [
    {
     "data": {
      "text/plain": [
       "0       REF RP2842024125161\n",
       "1        REF RP782024130863\n",
       "2        REF RP442024126007\n",
       "3        REF RP442024126427\n",
       "4       REF RP2842024130186\n",
       "               ...         \n",
       "2090     REF RP962024124554\n",
       "2091    REF RP1922024124579\n",
       "2095     REF RP272023121667\n",
       "2096    REF RP2532022104355\n",
       "2097    REF RP2332024131076\n",
       "Name: referencia, Length: 1468, dtype: object"
      ]
     },
     "execution_count": 103,
     "metadata": {},
     "output_type": "execute_result"
    }
   ],
   "source": [
    "redpiso_detalles2[\"referencia\"]"
   ]
  },
  {
   "cell_type": "code",
   "execution_count": null,
   "metadata": {},
   "outputs": [],
   "source": [
    "# Eliminar \"REP\" del campo \"REF\" \n",
    "#redpiso_detalles2['referencia'] = redpiso_detalles2['referencia'].str.replace('REF', '').str.strip()"
   ]
  },
  {
   "cell_type": "code",
   "execution_count": 105,
   "metadata": {},
   "outputs": [
    {
     "data": {
      "text/plain": [
       "0       RP2842024125161\n",
       "1        RP782024130863\n",
       "2        RP442024126007\n",
       "3        RP442024126427\n",
       "4       RP2842024130186\n",
       "             ...       \n",
       "2090     RP962024124554\n",
       "2091    RP1922024124579\n",
       "2095     RP272023121667\n",
       "2096    RP2532022104355\n",
       "2097    RP2332024131076\n",
       "Name: referencia, Length: 1468, dtype: object"
      ]
     },
     "execution_count": 105,
     "metadata": {},
     "output_type": "execute_result"
    }
   ],
   "source": [
    "redpiso_detalles2['referencia']"
   ]
  },
  {
   "cell_type": "code",
   "execution_count": 106,
   "metadata": {},
   "outputs": [
    {
     "data": {
      "text/plain": [
       "0       RP2842024125161\n",
       "1        RP782024130863\n",
       "2        RP442024126007\n",
       "3        RP442024126427\n",
       "4       RP2842024130186\n",
       "             ...       \n",
       "2090     RP962024124554\n",
       "2091    RP1922024124579\n",
       "2095     RP272023121667\n",
       "2096    RP2532022104355\n",
       "2097    RP2332024131076\n",
       "Name: referencia, Length: 1468, dtype: object"
      ]
     },
     "execution_count": 106,
     "metadata": {},
     "output_type": "execute_result"
    }
   ],
   "source": [
    "redpiso_normal2[\"referencia\"]"
   ]
  },
  {
   "cell_type": "code",
   "execution_count": 107,
   "metadata": {},
   "outputs": [],
   "source": [
    "df_merge= pd.merge(redpiso_detalles2,redpiso_normal2,how=\"inner\",on=[\"referencia\"],indicator=True)"
   ]
  },
  {
   "cell_type": "code",
   "execution_count": 108,
   "metadata": {},
   "outputs": [
    {
     "data": {
      "text/plain": [
       "(1470, 48)"
      ]
     },
     "execution_count": 108,
     "metadata": {},
     "output_type": "execute_result"
    }
   ],
   "source": [
    "df_merge.shape"
   ]
  },
  {
   "cell_type": "code",
   "execution_count": 109,
   "metadata": {},
   "outputs": [
    {
     "data": {
      "text/plain": [
       "0"
      ]
     },
     "execution_count": 109,
     "metadata": {},
     "output_type": "execute_result"
    }
   ],
   "source": [
    "df_merge.duplicated().sum()"
   ]
  },
  {
   "cell_type": "code",
   "execution_count": 110,
   "metadata": {},
   "outputs": [
    {
     "data": {
      "text/plain": [
       "referencia                     0\n",
       "cantidad_visitas               0\n",
       "fecha_publicacion              0\n",
       "espacio_metros_cuadrados       2\n",
       "banos                          7\n",
       "campo10                      508\n",
       "campo11                       12\n",
       "campo12                     1445\n",
       "dormitorios                   29\n",
       "cantidad_armarios            884\n",
       "consumo_energia             1210\n",
       "emisiones_CO2               1209\n",
       "cal_energetica               476\n",
       "estado                       218\n",
       "antiguedad                  1139\n",
       "ascensor                       0\n",
       "aire_acondicionado             0\n",
       "orientacion                  715\n",
       "agua_caliente                778\n",
       "calefaccion                  890\n",
       "Tipo de suelo_fachada        956\n",
       "cocina_equipada                0\n",
       "garaje                      1163\n",
       "m2_utiles                      2\n",
       "vista_zona                   342\n",
       "piscina                        0\n",
       "trastero                       0\n",
       "gastos_comunidad            1439\n",
       "Zonas_verdes                   0\n",
       "terrazas                    1426\n",
       "acceso_minusvalido             0\n",
       "puerta_seguridad               0\n",
       "conserje                       0\n",
       "num_plantas                 1450\n",
       "num_pisos                   1454\n",
       "alarma                         0\n",
       "amueblado                      0\n",
       "precio                         0\n",
       "url_imagen                   500\n",
       "reservado                      0\n",
       "m2_constr                      3\n",
       "cantidad_dormitorios           2\n",
       "url                            0\n",
       "titulo                         0\n",
       "contacto                       0\n",
       "officelink_url                 0\n",
       "nombre_oficina                 0\n",
       "_merge                         0\n",
       "dtype: int64"
      ]
     },
     "execution_count": 110,
     "metadata": {},
     "output_type": "execute_result"
    }
   ],
   "source": [
    "df_merge.isna().sum()"
   ]
  },
  {
   "cell_type": "code",
   "execution_count": 111,
   "metadata": {},
   "outputs": [
    {
     "data": {
      "text/plain": [
       "Index(['referencia', 'cantidad_visitas', 'fecha_publicacion',\n",
       "       'espacio_metros_cuadrados', 'banos', 'campo10', 'campo11', 'campo12',\n",
       "       'dormitorios', 'cantidad_armarios', 'consumo_energia', 'emisiones_CO2',\n",
       "       'cal_energetica', 'estado', 'antiguedad', 'ascensor',\n",
       "       'aire_acondicionado', 'orientacion', 'agua_caliente', 'calefaccion',\n",
       "       'Tipo de suelo_fachada', 'cocina_equipada', 'garaje', 'm2_utiles',\n",
       "       'vista_zona', 'piscina', 'trastero', 'gastos_comunidad', 'Zonas_verdes',\n",
       "       'terrazas', 'acceso_minusvalido', 'puerta_seguridad', 'conserje',\n",
       "       'num_plantas', 'num_pisos', 'alarma', 'amueblado', 'precio',\n",
       "       'url_imagen', 'reservado', 'm2_constr', 'cantidad_dormitorios', 'url',\n",
       "       'titulo', 'contacto', 'officelink_url', 'nombre_oficina', '_merge'],\n",
       "      dtype='object')"
      ]
     },
     "execution_count": 111,
     "metadata": {},
     "output_type": "execute_result"
    }
   ],
   "source": [
    "df_merge.columns"
   ]
  },
  {
   "cell_type": "code",
   "execution_count": null,
   "metadata": {},
   "outputs": [],
   "source": []
  },
  {
   "cell_type": "code",
   "execution_count": 113,
   "metadata": {},
   "outputs": [],
   "source": [
    "pd.set_option('display.max_colwidth', None)"
   ]
  },
  {
   "cell_type": "code",
   "execution_count": 114,
   "metadata": {},
   "outputs": [],
   "source": [
    "df_merge= df_merge.rename(columns={'campo10': 'titular_anuncio','campo11':'descripcion_extendida','espacio_metros_cuadrados':'m2constr'})"
   ]
  },
  {
   "cell_type": "code",
   "execution_count": 115,
   "metadata": {},
   "outputs": [
    {
     "data": {
      "text/plain": [
       "campo12\n",
       "NaN           1445\n",
       "Adosado         19\n",
       "Pareado          4\n",
       "Individual       2\n",
       "Name: count, dtype: int64"
      ]
     },
     "execution_count": 115,
     "metadata": {},
     "output_type": "execute_result"
    }
   ],
   "source": [
    "df_merge[\"campo12\"].value_counts(dropna=False)"
   ]
  },
  {
   "cell_type": "code",
   "execution_count": 116,
   "metadata": {},
   "outputs": [],
   "source": [
    "df_merge['tipologia'] = df_merge['titulo'].str.split().str[0]"
   ]
  },
  {
   "cell_type": "code",
   "execution_count": 117,
   "metadata": {},
   "outputs": [
    {
     "data": {
      "text/plain": [
       "tipologia\n",
       "Piso           1335\n",
       "Ático            38\n",
       "Apartamento      28\n",
       "Estudio          22\n",
       "Casa             19\n",
       "Dúplex           11\n",
       "Loft              7\n",
       "Chalet            7\n",
       "Venta             3\n",
       "Name: count, dtype: int64"
      ]
     },
     "execution_count": 117,
     "metadata": {},
     "output_type": "execute_result"
    }
   ],
   "source": [
    "df_merge['tipologia'].value_counts(dropna=False)"
   ]
  },
  {
   "cell_type": "code",
   "execution_count": 118,
   "metadata": {},
   "outputs": [],
   "source": [
    "\n",
    "\n",
    "# Definir una función para concatenar solo si no hay nulos\n",
    "def concatenar_si_no_nulo(row):\n",
    "    if pd.notnull(row['tipologia']) and pd.notnull(row['campo12']):\n",
    "        return row['tipologia'] + ' ' + row['campo12']\n",
    "    else:\n",
    "        return row['tipologia']  # O cualquier otro valor que desees en caso de nulos\n",
    "\n",
    "# Aplicar la función a cada fila del DataFrame\n",
    "df_merge['tipologia'] = df_merge.apply(concatenar_si_no_nulo, axis=1)\n",
    "\n",
    "\n"
   ]
  },
  {
   "cell_type": "code",
   "execution_count": 119,
   "metadata": {},
   "outputs": [
    {
     "data": {
      "text/plain": [
       "tipologia\n",
       "Piso               1335\n",
       "Ático                38\n",
       "Apartamento          28\n",
       "Estudio              22\n",
       "Casa Adosado         15\n",
       "Dúplex               11\n",
       "Loft                  7\n",
       "Chalet Adosado        4\n",
       "Venta                 3\n",
       "Casa Individual       2\n",
       "Casa Pareado          2\n",
       "Chalet Pareado        2\n",
       "Chalet                1\n",
       "Name: count, dtype: int64"
      ]
     },
     "execution_count": 119,
     "metadata": {},
     "output_type": "execute_result"
    }
   ],
   "source": [
    "df_merge['tipologia'].value_counts(dropna=False)"
   ]
  },
  {
   "cell_type": "code",
   "execution_count": 120,
   "metadata": {},
   "outputs": [],
   "source": [
    "coleliminar=[\"imagen4\",\"cantidad_dormitorios\",\"número5\",'officelink_url','campo12', 'url_imagen']"
   ]
  },
  {
   "cell_type": "code",
   "execution_count": 121,
   "metadata": {},
   "outputs": [],
   "source": [
    "redpiso_unido= df_merge"
   ]
  },
  {
   "cell_type": "code",
   "execution_count": 122,
   "metadata": {},
   "outputs": [],
   "source": [
    "# Creacion de nuevas columnas donde metere los valores de de distrito, barrios, codigos postal y el codigo por distrito y barrio.\n",
    "\n",
    "nuevas_columnas= [\"barrios\",\"cod_barrio\",\"cod_barrio_2\",\"distrito\",\"cod_distrito\",\"codigo_Postal\"]\n",
    "\n",
    "redpiso_unido[nuevas_columnas]=np.nan"
   ]
  },
  {
   "cell_type": "code",
   "execution_count": 123,
   "metadata": {},
   "outputs": [],
   "source": [
    "redpiso_unido2=redpiso_unido"
   ]
  },
  {
   "cell_type": "markdown",
   "metadata": {},
   "source": [
    "#### **_Agregacion de barrios y distritos con sus codigos respectivos/ Redpiso._**"
   ]
  },
  {
   "cell_type": "code",
   "execution_count": 124,
   "metadata": {},
   "outputs": [],
   "source": [
    "def normalize_string(s):\n",
    "    if pd.notna(s):\n",
    "        s = unicodedata.normalize('NFD', s)  # Descomponer los caracteres con acento\n",
    "        s = ''.join([c for c in s if not unicodedata.combining(c)])  # Eliminar los caracteres de acento\n",
    "        s = s.lower()  # Convertir a minúsculas\n",
    "    return s"
   ]
  },
  {
   "cell_type": "code",
   "execution_count": 125,
   "metadata": {},
   "outputs": [
    {
     "name": "stderr",
     "output_type": "stream",
     "text": [
      "C:\\Users\\extas\\AppData\\Local\\Temp\\ipykernel_20344\\1962636392.py:23: FutureWarning: Setting an item of incompatible dtype is deprecated and will raise an error in a future version of pandas. Value 'villaverde' has dtype incompatible with float64, please explicitly cast to a compatible dtype first.\n",
      "  df_sin_duplicados.at[idx, \"distrito\"] = distrito  # Asignar el nombre del distrito a la columna \"distrito\"\n",
      "C:\\Users\\extas\\AppData\\Local\\Temp\\ipykernel_20344\\1962636392.py:25: FutureWarning: Setting an item of incompatible dtype is deprecated and will raise an error in a future version of pandas. Value 'san cristobal' has dtype incompatible with float64, please explicitly cast to a compatible dtype first.\n",
      "  df_sin_duplicados.at[idx, \"barrios\"] = barrio  # Asignar el nombre del barrio a la columna \"barrio\"\n"
     ]
    }
   ],
   "source": [
    "# Aqui hacemos la normalizacion de las columnas para despues hacer una mejor filtracion de nombres de distritos y barrios. \n",
    "\n",
    "\n",
    "\n",
    "def clasificar_distrito_y_barrio_por_columnas(df_sin_duplicados, dbcp_ordenado):\n",
    "    # Crear las listas de barrios y distritos desde el dataframe de referencia\n",
    "    distritos = dbcp_ordenado[\"nombre_distrito\"].apply(lambda x: normalize_string(x)).tolist()\n",
    "    barrios = dbcp_ordenado[\"nombre_barrio\"].apply(lambda x: normalize_string(x)).tolist()\n",
    "\n",
    "    # Recorrer las filas del dataframe\n",
    "    for idx, fila in df_sin_duplicados.iterrows():\n",
    "        # Recorrer las tres columnas en orden de prioridad: descripcion, descripcion_extendida, url_website\n",
    "        for columna in ['titulo', 'nombre_oficina']:\n",
    "            valor = fila[columna]\n",
    "            \n",
    "            # Verificamos que el valor no sea nulo\n",
    "            if pd.notna(valor):\n",
    "                valor_normalizado = normalize_string(valor)\n",
    "                \n",
    "                # Verificamos si el valor normalizado contiene el nombre de un distrito o barrio\n",
    "                for distrito, barrio in zip(distritos, barrios):\n",
    "                    if distrito in valor_normalizado and pd.isna(fila[\"distrito\"]):\n",
    "                        df_sin_duplicados.at[idx, \"distrito\"] = distrito  # Asignar el nombre del distrito a la columna \"distrito\"\n",
    "                    if barrio in valor_normalizado and pd.isna(fila[\"barrios\"]):\n",
    "                        df_sin_duplicados.at[idx, \"barrios\"] = barrio  # Asignar el nombre del barrio a la columna \"barrio\"\n",
    "\n",
    "    return df_sin_duplicados\n",
    "\n",
    "# Llamar a la función pasándole el dataframe y el dataframe de referencia\n",
    "df_sin_duplicados = clasificar_distrito_y_barrio_por_columnas(redpiso_unido2, dbcp_ordenado)"
   ]
  },
  {
   "cell_type": "code",
   "execution_count": null,
   "metadata": {},
   "outputs": [],
   "source": [
    "redpiso_unido2.head(5)"
   ]
  },
  {
   "cell_type": "code",
   "execution_count": 127,
   "metadata": {},
   "outputs": [],
   "source": [
    "def rellenar_distritos(redpiso_unido2, dbcp_ordenado):\n",
    "    # Crear un diccionario de barrios a distritos normalizado\n",
    "    barrio_a_distrito = {normalize_string(barrio): distrito for barrio, distrito in zip(dbcp_ordenado[\"nombre_barrio\"], dbcp_ordenado[\"nombre_distrito\"])}\n",
    "\n",
    "    for idx, fila in redpiso_unido2.iterrows():\n",
    "        # Verificamos si el valor de distrito está vacío y si hay un valor en barrios\n",
    "        if pd.isna(fila[\"distrito\"]) and not pd.isna(fila[\"barrios\"]):\n",
    "            barrio_normalizado = normalize_string(fila[\"barrios\"])  # Normalizar el valor del barrio\n",
    "            distrito = barrio_a_distrito.get(barrio_normalizado)  # Buscar el distrito usando el barrio normalizado\n",
    "            if distrito:\n",
    "                redpiso_unido2.at[idx, \"distrito\"] = distrito  # Asignar el distrito correspondiente\n",
    "\n",
    "# Llamar a la función pasándole el dataframe y el dataframe de referencia\n",
    "rellenar_distritos(redpiso_unido2=redpiso_unido2, dbcp_ordenado=dbcp_ordenado)\n"
   ]
  },
  {
   "cell_type": "code",
   "execution_count": 128,
   "metadata": {},
   "outputs": [],
   "source": [
    "\n",
    "diccionario_ditrito_barrio= {\n",
    "    \"Centro\": [\"Malasaña\", \"La Latina\", \"Chueca\",\"malasana\"],\n",
    "    \"Moratalaz\": [\"La Elipa\"],\n",
    "    \"Moncloa-Aravaca\": [\"Puerta de Hierro\", \"Príncipe Pío\"],\n",
    "    \"Fuencarral-El Pardo\": [\"Buena Vista\", \"Ventilla\", \"Fuencarral\"],\n",
    "    \"Chamartín\": [\"Bernabéu\"],\n",
    "    \"Ciudad Lineal\": [\"Arturo Soria\"],\n",
    "    \"San Blas-Canillejas\": [\"Las Mercedes\",\"las mercedes\"],\n",
    "    \"Villaverde\": [\"Villaverde Alto\", \"Villaverde Bajo\"],\n",
    "    \"Carabanchel\": [\"Pau Carabanchel\"],\n",
    "}\n",
    "\n",
    "\n",
    "# Función para asignar barrios y distritos recorriendo solo el diccionario\n",
    "def asignar_barrios_y_distritos(df, diccionario, columnas_busqueda):\n",
    "    # Normalizar los barrios en el diccionario\n",
    "    diccionario_normalizado = {\n",
    "        normalize_string(barrio): distrito for distrito, barrios in diccionario.items() for barrio in barrios\n",
    "    }\n",
    "    \n",
    "    # Asegurar que las columnas \"barrios\" y \"distritos\" existan en el DataFrame\n",
    "    3#if \"barrios\" not in df.columns:\n",
    "     #   df[\"barrios\"] = pd.NA\n",
    "    #if \"distrito\" not in df.columns:\n",
    "     #   df[\"distrito\"] = pd.NA\n",
    "\n",
    "    # Iterar sobre el diccionario de barrios y distritos\n",
    "    for barrio_normalizado, distrito in diccionario_normalizado.items():\n",
    "        # Buscar coincidencias en las columnas especificadas\n",
    "        for columna in columnas_busqueda:\n",
    "            # Generar una máscara para las coincidencias\n",
    "            mask = df[columna].str.contains(barrio_normalizado, na=False, case=False)\n",
    "\n",
    "            # Asignar valores donde haya coincidencias y columnas vacías\n",
    "            df.loc[mask & df['barrios'].isna(), 'barrios'] = barrio_normalizado\n",
    "            df.loc[mask & df['distrito'].isna(), 'distrito'] = distrito\n",
    "\n",
    "    return df\n",
    "\n",
    "# Llamar a la función\n",
    "columnas_busqueda = [\"barrios\", \"distrito\"]  # Ajusta estas columnas según tu DataFrame\n",
    "redpiso_unido2 = asignar_barrios_y_distritos(redpiso_unido2, diccionario_ditrito_barrio, columnas_busqueda)\n",
    "\n"
   ]
  },
  {
   "cell_type": "code",
   "execution_count": 129,
   "metadata": {},
   "outputs": [],
   "source": [
    "def asignar_codigos(df_sin_duplicados, dbcp_ordenado):\n",
    "    \"\"\"\n",
    "    Asigna los valores de cod_distrito, cod_barrio, cod_barrio_2 y codigo_postal al DataFrame original\n",
    "    basándose en la correspondencia con el DataFrame de referencia.\n",
    "    \"\"\"\n",
    "    # Normalizar los nombres en el DataFrame de referencia\n",
    "    dbcp_ordenado['nombre_distrito_normalizado'] = dbcp_ordenado['nombre_distrito'].apply(normalize_string)\n",
    "    dbcp_ordenado['nombre_barrio_normalizado'] = dbcp_ordenado['nombre_barrio'].apply(normalize_string)\n",
    "\n",
    "    # Normalizar las columnas 'distrito' y 'barrios' en el DataFrame original\n",
    "    df_sin_duplicados['distrito_normalizado'] = df_sin_duplicados['distrito'].apply(normalize_string)\n",
    "    df_sin_duplicados['barrios_normalizado'] = df_sin_duplicados['barrios'].apply(normalize_string)\n",
    "\n",
    "    # Realizar asignaciones basadas en coincidencias\n",
    "    for idx, fila in df_sin_duplicados.iterrows():\n",
    "        # Verificar coincidencia por distrito\n",
    "        if pd.notna(fila['distrito_normalizado']):\n",
    "            coincidencias_distrito = dbcp_ordenado[\n",
    "                dbcp_ordenado['nombre_distrito_normalizado'] == fila['distrito_normalizado']\n",
    "            ]\n",
    "            if not coincidencias_distrito.empty:\n",
    "                df_sin_duplicados.at[idx, 'cod_distrito'] = coincidencias_distrito['cod_distrito'].iloc[0]\n",
    "\n",
    "        # Verificar coincidencia por barrio\n",
    "        if pd.notna(fila['barrios_normalizado']):\n",
    "            coincidencias_barrio = dbcp_ordenado[\n",
    "                dbcp_ordenado['nombre_barrio_normalizado'] == fila['barrios_normalizado']\n",
    "            ]\n",
    "            if not coincidencias_barrio.empty:\n",
    "                df_sin_duplicados.at[idx, 'cod_barrio'] = coincidencias_barrio['cod_barrio'].iloc[0]\n",
    "                df_sin_duplicados.at[idx, 'cod_barrio_2'] = coincidencias_barrio['cod_barrio_2'].iloc[0]\n",
    "                df_sin_duplicados.at[idx, 'codigo_Postal'] = coincidencias_barrio['codigo_Postal'].iloc[0]\n",
    "\n",
    "    # Eliminar columnas normalizadas después de asignaciones\n",
    "    df_sin_duplicados.drop(columns=['distrito_normalizado', 'barrios_normalizado'], inplace=True)\n",
    "    dbcp_ordenado.drop(columns=['nombre_distrito_normalizado', 'nombre_barrio_normalizado'], inplace=True)\n",
    "\n",
    "    return df_sin_duplicados\n",
    "\n",
    "# Llamar a la función con los DataFrames correspondientes\n",
    "redpiso_unido2 = asignar_codigos(redpiso_unido2, dbcp_ordenado)"
   ]
  },
  {
   "cell_type": "code",
   "execution_count": 130,
   "metadata": {},
   "outputs": [
    {
     "data": {
      "text/plain": [
       "Index(['referencia', 'cantidad_visitas', 'fecha_publicacion', 'm2constr',\n",
       "       'banos', 'titular_anuncio', 'descripcion_extendida', 'campo12',\n",
       "       'dormitorios', 'cantidad_armarios', 'consumo_energia', 'emisiones_CO2',\n",
       "       'cal_energetica', 'estado', 'antiguedad', 'ascensor',\n",
       "       'aire_acondicionado', 'orientacion', 'agua_caliente', 'calefaccion',\n",
       "       'Tipo de suelo_fachada', 'cocina_equipada', 'garaje', 'm2_utiles',\n",
       "       'vista_zona', 'piscina', 'trastero', 'gastos_comunidad', 'Zonas_verdes',\n",
       "       'terrazas', 'acceso_minusvalido', 'puerta_seguridad', 'conserje',\n",
       "       'num_plantas', 'num_pisos', 'alarma', 'amueblado', 'precio',\n",
       "       'url_imagen', 'reservado', 'm2_constr', 'cantidad_dormitorios', 'url',\n",
       "       'titulo', 'contacto', 'officelink_url', 'nombre_oficina', '_merge',\n",
       "       'tipologia', 'barrios', 'cod_barrio', 'cod_barrio_2', 'distrito',\n",
       "       'cod_distrito', 'codigo_Postal'],\n",
       "      dtype='object')"
      ]
     },
     "execution_count": 130,
     "metadata": {},
     "output_type": "execute_result"
    }
   ],
   "source": [
    "redpiso_unido2.columns"
   ]
  },
  {
   "cell_type": "code",
   "execution_count": null,
   "metadata": {},
   "outputs": [],
   "source": []
  },
  {
   "cell_type": "markdown",
   "metadata": {},
   "source": [
    "------------------------------------------"
   ]
  },
  {
   "cell_type": "code",
   "execution_count": 131,
   "metadata": {},
   "outputs": [],
   "source": [
    "# eliminacion de columnas \n",
    "\n",
    "redpiso_columnas_eliminar=[\"url_imagen\",\"nombre_oficina\",\"contacto\",\"officelink_url\"]\n",
    "\n",
    "redpiso_unido2 = redpiso_unido2.drop(columns=redpiso_columnas_eliminar)"
   ]
  },
  {
   "cell_type": "code",
   "execution_count": 132,
   "metadata": {},
   "outputs": [
    {
     "data": {
      "text/plain": [
       "(1470, 51)"
      ]
     },
     "execution_count": 132,
     "metadata": {},
     "output_type": "execute_result"
    }
   ],
   "source": [
    "redpiso_unido2.shape"
   ]
  },
  {
   "cell_type": "code",
   "execution_count": 133,
   "metadata": {},
   "outputs": [],
   "source": [
    "redpiso_unido2[\"web\"]=\"redpiso\"\n",
    "redpiso_unido2[\"fecha_descarga\"]=\"28/10/2024\""
   ]
  },
  {
   "cell_type": "code",
   "execution_count": 135,
   "metadata": {},
   "outputs": [
    {
     "data": {
      "text/plain": [
       "Tipo de suelo_fachada\n",
       "Tipo de suelo Gres                  129\n",
       "Tipo de suelo Parquet               112\n",
       "Tipo de fachada Ladrillo             70\n",
       "Tipo de suelo Tarima normal          61\n",
       "Tipo de suelo Tarima Flotante        53\n",
       "Tipo de suelo Baldosa                16\n",
       "Tipo de suelo Sintasol               15\n",
       "Tipo de suelo Terrazo                14\n",
       "Tipo de suelo Otros                  12\n",
       "Tipo de fachada Mono Capa            11\n",
       "Tipo de fachada Cemento               8\n",
       "Tipo de suelo Porcelanico             6\n",
       "Tipo de suelo Mosaico Hidraulico      3\n",
       "Tipo de fachada Piedra                2\n",
       "Tipo de fachada Otros materiales      1\n",
       "Tipo de suelo Marmol                  1\n",
       "Name: count, dtype: int64"
      ]
     },
     "execution_count": 135,
     "metadata": {},
     "output_type": "execute_result"
    }
   ],
   "source": [
    "redpiso_unido2[\"Tipo de suelo_fachada\"].value_counts()"
   ]
  },
  {
   "cell_type": "code",
   "execution_count": 136,
   "metadata": {},
   "outputs": [
    {
     "name": "stderr",
     "output_type": "stream",
     "text": [
      "C:\\Users\\extas\\AppData\\Local\\Temp\\ipykernel_20344\\3383542287.py:11: FutureWarning: Setting an item of incompatible dtype is deprecated and will raise an error in a future version of pandas. Value 'Tipo de fachada Ladrillo' has dtype incompatible with float64, please explicitly cast to a compatible dtype first.\n",
      "  df.at[idx, 'tipo_fachada'] = tipo_suelo_fachada\n"
     ]
    }
   ],
   "source": [
    "# Aqui vamos a filtrar la informacion de tipo_fachada y la dividire en dos columnas donde se veran los valores de fachada y suelo separados\n",
    "redpiso_unido2[\"tipo_fachada\"]= np.nan\n",
    "\n",
    "def asignar_fachada(df):\n",
    "    # Recorrer cada fila de la columna Tipo de suelo/fachada\n",
    "    for idx, fila in df.iterrows():\n",
    "        tipo_suelo_fachada = str(fila['Tipo de suelo_fachada'])  # Asegurarse de que sea un string\n",
    "        # Convertir el texto a minúsculas para la búsqueda sin importar mayúsculas\n",
    "        if 'fachada' in tipo_suelo_fachada.lower():\n",
    "            # Si encuentra la palabra 'fachada', asignar todo el texto a la columna tipo_fachada\n",
    "            df.at[idx, 'tipo_fachada'] = tipo_suelo_fachada\n",
    "            # Reemplazar el valor original en Tipo de suelo/fachada por NaN\n",
    "            df.at[idx, 'Tipo de suelo_fachada'] = np.nan\n",
    "    return df\n",
    "\n",
    "# Llamar a la función pasándole tu dataframe\n",
    "redpiso_unido2 = asignar_fachada(redpiso_unido2)"
   ]
  },
  {
   "cell_type": "code",
   "execution_count": 137,
   "metadata": {},
   "outputs": [
    {
     "data": {
      "text/plain": [
       "Tipo de suelo_fachada\n",
       "Tipo de suelo Gres                  129\n",
       "Tipo de suelo Parquet               112\n",
       "Tipo de suelo Tarima normal          61\n",
       "Tipo de suelo Tarima Flotante        53\n",
       "Tipo de suelo Baldosa                16\n",
       "Tipo de suelo Sintasol               15\n",
       "Tipo de suelo Terrazo                14\n",
       "Tipo de suelo Otros                  12\n",
       "Tipo de suelo Porcelanico             6\n",
       "Tipo de suelo Mosaico Hidraulico      3\n",
       "Tipo de suelo Marmol                  1\n",
       "Name: count, dtype: int64"
      ]
     },
     "execution_count": 137,
     "metadata": {},
     "output_type": "execute_result"
    }
   ],
   "source": [
    "redpiso_unido2[\"Tipo de suelo_fachada\"].value_counts()"
   ]
  },
  {
   "cell_type": "code",
   "execution_count": 138,
   "metadata": {},
   "outputs": [
    {
     "data": {
      "text/plain": [
       "tipo_fachada\n",
       "Tipo de fachada Ladrillo            70\n",
       "Tipo de fachada Mono Capa           11\n",
       "Tipo de fachada Cemento              8\n",
       "Tipo de fachada Piedra               2\n",
       "Tipo de fachada Otros materiales     1\n",
       "Name: count, dtype: int64"
      ]
     },
     "execution_count": 138,
     "metadata": {},
     "output_type": "execute_result"
    }
   ],
   "source": [
    "redpiso_unido2[\"tipo_fachada\"].value_counts()"
   ]
  },
  {
   "cell_type": "code",
   "execution_count": 158,
   "metadata": {},
   "outputs": [],
   "source": [
    "# renombramiento de columna \n",
    "redpiso_unido2= redpiso_unido2.rename(columns={\"Tipo de suelo_fachada\":\"tipo_suelo\"})\n",
    "redpiso_unido2= redpiso_unido2.rename(columns={\"barrios\":\"barrio\"})\n",
    "redpiso_unido2= redpiso_unido2.rename(columns={\"Zonas_verdes\":\"zonas_verdes\"})\n",
    "redpiso_unido2= redpiso_unido2.rename(columns={\"codigo_Postal\":\"codigo_postal\"})"
   ]
  },
  {
   "cell_type": "code",
   "execution_count": 159,
   "metadata": {},
   "outputs": [
    {
     "data": {
      "text/plain": [
       "Index(['referencia', 'cantidad_visitas', 'fecha_publicacion', 'banos',\n",
       "       'titular_anuncio', 'descripcion_extendida', 'campo12', 'dormitorios',\n",
       "       'cantidad_armarios', 'consumo_energia', 'emisiones_CO2',\n",
       "       'cal_energetica', 'estado', 'antiguedad', 'ascensor',\n",
       "       'aire_acondicionado', 'orientacion', 'agua_caliente', 'calefaccion',\n",
       "       'tipo_suelo', 'cocina_equipada', 'garaje', 'm2_utiles', 'vista_zona',\n",
       "       'piscina', 'trastero', 'gastos_comunidad', 'zonas_verdes', 'terrazas',\n",
       "       'acceso_minusvalido', 'puerta_seguridad', 'conserje', 'num_plantas',\n",
       "       'num_pisos', 'alarma', 'amueblado', 'precio', 'url_imagen', 'reservado',\n",
       "       'm2_constr', 'cantidad_dormitorios', 'url', 'titulo', 'nombre_oficina',\n",
       "       'tipologia', 'barrio', 'cod_barrio', 'cod_barrio_2', 'distrito',\n",
       "       'cod_distrito', 'codigo_postal'],\n",
       "      dtype='object')"
      ]
     },
     "execution_count": 159,
     "metadata": {},
     "output_type": "execute_result"
    }
   ],
   "source": [
    "redpiso_unido2.columns"
   ]
  },
  {
   "cell_type": "code",
   "execution_count": 160,
   "metadata": {},
   "outputs": [
    {
     "ename": "KeyError",
     "evalue": "\"['_merge', 'officelink_url', 'contacto', 'm2constr'] not found in axis\"",
     "output_type": "error",
     "traceback": [
      "\u001b[1;31m---------------------------------------------------------------------------\u001b[0m",
      "\u001b[1;31mKeyError\u001b[0m                                  Traceback (most recent call last)",
      "Cell \u001b[1;32mIn[160], line 3\u001b[0m\n\u001b[0;32m      1\u001b[0m columnas_a_eliminar \u001b[38;5;241m=\u001b[39m [\u001b[38;5;124m\"\u001b[39m\u001b[38;5;124m_merge\u001b[39m\u001b[38;5;124m\"\u001b[39m,\u001b[38;5;124m\"\u001b[39m\u001b[38;5;124mofficelink_url\u001b[39m\u001b[38;5;124m\"\u001b[39m,\u001b[38;5;124m\"\u001b[39m\u001b[38;5;124mcontacto\u001b[39m\u001b[38;5;124m\"\u001b[39m,\u001b[38;5;124m\"\u001b[39m\u001b[38;5;124mm2constr\u001b[39m\u001b[38;5;124m\"\u001b[39m]\n\u001b[1;32m----> 3\u001b[0m redpiso_unido2\u001b[38;5;241m=\u001b[39m \u001b[43mredpiso_unido2\u001b[49m\u001b[38;5;241;43m.\u001b[39;49m\u001b[43mdrop\u001b[49m\u001b[43m(\u001b[49m\u001b[43mcolumns\u001b[49m\u001b[38;5;241;43m=\u001b[39;49m\u001b[43mcolumnas_a_eliminar\u001b[49m\u001b[43m)\u001b[49m\n",
      "File \u001b[1;32mc:\\Users\\extas\\anaconda3\\envs\\Nuclio\\Lib\\site-packages\\pandas\\core\\frame.py:5581\u001b[0m, in \u001b[0;36mDataFrame.drop\u001b[1;34m(self, labels, axis, index, columns, level, inplace, errors)\u001b[0m\n\u001b[0;32m   5433\u001b[0m \u001b[38;5;28;01mdef\u001b[39;00m \u001b[38;5;21mdrop\u001b[39m(\n\u001b[0;32m   5434\u001b[0m     \u001b[38;5;28mself\u001b[39m,\n\u001b[0;32m   5435\u001b[0m     labels: IndexLabel \u001b[38;5;241m|\u001b[39m \u001b[38;5;28;01mNone\u001b[39;00m \u001b[38;5;241m=\u001b[39m \u001b[38;5;28;01mNone\u001b[39;00m,\n\u001b[1;32m   (...)\u001b[0m\n\u001b[0;32m   5442\u001b[0m     errors: IgnoreRaise \u001b[38;5;241m=\u001b[39m \u001b[38;5;124m\"\u001b[39m\u001b[38;5;124mraise\u001b[39m\u001b[38;5;124m\"\u001b[39m,\n\u001b[0;32m   5443\u001b[0m ) \u001b[38;5;241m-\u001b[39m\u001b[38;5;241m>\u001b[39m DataFrame \u001b[38;5;241m|\u001b[39m \u001b[38;5;28;01mNone\u001b[39;00m:\n\u001b[0;32m   5444\u001b[0m \u001b[38;5;250m    \u001b[39m\u001b[38;5;124;03m\"\"\"\u001b[39;00m\n\u001b[0;32m   5445\u001b[0m \u001b[38;5;124;03m    Drop specified labels from rows or columns.\u001b[39;00m\n\u001b[0;32m   5446\u001b[0m \n\u001b[1;32m   (...)\u001b[0m\n\u001b[0;32m   5579\u001b[0m \u001b[38;5;124;03m            weight  1.0     0.8\u001b[39;00m\n\u001b[0;32m   5580\u001b[0m \u001b[38;5;124;03m    \"\"\"\u001b[39;00m\n\u001b[1;32m-> 5581\u001b[0m     \u001b[38;5;28;01mreturn\u001b[39;00m \u001b[38;5;28;43msuper\u001b[39;49m\u001b[43m(\u001b[49m\u001b[43m)\u001b[49m\u001b[38;5;241;43m.\u001b[39;49m\u001b[43mdrop\u001b[49m\u001b[43m(\u001b[49m\n\u001b[0;32m   5582\u001b[0m \u001b[43m        \u001b[49m\u001b[43mlabels\u001b[49m\u001b[38;5;241;43m=\u001b[39;49m\u001b[43mlabels\u001b[49m\u001b[43m,\u001b[49m\n\u001b[0;32m   5583\u001b[0m \u001b[43m        \u001b[49m\u001b[43maxis\u001b[49m\u001b[38;5;241;43m=\u001b[39;49m\u001b[43maxis\u001b[49m\u001b[43m,\u001b[49m\n\u001b[0;32m   5584\u001b[0m \u001b[43m        \u001b[49m\u001b[43mindex\u001b[49m\u001b[38;5;241;43m=\u001b[39;49m\u001b[43mindex\u001b[49m\u001b[43m,\u001b[49m\n\u001b[0;32m   5585\u001b[0m \u001b[43m        \u001b[49m\u001b[43mcolumns\u001b[49m\u001b[38;5;241;43m=\u001b[39;49m\u001b[43mcolumns\u001b[49m\u001b[43m,\u001b[49m\n\u001b[0;32m   5586\u001b[0m \u001b[43m        \u001b[49m\u001b[43mlevel\u001b[49m\u001b[38;5;241;43m=\u001b[39;49m\u001b[43mlevel\u001b[49m\u001b[43m,\u001b[49m\n\u001b[0;32m   5587\u001b[0m \u001b[43m        \u001b[49m\u001b[43minplace\u001b[49m\u001b[38;5;241;43m=\u001b[39;49m\u001b[43minplace\u001b[49m\u001b[43m,\u001b[49m\n\u001b[0;32m   5588\u001b[0m \u001b[43m        \u001b[49m\u001b[43merrors\u001b[49m\u001b[38;5;241;43m=\u001b[39;49m\u001b[43merrors\u001b[49m\u001b[43m,\u001b[49m\n\u001b[0;32m   5589\u001b[0m \u001b[43m    \u001b[49m\u001b[43m)\u001b[49m\n",
      "File \u001b[1;32mc:\\Users\\extas\\anaconda3\\envs\\Nuclio\\Lib\\site-packages\\pandas\\core\\generic.py:4788\u001b[0m, in \u001b[0;36mNDFrame.drop\u001b[1;34m(self, labels, axis, index, columns, level, inplace, errors)\u001b[0m\n\u001b[0;32m   4786\u001b[0m \u001b[38;5;28;01mfor\u001b[39;00m axis, labels \u001b[38;5;129;01min\u001b[39;00m axes\u001b[38;5;241m.\u001b[39mitems():\n\u001b[0;32m   4787\u001b[0m     \u001b[38;5;28;01mif\u001b[39;00m labels \u001b[38;5;129;01mis\u001b[39;00m \u001b[38;5;129;01mnot\u001b[39;00m \u001b[38;5;28;01mNone\u001b[39;00m:\n\u001b[1;32m-> 4788\u001b[0m         obj \u001b[38;5;241m=\u001b[39m \u001b[43mobj\u001b[49m\u001b[38;5;241;43m.\u001b[39;49m\u001b[43m_drop_axis\u001b[49m\u001b[43m(\u001b[49m\u001b[43mlabels\u001b[49m\u001b[43m,\u001b[49m\u001b[43m \u001b[49m\u001b[43maxis\u001b[49m\u001b[43m,\u001b[49m\u001b[43m \u001b[49m\u001b[43mlevel\u001b[49m\u001b[38;5;241;43m=\u001b[39;49m\u001b[43mlevel\u001b[49m\u001b[43m,\u001b[49m\u001b[43m \u001b[49m\u001b[43merrors\u001b[49m\u001b[38;5;241;43m=\u001b[39;49m\u001b[43merrors\u001b[49m\u001b[43m)\u001b[49m\n\u001b[0;32m   4790\u001b[0m \u001b[38;5;28;01mif\u001b[39;00m inplace:\n\u001b[0;32m   4791\u001b[0m     \u001b[38;5;28mself\u001b[39m\u001b[38;5;241m.\u001b[39m_update_inplace(obj)\n",
      "File \u001b[1;32mc:\\Users\\extas\\anaconda3\\envs\\Nuclio\\Lib\\site-packages\\pandas\\core\\generic.py:4830\u001b[0m, in \u001b[0;36mNDFrame._drop_axis\u001b[1;34m(self, labels, axis, level, errors, only_slice)\u001b[0m\n\u001b[0;32m   4828\u001b[0m         new_axis \u001b[38;5;241m=\u001b[39m axis\u001b[38;5;241m.\u001b[39mdrop(labels, level\u001b[38;5;241m=\u001b[39mlevel, errors\u001b[38;5;241m=\u001b[39merrors)\n\u001b[0;32m   4829\u001b[0m     \u001b[38;5;28;01melse\u001b[39;00m:\n\u001b[1;32m-> 4830\u001b[0m         new_axis \u001b[38;5;241m=\u001b[39m \u001b[43maxis\u001b[49m\u001b[38;5;241;43m.\u001b[39;49m\u001b[43mdrop\u001b[49m\u001b[43m(\u001b[49m\u001b[43mlabels\u001b[49m\u001b[43m,\u001b[49m\u001b[43m \u001b[49m\u001b[43merrors\u001b[49m\u001b[38;5;241;43m=\u001b[39;49m\u001b[43merrors\u001b[49m\u001b[43m)\u001b[49m\n\u001b[0;32m   4831\u001b[0m     indexer \u001b[38;5;241m=\u001b[39m axis\u001b[38;5;241m.\u001b[39mget_indexer(new_axis)\n\u001b[0;32m   4833\u001b[0m \u001b[38;5;66;03m# Case for non-unique axis\u001b[39;00m\n\u001b[0;32m   4834\u001b[0m \u001b[38;5;28;01melse\u001b[39;00m:\n",
      "File \u001b[1;32mc:\\Users\\extas\\anaconda3\\envs\\Nuclio\\Lib\\site-packages\\pandas\\core\\indexes\\base.py:7070\u001b[0m, in \u001b[0;36mIndex.drop\u001b[1;34m(self, labels, errors)\u001b[0m\n\u001b[0;32m   7068\u001b[0m \u001b[38;5;28;01mif\u001b[39;00m mask\u001b[38;5;241m.\u001b[39many():\n\u001b[0;32m   7069\u001b[0m     \u001b[38;5;28;01mif\u001b[39;00m errors \u001b[38;5;241m!=\u001b[39m \u001b[38;5;124m\"\u001b[39m\u001b[38;5;124mignore\u001b[39m\u001b[38;5;124m\"\u001b[39m:\n\u001b[1;32m-> 7070\u001b[0m         \u001b[38;5;28;01mraise\u001b[39;00m \u001b[38;5;167;01mKeyError\u001b[39;00m(\u001b[38;5;124mf\u001b[39m\u001b[38;5;124m\"\u001b[39m\u001b[38;5;132;01m{\u001b[39;00mlabels[mask]\u001b[38;5;241m.\u001b[39mtolist()\u001b[38;5;132;01m}\u001b[39;00m\u001b[38;5;124m not found in axis\u001b[39m\u001b[38;5;124m\"\u001b[39m)\n\u001b[0;32m   7071\u001b[0m     indexer \u001b[38;5;241m=\u001b[39m indexer[\u001b[38;5;241m~\u001b[39mmask]\n\u001b[0;32m   7072\u001b[0m \u001b[38;5;28;01mreturn\u001b[39;00m \u001b[38;5;28mself\u001b[39m\u001b[38;5;241m.\u001b[39mdelete(indexer)\n",
      "\u001b[1;31mKeyError\u001b[0m: \"['_merge', 'officelink_url', 'contacto', 'm2constr'] not found in axis\""
     ]
    }
   ],
   "source": [
    "columnas_a_eliminar = [\"_merge\",\"officelink_url\",\"contacto\",\"m2constr\"]\n",
    "\n",
    "redpiso_unido2= redpiso_unido2.drop(columns=columnas_a_eliminar)"
   ]
  },
  {
   "cell_type": "code",
   "execution_count": 161,
   "metadata": {},
   "outputs": [],
   "source": [
    "redpiso_unido2.to_csv(\"red_pisoparaunir.csv\",index=False)"
   ]
  },
  {
   "cell_type": "code",
   "execution_count": 150,
   "metadata": {},
   "outputs": [
    {
     "data": {
      "text/plain": [
       "url                                                                                                                             \n",
       "https://www.redpiso.es/inmueble/piso-en-venta-en-calle-pinzon-vista-alegre-carabanchel-madrid-madrid-RP302023121517                 4\n",
       "https://www.redpiso.es/inmueble/apartamento-en-venta-en-calle-alberto-aguilera-gaztambide-chamberi-madrid-madrid-RP1782024122328    1\n",
       "https://www.redpiso.es/inmueble/piso-en-venta-en-calle-portalegre-opanel-carabanchel-madrid-madrid-RP2412024124127                  1\n",
       "https://www.redpiso.es/inmueble/piso-en-venta-en-calle-principe-de-vergara-hispanoamerica-chamartin-madrid-madrid-RP902023109627    1\n",
       "https://www.redpiso.es/inmueble/piso-en-venta-en-calle-principe-de-vergara-hispanoamerica-chamartin-madrid-madrid-RP902022102747    1\n",
       "                                                                                                                                   ..\n",
       "https://www.redpiso.es/inmueble/piso-en-venta-en-calle-colomer-guindalera-salamanca-madrid-madrid-RP792024123939                    1\n",
       "https://www.redpiso.es/inmueble/piso-en-venta-en-calle-colombia-hispanoamerica-chamartin-madrid-madrid-RP902024126238               1\n",
       "https://www.redpiso.es/inmueble/piso-en-venta-en-calle-colombia-hispanoamerica-chamartin-madrid-madrid-RP902023116964               1\n",
       "https://www.redpiso.es/inmueble/piso-en-venta-en-calle-colombia-hispanoamerica-chamartin-madrid-madrid-RP902023115323               1\n",
       "https://www.redpiso.es/inmueble/piso-en-venta-en-vista-alegre-carabanchel-madrid-madrid-RP2892024131383                             1\n",
       "Name: count, Length: 1467, dtype: int64"
      ]
     },
     "execution_count": 150,
     "metadata": {},
     "output_type": "execute_result"
    }
   ],
   "source": [
    "redpiso_unido2[['url']].value_counts(dropna=False)"
   ]
  },
  {
   "cell_type": "code",
   "execution_count": null,
   "metadata": {},
   "outputs": [],
   "source": [
    "url_especifica = 'https://www.redpiso.es/inmueble/piso-en-venta-en-hispanoamerica-chamartin-madrid-madrid-RP902024129170'\n",
    "df17.loc[df17['url'].str.contains(url_especifica), ['m2_constr', 'planta']] = [155, 1]\n",
    "df17.loc[df17['url'].str.contains('https://www.redpiso.es/inmueble/en-venta-en-calle-la-alegria-de-la-huerta-los-angeles-villaverde-madrid-madrid-RP332024131222'), ['m2_constr','tiene_piscina','nuda_propiedad']] = [90,0,1]\n",
    "df17.loc[df17['url'].str.contains('https://www.redpiso.es/inmueble/piso-en-venta-en-madrid-madrid-RP352023120094'), ['m2_constr','tiene_piscina','terraza','trastero']] = [75,0,1,1]\n"
   ]
  },
  {
   "cell_type": "code",
   "execution_count": null,
   "metadata": {},
   "outputs": [],
   "source": [
    "dfredpiso['web']='redpiso'\n",
    "dfredpiso['fecha_descarga']='31/10/2024'\n",
    "# Llamar a la función pasándole tu dataframe\n",
    "dfredpiso= asignar_fachada(dfredpiso)\n",
    "#renombrar titulo a title en redpiso\n",
    "dfredpiso.rename(columns={'titulo': 'title', 'conserje':'porteria','antiguedad':'ano_construccion','emisiones_CO2':'emisiones_co2'}, inplace=True)\n",
    "dfredpiso[\"zona\"] = dfredpiso[\"nombre_oficina\"].str.replace(\"^REDPISO\", \"\", regex=True)\n",
    "dfunion.rename(columns={'read_all': 'descripcion_extendida'}, inplace=True)\n",
    "dfi.rename(columns={'read_all': 'descripcion_extendida','acceso_minusv':'acceso_minusvalido'}, inplace=True)\n",
    "celiminar=['url_imagen','dormitorios']\n",
    "dfredpiso.drop(columns=celiminar,inplace=True)\n",
    "dfredpiso.rename(columns={'cantidad_dormitorios': 'dormitorios'}, inplace=True)\n",
    "celiminar=['title2','ciudad']\n",
    "dfi.drop(columns=celiminar,inplace=True)\n",
    "\n",
    "celiminar=['Unnamed: 0']\n",
    "dfpm.drop(columns=celiminar,inplace=True)\n",
    "\n",
    "\n",
    "#coleliminar=['salon']\n",
    "#dfunion.drop(dolumns=celiminar,inplace=True)\n",
    "dfi['certificado_energetico'] = dfi['letrace'].apply(lambda x: 'Disponible' if pd.notna(x) and x != '' else 'No indicado')\n",
    "#en la columna antiguedad de redpiso_pisosmadrid2 quitar el texto año Ano de construccion del valor\n",
    "dfredpiso['ano_construccion']=dfredpiso['ano_construccion'].str.replace('Ano de construccion','')\n",
    "dfredpiso['ano_construccion']=dfredpiso['ano_construccion'].str.replace('Antiguedad','')\n",
    "# dfredpiso[\"plantas\"]=dfredpiso['plantas'].str.replace('Plantas','')\n",
    "# Crear la nueva columna 'exterior' y asignar el valor 1 cuando 'vista zona' sea 'Exterior'\n",
    "# dfredpiso=dfredpiso.drop(\"plantas\",axis=1)\n",
    "\n",
    "#dfredpiso['exterior'] = dfredpiso['vista_zona'].apply(lambda x: 1 if x == 'Exterior' else np.nan)\n",
    "# redpiso_pisosmadrid2=redpiso_pisosmadrid2.drop(\"vista zona\",axis=1)\n"
   ]
  },
  {
   "cell_type": "code",
   "execution_count": 143,
   "metadata": {},
   "outputs": [],
   "source": [
    "redpiso_unido2.to_csv(\"red_pisoparaunir.csv\",index=False)"
   ]
  }
 ],
 "metadata": {
  "kernelspec": {
   "display_name": "Nuclio",
   "language": "python",
   "name": "python3"
  },
  "language_info": {
   "codemirror_mode": {
    "name": "ipython",
    "version": 3
   },
   "file_extension": ".py",
   "mimetype": "text/x-python",
   "name": "python",
   "nbconvert_exporter": "python",
   "pygments_lexer": "ipython3",
   "version": "3.12.7"
  }
 },
 "nbformat": 4,
 "nbformat_minor": 2
}
