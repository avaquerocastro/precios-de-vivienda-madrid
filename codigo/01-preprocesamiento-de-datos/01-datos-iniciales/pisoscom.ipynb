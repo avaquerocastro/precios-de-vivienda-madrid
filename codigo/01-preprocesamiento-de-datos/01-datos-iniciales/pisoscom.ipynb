{
 "cells": [
  {
   "cell_type": "markdown",
   "metadata": {},
   "source": [
    "![Nuclio logo](https://nuclio.school/wp-content/uploads/2018/12/nucleoDS-newBlack.png)\n"
   ]
  },
  {
   "cell_type": "markdown",
   "metadata": {},
   "source": [
    "# CAPSTONE PROJECT: Predicción de precios de las viviendas en Madrid\n",
    "Limpieza de datos: Pisos.com"
   ]
  },
  {
   "cell_type": "markdown",
   "metadata": {},
   "source": [
    "Meta de creación de columnas:\n",
    "- `fecha_descarga`-\n",
    "- `web`-\n",
    "- `url`-\n",
    "- `precio`-\n",
    "- `barrio`-\n",
    "- `distrito`-\n",
    "- `codigo_postal`\n",
    "- `metros_utiles`\n",
    "- `metros_construidos`-\n",
    "- `num_hab`-\n",
    "- `num_banos`-\n",
    "- `planta`-\n",
    "- `tipologia`-\n",
    "- `obra_nueva`\n",
    "- `cocina`\n",
    "- `garage`\n",
    "- `trastero`\n",
    "- `orientacion`\n",
    "- `estado`-\n",
    "- `antiguedad`\n",
    "- `consumo`\n",
    "- `fecha_publicacion`\n",
    "- `subasta`\n",
    "- `visitas`\n",
    "- `amueblado`\n",
    "- `calefaccion`\n",
    "- `terraza`\n",
    "- `balcon`\n",
    "- `piscina`\n",
    "- `jardin`\n",
    "- `aire_acondionado`\n",
    "- `detalle`\n",
    "\n",
    "Cuatro datasets recibidos\n",
    "- data_sales_19102024.xlsx\n",
    "- data_salesagosto2024.xlsx\n",
    "- Detalles_datasales19102024.xlsx\n",
    "- Detalles2_datasales19102024.xlsx"
   ]
  },
  {
   "cell_type": "code",
   "execution_count": 156,
   "metadata": {},
   "outputs": [],
   "source": [
    "import pandas as pd\n",
    "import numpy as np\n",
    "import re"
   ]
  },
  {
   "cell_type": "markdown",
   "metadata": {},
   "source": [
    "## DATA FRAMES GENERALES"
   ]
  },
  {
   "cell_type": "markdown",
   "metadata": {},
   "source": [
    "### TRANSFORMAR COLUMNAS Y MERGE"
   ]
  },
  {
   "cell_type": "code",
   "execution_count": 157,
   "metadata": {},
   "outputs": [],
   "source": [
    "#df_pisos_10 = pd.read_excel('/Users/AleVC/Library/CloudStorage/GoogleDrive-ale.vaquero.c@gmail.com/My Drive/Nuclio/Máster en Data Science/TFM/PisosCom/data_sales_19102024.xlsx')\n",
    "#df_pisos_10.head(2)"
   ]
  },
  {
   "cell_type": "code",
   "execution_count": 229,
   "metadata": {},
   "outputs": [
    {
     "data": {
      "text/html": [
       "<div>\n",
       "<style scoped>\n",
       "    .dataframe tbody tr th:only-of-type {\n",
       "        vertical-align: middle;\n",
       "    }\n",
       "\n",
       "    .dataframe tbody tr th {\n",
       "        vertical-align: top;\n",
       "    }\n",
       "\n",
       "    .dataframe thead th {\n",
       "        text-align: right;\n",
       "    }\n",
       "</style>\n",
       "<table border=\"1\" class=\"dataframe\">\n",
       "  <thead>\n",
       "    <tr style=\"text-align: right;\">\n",
       "      <th></th>\n",
       "      <th>title</th>\n",
       "      <th>zone</th>\n",
       "      <th>municipality</th>\n",
       "      <th>price</th>\n",
       "      <th>bedrooms</th>\n",
       "      <th>bathrooms</th>\n",
       "      <th>size</th>\n",
       "      <th>floor</th>\n",
       "      <th>priceByArea</th>\n",
       "      <th>tipology</th>\n",
       "      <th>state</th>\n",
       "      <th>url</th>\n",
       "    </tr>\n",
       "  </thead>\n",
       "  <tbody>\n",
       "    <tr>\n",
       "      <th>0</th>\n",
       "      <td>Apartamento en venta en Paseo de las Acacias</td>\n",
       "      <td>Acacias (Distrito Arganzuela. Madrid Capital)</td>\n",
       "      <td>madrid</td>\n",
       "      <td>245.000 €</td>\n",
       "      <td>2 habs.</td>\n",
       "      <td>1 baño</td>\n",
       "      <td>42 m²</td>\n",
       "      <td>3ª planta</td>\n",
       "      <td>5.833 €/m²</td>\n",
       "      <td>NaN</td>\n",
       "      <td>En buen estado</td>\n",
       "      <td>https://www.pisos.com/comprar/apartamento-acacias28005-47581419946_100500/</td>\n",
       "    </tr>\n",
       "    <tr>\n",
       "      <th>1</th>\n",
       "      <td>Apartamento en venta en Calle de Carlos y Guillermo Fernández Shaw</td>\n",
       "      <td>Adelfas (Distrito Retiro. Madrid Capital)</td>\n",
       "      <td>madrid</td>\n",
       "      <td>767.500 €</td>\n",
       "      <td>3 habs.</td>\n",
       "      <td>2 baños</td>\n",
       "      <td>110 m²</td>\n",
       "      <td>NaN</td>\n",
       "      <td>6.977 €/m²</td>\n",
       "      <td>NaN</td>\n",
       "      <td>NaN</td>\n",
       "      <td>https://www.pisos.com/comprar/apartamento-adelfas28007-45835099732_101800/</td>\n",
       "    </tr>\n",
       "  </tbody>\n",
       "</table>\n",
       "</div>"
      ],
      "text/plain": [
       "                                                                title  \\\n",
       "0                        Apartamento en venta en Paseo de las Acacias   \n",
       "1  Apartamento en venta en Calle de Carlos y Guillermo Fernández Shaw   \n",
       "\n",
       "                                            zone municipality      price  \\\n",
       "0  Acacias (Distrito Arganzuela. Madrid Capital)       madrid  245.000 €   \n",
       "1      Adelfas (Distrito Retiro. Madrid Capital)       madrid  767.500 €   \n",
       "\n",
       "  bedrooms bathrooms    size      floor priceByArea tipology           state  \\\n",
       "0  2 habs.    1 baño   42 m²  3ª planta  5.833 €/m²      NaN  En buen estado   \n",
       "1  3 habs.   2 baños  110 m²        NaN  6.977 €/m²      NaN             NaN   \n",
       "\n",
       "                                                                          url  \n",
       "0  https://www.pisos.com/comprar/apartamento-acacias28005-47581419946_100500/  \n",
       "1  https://www.pisos.com/comprar/apartamento-adelfas28007-45835099732_101800/  "
      ]
     },
     "execution_count": 229,
     "metadata": {},
     "output_type": "execute_result"
    }
   ],
   "source": [
    "#Silvia, modifico la ruta para acceder al archivo de datos\n",
    "df_pisos_10=pd.read_excel('./03-pisos-com/data_sales_19102024.xlsx')\n",
    "df_pisos_10.head(2)\n"
   ]
  },
  {
   "cell_type": "code",
   "execution_count": 231,
   "metadata": {},
   "outputs": [
    {
     "data": {
      "text/plain": [
       "size\n",
       "160 m²      136\n",
       "110 m²       93\n",
       "65 m²        89\n",
       "53 m²        76\n",
       "123 m²       75\n",
       "           ... \n",
       "754 m²        1\n",
       "775 m²        1\n",
       "700 m²        1\n",
       "1.525 m²      1\n",
       "490 m²        1\n",
       "Name: count, Length: 431, dtype: int64"
      ]
     },
     "execution_count": 231,
     "metadata": {},
     "output_type": "execute_result"
    }
   ],
   "source": [
    "df_pisos_10['size'].value_counts(dropna=False)"
   ]
  },
  {
   "cell_type": "code",
   "execution_count": 159,
   "metadata": {},
   "outputs": [
    {
     "data": {
      "text/html": [
       "<div>\n",
       "<style scoped>\n",
       "    .dataframe tbody tr th:only-of-type {\n",
       "        vertical-align: middle;\n",
       "    }\n",
       "\n",
       "    .dataframe tbody tr th {\n",
       "        vertical-align: top;\n",
       "    }\n",
       "\n",
       "    .dataframe thead th {\n",
       "        text-align: right;\n",
       "    }\n",
       "</style>\n",
       "<table border=\"1\" class=\"dataframe\">\n",
       "  <thead>\n",
       "    <tr style=\"text-align: right;\">\n",
       "      <th></th>\n",
       "      <th>title</th>\n",
       "      <th>zone</th>\n",
       "      <th>municipality</th>\n",
       "      <th>price</th>\n",
       "      <th>bedrooms</th>\n",
       "      <th>bathrooms</th>\n",
       "      <th>size</th>\n",
       "      <th>floor</th>\n",
       "      <th>priceByArea</th>\n",
       "      <th>tipology</th>\n",
       "      <th>state</th>\n",
       "      <th>url</th>\n",
       "    </tr>\n",
       "  </thead>\n",
       "  <tbody>\n",
       "    <tr>\n",
       "      <th>0</th>\n",
       "      <td>Apartamento en venta en Calle de Valdelasierra</td>\n",
       "      <td>Acacias (Distrito Arganzuela. Madrid Capital)</td>\n",
       "      <td>madrid</td>\n",
       "      <td>255.000 €</td>\n",
       "      <td>1 hab.</td>\n",
       "      <td>1 baño</td>\n",
       "      <td>71 m²</td>\n",
       "      <td>NaN</td>\n",
       "      <td>3.591 €/m²</td>\n",
       "      <td>NaN</td>\n",
       "      <td>En buen estado</td>\n",
       "      <td>https://www.pisos.com/comprar/apartamento-acacias28005-46704102553_993362/</td>\n",
       "    </tr>\n",
       "    <tr>\n",
       "      <th>1</th>\n",
       "      <td>Apartamento en venta en Paseo de Santa María de la Cabeza, cerca de Paseo de las Delicias</td>\n",
       "      <td>Acacias (Distrito Arganzuela. Madrid Capital)</td>\n",
       "      <td>madrid</td>\n",
       "      <td>397.000 €</td>\n",
       "      <td>1 hab.</td>\n",
       "      <td>1 baño</td>\n",
       "      <td>73 m²</td>\n",
       "      <td>3ª planta</td>\n",
       "      <td>5.438 €/m²</td>\n",
       "      <td>NaN</td>\n",
       "      <td>En buen estado</td>\n",
       "      <td>https://www.pisos.com/comprar/apartamento-acacias28045-45078322021_993362/</td>\n",
       "    </tr>\n",
       "  </tbody>\n",
       "</table>\n",
       "</div>"
      ],
      "text/plain": [
       "                                                                                       title  \\\n",
       "0                                             Apartamento en venta en Calle de Valdelasierra   \n",
       "1  Apartamento en venta en Paseo de Santa María de la Cabeza, cerca de Paseo de las Delicias   \n",
       "\n",
       "                                            zone municipality      price  \\\n",
       "0  Acacias (Distrito Arganzuela. Madrid Capital)       madrid  255.000 €   \n",
       "1  Acacias (Distrito Arganzuela. Madrid Capital)       madrid  397.000 €   \n",
       "\n",
       "  bedrooms bathrooms   size      floor priceByArea tipology           state  \\\n",
       "0   1 hab.    1 baño  71 m²        NaN  3.591 €/m²      NaN  En buen estado   \n",
       "1   1 hab.    1 baño  73 m²  3ª planta  5.438 €/m²      NaN  En buen estado   \n",
       "\n",
       "                                                                          url  \n",
       "0  https://www.pisos.com/comprar/apartamento-acacias28005-46704102553_993362/  \n",
       "1  https://www.pisos.com/comprar/apartamento-acacias28045-45078322021_993362/  "
      ]
     },
     "execution_count": 159,
     "metadata": {},
     "output_type": "execute_result"
    }
   ],
   "source": [
    "df_pisos_08=pd.read_excel('./03-pisos-com/data_salesagosto2024.xlsx')\n",
    "\n",
    "df_pisos_08.head(2)"
   ]
  },
  {
   "cell_type": "code",
   "execution_count": 160,
   "metadata": {},
   "outputs": [],
   "source": [
    "#df_pisos_08 = pd.read_excel('/Users/AleVC/Library/CloudStorage/GoogleDrive-ale.vaquero.c@gmail.com/My Drive/Nuclio/Máster en Data Science/TFM/PisosCom/data_salesagosto2024.xlsx')\n",
    "#df_pisos_08.head(2)"
   ]
  },
  {
   "cell_type": "code",
   "execution_count": 161,
   "metadata": {},
   "outputs": [
    {
     "data": {
      "text/plain": [
       "(3715, 12)"
      ]
     },
     "execution_count": 161,
     "metadata": {},
     "output_type": "execute_result"
    }
   ],
   "source": [
    "df_pisos_10.shape\n",
    "# 3715, 12"
   ]
  },
  {
   "cell_type": "code",
   "execution_count": 162,
   "metadata": {},
   "outputs": [
    {
     "data": {
      "text/plain": [
       "735"
      ]
     },
     "execution_count": 162,
     "metadata": {},
     "output_type": "execute_result"
    }
   ],
   "source": [
    "df_pisos_10_dupl = df_pisos_10.duplicated().sum()\n",
    "df_pisos_10_dupl\n",
    "# 735 filas duplicadas"
   ]
  },
  {
   "cell_type": "code",
   "execution_count": 163,
   "metadata": {},
   "outputs": [
    {
     "data": {
      "text/plain": [
       "(2980, 12)"
      ]
     },
     "execution_count": 163,
     "metadata": {},
     "output_type": "execute_result"
    }
   ],
   "source": [
    "df_pisos_10 = df_pisos_10.drop_duplicates()\n",
    "df_pisos_10.shape\n",
    "# 2980, 12"
   ]
  },
  {
   "cell_type": "code",
   "execution_count": 164,
   "metadata": {},
   "outputs": [
    {
     "data": {
      "text/plain": [
       "(4233, 12)"
      ]
     },
     "execution_count": 164,
     "metadata": {},
     "output_type": "execute_result"
    }
   ],
   "source": [
    "df_pisos_08.shape\n",
    "# 4233, 12"
   ]
  },
  {
   "cell_type": "code",
   "execution_count": 165,
   "metadata": {},
   "outputs": [
    {
     "data": {
      "text/plain": [
       "1264"
      ]
     },
     "execution_count": 165,
     "metadata": {},
     "output_type": "execute_result"
    }
   ],
   "source": [
    "df_pisos_08_dupl = df_pisos_08.duplicated().sum()\n",
    "df_pisos_08_dupl\n",
    "# 1264 filas duplicadas"
   ]
  },
  {
   "cell_type": "code",
   "execution_count": 166,
   "metadata": {},
   "outputs": [
    {
     "data": {
      "text/plain": [
       "(2969, 12)"
      ]
     },
     "execution_count": 166,
     "metadata": {},
     "output_type": "execute_result"
    }
   ],
   "source": [
    "df_pisos_08 = df_pisos_08.drop_duplicates()\n",
    "df_pisos_08.shape\n",
    "# 2969, 12"
   ]
  },
  {
   "cell_type": "code",
   "execution_count": 167,
   "metadata": {},
   "outputs": [
    {
     "data": {
      "text/html": [
       "<div>\n",
       "<style scoped>\n",
       "    .dataframe tbody tr th:only-of-type {\n",
       "        vertical-align: middle;\n",
       "    }\n",
       "\n",
       "    .dataframe tbody tr th {\n",
       "        vertical-align: top;\n",
       "    }\n",
       "\n",
       "    .dataframe thead th {\n",
       "        text-align: right;\n",
       "    }\n",
       "</style>\n",
       "<table border=\"1\" class=\"dataframe\">\n",
       "  <thead>\n",
       "    <tr style=\"text-align: right;\">\n",
       "      <th></th>\n",
       "      <th>title</th>\n",
       "      <th>zone</th>\n",
       "      <th>municipality</th>\n",
       "      <th>price</th>\n",
       "      <th>bedrooms</th>\n",
       "      <th>bathrooms</th>\n",
       "      <th>size</th>\n",
       "      <th>floor</th>\n",
       "      <th>priceByArea</th>\n",
       "      <th>tipology</th>\n",
       "      <th>state</th>\n",
       "      <th>url</th>\n",
       "      <th>fecha_descarga</th>\n",
       "    </tr>\n",
       "  </thead>\n",
       "  <tbody>\n",
       "    <tr>\n",
       "      <th>0</th>\n",
       "      <td>Apartamento en venta en Paseo de las Acacias</td>\n",
       "      <td>Acacias (Distrito Arganzuela. Madrid Capital)</td>\n",
       "      <td>madrid</td>\n",
       "      <td>245.000 €</td>\n",
       "      <td>2 habs.</td>\n",
       "      <td>1 baño</td>\n",
       "      <td>42 m²</td>\n",
       "      <td>3ª planta</td>\n",
       "      <td>5.833 €/m²</td>\n",
       "      <td>NaN</td>\n",
       "      <td>En buen estado</td>\n",
       "      <td>https://www.pisos.com/comprar/apartamento-acacias28005-47581419946_100500/</td>\n",
       "      <td>2024-10-19</td>\n",
       "    </tr>\n",
       "  </tbody>\n",
       "</table>\n",
       "</div>"
      ],
      "text/plain": [
       "                                          title  \\\n",
       "0  Apartamento en venta en Paseo de las Acacias   \n",
       "\n",
       "                                            zone municipality      price  \\\n",
       "0  Acacias (Distrito Arganzuela. Madrid Capital)       madrid  245.000 €   \n",
       "\n",
       "  bedrooms bathrooms   size      floor priceByArea tipology           state  \\\n",
       "0  2 habs.    1 baño  42 m²  3ª planta  5.833 €/m²      NaN  En buen estado   \n",
       "\n",
       "                                                                          url  \\\n",
       "0  https://www.pisos.com/comprar/apartamento-acacias28005-47581419946_100500/   \n",
       "\n",
       "  fecha_descarga  \n",
       "0     2024-10-19  "
      ]
     },
     "execution_count": 167,
     "metadata": {},
     "output_type": "execute_result"
    }
   ],
   "source": [
    "df_pisos_10['fecha_descarga'] = pd.to_datetime('2024-10-19')\n",
    "df_pisos_10.head(1)"
   ]
  },
  {
   "cell_type": "code",
   "execution_count": 168,
   "metadata": {},
   "outputs": [
    {
     "data": {
      "text/plain": [
       "(2980, 13)"
      ]
     },
     "execution_count": 168,
     "metadata": {},
     "output_type": "execute_result"
    }
   ],
   "source": [
    "df_pisos_10.shape\n",
    "# (2980, 13)"
   ]
  },
  {
   "cell_type": "code",
   "execution_count": 169,
   "metadata": {},
   "outputs": [
    {
     "data": {
      "text/html": [
       "<div>\n",
       "<style scoped>\n",
       "    .dataframe tbody tr th:only-of-type {\n",
       "        vertical-align: middle;\n",
       "    }\n",
       "\n",
       "    .dataframe tbody tr th {\n",
       "        vertical-align: top;\n",
       "    }\n",
       "\n",
       "    .dataframe thead th {\n",
       "        text-align: right;\n",
       "    }\n",
       "</style>\n",
       "<table border=\"1\" class=\"dataframe\">\n",
       "  <thead>\n",
       "    <tr style=\"text-align: right;\">\n",
       "      <th></th>\n",
       "      <th>title</th>\n",
       "      <th>zone</th>\n",
       "      <th>municipality</th>\n",
       "      <th>price</th>\n",
       "      <th>bedrooms</th>\n",
       "      <th>bathrooms</th>\n",
       "      <th>size</th>\n",
       "      <th>floor</th>\n",
       "      <th>priceByArea</th>\n",
       "      <th>tipology</th>\n",
       "      <th>state</th>\n",
       "      <th>url</th>\n",
       "      <th>fecha_descarga</th>\n",
       "    </tr>\n",
       "  </thead>\n",
       "  <tbody>\n",
       "    <tr>\n",
       "      <th>0</th>\n",
       "      <td>Apartamento en venta en Calle de Valdelasierra</td>\n",
       "      <td>Acacias (Distrito Arganzuela. Madrid Capital)</td>\n",
       "      <td>madrid</td>\n",
       "      <td>255.000 €</td>\n",
       "      <td>1 hab.</td>\n",
       "      <td>1 baño</td>\n",
       "      <td>71 m²</td>\n",
       "      <td>NaN</td>\n",
       "      <td>3.591 €/m²</td>\n",
       "      <td>NaN</td>\n",
       "      <td>En buen estado</td>\n",
       "      <td>https://www.pisos.com/comprar/apartamento-acacias28005-46704102553_993362/</td>\n",
       "      <td>2024-08-19</td>\n",
       "    </tr>\n",
       "  </tbody>\n",
       "</table>\n",
       "</div>"
      ],
      "text/plain": [
       "                                            title  \\\n",
       "0  Apartamento en venta en Calle de Valdelasierra   \n",
       "\n",
       "                                            zone municipality      price  \\\n",
       "0  Acacias (Distrito Arganzuela. Madrid Capital)       madrid  255.000 €   \n",
       "\n",
       "  bedrooms bathrooms   size floor priceByArea tipology           state  \\\n",
       "0   1 hab.    1 baño  71 m²   NaN  3.591 €/m²      NaN  En buen estado   \n",
       "\n",
       "                                                                          url  \\\n",
       "0  https://www.pisos.com/comprar/apartamento-acacias28005-46704102553_993362/   \n",
       "\n",
       "  fecha_descarga  \n",
       "0     2024-08-19  "
      ]
     },
     "execution_count": 169,
     "metadata": {},
     "output_type": "execute_result"
    }
   ],
   "source": [
    "df_pisos_08['fecha_descarga'] = pd.to_datetime('2024-08-19')\n",
    "df_pisos_08.head(1)"
   ]
  },
  {
   "cell_type": "code",
   "execution_count": 170,
   "metadata": {},
   "outputs": [
    {
     "data": {
      "text/plain": [
       "(2969, 13)"
      ]
     },
     "execution_count": 170,
     "metadata": {},
     "output_type": "execute_result"
    }
   ],
   "source": [
    "df_pisos_08.shape\n",
    "# (2969, 13)"
   ]
  },
  {
   "cell_type": "code",
   "execution_count": 171,
   "metadata": {},
   "outputs": [
    {
     "data": {
      "text/html": [
       "<div>\n",
       "<style scoped>\n",
       "    .dataframe tbody tr th:only-of-type {\n",
       "        vertical-align: middle;\n",
       "    }\n",
       "\n",
       "    .dataframe tbody tr th {\n",
       "        vertical-align: top;\n",
       "    }\n",
       "\n",
       "    .dataframe thead th {\n",
       "        text-align: right;\n",
       "    }\n",
       "</style>\n",
       "<table border=\"1\" class=\"dataframe\">\n",
       "  <thead>\n",
       "    <tr style=\"text-align: right;\">\n",
       "      <th></th>\n",
       "      <th>title</th>\n",
       "      <th>zone</th>\n",
       "      <th>municipality</th>\n",
       "      <th>price</th>\n",
       "      <th>bedrooms</th>\n",
       "      <th>bathrooms</th>\n",
       "      <th>size</th>\n",
       "      <th>floor</th>\n",
       "      <th>priceByArea</th>\n",
       "      <th>tipology</th>\n",
       "      <th>state</th>\n",
       "      <th>url</th>\n",
       "      <th>fecha_descarga</th>\n",
       "    </tr>\n",
       "  </thead>\n",
       "  <tbody>\n",
       "    <tr>\n",
       "      <th>0</th>\n",
       "      <td>Apartamento en venta en A Tan Solo Metros del Teatro de La Latina</td>\n",
       "      <td>Palacio (Distrito Centro. Madrid Capital)</td>\n",
       "      <td>madrid</td>\n",
       "      <td>250.000 €</td>\n",
       "      <td>1 hab.</td>\n",
       "      <td>1 baño</td>\n",
       "      <td>39 m²</td>\n",
       "      <td>5ª planta</td>\n",
       "      <td>6.410 €/m²</td>\n",
       "      <td>NaN</td>\n",
       "      <td>NaN</td>\n",
       "      <td>https://www.pisos.com/comprar/apartamento-centro_palacio28005-47597559176_109100/</td>\n",
       "      <td>2024-10-19</td>\n",
       "    </tr>\n",
       "    <tr>\n",
       "      <th>1</th>\n",
       "      <td>Apartamento en venta en Apóstol Santiago</td>\n",
       "      <td>Apóstol Santiago (Distrito Hortaleza. Madrid Capital)</td>\n",
       "      <td>madrid</td>\n",
       "      <td>420.000 €</td>\n",
       "      <td>2 habs.</td>\n",
       "      <td>1 baño</td>\n",
       "      <td>73 m²</td>\n",
       "      <td>NaN</td>\n",
       "      <td>5.753 €/m²</td>\n",
       "      <td>NaN</td>\n",
       "      <td>NaN</td>\n",
       "      <td>https://www.pisos.com/comprar/apartamento-apostol_santiago-41696859245_101800/</td>\n",
       "      <td>2024-10-19</td>\n",
       "    </tr>\n",
       "  </tbody>\n",
       "</table>\n",
       "</div>"
      ],
      "text/plain": [
       "                                                               title  \\\n",
       "0  Apartamento en venta en A Tan Solo Metros del Teatro de La Latina   \n",
       "1                           Apartamento en venta en Apóstol Santiago   \n",
       "\n",
       "                                                    zone municipality  \\\n",
       "0              Palacio (Distrito Centro. Madrid Capital)       madrid   \n",
       "1  Apóstol Santiago (Distrito Hortaleza. Madrid Capital)       madrid   \n",
       "\n",
       "       price bedrooms bathrooms   size      floor priceByArea tipology state  \\\n",
       "0  250.000 €   1 hab.    1 baño  39 m²  5ª planta  6.410 €/m²      NaN   NaN   \n",
       "1  420.000 €  2 habs.    1 baño  73 m²        NaN  5.753 €/m²      NaN   NaN   \n",
       "\n",
       "                                                                                 url  \\\n",
       "0  https://www.pisos.com/comprar/apartamento-centro_palacio28005-47597559176_109100/   \n",
       "1     https://www.pisos.com/comprar/apartamento-apostol_santiago-41696859245_101800/   \n",
       "\n",
       "  fecha_descarga  \n",
       "0     2024-10-19  \n",
       "1     2024-10-19  "
      ]
     },
     "execution_count": 171,
     "metadata": {},
     "output_type": "execute_result"
    }
   ],
   "source": [
    "df_pisos = df_pisos_10.merge(df_pisos_08, how='outer')\n",
    "df_pisos.head(2)"
   ]
  },
  {
   "cell_type": "code",
   "execution_count": 172,
   "metadata": {},
   "outputs": [
    {
     "data": {
      "text/html": [
       "<div>\n",
       "<style scoped>\n",
       "    .dataframe tbody tr th:only-of-type {\n",
       "        vertical-align: middle;\n",
       "    }\n",
       "\n",
       "    .dataframe tbody tr th {\n",
       "        vertical-align: top;\n",
       "    }\n",
       "\n",
       "    .dataframe thead th {\n",
       "        text-align: right;\n",
       "    }\n",
       "</style>\n",
       "<table border=\"1\" class=\"dataframe\">\n",
       "  <thead>\n",
       "    <tr style=\"text-align: right;\">\n",
       "      <th></th>\n",
       "      <th>title</th>\n",
       "      <th>zone</th>\n",
       "      <th>municipality</th>\n",
       "      <th>price</th>\n",
       "      <th>bedrooms</th>\n",
       "      <th>bathrooms</th>\n",
       "      <th>size</th>\n",
       "      <th>floor</th>\n",
       "      <th>priceByArea</th>\n",
       "      <th>tipology</th>\n",
       "      <th>state</th>\n",
       "      <th>url</th>\n",
       "      <th>fecha_descarga</th>\n",
       "    </tr>\n",
       "  </thead>\n",
       "  <tbody>\n",
       "    <tr>\n",
       "      <th>5947</th>\n",
       "      <td>Ático en venta en los Berrocales</td>\n",
       "      <td>Los Berrocales (Distrito Vicálvaro. Madrid Capital)</td>\n",
       "      <td>madrid</td>\n",
       "      <td>498.000 €</td>\n",
       "      <td>3 habs.</td>\n",
       "      <td>2 baños</td>\n",
       "      <td>157 m²</td>\n",
       "      <td>NaN</td>\n",
       "      <td>3.171 €/m²</td>\n",
       "      <td>NaN</td>\n",
       "      <td>A estrenar</td>\n",
       "      <td>https://www.pisos.com/comprar/atico-los_berrocales28031-4666816647_109700/</td>\n",
       "      <td>2024-08-19</td>\n",
       "    </tr>\n",
       "    <tr>\n",
       "      <th>5948</th>\n",
       "      <td>Ático en venta en los Berrocales</td>\n",
       "      <td>Los Berrocales (Distrito Vicálvaro. Madrid Capital)</td>\n",
       "      <td>madrid</td>\n",
       "      <td>498.000 €</td>\n",
       "      <td>3 habs.</td>\n",
       "      <td>2 baños</td>\n",
       "      <td>157 m²</td>\n",
       "      <td>NaN</td>\n",
       "      <td>3.171 €/m²</td>\n",
       "      <td>NaN</td>\n",
       "      <td>A estrenar</td>\n",
       "      <td>https://www.pisos.com/comprar/atico-los_berrocales28031-4666816647_109700/</td>\n",
       "      <td>2024-10-19</td>\n",
       "    </tr>\n",
       "  </tbody>\n",
       "</table>\n",
       "</div>"
      ],
      "text/plain": [
       "                                 title  \\\n",
       "5947  Ático en venta en los Berrocales   \n",
       "5948  Ático en venta en los Berrocales   \n",
       "\n",
       "                                                     zone municipality  \\\n",
       "5947  Los Berrocales (Distrito Vicálvaro. Madrid Capital)       madrid   \n",
       "5948  Los Berrocales (Distrito Vicálvaro. Madrid Capital)       madrid   \n",
       "\n",
       "          price bedrooms bathrooms    size floor priceByArea tipology  \\\n",
       "5947  498.000 €  3 habs.   2 baños  157 m²   NaN  3.171 €/m²      NaN   \n",
       "5948  498.000 €  3 habs.   2 baños  157 m²   NaN  3.171 €/m²      NaN   \n",
       "\n",
       "           state  \\\n",
       "5947  A estrenar   \n",
       "5948  A estrenar   \n",
       "\n",
       "                                                                             url  \\\n",
       "5947  https://www.pisos.com/comprar/atico-los_berrocales28031-4666816647_109700/   \n",
       "5948  https://www.pisos.com/comprar/atico-los_berrocales28031-4666816647_109700/   \n",
       "\n",
       "     fecha_descarga  \n",
       "5947     2024-08-19  \n",
       "5948     2024-10-19  "
      ]
     },
     "execution_count": 172,
     "metadata": {},
     "output_type": "execute_result"
    }
   ],
   "source": [
    "df_pisos.tail(2)"
   ]
  },
  {
   "cell_type": "code",
   "execution_count": 173,
   "metadata": {},
   "outputs": [
    {
     "data": {
      "text/plain": [
       "(5949, 13)"
      ]
     },
     "execution_count": 173,
     "metadata": {},
     "output_type": "execute_result"
    }
   ],
   "source": [
    "df_pisos.shape\n",
    "# (5949, 13)"
   ]
  },
  {
   "cell_type": "code",
   "execution_count": 174,
   "metadata": {},
   "outputs": [
    {
     "data": {
      "text/plain": [
       "municipality\n",
       "madrid    5949\n",
       "Name: count, dtype: int64"
      ]
     },
     "execution_count": 174,
     "metadata": {},
     "output_type": "execute_result"
    }
   ],
   "source": [
    "df_pisos['municipality'].value_counts()"
   ]
  },
  {
   "cell_type": "code",
   "execution_count": 175,
   "metadata": {},
   "outputs": [],
   "source": [
    "# Eliminar la columna 'municipality' ya que solo indica Madrid que es la ubicación de todo el estudio.\n",
    "df_pisos = df_pisos.drop(['municipality'], axis=1)"
   ]
  },
  {
   "cell_type": "code",
   "execution_count": 176,
   "metadata": {},
   "outputs": [
    {
     "data": {
      "text/plain": [
       "Index(['title', 'barrio', 'precio', 'num_hab', 'num_banos',\n",
       "       'metros_construidos', 'planta', 'precio_por_area', 'tipologia',\n",
       "       'estado', 'url', 'fecha_descarga'],\n",
       "      dtype='object')"
      ]
     },
     "execution_count": 176,
     "metadata": {},
     "output_type": "execute_result"
    }
   ],
   "source": [
    "# Renombrar columnas\n",
    "df_pisos = df_pisos.rename(columns={'zone': 'barrio', 'price': 'precio', 'bedrooms': 'num_hab', 'bathrooms': 'num_banos', 'size': 'metros_construidos', 'priceByArea': 'precio_por_area', 'tipology': 'tipologia' , 'floor': 'planta', 'state': 'estado'})\n",
    "df_pisos.columns\n",
    "# ['title', 'barrio', 'precio', 'num_hab', 'num_banos', 'metros_construidos', 'planta', 'precio_por_area', 'tipologia', 'estado', 'url', 'fecha_descarga']"
   ]
  },
  {
   "cell_type": "code",
   "execution_count": 177,
   "metadata": {},
   "outputs": [
    {
     "data": {
      "text/html": [
       "<div>\n",
       "<style scoped>\n",
       "    .dataframe tbody tr th:only-of-type {\n",
       "        vertical-align: middle;\n",
       "    }\n",
       "\n",
       "    .dataframe tbody tr th {\n",
       "        vertical-align: top;\n",
       "    }\n",
       "\n",
       "    .dataframe thead th {\n",
       "        text-align: right;\n",
       "    }\n",
       "</style>\n",
       "<table border=\"1\" class=\"dataframe\">\n",
       "  <thead>\n",
       "    <tr style=\"text-align: right;\">\n",
       "      <th></th>\n",
       "      <th>title</th>\n",
       "      <th>barrio</th>\n",
       "      <th>precio</th>\n",
       "      <th>num_hab</th>\n",
       "      <th>num_banos</th>\n",
       "      <th>metros_construidos</th>\n",
       "      <th>planta</th>\n",
       "      <th>precio_por_area</th>\n",
       "      <th>tipologia</th>\n",
       "      <th>estado</th>\n",
       "      <th>url</th>\n",
       "      <th>fecha_descarga</th>\n",
       "    </tr>\n",
       "  </thead>\n",
       "  <tbody>\n",
       "    <tr>\n",
       "      <th>0</th>\n",
       "      <td>Apartamento en venta en A Tan Solo Metros del Teatro de La Latina</td>\n",
       "      <td>Palacio (Distrito Centro. Madrid Capital)</td>\n",
       "      <td>250.000 €</td>\n",
       "      <td>1 hab.</td>\n",
       "      <td>1 baño</td>\n",
       "      <td>39 m²</td>\n",
       "      <td>5ª planta</td>\n",
       "      <td>6.410 €/m²</td>\n",
       "      <td>NaN</td>\n",
       "      <td>NaN</td>\n",
       "      <td>https://www.pisos.com/comprar/apartamento-centro_palacio28005-47597559176_109100/</td>\n",
       "      <td>2024-10-19</td>\n",
       "    </tr>\n",
       "  </tbody>\n",
       "</table>\n",
       "</div>"
      ],
      "text/plain": [
       "                                                               title  \\\n",
       "0  Apartamento en venta en A Tan Solo Metros del Teatro de La Latina   \n",
       "\n",
       "                                      barrio     precio num_hab num_banos  \\\n",
       "0  Palacio (Distrito Centro. Madrid Capital)  250.000 €  1 hab.    1 baño   \n",
       "\n",
       "  metros_construidos     planta precio_por_area tipologia estado  \\\n",
       "0              39 m²  5ª planta      6.410 €/m²       NaN    NaN   \n",
       "\n",
       "                                                                                 url  \\\n",
       "0  https://www.pisos.com/comprar/apartamento-centro_palacio28005-47597559176_109100/   \n",
       "\n",
       "  fecha_descarga  \n",
       "0     2024-10-19  "
      ]
     },
     "execution_count": 177,
     "metadata": {},
     "output_type": "execute_result"
    }
   ],
   "source": [
    "df_pisos.head(1)"
   ]
  },
  {
   "cell_type": "code",
   "execution_count": 178,
   "metadata": {},
   "outputs": [
    {
     "data": {
      "text/plain": [
       "Index(['title', 'barrio', 'precio', 'num_hab', 'num_banos',\n",
       "       'metros_construidos', 'planta', 'precio_por_area', 'tipologia',\n",
       "       'estado', 'url', 'fecha_descarga', 'web'],\n",
       "      dtype='object')"
      ]
     },
     "execution_count": 178,
     "metadata": {},
     "output_type": "execute_result"
    }
   ],
   "source": [
    "df_pisos['web'] = 'pisos.com'\n",
    "df_pisos.columns"
   ]
  },
  {
   "cell_type": "code",
   "execution_count": 179,
   "metadata": {},
   "outputs": [
    {
     "data": {
      "text/html": [
       "<div>\n",
       "<style scoped>\n",
       "    .dataframe tbody tr th:only-of-type {\n",
       "        vertical-align: middle;\n",
       "    }\n",
       "\n",
       "    .dataframe tbody tr th {\n",
       "        vertical-align: top;\n",
       "    }\n",
       "\n",
       "    .dataframe thead th {\n",
       "        text-align: right;\n",
       "    }\n",
       "</style>\n",
       "<table border=\"1\" class=\"dataframe\">\n",
       "  <thead>\n",
       "    <tr style=\"text-align: right;\">\n",
       "      <th></th>\n",
       "      <th>title</th>\n",
       "      <th>barrio</th>\n",
       "      <th>precio</th>\n",
       "      <th>num_hab</th>\n",
       "      <th>num_banos</th>\n",
       "      <th>metros_construidos</th>\n",
       "      <th>planta</th>\n",
       "      <th>precio_por_area</th>\n",
       "      <th>tipologia</th>\n",
       "      <th>estado</th>\n",
       "      <th>url</th>\n",
       "      <th>fecha_descarga</th>\n",
       "      <th>web</th>\n",
       "    </tr>\n",
       "  </thead>\n",
       "  <tbody>\n",
       "    <tr>\n",
       "      <th>0</th>\n",
       "      <td>Apartamento en venta en A Tan Solo Metros del Teatro de La Latina</td>\n",
       "      <td>Palacio (Distrito Centro. Madrid Capital)</td>\n",
       "      <td>250.000 €</td>\n",
       "      <td>1 hab.</td>\n",
       "      <td>1 baño</td>\n",
       "      <td>39 m²</td>\n",
       "      <td>5ª planta</td>\n",
       "      <td>6.410 €/m²</td>\n",
       "      <td>NaN</td>\n",
       "      <td>NaN</td>\n",
       "      <td>https://www.pisos.com/comprar/apartamento-centro_palacio28005-47597559176_109100/</td>\n",
       "      <td>2024-10-19</td>\n",
       "      <td>pisos.com</td>\n",
       "    </tr>\n",
       "  </tbody>\n",
       "</table>\n",
       "</div>"
      ],
      "text/plain": [
       "                                                               title  \\\n",
       "0  Apartamento en venta en A Tan Solo Metros del Teatro de La Latina   \n",
       "\n",
       "                                      barrio     precio num_hab num_banos  \\\n",
       "0  Palacio (Distrito Centro. Madrid Capital)  250.000 €  1 hab.    1 baño   \n",
       "\n",
       "  metros_construidos     planta precio_por_area tipologia estado  \\\n",
       "0              39 m²  5ª planta      6.410 €/m²       NaN    NaN   \n",
       "\n",
       "                                                                                 url  \\\n",
       "0  https://www.pisos.com/comprar/apartamento-centro_palacio28005-47597559176_109100/   \n",
       "\n",
       "  fecha_descarga        web  \n",
       "0     2024-10-19  pisos.com  "
      ]
     },
     "execution_count": 179,
     "metadata": {},
     "output_type": "execute_result"
    }
   ],
   "source": [
    "df_pisos.head(1)"
   ]
  },
  {
   "cell_type": "code",
   "execution_count": 180,
   "metadata": {},
   "outputs": [
    {
     "name": "stdout",
     "output_type": "stream",
     "text": [
      "<class 'pandas.core.frame.DataFrame'>\n",
      "RangeIndex: 5949 entries, 0 to 5948\n",
      "Data columns (total 13 columns):\n",
      " #   Column              Non-Null Count  Dtype         \n",
      "---  ------              --------------  -----         \n",
      " 0   title               5949 non-null   object        \n",
      " 1   barrio              5949 non-null   object        \n",
      " 2   precio              5949 non-null   object        \n",
      " 3   num_hab             5719 non-null   object        \n",
      " 4   num_banos           5609 non-null   object        \n",
      " 5   metros_construidos  5930 non-null   object        \n",
      " 6   planta              3368 non-null   object        \n",
      " 7   precio_por_area     5925 non-null   object        \n",
      " 8   tipologia           89 non-null     object        \n",
      " 9   estado              3642 non-null   object        \n",
      " 10  url                 5949 non-null   object        \n",
      " 11  fecha_descarga      5949 non-null   datetime64[ns]\n",
      " 12  web                 5949 non-null   object        \n",
      "dtypes: datetime64[ns](1), object(12)\n",
      "memory usage: 604.3+ KB\n"
     ]
    }
   ],
   "source": [
    "df_pisos.info()"
   ]
  },
  {
   "cell_type": "code",
   "execution_count": 181,
   "metadata": {},
   "outputs": [
    {
     "data": {
      "text/plain": [
       "num_hab\n",
       "14 habs.       1\n",
       "17 habs.       2\n",
       "15 habs.       3\n",
       "12 habs.       5\n",
       "10 habs.       6\n",
       "11 habs.       8\n",
       "9 habs.       14\n",
       "8 habs.       29\n",
       "7 habs.       68\n",
       "6 habs.      128\n",
       "5 habs.      318\n",
       "1 hab.       647\n",
       "4 habs.      848\n",
       "2 habs.     1677\n",
       "3 habs.     1965\n",
       "Name: count, dtype: int64"
      ]
     },
     "execution_count": 181,
     "metadata": {},
     "output_type": "execute_result"
    }
   ],
   "source": [
    "hab_count = df_pisos['num_hab'].value_counts(ascending=True)\n",
    "hab_count"
   ]
  },
  {
   "cell_type": "code",
   "execution_count": 182,
   "metadata": {},
   "outputs": [
    {
     "data": {
      "text/plain": [
       "num_banos\n",
       "16 baños       1\n",
       "13 baños       2\n",
       "12 baños       3\n",
       "11 baños       5\n",
       "10 baños       7\n",
       "9 baños        7\n",
       "8 baños       14\n",
       "7 baños       39\n",
       "6 baños      103\n",
       "5 baños      252\n",
       "4 baños      458\n",
       "3 baños      918\n",
       "1 baño      1888\n",
       "2 baños     1912\n",
       "Name: count, dtype: int64"
      ]
     },
     "execution_count": 182,
     "metadata": {},
     "output_type": "execute_result"
    }
   ],
   "source": [
    "banos_count = df_pisos['num_banos'].value_counts(ascending=True)\n",
    "banos_count"
   ]
  },
  {
   "cell_type": "code",
   "execution_count": 183,
   "metadata": {},
   "outputs": [
    {
     "data": {
      "text/plain": [
       "planta\n",
       "20ª planta            1\n",
       "16ª planta            2\n",
       "14ª planta            3\n",
       "12ª planta            3\n",
       "Más de 20 planta      4\n",
       "15ª planta            4\n",
       "11ª planta            8\n",
       "13ª planta            9\n",
       "10ª planta           12\n",
       "9ª planta            37\n",
       "8ª planta            52\n",
       "7ª planta           114\n",
       "5ª planta           259\n",
       "6ª planta           260\n",
       "4ª planta           439\n",
       "3ª planta           599\n",
       "2ª planta           681\n",
       "1ª planta           881\n",
       "Name: count, dtype: int64"
      ]
     },
     "execution_count": 183,
     "metadata": {},
     "output_type": "execute_result"
    }
   ],
   "source": [
    "planta_count = df_pisos['planta'].value_counts(ascending=True)\n",
    "planta_count"
   ]
  },
  {
   "cell_type": "markdown",
   "metadata": {},
   "source": [
    "### DATOS NUMÉRICOS INT: TRANSFORMAR Y RELLENAR NULOS"
   ]
  },
  {
   "cell_type": "code",
   "execution_count": 184,
   "metadata": {},
   "outputs": [
    {
     "name": "stdout",
     "output_type": "stream",
     "text": [
      "<class 'pandas.core.frame.DataFrame'>\n",
      "RangeIndex: 5949 entries, 0 to 5948\n",
      "Data columns (total 13 columns):\n",
      " #   Column              Non-Null Count  Dtype         \n",
      "---  ------              --------------  -----         \n",
      " 0   title               5949 non-null   object        \n",
      " 1   barrio              5949 non-null   object        \n",
      " 2   precio              5949 non-null   object        \n",
      " 3   num_hab             5719 non-null   object        \n",
      " 4   num_banos           5609 non-null   object        \n",
      " 5   metros_construidos  5930 non-null   object        \n",
      " 6   planta              3368 non-null   object        \n",
      " 7   precio_por_area     5925 non-null   object        \n",
      " 8   tipologia           89 non-null     object        \n",
      " 9   estado              3642 non-null   object        \n",
      " 10  url                 5949 non-null   object        \n",
      " 11  fecha_descarga      5949 non-null   datetime64[ns]\n",
      " 12  web                 5949 non-null   object        \n",
      "dtypes: datetime64[ns](1), object(12)\n",
      "memory usage: 604.3+ KB\n"
     ]
    }
   ],
   "source": [
    "df_pisos['num_hab'] = df_pisos['num_hab'].str.replace(r'\\D', '', regex=True)\n",
    "# df_pisos['num_hab'] = df_pisos['num_hab'].fillna(-1)\n",
    "# df_pisos['num_hab'] = pd.to_numeric(df_pisos['num_hab'], errors='coerce').astype('int64')\n",
    "df_pisos['num_banos'] = df_pisos['num_banos'].str.replace(r'\\D', '', regex=True)\n",
    "# df_pisos['num_banos'] = df_pisos['num_banos'].fillna(-1)\n",
    "# df_pisos['num_banos'] = pd.to_numeric(df_pisos['num_banos'], errors='coerce').astype('int64')\n",
    "df_pisos['planta'] = df_pisos['planta'].str.replace(r'\\D', '', regex=True)\n",
    "# df_pisos['planta'] = df_pisos['planta'].fillna(-1)\n",
    "# df_pisos['planta'] = pd.to_numeric(df_pisos['planta'], errors='coerce').astype('int64')\n",
    "df_pisos.info()"
   ]
  },
  {
   "cell_type": "code",
   "execution_count": 185,
   "metadata": {},
   "outputs": [],
   "source": [
    "# hab_count2 = df_pisos['num_hab'].value_counts(ascending=True)\n",
    "# hab_count2"
   ]
  },
  {
   "cell_type": "code",
   "execution_count": 186,
   "metadata": {},
   "outputs": [],
   "source": [
    "# banos_count2 = df_pisos['num_banos'].value_counts(ascending=True)\n",
    "# banos_count2"
   ]
  },
  {
   "cell_type": "code",
   "execution_count": 187,
   "metadata": {},
   "outputs": [],
   "source": [
    "# planta_count2 = df_pisos['planta'].value_counts(ascending=True)\n",
    "# planta_count2"
   ]
  },
  {
   "cell_type": "markdown",
   "metadata": {},
   "source": [
    "### DATOS CATEGÓRICOS: TRANSFORMAR Y RELLENAR NULOS"
   ]
  },
  {
   "cell_type": "code",
   "execution_count": 188,
   "metadata": {},
   "outputs": [
    {
     "name": "stdout",
     "output_type": "stream",
     "text": [
      "<class 'pandas.core.frame.DataFrame'>\n",
      "RangeIndex: 5949 entries, 0 to 5948\n",
      "Data columns (total 13 columns):\n",
      " #   Column              Non-Null Count  Dtype         \n",
      "---  ------              --------------  -----         \n",
      " 0   title               5949 non-null   object        \n",
      " 1   barrio              5949 non-null   object        \n",
      " 2   precio              5949 non-null   object        \n",
      " 3   num_hab             5719 non-null   object        \n",
      " 4   num_banos           5609 non-null   object        \n",
      " 5   metros_construidos  5930 non-null   object        \n",
      " 6   planta              3368 non-null   object        \n",
      " 7   precio_por_area     5925 non-null   object        \n",
      " 8   tipologia           89 non-null     object        \n",
      " 9   estado              3642 non-null   object        \n",
      " 10  url                 5949 non-null   object        \n",
      " 11  fecha_descarga      5949 non-null   datetime64[ns]\n",
      " 12  web                 5949 non-null   object        \n",
      "dtypes: datetime64[ns](1), object(12)\n",
      "memory usage: 604.3+ KB\n"
     ]
    }
   ],
   "source": [
    "df_pisos.info()"
   ]
  },
  {
   "cell_type": "code",
   "execution_count": 189,
   "metadata": {},
   "outputs": [
    {
     "data": {
      "text/plain": [
       "tipologia\n",
       "Unifamiliar     8\n",
       "Pareada        19\n",
       "Adosada        62\n",
       "Name: count, dtype: int64"
      ]
     },
     "execution_count": 189,
     "metadata": {},
     "output_type": "execute_result"
    }
   ],
   "source": [
    "tipologia_count = df_pisos['tipologia'].value_counts(ascending=True)\n",
    "tipologia_count"
   ]
  },
  {
   "cell_type": "code",
   "execution_count": 190,
   "metadata": {},
   "outputs": [
    {
     "data": {
      "text/plain": [
       "estado\n",
       "A reformar         431\n",
       "Reformado          533\n",
       "A estrenar         621\n",
       "En buen estado    2057\n",
       "Name: count, dtype: int64"
      ]
     },
     "execution_count": 190,
     "metadata": {},
     "output_type": "execute_result"
    }
   ],
   "source": [
    "estado_count = df_pisos['estado'].value_counts(ascending=True)\n",
    "estado_count"
   ]
  },
  {
   "cell_type": "code",
   "execution_count": 191,
   "metadata": {},
   "outputs": [
    {
     "data": {
      "text/plain": [
       "web\n",
       "pisos.com    5949\n",
       "Name: count, dtype: int64"
      ]
     },
     "execution_count": 191,
     "metadata": {},
     "output_type": "execute_result"
    }
   ],
   "source": [
    "origen_count = df_pisos['web'].value_counts(ascending=True)\n",
    "origen_count"
   ]
  },
  {
   "cell_type": "code",
   "execution_count": 192,
   "metadata": {},
   "outputs": [],
   "source": [
    "# df_pisos['tipologia'] = df_pisos['tipologia'].fillna('desconocido').astype('category')\n",
    "# df_pisos['estado'] = df_pisos['estado'].fillna('desconocido').astype('category')\n",
    "# df_pisos['ref_origen'] = df_pisos['ref_origen'].astype('category')\n",
    "# df_pisos.info()"
   ]
  },
  {
   "cell_type": "markdown",
   "metadata": {},
   "source": [
    "### DATOS NUMÉRICOS FLOAT: RELLENAR NULOS Y TRANSFORMAR"
   ]
  },
  {
   "cell_type": "code",
   "execution_count": 193,
   "metadata": {},
   "outputs": [
    {
     "data": {
      "text/html": [
       "<div>\n",
       "<style scoped>\n",
       "    .dataframe tbody tr th:only-of-type {\n",
       "        vertical-align: middle;\n",
       "    }\n",
       "\n",
       "    .dataframe tbody tr th {\n",
       "        vertical-align: top;\n",
       "    }\n",
       "\n",
       "    .dataframe thead th {\n",
       "        text-align: right;\n",
       "    }\n",
       "</style>\n",
       "<table border=\"1\" class=\"dataframe\">\n",
       "  <thead>\n",
       "    <tr style=\"text-align: right;\">\n",
       "      <th></th>\n",
       "      <th>title</th>\n",
       "      <th>barrio</th>\n",
       "      <th>precio</th>\n",
       "      <th>num_hab</th>\n",
       "      <th>num_banos</th>\n",
       "      <th>metros_construidos</th>\n",
       "      <th>planta</th>\n",
       "      <th>precio_por_area</th>\n",
       "      <th>tipologia</th>\n",
       "      <th>estado</th>\n",
       "      <th>url</th>\n",
       "      <th>fecha_descarga</th>\n",
       "      <th>web</th>\n",
       "    </tr>\n",
       "  </thead>\n",
       "  <tbody>\n",
       "  </tbody>\n",
       "</table>\n",
       "</div>"
      ],
      "text/plain": [
       "Empty DataFrame\n",
       "Columns: [title, barrio, precio, num_hab, num_banos, metros_construidos, planta, precio_por_area, tipologia, estado, url, fecha_descarga, web]\n",
       "Index: []"
      ]
     },
     "execution_count": 193,
     "metadata": {},
     "output_type": "execute_result"
    }
   ],
   "source": [
    "precio_decimales = df_pisos[df_pisos['precio'].str.contains(',', na=False)]\n",
    "precio_decimales\n",
    "# Se ha comprobado que ningún 'precio' contiene decimales."
   ]
  },
  {
   "cell_type": "code",
   "execution_count": 194,
   "metadata": {},
   "outputs": [
    {
     "data": {
      "text/html": [
       "<div>\n",
       "<style scoped>\n",
       "    .dataframe tbody tr th:only-of-type {\n",
       "        vertical-align: middle;\n",
       "    }\n",
       "\n",
       "    .dataframe tbody tr th {\n",
       "        vertical-align: top;\n",
       "    }\n",
       "\n",
       "    .dataframe thead th {\n",
       "        text-align: right;\n",
       "    }\n",
       "</style>\n",
       "<table border=\"1\" class=\"dataframe\">\n",
       "  <thead>\n",
       "    <tr style=\"text-align: right;\">\n",
       "      <th></th>\n",
       "      <th>title</th>\n",
       "      <th>barrio</th>\n",
       "      <th>precio</th>\n",
       "      <th>num_hab</th>\n",
       "      <th>num_banos</th>\n",
       "      <th>metros_construidos</th>\n",
       "      <th>planta</th>\n",
       "      <th>precio_por_area</th>\n",
       "      <th>tipologia</th>\n",
       "      <th>estado</th>\n",
       "      <th>url</th>\n",
       "      <th>fecha_descarga</th>\n",
       "      <th>web</th>\n",
       "    </tr>\n",
       "  </thead>\n",
       "  <tbody>\n",
       "  </tbody>\n",
       "</table>\n",
       "</div>"
      ],
      "text/plain": [
       "Empty DataFrame\n",
       "Columns: [title, barrio, precio, num_hab, num_banos, metros_construidos, planta, precio_por_area, tipologia, estado, url, fecha_descarga, web]\n",
       "Index: []"
      ]
     },
     "execution_count": 194,
     "metadata": {},
     "output_type": "execute_result"
    }
   ],
   "source": [
    "metros_decimales = df_pisos[df_pisos['metros_construidos'].str.contains(',', na=False)]\n",
    "metros_decimales\n",
    "# Se ha comprobado que ningún 'metros_construidos' contiene decimales."
   ]
  },
  {
   "cell_type": "code",
   "execution_count": 195,
   "metadata": {},
   "outputs": [
    {
     "data": {
      "text/html": [
       "<div>\n",
       "<style scoped>\n",
       "    .dataframe tbody tr th:only-of-type {\n",
       "        vertical-align: middle;\n",
       "    }\n",
       "\n",
       "    .dataframe tbody tr th {\n",
       "        vertical-align: top;\n",
       "    }\n",
       "\n",
       "    .dataframe thead th {\n",
       "        text-align: right;\n",
       "    }\n",
       "</style>\n",
       "<table border=\"1\" class=\"dataframe\">\n",
       "  <thead>\n",
       "    <tr style=\"text-align: right;\">\n",
       "      <th></th>\n",
       "      <th>title</th>\n",
       "      <th>barrio</th>\n",
       "      <th>precio</th>\n",
       "      <th>num_hab</th>\n",
       "      <th>num_banos</th>\n",
       "      <th>metros_construidos</th>\n",
       "      <th>planta</th>\n",
       "      <th>precio_por_area</th>\n",
       "      <th>tipologia</th>\n",
       "      <th>estado</th>\n",
       "      <th>url</th>\n",
       "      <th>fecha_descarga</th>\n",
       "      <th>web</th>\n",
       "    </tr>\n",
       "  </thead>\n",
       "  <tbody>\n",
       "  </tbody>\n",
       "</table>\n",
       "</div>"
      ],
      "text/plain": [
       "Empty DataFrame\n",
       "Columns: [title, barrio, precio, num_hab, num_banos, metros_construidos, planta, precio_por_area, tipologia, estado, url, fecha_descarga, web]\n",
       "Index: []"
      ]
     },
     "execution_count": 195,
     "metadata": {},
     "output_type": "execute_result"
    }
   ],
   "source": [
    "area_decimales = df_pisos[df_pisos['precio_por_area'].str.contains(',', na=False)]\n",
    "area_decimales\n",
    "# Se ha comprobado que ningún 'precio_por_area' contiene decimales."
   ]
  },
  {
   "cell_type": "code",
   "execution_count": 196,
   "metadata": {},
   "outputs": [
    {
     "data": {
      "text/plain": [
       "count      5930\n",
       "unique      474\n",
       "top       70 m²\n",
       "freq        100\n",
       "Name: metros_construidos, dtype: object"
      ]
     },
     "execution_count": 196,
     "metadata": {},
     "output_type": "execute_result"
    }
   ],
   "source": [
    "#compruebo los valores de metros construidos\n",
    "df_pisos['metros_construidos'].describe()"
   ]
  },
  {
   "cell_type": "code",
   "execution_count": 197,
   "metadata": {},
   "outputs": [
    {
     "data": {
      "text/html": [
       "<div>\n",
       "<style scoped>\n",
       "    .dataframe tbody tr th:only-of-type {\n",
       "        vertical-align: middle;\n",
       "    }\n",
       "\n",
       "    .dataframe tbody tr th {\n",
       "        vertical-align: top;\n",
       "    }\n",
       "\n",
       "    .dataframe thead th {\n",
       "        text-align: right;\n",
       "    }\n",
       "</style>\n",
       "<table border=\"1\" class=\"dataframe\">\n",
       "  <thead>\n",
       "    <tr style=\"text-align: right;\">\n",
       "      <th></th>\n",
       "      <th>title</th>\n",
       "      <th>barrio</th>\n",
       "      <th>precio</th>\n",
       "      <th>num_hab</th>\n",
       "      <th>num_banos</th>\n",
       "      <th>metros_construidos</th>\n",
       "      <th>planta</th>\n",
       "      <th>precio_por_area</th>\n",
       "      <th>tipologia</th>\n",
       "      <th>estado</th>\n",
       "      <th>url</th>\n",
       "      <th>fecha_descarga</th>\n",
       "      <th>web</th>\n",
       "    </tr>\n",
       "  </thead>\n",
       "  <tbody>\n",
       "    <tr>\n",
       "      <th>0</th>\n",
       "      <td>Apartamento en venta en A Tan Solo Metros del Teatro de La Latina</td>\n",
       "      <td>Palacio (Distrito Centro. Madrid Capital)</td>\n",
       "      <td>250000</td>\n",
       "      <td>1</td>\n",
       "      <td>1</td>\n",
       "      <td>39</td>\n",
       "      <td>5</td>\n",
       "      <td>6410</td>\n",
       "      <td>NaN</td>\n",
       "      <td>NaN</td>\n",
       "      <td>https://www.pisos.com/comprar/apartamento-centro_palacio28005-47597559176_109100/</td>\n",
       "      <td>2024-10-19</td>\n",
       "      <td>pisos.com</td>\n",
       "    </tr>\n",
       "  </tbody>\n",
       "</table>\n",
       "</div>"
      ],
      "text/plain": [
       "                                                               title  \\\n",
       "0  Apartamento en venta en A Tan Solo Metros del Teatro de La Latina   \n",
       "\n",
       "                                      barrio  precio num_hab num_banos  \\\n",
       "0  Palacio (Distrito Centro. Madrid Capital)  250000       1         1   \n",
       "\n",
       "  metros_construidos planta precio_por_area tipologia estado  \\\n",
       "0                 39      5            6410       NaN    NaN   \n",
       "\n",
       "                                                                                 url  \\\n",
       "0  https://www.pisos.com/comprar/apartamento-centro_palacio28005-47597559176_109100/   \n",
       "\n",
       "  fecha_descarga        web  \n",
       "0     2024-10-19  pisos.com  "
      ]
     },
     "execution_count": 197,
     "metadata": {},
     "output_type": "execute_result"
    }
   ],
   "source": [
    "df_pisos['precio'] = df_pisos['precio'].str.replace(r'\\D', '', regex=True)\n",
    "df_pisos['metros_construidos'] = df_pisos['metros_construidos'].str.replace(r'\\D', '', regex=True)\n",
    "df_pisos['precio_por_area'] = df_pisos['precio_por_area'].str.replace(r'\\D', '', regex=True)\n",
    "df_pisos.head(1)"
   ]
  },
  {
   "cell_type": "code",
   "execution_count": 198,
   "metadata": {},
   "outputs": [
    {
     "name": "stdout",
     "output_type": "stream",
     "text": [
      "<class 'pandas.core.frame.DataFrame'>\n",
      "RangeIndex: 5949 entries, 0 to 5948\n",
      "Data columns (total 13 columns):\n",
      " #   Column              Non-Null Count  Dtype         \n",
      "---  ------              --------------  -----         \n",
      " 0   title               5949 non-null   object        \n",
      " 1   barrio              5949 non-null   object        \n",
      " 2   precio              5949 non-null   object        \n",
      " 3   num_hab             5719 non-null   object        \n",
      " 4   num_banos           5609 non-null   object        \n",
      " 5   metros_construidos  5930 non-null   object        \n",
      " 6   planta              3368 non-null   object        \n",
      " 7   precio_por_area     5925 non-null   object        \n",
      " 8   tipologia           89 non-null     object        \n",
      " 9   estado              3642 non-null   object        \n",
      " 10  url                 5949 non-null   object        \n",
      " 11  fecha_descarga      5949 non-null   datetime64[ns]\n",
      " 12  web                 5949 non-null   object        \n",
      "dtypes: datetime64[ns](1), object(12)\n",
      "memory usage: 604.3+ KB\n"
     ]
    }
   ],
   "source": [
    "df_pisos.info()"
   ]
  },
  {
   "cell_type": "code",
   "execution_count": 199,
   "metadata": {},
   "outputs": [],
   "source": [
    "# df_pisos['precio'] = pd.to_numeric(df_pisos['precio'], errors='coerce')\n",
    "# df_pisos['precio'] = df_pisos['precio'].astype('float64').fillna(-1)\n",
    "# df_pisos['metros_construidos'] = pd.to_numeric(df_pisos['metros_construidos'], errors='coerce')\n",
    "# df_pisos['metros_construidos'] = df_pisos['metros_construidos'].astype('float64').fillna(-1)\n",
    "# df_pisos['precio_por_area'] = pd.to_numeric(df_pisos['precio_por_area'], errors='coerce')\n",
    "# df_pisos['precio_por_area'] = df_pisos['precio_por_area'].astype('float64').fillna(-1)\n",
    "# df_pisos.info()"
   ]
  },
  {
   "cell_type": "markdown",
   "metadata": {},
   "source": [
    "### BARRIOS Y DISTRITOS"
   ]
  },
  {
   "cell_type": "code",
   "execution_count": 200,
   "metadata": {},
   "outputs": [
    {
     "data": {
      "text/html": [
       "<div>\n",
       "<style scoped>\n",
       "    .dataframe tbody tr th:only-of-type {\n",
       "        vertical-align: middle;\n",
       "    }\n",
       "\n",
       "    .dataframe tbody tr th {\n",
       "        vertical-align: top;\n",
       "    }\n",
       "\n",
       "    .dataframe thead th {\n",
       "        text-align: right;\n",
       "    }\n",
       "</style>\n",
       "<table border=\"1\" class=\"dataframe\">\n",
       "  <thead>\n",
       "    <tr style=\"text-align: right;\">\n",
       "      <th></th>\n",
       "      <th>title</th>\n",
       "      <th>barrio</th>\n",
       "      <th>precio</th>\n",
       "      <th>num_hab</th>\n",
       "      <th>num_banos</th>\n",
       "      <th>metros_construidos</th>\n",
       "      <th>planta</th>\n",
       "      <th>precio_por_area</th>\n",
       "      <th>tipologia</th>\n",
       "      <th>estado</th>\n",
       "      <th>url</th>\n",
       "      <th>fecha_descarga</th>\n",
       "      <th>web</th>\n",
       "    </tr>\n",
       "  </thead>\n",
       "  <tbody>\n",
       "    <tr>\n",
       "      <th>0</th>\n",
       "      <td>Apartamento en venta en A Tan Solo Metros del Teatro de La Latina</td>\n",
       "      <td>Palacio (Distrito Centro. Madrid Capital)</td>\n",
       "      <td>250000</td>\n",
       "      <td>1</td>\n",
       "      <td>1</td>\n",
       "      <td>39</td>\n",
       "      <td>5</td>\n",
       "      <td>6410</td>\n",
       "      <td>NaN</td>\n",
       "      <td>NaN</td>\n",
       "      <td>https://www.pisos.com/comprar/apartamento-centro_palacio28005-47597559176_109100/</td>\n",
       "      <td>2024-10-19</td>\n",
       "      <td>pisos.com</td>\n",
       "    </tr>\n",
       "    <tr>\n",
       "      <th>1</th>\n",
       "      <td>Apartamento en venta en Apóstol Santiago</td>\n",
       "      <td>Apóstol Santiago (Distrito Hortaleza. Madrid Capital)</td>\n",
       "      <td>420000</td>\n",
       "      <td>2</td>\n",
       "      <td>1</td>\n",
       "      <td>73</td>\n",
       "      <td>NaN</td>\n",
       "      <td>5753</td>\n",
       "      <td>NaN</td>\n",
       "      <td>NaN</td>\n",
       "      <td>https://www.pisos.com/comprar/apartamento-apostol_santiago-41696859245_101800/</td>\n",
       "      <td>2024-10-19</td>\n",
       "      <td>pisos.com</td>\n",
       "    </tr>\n",
       "  </tbody>\n",
       "</table>\n",
       "</div>"
      ],
      "text/plain": [
       "                                                               title  \\\n",
       "0  Apartamento en venta en A Tan Solo Metros del Teatro de La Latina   \n",
       "1                           Apartamento en venta en Apóstol Santiago   \n",
       "\n",
       "                                                  barrio  precio num_hab  \\\n",
       "0              Palacio (Distrito Centro. Madrid Capital)  250000       1   \n",
       "1  Apóstol Santiago (Distrito Hortaleza. Madrid Capital)  420000       2   \n",
       "\n",
       "  num_banos metros_construidos planta precio_por_area tipologia estado  \\\n",
       "0         1                 39      5            6410       NaN    NaN   \n",
       "1         1                 73    NaN            5753       NaN    NaN   \n",
       "\n",
       "                                                                                 url  \\\n",
       "0  https://www.pisos.com/comprar/apartamento-centro_palacio28005-47597559176_109100/   \n",
       "1     https://www.pisos.com/comprar/apartamento-apostol_santiago-41696859245_101800/   \n",
       "\n",
       "  fecha_descarga        web  \n",
       "0     2024-10-19  pisos.com  \n",
       "1     2024-10-19  pisos.com  "
      ]
     },
     "execution_count": 200,
     "metadata": {},
     "output_type": "execute_result"
    }
   ],
   "source": [
    "df_pisos.head(2)"
   ]
  },
  {
   "cell_type": "code",
   "execution_count": 201,
   "metadata": {},
   "outputs": [
    {
     "data": {
      "text/html": [
       "<div>\n",
       "<style scoped>\n",
       "    .dataframe tbody tr th:only-of-type {\n",
       "        vertical-align: middle;\n",
       "    }\n",
       "\n",
       "    .dataframe tbody tr th {\n",
       "        vertical-align: top;\n",
       "    }\n",
       "\n",
       "    .dataframe thead th {\n",
       "        text-align: right;\n",
       "    }\n",
       "</style>\n",
       "<table border=\"1\" class=\"dataframe\">\n",
       "  <thead>\n",
       "    <tr style=\"text-align: right;\">\n",
       "      <th></th>\n",
       "      <th>title</th>\n",
       "      <th>ubicacion</th>\n",
       "      <th>precio</th>\n",
       "      <th>num_hab</th>\n",
       "      <th>num_banos</th>\n",
       "      <th>metros_construidos</th>\n",
       "      <th>planta</th>\n",
       "      <th>precio_por_area</th>\n",
       "      <th>tipologia</th>\n",
       "      <th>estado</th>\n",
       "      <th>url</th>\n",
       "      <th>fecha_descarga</th>\n",
       "      <th>web</th>\n",
       "    </tr>\n",
       "  </thead>\n",
       "  <tbody>\n",
       "    <tr>\n",
       "      <th>0</th>\n",
       "      <td>Apartamento en venta en A Tan Solo Metros del Teatro de La Latina</td>\n",
       "      <td>Palacio (Distrito Centro. Madrid Capital)</td>\n",
       "      <td>250000</td>\n",
       "      <td>1</td>\n",
       "      <td>1</td>\n",
       "      <td>39</td>\n",
       "      <td>5</td>\n",
       "      <td>6410</td>\n",
       "      <td>NaN</td>\n",
       "      <td>NaN</td>\n",
       "      <td>https://www.pisos.com/comprar/apartamento-centro_palacio28005-47597559176_109100/</td>\n",
       "      <td>2024-10-19</td>\n",
       "      <td>pisos.com</td>\n",
       "    </tr>\n",
       "    <tr>\n",
       "      <th>1</th>\n",
       "      <td>Apartamento en venta en Apóstol Santiago</td>\n",
       "      <td>Apóstol Santiago (Distrito Hortaleza. Madrid Capital)</td>\n",
       "      <td>420000</td>\n",
       "      <td>2</td>\n",
       "      <td>1</td>\n",
       "      <td>73</td>\n",
       "      <td>NaN</td>\n",
       "      <td>5753</td>\n",
       "      <td>NaN</td>\n",
       "      <td>NaN</td>\n",
       "      <td>https://www.pisos.com/comprar/apartamento-apostol_santiago-41696859245_101800/</td>\n",
       "      <td>2024-10-19</td>\n",
       "      <td>pisos.com</td>\n",
       "    </tr>\n",
       "  </tbody>\n",
       "</table>\n",
       "</div>"
      ],
      "text/plain": [
       "                                                               title  \\\n",
       "0  Apartamento en venta en A Tan Solo Metros del Teatro de La Latina   \n",
       "1                           Apartamento en venta en Apóstol Santiago   \n",
       "\n",
       "                                               ubicacion  precio num_hab  \\\n",
       "0              Palacio (Distrito Centro. Madrid Capital)  250000       1   \n",
       "1  Apóstol Santiago (Distrito Hortaleza. Madrid Capital)  420000       2   \n",
       "\n",
       "  num_banos metros_construidos planta precio_por_area tipologia estado  \\\n",
       "0         1                 39      5            6410       NaN    NaN   \n",
       "1         1                 73    NaN            5753       NaN    NaN   \n",
       "\n",
       "                                                                                 url  \\\n",
       "0  https://www.pisos.com/comprar/apartamento-centro_palacio28005-47597559176_109100/   \n",
       "1     https://www.pisos.com/comprar/apartamento-apostol_santiago-41696859245_101800/   \n",
       "\n",
       "  fecha_descarga        web  \n",
       "0     2024-10-19  pisos.com  \n",
       "1     2024-10-19  pisos.com  "
      ]
     },
     "execution_count": 201,
     "metadata": {},
     "output_type": "execute_result"
    }
   ],
   "source": [
    "df_pisos = df_pisos.rename(columns={'barrio': 'ubicacion'})\n",
    "df_pisos.head(2)"
   ]
  },
  {
   "cell_type": "code",
   "execution_count": 202,
   "metadata": {},
   "outputs": [],
   "source": [
    "df_pisos = df_pisos.reset_index(drop=True)"
   ]
  },
  {
   "cell_type": "code",
   "execution_count": 203,
   "metadata": {},
   "outputs": [],
   "source": [
    "df_barrios = pd.read_csv('./distritos-y-barrios-limpio.csv')\n"
   ]
  },
  {
   "cell_type": "code",
   "execution_count": 204,
   "metadata": {},
   "outputs": [
    {
     "data": {
      "text/html": [
       "<div>\n",
       "<style scoped>\n",
       "    .dataframe tbody tr th:only-of-type {\n",
       "        vertical-align: middle;\n",
       "    }\n",
       "\n",
       "    .dataframe tbody tr th {\n",
       "        vertical-align: top;\n",
       "    }\n",
       "\n",
       "    .dataframe thead th {\n",
       "        text-align: right;\n",
       "    }\n",
       "</style>\n",
       "<table border=\"1\" class=\"dataframe\">\n",
       "  <thead>\n",
       "    <tr style=\"text-align: right;\">\n",
       "      <th></th>\n",
       "      <th>cod_distrito</th>\n",
       "      <th>distrito</th>\n",
       "      <th>cod_barrio</th>\n",
       "      <th>barrio</th>\n",
       "    </tr>\n",
       "  </thead>\n",
       "  <tbody>\n",
       "    <tr>\n",
       "      <th>0</th>\n",
       "      <td>1</td>\n",
       "      <td>Centro</td>\n",
       "      <td>11</td>\n",
       "      <td>Palacio</td>\n",
       "    </tr>\n",
       "    <tr>\n",
       "      <th>1</th>\n",
       "      <td>1</td>\n",
       "      <td>Centro</td>\n",
       "      <td>12</td>\n",
       "      <td>Embajadores</td>\n",
       "    </tr>\n",
       "  </tbody>\n",
       "</table>\n",
       "</div>"
      ],
      "text/plain": [
       "   cod_distrito distrito  cod_barrio       barrio\n",
       "0             1   Centro          11      Palacio\n",
       "1             1   Centro          12  Embajadores"
      ]
     },
     "execution_count": 204,
     "metadata": {},
     "output_type": "execute_result"
    }
   ],
   "source": [
    "#df_barrios = pd.read_csv('/Users/AleVC/Library/CloudStorage/GoogleDrive-ale.vaquero.c@gmail.com/My Drive/Nuclio/Máster en Data Science/TFM/Datos-adicionales/Datos-limpios/distritos-y-barrios-limpio.csv')\n",
    "df_barrios.head(2)"
   ]
  },
  {
   "cell_type": "code",
   "execution_count": 205,
   "metadata": {},
   "outputs": [
    {
     "data": {
      "text/plain": [
       "array(['Centro', 'Arganzuela', 'Retiro', 'Salamanca', 'Chamartín',\n",
       "       'Tetuán', 'Chamberí', 'Fuencarral - El Pardo', 'Moncloa - Aravaca',\n",
       "       'Latina', 'Carabanchel', 'Usera', 'Puente de Vallecas',\n",
       "       'Moratalaz', 'Ciudad Lineal', 'Hortaleza', 'Villaverde',\n",
       "       'Villa de Vallecas', 'Vicálvaro', 'San Blas - Canillejas',\n",
       "       'Barajas'], dtype=object)"
      ]
     },
     "execution_count": 205,
     "metadata": {},
     "output_type": "execute_result"
    }
   ],
   "source": [
    "distritos_unicos = df_barrios['distrito'].unique()\n",
    "distritos_unicos"
   ]
  },
  {
   "cell_type": "code",
   "execution_count": 206,
   "metadata": {},
   "outputs": [
    {
     "data": {
      "text/plain": [
       "array(['Palacio', 'Embajadores', 'Cortes', 'Justicia', 'Universidad',\n",
       "       'Sol', 'Imperial', 'Acacias', 'Chopera', 'Legazpi', 'Delicias',\n",
       "       'Palos de la Frontera', 'Atocha', 'Pacífico', 'Adelfas',\n",
       "       'Estrella', 'Ibiza', 'Los Jerónimos', 'Niño Jesús', 'Recoletos',\n",
       "       'Goya', 'Fuente del Berro', 'Guindalera', 'Lista', 'Castellana',\n",
       "       'El Viso', 'Prosperidad', 'Ciudad Jardín', 'Hispanoamérica',\n",
       "       'Nueva España', 'Castilla', 'Bellas Vistas', 'Cuatro Caminos',\n",
       "       'Castillejos', 'Almenara', 'Valdeacederas', 'Berruguete',\n",
       "       'Gaztambide', 'Arapiles', 'Trafalgar', 'Almagro', 'Ríos Rosas',\n",
       "       'Vallehermoso', 'El Pardo', 'Fuentelarreina', 'Peñagrande',\n",
       "       'Pilar', 'La Paz', 'Valverde', 'Mirasierra', 'El Goloso',\n",
       "       'Casa de Campo', 'Argüelles', 'Ciudad Universitaria', 'Valdezarza',\n",
       "       'Valdemarín', 'El Plantío', 'Aravaca', 'Los Cármenes',\n",
       "       'Puerta del Ángel', 'Lucero', 'Aluche', 'Campamento',\n",
       "       'Cuatro Vientos', 'Águilas', 'Comillas', 'Opañel', 'San Isidro',\n",
       "       'Vista Alegre', 'Puerta Bonita', 'Buenavista', 'Abrantes',\n",
       "       'Orcasitas', 'Orcasur', 'San Fermín', 'Almendrales', 'Moscardó',\n",
       "       'Zofío', 'Pradolongo', 'Entrevías', 'San Diego', 'Palomeras Bajas',\n",
       "       'Palomeras Sureste', 'Portazgo', 'Numancia', 'Pavones', 'Horcajo',\n",
       "       'Marroquina', 'Media Legua', 'Fontarrón', 'Vinateros', 'Ventas',\n",
       "       'Pueblo Nuevo', 'Quintana', 'La Concepción', 'San Pascual',\n",
       "       'San Juan Bautista', 'Colina', 'Atalaya', 'Costillares', 'Palomas',\n",
       "       'Piovera', 'Canillas', 'Pinar del Rey', 'Apóstol Santiago',\n",
       "       'Valdefuentes', 'Villaverde Alto - Casco Histórico de Villaverde',\n",
       "       'San Cristóbal', 'Butarque', 'Los Rosales', 'Ángeles',\n",
       "       'Casco Histórico de Vallecas', 'Santa Eugenia',\n",
       "       'Ensanche de Vallecas', 'Casco histórico de Vicálvaro',\n",
       "       'Valdebernardo', 'Valderrivas', 'El Cañaveral', 'Simancas',\n",
       "       'Hellín', 'Amposta', 'Arcos', 'Rosas', 'Rejas', 'Canillejas',\n",
       "       'El Salvador', 'Alameda de Osuna', 'Aeropuerto',\n",
       "       'Casco Histórico de Barajas', 'Timón', 'Corralejos'], dtype=object)"
      ]
     },
     "execution_count": 206,
     "metadata": {},
     "output_type": "execute_result"
    }
   ],
   "source": [
    "barrios_unicos = df_barrios['barrio'].unique()\n",
    "barrios_unicos"
   ]
  },
  {
   "cell_type": "code",
   "execution_count": 207,
   "metadata": {},
   "outputs": [
    {
     "data": {
      "text/html": [
       "<div>\n",
       "<style scoped>\n",
       "    .dataframe tbody tr th:only-of-type {\n",
       "        vertical-align: middle;\n",
       "    }\n",
       "\n",
       "    .dataframe tbody tr th {\n",
       "        vertical-align: top;\n",
       "    }\n",
       "\n",
       "    .dataframe thead th {\n",
       "        text-align: right;\n",
       "    }\n",
       "</style>\n",
       "<table border=\"1\" class=\"dataframe\">\n",
       "  <thead>\n",
       "    <tr style=\"text-align: right;\">\n",
       "      <th></th>\n",
       "      <th>title</th>\n",
       "      <th>ubicacion</th>\n",
       "      <th>precio</th>\n",
       "      <th>num_hab</th>\n",
       "      <th>num_banos</th>\n",
       "      <th>metros_construidos</th>\n",
       "      <th>planta</th>\n",
       "      <th>precio_por_area</th>\n",
       "      <th>tipologia</th>\n",
       "      <th>estado</th>\n",
       "      <th>url</th>\n",
       "      <th>fecha_descarga</th>\n",
       "      <th>web</th>\n",
       "      <th>distrito</th>\n",
       "    </tr>\n",
       "  </thead>\n",
       "  <tbody>\n",
       "    <tr>\n",
       "      <th>0</th>\n",
       "      <td>Apartamento en venta en A Tan Solo Metros del Teatro de La Latina</td>\n",
       "      <td>Palacio (Distrito Centro. Madrid Capital)</td>\n",
       "      <td>250000</td>\n",
       "      <td>1</td>\n",
       "      <td>1</td>\n",
       "      <td>39</td>\n",
       "      <td>5</td>\n",
       "      <td>6410</td>\n",
       "      <td>NaN</td>\n",
       "      <td>NaN</td>\n",
       "      <td>https://www.pisos.com/comprar/apartamento-centro_palacio28005-47597559176_109100/</td>\n",
       "      <td>2024-10-19</td>\n",
       "      <td>pisos.com</td>\n",
       "      <td>Centro</td>\n",
       "    </tr>\n",
       "    <tr>\n",
       "      <th>1</th>\n",
       "      <td>Apartamento en venta en Apóstol Santiago</td>\n",
       "      <td>Apóstol Santiago (Distrito Hortaleza. Madrid Capital)</td>\n",
       "      <td>420000</td>\n",
       "      <td>2</td>\n",
       "      <td>1</td>\n",
       "      <td>73</td>\n",
       "      <td>NaN</td>\n",
       "      <td>5753</td>\n",
       "      <td>NaN</td>\n",
       "      <td>NaN</td>\n",
       "      <td>https://www.pisos.com/comprar/apartamento-apostol_santiago-41696859245_101800/</td>\n",
       "      <td>2024-10-19</td>\n",
       "      <td>pisos.com</td>\n",
       "      <td>Hortaleza</td>\n",
       "    </tr>\n",
       "  </tbody>\n",
       "</table>\n",
       "</div>"
      ],
      "text/plain": [
       "                                                               title  \\\n",
       "0  Apartamento en venta en A Tan Solo Metros del Teatro de La Latina   \n",
       "1                           Apartamento en venta en Apóstol Santiago   \n",
       "\n",
       "                                               ubicacion  precio num_hab  \\\n",
       "0              Palacio (Distrito Centro. Madrid Capital)  250000       1   \n",
       "1  Apóstol Santiago (Distrito Hortaleza. Madrid Capital)  420000       2   \n",
       "\n",
       "  num_banos metros_construidos planta precio_por_area tipologia estado  \\\n",
       "0         1                 39      5            6410       NaN    NaN   \n",
       "1         1                 73    NaN            5753       NaN    NaN   \n",
       "\n",
       "                                                                                 url  \\\n",
       "0  https://www.pisos.com/comprar/apartamento-centro_palacio28005-47597559176_109100/   \n",
       "1     https://www.pisos.com/comprar/apartamento-apostol_santiago-41696859245_101800/   \n",
       "\n",
       "  fecha_descarga        web   distrito  \n",
       "0     2024-10-19  pisos.com     Centro  \n",
       "1     2024-10-19  pisos.com  Hortaleza  "
      ]
     },
     "execution_count": 207,
     "metadata": {},
     "output_type": "execute_result"
    }
   ],
   "source": [
    "# Función para identificar el distrito\n",
    "def extraer_distrito(ubicacion, distritos_unicos):\n",
    "    for distrito in distritos_unicos:\n",
    "        if distrito in ubicacion:\n",
    "            return distrito\n",
    "    return np.nan  # Si no se encuentra un distrito\n",
    "\n",
    "# Aplicar la función a la columna 'ubicacion' y crear la nueva columna 'distrito'\n",
    "df_pisos['distrito'] = df_pisos['ubicacion'].apply(lambda x: extraer_distrito(x, distritos_unicos))\n",
    "df_pisos.head(2)\n"
   ]
  },
  {
   "cell_type": "code",
   "execution_count": 208,
   "metadata": {},
   "outputs": [
    {
     "data": {
      "text/html": [
       "<div>\n",
       "<style scoped>\n",
       "    .dataframe tbody tr th:only-of-type {\n",
       "        vertical-align: middle;\n",
       "    }\n",
       "\n",
       "    .dataframe tbody tr th {\n",
       "        vertical-align: top;\n",
       "    }\n",
       "\n",
       "    .dataframe thead th {\n",
       "        text-align: right;\n",
       "    }\n",
       "</style>\n",
       "<table border=\"1\" class=\"dataframe\">\n",
       "  <thead>\n",
       "    <tr style=\"text-align: right;\">\n",
       "      <th></th>\n",
       "      <th>title</th>\n",
       "      <th>ubicacion</th>\n",
       "      <th>precio</th>\n",
       "      <th>num_hab</th>\n",
       "      <th>num_banos</th>\n",
       "      <th>metros_construidos</th>\n",
       "      <th>planta</th>\n",
       "      <th>precio_por_area</th>\n",
       "      <th>tipologia</th>\n",
       "      <th>estado</th>\n",
       "      <th>url</th>\n",
       "      <th>fecha_descarga</th>\n",
       "      <th>web</th>\n",
       "      <th>distrito</th>\n",
       "      <th>barrio</th>\n",
       "    </tr>\n",
       "  </thead>\n",
       "  <tbody>\n",
       "    <tr>\n",
       "      <th>0</th>\n",
       "      <td>Apartamento en venta en A Tan Solo Metros del Teatro de La Latina</td>\n",
       "      <td>Palacio (Distrito Centro. Madrid Capital)</td>\n",
       "      <td>250000</td>\n",
       "      <td>1</td>\n",
       "      <td>1</td>\n",
       "      <td>39</td>\n",
       "      <td>5</td>\n",
       "      <td>6410</td>\n",
       "      <td>NaN</td>\n",
       "      <td>NaN</td>\n",
       "      <td>https://www.pisos.com/comprar/apartamento-centro_palacio28005-47597559176_109100/</td>\n",
       "      <td>2024-10-19</td>\n",
       "      <td>pisos.com</td>\n",
       "      <td>Centro</td>\n",
       "      <td>Palacio</td>\n",
       "    </tr>\n",
       "    <tr>\n",
       "      <th>1</th>\n",
       "      <td>Apartamento en venta en Apóstol Santiago</td>\n",
       "      <td>Apóstol Santiago (Distrito Hortaleza. Madrid Capital)</td>\n",
       "      <td>420000</td>\n",
       "      <td>2</td>\n",
       "      <td>1</td>\n",
       "      <td>73</td>\n",
       "      <td>NaN</td>\n",
       "      <td>5753</td>\n",
       "      <td>NaN</td>\n",
       "      <td>NaN</td>\n",
       "      <td>https://www.pisos.com/comprar/apartamento-apostol_santiago-41696859245_101800/</td>\n",
       "      <td>2024-10-19</td>\n",
       "      <td>pisos.com</td>\n",
       "      <td>Hortaleza</td>\n",
       "      <td>Apóstol Santiago</td>\n",
       "    </tr>\n",
       "  </tbody>\n",
       "</table>\n",
       "</div>"
      ],
      "text/plain": [
       "                                                               title  \\\n",
       "0  Apartamento en venta en A Tan Solo Metros del Teatro de La Latina   \n",
       "1                           Apartamento en venta en Apóstol Santiago   \n",
       "\n",
       "                                               ubicacion  precio num_hab  \\\n",
       "0              Palacio (Distrito Centro. Madrid Capital)  250000       1   \n",
       "1  Apóstol Santiago (Distrito Hortaleza. Madrid Capital)  420000       2   \n",
       "\n",
       "  num_banos metros_construidos planta precio_por_area tipologia estado  \\\n",
       "0         1                 39      5            6410       NaN    NaN   \n",
       "1         1                 73    NaN            5753       NaN    NaN   \n",
       "\n",
       "                                                                                 url  \\\n",
       "0  https://www.pisos.com/comprar/apartamento-centro_palacio28005-47597559176_109100/   \n",
       "1     https://www.pisos.com/comprar/apartamento-apostol_santiago-41696859245_101800/   \n",
       "\n",
       "  fecha_descarga        web   distrito            barrio  \n",
       "0     2024-10-19  pisos.com     Centro           Palacio  \n",
       "1     2024-10-19  pisos.com  Hortaleza  Apóstol Santiago  "
      ]
     },
     "execution_count": 208,
     "metadata": {},
     "output_type": "execute_result"
    }
   ],
   "source": [
    "# Función para identificar el barrio\n",
    "def extraer_barrio(ubicacion, barrios_unicos):\n",
    "    for barrio in barrios_unicos:\n",
    "        if barrio in ubicacion:\n",
    "            return barrio\n",
    "    return np.nan  # Si no se encuentra un barrio\n",
    "\n",
    "# Aplicar la función a la columna 'ubicacion' y crear la nueva columna 'barrio'\n",
    "df_pisos['barrio'] = df_pisos['ubicacion'].apply(lambda x: extraer_barrio(x, barrios_unicos))\n",
    "df_pisos.head(2)"
   ]
  },
  {
   "cell_type": "code",
   "execution_count": 209,
   "metadata": {},
   "outputs": [
    {
     "name": "stdout",
     "output_type": "stream",
     "text": [
      "<class 'pandas.core.frame.DataFrame'>\n",
      "RangeIndex: 5949 entries, 0 to 5948\n",
      "Data columns (total 15 columns):\n",
      " #   Column              Non-Null Count  Dtype         \n",
      "---  ------              --------------  -----         \n",
      " 0   title               5949 non-null   object        \n",
      " 1   ubicacion           5949 non-null   object        \n",
      " 2   precio              5949 non-null   object        \n",
      " 3   num_hab             5719 non-null   object        \n",
      " 4   num_banos           5609 non-null   object        \n",
      " 5   metros_construidos  5930 non-null   object        \n",
      " 6   planta              3368 non-null   object        \n",
      " 7   precio_por_area     5925 non-null   object        \n",
      " 8   tipologia           89 non-null     object        \n",
      " 9   estado              3642 non-null   object        \n",
      " 10  url                 5949 non-null   object        \n",
      " 11  fecha_descarga      5949 non-null   datetime64[ns]\n",
      " 12  web                 5949 non-null   object        \n",
      " 13  distrito            5281 non-null   object        \n",
      " 14  barrio              5672 non-null   object        \n",
      "dtypes: datetime64[ns](1), object(14)\n",
      "memory usage: 697.3+ KB\n"
     ]
    }
   ],
   "source": [
    "df_pisos.info()"
   ]
  },
  {
   "cell_type": "code",
   "execution_count": 210,
   "metadata": {},
   "outputs": [
    {
     "data": {
      "text/plain": [
       "distrito\n",
       "Moratalaz               46\n",
       "Usera                   76\n",
       "Barajas                 83\n",
       "Vicálvaro               93\n",
       "Villa de Vallecas       98\n",
       "Villaverde             108\n",
       "Arganzuela             133\n",
       "Hortaleza              157\n",
       "Latina                 177\n",
       "Ciudad Lineal          230\n",
       "Puente de Vallecas     241\n",
       "Retiro                 267\n",
       "Carabanchel            282\n",
       "Tetuán                 333\n",
       "Chamberí               380\n",
       "Chamartín              458\n",
       "Salamanca              992\n",
       "Centro                1127\n",
       "Name: count, dtype: int64"
      ]
     },
     "execution_count": 210,
     "metadata": {},
     "output_type": "execute_result"
    }
   ],
   "source": [
    "distrito_count = df_pisos['distrito'].value_counts(ascending=True)\n",
    "distrito_count"
   ]
  },
  {
   "cell_type": "code",
   "execution_count": 211,
   "metadata": {},
   "outputs": [
    {
     "data": {
      "text/plain": [
       "barrio\n",
       "Valdebernardo      2\n",
       "Orcasur            3\n",
       "Valderrivas        3\n",
       "Vinateros          4\n",
       "Pavones            4\n",
       "                ... \n",
       "Palacio          210\n",
       "Castellana       247\n",
       "El Pardo         257\n",
       "Goya             293\n",
       "Universidad      302\n",
       "Name: count, Length: 116, dtype: int64"
      ]
     },
     "execution_count": 211,
     "metadata": {},
     "output_type": "execute_result"
    }
   ],
   "source": [
    "barrio_count = df_pisos['barrio'].value_counts(ascending=True)\n",
    "barrio_count"
   ]
  },
  {
   "cell_type": "code",
   "execution_count": 212,
   "metadata": {},
   "outputs": [],
   "source": [
    "# df_pisos['distrito'] = df_pisos['distrito'].fillna('desconocido').astype('category')\n",
    "# df_pisos['barrio'] = df_pisos['barrio'].fillna('desconocido').astype('category')\n",
    "# df_pisos.info()"
   ]
  },
  {
   "cell_type": "code",
   "execution_count": 213,
   "metadata": {},
   "outputs": [
    {
     "data": {
      "text/html": [
       "<div>\n",
       "<style scoped>\n",
       "    .dataframe tbody tr th:only-of-type {\n",
       "        vertical-align: middle;\n",
       "    }\n",
       "\n",
       "    .dataframe tbody tr th {\n",
       "        vertical-align: top;\n",
       "    }\n",
       "\n",
       "    .dataframe thead th {\n",
       "        text-align: right;\n",
       "    }\n",
       "</style>\n",
       "<table border=\"1\" class=\"dataframe\">\n",
       "  <thead>\n",
       "    <tr style=\"text-align: right;\">\n",
       "      <th></th>\n",
       "      <th>title</th>\n",
       "      <th>ubicacion</th>\n",
       "      <th>precio</th>\n",
       "      <th>num_hab</th>\n",
       "      <th>num_banos</th>\n",
       "      <th>metros_construidos</th>\n",
       "      <th>planta</th>\n",
       "      <th>precio_por_area</th>\n",
       "      <th>tipologia</th>\n",
       "      <th>estado</th>\n",
       "      <th>url</th>\n",
       "      <th>fecha_descarga</th>\n",
       "      <th>web</th>\n",
       "      <th>distrito</th>\n",
       "      <th>barrio</th>\n",
       "    </tr>\n",
       "  </thead>\n",
       "  <tbody>\n",
       "    <tr>\n",
       "      <th>0</th>\n",
       "      <td>Apartamento en venta en A Tan Solo Metros del Teatro de La Latina</td>\n",
       "      <td>Palacio (Distrito Centro. Madrid Capital)</td>\n",
       "      <td>250000</td>\n",
       "      <td>1</td>\n",
       "      <td>1</td>\n",
       "      <td>39</td>\n",
       "      <td>5</td>\n",
       "      <td>6410</td>\n",
       "      <td>NaN</td>\n",
       "      <td>NaN</td>\n",
       "      <td>https://www.pisos.com/comprar/apartamento-centro_palacio28005-47597559176_109100/</td>\n",
       "      <td>2024-10-19</td>\n",
       "      <td>pisos.com</td>\n",
       "      <td>Centro</td>\n",
       "      <td>Palacio</td>\n",
       "    </tr>\n",
       "    <tr>\n",
       "      <th>1</th>\n",
       "      <td>Apartamento en venta en Apóstol Santiago</td>\n",
       "      <td>Apóstol Santiago (Distrito Hortaleza. Madrid Capital)</td>\n",
       "      <td>420000</td>\n",
       "      <td>2</td>\n",
       "      <td>1</td>\n",
       "      <td>73</td>\n",
       "      <td>NaN</td>\n",
       "      <td>5753</td>\n",
       "      <td>NaN</td>\n",
       "      <td>NaN</td>\n",
       "      <td>https://www.pisos.com/comprar/apartamento-apostol_santiago-41696859245_101800/</td>\n",
       "      <td>2024-10-19</td>\n",
       "      <td>pisos.com</td>\n",
       "      <td>Hortaleza</td>\n",
       "      <td>Apóstol Santiago</td>\n",
       "    </tr>\n",
       "    <tr>\n",
       "      <th>2</th>\n",
       "      <td>Apartamento en venta en Argüelles</td>\n",
       "      <td>Argüelles (Distrito Moncloa-Aravaca. Madrid Capital)</td>\n",
       "      <td>3990000</td>\n",
       "      <td>8</td>\n",
       "      <td>4</td>\n",
       "      <td>372</td>\n",
       "      <td>NaN</td>\n",
       "      <td>10725</td>\n",
       "      <td>NaN</td>\n",
       "      <td>NaN</td>\n",
       "      <td>https://www.pisos.com/comprar/apartamento-moncloa_aravaca_arguelles28008-48334738432_101800/</td>\n",
       "      <td>2024-10-19</td>\n",
       "      <td>pisos.com</td>\n",
       "      <td>NaN</td>\n",
       "      <td>Argüelles</td>\n",
       "    </tr>\n",
       "    <tr>\n",
       "      <th>3</th>\n",
       "      <td>Apartamento en venta en Argüelles</td>\n",
       "      <td>Argüelles (Distrito Moncloa-Aravaca. Madrid Capital)</td>\n",
       "      <td>515000</td>\n",
       "      <td>2</td>\n",
       "      <td>1</td>\n",
       "      <td>75</td>\n",
       "      <td>NaN</td>\n",
       "      <td>6866</td>\n",
       "      <td>NaN</td>\n",
       "      <td>NaN</td>\n",
       "      <td>https://www.pisos.com/comprar/apartamento-moncloa_aravaca_arguelles28008-48429886093_101800/</td>\n",
       "      <td>2024-10-19</td>\n",
       "      <td>pisos.com</td>\n",
       "      <td>NaN</td>\n",
       "      <td>Argüelles</td>\n",
       "    </tr>\n",
       "    <tr>\n",
       "      <th>4</th>\n",
       "      <td>Apartamento en venta en Atalaya</td>\n",
       "      <td>Atalaya (Distrito Ciudad Lineal. Madrid Capital)</td>\n",
       "      <td>1220000</td>\n",
       "      <td>5</td>\n",
       "      <td>3</td>\n",
       "      <td>331</td>\n",
       "      <td>NaN</td>\n",
       "      <td>3685</td>\n",
       "      <td>NaN</td>\n",
       "      <td>NaN</td>\n",
       "      <td>https://www.pisos.com/comprar/apartamento-ciudad_lineal_atalaya-43413667133_101800/</td>\n",
       "      <td>2024-10-19</td>\n",
       "      <td>pisos.com</td>\n",
       "      <td>Ciudad Lineal</td>\n",
       "      <td>Atalaya</td>\n",
       "    </tr>\n",
       "  </tbody>\n",
       "</table>\n",
       "</div>"
      ],
      "text/plain": [
       "                                                               title  \\\n",
       "0  Apartamento en venta en A Tan Solo Metros del Teatro de La Latina   \n",
       "1                           Apartamento en venta en Apóstol Santiago   \n",
       "2                                  Apartamento en venta en Argüelles   \n",
       "3                                  Apartamento en venta en Argüelles   \n",
       "4                                    Apartamento en venta en Atalaya   \n",
       "\n",
       "                                               ubicacion   precio num_hab  \\\n",
       "0              Palacio (Distrito Centro. Madrid Capital)   250000       1   \n",
       "1  Apóstol Santiago (Distrito Hortaleza. Madrid Capital)   420000       2   \n",
       "2   Argüelles (Distrito Moncloa-Aravaca. Madrid Capital)  3990000       8   \n",
       "3   Argüelles (Distrito Moncloa-Aravaca. Madrid Capital)   515000       2   \n",
       "4       Atalaya (Distrito Ciudad Lineal. Madrid Capital)  1220000       5   \n",
       "\n",
       "  num_banos metros_construidos planta precio_por_area tipologia estado  \\\n",
       "0         1                 39      5            6410       NaN    NaN   \n",
       "1         1                 73    NaN            5753       NaN    NaN   \n",
       "2         4                372    NaN           10725       NaN    NaN   \n",
       "3         1                 75    NaN            6866       NaN    NaN   \n",
       "4         3                331    NaN            3685       NaN    NaN   \n",
       "\n",
       "                                                                                            url  \\\n",
       "0             https://www.pisos.com/comprar/apartamento-centro_palacio28005-47597559176_109100/   \n",
       "1                https://www.pisos.com/comprar/apartamento-apostol_santiago-41696859245_101800/   \n",
       "2  https://www.pisos.com/comprar/apartamento-moncloa_aravaca_arguelles28008-48334738432_101800/   \n",
       "3  https://www.pisos.com/comprar/apartamento-moncloa_aravaca_arguelles28008-48429886093_101800/   \n",
       "4           https://www.pisos.com/comprar/apartamento-ciudad_lineal_atalaya-43413667133_101800/   \n",
       "\n",
       "  fecha_descarga        web       distrito            barrio  \n",
       "0     2024-10-19  pisos.com         Centro           Palacio  \n",
       "1     2024-10-19  pisos.com      Hortaleza  Apóstol Santiago  \n",
       "2     2024-10-19  pisos.com            NaN         Argüelles  \n",
       "3     2024-10-19  pisos.com            NaN         Argüelles  \n",
       "4     2024-10-19  pisos.com  Ciudad Lineal           Atalaya  "
      ]
     },
     "execution_count": 213,
     "metadata": {},
     "output_type": "execute_result"
    }
   ],
   "source": [
    "# Ajustar pandas para mostrar contenido completo\n",
    "pd.set_option('display.max_colwidth', None)\n",
    "df_pisos.head()"
   ]
  },
  {
   "cell_type": "code",
   "execution_count": 214,
   "metadata": {},
   "outputs": [
    {
     "data": {
      "text/plain": [
       "(5949, 15)"
      ]
     },
     "execution_count": 214,
     "metadata": {},
     "output_type": "execute_result"
    }
   ],
   "source": [
    "df_pisos.shape\n",
    "# (5949, 15)"
   ]
  },
  {
   "cell_type": "code",
   "execution_count": 215,
   "metadata": {},
   "outputs": [],
   "source": [
    "#df_barrios = pd.read_csv('/Users/AleVC/Library/CloudStorage/GoogleDrive-ale.vaquero.c@gmail.com/My Drive/Nuclio/Máster en Data Science/TFM/Datos-adicionales/Datos-limpios/distritos-y-barrios-limpio.csv')\n",
    "#df_barrios.head()"
   ]
  },
  {
   "cell_type": "code",
   "execution_count": 216,
   "metadata": {},
   "outputs": [
    {
     "data": {
      "text/plain": [
       "(5949, 17)"
      ]
     },
     "execution_count": 216,
     "metadata": {},
     "output_type": "execute_result"
    }
   ],
   "source": [
    "df_pisos_com = pd.merge(df_pisos, df_barrios, on=['barrio', 'distrito'], how='left')\n",
    "df_pisos_com.shape\n",
    "# (5949, 17)"
   ]
  },
  {
   "cell_type": "code",
   "execution_count": 217,
   "metadata": {},
   "outputs": [
    {
     "data": {
      "text/html": [
       "<div>\n",
       "<style scoped>\n",
       "    .dataframe tbody tr th:only-of-type {\n",
       "        vertical-align: middle;\n",
       "    }\n",
       "\n",
       "    .dataframe tbody tr th {\n",
       "        vertical-align: top;\n",
       "    }\n",
       "\n",
       "    .dataframe thead th {\n",
       "        text-align: right;\n",
       "    }\n",
       "</style>\n",
       "<table border=\"1\" class=\"dataframe\">\n",
       "  <thead>\n",
       "    <tr style=\"text-align: right;\">\n",
       "      <th></th>\n",
       "      <th>title</th>\n",
       "      <th>ubicacion</th>\n",
       "      <th>precio</th>\n",
       "      <th>num_hab</th>\n",
       "      <th>num_banos</th>\n",
       "      <th>metros_construidos</th>\n",
       "      <th>planta</th>\n",
       "      <th>precio_por_area</th>\n",
       "      <th>tipologia</th>\n",
       "      <th>estado</th>\n",
       "      <th>url</th>\n",
       "      <th>fecha_descarga</th>\n",
       "      <th>web</th>\n",
       "      <th>distrito</th>\n",
       "      <th>barrio</th>\n",
       "      <th>cod_distrito</th>\n",
       "      <th>cod_barrio</th>\n",
       "    </tr>\n",
       "  </thead>\n",
       "  <tbody>\n",
       "    <tr>\n",
       "      <th>0</th>\n",
       "      <td>Apartamento en venta en A Tan Solo Metros del Teatro de La Latina</td>\n",
       "      <td>Palacio (Distrito Centro. Madrid Capital)</td>\n",
       "      <td>250000</td>\n",
       "      <td>1</td>\n",
       "      <td>1</td>\n",
       "      <td>39</td>\n",
       "      <td>5</td>\n",
       "      <td>6410</td>\n",
       "      <td>NaN</td>\n",
       "      <td>NaN</td>\n",
       "      <td>https://www.pisos.com/comprar/apartamento-centro_palacio28005-47597559176_109100/</td>\n",
       "      <td>2024-10-19</td>\n",
       "      <td>pisos.com</td>\n",
       "      <td>Centro</td>\n",
       "      <td>Palacio</td>\n",
       "      <td>1.0</td>\n",
       "      <td>11.0</td>\n",
       "    </tr>\n",
       "  </tbody>\n",
       "</table>\n",
       "</div>"
      ],
      "text/plain": [
       "                                                               title  \\\n",
       "0  Apartamento en venta en A Tan Solo Metros del Teatro de La Latina   \n",
       "\n",
       "                                   ubicacion  precio num_hab num_banos  \\\n",
       "0  Palacio (Distrito Centro. Madrid Capital)  250000       1         1   \n",
       "\n",
       "  metros_construidos planta precio_por_area tipologia estado  \\\n",
       "0                 39      5            6410       NaN    NaN   \n",
       "\n",
       "                                                                                 url  \\\n",
       "0  https://www.pisos.com/comprar/apartamento-centro_palacio28005-47597559176_109100/   \n",
       "\n",
       "  fecha_descarga        web distrito   barrio  cod_distrito  cod_barrio  \n",
       "0     2024-10-19  pisos.com   Centro  Palacio           1.0        11.0  "
      ]
     },
     "execution_count": 217,
     "metadata": {},
     "output_type": "execute_result"
    }
   ],
   "source": [
    "df_pisos_com.head(1)"
   ]
  },
  {
   "cell_type": "markdown",
   "metadata": {},
   "source": [
    "## COLUMNAS DE DF PISOS"
   ]
  },
  {
   "cell_type": "markdown",
   "metadata": {},
   "source": [
    "### ASIGNAR COLUMNAS NUEVAS PARA EL FUTURO MERGE CON DF DETALLES"
   ]
  },
  {
   "cell_type": "code",
   "execution_count": 218,
   "metadata": {},
   "outputs": [],
   "source": [
    "# df_pisos_com['detalle'] = 'vacio'\n",
    "# df_pisos_com['consumo_energia'] = 'vacio'\n",
    "# df_pisos_com['referencia'] = 'vacio'\n",
    "# df_pisos_com['fecha_publicacion'] = 0\n",
    "# df_pisos_com['conservacion'] = 'vacio'\n",
    "# df_pisos_com['m2_utiles'] = 0\n",
    "# df_pisos_com['ano_construccion'] = 'vacio'\n",
    "# df_pisos_com['€_comunidad_mes'] = 'vacio'\n",
    "# df_pisos_com['interior_exterior'] = 'vacio'\n",
    "# df_pisos_com['orientacion'] = 'vacio'\n",
    "# df_pisos_com['jardin'] = 'vacio'\n",
    "# df_pisos_com['aire_acondicionado'] = 'vacio'\n",
    "# df_pisos_com['calefaccion'] = 'vacio'\n",
    "# df_pisos_com['cocina'] = 'vacio'\n",
    "# df_pisos_com['tipo_suelo'] = 'vacio'\n",
    "# df_pisos_com['piscina'] = 'vacio'\n",
    "# df_pisos_com['armarios'] = 'vacio'\n",
    "# df_pisos_com['garaje'] = 'vacio'\n",
    "# df_pisos_com['terraza'] = 'vacio'\n",
    "# df_pisos_com['trastero'] = 'vacio'\n",
    "# df_pisos_com['ascensor'] = 'vacio'\n",
    "# df_pisos_com['balcon'] = 'vacio'\n",
    "# df_pisos_com.info()"
   ]
  },
  {
   "cell_type": "code",
   "execution_count": 219,
   "metadata": {},
   "outputs": [],
   "source": [
    "# df_pisos_com['fecha_publicacion'] = pd.to_datetime(df_pisos_com['fecha_publicacion'], errors='coerce')\n",
    "# df_pisos_com.info()"
   ]
  },
  {
   "cell_type": "code",
   "execution_count": 220,
   "metadata": {},
   "outputs": [
    {
     "data": {
      "text/html": [
       "<div>\n",
       "<style scoped>\n",
       "    .dataframe tbody tr th:only-of-type {\n",
       "        vertical-align: middle;\n",
       "    }\n",
       "\n",
       "    .dataframe tbody tr th {\n",
       "        vertical-align: top;\n",
       "    }\n",
       "\n",
       "    .dataframe thead th {\n",
       "        text-align: right;\n",
       "    }\n",
       "</style>\n",
       "<table border=\"1\" class=\"dataframe\">\n",
       "  <thead>\n",
       "    <tr style=\"text-align: right;\">\n",
       "      <th></th>\n",
       "      <th>title</th>\n",
       "      <th>ubicacion</th>\n",
       "      <th>precio</th>\n",
       "      <th>num_hab</th>\n",
       "      <th>num_banos</th>\n",
       "      <th>metros_construidos</th>\n",
       "      <th>planta</th>\n",
       "      <th>precio_por_area</th>\n",
       "      <th>tipologia</th>\n",
       "      <th>estado</th>\n",
       "      <th>url</th>\n",
       "      <th>fecha_descarga</th>\n",
       "      <th>web</th>\n",
       "      <th>distrito</th>\n",
       "      <th>barrio</th>\n",
       "      <th>cod_distrito</th>\n",
       "      <th>cod_barrio</th>\n",
       "      <th>title_tipologia</th>\n",
       "    </tr>\n",
       "  </thead>\n",
       "  <tbody>\n",
       "    <tr>\n",
       "      <th>0</th>\n",
       "      <td>Apartamento en venta en A Tan Solo Metros del Teatro de La Latina</td>\n",
       "      <td>Palacio (Distrito Centro. Madrid Capital)</td>\n",
       "      <td>250000</td>\n",
       "      <td>1</td>\n",
       "      <td>1</td>\n",
       "      <td>39</td>\n",
       "      <td>5</td>\n",
       "      <td>6410</td>\n",
       "      <td>NaN</td>\n",
       "      <td>NaN</td>\n",
       "      <td>https://www.pisos.com/comprar/apartamento-centro_palacio28005-47597559176_109100/</td>\n",
       "      <td>2024-10-19</td>\n",
       "      <td>pisos.com</td>\n",
       "      <td>Centro</td>\n",
       "      <td>Palacio</td>\n",
       "      <td>1.0</td>\n",
       "      <td>11.0</td>\n",
       "      <td>Apartamento</td>\n",
       "    </tr>\n",
       "    <tr>\n",
       "      <th>1</th>\n",
       "      <td>Apartamento en venta en Apóstol Santiago</td>\n",
       "      <td>Apóstol Santiago (Distrito Hortaleza. Madrid Capital)</td>\n",
       "      <td>420000</td>\n",
       "      <td>2</td>\n",
       "      <td>1</td>\n",
       "      <td>73</td>\n",
       "      <td>NaN</td>\n",
       "      <td>5753</td>\n",
       "      <td>NaN</td>\n",
       "      <td>NaN</td>\n",
       "      <td>https://www.pisos.com/comprar/apartamento-apostol_santiago-41696859245_101800/</td>\n",
       "      <td>2024-10-19</td>\n",
       "      <td>pisos.com</td>\n",
       "      <td>Hortaleza</td>\n",
       "      <td>Apóstol Santiago</td>\n",
       "      <td>16.0</td>\n",
       "      <td>165.0</td>\n",
       "      <td>Apartamento</td>\n",
       "    </tr>\n",
       "  </tbody>\n",
       "</table>\n",
       "</div>"
      ],
      "text/plain": [
       "                                                               title  \\\n",
       "0  Apartamento en venta en A Tan Solo Metros del Teatro de La Latina   \n",
       "1                           Apartamento en venta en Apóstol Santiago   \n",
       "\n",
       "                                               ubicacion  precio num_hab  \\\n",
       "0              Palacio (Distrito Centro. Madrid Capital)  250000       1   \n",
       "1  Apóstol Santiago (Distrito Hortaleza. Madrid Capital)  420000       2   \n",
       "\n",
       "  num_banos metros_construidos planta precio_por_area tipologia estado  \\\n",
       "0         1                 39      5            6410       NaN    NaN   \n",
       "1         1                 73    NaN            5753       NaN    NaN   \n",
       "\n",
       "                                                                                 url  \\\n",
       "0  https://www.pisos.com/comprar/apartamento-centro_palacio28005-47597559176_109100/   \n",
       "1     https://www.pisos.com/comprar/apartamento-apostol_santiago-41696859245_101800/   \n",
       "\n",
       "  fecha_descarga        web   distrito            barrio  cod_distrito  \\\n",
       "0     2024-10-19  pisos.com     Centro           Palacio           1.0   \n",
       "1     2024-10-19  pisos.com  Hortaleza  Apóstol Santiago          16.0   \n",
       "\n",
       "   cod_barrio title_tipologia  \n",
       "0        11.0     Apartamento  \n",
       "1       165.0     Apartamento  "
      ]
     },
     "execution_count": 220,
     "metadata": {},
     "output_type": "execute_result"
    }
   ],
   "source": [
    "df_pisos_com['title_tipologia'] = df_pisos_com['title'].str.split().str[0]\n",
    "df_pisos_com.head(2)"
   ]
  },
  {
   "cell_type": "code",
   "execution_count": 221,
   "metadata": {},
   "outputs": [
    {
     "data": {
      "text/plain": [
       "title_tipologia\n",
       "Finca             5\n",
       "Loft             22\n",
       "Estudio          97\n",
       "Casa            114\n",
       "Dúplex          142\n",
       "Apartamento     152\n",
       "Chalet          261\n",
       "Ático           289\n",
       "Piso           4867\n",
       "Name: count, dtype: int64"
      ]
     },
     "execution_count": 221,
     "metadata": {},
     "output_type": "execute_result"
    }
   ],
   "source": [
    "count_title_tipologia = df_pisos_com['title_tipologia'].value_counts(ascending=True)\n",
    "count_title_tipologia"
   ]
  },
  {
   "cell_type": "code",
   "execution_count": 222,
   "metadata": {},
   "outputs": [
    {
     "data": {
      "text/html": [
       "<div>\n",
       "<style scoped>\n",
       "    .dataframe tbody tr th:only-of-type {\n",
       "        vertical-align: middle;\n",
       "    }\n",
       "\n",
       "    .dataframe tbody tr th {\n",
       "        vertical-align: top;\n",
       "    }\n",
       "\n",
       "    .dataframe thead th {\n",
       "        text-align: right;\n",
       "    }\n",
       "</style>\n",
       "<table border=\"1\" class=\"dataframe\">\n",
       "  <thead>\n",
       "    <tr style=\"text-align: right;\">\n",
       "      <th></th>\n",
       "      <th>title</th>\n",
       "      <th>ubicacion</th>\n",
       "      <th>precio</th>\n",
       "      <th>num_hab</th>\n",
       "      <th>num_banos</th>\n",
       "      <th>metros_construidos</th>\n",
       "      <th>planta</th>\n",
       "      <th>precio_por_area</th>\n",
       "      <th>estado</th>\n",
       "      <th>url</th>\n",
       "      <th>fecha_descarga</th>\n",
       "      <th>web</th>\n",
       "      <th>distrito</th>\n",
       "      <th>barrio</th>\n",
       "      <th>cod_distrito</th>\n",
       "      <th>cod_barrio</th>\n",
       "      <th>tipologia</th>\n",
       "    </tr>\n",
       "  </thead>\n",
       "  <tbody>\n",
       "    <tr>\n",
       "      <th>0</th>\n",
       "      <td>Apartamento en venta en A Tan Solo Metros del Teatro de La Latina</td>\n",
       "      <td>Palacio (Distrito Centro. Madrid Capital)</td>\n",
       "      <td>250000</td>\n",
       "      <td>1</td>\n",
       "      <td>1</td>\n",
       "      <td>39</td>\n",
       "      <td>5</td>\n",
       "      <td>6410</td>\n",
       "      <td>NaN</td>\n",
       "      <td>https://www.pisos.com/comprar/apartamento-centro_palacio28005-47597559176_109100/</td>\n",
       "      <td>2024-10-19</td>\n",
       "      <td>pisos.com</td>\n",
       "      <td>Centro</td>\n",
       "      <td>Palacio</td>\n",
       "      <td>1.0</td>\n",
       "      <td>11.0</td>\n",
       "      <td>Apartamento</td>\n",
       "    </tr>\n",
       "  </tbody>\n",
       "</table>\n",
       "</div>"
      ],
      "text/plain": [
       "                                                               title  \\\n",
       "0  Apartamento en venta en A Tan Solo Metros del Teatro de La Latina   \n",
       "\n",
       "                                   ubicacion  precio num_hab num_banos  \\\n",
       "0  Palacio (Distrito Centro. Madrid Capital)  250000       1         1   \n",
       "\n",
       "  metros_construidos planta precio_por_area estado  \\\n",
       "0                 39      5            6410    NaN   \n",
       "\n",
       "                                                                                 url  \\\n",
       "0  https://www.pisos.com/comprar/apartamento-centro_palacio28005-47597559176_109100/   \n",
       "\n",
       "  fecha_descarga        web distrito   barrio  cod_distrito  cod_barrio  \\\n",
       "0     2024-10-19  pisos.com   Centro  Palacio           1.0        11.0   \n",
       "\n",
       "     tipologia  \n",
       "0  Apartamento  "
      ]
     },
     "execution_count": 222,
     "metadata": {},
     "output_type": "execute_result"
    }
   ],
   "source": [
    "df_pisos_com = df_pisos_com.drop(['tipologia'], axis=1)\n",
    "df_pisos_com = df_pisos_com.rename(columns={'title_tipologia': 'tipologia'})\n",
    "df_pisos_com.head(1)"
   ]
  },
  {
   "cell_type": "code",
   "execution_count": 223,
   "metadata": {},
   "outputs": [
    {
     "name": "stdout",
     "output_type": "stream",
     "text": [
      "<class 'pandas.core.frame.DataFrame'>\n",
      "RangeIndex: 5949 entries, 0 to 5948\n",
      "Data columns (total 17 columns):\n",
      " #   Column          Non-Null Count  Dtype         \n",
      "---  ------          --------------  -----         \n",
      " 0   title           5949 non-null   object        \n",
      " 1   ubicacion       5949 non-null   object        \n",
      " 2   precio          5949 non-null   object        \n",
      " 3   habitaciones    5719 non-null   object        \n",
      " 4   banos           5609 non-null   object        \n",
      " 5   m2_constr       5930 non-null   object        \n",
      " 6   planta          3368 non-null   object        \n",
      " 7   EUR/m2          5925 non-null   object        \n",
      " 8   estado          3642 non-null   object        \n",
      " 9   url             5949 non-null   object        \n",
      " 10  fecha_descarga  5949 non-null   datetime64[ns]\n",
      " 11  web             5949 non-null   object        \n",
      " 12  distrito        5281 non-null   object        \n",
      " 13  barrio          5672 non-null   object        \n",
      " 14  cod_distrito    5018 non-null   float64       \n",
      " 15  cod_barrio      5018 non-null   float64       \n",
      " 16  tipologia       5949 non-null   object        \n",
      "dtypes: datetime64[ns](1), float64(2), object(14)\n",
      "memory usage: 790.2+ KB\n"
     ]
    }
   ],
   "source": [
    "df_pisos_com.rename(columns={'num_hab': 'habitaciones', 'num_banos': 'banos', 'metros_construidos': 'm2_constr', 'precio_por_area': 'EUR/m2'}, inplace=True)\n",
    "df_pisos_com.info()"
   ]
  },
  {
   "cell_type": "code",
   "execution_count": 224,
   "metadata": {},
   "outputs": [
    {
     "data": {
      "text/plain": [
       "1213"
      ]
     },
     "execution_count": 224,
     "metadata": {},
     "output_type": "execute_result"
    }
   ],
   "source": [
    "url_duplicadas = df_pisos_com['url'].duplicated().sum()\n",
    "url_duplicadas\n",
    "# 1213"
   ]
  },
  {
   "cell_type": "code",
   "execution_count": 225,
   "metadata": {},
   "outputs": [
    {
     "data": {
      "text/plain": [
       "(4736, 17)"
      ]
     },
     "execution_count": 225,
     "metadata": {},
     "output_type": "execute_result"
    }
   ],
   "source": [
    "df_pisos_com = df_pisos_com.drop_duplicates(subset=['url'])\n",
    "df_pisos_com.shape\n",
    "# (4736, 17)"
   ]
  },
  {
   "cell_type": "code",
   "execution_count": 226,
   "metadata": {},
   "outputs": [
    {
     "data": {
      "text/plain": [
       "Index(['title', 'ubicacion', 'precio', 'habitaciones', 'banos', 'm2_constr',\n",
       "       'planta', 'EUR/m2', 'estado', 'url', 'fecha_descarga', 'web',\n",
       "       'distrito', 'barrio', 'cod_distrito', 'cod_barrio', 'tipologia'],\n",
       "      dtype='object')"
      ]
     },
     "execution_count": 226,
     "metadata": {},
     "output_type": "execute_result"
    }
   ],
   "source": [
    "df_pisos_com.columns"
   ]
  },
  {
   "cell_type": "code",
   "execution_count": 228,
   "metadata": {},
   "outputs": [
    {
     "data": {
      "text/plain": [
       "m2_constr\n",
       "70     82\n",
       "60     67\n",
       "80     67\n",
       "90     65\n",
       "120    61\n",
       "       ..\n",
       "352     1\n",
       "575     1\n",
       "750     1\n",
       "365     1\n",
       "518     1\n",
       "Name: count, Length: 474, dtype: int64"
      ]
     },
     "execution_count": 228,
     "metadata": {},
     "output_type": "execute_result"
    }
   ],
   "source": [
    "df_pisos_com['m2_constr'].value_counts(dropna=False)"
   ]
  },
  {
   "cell_type": "code",
   "execution_count": 232,
   "metadata": {},
   "outputs": [],
   "source": [
    "df_pisos_com.to_csv('pisoscom_limpio.csv', index=False)"
   ]
  }
 ],
 "metadata": {
  "kernelspec": {
   "display_name": "Nuclio",
   "language": "python",
   "name": "python3"
  },
  "language_info": {
   "codemirror_mode": {
    "name": "ipython",
    "version": 3
   },
   "file_extension": ".py",
   "mimetype": "text/x-python",
   "name": "python",
   "nbconvert_exporter": "python",
   "pygments_lexer": "ipython3",
   "version": "3.12.7"
  }
 },
 "nbformat": 4,
 "nbformat_minor": 2
}
