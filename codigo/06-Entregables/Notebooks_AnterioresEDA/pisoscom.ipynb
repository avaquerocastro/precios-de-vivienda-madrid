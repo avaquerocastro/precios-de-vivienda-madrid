{
 "cells": [
  {
   "cell_type": "markdown",
   "metadata": {},
   "source": [
    "![Nuclio logo](https://nuclio.school/wp-content/uploads/2018/12/nucleoDS-newBlack.png)\n"
   ]
  },
  {
   "cell_type": "markdown",
   "metadata": {},
   "source": [
    "# CAPSTONE PROJECT: Predicción de precios de las viviendas en Madrid\n",
    "Limpieza de datos: Pisos.com"
   ]
  },
  {
   "cell_type": "markdown",
   "metadata": {},
   "source": [
    "Meta de creación de columnas:\n",
    "- `fecha_descarga`-\n",
    "- `web`-\n",
    "- `url`-\n",
    "- `precio`-\n",
    "- `barrio`-\n",
    "- `distrito`-\n",
    "- `codigo_postal`\n",
    "- `metros_utiles`\n",
    "- `metros_construidos`-\n",
    "- `num_hab`-\n",
    "- `num_banos`-\n",
    "- `planta`-\n",
    "- `tipologia`-\n",
    "- `obra_nueva`\n",
    "- `cocina`\n",
    "- `garage`\n",
    "- `trastero`\n",
    "- `orientacion`\n",
    "- `estado`-\n",
    "- `antiguedad`\n",
    "- `consumo`\n",
    "- `fecha_publicacion`\n",
    "- `subasta`\n",
    "- `visitas`\n",
    "- `amueblado`\n",
    "- `calefaccion`\n",
    "- `terraza`\n",
    "- `balcon`\n",
    "- `piscina`\n",
    "- `jardin`\n",
    "- `aire_acondionado`\n",
    "- `detalle`\n",
    "\n",
    "Cuatro datasets recibidos\n",
    "- data_sales_19102024.xlsx\n",
    "- data_salesagosto2024.xlsx\n",
    "- Detalles_datasales19102024.xlsx\n",
    "- Detalles2_datasales19102024.xlsx"
   ]
  },
  {
   "cell_type": "code",
   "execution_count": 629,
   "metadata": {},
   "outputs": [],
   "source": [
    "import pandas as pd\n",
    "import numpy as np\n",
    "import unicodedata\n",
    "import re"
   ]
  },
  {
   "cell_type": "markdown",
   "metadata": {},
   "source": [
    "## DATA FRAMES GENERALES"
   ]
  },
  {
   "cell_type": "markdown",
   "metadata": {},
   "source": [
    "### TRANSFORMAR COLUMNAS Y MERGE"
   ]
  },
  {
   "cell_type": "code",
   "execution_count": 631,
   "metadata": {},
   "outputs": [
    {
     "data": {
      "text/html": [
       "<div>\n",
       "<style scoped>\n",
       "    .dataframe tbody tr th:only-of-type {\n",
       "        vertical-align: middle;\n",
       "    }\n",
       "\n",
       "    .dataframe tbody tr th {\n",
       "        vertical-align: top;\n",
       "    }\n",
       "\n",
       "    .dataframe thead th {\n",
       "        text-align: right;\n",
       "    }\n",
       "</style>\n",
       "<table border=\"1\" class=\"dataframe\">\n",
       "  <thead>\n",
       "    <tr style=\"text-align: right;\">\n",
       "      <th></th>\n",
       "      <th>title</th>\n",
       "      <th>zone</th>\n",
       "      <th>municipality</th>\n",
       "      <th>price</th>\n",
       "      <th>bedrooms</th>\n",
       "      <th>bathrooms</th>\n",
       "      <th>size</th>\n",
       "      <th>floor</th>\n",
       "      <th>priceByArea</th>\n",
       "      <th>tipology</th>\n",
       "      <th>state</th>\n",
       "      <th>url</th>\n",
       "    </tr>\n",
       "  </thead>\n",
       "  <tbody>\n",
       "    <tr>\n",
       "      <th>0</th>\n",
       "      <td>Apartamento en venta en Paseo de las Acacias</td>\n",
       "      <td>Acacias (Distrito Arganzuela. Madrid Capital)</td>\n",
       "      <td>madrid</td>\n",
       "      <td>245.000 €</td>\n",
       "      <td>2 habs.</td>\n",
       "      <td>1 baño</td>\n",
       "      <td>42 m²</td>\n",
       "      <td>3ª planta</td>\n",
       "      <td>5.833 €/m²</td>\n",
       "      <td>NaN</td>\n",
       "      <td>En buen estado</td>\n",
       "      <td>https://www.pisos.com/comprar/apartamento-acacias28005-47581419946_100500/</td>\n",
       "    </tr>\n",
       "    <tr>\n",
       "      <th>1</th>\n",
       "      <td>Apartamento en venta en Calle de Carlos y Guillermo Fernández Shaw</td>\n",
       "      <td>Adelfas (Distrito Retiro. Madrid Capital)</td>\n",
       "      <td>madrid</td>\n",
       "      <td>767.500 €</td>\n",
       "      <td>3 habs.</td>\n",
       "      <td>2 baños</td>\n",
       "      <td>110 m²</td>\n",
       "      <td>NaN</td>\n",
       "      <td>6.977 €/m²</td>\n",
       "      <td>NaN</td>\n",
       "      <td>NaN</td>\n",
       "      <td>https://www.pisos.com/comprar/apartamento-adelfas28007-45835099732_101800/</td>\n",
       "    </tr>\n",
       "  </tbody>\n",
       "</table>\n",
       "</div>"
      ],
      "text/plain": [
       "                                                                title  \\\n",
       "0                        Apartamento en venta en Paseo de las Acacias   \n",
       "1  Apartamento en venta en Calle de Carlos y Guillermo Fernández Shaw   \n",
       "\n",
       "                                            zone municipality      price  \\\n",
       "0  Acacias (Distrito Arganzuela. Madrid Capital)       madrid  245.000 €   \n",
       "1      Adelfas (Distrito Retiro. Madrid Capital)       madrid  767.500 €   \n",
       "\n",
       "  bedrooms bathrooms    size      floor priceByArea tipology           state  \\\n",
       "0  2 habs.    1 baño   42 m²  3ª planta  5.833 €/m²      NaN  En buen estado   \n",
       "1  3 habs.   2 baños  110 m²        NaN  6.977 €/m²      NaN             NaN   \n",
       "\n",
       "                                                                          url  \n",
       "0  https://www.pisos.com/comprar/apartamento-acacias28005-47581419946_100500/  \n",
       "1  https://www.pisos.com/comprar/apartamento-adelfas28007-45835099732_101800/  "
      ]
     },
     "execution_count": 631,
     "metadata": {},
     "output_type": "execute_result"
    }
   ],
   "source": [
    "#Silvia, modifico la ruta para acceder al archivo de datos\n",
    "df_pisos_10=pd.read_excel('./03-pisos-com/data_sales_19102024.xlsx')\n",
    "df_pisos_10.head(2)\n"
   ]
  },
  {
   "cell_type": "code",
   "execution_count": 632,
   "metadata": {},
   "outputs": [
    {
     "data": {
      "text/plain": [
       "size\n",
       "160 m²      136\n",
       "110 m²       93\n",
       "65 m²        89\n",
       "53 m²        76\n",
       "123 m²       75\n",
       "           ... \n",
       "754 m²        1\n",
       "775 m²        1\n",
       "700 m²        1\n",
       "1.525 m²      1\n",
       "490 m²        1\n",
       "Name: count, Length: 431, dtype: int64"
      ]
     },
     "execution_count": 632,
     "metadata": {},
     "output_type": "execute_result"
    }
   ],
   "source": [
    "df_pisos_10['size'].value_counts(dropna=False)"
   ]
  },
  {
   "cell_type": "code",
   "execution_count": 633,
   "metadata": {},
   "outputs": [
    {
     "data": {
      "text/html": [
       "<div>\n",
       "<style scoped>\n",
       "    .dataframe tbody tr th:only-of-type {\n",
       "        vertical-align: middle;\n",
       "    }\n",
       "\n",
       "    .dataframe tbody tr th {\n",
       "        vertical-align: top;\n",
       "    }\n",
       "\n",
       "    .dataframe thead th {\n",
       "        text-align: right;\n",
       "    }\n",
       "</style>\n",
       "<table border=\"1\" class=\"dataframe\">\n",
       "  <thead>\n",
       "    <tr style=\"text-align: right;\">\n",
       "      <th></th>\n",
       "      <th>title</th>\n",
       "      <th>zone</th>\n",
       "      <th>municipality</th>\n",
       "      <th>price</th>\n",
       "      <th>bedrooms</th>\n",
       "      <th>bathrooms</th>\n",
       "      <th>size</th>\n",
       "      <th>floor</th>\n",
       "      <th>priceByArea</th>\n",
       "      <th>tipology</th>\n",
       "      <th>state</th>\n",
       "      <th>url</th>\n",
       "    </tr>\n",
       "  </thead>\n",
       "  <tbody>\n",
       "    <tr>\n",
       "      <th>0</th>\n",
       "      <td>Apartamento en venta en Calle de Valdelasierra</td>\n",
       "      <td>Acacias (Distrito Arganzuela. Madrid Capital)</td>\n",
       "      <td>madrid</td>\n",
       "      <td>255.000 €</td>\n",
       "      <td>1 hab.</td>\n",
       "      <td>1 baño</td>\n",
       "      <td>71 m²</td>\n",
       "      <td>NaN</td>\n",
       "      <td>3.591 €/m²</td>\n",
       "      <td>NaN</td>\n",
       "      <td>En buen estado</td>\n",
       "      <td>https://www.pisos.com/comprar/apartamento-acacias28005-46704102553_993362/</td>\n",
       "    </tr>\n",
       "    <tr>\n",
       "      <th>1</th>\n",
       "      <td>Apartamento en venta en Paseo de Santa María de la Cabeza, cerca de Paseo de las Delicias</td>\n",
       "      <td>Acacias (Distrito Arganzuela. Madrid Capital)</td>\n",
       "      <td>madrid</td>\n",
       "      <td>397.000 €</td>\n",
       "      <td>1 hab.</td>\n",
       "      <td>1 baño</td>\n",
       "      <td>73 m²</td>\n",
       "      <td>3ª planta</td>\n",
       "      <td>5.438 €/m²</td>\n",
       "      <td>NaN</td>\n",
       "      <td>En buen estado</td>\n",
       "      <td>https://www.pisos.com/comprar/apartamento-acacias28045-45078322021_993362/</td>\n",
       "    </tr>\n",
       "  </tbody>\n",
       "</table>\n",
       "</div>"
      ],
      "text/plain": [
       "                                                                                       title  \\\n",
       "0                                             Apartamento en venta en Calle de Valdelasierra   \n",
       "1  Apartamento en venta en Paseo de Santa María de la Cabeza, cerca de Paseo de las Delicias   \n",
       "\n",
       "                                            zone municipality      price  \\\n",
       "0  Acacias (Distrito Arganzuela. Madrid Capital)       madrid  255.000 €   \n",
       "1  Acacias (Distrito Arganzuela. Madrid Capital)       madrid  397.000 €   \n",
       "\n",
       "  bedrooms bathrooms   size      floor priceByArea tipology           state  \\\n",
       "0   1 hab.    1 baño  71 m²        NaN  3.591 €/m²      NaN  En buen estado   \n",
       "1   1 hab.    1 baño  73 m²  3ª planta  5.438 €/m²      NaN  En buen estado   \n",
       "\n",
       "                                                                          url  \n",
       "0  https://www.pisos.com/comprar/apartamento-acacias28005-46704102553_993362/  \n",
       "1  https://www.pisos.com/comprar/apartamento-acacias28045-45078322021_993362/  "
      ]
     },
     "execution_count": 633,
     "metadata": {},
     "output_type": "execute_result"
    }
   ],
   "source": [
    "df_pisos_08=pd.read_excel('./03-pisos-com/data_salesagosto2024.xlsx')\n",
    "\n",
    "df_pisos_08.head(2)"
   ]
  },
  {
   "cell_type": "code",
   "execution_count": 634,
   "metadata": {},
   "outputs": [],
   "source": [
    "#df_pisos_08 = pd.read_excel('/Users/AleVC/Library/CloudStorage/GoogleDrive-ale.vaquero.c@gmail.com/My Drive/Nuclio/Máster en Data Science/TFM/PisosCom/data_salesagosto2024.xlsx')\n",
    "#df_pisos_08.head(2)"
   ]
  },
  {
   "cell_type": "code",
   "execution_count": 635,
   "metadata": {},
   "outputs": [
    {
     "data": {
      "text/plain": [
       "(3715, 12)"
      ]
     },
     "execution_count": 635,
     "metadata": {},
     "output_type": "execute_result"
    }
   ],
   "source": [
    "df_pisos_10.shape\n",
    "# 3715, 12"
   ]
  },
  {
   "cell_type": "code",
   "execution_count": 636,
   "metadata": {},
   "outputs": [
    {
     "data": {
      "text/plain": [
       "735"
      ]
     },
     "execution_count": 636,
     "metadata": {},
     "output_type": "execute_result"
    }
   ],
   "source": [
    "df_pisos_10_dupl = df_pisos_10.duplicated().sum()\n",
    "df_pisos_10_dupl\n",
    "# 735 filas duplicadas"
   ]
  },
  {
   "cell_type": "code",
   "execution_count": 637,
   "metadata": {},
   "outputs": [
    {
     "data": {
      "text/plain": [
       "(2980, 12)"
      ]
     },
     "execution_count": 637,
     "metadata": {},
     "output_type": "execute_result"
    }
   ],
   "source": [
    "df_pisos_10 = df_pisos_10.drop_duplicates()\n",
    "df_pisos_10.shape\n",
    "# 2980, 12"
   ]
  },
  {
   "cell_type": "code",
   "execution_count": 638,
   "metadata": {},
   "outputs": [
    {
     "data": {
      "text/plain": [
       "(4233, 12)"
      ]
     },
     "execution_count": 638,
     "metadata": {},
     "output_type": "execute_result"
    }
   ],
   "source": [
    "df_pisos_08.shape\n",
    "# 4233, 12"
   ]
  },
  {
   "cell_type": "code",
   "execution_count": 639,
   "metadata": {},
   "outputs": [
    {
     "data": {
      "text/plain": [
       "1264"
      ]
     },
     "execution_count": 639,
     "metadata": {},
     "output_type": "execute_result"
    }
   ],
   "source": [
    "df_pisos_08_dupl = df_pisos_08.duplicated().sum()\n",
    "df_pisos_08_dupl\n",
    "# 1264 filas duplicadas"
   ]
  },
  {
   "cell_type": "code",
   "execution_count": 640,
   "metadata": {},
   "outputs": [
    {
     "data": {
      "text/plain": [
       "(2969, 12)"
      ]
     },
     "execution_count": 640,
     "metadata": {},
     "output_type": "execute_result"
    }
   ],
   "source": [
    "df_pisos_08 = df_pisos_08.drop_duplicates()\n",
    "df_pisos_08.shape\n",
    "# 2969, 12"
   ]
  },
  {
   "cell_type": "code",
   "execution_count": 641,
   "metadata": {},
   "outputs": [
    {
     "data": {
      "text/html": [
       "<div>\n",
       "<style scoped>\n",
       "    .dataframe tbody tr th:only-of-type {\n",
       "        vertical-align: middle;\n",
       "    }\n",
       "\n",
       "    .dataframe tbody tr th {\n",
       "        vertical-align: top;\n",
       "    }\n",
       "\n",
       "    .dataframe thead th {\n",
       "        text-align: right;\n",
       "    }\n",
       "</style>\n",
       "<table border=\"1\" class=\"dataframe\">\n",
       "  <thead>\n",
       "    <tr style=\"text-align: right;\">\n",
       "      <th></th>\n",
       "      <th>title</th>\n",
       "      <th>zone</th>\n",
       "      <th>municipality</th>\n",
       "      <th>price</th>\n",
       "      <th>bedrooms</th>\n",
       "      <th>bathrooms</th>\n",
       "      <th>size</th>\n",
       "      <th>floor</th>\n",
       "      <th>priceByArea</th>\n",
       "      <th>tipology</th>\n",
       "      <th>state</th>\n",
       "      <th>url</th>\n",
       "      <th>fecha_descarga</th>\n",
       "    </tr>\n",
       "  </thead>\n",
       "  <tbody>\n",
       "    <tr>\n",
       "      <th>0</th>\n",
       "      <td>Apartamento en venta en Paseo de las Acacias</td>\n",
       "      <td>Acacias (Distrito Arganzuela. Madrid Capital)</td>\n",
       "      <td>madrid</td>\n",
       "      <td>245.000 €</td>\n",
       "      <td>2 habs.</td>\n",
       "      <td>1 baño</td>\n",
       "      <td>42 m²</td>\n",
       "      <td>3ª planta</td>\n",
       "      <td>5.833 €/m²</td>\n",
       "      <td>NaN</td>\n",
       "      <td>En buen estado</td>\n",
       "      <td>https://www.pisos.com/comprar/apartamento-acacias28005-47581419946_100500/</td>\n",
       "      <td>2024-10-19</td>\n",
       "    </tr>\n",
       "  </tbody>\n",
       "</table>\n",
       "</div>"
      ],
      "text/plain": [
       "                                          title  \\\n",
       "0  Apartamento en venta en Paseo de las Acacias   \n",
       "\n",
       "                                            zone municipality      price  \\\n",
       "0  Acacias (Distrito Arganzuela. Madrid Capital)       madrid  245.000 €   \n",
       "\n",
       "  bedrooms bathrooms   size      floor priceByArea tipology           state  \\\n",
       "0  2 habs.    1 baño  42 m²  3ª planta  5.833 €/m²      NaN  En buen estado   \n",
       "\n",
       "                                                                          url  \\\n",
       "0  https://www.pisos.com/comprar/apartamento-acacias28005-47581419946_100500/   \n",
       "\n",
       "  fecha_descarga  \n",
       "0     2024-10-19  "
      ]
     },
     "execution_count": 641,
     "metadata": {},
     "output_type": "execute_result"
    }
   ],
   "source": [
    "df_pisos_10['fecha_descarga'] = pd.to_datetime('2024-10-19')\n",
    "df_pisos_10.head(1)"
   ]
  },
  {
   "cell_type": "code",
   "execution_count": 642,
   "metadata": {},
   "outputs": [
    {
     "data": {
      "text/plain": [
       "(2980, 13)"
      ]
     },
     "execution_count": 642,
     "metadata": {},
     "output_type": "execute_result"
    }
   ],
   "source": [
    "df_pisos_10.shape\n",
    "# (2980, 13)"
   ]
  },
  {
   "cell_type": "code",
   "execution_count": 643,
   "metadata": {},
   "outputs": [
    {
     "data": {
      "text/html": [
       "<div>\n",
       "<style scoped>\n",
       "    .dataframe tbody tr th:only-of-type {\n",
       "        vertical-align: middle;\n",
       "    }\n",
       "\n",
       "    .dataframe tbody tr th {\n",
       "        vertical-align: top;\n",
       "    }\n",
       "\n",
       "    .dataframe thead th {\n",
       "        text-align: right;\n",
       "    }\n",
       "</style>\n",
       "<table border=\"1\" class=\"dataframe\">\n",
       "  <thead>\n",
       "    <tr style=\"text-align: right;\">\n",
       "      <th></th>\n",
       "      <th>title</th>\n",
       "      <th>zone</th>\n",
       "      <th>municipality</th>\n",
       "      <th>price</th>\n",
       "      <th>bedrooms</th>\n",
       "      <th>bathrooms</th>\n",
       "      <th>size</th>\n",
       "      <th>floor</th>\n",
       "      <th>priceByArea</th>\n",
       "      <th>tipology</th>\n",
       "      <th>state</th>\n",
       "      <th>url</th>\n",
       "      <th>fecha_descarga</th>\n",
       "    </tr>\n",
       "  </thead>\n",
       "  <tbody>\n",
       "    <tr>\n",
       "      <th>0</th>\n",
       "      <td>Apartamento en venta en Calle de Valdelasierra</td>\n",
       "      <td>Acacias (Distrito Arganzuela. Madrid Capital)</td>\n",
       "      <td>madrid</td>\n",
       "      <td>255.000 €</td>\n",
       "      <td>1 hab.</td>\n",
       "      <td>1 baño</td>\n",
       "      <td>71 m²</td>\n",
       "      <td>NaN</td>\n",
       "      <td>3.591 €/m²</td>\n",
       "      <td>NaN</td>\n",
       "      <td>En buen estado</td>\n",
       "      <td>https://www.pisos.com/comprar/apartamento-acacias28005-46704102553_993362/</td>\n",
       "      <td>2024-08-19</td>\n",
       "    </tr>\n",
       "  </tbody>\n",
       "</table>\n",
       "</div>"
      ],
      "text/plain": [
       "                                            title  \\\n",
       "0  Apartamento en venta en Calle de Valdelasierra   \n",
       "\n",
       "                                            zone municipality      price  \\\n",
       "0  Acacias (Distrito Arganzuela. Madrid Capital)       madrid  255.000 €   \n",
       "\n",
       "  bedrooms bathrooms   size floor priceByArea tipology           state  \\\n",
       "0   1 hab.    1 baño  71 m²   NaN  3.591 €/m²      NaN  En buen estado   \n",
       "\n",
       "                                                                          url  \\\n",
       "0  https://www.pisos.com/comprar/apartamento-acacias28005-46704102553_993362/   \n",
       "\n",
       "  fecha_descarga  \n",
       "0     2024-08-19  "
      ]
     },
     "execution_count": 643,
     "metadata": {},
     "output_type": "execute_result"
    }
   ],
   "source": [
    "df_pisos_08['fecha_descarga'] = pd.to_datetime('2024-08-19')\n",
    "df_pisos_08.head(1)"
   ]
  },
  {
   "cell_type": "code",
   "execution_count": 644,
   "metadata": {},
   "outputs": [
    {
     "data": {
      "text/plain": [
       "(2969, 13)"
      ]
     },
     "execution_count": 644,
     "metadata": {},
     "output_type": "execute_result"
    }
   ],
   "source": [
    "df_pisos_08.shape\n",
    "# (2969, 13)"
   ]
  },
  {
   "cell_type": "code",
   "execution_count": 645,
   "metadata": {},
   "outputs": [
    {
     "data": {
      "text/html": [
       "<div>\n",
       "<style scoped>\n",
       "    .dataframe tbody tr th:only-of-type {\n",
       "        vertical-align: middle;\n",
       "    }\n",
       "\n",
       "    .dataframe tbody tr th {\n",
       "        vertical-align: top;\n",
       "    }\n",
       "\n",
       "    .dataframe thead th {\n",
       "        text-align: right;\n",
       "    }\n",
       "</style>\n",
       "<table border=\"1\" class=\"dataframe\">\n",
       "  <thead>\n",
       "    <tr style=\"text-align: right;\">\n",
       "      <th></th>\n",
       "      <th>title</th>\n",
       "      <th>zone</th>\n",
       "      <th>municipality</th>\n",
       "      <th>price</th>\n",
       "      <th>bedrooms</th>\n",
       "      <th>bathrooms</th>\n",
       "      <th>size</th>\n",
       "      <th>floor</th>\n",
       "      <th>priceByArea</th>\n",
       "      <th>tipology</th>\n",
       "      <th>state</th>\n",
       "      <th>url</th>\n",
       "      <th>fecha_descarga</th>\n",
       "    </tr>\n",
       "  </thead>\n",
       "  <tbody>\n",
       "    <tr>\n",
       "      <th>0</th>\n",
       "      <td>Apartamento en venta en A Tan Solo Metros del Teatro de La Latina</td>\n",
       "      <td>Palacio (Distrito Centro. Madrid Capital)</td>\n",
       "      <td>madrid</td>\n",
       "      <td>250.000 €</td>\n",
       "      <td>1 hab.</td>\n",
       "      <td>1 baño</td>\n",
       "      <td>39 m²</td>\n",
       "      <td>5ª planta</td>\n",
       "      <td>6.410 €/m²</td>\n",
       "      <td>NaN</td>\n",
       "      <td>NaN</td>\n",
       "      <td>https://www.pisos.com/comprar/apartamento-centro_palacio28005-47597559176_109100/</td>\n",
       "      <td>2024-10-19</td>\n",
       "    </tr>\n",
       "    <tr>\n",
       "      <th>1</th>\n",
       "      <td>Apartamento en venta en Apóstol Santiago</td>\n",
       "      <td>Apóstol Santiago (Distrito Hortaleza. Madrid Capital)</td>\n",
       "      <td>madrid</td>\n",
       "      <td>420.000 €</td>\n",
       "      <td>2 habs.</td>\n",
       "      <td>1 baño</td>\n",
       "      <td>73 m²</td>\n",
       "      <td>NaN</td>\n",
       "      <td>5.753 €/m²</td>\n",
       "      <td>NaN</td>\n",
       "      <td>NaN</td>\n",
       "      <td>https://www.pisos.com/comprar/apartamento-apostol_santiago-41696859245_101800/</td>\n",
       "      <td>2024-10-19</td>\n",
       "    </tr>\n",
       "  </tbody>\n",
       "</table>\n",
       "</div>"
      ],
      "text/plain": [
       "                                                               title  \\\n",
       "0  Apartamento en venta en A Tan Solo Metros del Teatro de La Latina   \n",
       "1                           Apartamento en venta en Apóstol Santiago   \n",
       "\n",
       "                                                    zone municipality  \\\n",
       "0              Palacio (Distrito Centro. Madrid Capital)       madrid   \n",
       "1  Apóstol Santiago (Distrito Hortaleza. Madrid Capital)       madrid   \n",
       "\n",
       "       price bedrooms bathrooms   size      floor priceByArea tipology state  \\\n",
       "0  250.000 €   1 hab.    1 baño  39 m²  5ª planta  6.410 €/m²      NaN   NaN   \n",
       "1  420.000 €  2 habs.    1 baño  73 m²        NaN  5.753 €/m²      NaN   NaN   \n",
       "\n",
       "                                                                                 url  \\\n",
       "0  https://www.pisos.com/comprar/apartamento-centro_palacio28005-47597559176_109100/   \n",
       "1     https://www.pisos.com/comprar/apartamento-apostol_santiago-41696859245_101800/   \n",
       "\n",
       "  fecha_descarga  \n",
       "0     2024-10-19  \n",
       "1     2024-10-19  "
      ]
     },
     "execution_count": 645,
     "metadata": {},
     "output_type": "execute_result"
    }
   ],
   "source": [
    "df_pisos = df_pisos_10.merge(df_pisos_08, how='outer')\n",
    "df_pisos.head(2)"
   ]
  },
  {
   "cell_type": "code",
   "execution_count": 646,
   "metadata": {},
   "outputs": [
    {
     "data": {
      "text/html": [
       "<div>\n",
       "<style scoped>\n",
       "    .dataframe tbody tr th:only-of-type {\n",
       "        vertical-align: middle;\n",
       "    }\n",
       "\n",
       "    .dataframe tbody tr th {\n",
       "        vertical-align: top;\n",
       "    }\n",
       "\n",
       "    .dataframe thead th {\n",
       "        text-align: right;\n",
       "    }\n",
       "</style>\n",
       "<table border=\"1\" class=\"dataframe\">\n",
       "  <thead>\n",
       "    <tr style=\"text-align: right;\">\n",
       "      <th></th>\n",
       "      <th>title</th>\n",
       "      <th>zone</th>\n",
       "      <th>municipality</th>\n",
       "      <th>price</th>\n",
       "      <th>bedrooms</th>\n",
       "      <th>bathrooms</th>\n",
       "      <th>size</th>\n",
       "      <th>floor</th>\n",
       "      <th>priceByArea</th>\n",
       "      <th>tipology</th>\n",
       "      <th>state</th>\n",
       "      <th>url</th>\n",
       "      <th>fecha_descarga</th>\n",
       "    </tr>\n",
       "  </thead>\n",
       "  <tbody>\n",
       "    <tr>\n",
       "      <th>5947</th>\n",
       "      <td>Ático en venta en los Berrocales</td>\n",
       "      <td>Los Berrocales (Distrito Vicálvaro. Madrid Capital)</td>\n",
       "      <td>madrid</td>\n",
       "      <td>498.000 €</td>\n",
       "      <td>3 habs.</td>\n",
       "      <td>2 baños</td>\n",
       "      <td>157 m²</td>\n",
       "      <td>NaN</td>\n",
       "      <td>3.171 €/m²</td>\n",
       "      <td>NaN</td>\n",
       "      <td>A estrenar</td>\n",
       "      <td>https://www.pisos.com/comprar/atico-los_berrocales28031-4666816647_109700/</td>\n",
       "      <td>2024-08-19</td>\n",
       "    </tr>\n",
       "    <tr>\n",
       "      <th>5948</th>\n",
       "      <td>Ático en venta en los Berrocales</td>\n",
       "      <td>Los Berrocales (Distrito Vicálvaro. Madrid Capital)</td>\n",
       "      <td>madrid</td>\n",
       "      <td>498.000 €</td>\n",
       "      <td>3 habs.</td>\n",
       "      <td>2 baños</td>\n",
       "      <td>157 m²</td>\n",
       "      <td>NaN</td>\n",
       "      <td>3.171 €/m²</td>\n",
       "      <td>NaN</td>\n",
       "      <td>A estrenar</td>\n",
       "      <td>https://www.pisos.com/comprar/atico-los_berrocales28031-4666816647_109700/</td>\n",
       "      <td>2024-10-19</td>\n",
       "    </tr>\n",
       "  </tbody>\n",
       "</table>\n",
       "</div>"
      ],
      "text/plain": [
       "                                 title  \\\n",
       "5947  Ático en venta en los Berrocales   \n",
       "5948  Ático en venta en los Berrocales   \n",
       "\n",
       "                                                     zone municipality  \\\n",
       "5947  Los Berrocales (Distrito Vicálvaro. Madrid Capital)       madrid   \n",
       "5948  Los Berrocales (Distrito Vicálvaro. Madrid Capital)       madrid   \n",
       "\n",
       "          price bedrooms bathrooms    size floor priceByArea tipology  \\\n",
       "5947  498.000 €  3 habs.   2 baños  157 m²   NaN  3.171 €/m²      NaN   \n",
       "5948  498.000 €  3 habs.   2 baños  157 m²   NaN  3.171 €/m²      NaN   \n",
       "\n",
       "           state  \\\n",
       "5947  A estrenar   \n",
       "5948  A estrenar   \n",
       "\n",
       "                                                                             url  \\\n",
       "5947  https://www.pisos.com/comprar/atico-los_berrocales28031-4666816647_109700/   \n",
       "5948  https://www.pisos.com/comprar/atico-los_berrocales28031-4666816647_109700/   \n",
       "\n",
       "     fecha_descarga  \n",
       "5947     2024-08-19  \n",
       "5948     2024-10-19  "
      ]
     },
     "execution_count": 646,
     "metadata": {},
     "output_type": "execute_result"
    }
   ],
   "source": [
    "df_pisos.tail(2)"
   ]
  },
  {
   "cell_type": "code",
   "execution_count": 647,
   "metadata": {},
   "outputs": [
    {
     "data": {
      "text/plain": [
       "(5949, 13)"
      ]
     },
     "execution_count": 647,
     "metadata": {},
     "output_type": "execute_result"
    }
   ],
   "source": [
    "df_pisos.shape\n",
    "# (5949, 13)"
   ]
  },
  {
   "cell_type": "code",
   "execution_count": 648,
   "metadata": {},
   "outputs": [
    {
     "data": {
      "text/plain": [
       "Index(['title', 'zone', 'municipality', 'price', 'bedrooms', 'bathrooms',\n",
       "       'size', 'floor', 'priceByArea', 'tipology', 'state', 'url',\n",
       "       'fecha_descarga'],\n",
       "      dtype='object')"
      ]
     },
     "execution_count": 648,
     "metadata": {},
     "output_type": "execute_result"
    }
   ],
   "source": [
    "df_pisos.columns"
   ]
  },
  {
   "cell_type": "code",
   "execution_count": 649,
   "metadata": {},
   "outputs": [
    {
     "data": {
      "text/plain": [
       "municipality\n",
       "madrid    5949\n",
       "Name: count, dtype: int64"
      ]
     },
     "execution_count": 649,
     "metadata": {},
     "output_type": "execute_result"
    }
   ],
   "source": [
    "df_pisos['municipality'].value_counts()"
   ]
  },
  {
   "cell_type": "code",
   "execution_count": 650,
   "metadata": {},
   "outputs": [],
   "source": [
    "# Eliminar la columna 'municipality' ya que solo indica Madrid que es la ubicación de todo el estudio.\n",
    "df_pisos = df_pisos.drop(['municipality'], axis=1)"
   ]
  },
  {
   "cell_type": "code",
   "execution_count": 651,
   "metadata": {},
   "outputs": [
    {
     "data": {
      "text/plain": [
       "Index(['title', 'barrio', 'precio', 'num_hab', 'num_banos',\n",
       "       'metros_construidos', 'planta', 'precio_por_area', 'tipology', 'estado',\n",
       "       'url', 'fecha_descarga'],\n",
       "      dtype='object')"
      ]
     },
     "execution_count": 651,
     "metadata": {},
     "output_type": "execute_result"
    }
   ],
   "source": [
    "# Renombrar columnas\n",
    "df_pisos = df_pisos.rename(columns={'zone': 'barrio', 'price': 'precio', 'bedrooms': 'num_hab', 'bathrooms': 'num_banos', 'size': 'metros_construidos', 'priceByArea': 'precio_por_area',  'floor': 'planta', 'state': 'estado'})\n",
    "df_pisos.columns\n",
    "# ['title', 'barrio', 'precio', 'num_hab', 'num_banos', 'metros_construidos', 'planta', 'precio_por_area', 'tipologia', 'estado', 'url', 'fecha_descarga']"
   ]
  },
  {
   "cell_type": "code",
   "execution_count": 652,
   "metadata": {},
   "outputs": [],
   "source": [
    "df_pisos['tipologia'] = df_pisos['title'].str.split().str[0]"
   ]
  },
  {
   "cell_type": "code",
   "execution_count": 653,
   "metadata": {},
   "outputs": [
    {
     "data": {
      "text/plain": [
       "tipologia\n",
       "Piso           4867\n",
       "Ático           289\n",
       "Chalet          261\n",
       "Apartamento     152\n",
       "Dúplex          142\n",
       "Casa            114\n",
       "Estudio          97\n",
       "Loft             22\n",
       "Finca             5\n",
       "Name: count, dtype: int64"
      ]
     },
     "execution_count": 653,
     "metadata": {},
     "output_type": "execute_result"
    }
   ],
   "source": [
    "df_pisos[\"tipologia\"].value_counts(dropna=False)"
   ]
  },
  {
   "cell_type": "code",
   "execution_count": 654,
   "metadata": {},
   "outputs": [],
   "source": [
    "df_pisos=df_pisos.drop(columns='tipology')"
   ]
  },
  {
   "cell_type": "code",
   "execution_count": 655,
   "metadata": {},
   "outputs": [
    {
     "data": {
      "text/html": [
       "<div>\n",
       "<style scoped>\n",
       "    .dataframe tbody tr th:only-of-type {\n",
       "        vertical-align: middle;\n",
       "    }\n",
       "\n",
       "    .dataframe tbody tr th {\n",
       "        vertical-align: top;\n",
       "    }\n",
       "\n",
       "    .dataframe thead th {\n",
       "        text-align: right;\n",
       "    }\n",
       "</style>\n",
       "<table border=\"1\" class=\"dataframe\">\n",
       "  <thead>\n",
       "    <tr style=\"text-align: right;\">\n",
       "      <th></th>\n",
       "      <th>title</th>\n",
       "      <th>barrio</th>\n",
       "      <th>precio</th>\n",
       "      <th>num_hab</th>\n",
       "      <th>num_banos</th>\n",
       "      <th>metros_construidos</th>\n",
       "      <th>planta</th>\n",
       "      <th>precio_por_area</th>\n",
       "      <th>estado</th>\n",
       "      <th>url</th>\n",
       "      <th>fecha_descarga</th>\n",
       "      <th>tipologia</th>\n",
       "    </tr>\n",
       "  </thead>\n",
       "  <tbody>\n",
       "    <tr>\n",
       "      <th>0</th>\n",
       "      <td>Apartamento en venta en A Tan Solo Metros del Teatro de La Latina</td>\n",
       "      <td>Palacio (Distrito Centro. Madrid Capital)</td>\n",
       "      <td>250.000 €</td>\n",
       "      <td>1 hab.</td>\n",
       "      <td>1 baño</td>\n",
       "      <td>39 m²</td>\n",
       "      <td>5ª planta</td>\n",
       "      <td>6.410 €/m²</td>\n",
       "      <td>NaN</td>\n",
       "      <td>https://www.pisos.com/comprar/apartamento-centro_palacio28005-47597559176_109100/</td>\n",
       "      <td>2024-10-19</td>\n",
       "      <td>Apartamento</td>\n",
       "    </tr>\n",
       "  </tbody>\n",
       "</table>\n",
       "</div>"
      ],
      "text/plain": [
       "                                                               title  \\\n",
       "0  Apartamento en venta en A Tan Solo Metros del Teatro de La Latina   \n",
       "\n",
       "                                      barrio     precio num_hab num_banos  \\\n",
       "0  Palacio (Distrito Centro. Madrid Capital)  250.000 €  1 hab.    1 baño   \n",
       "\n",
       "  metros_construidos     planta precio_por_area estado  \\\n",
       "0              39 m²  5ª planta      6.410 €/m²    NaN   \n",
       "\n",
       "                                                                                 url  \\\n",
       "0  https://www.pisos.com/comprar/apartamento-centro_palacio28005-47597559176_109100/   \n",
       "\n",
       "  fecha_descarga    tipologia  \n",
       "0     2024-10-19  Apartamento  "
      ]
     },
     "execution_count": 655,
     "metadata": {},
     "output_type": "execute_result"
    }
   ],
   "source": [
    "df_pisos.head(1)"
   ]
  },
  {
   "cell_type": "code",
   "execution_count": 656,
   "metadata": {},
   "outputs": [
    {
     "data": {
      "text/plain": [
       "Index(['title', 'barrio', 'precio', 'num_hab', 'num_banos',\n",
       "       'metros_construidos', 'planta', 'precio_por_area', 'estado', 'url',\n",
       "       'fecha_descarga', 'tipologia', 'web'],\n",
       "      dtype='object')"
      ]
     },
     "execution_count": 656,
     "metadata": {},
     "output_type": "execute_result"
    }
   ],
   "source": [
    "df_pisos['web'] = 'pisos.com'\n",
    "df_pisos.columns"
   ]
  },
  {
   "cell_type": "code",
   "execution_count": 657,
   "metadata": {},
   "outputs": [
    {
     "data": {
      "text/html": [
       "<div>\n",
       "<style scoped>\n",
       "    .dataframe tbody tr th:only-of-type {\n",
       "        vertical-align: middle;\n",
       "    }\n",
       "\n",
       "    .dataframe tbody tr th {\n",
       "        vertical-align: top;\n",
       "    }\n",
       "\n",
       "    .dataframe thead th {\n",
       "        text-align: right;\n",
       "    }\n",
       "</style>\n",
       "<table border=\"1\" class=\"dataframe\">\n",
       "  <thead>\n",
       "    <tr style=\"text-align: right;\">\n",
       "      <th></th>\n",
       "      <th>title</th>\n",
       "      <th>barrio</th>\n",
       "      <th>precio</th>\n",
       "      <th>num_hab</th>\n",
       "      <th>num_banos</th>\n",
       "      <th>metros_construidos</th>\n",
       "      <th>planta</th>\n",
       "      <th>precio_por_area</th>\n",
       "      <th>estado</th>\n",
       "      <th>url</th>\n",
       "      <th>fecha_descarga</th>\n",
       "      <th>tipologia</th>\n",
       "      <th>web</th>\n",
       "    </tr>\n",
       "  </thead>\n",
       "  <tbody>\n",
       "    <tr>\n",
       "      <th>0</th>\n",
       "      <td>Apartamento en venta en A Tan Solo Metros del Teatro de La Latina</td>\n",
       "      <td>Palacio (Distrito Centro. Madrid Capital)</td>\n",
       "      <td>250.000 €</td>\n",
       "      <td>1 hab.</td>\n",
       "      <td>1 baño</td>\n",
       "      <td>39 m²</td>\n",
       "      <td>5ª planta</td>\n",
       "      <td>6.410 €/m²</td>\n",
       "      <td>NaN</td>\n",
       "      <td>https://www.pisos.com/comprar/apartamento-centro_palacio28005-47597559176_109100/</td>\n",
       "      <td>2024-10-19</td>\n",
       "      <td>Apartamento</td>\n",
       "      <td>pisos.com</td>\n",
       "    </tr>\n",
       "  </tbody>\n",
       "</table>\n",
       "</div>"
      ],
      "text/plain": [
       "                                                               title  \\\n",
       "0  Apartamento en venta en A Tan Solo Metros del Teatro de La Latina   \n",
       "\n",
       "                                      barrio     precio num_hab num_banos  \\\n",
       "0  Palacio (Distrito Centro. Madrid Capital)  250.000 €  1 hab.    1 baño   \n",
       "\n",
       "  metros_construidos     planta precio_por_area estado  \\\n",
       "0              39 m²  5ª planta      6.410 €/m²    NaN   \n",
       "\n",
       "                                                                                 url  \\\n",
       "0  https://www.pisos.com/comprar/apartamento-centro_palacio28005-47597559176_109100/   \n",
       "\n",
       "  fecha_descarga    tipologia        web  \n",
       "0     2024-10-19  Apartamento  pisos.com  "
      ]
     },
     "execution_count": 657,
     "metadata": {},
     "output_type": "execute_result"
    }
   ],
   "source": [
    "df_pisos.head(1)"
   ]
  },
  {
   "cell_type": "code",
   "execution_count": 658,
   "metadata": {},
   "outputs": [
    {
     "name": "stdout",
     "output_type": "stream",
     "text": [
      "<class 'pandas.core.frame.DataFrame'>\n",
      "RangeIndex: 5949 entries, 0 to 5948\n",
      "Data columns (total 13 columns):\n",
      " #   Column              Non-Null Count  Dtype         \n",
      "---  ------              --------------  -----         \n",
      " 0   title               5949 non-null   object        \n",
      " 1   barrio              5949 non-null   object        \n",
      " 2   precio              5949 non-null   object        \n",
      " 3   num_hab             5719 non-null   object        \n",
      " 4   num_banos           5609 non-null   object        \n",
      " 5   metros_construidos  5930 non-null   object        \n",
      " 6   planta              3368 non-null   object        \n",
      " 7   precio_por_area     5925 non-null   object        \n",
      " 8   estado              3642 non-null   object        \n",
      " 9   url                 5949 non-null   object        \n",
      " 10  fecha_descarga      5949 non-null   datetime64[ns]\n",
      " 11  tipologia           5949 non-null   object        \n",
      " 12  web                 5949 non-null   object        \n",
      "dtypes: datetime64[ns](1), object(12)\n",
      "memory usage: 604.3+ KB\n"
     ]
    }
   ],
   "source": [
    "df_pisos.info()"
   ]
  },
  {
   "cell_type": "code",
   "execution_count": 659,
   "metadata": {},
   "outputs": [
    {
     "data": {
      "text/plain": [
       "num_hab\n",
       "14 habs.       1\n",
       "17 habs.       2\n",
       "15 habs.       3\n",
       "12 habs.       5\n",
       "10 habs.       6\n",
       "11 habs.       8\n",
       "9 habs.       14\n",
       "8 habs.       29\n",
       "7 habs.       68\n",
       "6 habs.      128\n",
       "5 habs.      318\n",
       "1 hab.       647\n",
       "4 habs.      848\n",
       "2 habs.     1677\n",
       "3 habs.     1965\n",
       "Name: count, dtype: int64"
      ]
     },
     "execution_count": 659,
     "metadata": {},
     "output_type": "execute_result"
    }
   ],
   "source": [
    "hab_count = df_pisos['num_hab'].value_counts(ascending=True)\n",
    "hab_count"
   ]
  },
  {
   "cell_type": "code",
   "execution_count": 660,
   "metadata": {},
   "outputs": [
    {
     "data": {
      "text/plain": [
       "num_banos\n",
       "16 baños       1\n",
       "13 baños       2\n",
       "12 baños       3\n",
       "11 baños       5\n",
       "10 baños       7\n",
       "9 baños        7\n",
       "8 baños       14\n",
       "7 baños       39\n",
       "6 baños      103\n",
       "5 baños      252\n",
       "4 baños      458\n",
       "3 baños      918\n",
       "1 baño      1888\n",
       "2 baños     1912\n",
       "Name: count, dtype: int64"
      ]
     },
     "execution_count": 660,
     "metadata": {},
     "output_type": "execute_result"
    }
   ],
   "source": [
    "banos_count = df_pisos['num_banos'].value_counts(ascending=True)\n",
    "banos_count"
   ]
  },
  {
   "cell_type": "code",
   "execution_count": 661,
   "metadata": {},
   "outputs": [
    {
     "data": {
      "text/plain": [
       "planta\n",
       "20ª planta            1\n",
       "16ª planta            2\n",
       "14ª planta            3\n",
       "12ª planta            3\n",
       "Más de 20 planta      4\n",
       "15ª planta            4\n",
       "11ª planta            8\n",
       "13ª planta            9\n",
       "10ª planta           12\n",
       "9ª planta            37\n",
       "8ª planta            52\n",
       "7ª planta           114\n",
       "5ª planta           259\n",
       "6ª planta           260\n",
       "4ª planta           439\n",
       "3ª planta           599\n",
       "2ª planta           681\n",
       "1ª planta           881\n",
       "Name: count, dtype: int64"
      ]
     },
     "execution_count": 661,
     "metadata": {},
     "output_type": "execute_result"
    }
   ],
   "source": [
    "planta_count = df_pisos['planta'].value_counts(ascending=True)\n",
    "planta_count"
   ]
  },
  {
   "cell_type": "markdown",
   "metadata": {},
   "source": [
    "### DATOS NUMÉRICOS INT: TRANSFORMAR Y RELLENAR NULOS"
   ]
  },
  {
   "cell_type": "code",
   "execution_count": 662,
   "metadata": {},
   "outputs": [
    {
     "name": "stdout",
     "output_type": "stream",
     "text": [
      "<class 'pandas.core.frame.DataFrame'>\n",
      "RangeIndex: 5949 entries, 0 to 5948\n",
      "Data columns (total 13 columns):\n",
      " #   Column              Non-Null Count  Dtype         \n",
      "---  ------              --------------  -----         \n",
      " 0   title               5949 non-null   object        \n",
      " 1   barrio              5949 non-null   object        \n",
      " 2   precio              5949 non-null   object        \n",
      " 3   num_hab             5719 non-null   object        \n",
      " 4   num_banos           5609 non-null   object        \n",
      " 5   metros_construidos  5930 non-null   object        \n",
      " 6   planta              3368 non-null   object        \n",
      " 7   precio_por_area     5925 non-null   object        \n",
      " 8   estado              3642 non-null   object        \n",
      " 9   url                 5949 non-null   object        \n",
      " 10  fecha_descarga      5949 non-null   datetime64[ns]\n",
      " 11  tipologia           5949 non-null   object        \n",
      " 12  web                 5949 non-null   object        \n",
      "dtypes: datetime64[ns](1), object(12)\n",
      "memory usage: 604.3+ KB\n"
     ]
    }
   ],
   "source": [
    "df_pisos['num_hab'] = df_pisos['num_hab'].str.replace(' habs.', '', regex=True)\n",
    "df_pisos['num_hab'] = df_pisos['num_hab'].str.replace(' hab.', '', regex=True)\n",
    "# df_pisos['num_hab'] = df_pisos['num_hab'].fillna(-1)\n",
    "# df_pisos['num_hab'] = pd.to_numeric(df_pisos['num_hab'], errors='coerce').astype('int64')\n",
    "df_pisos['num_banos'] = df_pisos['num_banos'].str.replace('baños', '', regex=True)\n",
    "df_pisos['num_banos'] = df_pisos['num_banos'].str.replace('baño', '', regex=True)\n",
    "# df_pisos['num_banos'] = df_pisos['num_banos'].fillna(-1)\n",
    "# df_pisos['num_banos'] = pd.to_numeric(df_pisos['num_banos'], errors='coerce').astype('int64')\n",
    "df_pisos['planta'] = df_pisos['planta'].str.replace('planta', '', regex=True)\n",
    "df_pisos['planta'] = df_pisos['planta'].str.replace('ª', '', regex=True)\n",
    "# df_pisos['planta'] = df_pisos['planta'].fillna(-1)\n",
    "# df_pisos['planta'] = pd.to_numeric(df_pisos['planta'], errors='coerce').astype('int64')\n",
    "df_pisos.info()"
   ]
  },
  {
   "cell_type": "markdown",
   "metadata": {},
   "source": [
    "### DATOS CATEGÓRICOS: TRANSFORMAR Y RELLENAR NULOS"
   ]
  },
  {
   "cell_type": "code",
   "execution_count": 666,
   "metadata": {},
   "outputs": [
    {
     "name": "stdout",
     "output_type": "stream",
     "text": [
      "<class 'pandas.core.frame.DataFrame'>\n",
      "RangeIndex: 5949 entries, 0 to 5948\n",
      "Data columns (total 13 columns):\n",
      " #   Column              Non-Null Count  Dtype         \n",
      "---  ------              --------------  -----         \n",
      " 0   title               5949 non-null   object        \n",
      " 1   barrio              5949 non-null   object        \n",
      " 2   precio              5949 non-null   object        \n",
      " 3   num_hab             5719 non-null   object        \n",
      " 4   num_banos           5609 non-null   object        \n",
      " 5   metros_construidos  5930 non-null   object        \n",
      " 6   planta              3368 non-null   object        \n",
      " 7   precio_por_area     5925 non-null   object        \n",
      " 8   estado              3642 non-null   object        \n",
      " 9   url                 5949 non-null   object        \n",
      " 10  fecha_descarga      5949 non-null   datetime64[ns]\n",
      " 11  tipologia           5949 non-null   object        \n",
      " 12  web                 5949 non-null   object        \n",
      "dtypes: datetime64[ns](1), object(12)\n",
      "memory usage: 604.3+ KB\n"
     ]
    }
   ],
   "source": [
    "df_pisos.info()"
   ]
  },
  {
   "cell_type": "code",
   "execution_count": 667,
   "metadata": {},
   "outputs": [
    {
     "data": {
      "text/plain": [
       "tipologia\n",
       "Finca             5\n",
       "Loft             22\n",
       "Estudio          97\n",
       "Casa            114\n",
       "Dúplex          142\n",
       "Apartamento     152\n",
       "Chalet          261\n",
       "Ático           289\n",
       "Piso           4867\n",
       "Name: count, dtype: int64"
      ]
     },
     "execution_count": 667,
     "metadata": {},
     "output_type": "execute_result"
    }
   ],
   "source": [
    "tipologia_count = df_pisos['tipologia'].value_counts(ascending=True)\n",
    "tipologia_count"
   ]
  },
  {
   "cell_type": "code",
   "execution_count": 668,
   "metadata": {},
   "outputs": [
    {
     "data": {
      "text/plain": [
       "estado\n",
       "A reformar         431\n",
       "Reformado          533\n",
       "A estrenar         621\n",
       "En buen estado    2057\n",
       "Name: count, dtype: int64"
      ]
     },
     "execution_count": 668,
     "metadata": {},
     "output_type": "execute_result"
    }
   ],
   "source": [
    "estado_count = df_pisos['estado'].value_counts(ascending=True)\n",
    "estado_count"
   ]
  },
  {
   "cell_type": "code",
   "execution_count": 669,
   "metadata": {},
   "outputs": [
    {
     "data": {
      "text/plain": [
       "web\n",
       "pisos.com    5949\n",
       "Name: count, dtype: int64"
      ]
     },
     "execution_count": 669,
     "metadata": {},
     "output_type": "execute_result"
    }
   ],
   "source": [
    "origen_count = df_pisos['web'].value_counts(ascending=True)\n",
    "origen_count"
   ]
  },
  {
   "cell_type": "code",
   "execution_count": 670,
   "metadata": {},
   "outputs": [],
   "source": [
    "# df_pisos['tipologia'] = df_pisos['tipologia'].fillna('desconocido').astype('category')\n",
    "# df_pisos['estado'] = df_pisos['estado'].fillna('desconocido').astype('category')\n",
    "# df_pisos['ref_origen'] = df_pisos['ref_origen'].astype('category')\n",
    "# df_pisos.info()"
   ]
  },
  {
   "cell_type": "markdown",
   "metadata": {},
   "source": [
    "### DATOS NUMÉRICOS FLOAT: RELLENAR NULOS Y TRANSFORMAR"
   ]
  },
  {
   "cell_type": "code",
   "execution_count": 671,
   "metadata": {},
   "outputs": [
    {
     "data": {
      "text/html": [
       "<div>\n",
       "<style scoped>\n",
       "    .dataframe tbody tr th:only-of-type {\n",
       "        vertical-align: middle;\n",
       "    }\n",
       "\n",
       "    .dataframe tbody tr th {\n",
       "        vertical-align: top;\n",
       "    }\n",
       "\n",
       "    .dataframe thead th {\n",
       "        text-align: right;\n",
       "    }\n",
       "</style>\n",
       "<table border=\"1\" class=\"dataframe\">\n",
       "  <thead>\n",
       "    <tr style=\"text-align: right;\">\n",
       "      <th></th>\n",
       "      <th>title</th>\n",
       "      <th>barrio</th>\n",
       "      <th>precio</th>\n",
       "      <th>num_hab</th>\n",
       "      <th>num_banos</th>\n",
       "      <th>metros_construidos</th>\n",
       "      <th>planta</th>\n",
       "      <th>precio_por_area</th>\n",
       "      <th>estado</th>\n",
       "      <th>url</th>\n",
       "      <th>fecha_descarga</th>\n",
       "      <th>tipologia</th>\n",
       "      <th>web</th>\n",
       "    </tr>\n",
       "  </thead>\n",
       "  <tbody>\n",
       "  </tbody>\n",
       "</table>\n",
       "</div>"
      ],
      "text/plain": [
       "Empty DataFrame\n",
       "Columns: [title, barrio, precio, num_hab, num_banos, metros_construidos, planta, precio_por_area, estado, url, fecha_descarga, tipologia, web]\n",
       "Index: []"
      ]
     },
     "execution_count": 671,
     "metadata": {},
     "output_type": "execute_result"
    }
   ],
   "source": [
    "precio_decimales = df_pisos[df_pisos['precio'].str.contains(',', na=False)]\n",
    "precio_decimales\n",
    "# Se ha comprobado que ningún 'precio' contiene decimales."
   ]
  },
  {
   "cell_type": "code",
   "execution_count": 672,
   "metadata": {},
   "outputs": [
    {
     "data": {
      "text/html": [
       "<div>\n",
       "<style scoped>\n",
       "    .dataframe tbody tr th:only-of-type {\n",
       "        vertical-align: middle;\n",
       "    }\n",
       "\n",
       "    .dataframe tbody tr th {\n",
       "        vertical-align: top;\n",
       "    }\n",
       "\n",
       "    .dataframe thead th {\n",
       "        text-align: right;\n",
       "    }\n",
       "</style>\n",
       "<table border=\"1\" class=\"dataframe\">\n",
       "  <thead>\n",
       "    <tr style=\"text-align: right;\">\n",
       "      <th></th>\n",
       "      <th>title</th>\n",
       "      <th>barrio</th>\n",
       "      <th>precio</th>\n",
       "      <th>num_hab</th>\n",
       "      <th>num_banos</th>\n",
       "      <th>metros_construidos</th>\n",
       "      <th>planta</th>\n",
       "      <th>precio_por_area</th>\n",
       "      <th>estado</th>\n",
       "      <th>url</th>\n",
       "      <th>fecha_descarga</th>\n",
       "      <th>tipologia</th>\n",
       "      <th>web</th>\n",
       "    </tr>\n",
       "  </thead>\n",
       "  <tbody>\n",
       "  </tbody>\n",
       "</table>\n",
       "</div>"
      ],
      "text/plain": [
       "Empty DataFrame\n",
       "Columns: [title, barrio, precio, num_hab, num_banos, metros_construidos, planta, precio_por_area, estado, url, fecha_descarga, tipologia, web]\n",
       "Index: []"
      ]
     },
     "execution_count": 672,
     "metadata": {},
     "output_type": "execute_result"
    }
   ],
   "source": [
    "metros_decimales = df_pisos[df_pisos['metros_construidos'].str.contains(',', na=False)]\n",
    "metros_decimales\n",
    "# Se ha comprobado que ningún 'metros_construidos' contiene decimales."
   ]
  },
  {
   "cell_type": "code",
   "execution_count": 673,
   "metadata": {},
   "outputs": [
    {
     "data": {
      "text/html": [
       "<div>\n",
       "<style scoped>\n",
       "    .dataframe tbody tr th:only-of-type {\n",
       "        vertical-align: middle;\n",
       "    }\n",
       "\n",
       "    .dataframe tbody tr th {\n",
       "        vertical-align: top;\n",
       "    }\n",
       "\n",
       "    .dataframe thead th {\n",
       "        text-align: right;\n",
       "    }\n",
       "</style>\n",
       "<table border=\"1\" class=\"dataframe\">\n",
       "  <thead>\n",
       "    <tr style=\"text-align: right;\">\n",
       "      <th></th>\n",
       "      <th>title</th>\n",
       "      <th>barrio</th>\n",
       "      <th>precio</th>\n",
       "      <th>num_hab</th>\n",
       "      <th>num_banos</th>\n",
       "      <th>metros_construidos</th>\n",
       "      <th>planta</th>\n",
       "      <th>precio_por_area</th>\n",
       "      <th>estado</th>\n",
       "      <th>url</th>\n",
       "      <th>fecha_descarga</th>\n",
       "      <th>tipologia</th>\n",
       "      <th>web</th>\n",
       "    </tr>\n",
       "  </thead>\n",
       "  <tbody>\n",
       "  </tbody>\n",
       "</table>\n",
       "</div>"
      ],
      "text/plain": [
       "Empty DataFrame\n",
       "Columns: [title, barrio, precio, num_hab, num_banos, metros_construidos, planta, precio_por_area, estado, url, fecha_descarga, tipologia, web]\n",
       "Index: []"
      ]
     },
     "execution_count": 673,
     "metadata": {},
     "output_type": "execute_result"
    }
   ],
   "source": [
    "area_decimales = df_pisos[df_pisos['precio_por_area'].str.contains(',', na=False)]\n",
    "area_decimales\n",
    "# Se ha comprobado que ningún 'precio_por_area' contiene decimales."
   ]
  },
  {
   "cell_type": "code",
   "execution_count": 674,
   "metadata": {},
   "outputs": [
    {
     "data": {
      "text/plain": [
       "count      5930\n",
       "unique      474\n",
       "top       70 m²\n",
       "freq        100\n",
       "Name: metros_construidos, dtype: object"
      ]
     },
     "execution_count": 674,
     "metadata": {},
     "output_type": "execute_result"
    }
   ],
   "source": [
    "#compruebo los valores de metros construidos\n",
    "df_pisos['metros_construidos'].describe()"
   ]
  },
  {
   "cell_type": "code",
   "execution_count": 675,
   "metadata": {},
   "outputs": [
    {
     "data": {
      "text/plain": [
       "metros_construidos\n",
       "70 m²     100\n",
       "90 m²      80\n",
       "80 m²      79\n",
       "60 m²      77\n",
       "110 m²     75\n",
       "         ... \n",
       "577 m²      1\n",
       "781 m²      1\n",
       "428 m²      1\n",
       "699 m²      1\n",
       "561 m²      1\n",
       "Name: count, Length: 475, dtype: int64"
      ]
     },
     "execution_count": 675,
     "metadata": {},
     "output_type": "execute_result"
    }
   ],
   "source": [
    "df_pisos['metros_construidos'].value_counts(dropna=False)"
   ]
  },
  {
   "cell_type": "code",
   "execution_count": 676,
   "metadata": {},
   "outputs": [
    {
     "data": {
      "text/html": [
       "<div>\n",
       "<style scoped>\n",
       "    .dataframe tbody tr th:only-of-type {\n",
       "        vertical-align: middle;\n",
       "    }\n",
       "\n",
       "    .dataframe tbody tr th {\n",
       "        vertical-align: top;\n",
       "    }\n",
       "\n",
       "    .dataframe thead th {\n",
       "        text-align: right;\n",
       "    }\n",
       "</style>\n",
       "<table border=\"1\" class=\"dataframe\">\n",
       "  <thead>\n",
       "    <tr style=\"text-align: right;\">\n",
       "      <th></th>\n",
       "      <th>title</th>\n",
       "      <th>barrio</th>\n",
       "      <th>precio</th>\n",
       "      <th>num_hab</th>\n",
       "      <th>num_banos</th>\n",
       "      <th>metros_construidos</th>\n",
       "      <th>planta</th>\n",
       "      <th>precio_por_area</th>\n",
       "      <th>estado</th>\n",
       "      <th>url</th>\n",
       "      <th>fecha_descarga</th>\n",
       "      <th>tipologia</th>\n",
       "      <th>web</th>\n",
       "    </tr>\n",
       "  </thead>\n",
       "  <tbody>\n",
       "    <tr>\n",
       "      <th>0</th>\n",
       "      <td>Apartamento en venta en A Tan Solo Metros del Teatro de La Latina</td>\n",
       "      <td>Palacio (Distrito Centro. Madrid Capital)</td>\n",
       "      <td>250.000 €</td>\n",
       "      <td>1</td>\n",
       "      <td>1</td>\n",
       "      <td>39 m²</td>\n",
       "      <td>5</td>\n",
       "      <td>6.410 €/m²</td>\n",
       "      <td>NaN</td>\n",
       "      <td>https://www.pisos.com/comprar/apartamento-centro_palacio28005-47597559176_109100/</td>\n",
       "      <td>2024-10-19</td>\n",
       "      <td>Apartamento</td>\n",
       "      <td>pisos.com</td>\n",
       "    </tr>\n",
       "  </tbody>\n",
       "</table>\n",
       "</div>"
      ],
      "text/plain": [
       "                                                               title  \\\n",
       "0  Apartamento en venta en A Tan Solo Metros del Teatro de La Latina   \n",
       "\n",
       "                                      barrio     precio num_hab num_banos  \\\n",
       "0  Palacio (Distrito Centro. Madrid Capital)  250.000 €       1        1    \n",
       "\n",
       "  metros_construidos planta precio_por_area estado  \\\n",
       "0              39 m²     5       6.410 €/m²    NaN   \n",
       "\n",
       "                                                                                 url  \\\n",
       "0  https://www.pisos.com/comprar/apartamento-centro_palacio28005-47597559176_109100/   \n",
       "\n",
       "  fecha_descarga    tipologia        web  \n",
       "0     2024-10-19  Apartamento  pisos.com  "
      ]
     },
     "execution_count": 676,
     "metadata": {},
     "output_type": "execute_result"
    }
   ],
   "source": [
    "df_pisos.query(\"url=='https://www.pisos.com/comprar/apartamento-centro_palacio28005-47597559176_109100/'\")"
   ]
  },
  {
   "cell_type": "code",
   "execution_count": 677,
   "metadata": {},
   "outputs": [
    {
     "data": {
      "text/html": [
       "<div>\n",
       "<style scoped>\n",
       "    .dataframe tbody tr th:only-of-type {\n",
       "        vertical-align: middle;\n",
       "    }\n",
       "\n",
       "    .dataframe tbody tr th {\n",
       "        vertical-align: top;\n",
       "    }\n",
       "\n",
       "    .dataframe thead th {\n",
       "        text-align: right;\n",
       "    }\n",
       "</style>\n",
       "<table border=\"1\" class=\"dataframe\">\n",
       "  <thead>\n",
       "    <tr style=\"text-align: right;\">\n",
       "      <th></th>\n",
       "      <th>title</th>\n",
       "      <th>barrio</th>\n",
       "      <th>precio</th>\n",
       "      <th>num_hab</th>\n",
       "      <th>num_banos</th>\n",
       "      <th>metros_construidos</th>\n",
       "      <th>planta</th>\n",
       "      <th>precio_por_area</th>\n",
       "      <th>estado</th>\n",
       "      <th>url</th>\n",
       "      <th>fecha_descarga</th>\n",
       "      <th>tipologia</th>\n",
       "      <th>web</th>\n",
       "    </tr>\n",
       "  </thead>\n",
       "  <tbody>\n",
       "    <tr>\n",
       "      <th>0</th>\n",
       "      <td>Apartamento en venta en A Tan Solo Metros del Teatro de La Latina</td>\n",
       "      <td>Palacio (Distrito Centro. Madrid Capital)</td>\n",
       "      <td>250000</td>\n",
       "      <td>1</td>\n",
       "      <td>1</td>\n",
       "      <td>39</td>\n",
       "      <td>5</td>\n",
       "      <td>6410</td>\n",
       "      <td>NaN</td>\n",
       "      <td>https://www.pisos.com/comprar/apartamento-centro_palacio28005-47597559176_109100/</td>\n",
       "      <td>2024-10-19</td>\n",
       "      <td>Apartamento</td>\n",
       "      <td>pisos.com</td>\n",
       "    </tr>\n",
       "  </tbody>\n",
       "</table>\n",
       "</div>"
      ],
      "text/plain": [
       "                                                               title  \\\n",
       "0  Apartamento en venta en A Tan Solo Metros del Teatro de La Latina   \n",
       "\n",
       "                                      barrio  precio num_hab num_banos  \\\n",
       "0  Palacio (Distrito Centro. Madrid Capital)  250000       1        1    \n",
       "\n",
       "  metros_construidos planta precio_por_area estado  \\\n",
       "0                 39     5             6410    NaN   \n",
       "\n",
       "                                                                                 url  \\\n",
       "0  https://www.pisos.com/comprar/apartamento-centro_palacio28005-47597559176_109100/   \n",
       "\n",
       "  fecha_descarga    tipologia        web  \n",
       "0     2024-10-19  Apartamento  pisos.com  "
      ]
     },
     "execution_count": 677,
     "metadata": {},
     "output_type": "execute_result"
    }
   ],
   "source": [
    "df_pisos['precio'] = df_pisos['precio'].str.replace(r'\\D', '', regex=True)\n",
    "df_pisos['metros_construidos'] = df_pisos['metros_construidos'].str.replace(r'\\D', '', regex=True)\n",
    "\n",
    "df_pisos['precio_por_area'] = df_pisos['precio_por_area'].str.replace(r'\\D', '', regex=True)\n",
    "df_pisos.head(1)"
   ]
  },
  {
   "cell_type": "code",
   "execution_count": 678,
   "metadata": {},
   "outputs": [
    {
     "name": "stdout",
     "output_type": "stream",
     "text": [
      "<class 'pandas.core.frame.DataFrame'>\n",
      "RangeIndex: 5949 entries, 0 to 5948\n",
      "Data columns (total 13 columns):\n",
      " #   Column              Non-Null Count  Dtype         \n",
      "---  ------              --------------  -----         \n",
      " 0   title               5949 non-null   object        \n",
      " 1   barrio              5949 non-null   object        \n",
      " 2   precio              5949 non-null   object        \n",
      " 3   num_hab             5719 non-null   object        \n",
      " 4   num_banos           5609 non-null   object        \n",
      " 5   metros_construidos  5930 non-null   object        \n",
      " 6   planta              3368 non-null   object        \n",
      " 7   precio_por_area     5925 non-null   object        \n",
      " 8   estado              3642 non-null   object        \n",
      " 9   url                 5949 non-null   object        \n",
      " 10  fecha_descarga      5949 non-null   datetime64[ns]\n",
      " 11  tipologia           5949 non-null   object        \n",
      " 12  web                 5949 non-null   object        \n",
      "dtypes: datetime64[ns](1), object(12)\n",
      "memory usage: 604.3+ KB\n"
     ]
    }
   ],
   "source": [
    "df_pisos.info()"
   ]
  },
  {
   "cell_type": "code",
   "execution_count": 679,
   "metadata": {},
   "outputs": [],
   "source": [
    "# df_pisos['precio'] = pd.to_numeric(df_pisos['precio'], errors='coerce')\n",
    "# df_pisos['precio'] = df_pisos['precio'].astype('float64').fillna(-1)\n",
    "# df_pisos['metros_construidos'] = pd.to_numeric(df_pisos['metros_construidos'], errors='coerce')\n",
    "# df_pisos['metros_construidos'] = df_pisos['metros_construidos'].astype('float64').fillna(-1)\n",
    "# df_pisos['precio_por_area'] = pd.to_numeric(df_pisos['precio_por_area'], errors='coerce')\n",
    "# df_pisos['precio_por_area'] = df_pisos['precio_por_area'].astype('float64').fillna(-1)\n",
    "# df_pisos.info()"
   ]
  },
  {
   "cell_type": "markdown",
   "metadata": {},
   "source": [
    "### BARRIOS Y DISTRITOS"
   ]
  },
  {
   "cell_type": "code",
   "execution_count": 680,
   "metadata": {},
   "outputs": [
    {
     "data": {
      "text/html": [
       "<div>\n",
       "<style scoped>\n",
       "    .dataframe tbody tr th:only-of-type {\n",
       "        vertical-align: middle;\n",
       "    }\n",
       "\n",
       "    .dataframe tbody tr th {\n",
       "        vertical-align: top;\n",
       "    }\n",
       "\n",
       "    .dataframe thead th {\n",
       "        text-align: right;\n",
       "    }\n",
       "</style>\n",
       "<table border=\"1\" class=\"dataframe\">\n",
       "  <thead>\n",
       "    <tr style=\"text-align: right;\">\n",
       "      <th></th>\n",
       "      <th>title</th>\n",
       "      <th>barrio</th>\n",
       "      <th>precio</th>\n",
       "      <th>num_hab</th>\n",
       "      <th>num_banos</th>\n",
       "      <th>metros_construidos</th>\n",
       "      <th>planta</th>\n",
       "      <th>precio_por_area</th>\n",
       "      <th>estado</th>\n",
       "      <th>url</th>\n",
       "      <th>fecha_descarga</th>\n",
       "      <th>tipologia</th>\n",
       "      <th>web</th>\n",
       "    </tr>\n",
       "  </thead>\n",
       "  <tbody>\n",
       "    <tr>\n",
       "      <th>0</th>\n",
       "      <td>Apartamento en venta en A Tan Solo Metros del Teatro de La Latina</td>\n",
       "      <td>Palacio (Distrito Centro. Madrid Capital)</td>\n",
       "      <td>250000</td>\n",
       "      <td>1</td>\n",
       "      <td>1</td>\n",
       "      <td>39</td>\n",
       "      <td>5</td>\n",
       "      <td>6410</td>\n",
       "      <td>NaN</td>\n",
       "      <td>https://www.pisos.com/comprar/apartamento-centro_palacio28005-47597559176_109100/</td>\n",
       "      <td>2024-10-19</td>\n",
       "      <td>Apartamento</td>\n",
       "      <td>pisos.com</td>\n",
       "    </tr>\n",
       "    <tr>\n",
       "      <th>1</th>\n",
       "      <td>Apartamento en venta en Apóstol Santiago</td>\n",
       "      <td>Apóstol Santiago (Distrito Hortaleza. Madrid Capital)</td>\n",
       "      <td>420000</td>\n",
       "      <td>2</td>\n",
       "      <td>1</td>\n",
       "      <td>73</td>\n",
       "      <td>NaN</td>\n",
       "      <td>5753</td>\n",
       "      <td>NaN</td>\n",
       "      <td>https://www.pisos.com/comprar/apartamento-apostol_santiago-41696859245_101800/</td>\n",
       "      <td>2024-10-19</td>\n",
       "      <td>Apartamento</td>\n",
       "      <td>pisos.com</td>\n",
       "    </tr>\n",
       "  </tbody>\n",
       "</table>\n",
       "</div>"
      ],
      "text/plain": [
       "                                                               title  \\\n",
       "0  Apartamento en venta en A Tan Solo Metros del Teatro de La Latina   \n",
       "1                           Apartamento en venta en Apóstol Santiago   \n",
       "\n",
       "                                                  barrio  precio num_hab  \\\n",
       "0              Palacio (Distrito Centro. Madrid Capital)  250000       1   \n",
       "1  Apóstol Santiago (Distrito Hortaleza. Madrid Capital)  420000       2   \n",
       "\n",
       "  num_banos metros_construidos planta precio_por_area estado  \\\n",
       "0        1                  39     5             6410    NaN   \n",
       "1        1                  73    NaN            5753    NaN   \n",
       "\n",
       "                                                                                 url  \\\n",
       "0  https://www.pisos.com/comprar/apartamento-centro_palacio28005-47597559176_109100/   \n",
       "1     https://www.pisos.com/comprar/apartamento-apostol_santiago-41696859245_101800/   \n",
       "\n",
       "  fecha_descarga    tipologia        web  \n",
       "0     2024-10-19  Apartamento  pisos.com  \n",
       "1     2024-10-19  Apartamento  pisos.com  "
      ]
     },
     "execution_count": 680,
     "metadata": {},
     "output_type": "execute_result"
    }
   ],
   "source": [
    "df_pisos.head(2)"
   ]
  },
  {
   "cell_type": "code",
   "execution_count": 681,
   "metadata": {},
   "outputs": [
    {
     "data": {
      "text/html": [
       "<div>\n",
       "<style scoped>\n",
       "    .dataframe tbody tr th:only-of-type {\n",
       "        vertical-align: middle;\n",
       "    }\n",
       "\n",
       "    .dataframe tbody tr th {\n",
       "        vertical-align: top;\n",
       "    }\n",
       "\n",
       "    .dataframe thead th {\n",
       "        text-align: right;\n",
       "    }\n",
       "</style>\n",
       "<table border=\"1\" class=\"dataframe\">\n",
       "  <thead>\n",
       "    <tr style=\"text-align: right;\">\n",
       "      <th></th>\n",
       "      <th>title</th>\n",
       "      <th>ubicacion</th>\n",
       "      <th>precio</th>\n",
       "      <th>num_hab</th>\n",
       "      <th>num_banos</th>\n",
       "      <th>metros_construidos</th>\n",
       "      <th>planta</th>\n",
       "      <th>precio_por_area</th>\n",
       "      <th>estado</th>\n",
       "      <th>url</th>\n",
       "      <th>fecha_descarga</th>\n",
       "      <th>tipologia</th>\n",
       "      <th>web</th>\n",
       "    </tr>\n",
       "  </thead>\n",
       "  <tbody>\n",
       "    <tr>\n",
       "      <th>0</th>\n",
       "      <td>Apartamento en venta en A Tan Solo Metros del Teatro de La Latina</td>\n",
       "      <td>Palacio (Distrito Centro. Madrid Capital)</td>\n",
       "      <td>250000</td>\n",
       "      <td>1</td>\n",
       "      <td>1</td>\n",
       "      <td>39</td>\n",
       "      <td>5</td>\n",
       "      <td>6410</td>\n",
       "      <td>NaN</td>\n",
       "      <td>https://www.pisos.com/comprar/apartamento-centro_palacio28005-47597559176_109100/</td>\n",
       "      <td>2024-10-19</td>\n",
       "      <td>Apartamento</td>\n",
       "      <td>pisos.com</td>\n",
       "    </tr>\n",
       "    <tr>\n",
       "      <th>1</th>\n",
       "      <td>Apartamento en venta en Apóstol Santiago</td>\n",
       "      <td>Apóstol Santiago (Distrito Hortaleza. Madrid Capital)</td>\n",
       "      <td>420000</td>\n",
       "      <td>2</td>\n",
       "      <td>1</td>\n",
       "      <td>73</td>\n",
       "      <td>NaN</td>\n",
       "      <td>5753</td>\n",
       "      <td>NaN</td>\n",
       "      <td>https://www.pisos.com/comprar/apartamento-apostol_santiago-41696859245_101800/</td>\n",
       "      <td>2024-10-19</td>\n",
       "      <td>Apartamento</td>\n",
       "      <td>pisos.com</td>\n",
       "    </tr>\n",
       "  </tbody>\n",
       "</table>\n",
       "</div>"
      ],
      "text/plain": [
       "                                                               title  \\\n",
       "0  Apartamento en venta en A Tan Solo Metros del Teatro de La Latina   \n",
       "1                           Apartamento en venta en Apóstol Santiago   \n",
       "\n",
       "                                               ubicacion  precio num_hab  \\\n",
       "0              Palacio (Distrito Centro. Madrid Capital)  250000       1   \n",
       "1  Apóstol Santiago (Distrito Hortaleza. Madrid Capital)  420000       2   \n",
       "\n",
       "  num_banos metros_construidos planta precio_por_area estado  \\\n",
       "0        1                  39     5             6410    NaN   \n",
       "1        1                  73    NaN            5753    NaN   \n",
       "\n",
       "                                                                                 url  \\\n",
       "0  https://www.pisos.com/comprar/apartamento-centro_palacio28005-47597559176_109100/   \n",
       "1     https://www.pisos.com/comprar/apartamento-apostol_santiago-41696859245_101800/   \n",
       "\n",
       "  fecha_descarga    tipologia        web  \n",
       "0     2024-10-19  Apartamento  pisos.com  \n",
       "1     2024-10-19  Apartamento  pisos.com  "
      ]
     },
     "execution_count": 681,
     "metadata": {},
     "output_type": "execute_result"
    }
   ],
   "source": [
    "df_pisos = df_pisos.rename(columns={'barrio': 'ubicacion'})\n",
    "df_pisos.head(2)"
   ]
  },
  {
   "cell_type": "code",
   "execution_count": 682,
   "metadata": {},
   "outputs": [],
   "source": [
    "df_pisos = df_pisos.reset_index(drop=True)"
   ]
  },
  {
   "cell_type": "code",
   "execution_count": 683,
   "metadata": {},
   "outputs": [],
   "source": [
    "#df_barrios = pd.read_csv('./distritos-y-barrios-limpio.csv')\n"
   ]
  },
  {
   "cell_type": "code",
   "execution_count": 684,
   "metadata": {},
   "outputs": [],
   "source": [
    "df_barrios= pd.read_excel('../02-datos-limpios/distr_barrios_codpostal.xlsx')"
   ]
  },
  {
   "cell_type": "code",
   "execution_count": 685,
   "metadata": {},
   "outputs": [
    {
     "data": {
      "text/html": [
       "<div>\n",
       "<style scoped>\n",
       "    .dataframe tbody tr th:only-of-type {\n",
       "        vertical-align: middle;\n",
       "    }\n",
       "\n",
       "    .dataframe tbody tr th {\n",
       "        vertical-align: top;\n",
       "    }\n",
       "\n",
       "    .dataframe thead th {\n",
       "        text-align: right;\n",
       "    }\n",
       "</style>\n",
       "<table border=\"1\" class=\"dataframe\">\n",
       "  <thead>\n",
       "    <tr style=\"text-align: right;\">\n",
       "      <th></th>\n",
       "      <th>cod_distrito</th>\n",
       "      <th>distrito</th>\n",
       "      <th>cod_barrio</th>\n",
       "      <th>cod_barrio_2</th>\n",
       "      <th>barrio</th>\n",
       "      <th>codigo_Postal</th>\n",
       "    </tr>\n",
       "  </thead>\n",
       "  <tbody>\n",
       "    <tr>\n",
       "      <th>0</th>\n",
       "      <td>1</td>\n",
       "      <td>Centro</td>\n",
       "      <td>11</td>\n",
       "      <td>1</td>\n",
       "      <td>Palacio</td>\n",
       "      <td>28013</td>\n",
       "    </tr>\n",
       "    <tr>\n",
       "      <th>1</th>\n",
       "      <td>1</td>\n",
       "      <td>Centro</td>\n",
       "      <td>12</td>\n",
       "      <td>2</td>\n",
       "      <td>Embajadores</td>\n",
       "      <td>28012</td>\n",
       "    </tr>\n",
       "  </tbody>\n",
       "</table>\n",
       "</div>"
      ],
      "text/plain": [
       "   cod_distrito distrito  cod_barrio  cod_barrio_2       barrio  codigo_Postal\n",
       "0             1   Centro          11             1      Palacio          28013\n",
       "1             1   Centro          12             2  Embajadores          28012"
      ]
     },
     "execution_count": 685,
     "metadata": {},
     "output_type": "execute_result"
    }
   ],
   "source": [
    "#df_barrios = pd.read_csv('/Users/AleVC/Library/CloudStorage/GoogleDrive-ale.vaquero.c@gmail.com/My Drive/Nuclio/Máster en Data Science/TFM/Datos-adicionales/Datos-limpios/distritos-y-barrios-limpio.csv')\n",
    "df_barrios.head(2)"
   ]
  },
  {
   "cell_type": "code",
   "execution_count": 686,
   "metadata": {},
   "outputs": [
    {
     "data": {
      "text/plain": [
       "array(['Centro', 'Arganzuela', 'Retiro', 'Salamanca', 'Chamartín',\n",
       "       'Tetuán', 'Chamberí', 'Fuencarral-El Pardo', 'Moncloa-Aravaca',\n",
       "       'Latina', 'Carabanchel', 'Usera', 'Puente de Vallecas',\n",
       "       'Moratalaz', 'Ciudad Lineal', 'Hortaleza', 'Villaverde',\n",
       "       ' Villa de Vallecas', ' Vicálvaro', ' San Blas-Canillejas',\n",
       "       ' Barajas'], dtype=object)"
      ]
     },
     "execution_count": 686,
     "metadata": {},
     "output_type": "execute_result"
    }
   ],
   "source": [
    "distritos_unicos = df_barrios['distrito'].unique()\n",
    "distritos_unicos"
   ]
  },
  {
   "cell_type": "code",
   "execution_count": 687,
   "metadata": {},
   "outputs": [
    {
     "data": {
      "text/plain": [
       "array(['Palacio', 'Embajadores', 'Cortes', 'Justicia', 'Universidad',\n",
       "       'Sol', 'Imperial', 'Acacias', 'Chopera', 'Legazpi', 'Delicias',\n",
       "       'Palos de Moguer', 'Atocha', 'Pacífico', 'Adelfas', 'Estrella',\n",
       "       'Ibiza', 'Jerónimos', 'Niño Jesus', 'Recoletos', 'Goya',\n",
       "       'Fuente del Berro', 'Guindalera', 'Lista', 'Castellana', 'El Viso',\n",
       "       'Prosperidad', 'Ciudad Jardín', 'Hispanoamérica', 'Nueva España',\n",
       "       'Castilla', 'Bellas Vistas', 'Cuatro Caminos', 'Castillejos',\n",
       "       'Almenara', 'Valdeacederas', 'Berruguete', 'Gaztambide',\n",
       "       'Arapiles', 'Trafalgar', 'Almagro', 'Ríos Rosas', 'Vallehermoso',\n",
       "       'El Pardo', 'Fuentelarreina', 'Peñagrande', 'Pilar', 'La Paz',\n",
       "       'Valverde', 'Mirasierra', 'El Goloso', 'Casa de Campo',\n",
       "       'Argüelles', 'Ciudad Universitaria', 'Valdezarza', 'Valdemarín',\n",
       "       'El Plantío', 'Aravaca', 'Los Cármenes', 'Puerta del Ángel',\n",
       "       'Lucero', 'Aluche', 'Campamento', 'Cuatro Vientos', 'Las Águilas',\n",
       "       'Comillas', 'Opañel', 'San Isidro', 'Vista Alegre',\n",
       "       'Puerta Bonita', 'Buenavista', 'Abrantes', 'Orcasitas', 'Orcasur',\n",
       "       'San Fermín', 'Almendrales', 'Moscardó', 'Zofío', 'Pradolongo',\n",
       "       'Entrevías', 'San Diego', 'Palomeras Bajas', 'Palomeras Sureste',\n",
       "       'Portazgo', 'Numancia', 'Pavones', 'Horcajo', 'Marroquina',\n",
       "       'Media Legua', 'Fontarrón', 'Vinateros', 'Ventas', 'Pueblo Nuevo',\n",
       "       'Quintana', 'Concepción', 'San Pascual', 'San Juan Bautista',\n",
       "       'Colina', 'Atalaya', 'Costillares', 'Palomas', 'Valdefuentes',\n",
       "       'Canillas', 'Pinar del Rey', 'Apostol Santiago', 'Piovera',\n",
       "       'Valdebebas-Valdefuentes', 'Villaverde Alto', 'San Cristóbal',\n",
       "       'Butarque', 'Los Ángeles', 'Los Rosales',\n",
       "       'Casco Histórico de Vallecas', 'Santa Eugenia',\n",
       "       'Ensanche de Vallecas', 'Casco Histórico de Vicálvaro',\n",
       "       'Valdebernardo', 'Valderrivas', 'El Cañaveral', 'Simancas',\n",
       "       'Hellín', 'Amposta', 'Arcos', 'Rosas', 'Rejas', 'Canillejas',\n",
       "       'Salvador', 'Alameda de Osuna', 'Aeropuerto',\n",
       "       'Casco Histórico de Barajas', 'Timón', 'Corralejos'], dtype=object)"
      ]
     },
     "execution_count": 687,
     "metadata": {},
     "output_type": "execute_result"
    }
   ],
   "source": [
    "barrios_unicos = df_barrios['barrio'].unique()\n",
    "barrios_unicos"
   ]
  },
  {
   "cell_type": "code",
   "execution_count": 688,
   "metadata": {},
   "outputs": [],
   "source": [
    "def normalize_string(s):\n",
    "    if pd.notna(s):\n",
    "        s = unicodedata.normalize('NFD', s)  # Descomponer los caracteres con acento\n",
    "        s = ''.join([c for c in s if not unicodedata.combining(c)])  # Eliminar los caracteres de acento\n",
    "        s = s.lower().strip().replace(\" \", \"\")\n",
    "    return s  # Convertir a minúsculas\n",
    "       "
   ]
  },
  {
   "cell_type": "code",
   "execution_count": 689,
   "metadata": {},
   "outputs": [],
   "source": [
    "nuevas_columnas= [\"barrio\",\"cod_barrio\",\"distrito\",\"cod_distrito\",\"codigo_Postal\"]\n",
    "df_pisos[nuevas_columnas]=np.nan\n",
    "zona_barrio_dict = {\n",
    "    'Sanchinarro': {     \n",
    "        'barrio': 'Valdefuentes'\n",
    "    },\n",
    "    'San Andrés': {       \n",
    "        'barrio': 'Villaverde Alto'\n",
    "    },\n",
    "    'Virgen del Cortijo': {      \n",
    "        'barrio': 'Valdefuentes'\n",
    "    },\n",
    "    'Montecarmelo': {       \n",
    "        'barrio': 'Mirasierra'\n",
    "    }\n",
    "    ,\n",
    "    'Villaverde Bajo': {       \n",
    "        'barrio': 'Los Rosales'\n",
    "    },\n",
    "    'villaverdebajo': {       \n",
    "        'barrio': 'Los Rosales'\n",
    "    }\n",
    "}\n",
    "\n",
    "\n",
    "# Cambiar el tipo de dato de las columnas \"barrio\" y \"distrito\" a object\n",
    "df_pisos[\"barrio\"] = df_pisos[\"barrio\"].astype(object)\n",
    "df_pisos[\"distrito\"] = df_pisos[\"distrito\"].astype(object)\n",
    "df_pisos[\"cod_barrio\"] = df_pisos[\"cod_barrio\"].astype(object)\n",
    "df_pisos[\"cod_distrito\"] = df_pisos[\"cod_distrito\"].astype(object)\n",
    "df_pisos[\"codigo_Postal\"] = df_pisos[\"codigo_Postal\"].astype(object)\n",
    "df_barrios.loc[:, 'distrito_n'] = [normalize_string(valor.strip().replace(\" \", \"\")) for valor in df_barrios.loc[:, 'distrito']]\n",
    "df_barrios.loc[:, 'barrio_n'] = [normalize_string(valor.strip().replace(\" \", \"\")) for valor in df_barrios.loc[:, 'barrio']]\n",
    "\n",
    "def clasificar_distrito_y_barrio_por_columnas(df, df_barrios):\n",
    "    # Recorrer las filas del dataframe\n",
    "    for idx, fila in df.iterrows():\n",
    "        # Recorrer las columnas en orden de prioridad: titulo, nombre_oficina\n",
    "        for columna in ['ubicacion']:\n",
    "            valor = fila[columna]\n",
    "            \n",
    "            # Verificamos que el valor no sea nulo\n",
    "            if pd.notna(valor):\n",
    "                valor_normalizado = normalize_string(valor)\n",
    "\n",
    "                 # Reemplazar valores específicos en la ubicación normalizada\n",
    "                if 'sanandres' in valor_normalizado:\n",
    "                    valor_normalizado = valor_normalizado.replace('sanandres', 'villaverdealto')\n",
    "                elif 'salvador' in valor_normalizado:\n",
    "                    valor_normalizado = valor_normalizado.replace('salvador', 'elsalvador')\n",
    "                elif 'san andres' in valor_normalizado:\n",
    "                    valor_normalizado = valor_normalizado.replace('san andres', 'villaverdealto')\n",
    "                elif 'palos de moguer' in valor_normalizado:\n",
    "                    valor_normalizado = valor_normalizado.replace('palos de moguer', 'palosdemoguer')\n",
    "                elif 'virgendelcortijo-manoteras' in valor_normalizado:\n",
    "                    valor_normalizado = valor_normalizado.replace('virgendelcortijo-manoteras', 'valdefuentes')\n",
    "                elif 'sanchinarro' in valor_normalizado:\n",
    "                    valor_normalizado = valor_normalizado.replace('sanchinarro', 'valdefuentes')\n",
    "                elif 'montecarmelo' in valor_normalizado:\n",
    "                    valor_normalizado = valor_normalizado.replace('montecarmelo', 'mirasierra')\n",
    "                elif 'ambroz' in valor_normalizado:\n",
    "                    valor_normalizado = valor_normalizado.replace('ambroz', 'cascohistoricodevicalvaro')\n",
    "                elif 'carmenes' in valor_normalizado:\n",
    "                    valor_normalizado = valor_normalizado.replace('carmenes', 'loscarmenes')\n",
    "                elif 'paudecarabanchel' in valor_normalizado:\n",
    "                    valor_normalizado = valor_normalizado.replace('paudecarabanchel', 'buenavista')\n",
    "                elif 'centrohistorico' in valor_normalizado:\n",
    "                    valor_normalizado = valor_normalizado.replace('centrohistorico', 'cascohistoricodevicalvaro')\n",
    "                \n",
    "                # Verificamos si el valor normalizado contiene el nombre de un barrio\n",
    "                barrio_encontrado = next((barrio for barrio in df_barrios[\"barrio_n\"] if barrio in valor_normalizado), None)\n",
    "                \n",
    "                if barrio_encontrado and pd.isna(fila[\"barrio\"]):\n",
    "                    df.at[idx, \"barrio\"] = df_barrios.query(f\"barrio_n == '{barrio_encontrado}'\")[\"barrio\"].values[0]  # Asignar el nombre del barrio a la columna \"barrio\"\n",
    "                    # Buscar los valores cod_barrio, distrito y cod_distrito en df_barrios\n",
    "                    result = df_barrios.query(f\"barrio_n == '{barrio_encontrado}'\")\n",
    "                    if not result.empty:\n",
    "                        cod_distrito = result[\"cod_distrito\"].values[0]\n",
    "                        cod_barrio = result[\"cod_barrio\"].values[0]\n",
    "                        codigo_Postal=result[\"codigo_Postal\"].values[0]\n",
    "                        distrito_result = result[\"distrito\"].values[0]\n",
    "                        df.at[idx, \"cod_barrio\"] = cod_barrio\n",
    "                        df.at[idx, \"cod_distrito\"] = cod_distrito\n",
    "                        df.at[idx, \"distrito\"] = distrito_result\n",
    "                        df.at[idx, \"codigo_Postal\"] = codigo_Postal\n",
    "                # Verificamos si el valor normalizado contiene el nombre de un distrito\n",
    "                distrito_encontrado = next((distrito for distrito in df_barrios[\"distrito_n\"] if distrito in valor_normalizado), None)\n",
    "                if distrito_encontrado and pd.isna(fila[\"distrito\"]):\n",
    "                    df.at[idx, \"distrito\"] = df_barrios.query(f\"distrito_n == '{distrito_encontrado}'\")[\"distrito\"].values[0]\n",
    "                    result = df_barrios.query(f\"distrito_n == '{distrito_encontrado}'\")                    \n",
    "                    cod_distrito = result[\"cod_distrito\"].values[0]\n",
    "                    df.at[idx, \"cod_distrito\"] = cod_distrito\n",
    "            else:\n",
    "                #zona_encontrado = next((barrio for barrio in df_barrios[\"barrio_n\"] if barrio in valor_normalizado), None)\n",
    "                barrio_encontrado = next((zona_barrio_dict[zona][\"barrio\"] for zona in zona_barrio_dict if zona_barrio_dict[zona][\"barrio\"] in df_barrios[\"barrio_n\"]), None)\n",
    "                if barrio_encontrado and pd.isna(fila[\"barrio\"]):\n",
    "                    df.at[idx, \"barrio\"] = df_barrios.query(f\"barrio_n == '{barrio_encontrado}'\")[\"barrio\"].values[0]  # Asignar el nombre del barrio a la columna \"barrio\"\n",
    "                    # Buscar los valores cod_barrio, distrito y cod_distrito en df_barrios\n",
    "                    result = df_barrios.query(f\"barrio_n == '{barrio_encontrado}'\")\n",
    "                    if not result.empty:\n",
    "                        cod_distrito = result[\"cod_distrito\"].values[0]\n",
    "                        cod_barrio = result[\"cod_barrio\"].values[0]\n",
    "                        codigo_Postal=result[\"codigo_Postal\"].values[0]\n",
    "                        distrito_result = result[\"distrito\"].values[0]\n",
    "                        df.at[idx, \"cod_barrio\"] = cod_barrio\n",
    "                        df.at[idx, \"cod_distrito\"] = cod_distrito\n",
    "                        df.at[idx, \"distrito\"] = distrito_result\n",
    "                        df.at[idx, \"codigo_Postal\"] = codigo_Postal"
   ]
  },
  {
   "cell_type": "code",
   "execution_count": 690,
   "metadata": {},
   "outputs": [
    {
     "data": {
      "text/html": [
       "<div>\n",
       "<style scoped>\n",
       "    .dataframe tbody tr th:only-of-type {\n",
       "        vertical-align: middle;\n",
       "    }\n",
       "\n",
       "    .dataframe tbody tr th {\n",
       "        vertical-align: top;\n",
       "    }\n",
       "\n",
       "    .dataframe thead th {\n",
       "        text-align: right;\n",
       "    }\n",
       "</style>\n",
       "<table border=\"1\" class=\"dataframe\">\n",
       "  <thead>\n",
       "    <tr style=\"text-align: right;\">\n",
       "      <th></th>\n",
       "      <th>cod_distrito</th>\n",
       "      <th>distrito</th>\n",
       "      <th>cod_barrio</th>\n",
       "      <th>cod_barrio_2</th>\n",
       "      <th>barrio</th>\n",
       "      <th>codigo_Postal</th>\n",
       "      <th>distrito_n</th>\n",
       "      <th>barrio_n</th>\n",
       "    </tr>\n",
       "  </thead>\n",
       "  <tbody>\n",
       "    <tr>\n",
       "      <th>100</th>\n",
       "      <td>16</td>\n",
       "      <td>Hortaleza</td>\n",
       "      <td>161</td>\n",
       "      <td>1</td>\n",
       "      <td>Palomas</td>\n",
       "      <td>28043</td>\n",
       "      <td>hortaleza</td>\n",
       "      <td>palomas</td>\n",
       "    </tr>\n",
       "    <tr>\n",
       "      <th>101</th>\n",
       "      <td>16</td>\n",
       "      <td>Hortaleza</td>\n",
       "      <td>162</td>\n",
       "      <td>2</td>\n",
       "      <td>Valdefuentes</td>\n",
       "      <td>28055</td>\n",
       "      <td>hortaleza</td>\n",
       "      <td>valdefuentes</td>\n",
       "    </tr>\n",
       "    <tr>\n",
       "      <th>102</th>\n",
       "      <td>16</td>\n",
       "      <td>Hortaleza</td>\n",
       "      <td>163</td>\n",
       "      <td>3</td>\n",
       "      <td>Canillas</td>\n",
       "      <td>28043</td>\n",
       "      <td>hortaleza</td>\n",
       "      <td>canillas</td>\n",
       "    </tr>\n",
       "    <tr>\n",
       "      <th>103</th>\n",
       "      <td>16</td>\n",
       "      <td>Hortaleza</td>\n",
       "      <td>164</td>\n",
       "      <td>4</td>\n",
       "      <td>Pinar del Rey</td>\n",
       "      <td>28033</td>\n",
       "      <td>hortaleza</td>\n",
       "      <td>pinardelrey</td>\n",
       "    </tr>\n",
       "    <tr>\n",
       "      <th>104</th>\n",
       "      <td>16</td>\n",
       "      <td>Hortaleza</td>\n",
       "      <td>165</td>\n",
       "      <td>5</td>\n",
       "      <td>Apostol Santiago</td>\n",
       "      <td>28033</td>\n",
       "      <td>hortaleza</td>\n",
       "      <td>apostolsantiago</td>\n",
       "    </tr>\n",
       "    <tr>\n",
       "      <th>105</th>\n",
       "      <td>16</td>\n",
       "      <td>Hortaleza</td>\n",
       "      <td>166</td>\n",
       "      <td>6</td>\n",
       "      <td>Piovera</td>\n",
       "      <td>28033</td>\n",
       "      <td>hortaleza</td>\n",
       "      <td>piovera</td>\n",
       "    </tr>\n",
       "    <tr>\n",
       "      <th>106</th>\n",
       "      <td>16</td>\n",
       "      <td>Hortaleza</td>\n",
       "      <td>167</td>\n",
       "      <td>7</td>\n",
       "      <td>Valdebebas-Valdefuentes</td>\n",
       "      <td>28055</td>\n",
       "      <td>hortaleza</td>\n",
       "      <td>valdebebas-valdefuentes</td>\n",
       "    </tr>\n",
       "  </tbody>\n",
       "</table>\n",
       "</div>"
      ],
      "text/plain": [
       "     cod_distrito   distrito  cod_barrio  cod_barrio_2  \\\n",
       "100            16  Hortaleza         161             1   \n",
       "101            16  Hortaleza         162             2   \n",
       "102            16  Hortaleza         163             3   \n",
       "103            16  Hortaleza         164             4   \n",
       "104            16  Hortaleza         165             5   \n",
       "105            16  Hortaleza         166             6   \n",
       "106            16  Hortaleza         167             7   \n",
       "\n",
       "                      barrio  codigo_Postal distrito_n  \\\n",
       "100                  Palomas          28043  hortaleza   \n",
       "101             Valdefuentes          28055  hortaleza   \n",
       "102                 Canillas          28043  hortaleza   \n",
       "103            Pinar del Rey          28033  hortaleza   \n",
       "104         Apostol Santiago          28033  hortaleza   \n",
       "105                  Piovera          28033  hortaleza   \n",
       "106  Valdebebas-Valdefuentes          28055  hortaleza   \n",
       "\n",
       "                    barrio_n  \n",
       "100                  palomas  \n",
       "101             valdefuentes  \n",
       "102                 canillas  \n",
       "103              pinardelrey  \n",
       "104          apostolsantiago  \n",
       "105                  piovera  \n",
       "106  valdebebas-valdefuentes  "
      ]
     },
     "execution_count": 690,
     "metadata": {},
     "output_type": "execute_result"
    }
   ],
   "source": [
    "df_barrios.query(\"distrito=='Hortaleza'\")"
   ]
  },
  {
   "cell_type": "code",
   "execution_count": 691,
   "metadata": {},
   "outputs": [],
   "source": [
    "clasificar_distrito_y_barrio_por_columnas(df_pisos, df_barrios)"
   ]
  },
  {
   "cell_type": "code",
   "execution_count": 692,
   "metadata": {},
   "outputs": [
    {
     "name": "stdout",
     "output_type": "stream",
     "text": [
      "<class 'pandas.core.frame.DataFrame'>\n",
      "RangeIndex: 5949 entries, 0 to 5948\n",
      "Data columns (total 18 columns):\n",
      " #   Column              Non-Null Count  Dtype         \n",
      "---  ------              --------------  -----         \n",
      " 0   title               5949 non-null   object        \n",
      " 1   ubicacion           5949 non-null   object        \n",
      " 2   precio              5949 non-null   object        \n",
      " 3   num_hab             5719 non-null   object        \n",
      " 4   num_banos           5609 non-null   object        \n",
      " 5   metros_construidos  5930 non-null   object        \n",
      " 6   planta              3368 non-null   object        \n",
      " 7   precio_por_area     5925 non-null   object        \n",
      " 8   estado              3642 non-null   object        \n",
      " 9   url                 5949 non-null   object        \n",
      " 10  fecha_descarga      5949 non-null   datetime64[ns]\n",
      " 11  tipologia           5949 non-null   object        \n",
      " 12  web                 5949 non-null   object        \n",
      " 13  barrio              5922 non-null   object        \n",
      " 14  cod_barrio          5922 non-null   object        \n",
      " 15  distrito            5949 non-null   object        \n",
      " 16  cod_distrito        5949 non-null   object        \n",
      " 17  codigo_Postal       5922 non-null   object        \n",
      "dtypes: datetime64[ns](1), object(17)\n",
      "memory usage: 836.7+ KB\n"
     ]
    }
   ],
   "source": [
    "df_pisos.info()"
   ]
  },
  {
   "cell_type": "code",
   "execution_count": 693,
   "metadata": {},
   "outputs": [
    {
     "data": {
      "text/html": [
       "<div>\n",
       "<style scoped>\n",
       "    .dataframe tbody tr th:only-of-type {\n",
       "        vertical-align: middle;\n",
       "    }\n",
       "\n",
       "    .dataframe tbody tr th {\n",
       "        vertical-align: top;\n",
       "    }\n",
       "\n",
       "    .dataframe thead th {\n",
       "        text-align: right;\n",
       "    }\n",
       "</style>\n",
       "<table border=\"1\" class=\"dataframe\">\n",
       "  <thead>\n",
       "    <tr style=\"text-align: right;\">\n",
       "      <th></th>\n",
       "      <th>title</th>\n",
       "      <th>ubicacion</th>\n",
       "      <th>precio</th>\n",
       "      <th>num_hab</th>\n",
       "      <th>num_banos</th>\n",
       "      <th>metros_construidos</th>\n",
       "      <th>planta</th>\n",
       "      <th>precio_por_area</th>\n",
       "      <th>estado</th>\n",
       "      <th>url</th>\n",
       "      <th>fecha_descarga</th>\n",
       "      <th>tipologia</th>\n",
       "      <th>web</th>\n",
       "      <th>barrio</th>\n",
       "      <th>cod_barrio</th>\n",
       "      <th>distrito</th>\n",
       "      <th>cod_distrito</th>\n",
       "      <th>codigo_Postal</th>\n",
       "    </tr>\n",
       "  </thead>\n",
       "  <tbody>\n",
       "    <tr>\n",
       "      <th>994</th>\n",
       "      <td>Piso en venta en Avenida Levantge, S/N</td>\n",
       "      <td>Los Berrocales (Distrito Vicálvaro. Madrid Capital)</td>\n",
       "      <td>354000</td>\n",
       "      <td>3</td>\n",
       "      <td>2</td>\n",
       "      <td>110</td>\n",
       "      <td>1</td>\n",
       "      <td>3218</td>\n",
       "      <td>A estrenar</td>\n",
       "      <td>https://www.pisos.com/comprar/piso-los_berrocales28052-4592114246_109700/</td>\n",
       "      <td>2024-10-19</td>\n",
       "      <td>Piso</td>\n",
       "      <td>pisos.com</td>\n",
       "      <td>NaN</td>\n",
       "      <td>NaN</td>\n",
       "      <td>Vicálvaro</td>\n",
       "      <td>19</td>\n",
       "      <td>NaN</td>\n",
       "    </tr>\n",
       "    <tr>\n",
       "      <th>1188</th>\n",
       "      <td>Piso en venta en Calle Berrocales Ix, 461</td>\n",
       "      <td>Los Berrocales (Distrito Vicálvaro. Madrid Capital)</td>\n",
       "      <td>297400</td>\n",
       "      <td>2</td>\n",
       "      <td>2</td>\n",
       "      <td>77</td>\n",
       "      <td>NaN</td>\n",
       "      <td>3862</td>\n",
       "      <td>A estrenar</td>\n",
       "      <td>https://www.pisos.com/comprar/piso-los_berrocales28031-4596004879_109700/</td>\n",
       "      <td>2024-08-19</td>\n",
       "      <td>Piso</td>\n",
       "      <td>pisos.com</td>\n",
       "      <td>NaN</td>\n",
       "      <td>NaN</td>\n",
       "      <td>Vicálvaro</td>\n",
       "      <td>19</td>\n",
       "      <td>NaN</td>\n",
       "    </tr>\n",
       "    <tr>\n",
       "      <th>1189</th>\n",
       "      <td>Piso en venta en Calle Berrocales Ix, 461</td>\n",
       "      <td>Los Berrocales (Distrito Vicálvaro. Madrid Capital)</td>\n",
       "      <td>301500</td>\n",
       "      <td>2</td>\n",
       "      <td>2</td>\n",
       "      <td>77</td>\n",
       "      <td>NaN</td>\n",
       "      <td>3915</td>\n",
       "      <td>A estrenar</td>\n",
       "      <td>https://www.pisos.com/comprar/piso-los_berrocales28031-4849665223_109700/</td>\n",
       "      <td>2024-10-19</td>\n",
       "      <td>Piso</td>\n",
       "      <td>pisos.com</td>\n",
       "      <td>NaN</td>\n",
       "      <td>NaN</td>\n",
       "      <td>Vicálvaro</td>\n",
       "      <td>19</td>\n",
       "      <td>NaN</td>\n",
       "    </tr>\n",
       "    <tr>\n",
       "      <th>1190</th>\n",
       "      <td>Piso en venta en Calle Berrocales Ix, 461</td>\n",
       "      <td>Los Berrocales (Distrito Vicálvaro. Madrid Capital)</td>\n",
       "      <td>369900</td>\n",
       "      <td>3</td>\n",
       "      <td>2</td>\n",
       "      <td>99</td>\n",
       "      <td>NaN</td>\n",
       "      <td>3736</td>\n",
       "      <td>A estrenar</td>\n",
       "      <td>https://www.pisos.com/comprar/piso-los_berrocales28031-4510709962_109700/</td>\n",
       "      <td>2024-08-19</td>\n",
       "      <td>Piso</td>\n",
       "      <td>pisos.com</td>\n",
       "      <td>NaN</td>\n",
       "      <td>NaN</td>\n",
       "      <td>Vicálvaro</td>\n",
       "      <td>19</td>\n",
       "      <td>NaN</td>\n",
       "    </tr>\n",
       "    <tr>\n",
       "      <th>1191</th>\n",
       "      <td>Piso en venta en Calle Berrocales Ix, 461</td>\n",
       "      <td>Los Berrocales (Distrito Vicálvaro. Madrid Capital)</td>\n",
       "      <td>371900</td>\n",
       "      <td>3</td>\n",
       "      <td>2</td>\n",
       "      <td>99</td>\n",
       "      <td>NaN</td>\n",
       "      <td>3756</td>\n",
       "      <td>A estrenar</td>\n",
       "      <td>https://www.pisos.com/comprar/piso-los_berrocales28031-4891530918_109700/</td>\n",
       "      <td>2024-10-19</td>\n",
       "      <td>Piso</td>\n",
       "      <td>pisos.com</td>\n",
       "      <td>NaN</td>\n",
       "      <td>NaN</td>\n",
       "      <td>Vicálvaro</td>\n",
       "      <td>19</td>\n",
       "      <td>NaN</td>\n",
       "    </tr>\n",
       "    <tr>\n",
       "      <th>1360</th>\n",
       "      <td>Piso en venta en Calle Parcela Rc.4.6.2. Sector Uzpp. 02.04, S/N</td>\n",
       "      <td>Los Berrocales (Distrito Vicálvaro. Madrid Capital)</td>\n",
       "      <td>320500</td>\n",
       "      <td>2</td>\n",
       "      <td>2</td>\n",
       "      <td>93</td>\n",
       "      <td>1</td>\n",
       "      <td>3446</td>\n",
       "      <td>A estrenar</td>\n",
       "      <td>https://www.pisos.com/comprar/piso-los_berrocales28031-3500496548_109700/</td>\n",
       "      <td>2024-08-19</td>\n",
       "      <td>Piso</td>\n",
       "      <td>pisos.com</td>\n",
       "      <td>NaN</td>\n",
       "      <td>NaN</td>\n",
       "      <td>Vicálvaro</td>\n",
       "      <td>19</td>\n",
       "      <td>NaN</td>\n",
       "    </tr>\n",
       "    <tr>\n",
       "      <th>1361</th>\n",
       "      <td>Piso en venta en Calle Parcela Rc.4.6.2. Sector Uzpp. 02.04, S/N</td>\n",
       "      <td>Los Berrocales (Distrito Vicálvaro. Madrid Capital)</td>\n",
       "      <td>358500</td>\n",
       "      <td>3</td>\n",
       "      <td>2</td>\n",
       "      <td>107</td>\n",
       "      <td>1</td>\n",
       "      <td>3350</td>\n",
       "      <td>A estrenar</td>\n",
       "      <td>https://www.pisos.com/comprar/piso-los_berrocales28031-4568166771_109700/</td>\n",
       "      <td>2024-08-19</td>\n",
       "      <td>Piso</td>\n",
       "      <td>pisos.com</td>\n",
       "      <td>NaN</td>\n",
       "      <td>NaN</td>\n",
       "      <td>Vicálvaro</td>\n",
       "      <td>19</td>\n",
       "      <td>NaN</td>\n",
       "    </tr>\n",
       "    <tr>\n",
       "      <th>5619</th>\n",
       "      <td>Piso en venta en los Berrocales</td>\n",
       "      <td>Los Berrocales (Distrito Vicálvaro. Madrid Capital)</td>\n",
       "      <td>279000</td>\n",
       "      <td>2</td>\n",
       "      <td>2</td>\n",
       "      <td>90</td>\n",
       "      <td>1</td>\n",
       "      <td>3100</td>\n",
       "      <td>A estrenar</td>\n",
       "      <td>https://www.pisos.com/comprar/piso-los_berrocales28031-4677433362_109700/</td>\n",
       "      <td>2024-08-19</td>\n",
       "      <td>Piso</td>\n",
       "      <td>pisos.com</td>\n",
       "      <td>NaN</td>\n",
       "      <td>NaN</td>\n",
       "      <td>Vicálvaro</td>\n",
       "      <td>19</td>\n",
       "      <td>NaN</td>\n",
       "    </tr>\n",
       "    <tr>\n",
       "      <th>5620</th>\n",
       "      <td>Piso en venta en los Berrocales</td>\n",
       "      <td>Los Berrocales (Distrito Vicálvaro. Madrid Capital)</td>\n",
       "      <td>279000</td>\n",
       "      <td>2</td>\n",
       "      <td>2</td>\n",
       "      <td>90</td>\n",
       "      <td>1</td>\n",
       "      <td>3100</td>\n",
       "      <td>A estrenar</td>\n",
       "      <td>https://www.pisos.com/comprar/piso-los_berrocales28031-4677433362_109700/</td>\n",
       "      <td>2024-10-19</td>\n",
       "      <td>Piso</td>\n",
       "      <td>pisos.com</td>\n",
       "      <td>NaN</td>\n",
       "      <td>NaN</td>\n",
       "      <td>Vicálvaro</td>\n",
       "      <td>19</td>\n",
       "      <td>NaN</td>\n",
       "    </tr>\n",
       "    <tr>\n",
       "      <th>5621</th>\n",
       "      <td>Piso en venta en los Berrocales</td>\n",
       "      <td>Los Berrocales (Distrito Vicálvaro. Madrid Capital)</td>\n",
       "      <td>287000</td>\n",
       "      <td>2</td>\n",
       "      <td>2</td>\n",
       "      <td>92</td>\n",
       "      <td>1</td>\n",
       "      <td>3119</td>\n",
       "      <td>A estrenar</td>\n",
       "      <td>https://www.pisos.com/comprar/piso-los_berrocales28031-4588865732_109700/</td>\n",
       "      <td>2024-08-19</td>\n",
       "      <td>Piso</td>\n",
       "      <td>pisos.com</td>\n",
       "      <td>NaN</td>\n",
       "      <td>NaN</td>\n",
       "      <td>Vicálvaro</td>\n",
       "      <td>19</td>\n",
       "      <td>NaN</td>\n",
       "    </tr>\n",
       "    <tr>\n",
       "      <th>5622</th>\n",
       "      <td>Piso en venta en los Berrocales</td>\n",
       "      <td>Los Berrocales (Distrito Vicálvaro. Madrid Capital)</td>\n",
       "      <td>287000</td>\n",
       "      <td>2</td>\n",
       "      <td>2</td>\n",
       "      <td>92</td>\n",
       "      <td>1</td>\n",
       "      <td>3119</td>\n",
       "      <td>A estrenar</td>\n",
       "      <td>https://www.pisos.com/comprar/piso-los_berrocales28031-4588865732_109700/</td>\n",
       "      <td>2024-10-19</td>\n",
       "      <td>Piso</td>\n",
       "      <td>pisos.com</td>\n",
       "      <td>NaN</td>\n",
       "      <td>NaN</td>\n",
       "      <td>Vicálvaro</td>\n",
       "      <td>19</td>\n",
       "      <td>NaN</td>\n",
       "    </tr>\n",
       "    <tr>\n",
       "      <th>5623</th>\n",
       "      <td>Piso en venta en los Berrocales</td>\n",
       "      <td>Los Berrocales (Distrito Vicálvaro. Madrid Capital)</td>\n",
       "      <td>313100</td>\n",
       "      <td>2</td>\n",
       "      <td>2</td>\n",
       "      <td>85</td>\n",
       "      <td>NaN</td>\n",
       "      <td>3683</td>\n",
       "      <td>A estrenar</td>\n",
       "      <td>https://www.pisos.com/comprar/piso-los_berrocales28031-4355464537_109700/</td>\n",
       "      <td>2024-08-19</td>\n",
       "      <td>Piso</td>\n",
       "      <td>pisos.com</td>\n",
       "      <td>NaN</td>\n",
       "      <td>NaN</td>\n",
       "      <td>Vicálvaro</td>\n",
       "      <td>19</td>\n",
       "      <td>NaN</td>\n",
       "    </tr>\n",
       "    <tr>\n",
       "      <th>5624</th>\n",
       "      <td>Piso en venta en los Berrocales</td>\n",
       "      <td>Los Berrocales (Distrito Vicálvaro. Madrid Capital)</td>\n",
       "      <td>320200</td>\n",
       "      <td>2</td>\n",
       "      <td>2</td>\n",
       "      <td>85</td>\n",
       "      <td>NaN</td>\n",
       "      <td>3767</td>\n",
       "      <td>A estrenar</td>\n",
       "      <td>https://www.pisos.com/comprar/piso-los_berrocales28031-4355464537_109700/</td>\n",
       "      <td>2024-10-19</td>\n",
       "      <td>Piso</td>\n",
       "      <td>pisos.com</td>\n",
       "      <td>NaN</td>\n",
       "      <td>NaN</td>\n",
       "      <td>Vicálvaro</td>\n",
       "      <td>19</td>\n",
       "      <td>NaN</td>\n",
       "    </tr>\n",
       "    <tr>\n",
       "      <th>5625</th>\n",
       "      <td>Piso en venta en los Berrocales</td>\n",
       "      <td>Los Berrocales (Distrito Vicálvaro. Madrid Capital)</td>\n",
       "      <td>329500</td>\n",
       "      <td>2</td>\n",
       "      <td>2</td>\n",
       "      <td>85</td>\n",
       "      <td>NaN</td>\n",
       "      <td>3876</td>\n",
       "      <td>A estrenar</td>\n",
       "      <td>https://www.pisos.com/comprar/piso-los_berrocales28031-4425541774_109700/</td>\n",
       "      <td>2024-08-19</td>\n",
       "      <td>Piso</td>\n",
       "      <td>pisos.com</td>\n",
       "      <td>NaN</td>\n",
       "      <td>NaN</td>\n",
       "      <td>Vicálvaro</td>\n",
       "      <td>19</td>\n",
       "      <td>NaN</td>\n",
       "    </tr>\n",
       "    <tr>\n",
       "      <th>5626</th>\n",
       "      <td>Piso en venta en los Berrocales</td>\n",
       "      <td>Los Berrocales (Distrito Vicálvaro. Madrid Capital)</td>\n",
       "      <td>342000</td>\n",
       "      <td>2</td>\n",
       "      <td>2</td>\n",
       "      <td>84</td>\n",
       "      <td>NaN</td>\n",
       "      <td>4071</td>\n",
       "      <td>A estrenar</td>\n",
       "      <td>https://www.pisos.com/comprar/piso-los_berrocales28031-4858266141_109700/</td>\n",
       "      <td>2024-10-19</td>\n",
       "      <td>Piso</td>\n",
       "      <td>pisos.com</td>\n",
       "      <td>NaN</td>\n",
       "      <td>NaN</td>\n",
       "      <td>Vicálvaro</td>\n",
       "      <td>19</td>\n",
       "      <td>NaN</td>\n",
       "    </tr>\n",
       "    <tr>\n",
       "      <th>5627</th>\n",
       "      <td>Piso en venta en los Berrocales</td>\n",
       "      <td>Los Berrocales (Distrito Vicálvaro. Madrid Capital)</td>\n",
       "      <td>346000</td>\n",
       "      <td>3</td>\n",
       "      <td>2</td>\n",
       "      <td>111</td>\n",
       "      <td>1</td>\n",
       "      <td>3117</td>\n",
       "      <td>A estrenar</td>\n",
       "      <td>https://www.pisos.com/comprar/piso-los_berrocales28031-4588216297_109700/</td>\n",
       "      <td>2024-08-19</td>\n",
       "      <td>Piso</td>\n",
       "      <td>pisos.com</td>\n",
       "      <td>NaN</td>\n",
       "      <td>NaN</td>\n",
       "      <td>Vicálvaro</td>\n",
       "      <td>19</td>\n",
       "      <td>NaN</td>\n",
       "    </tr>\n",
       "    <tr>\n",
       "      <th>5628</th>\n",
       "      <td>Piso en venta en los Berrocales</td>\n",
       "      <td>Los Berrocales (Distrito Vicálvaro. Madrid Capital)</td>\n",
       "      <td>346000</td>\n",
       "      <td>3</td>\n",
       "      <td>2</td>\n",
       "      <td>111</td>\n",
       "      <td>1</td>\n",
       "      <td>3117</td>\n",
       "      <td>A estrenar</td>\n",
       "      <td>https://www.pisos.com/comprar/piso-los_berrocales28031-4588216297_109700/</td>\n",
       "      <td>2024-10-19</td>\n",
       "      <td>Piso</td>\n",
       "      <td>pisos.com</td>\n",
       "      <td>NaN</td>\n",
       "      <td>NaN</td>\n",
       "      <td>Vicálvaro</td>\n",
       "      <td>19</td>\n",
       "      <td>NaN</td>\n",
       "    </tr>\n",
       "    <tr>\n",
       "      <th>5629</th>\n",
       "      <td>Piso en venta en los Berrocales</td>\n",
       "      <td>Los Berrocales (Distrito Vicálvaro. Madrid Capital)</td>\n",
       "      <td>347000</td>\n",
       "      <td>3</td>\n",
       "      <td>2</td>\n",
       "      <td>111</td>\n",
       "      <td>1</td>\n",
       "      <td>3126</td>\n",
       "      <td>A estrenar</td>\n",
       "      <td>https://www.pisos.com/comprar/piso-los_berrocales28031-4604682041_109700/</td>\n",
       "      <td>2024-08-19</td>\n",
       "      <td>Piso</td>\n",
       "      <td>pisos.com</td>\n",
       "      <td>NaN</td>\n",
       "      <td>NaN</td>\n",
       "      <td>Vicálvaro</td>\n",
       "      <td>19</td>\n",
       "      <td>NaN</td>\n",
       "    </tr>\n",
       "    <tr>\n",
       "      <th>5630</th>\n",
       "      <td>Piso en venta en los Berrocales</td>\n",
       "      <td>Los Berrocales (Distrito Vicálvaro. Madrid Capital)</td>\n",
       "      <td>347000</td>\n",
       "      <td>3</td>\n",
       "      <td>2</td>\n",
       "      <td>111</td>\n",
       "      <td>1</td>\n",
       "      <td>3126</td>\n",
       "      <td>A estrenar</td>\n",
       "      <td>https://www.pisos.com/comprar/piso-los_berrocales28031-4604682041_109700/</td>\n",
       "      <td>2024-10-19</td>\n",
       "      <td>Piso</td>\n",
       "      <td>pisos.com</td>\n",
       "      <td>NaN</td>\n",
       "      <td>NaN</td>\n",
       "      <td>Vicálvaro</td>\n",
       "      <td>19</td>\n",
       "      <td>NaN</td>\n",
       "    </tr>\n",
       "    <tr>\n",
       "      <th>5631</th>\n",
       "      <td>Piso en venta en los Berrocales</td>\n",
       "      <td>Los Berrocales (Distrito Vicálvaro. Madrid Capital)</td>\n",
       "      <td>349700</td>\n",
       "      <td>2</td>\n",
       "      <td>2</td>\n",
       "      <td>105</td>\n",
       "      <td>NaN</td>\n",
       "      <td>3330</td>\n",
       "      <td>A estrenar</td>\n",
       "      <td>https://www.pisos.com/comprar/piso-los_berrocales28031-4396532976_109700/</td>\n",
       "      <td>2024-08-19</td>\n",
       "      <td>Piso</td>\n",
       "      <td>pisos.com</td>\n",
       "      <td>NaN</td>\n",
       "      <td>NaN</td>\n",
       "      <td>Vicálvaro</td>\n",
       "      <td>19</td>\n",
       "      <td>NaN</td>\n",
       "    </tr>\n",
       "    <tr>\n",
       "      <th>5632</th>\n",
       "      <td>Piso en venta en los Berrocales</td>\n",
       "      <td>Los Berrocales (Distrito Vicálvaro. Madrid Capital)</td>\n",
       "      <td>352900</td>\n",
       "      <td>2</td>\n",
       "      <td>2</td>\n",
       "      <td>105</td>\n",
       "      <td>NaN</td>\n",
       "      <td>3360</td>\n",
       "      <td>A estrenar</td>\n",
       "      <td>https://www.pisos.com/comprar/piso-los_berrocales28031-4335511605_109700/</td>\n",
       "      <td>2024-08-19</td>\n",
       "      <td>Piso</td>\n",
       "      <td>pisos.com</td>\n",
       "      <td>NaN</td>\n",
       "      <td>NaN</td>\n",
       "      <td>Vicálvaro</td>\n",
       "      <td>19</td>\n",
       "      <td>NaN</td>\n",
       "    </tr>\n",
       "    <tr>\n",
       "      <th>5633</th>\n",
       "      <td>Piso en venta en los Berrocales</td>\n",
       "      <td>Los Berrocales (Distrito Vicálvaro. Madrid Capital)</td>\n",
       "      <td>354300</td>\n",
       "      <td>2</td>\n",
       "      <td>2</td>\n",
       "      <td>105</td>\n",
       "      <td>NaN</td>\n",
       "      <td>3374</td>\n",
       "      <td>A estrenar</td>\n",
       "      <td>https://www.pisos.com/comprar/piso-los_berrocales28031-4335511605_109700/</td>\n",
       "      <td>2024-10-19</td>\n",
       "      <td>Piso</td>\n",
       "      <td>pisos.com</td>\n",
       "      <td>NaN</td>\n",
       "      <td>NaN</td>\n",
       "      <td>Vicálvaro</td>\n",
       "      <td>19</td>\n",
       "      <td>NaN</td>\n",
       "    </tr>\n",
       "    <tr>\n",
       "      <th>5634</th>\n",
       "      <td>Piso en venta en los Berrocales</td>\n",
       "      <td>Los Berrocales (Distrito Vicálvaro. Madrid Capital)</td>\n",
       "      <td>379000</td>\n",
       "      <td>3</td>\n",
       "      <td>2</td>\n",
       "      <td>102</td>\n",
       "      <td>NaN</td>\n",
       "      <td>3715</td>\n",
       "      <td>A estrenar</td>\n",
       "      <td>https://www.pisos.com/comprar/piso-los_berrocales28031-4418412482_109700/</td>\n",
       "      <td>2024-08-19</td>\n",
       "      <td>Piso</td>\n",
       "      <td>pisos.com</td>\n",
       "      <td>NaN</td>\n",
       "      <td>NaN</td>\n",
       "      <td>Vicálvaro</td>\n",
       "      <td>19</td>\n",
       "      <td>NaN</td>\n",
       "    </tr>\n",
       "    <tr>\n",
       "      <th>5635</th>\n",
       "      <td>Piso en venta en los Berrocales</td>\n",
       "      <td>Los Berrocales (Distrito Vicálvaro. Madrid Capital)</td>\n",
       "      <td>381000</td>\n",
       "      <td>3</td>\n",
       "      <td>2</td>\n",
       "      <td>102</td>\n",
       "      <td>NaN</td>\n",
       "      <td>3735</td>\n",
       "      <td>A estrenar</td>\n",
       "      <td>https://www.pisos.com/comprar/piso-los_berrocales28031-4418412482_109700/</td>\n",
       "      <td>2024-10-19</td>\n",
       "      <td>Piso</td>\n",
       "      <td>pisos.com</td>\n",
       "      <td>NaN</td>\n",
       "      <td>NaN</td>\n",
       "      <td>Vicálvaro</td>\n",
       "      <td>19</td>\n",
       "      <td>NaN</td>\n",
       "    </tr>\n",
       "    <tr>\n",
       "      <th>5636</th>\n",
       "      <td>Piso en venta en los Berrocales</td>\n",
       "      <td>Los Berrocales (Distrito Vicálvaro. Madrid Capital)</td>\n",
       "      <td>398100</td>\n",
       "      <td>3</td>\n",
       "      <td>2</td>\n",
       "      <td>113</td>\n",
       "      <td>NaN</td>\n",
       "      <td>3523</td>\n",
       "      <td>A estrenar</td>\n",
       "      <td>https://www.pisos.com/comprar/piso-los_berrocales28031-4353985260_109700/</td>\n",
       "      <td>2024-10-19</td>\n",
       "      <td>Piso</td>\n",
       "      <td>pisos.com</td>\n",
       "      <td>NaN</td>\n",
       "      <td>NaN</td>\n",
       "      <td>Vicálvaro</td>\n",
       "      <td>19</td>\n",
       "      <td>NaN</td>\n",
       "    </tr>\n",
       "    <tr>\n",
       "      <th>5947</th>\n",
       "      <td>Ático en venta en los Berrocales</td>\n",
       "      <td>Los Berrocales (Distrito Vicálvaro. Madrid Capital)</td>\n",
       "      <td>498000</td>\n",
       "      <td>3</td>\n",
       "      <td>2</td>\n",
       "      <td>157</td>\n",
       "      <td>NaN</td>\n",
       "      <td>3171</td>\n",
       "      <td>A estrenar</td>\n",
       "      <td>https://www.pisos.com/comprar/atico-los_berrocales28031-4666816647_109700/</td>\n",
       "      <td>2024-08-19</td>\n",
       "      <td>Ático</td>\n",
       "      <td>pisos.com</td>\n",
       "      <td>NaN</td>\n",
       "      <td>NaN</td>\n",
       "      <td>Vicálvaro</td>\n",
       "      <td>19</td>\n",
       "      <td>NaN</td>\n",
       "    </tr>\n",
       "    <tr>\n",
       "      <th>5948</th>\n",
       "      <td>Ático en venta en los Berrocales</td>\n",
       "      <td>Los Berrocales (Distrito Vicálvaro. Madrid Capital)</td>\n",
       "      <td>498000</td>\n",
       "      <td>3</td>\n",
       "      <td>2</td>\n",
       "      <td>157</td>\n",
       "      <td>NaN</td>\n",
       "      <td>3171</td>\n",
       "      <td>A estrenar</td>\n",
       "      <td>https://www.pisos.com/comprar/atico-los_berrocales28031-4666816647_109700/</td>\n",
       "      <td>2024-10-19</td>\n",
       "      <td>Ático</td>\n",
       "      <td>pisos.com</td>\n",
       "      <td>NaN</td>\n",
       "      <td>NaN</td>\n",
       "      <td>Vicálvaro</td>\n",
       "      <td>19</td>\n",
       "      <td>NaN</td>\n",
       "    </tr>\n",
       "  </tbody>\n",
       "</table>\n",
       "</div>"
      ],
      "text/plain": [
       "                                                                 title  \\\n",
       "994                             Piso en venta en Avenida Levantge, S/N   \n",
       "1188                         Piso en venta en Calle Berrocales Ix, 461   \n",
       "1189                         Piso en venta en Calle Berrocales Ix, 461   \n",
       "1190                         Piso en venta en Calle Berrocales Ix, 461   \n",
       "1191                         Piso en venta en Calle Berrocales Ix, 461   \n",
       "1360  Piso en venta en Calle Parcela Rc.4.6.2. Sector Uzpp. 02.04, S/N   \n",
       "1361  Piso en venta en Calle Parcela Rc.4.6.2. Sector Uzpp. 02.04, S/N   \n",
       "5619                                   Piso en venta en los Berrocales   \n",
       "5620                                   Piso en venta en los Berrocales   \n",
       "5621                                   Piso en venta en los Berrocales   \n",
       "5622                                   Piso en venta en los Berrocales   \n",
       "5623                                   Piso en venta en los Berrocales   \n",
       "5624                                   Piso en venta en los Berrocales   \n",
       "5625                                   Piso en venta en los Berrocales   \n",
       "5626                                   Piso en venta en los Berrocales   \n",
       "5627                                   Piso en venta en los Berrocales   \n",
       "5628                                   Piso en venta en los Berrocales   \n",
       "5629                                   Piso en venta en los Berrocales   \n",
       "5630                                   Piso en venta en los Berrocales   \n",
       "5631                                   Piso en venta en los Berrocales   \n",
       "5632                                   Piso en venta en los Berrocales   \n",
       "5633                                   Piso en venta en los Berrocales   \n",
       "5634                                   Piso en venta en los Berrocales   \n",
       "5635                                   Piso en venta en los Berrocales   \n",
       "5636                                   Piso en venta en los Berrocales   \n",
       "5947                                  Ático en venta en los Berrocales   \n",
       "5948                                  Ático en venta en los Berrocales   \n",
       "\n",
       "                                                ubicacion  precio num_hab  \\\n",
       "994   Los Berrocales (Distrito Vicálvaro. Madrid Capital)  354000       3   \n",
       "1188  Los Berrocales (Distrito Vicálvaro. Madrid Capital)  297400       2   \n",
       "1189  Los Berrocales (Distrito Vicálvaro. Madrid Capital)  301500       2   \n",
       "1190  Los Berrocales (Distrito Vicálvaro. Madrid Capital)  369900       3   \n",
       "1191  Los Berrocales (Distrito Vicálvaro. Madrid Capital)  371900       3   \n",
       "1360  Los Berrocales (Distrito Vicálvaro. Madrid Capital)  320500       2   \n",
       "1361  Los Berrocales (Distrito Vicálvaro. Madrid Capital)  358500       3   \n",
       "5619  Los Berrocales (Distrito Vicálvaro. Madrid Capital)  279000       2   \n",
       "5620  Los Berrocales (Distrito Vicálvaro. Madrid Capital)  279000       2   \n",
       "5621  Los Berrocales (Distrito Vicálvaro. Madrid Capital)  287000       2   \n",
       "5622  Los Berrocales (Distrito Vicálvaro. Madrid Capital)  287000       2   \n",
       "5623  Los Berrocales (Distrito Vicálvaro. Madrid Capital)  313100       2   \n",
       "5624  Los Berrocales (Distrito Vicálvaro. Madrid Capital)  320200       2   \n",
       "5625  Los Berrocales (Distrito Vicálvaro. Madrid Capital)  329500       2   \n",
       "5626  Los Berrocales (Distrito Vicálvaro. Madrid Capital)  342000       2   \n",
       "5627  Los Berrocales (Distrito Vicálvaro. Madrid Capital)  346000       3   \n",
       "5628  Los Berrocales (Distrito Vicálvaro. Madrid Capital)  346000       3   \n",
       "5629  Los Berrocales (Distrito Vicálvaro. Madrid Capital)  347000       3   \n",
       "5630  Los Berrocales (Distrito Vicálvaro. Madrid Capital)  347000       3   \n",
       "5631  Los Berrocales (Distrito Vicálvaro. Madrid Capital)  349700       2   \n",
       "5632  Los Berrocales (Distrito Vicálvaro. Madrid Capital)  352900       2   \n",
       "5633  Los Berrocales (Distrito Vicálvaro. Madrid Capital)  354300       2   \n",
       "5634  Los Berrocales (Distrito Vicálvaro. Madrid Capital)  379000       3   \n",
       "5635  Los Berrocales (Distrito Vicálvaro. Madrid Capital)  381000       3   \n",
       "5636  Los Berrocales (Distrito Vicálvaro. Madrid Capital)  398100       3   \n",
       "5947  Los Berrocales (Distrito Vicálvaro. Madrid Capital)  498000       3   \n",
       "5948  Los Berrocales (Distrito Vicálvaro. Madrid Capital)  498000       3   \n",
       "\n",
       "     num_banos metros_construidos planta precio_por_area      estado  \\\n",
       "994         2                 110     1             3218  A estrenar   \n",
       "1188        2                  77    NaN            3862  A estrenar   \n",
       "1189        2                  77    NaN            3915  A estrenar   \n",
       "1190        2                  99    NaN            3736  A estrenar   \n",
       "1191        2                  99    NaN            3756  A estrenar   \n",
       "1360        2                  93     1             3446  A estrenar   \n",
       "1361        2                 107     1             3350  A estrenar   \n",
       "5619        2                  90     1             3100  A estrenar   \n",
       "5620        2                  90     1             3100  A estrenar   \n",
       "5621        2                  92     1             3119  A estrenar   \n",
       "5622        2                  92     1             3119  A estrenar   \n",
       "5623        2                  85    NaN            3683  A estrenar   \n",
       "5624        2                  85    NaN            3767  A estrenar   \n",
       "5625        2                  85    NaN            3876  A estrenar   \n",
       "5626        2                  84    NaN            4071  A estrenar   \n",
       "5627        2                 111     1             3117  A estrenar   \n",
       "5628        2                 111     1             3117  A estrenar   \n",
       "5629        2                 111     1             3126  A estrenar   \n",
       "5630        2                 111     1             3126  A estrenar   \n",
       "5631        2                 105    NaN            3330  A estrenar   \n",
       "5632        2                 105    NaN            3360  A estrenar   \n",
       "5633        2                 105    NaN            3374  A estrenar   \n",
       "5634        2                 102    NaN            3715  A estrenar   \n",
       "5635        2                 102    NaN            3735  A estrenar   \n",
       "5636        2                 113    NaN            3523  A estrenar   \n",
       "5947        2                 157    NaN            3171  A estrenar   \n",
       "5948        2                 157    NaN            3171  A estrenar   \n",
       "\n",
       "                                                                             url  \\\n",
       "994    https://www.pisos.com/comprar/piso-los_berrocales28052-4592114246_109700/   \n",
       "1188   https://www.pisos.com/comprar/piso-los_berrocales28031-4596004879_109700/   \n",
       "1189   https://www.pisos.com/comprar/piso-los_berrocales28031-4849665223_109700/   \n",
       "1190   https://www.pisos.com/comprar/piso-los_berrocales28031-4510709962_109700/   \n",
       "1191   https://www.pisos.com/comprar/piso-los_berrocales28031-4891530918_109700/   \n",
       "1360   https://www.pisos.com/comprar/piso-los_berrocales28031-3500496548_109700/   \n",
       "1361   https://www.pisos.com/comprar/piso-los_berrocales28031-4568166771_109700/   \n",
       "5619   https://www.pisos.com/comprar/piso-los_berrocales28031-4677433362_109700/   \n",
       "5620   https://www.pisos.com/comprar/piso-los_berrocales28031-4677433362_109700/   \n",
       "5621   https://www.pisos.com/comprar/piso-los_berrocales28031-4588865732_109700/   \n",
       "5622   https://www.pisos.com/comprar/piso-los_berrocales28031-4588865732_109700/   \n",
       "5623   https://www.pisos.com/comprar/piso-los_berrocales28031-4355464537_109700/   \n",
       "5624   https://www.pisos.com/comprar/piso-los_berrocales28031-4355464537_109700/   \n",
       "5625   https://www.pisos.com/comprar/piso-los_berrocales28031-4425541774_109700/   \n",
       "5626   https://www.pisos.com/comprar/piso-los_berrocales28031-4858266141_109700/   \n",
       "5627   https://www.pisos.com/comprar/piso-los_berrocales28031-4588216297_109700/   \n",
       "5628   https://www.pisos.com/comprar/piso-los_berrocales28031-4588216297_109700/   \n",
       "5629   https://www.pisos.com/comprar/piso-los_berrocales28031-4604682041_109700/   \n",
       "5630   https://www.pisos.com/comprar/piso-los_berrocales28031-4604682041_109700/   \n",
       "5631   https://www.pisos.com/comprar/piso-los_berrocales28031-4396532976_109700/   \n",
       "5632   https://www.pisos.com/comprar/piso-los_berrocales28031-4335511605_109700/   \n",
       "5633   https://www.pisos.com/comprar/piso-los_berrocales28031-4335511605_109700/   \n",
       "5634   https://www.pisos.com/comprar/piso-los_berrocales28031-4418412482_109700/   \n",
       "5635   https://www.pisos.com/comprar/piso-los_berrocales28031-4418412482_109700/   \n",
       "5636   https://www.pisos.com/comprar/piso-los_berrocales28031-4353985260_109700/   \n",
       "5947  https://www.pisos.com/comprar/atico-los_berrocales28031-4666816647_109700/   \n",
       "5948  https://www.pisos.com/comprar/atico-los_berrocales28031-4666816647_109700/   \n",
       "\n",
       "     fecha_descarga tipologia        web barrio cod_barrio    distrito  \\\n",
       "994      2024-10-19      Piso  pisos.com    NaN        NaN   Vicálvaro   \n",
       "1188     2024-08-19      Piso  pisos.com    NaN        NaN   Vicálvaro   \n",
       "1189     2024-10-19      Piso  pisos.com    NaN        NaN   Vicálvaro   \n",
       "1190     2024-08-19      Piso  pisos.com    NaN        NaN   Vicálvaro   \n",
       "1191     2024-10-19      Piso  pisos.com    NaN        NaN   Vicálvaro   \n",
       "1360     2024-08-19      Piso  pisos.com    NaN        NaN   Vicálvaro   \n",
       "1361     2024-08-19      Piso  pisos.com    NaN        NaN   Vicálvaro   \n",
       "5619     2024-08-19      Piso  pisos.com    NaN        NaN   Vicálvaro   \n",
       "5620     2024-10-19      Piso  pisos.com    NaN        NaN   Vicálvaro   \n",
       "5621     2024-08-19      Piso  pisos.com    NaN        NaN   Vicálvaro   \n",
       "5622     2024-10-19      Piso  pisos.com    NaN        NaN   Vicálvaro   \n",
       "5623     2024-08-19      Piso  pisos.com    NaN        NaN   Vicálvaro   \n",
       "5624     2024-10-19      Piso  pisos.com    NaN        NaN   Vicálvaro   \n",
       "5625     2024-08-19      Piso  pisos.com    NaN        NaN   Vicálvaro   \n",
       "5626     2024-10-19      Piso  pisos.com    NaN        NaN   Vicálvaro   \n",
       "5627     2024-08-19      Piso  pisos.com    NaN        NaN   Vicálvaro   \n",
       "5628     2024-10-19      Piso  pisos.com    NaN        NaN   Vicálvaro   \n",
       "5629     2024-08-19      Piso  pisos.com    NaN        NaN   Vicálvaro   \n",
       "5630     2024-10-19      Piso  pisos.com    NaN        NaN   Vicálvaro   \n",
       "5631     2024-08-19      Piso  pisos.com    NaN        NaN   Vicálvaro   \n",
       "5632     2024-08-19      Piso  pisos.com    NaN        NaN   Vicálvaro   \n",
       "5633     2024-10-19      Piso  pisos.com    NaN        NaN   Vicálvaro   \n",
       "5634     2024-08-19      Piso  pisos.com    NaN        NaN   Vicálvaro   \n",
       "5635     2024-10-19      Piso  pisos.com    NaN        NaN   Vicálvaro   \n",
       "5636     2024-10-19      Piso  pisos.com    NaN        NaN   Vicálvaro   \n",
       "5947     2024-08-19     Ático  pisos.com    NaN        NaN   Vicálvaro   \n",
       "5948     2024-10-19     Ático  pisos.com    NaN        NaN   Vicálvaro   \n",
       "\n",
       "     cod_distrito codigo_Postal  \n",
       "994            19           NaN  \n",
       "1188           19           NaN  \n",
       "1189           19           NaN  \n",
       "1190           19           NaN  \n",
       "1191           19           NaN  \n",
       "1360           19           NaN  \n",
       "1361           19           NaN  \n",
       "5619           19           NaN  \n",
       "5620           19           NaN  \n",
       "5621           19           NaN  \n",
       "5622           19           NaN  \n",
       "5623           19           NaN  \n",
       "5624           19           NaN  \n",
       "5625           19           NaN  \n",
       "5626           19           NaN  \n",
       "5627           19           NaN  \n",
       "5628           19           NaN  \n",
       "5629           19           NaN  \n",
       "5630           19           NaN  \n",
       "5631           19           NaN  \n",
       "5632           19           NaN  \n",
       "5633           19           NaN  \n",
       "5634           19           NaN  \n",
       "5635           19           NaN  \n",
       "5636           19           NaN  \n",
       "5947           19           NaN  \n",
       "5948           19           NaN  "
      ]
     },
     "execution_count": 693,
     "metadata": {},
     "output_type": "execute_result"
    }
   ],
   "source": [
    "df_pisos.query(\"cod_barrio.isnull()\")"
   ]
  },
  {
   "cell_type": "markdown",
   "metadata": {},
   "source": [
    "# Función para identificar el distrito\n",
    "def extraer_distrito(ubicacion, distritos_unicos):\n",
    "    for distrito in distritos_unicos:\n",
    "        if distrito in ubicacion:\n",
    "            return distrito\n",
    "    return np.nan  # Si no se encuentra un distrito\n",
    "\n",
    "# Aplicar la función a la columna 'ubicacion' y crear la nueva columna 'distrito'\n",
    "df_pisos['distrito'] = df_pisos['ubicacion'].apply(lambda x: extraer_distrito(x, distritos_unicos))\n",
    "df_pisos.head(2)\n"
   ]
  },
  {
   "cell_type": "markdown",
   "metadata": {},
   "source": [
    "# Función para identificar el barrio\n",
    "def extraer_barrio(ubicacion, barrios_unicos):\n",
    "    for barrio in barrios_unicos:\n",
    "        if barrio in ubicacion:\n",
    "            return barrio\n",
    "    return np.nan  # Si no se encuentra un barrio\n",
    "\n",
    "# Aplicar la función a la columna 'ubicacion' y crear la nueva columna 'barrio'\n",
    "df_pisos['barrio'] = df_pisos['ubicacion'].apply(lambda x: extraer_barrio(x, barrios_unicos))\n",
    "df_pisos.head(2)"
   ]
  },
  {
   "cell_type": "code",
   "execution_count": 694,
   "metadata": {},
   "outputs": [
    {
     "name": "stdout",
     "output_type": "stream",
     "text": [
      "<class 'pandas.core.frame.DataFrame'>\n",
      "RangeIndex: 5949 entries, 0 to 5948\n",
      "Data columns (total 18 columns):\n",
      " #   Column              Non-Null Count  Dtype         \n",
      "---  ------              --------------  -----         \n",
      " 0   title               5949 non-null   object        \n",
      " 1   ubicacion           5949 non-null   object        \n",
      " 2   precio              5949 non-null   object        \n",
      " 3   num_hab             5719 non-null   object        \n",
      " 4   num_banos           5609 non-null   object        \n",
      " 5   metros_construidos  5930 non-null   object        \n",
      " 6   planta              3368 non-null   object        \n",
      " 7   precio_por_area     5925 non-null   object        \n",
      " 8   estado              3642 non-null   object        \n",
      " 9   url                 5949 non-null   object        \n",
      " 10  fecha_descarga      5949 non-null   datetime64[ns]\n",
      " 11  tipologia           5949 non-null   object        \n",
      " 12  web                 5949 non-null   object        \n",
      " 13  barrio              5922 non-null   object        \n",
      " 14  cod_barrio          5922 non-null   object        \n",
      " 15  distrito            5949 non-null   object        \n",
      " 16  cod_distrito        5949 non-null   object        \n",
      " 17  codigo_Postal       5922 non-null   object        \n",
      "dtypes: datetime64[ns](1), object(17)\n",
      "memory usage: 836.7+ KB\n"
     ]
    }
   ],
   "source": [
    "df_pisos.info()"
   ]
  },
  {
   "cell_type": "code",
   "execution_count": 695,
   "metadata": {},
   "outputs": [],
   "source": [
    "df_pisos[\"distrito\"] = df_pisos[\"distrito\"].str.strip()\n"
   ]
  },
  {
   "cell_type": "code",
   "execution_count": 696,
   "metadata": {},
   "outputs": [
    {
     "data": {
      "text/plain": [
       "distrito\n",
       "Moratalaz                46\n",
       "Usera                    76\n",
       "Barajas                  83\n",
       "Villa de Vallecas        98\n",
       "Vicálvaro                99\n",
       "Villaverde              108\n",
       "Arganzuela              133\n",
       "Hortaleza               157\n",
       "Latina                  177\n",
       "San Blas-Canillejas     191\n",
       "Moncloa-Aravaca         220\n",
       "Ciudad Lineal           230\n",
       "Puente de Vallecas      241\n",
       "Fuencarral-El Pardo     257\n",
       "Retiro                  267\n",
       "Carabanchel             282\n",
       "Tetuán                  333\n",
       "Chamberí                380\n",
       "Chamartín               458\n",
       "Salamanca               992\n",
       "Centro                 1121\n",
       "Name: count, dtype: int64"
      ]
     },
     "execution_count": 696,
     "metadata": {},
     "output_type": "execute_result"
    }
   ],
   "source": [
    "distrito_count = df_pisos['distrito'].value_counts(ascending=True)\n",
    "distrito_count"
   ]
  },
  {
   "cell_type": "code",
   "execution_count": 697,
   "metadata": {},
   "outputs": [
    {
     "data": {
      "text/plain": [
       "barrio\n",
       "Valdebernardo      2\n",
       "Valderrivas        3\n",
       "Orcasur            3\n",
       "Pavones            4\n",
       "Vinateros          4\n",
       "                ... \n",
       "Palacio          210\n",
       "Castellana       247\n",
       "El Pardo         257\n",
       "Goya             293\n",
       "Universidad      302\n",
       "Name: count, Length: 123, dtype: int64"
      ]
     },
     "execution_count": 697,
     "metadata": {},
     "output_type": "execute_result"
    }
   ],
   "source": [
    "barrio_count = df_pisos['barrio'].value_counts(ascending=True)\n",
    "barrio_count"
   ]
  },
  {
   "cell_type": "code",
   "execution_count": 698,
   "metadata": {},
   "outputs": [],
   "source": [
    "# df_pisos['distrito'] = df_pisos['distrito'].fillna('desconocido').astype('category')\n",
    "# df_pisos['barrio'] = df_pisos['barrio'].fillna('desconocido').astype('category')\n",
    "# df_pisos.info()"
   ]
  },
  {
   "cell_type": "code",
   "execution_count": 699,
   "metadata": {},
   "outputs": [
    {
     "data": {
      "text/html": [
       "<div>\n",
       "<style scoped>\n",
       "    .dataframe tbody tr th:only-of-type {\n",
       "        vertical-align: middle;\n",
       "    }\n",
       "\n",
       "    .dataframe tbody tr th {\n",
       "        vertical-align: top;\n",
       "    }\n",
       "\n",
       "    .dataframe thead th {\n",
       "        text-align: right;\n",
       "    }\n",
       "</style>\n",
       "<table border=\"1\" class=\"dataframe\">\n",
       "  <thead>\n",
       "    <tr style=\"text-align: right;\">\n",
       "      <th></th>\n",
       "      <th>title</th>\n",
       "      <th>ubicacion</th>\n",
       "      <th>precio</th>\n",
       "      <th>num_hab</th>\n",
       "      <th>num_banos</th>\n",
       "      <th>metros_construidos</th>\n",
       "      <th>planta</th>\n",
       "      <th>precio_por_area</th>\n",
       "      <th>estado</th>\n",
       "      <th>url</th>\n",
       "      <th>fecha_descarga</th>\n",
       "      <th>tipologia</th>\n",
       "      <th>web</th>\n",
       "      <th>barrio</th>\n",
       "      <th>cod_barrio</th>\n",
       "      <th>distrito</th>\n",
       "      <th>cod_distrito</th>\n",
       "      <th>codigo_Postal</th>\n",
       "    </tr>\n",
       "  </thead>\n",
       "  <tbody>\n",
       "    <tr>\n",
       "      <th>0</th>\n",
       "      <td>Apartamento en venta en A Tan Solo Metros del Teatro de La Latina</td>\n",
       "      <td>Palacio (Distrito Centro. Madrid Capital)</td>\n",
       "      <td>250000</td>\n",
       "      <td>1</td>\n",
       "      <td>1</td>\n",
       "      <td>39</td>\n",
       "      <td>5</td>\n",
       "      <td>6410</td>\n",
       "      <td>NaN</td>\n",
       "      <td>https://www.pisos.com/comprar/apartamento-centro_palacio28005-47597559176_109100/</td>\n",
       "      <td>2024-10-19</td>\n",
       "      <td>Apartamento</td>\n",
       "      <td>pisos.com</td>\n",
       "      <td>Palacio</td>\n",
       "      <td>11</td>\n",
       "      <td>Centro</td>\n",
       "      <td>1</td>\n",
       "      <td>28013</td>\n",
       "    </tr>\n",
       "    <tr>\n",
       "      <th>1</th>\n",
       "      <td>Apartamento en venta en Apóstol Santiago</td>\n",
       "      <td>Apóstol Santiago (Distrito Hortaleza. Madrid Capital)</td>\n",
       "      <td>420000</td>\n",
       "      <td>2</td>\n",
       "      <td>1</td>\n",
       "      <td>73</td>\n",
       "      <td>NaN</td>\n",
       "      <td>5753</td>\n",
       "      <td>NaN</td>\n",
       "      <td>https://www.pisos.com/comprar/apartamento-apostol_santiago-41696859245_101800/</td>\n",
       "      <td>2024-10-19</td>\n",
       "      <td>Apartamento</td>\n",
       "      <td>pisos.com</td>\n",
       "      <td>Apostol Santiago</td>\n",
       "      <td>165</td>\n",
       "      <td>Hortaleza</td>\n",
       "      <td>16</td>\n",
       "      <td>28033</td>\n",
       "    </tr>\n",
       "    <tr>\n",
       "      <th>2</th>\n",
       "      <td>Apartamento en venta en Argüelles</td>\n",
       "      <td>Argüelles (Distrito Moncloa-Aravaca. Madrid Capital)</td>\n",
       "      <td>3990000</td>\n",
       "      <td>8</td>\n",
       "      <td>4</td>\n",
       "      <td>372</td>\n",
       "      <td>NaN</td>\n",
       "      <td>10725</td>\n",
       "      <td>NaN</td>\n",
       "      <td>https://www.pisos.com/comprar/apartamento-moncloa_aravaca_arguelles28008-48334738432_101800/</td>\n",
       "      <td>2024-10-19</td>\n",
       "      <td>Apartamento</td>\n",
       "      <td>pisos.com</td>\n",
       "      <td>Argüelles</td>\n",
       "      <td>92</td>\n",
       "      <td>Moncloa-Aravaca</td>\n",
       "      <td>9</td>\n",
       "      <td>28008</td>\n",
       "    </tr>\n",
       "    <tr>\n",
       "      <th>3</th>\n",
       "      <td>Apartamento en venta en Argüelles</td>\n",
       "      <td>Argüelles (Distrito Moncloa-Aravaca. Madrid Capital)</td>\n",
       "      <td>515000</td>\n",
       "      <td>2</td>\n",
       "      <td>1</td>\n",
       "      <td>75</td>\n",
       "      <td>NaN</td>\n",
       "      <td>6866</td>\n",
       "      <td>NaN</td>\n",
       "      <td>https://www.pisos.com/comprar/apartamento-moncloa_aravaca_arguelles28008-48429886093_101800/</td>\n",
       "      <td>2024-10-19</td>\n",
       "      <td>Apartamento</td>\n",
       "      <td>pisos.com</td>\n",
       "      <td>Argüelles</td>\n",
       "      <td>92</td>\n",
       "      <td>Moncloa-Aravaca</td>\n",
       "      <td>9</td>\n",
       "      <td>28008</td>\n",
       "    </tr>\n",
       "    <tr>\n",
       "      <th>4</th>\n",
       "      <td>Apartamento en venta en Atalaya</td>\n",
       "      <td>Atalaya (Distrito Ciudad Lineal. Madrid Capital)</td>\n",
       "      <td>1220000</td>\n",
       "      <td>5</td>\n",
       "      <td>3</td>\n",
       "      <td>331</td>\n",
       "      <td>NaN</td>\n",
       "      <td>3685</td>\n",
       "      <td>NaN</td>\n",
       "      <td>https://www.pisos.com/comprar/apartamento-ciudad_lineal_atalaya-43413667133_101800/</td>\n",
       "      <td>2024-10-19</td>\n",
       "      <td>Apartamento</td>\n",
       "      <td>pisos.com</td>\n",
       "      <td>Atalaya</td>\n",
       "      <td>158</td>\n",
       "      <td>Ciudad Lineal</td>\n",
       "      <td>15</td>\n",
       "      <td>28027</td>\n",
       "    </tr>\n",
       "  </tbody>\n",
       "</table>\n",
       "</div>"
      ],
      "text/plain": [
       "                                                               title  \\\n",
       "0  Apartamento en venta en A Tan Solo Metros del Teatro de La Latina   \n",
       "1                           Apartamento en venta en Apóstol Santiago   \n",
       "2                                  Apartamento en venta en Argüelles   \n",
       "3                                  Apartamento en venta en Argüelles   \n",
       "4                                    Apartamento en venta en Atalaya   \n",
       "\n",
       "                                               ubicacion   precio num_hab  \\\n",
       "0              Palacio (Distrito Centro. Madrid Capital)   250000       1   \n",
       "1  Apóstol Santiago (Distrito Hortaleza. Madrid Capital)   420000       2   \n",
       "2   Argüelles (Distrito Moncloa-Aravaca. Madrid Capital)  3990000       8   \n",
       "3   Argüelles (Distrito Moncloa-Aravaca. Madrid Capital)   515000       2   \n",
       "4       Atalaya (Distrito Ciudad Lineal. Madrid Capital)  1220000       5   \n",
       "\n",
       "  num_banos metros_construidos planta precio_por_area estado  \\\n",
       "0        1                  39     5             6410    NaN   \n",
       "1        1                  73    NaN            5753    NaN   \n",
       "2        4                 372    NaN           10725    NaN   \n",
       "3        1                  75    NaN            6866    NaN   \n",
       "4        3                 331    NaN            3685    NaN   \n",
       "\n",
       "                                                                                            url  \\\n",
       "0             https://www.pisos.com/comprar/apartamento-centro_palacio28005-47597559176_109100/   \n",
       "1                https://www.pisos.com/comprar/apartamento-apostol_santiago-41696859245_101800/   \n",
       "2  https://www.pisos.com/comprar/apartamento-moncloa_aravaca_arguelles28008-48334738432_101800/   \n",
       "3  https://www.pisos.com/comprar/apartamento-moncloa_aravaca_arguelles28008-48429886093_101800/   \n",
       "4           https://www.pisos.com/comprar/apartamento-ciudad_lineal_atalaya-43413667133_101800/   \n",
       "\n",
       "  fecha_descarga    tipologia        web            barrio cod_barrio  \\\n",
       "0     2024-10-19  Apartamento  pisos.com           Palacio         11   \n",
       "1     2024-10-19  Apartamento  pisos.com  Apostol Santiago        165   \n",
       "2     2024-10-19  Apartamento  pisos.com         Argüelles         92   \n",
       "3     2024-10-19  Apartamento  pisos.com         Argüelles         92   \n",
       "4     2024-10-19  Apartamento  pisos.com           Atalaya        158   \n",
       "\n",
       "          distrito cod_distrito codigo_Postal  \n",
       "0           Centro            1         28013  \n",
       "1        Hortaleza           16         28033  \n",
       "2  Moncloa-Aravaca            9         28008  \n",
       "3  Moncloa-Aravaca            9         28008  \n",
       "4    Ciudad Lineal           15         28027  "
      ]
     },
     "execution_count": 699,
     "metadata": {},
     "output_type": "execute_result"
    }
   ],
   "source": [
    "# Ajustar pandas para mostrar contenido completo\n",
    "pd.set_option('display.max_colwidth', None)\n",
    "df_pisos.head()"
   ]
  },
  {
   "cell_type": "code",
   "execution_count": 700,
   "metadata": {},
   "outputs": [
    {
     "data": {
      "text/plain": [
       "(5949, 18)"
      ]
     },
     "execution_count": 700,
     "metadata": {},
     "output_type": "execute_result"
    }
   ],
   "source": [
    "df_pisos.shape\n",
    "# (5949, 15)"
   ]
  },
  {
   "cell_type": "code",
   "execution_count": 701,
   "metadata": {},
   "outputs": [],
   "source": [
    "#df_barrios = pd.read_csv('/Users/AleVC/Library/CloudStorage/GoogleDrive-ale.vaquero.c@gmail.com/My Drive/Nuclio/Máster en Data Science/TFM/Datos-adicionales/Datos-limpios/distritos-y-barrios-limpio.csv')\n",
    "#df_barrios.head()"
   ]
  },
  {
   "cell_type": "markdown",
   "metadata": {},
   "source": [
    "df_pisos = pd.merge(df_pisos, df_barrios, on=['barrio', 'distrito'], how='left')\n",
    "df_pisos.shape\n",
    "# (5949, 17)"
   ]
  },
  {
   "cell_type": "markdown",
   "metadata": {},
   "source": [
    "df_pisos.head(1)"
   ]
  },
  {
   "cell_type": "markdown",
   "metadata": {},
   "source": [
    "## COLUMNAS DE DF PISOS"
   ]
  },
  {
   "cell_type": "markdown",
   "metadata": {},
   "source": [
    "### ASIGNAR COLUMNAS NUEVAS PARA EL FUTURO MERGE CON DF DETALLES"
   ]
  },
  {
   "cell_type": "code",
   "execution_count": 702,
   "metadata": {},
   "outputs": [
    {
     "name": "stdout",
     "output_type": "stream",
     "text": [
      "<class 'pandas.core.frame.DataFrame'>\n",
      "RangeIndex: 5949 entries, 0 to 5948\n",
      "Data columns (total 18 columns):\n",
      " #   Column          Non-Null Count  Dtype         \n",
      "---  ------          --------------  -----         \n",
      " 0   title           5949 non-null   object        \n",
      " 1   ubicacion       5949 non-null   object        \n",
      " 2   precio          5949 non-null   object        \n",
      " 3   habitaciones    5719 non-null   object        \n",
      " 4   banos           5609 non-null   object        \n",
      " 5   m2_constr       5930 non-null   object        \n",
      " 6   planta          3368 non-null   object        \n",
      " 7   EUR/m2          5925 non-null   object        \n",
      " 8   estado          3642 non-null   object        \n",
      " 9   url             5949 non-null   object        \n",
      " 10  fecha_descarga  5949 non-null   datetime64[ns]\n",
      " 11  tipologia       5949 non-null   object        \n",
      " 12  web             5949 non-null   object        \n",
      " 13  barrio          5922 non-null   object        \n",
      " 14  cod_barrio      5922 non-null   object        \n",
      " 15  distrito        5949 non-null   object        \n",
      " 16  cod_distrito    5949 non-null   object        \n",
      " 17  codigo_Postal   5922 non-null   object        \n",
      "dtypes: datetime64[ns](1), object(17)\n",
      "memory usage: 836.7+ KB\n"
     ]
    }
   ],
   "source": [
    "df_pisos.rename(columns={'num_hab': 'habitaciones', 'num_banos': 'banos', 'metros_construidos': 'm2_constr', 'precio_por_area': 'EUR/m2'}, inplace=True)\n",
    "df_pisos.info()"
   ]
  },
  {
   "cell_type": "code",
   "execution_count": 703,
   "metadata": {},
   "outputs": [
    {
     "data": {
      "text/plain": [
       "1213"
      ]
     },
     "execution_count": 703,
     "metadata": {},
     "output_type": "execute_result"
    }
   ],
   "source": [
    " df_pisos['url'].duplicated().sum()\n",
    "\n",
    "# 1213"
   ]
  },
  {
   "cell_type": "code",
   "execution_count": 704,
   "metadata": {},
   "outputs": [
    {
     "data": {
      "text/plain": [
       "(4736, 18)"
      ]
     },
     "execution_count": 704,
     "metadata": {},
     "output_type": "execute_result"
    }
   ],
   "source": [
    "df_pisos = df_pisos.drop_duplicates(subset=['url'])\n",
    "df_pisos.shape\n",
    "# (4736, 17)"
   ]
  },
  {
   "cell_type": "code",
   "execution_count": 705,
   "metadata": {},
   "outputs": [
    {
     "data": {
      "text/plain": [
       "Index(['title', 'ubicacion', 'precio', 'habitaciones', 'banos', 'm2_constr',\n",
       "       'planta', 'EUR/m2', 'estado', 'url', 'fecha_descarga', 'tipologia',\n",
       "       'web', 'barrio', 'cod_barrio', 'distrito', 'cod_distrito',\n",
       "       'codigo_Postal'],\n",
       "      dtype='object')"
      ]
     },
     "execution_count": 705,
     "metadata": {},
     "output_type": "execute_result"
    }
   ],
   "source": [
    "df_pisos.columns"
   ]
  },
  {
   "cell_type": "code",
   "execution_count": 706,
   "metadata": {},
   "outputs": [
    {
     "data": {
      "text/plain": [
       "m2_constr\n",
       "70     82\n",
       "60     67\n",
       "80     67\n",
       "90     65\n",
       "120    61\n",
       "       ..\n",
       "352     1\n",
       "575     1\n",
       "750     1\n",
       "365     1\n",
       "518     1\n",
       "Name: count, Length: 474, dtype: int64"
      ]
     },
     "execution_count": 706,
     "metadata": {},
     "output_type": "execute_result"
    }
   ],
   "source": [
    "df_pisos['m2_constr'].value_counts(dropna=False)"
   ]
  },
  {
   "cell_type": "code",
   "execution_count": 707,
   "metadata": {},
   "outputs": [
    {
     "name": "stdout",
     "output_type": "stream",
     "text": [
      "<class 'pandas.core.frame.DataFrame'>\n",
      "Index: 4736 entries, 0 to 5947\n",
      "Data columns (total 18 columns):\n",
      " #   Column          Non-Null Count  Dtype         \n",
      "---  ------          --------------  -----         \n",
      " 0   title           4736 non-null   object        \n",
      " 1   ubicacion       4736 non-null   object        \n",
      " 2   precio          4736 non-null   object        \n",
      " 3   habitaciones    4546 non-null   object        \n",
      " 4   banos           4471 non-null   object        \n",
      " 5   m2_constr       4723 non-null   object        \n",
      " 6   planta          2739 non-null   object        \n",
      " 7   EUR/m2          4719 non-null   object        \n",
      " 8   estado          2934 non-null   object        \n",
      " 9   url             4736 non-null   object        \n",
      " 10  fecha_descarga  4736 non-null   datetime64[ns]\n",
      " 11  tipologia       4736 non-null   object        \n",
      " 12  web             4736 non-null   object        \n",
      " 13  barrio          4717 non-null   object        \n",
      " 14  cod_barrio      4717 non-null   object        \n",
      " 15  distrito        4736 non-null   object        \n",
      " 16  cod_distrito    4736 non-null   object        \n",
      " 17  codigo_Postal   4717 non-null   object        \n",
      "dtypes: datetime64[ns](1), object(17)\n",
      "memory usage: 703.0+ KB\n"
     ]
    }
   ],
   "source": [
    "df_pisos.info()"
   ]
  },
  {
   "cell_type": "code",
   "execution_count": 708,
   "metadata": {},
   "outputs": [
    {
     "data": {
      "text/plain": [
       "count       4736\n",
       "unique      1091\n",
       "top       829000\n",
       "freq          38\n",
       "Name: precio, dtype: object"
      ]
     },
     "execution_count": 708,
     "metadata": {},
     "output_type": "execute_result"
    }
   ],
   "source": [
    "df_pisos[\"precio\"].describe()"
   ]
  },
  {
   "cell_type": "code",
   "execution_count": 709,
   "metadata": {},
   "outputs": [
    {
     "data": {
      "text/plain": [
       "precio\n",
       "829000     38\n",
       "859000     35\n",
       "650000     34\n",
       "950000     34\n",
       "1200000    31\n",
       "           ..\n",
       "412000      1\n",
       "1475000     1\n",
       "336000      1\n",
       "638000      1\n",
       "498000      1\n",
       "Name: count, Length: 1091, dtype: int64"
      ]
     },
     "execution_count": 709,
     "metadata": {},
     "output_type": "execute_result"
    }
   ],
   "source": [
    "df_pisos[\"precio\"].value_counts(dropna=False)"
   ]
  },
  {
   "cell_type": "code",
   "execution_count": 710,
   "metadata": {},
   "outputs": [
    {
     "data": {
      "text/html": [
       "<div>\n",
       "<style scoped>\n",
       "    .dataframe tbody tr th:only-of-type {\n",
       "        vertical-align: middle;\n",
       "    }\n",
       "\n",
       "    .dataframe tbody tr th {\n",
       "        vertical-align: top;\n",
       "    }\n",
       "\n",
       "    .dataframe thead th {\n",
       "        text-align: right;\n",
       "    }\n",
       "</style>\n",
       "<table border=\"1\" class=\"dataframe\">\n",
       "  <thead>\n",
       "    <tr style=\"text-align: right;\">\n",
       "      <th></th>\n",
       "      <th>title</th>\n",
       "      <th>ubicacion</th>\n",
       "      <th>precio</th>\n",
       "      <th>habitaciones</th>\n",
       "      <th>banos</th>\n",
       "      <th>m2_constr</th>\n",
       "      <th>planta</th>\n",
       "      <th>EUR/m2</th>\n",
       "      <th>estado</th>\n",
       "      <th>url</th>\n",
       "      <th>fecha_descarga</th>\n",
       "      <th>tipologia</th>\n",
       "      <th>web</th>\n",
       "      <th>barrio</th>\n",
       "      <th>cod_barrio</th>\n",
       "      <th>distrito</th>\n",
       "      <th>cod_distrito</th>\n",
       "      <th>codigo_Postal</th>\n",
       "    </tr>\n",
       "  </thead>\n",
       "  <tbody>\n",
       "    <tr>\n",
       "      <th>683</th>\n",
       "      <td>Estudio en venta en Calle de Camarillas, 4</td>\n",
       "      <td>Casco Histórico de Barajas (Distrito Barajas. Madrid Capital)</td>\n",
       "      <td></td>\n",
       "      <td>1</td>\n",
       "      <td>1</td>\n",
       "      <td>50</td>\n",
       "      <td>NaN</td>\n",
       "      <td>NaN</td>\n",
       "      <td>En buen estado</td>\n",
       "      <td>https://www.pisos.com/comprar/estudio-casco_historico_de_barajas-46742905658_521139/</td>\n",
       "      <td>2024-08-19</td>\n",
       "      <td>Estudio</td>\n",
       "      <td>pisos.com</td>\n",
       "      <td>Casco Histórico de Barajas</td>\n",
       "      <td>213</td>\n",
       "      <td>Barajas</td>\n",
       "      <td>21</td>\n",
       "      <td>28042</td>\n",
       "    </tr>\n",
       "    <tr>\n",
       "      <th>767</th>\n",
       "      <td>Finca rústica en venta en Amposta</td>\n",
       "      <td>Pueblo Nuevo (Distrito Ciudad Lineal. Madrid Capital)</td>\n",
       "      <td></td>\n",
       "      <td>NaN</td>\n",
       "      <td>NaN</td>\n",
       "      <td>NaN</td>\n",
       "      <td>NaN</td>\n",
       "      <td>NaN</td>\n",
       "      <td>NaN</td>\n",
       "      <td>https://www.pisos.com/comprar/finca_rustica-ciudad_lineal_pueblo_nuevo28017-39190283168_100500/</td>\n",
       "      <td>2024-10-19</td>\n",
       "      <td>Finca</td>\n",
       "      <td>pisos.com</td>\n",
       "      <td>Pueblo Nuevo</td>\n",
       "      <td>152</td>\n",
       "      <td>Ciudad Lineal</td>\n",
       "      <td>15</td>\n",
       "      <td>28017</td>\n",
       "    </tr>\n",
       "    <tr>\n",
       "      <th>1248</th>\n",
       "      <td>Piso en venta en Calle Doctor Esquerdo, cerca de Paseo del Marqués de Zafra</td>\n",
       "      <td>Adelfas (Distrito Retiro. Madrid Capital)</td>\n",
       "      <td></td>\n",
       "      <td>1</td>\n",
       "      <td>1</td>\n",
       "      <td>55</td>\n",
       "      <td>3</td>\n",
       "      <td>NaN</td>\n",
       "      <td>En buen estado</td>\n",
       "      <td>https://www.pisos.com/comprar/piso-adelfas28007-40845633641_526615/</td>\n",
       "      <td>2024-08-19</td>\n",
       "      <td>Piso</td>\n",
       "      <td>pisos.com</td>\n",
       "      <td>Adelfas</td>\n",
       "      <td>32</td>\n",
       "      <td>Retiro</td>\n",
       "      <td>3</td>\n",
       "      <td>28007</td>\n",
       "    </tr>\n",
       "    <tr>\n",
       "      <th>3535</th>\n",
       "      <td>Piso en venta en Calle del Real Betis, 11</td>\n",
       "      <td>Puerta Bonita (Distrito Carabanchel. Madrid Capital)</td>\n",
       "      <td></td>\n",
       "      <td>3</td>\n",
       "      <td>2</td>\n",
       "      <td>104</td>\n",
       "      <td>1</td>\n",
       "      <td>NaN</td>\n",
       "      <td>A estrenar</td>\n",
       "      <td>https://www.pisos.com/comprar/piso-puerta_bonita28025-4281208855_109700/</td>\n",
       "      <td>2024-08-19</td>\n",
       "      <td>Piso</td>\n",
       "      <td>pisos.com</td>\n",
       "      <td>Puerta Bonita</td>\n",
       "      <td>115</td>\n",
       "      <td>Carabanchel</td>\n",
       "      <td>11</td>\n",
       "      <td>28025</td>\n",
       "    </tr>\n",
       "    <tr>\n",
       "      <th>5731</th>\n",
       "      <td>Ático en venta en Calle de Aquitania, s/n</td>\n",
       "      <td>Arcos (Distrito San Blas. Madrid Capital)</td>\n",
       "      <td></td>\n",
       "      <td>1</td>\n",
       "      <td>1</td>\n",
       "      <td>69</td>\n",
       "      <td>NaN</td>\n",
       "      <td>NaN</td>\n",
       "      <td>A estrenar</td>\n",
       "      <td>https://www.pisos.com/comprar/atico-arcos28032-4535639357_109700/</td>\n",
       "      <td>2024-08-19</td>\n",
       "      <td>Ático</td>\n",
       "      <td>pisos.com</td>\n",
       "      <td>Arcos</td>\n",
       "      <td>204</td>\n",
       "      <td>San Blas-Canillejas</td>\n",
       "      <td>20</td>\n",
       "      <td>28037</td>\n",
       "    </tr>\n",
       "  </tbody>\n",
       "</table>\n",
       "</div>"
      ],
      "text/plain": [
       "                                                                            title  \\\n",
       "683                                    Estudio en venta en Calle de Camarillas, 4   \n",
       "767                                             Finca rústica en venta en Amposta   \n",
       "1248  Piso en venta en Calle Doctor Esquerdo, cerca de Paseo del Marqués de Zafra   \n",
       "3535                                    Piso en venta en Calle del Real Betis, 11   \n",
       "5731                                    Ático en venta en Calle de Aquitania, s/n   \n",
       "\n",
       "                                                          ubicacion precio  \\\n",
       "683   Casco Histórico de Barajas (Distrito Barajas. Madrid Capital)          \n",
       "767           Pueblo Nuevo (Distrito Ciudad Lineal. Madrid Capital)          \n",
       "1248                      Adelfas (Distrito Retiro. Madrid Capital)          \n",
       "3535           Puerta Bonita (Distrito Carabanchel. Madrid Capital)          \n",
       "5731                      Arcos (Distrito San Blas. Madrid Capital)          \n",
       "\n",
       "     habitaciones banos m2_constr planta EUR/m2          estado  \\\n",
       "683             1    1         50    NaN    NaN  En buen estado   \n",
       "767           NaN   NaN       NaN    NaN    NaN             NaN   \n",
       "1248            1    1         55     3     NaN  En buen estado   \n",
       "3535            3    2        104     1     NaN      A estrenar   \n",
       "5731            1    1         69    NaN    NaN      A estrenar   \n",
       "\n",
       "                                                                                                  url  \\\n",
       "683              https://www.pisos.com/comprar/estudio-casco_historico_de_barajas-46742905658_521139/   \n",
       "767   https://www.pisos.com/comprar/finca_rustica-ciudad_lineal_pueblo_nuevo28017-39190283168_100500/   \n",
       "1248                              https://www.pisos.com/comprar/piso-adelfas28007-40845633641_526615/   \n",
       "3535                         https://www.pisos.com/comprar/piso-puerta_bonita28025-4281208855_109700/   \n",
       "5731                                https://www.pisos.com/comprar/atico-arcos28032-4535639357_109700/   \n",
       "\n",
       "     fecha_descarga tipologia        web                      barrio  \\\n",
       "683      2024-08-19   Estudio  pisos.com  Casco Histórico de Barajas   \n",
       "767      2024-10-19     Finca  pisos.com                Pueblo Nuevo   \n",
       "1248     2024-08-19      Piso  pisos.com                     Adelfas   \n",
       "3535     2024-08-19      Piso  pisos.com               Puerta Bonita   \n",
       "5731     2024-08-19     Ático  pisos.com                       Arcos   \n",
       "\n",
       "     cod_barrio             distrito cod_distrito codigo_Postal  \n",
       "683         213              Barajas           21         28042  \n",
       "767         152        Ciudad Lineal           15         28017  \n",
       "1248         32               Retiro            3         28007  \n",
       "3535        115          Carabanchel           11         28025  \n",
       "5731        204  San Blas-Canillejas           20         28037  "
      ]
     },
     "execution_count": 710,
     "metadata": {},
     "output_type": "execute_result"
    }
   ],
   "source": [
    "df_pisos.query(\"precio==''\")"
   ]
  },
  {
   "cell_type": "code",
   "execution_count": 711,
   "metadata": {},
   "outputs": [],
   "source": [
    "#elimino los pisoso que no tienen precio"
   ]
  },
  {
   "cell_type": "code",
   "execution_count": 712,
   "metadata": {},
   "outputs": [
    {
     "data": {
      "text/plain": [
       "(4736, 18)"
      ]
     },
     "execution_count": 712,
     "metadata": {},
     "output_type": "execute_result"
    }
   ],
   "source": [
    "df_pisos.shape"
   ]
  },
  {
   "cell_type": "code",
   "execution_count": 713,
   "metadata": {},
   "outputs": [],
   "source": [
    "# Eliminar las filas donde 'precio' es una cadena vacía\n",
    "df_pisos = df_pisos[df_pisos['precio'] != '']"
   ]
  },
  {
   "cell_type": "code",
   "execution_count": 714,
   "metadata": {},
   "outputs": [
    {
     "data": {
      "text/plain": [
       "(4731, 18)"
      ]
     },
     "execution_count": 714,
     "metadata": {},
     "output_type": "execute_result"
    }
   ],
   "source": [
    "df_pisos.shape"
   ]
  },
  {
   "cell_type": "code",
   "execution_count": 715,
   "metadata": {},
   "outputs": [],
   "source": [
    "df_pisos[\"precio\"]=df_pisos[\"precio\"].astype(float)"
   ]
  },
  {
   "cell_type": "code",
   "execution_count": 716,
   "metadata": {},
   "outputs": [],
   "source": [
    "#convertir a float"
   ]
  },
  {
   "cell_type": "code",
   "execution_count": 729,
   "metadata": {},
   "outputs": [],
   "source": [
    "df_pisos.loc[df_pisos['title'].str.contains('Chalet en venta en Calle de Pléyades, s/n'), ['calle','m2_constr','habitaciones','banos']] = ['Calle de Pléyades',513,5,6]\n",
    "\n",
    "df_pisos.loc[df_pisos['url'].str.contains('https://www.pisos.com/comprar/piso-latina_aluche28047-4568954085_109700/'), ['calle','m2_constr','planta']] = ['Calle de Camarena',153,0]\n",
    "df_pisos.loc[df_pisos['url'].str.contains('https://www.pisos.com/comprar/piso-latina_aluche28047-4505819831_109700/'), ['calle','m2_constr','planta']] = ['Calle de Camarena',107,1]\n",
    "df_pisos.loc[df_pisos['url'].str.contains('https://www.pisos.com/comprar/piso-latina_aluche28047-4696641924_109700/'), ['calle','m2_constr','planta']] = ['Calle de Camarena',120,2]\n",
    "df_pisos.loc[df_pisos['url'].str.contains('https://www.pisos.com/comprar/piso-latina_aluche28047-4715872594_109700/'), ['calle','m2_constr','planta']] = ['Calle de Camarena',120,2]\n",
    "df_pisos.loc[df_pisos['url'].str.contains('https://www.pisos.com/comprar/atico-latina_aluche28047-4826295847_109700/'), ['calle','m2_constr']] = ['Calle de Camarena',123]"
   ]
  },
  {
   "cell_type": "code",
   "execution_count": 730,
   "metadata": {},
   "outputs": [
    {
     "data": {
      "text/html": [
       "<div>\n",
       "<style scoped>\n",
       "    .dataframe tbody tr th:only-of-type {\n",
       "        vertical-align: middle;\n",
       "    }\n",
       "\n",
       "    .dataframe tbody tr th {\n",
       "        vertical-align: top;\n",
       "    }\n",
       "\n",
       "    .dataframe thead th {\n",
       "        text-align: right;\n",
       "    }\n",
       "</style>\n",
       "<table border=\"1\" class=\"dataframe\">\n",
       "  <thead>\n",
       "    <tr style=\"text-align: right;\">\n",
       "      <th></th>\n",
       "      <th>title</th>\n",
       "      <th>ubicacion</th>\n",
       "      <th>precio</th>\n",
       "      <th>habitaciones</th>\n",
       "      <th>banos</th>\n",
       "      <th>m2_constr</th>\n",
       "      <th>planta</th>\n",
       "      <th>EUR/m2</th>\n",
       "      <th>estado</th>\n",
       "      <th>url</th>\n",
       "      <th>fecha_descarga</th>\n",
       "      <th>tipologia</th>\n",
       "      <th>web</th>\n",
       "      <th>barrio</th>\n",
       "      <th>cod_barrio</th>\n",
       "      <th>distrito</th>\n",
       "      <th>cod_distrito</th>\n",
       "      <th>codigo_Postal</th>\n",
       "      <th>calle</th>\n",
       "    </tr>\n",
       "  </thead>\n",
       "  <tbody>\n",
       "    <tr>\n",
       "      <th>2622</th>\n",
       "      <td>Piso en venta en Calle de Ribadavia</td>\n",
       "      <td>Pilar (Distrito Fuencarral-El Pardo. Madrid Capital)</td>\n",
       "      <td>357500.0</td>\n",
       "      <td>4</td>\n",
       "      <td>2</td>\n",
       "      <td>NaN</td>\n",
       "      <td>1</td>\n",
       "      <td>NaN</td>\n",
       "      <td>NaN</td>\n",
       "      <td>https://www.pisos.com/comprar/piso-pilar28029-41728621605_106000/</td>\n",
       "      <td>2024-08-19</td>\n",
       "      <td>Piso</td>\n",
       "      <td>pisos.com</td>\n",
       "      <td>El Pardo</td>\n",
       "      <td>81</td>\n",
       "      <td>Fuencarral-El Pardo</td>\n",
       "      <td>8</td>\n",
       "      <td>28048</td>\n",
       "      <td>NaN</td>\n",
       "    </tr>\n",
       "    <tr>\n",
       "      <th>4499</th>\n",
       "      <td>Piso en venta en Madrid</td>\n",
       "      <td>Fontarrón (Distrito Moratalaz. Madrid Capital)</td>\n",
       "      <td>599000.0</td>\n",
       "      <td>NaN</td>\n",
       "      <td>NaN</td>\n",
       "      <td>NaN</td>\n",
       "      <td>NaN</td>\n",
       "      <td>NaN</td>\n",
       "      <td>NaN</td>\n",
       "      <td>https://www.pisos.com/comprar/piso-fontarron-47524209698_100600/</td>\n",
       "      <td>2024-10-19</td>\n",
       "      <td>Piso</td>\n",
       "      <td>pisos.com</td>\n",
       "      <td>Fontarrón</td>\n",
       "      <td>145</td>\n",
       "      <td>Moratalaz</td>\n",
       "      <td>14</td>\n",
       "      <td>28030</td>\n",
       "      <td>NaN</td>\n",
       "    </tr>\n",
       "  </tbody>\n",
       "</table>\n",
       "</div>"
      ],
      "text/plain": [
       "                                    title  \\\n",
       "2622  Piso en venta en Calle de Ribadavia   \n",
       "4499              Piso en venta en Madrid   \n",
       "\n",
       "                                                 ubicacion    precio  \\\n",
       "2622  Pilar (Distrito Fuencarral-El Pardo. Madrid Capital)  357500.0   \n",
       "4499        Fontarrón (Distrito Moratalaz. Madrid Capital)  599000.0   \n",
       "\n",
       "     habitaciones banos m2_constr planta EUR/m2 estado  \\\n",
       "2622            4    2        NaN     1     NaN    NaN   \n",
       "4499          NaN   NaN       NaN    NaN    NaN    NaN   \n",
       "\n",
       "                                                                    url  \\\n",
       "2622  https://www.pisos.com/comprar/piso-pilar28029-41728621605_106000/   \n",
       "4499   https://www.pisos.com/comprar/piso-fontarron-47524209698_100600/   \n",
       "\n",
       "     fecha_descarga tipologia        web     barrio cod_barrio  \\\n",
       "2622     2024-08-19      Piso  pisos.com   El Pardo         81   \n",
       "4499     2024-10-19      Piso  pisos.com  Fontarrón        145   \n",
       "\n",
       "                 distrito cod_distrito codigo_Postal calle  \n",
       "2622  Fuencarral-El Pardo            8         28048   NaN  \n",
       "4499            Moratalaz           14         28030   NaN  "
      ]
     },
     "execution_count": 730,
     "metadata": {},
     "output_type": "execute_result"
    }
   ],
   "source": [
    "df_pisos.query(\"m2_constr.isnull()\")"
   ]
  },
  {
   "cell_type": "code",
   "execution_count": 731,
   "metadata": {},
   "outputs": [],
   "source": [
    "# Guardar el DataFrame como un archivo CSV con delimitador punto y coma\n",
    "df_pisos.to_csv('pisoscom_limpio.csv', sep=';', index=False)"
   ]
  }
 ],
 "metadata": {
  "kernelspec": {
   "display_name": "Nuclio",
   "language": "python",
   "name": "python3"
  },
  "language_info": {
   "codemirror_mode": {
    "name": "ipython",
    "version": 3
   },
   "file_extension": ".py",
   "mimetype": "text/x-python",
   "name": "python",
   "nbconvert_exporter": "python",
   "pygments_lexer": "ipython3",
   "version": "3.12.7"
  }
 },
 "nbformat": 4,
 "nbformat_minor": 2
}
