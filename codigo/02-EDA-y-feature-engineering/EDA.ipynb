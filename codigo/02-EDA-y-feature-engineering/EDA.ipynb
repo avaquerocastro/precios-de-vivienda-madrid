{
  "cells": [
    {
      "cell_type": "markdown",
      "metadata": {
        "id": "ppmqu8yeSCur"
      },
      "source": [
        "![Nuclio logo](https://nuclio.school/wp-content/uploads/2018/12/nucleoDS-newBlack.png)\n",
        "\n",
        "# TFM - Análisis Exploratorio de Datos (EDA)\n",
        "\n",
        "### Descripción del dataset y su contexto:\n",
        "El presente dataset contiene información detallada sobre propiedades en venta, incluyendo su precio, ubicación, dimensiones y diversas características adicionales. Cada registro representa un anuncio de un inmueble y cuenta con datos sobre su barrio, distrito, consumo energético y otros atributos socioeconómicos.\n",
        "\n",
        "El objetivo de este estudio es analizar el conjunto de datos para extraer insights que permitan comprender mejor el mercado inmobiliario y detectar patrones que puedan ser útiles para la toma de decisiones.\n",
        "\n",
        "### Objetivos del EDA:\n",
        "1. Comprender la estructura del dataset: Identificar el número de registros y columnas, los tipos de datos y la presencia de valores nulos o inconsistencias.\n",
        "2. Analizar la distribución de las variables: Explorar la variabilidad en precios, metros cuadrados, ubicaciones y otras características relevantes.\n",
        "3. Detectar relaciones y correlaciones: Investigar posibles asociaciones entre las variables y su impacto en el precio de los inmuebles.\n",
        "4. Identificar valores atípicos: Detectar posibles errores o anomalías en los datos que puedan afectar el análisis.\n",
        "5. Generar insights clave: Extraer información relevante para futuros estudios o modelos de predicción del valor de los inmuebles.\n",
        "\n",
        "Este análisis servirá como base para entender mejor la dinámica del mercado inmobiliario y podrá ser de utilidad para compradores, vendedores, inversionistas y analistas del sector."
      ]
    },
    {
      "cell_type": "markdown",
      "metadata": {
        "id": "bN_g6oIQSCut"
      },
      "source": [
        "# **_1. Librerías y configuración_**"
      ]
    },
    {
      "cell_type": "code",
      "execution_count": 1,
      "metadata": {
        "id": "Gv6Vu68qSCuu"
      },
      "outputs": [],
      "source": [
        "# Principales\n",
        "import pandas as pd\n",
        "import numpy as np\n",
        "\n",
        "# Modificaciones\n",
        "import re\n",
        "#from unidecode import unidecode\n",
        "import unicodedata\n",
        "import datetime\n",
        "import os\n",
        "import math\n",
        "\n",
        "# visuzalizaciones\n",
        "import matplotlib.pyplot as plt\n",
        "import seaborn as sns\n",
        "import missingno as msno\n",
        "#import matplotlib as plt\n",
        "import plotly.express as px\n",
        "import plotly.io as pio\n",
        "from plotly.subplots import make_subplots\n",
        "import plotly.graph_objs as go\n",
        "from plotly.offline import iplot\n",
        "import plotly.figure_factory as ff\n",
        "import matplotlib.pyplot as plt\n",
        "import missingno as msno\n",
        "import gc\n"
      ]
    },
    {
      "cell_type": "code",
      "execution_count": 2,
      "metadata": {
        "colab": {
          "base_uri": "https://localhost:8080/"
        },
        "id": "ZiESQJg9SCuu",
        "outputId": "0e2a8870-d954-4b30-e574-4d3101759a9e"
      },
      "outputs": [
        {
          "output_type": "execute_result",
          "data": {
            "text/plain": [
              "60"
            ]
          },
          "metadata": {},
          "execution_count": 2
        }
      ],
      "source": [
        "# Forzar la recolección de basura\n",
        "gc.collect()"
      ]
    },
    {
      "cell_type": "code",
      "execution_count": 3,
      "metadata": {
        "id": "BV-IPLfsSCuv"
      },
      "outputs": [],
      "source": [
        "pd.set_option('display.max_info_columns',110 )\n",
        "pd.set_option(\"display.max_columns\", None)\n",
        "pd.set_option('display.max_rows',80)\n",
        "pd.set_option('display.float_format', lambda x: '%.2f' % x)\n",
        "pd.set_option('display.max_colwidth', None)\n",
        "# Ajustar la configuración para mostrar más filas\n",
        "# pd.set_option('display.max_rows', 500)\n",
        "\n",
        "# Inicializar la lista to replace\n",
        "to_replace=['Null','Nan','nan','NULL',None]"
      ]
    },
    {
      "cell_type": "markdown",
      "metadata": {
        "id": "OAMdy5atSCuv"
      },
      "source": [
        "# **_2. Funciones_**"
      ]
    },
    {
      "cell_type": "code",
      "execution_count": 4,
      "metadata": {
        "id": "0k9AKl-PSCuw"
      },
      "outputs": [],
      "source": [
        "#Funcion que agrupa las columnas por tipo de dato\n",
        "\n",
        "def columnas_por_tipo(df):\n",
        "    # Filtrar columnas por tipo de datos\n",
        "    int_columns = [col for col in df.columns if df[col].dtype.name.startswith('int')]\n",
        "    float_columns = [col for col in df.columns if df[col].dtype.name.startswith('float')]\n",
        "    boolean_columns=[col for col in df.columns if set(df[col].unique()) <= {0, 1}]\n",
        "    numeric_cols=int_columns + float_columns\n",
        "    object_columns = df.select_dtypes(include='object').columns.tolist()\n",
        "    category_columns = df.select_dtypes(include='category').columns.tolist()\n",
        "\n",
        "    cat_columns=list(set(category_columns) - set(boolean_columns) )\n",
        "    # Obtener todas las columnas\n",
        "    all_columns = set(df.columns)\n",
        "    # # Columnas de otros tipos\n",
        "    other_columns = list(all_columns - set(int_columns) - set(float_columns) - set(object_columns) - set(category_columns))\n",
        "\n",
        "    # Cuento el número de columnas de cada tipo\n",
        "    num_int_columns = len(int_columns)\n",
        "    num_float_columns = len(float_columns)\n",
        "    num_object_columns = len(object_columns)\n",
        "    num_category_columns = len(category_columns)\n",
        "    num_other_columns = len(other_columns)\n",
        "\n",
        "    # Mostrar los resultados\n",
        "    print(\"Número de columnas de tipo entero:\", num_int_columns)\n",
        "    print(\"Columnas de tipo entero:\", int_columns)\n",
        "    print(\"Número de columnas de tipo float:\", num_float_columns)\n",
        "    print(\"Columnas de tipo float:\", float_columns)\n",
        "    print(\"Número de columnas de tipo object:\", num_object_columns)\n",
        "    print(\"Columnas de tipo object:\", object_columns)\n",
        "    print(\"Número de columnas de tipo category:\", num_category_columns)\n",
        "    print(\"Columnas de tipo category:\", category_columns)\n",
        "    print(\"Número de columnas de otros tipos:\", num_other_columns)\n",
        "    print(\"Columnas de otros tipos:\", other_columns)\n",
        "    return boolean_columns,numeric_cols,cat_columns,object_columns,other_columns"
      ]
    },
    {
      "cell_type": "code",
      "execution_count": 5,
      "metadata": {
        "id": "8x68ucTiSCux"
      },
      "outputs": [],
      "source": [
        "\n",
        "def reduce_mem_usage(df, turn_cat=False, silence=True):\n",
        "    \"\"\"Itera sobre todo el dataset convirtiendo cada columna en el tipo más adecuado para ahorrar memoria.\n",
        "\n",
        "    Parameters\n",
        "    ----------\n",
        "    df : pd.DataFrame\n",
        "        Dataframe que se quiere reducir.\n",
        "    turn_cat : bool, optional\n",
        "        Transformación de las columnas objeto o string a category, by default False.\n",
        "\n",
        "    Returns\n",
        "    -------\n",
        "    pd.DataFrame\n",
        "        Dataframe optimizado.\n",
        "    \"\"\"\n",
        "\n",
        "    start_mem = df.memory_usage().sum() / 1024**2  # Memoria inicial\n",
        "\n",
        "    for col in df.columns:\n",
        "        col_type = df[col].dtype\n",
        "\n",
        "        if col_type != object and not isinstance(col_type, pd.CategoricalDtype):\n",
        "            c_min = df[col].min()\n",
        "            c_max = df[col].max()\n",
        "\n",
        "            if pd.api.types.is_numeric_dtype(df[col]):\n",
        "                if str(col_type)[:3] == 'int':\n",
        "                    if c_min > np.iinfo(np.int8).min and c_max < np.iinfo(np.int8).max:\n",
        "                        df[col] = df[col].astype(np.int8)\n",
        "                    elif c_min > np.iinfo(np.int16).min and c_max < np.iinfo(np.int16).max:\n",
        "                        df[col] = df[col].astype(np.int16)\n",
        "                    elif c_min > np.iinfo(np.int32).min and c_max < np.iinfo(np.int32).max:\n",
        "                        df[col] = df[col].astype(np.int32)\n",
        "                    elif c_min > np.iinfo(np.int64).min and c_max < np.iinfo(np.int64).max:\n",
        "                        df[col] = df[col].astype(np.int64)\n",
        "                else:\n",
        "                    if c_min > np.finfo(np.float32).min and c_max < np.finfo(np.float32).max:\n",
        "                        df[col] = df[col].astype(np.float32)\n",
        "                    else:\n",
        "                        df[col] = df[col].astype(np.float64)\n",
        "\n",
        "                # Conversión de float a int si no hay decimales y no hay NaN\n",
        "                df[col] = df[col].fillna(0)  # Rellenar NaN antes de verificar si son enteros\n",
        "                if all(df[col].apply(float.is_integer)):\n",
        "                    df[col] = df[col].astype(np.int64)\n",
        "\n",
        "        # Conversión de objetos a categoría si turn_cat es True\n",
        "        if turn_cat and col_type == object:\n",
        "            df[col] = df[col].astype('category')\n",
        "\n",
        "    end_mem = df.memory_usage().sum() / 1024**2  # Memoria final\n",
        "\n",
        "    if not silence:\n",
        "        print('Memory usage after optimization is: {:.2f} MB'.format(end_mem))\n",
        "        print('Decreased by {:.1f}%'.format(100 * (start_mem - end_mem) / start_mem))\n",
        "\n",
        "    return df\n"
      ]
    },
    {
      "cell_type": "code",
      "execution_count": 6,
      "metadata": {
        "id": "kG0X6w6cSCux"
      },
      "outputs": [],
      "source": [
        "def graficobarrascategoricas(df, colname):\n",
        "    \"\"\"Genera un gráfico de barras para una variable categórica, mostrando las 10 categorías más frecuentes y agrupando el resto como 'Otros'.\n",
        "\n",
        "    Parameters:\n",
        "    df (DataFrame): El DataFrame que contiene los datos.\n",
        "    colname (str): Nombre de la variable categórica.\n",
        "\n",
        "    Returns:\n",
        "    None\n",
        "    \"\"\"\n",
        "    # Obtener las frecuencias de las categorías\n",
        "    value_counts = df[colname].value_counts()\n",
        "\n",
        "    # Seleccionar las 10 categorías más frecuentes\n",
        "    top_10 = value_counts.head(10)\n",
        "\n",
        "    # Agrupar el resto en 'Otros'\n",
        "    other_count = value_counts.tail(len(value_counts) - 10).sum()  # Sumar las frecuencias de las categorías restantes\n",
        "    if other_count > 0:  # Solo agrupar si hay categorías para agrupar\n",
        "        otros_series = pd.Series({'Otros': other_count})\n",
        "        top_10 = pd.concat([top_10, otros_series])  # Usamos pd.concat() en lugar de append\n",
        "\n",
        "    # Crear el gráfico de barras\n",
        "    return top_10"
      ]
    },
    {
      "cell_type": "code",
      "execution_count": 7,
      "metadata": {
        "id": "4OryPUZNSCux"
      },
      "outputs": [],
      "source": [
        "def plot_histogram_by_target(df, input_name, target_name, normalize = False):\n",
        "    \"\"\"Plots the histogram and boxplot of a numerical variable by target\n",
        "\n",
        "    Parameters:\n",
        "    input_name (str): Numeric variable's name\n",
        "    target_name (str): Target variable's name\n",
        "\n",
        "    Returns:\n",
        "    None\n",
        "    \"\"\"\n",
        "    fig = plt.figure(figsize=(15, 6))  # Ajustar el tamaño de la figura según sea necesario\n",
        "    fig.suptitle(input_name, fontsize=16)\n",
        "\n",
        "\n",
        "    ax1 = fig.add_subplot(121)\n",
        "    sns.histplot(data=df, x=input_name, hue=target_name, alpha=.5, bins=25, ax=ax1, stat = 'density', common_norm = not normalize)\n",
        "\n",
        "    ax2 = fig.add_subplot(122)\n",
        "    sns.boxplot(data=df, x=target_name, y=input_name, ax=ax2)\n",
        "\n",
        "    plt.tight_layout()\n",
        "      # Asegurar que el título de la figura no se superponga\n",
        "    plt.subplots_adjust(top=0.85)"
      ]
    },
    {
      "cell_type": "code",
      "execution_count": 8,
      "metadata": {
        "id": "HxeAhIivSCux"
      },
      "outputs": [],
      "source": [
        "\n",
        "def plot_barplot_by_target(df, input_name, target_name, stacked=False):\n",
        "    \"\"\"\n",
        "    Grafica un gráfico de barras para una variable categórica en función de una variable objetivo.\n",
        "\n",
        "    Parameters:\n",
        "    -----------\n",
        "    df : pd.DataFrame\n",
        "        DataFrame con los datos.\n",
        "    input_name : str\n",
        "        Nombre de la columna categórica a analizar.\n",
        "    target_name : str\n",
        "        Nombre de la columna objetivo (target).\n",
        "    stacked : bool, opcional, default=False\n",
        "        Si se debe apilar el gráfico de barras.\n",
        "    \"\"\"\n",
        "    # Crear una tabla de contingencia\n",
        "    crosstab = pd.crosstab(df[input_name], df[target_name])\n",
        "\n",
        "    # Crear un gráfico de barras apiladas usando Plotly\n",
        "    fig = px.bar(crosstab,\n",
        "                 barmode='stack',  # Esto apila las barras\n",
        "                # color=crosstab.columns,  # Colores por las columnas\n",
        "                 title=f'Distribución de {input_name} por {target_name}')\n",
        "\n",
        "    # Mostrar el gráfico\n",
        "    fig.update_layout(xaxis_title=input_name,\n",
        "                      yaxis_title='Frecuencia',\n",
        "                      xaxis_tickangle=-45)\n",
        "\n",
        "    fig.show()"
      ]
    },
    {
      "cell_type": "code",
      "execution_count": 9,
      "metadata": {
        "id": "WXnXmha1SCuy"
      },
      "outputs": [],
      "source": [
        "\n",
        "\n",
        "def generar_barplot_media_mediana(df, cat_vars, target_var):\n",
        "    \"\"\"\n",
        "    Genera gráficos en dos columnas: barplots con la media y mediana\n",
        "    de una variable numérica (target_var) frente a varias categóricas.\n",
        "\n",
        "    :param df: DataFrame de pandas con los datos.\n",
        "    :param cat_vars: Lista de variables categóricas.\n",
        "    :param target_var: Variable numérica a analizar (por ejemplo, 'precio').\n",
        "    \"\"\"\n",
        "    filas = len(cat_vars)  # Una fila por variable categórica\n",
        "    plt.figure(figsize=(15, filas * 5))  # Ajustar tamaño según número de filas\n",
        "\n",
        "    for i, var in enumerate(cat_vars):\n",
        "        # Gráfico de la media\n",
        "        plt.subplot(filas, 2, 2 * i + 1)  # Columna 1: Media\n",
        "        sns.barplot(x=df[var], y=df[target_var], estimator=np.mean)\n",
        "        plt.xticks(rotation=90)  # Rotar etiquetas si son largas\n",
        "        plt.title(f'Media de {target_var} por {var}')\n",
        "        plt.xlabel(var)\n",
        "        plt.ylabel(f'Media de {target_var}')\n",
        "\n",
        "        # Gráfico de la mediana\n",
        "        plt.subplot(filas, 2, 2 * i + 2)  # Columna 2: Mediana\n",
        "        sns.barplot(x=df[var], y=df[target_var], estimator=np.median)\n",
        "        plt.xticks(rotation=90)\n",
        "        plt.title(f'Mediana de {target_var} por {var}')\n",
        "        plt.xlabel(var)\n",
        "        plt.ylabel(f'Mediana de {target_var}')\n",
        "\n",
        "    plt.tight_layout()  # Ajustar el espacio entre gráficos\n",
        "    plt.show()\n"
      ]
    },
    {
      "cell_type": "code",
      "execution_count": 10,
      "metadata": {
        "id": "mwwp3QSwSCuy"
      },
      "outputs": [],
      "source": [
        "def categorize_ano_construccion(value):\n",
        "    # Si el valor es NaN, lo dejamos como NaN\n",
        "    if pd.isna(value):\n",
        "        return np.nan\n",
        "    try:\n",
        "        # Convertimos el valor a float si es numérico\n",
        "        value = float(value)\n",
        "\n",
        "        # Asignamos el valor a las franjas de años correspondientes\n",
        "        if value < 1973:\n",
        "            return 'Más de 50 años'\n",
        "        elif 1973 <= value <= 1993:\n",
        "            return 'Entre 30 y 50 años'\n",
        "        elif 1993 < value <= 2013:\n",
        "            return 'Entre 10 y 30 años'\n",
        "        elif 2013 < value <= 2018:\n",
        "            return 'Entre 5 y 10 años'\n",
        "        elif value > 2018:\n",
        "            return 'Menos de 5 años'\n",
        "        else:\n",
        "            return np.nan  # En caso de que no cumpla con ninguna condición\n",
        "    except:\n",
        "        # Si el valor no es un número, lo dejamos como está\n",
        "        value=str(value).strip()\n",
        "\n",
        "        return value"
      ]
    },
    {
      "cell_type": "code",
      "execution_count": 11,
      "metadata": {
        "id": "aW0_w5SFSCuy"
      },
      "outputs": [],
      "source": [
        "def agrupar_antiguedad(valor):\n",
        "    if valor in ['Menos de 5 años', 'Menos de 5 Anos']:\n",
        "        return 'Menos de 5 años'\n",
        "    elif valor in ['Menos de 10 años','Entre 5 y 10 años']:\n",
        "        return 'Entre 5 y 10 años'\n",
        "    elif valor in ['Entre 10 y 30 años', 'Entre 10 y 20 años', 'Entre 20 y 30 años', 'Entre 15 y 20 Anos','Entre 10 y 15 Anos', 'Entre 15 y 20 años', 'Entre 20 y 25 Anos','Entre 10 y  15 Anos']:\n",
        "        return 'Entre 10 y 30 años'\n",
        "    elif valor in ['Entre 30 y 50 años', 'Entre 35 y 50 Anos']:\n",
        "        return 'Entre 30 y 50 años'\n",
        "    elif valor in ['Más de 50 años', 'Mas de 50 anos', 'Mas de 25 Anos']:\n",
        "        return 'Más de 50 años'\n",
        "    else:\n",
        "        return valor\n"
      ]
    },
    {
      "cell_type": "markdown",
      "metadata": {
        "id": "WkIhKWfvSCuy"
      },
      "source": [
        "# Función para calcular la mediana de m2_contr\n",
        "\n",
        "def calcular_mediana_colconnulos(row, df, col_connulos, colcomparar1, colcomparar2):\n",
        "    filtro = (df[colcomparar1] == row[colcomparar1]) & (df[colcomparar2] == row[colcomparar2])\n",
        "    mediana_colconnulos = df.loc[filtro, col_connulos].median()\n",
        "    return int(mediana_colconnulos) if not pd.isna(mediana_colconnulos) else mediana_colconnulos"
      ]
    },
    {
      "cell_type": "code",
      "execution_count": 12,
      "metadata": {
        "id": "hJ32RXdjSCuy"
      },
      "outputs": [],
      "source": [
        "\n",
        "def calcular_mediana_colconnulos(df, col_connulos, colcomparar1, colcomparar2):\n",
        "    \"\"\"\n",
        "    Rellena los valores nulos de col_connulos con la media calculada\n",
        "    para las filas que coincidan en colcomparar1 y colcomparar2.\n",
        "\n",
        "    :param df: DataFrame con los datos.\n",
        "    :param col_connulos: Columna con valores nulos a imputar.\n",
        "    :param colcomparar1: Primera columna de comparación para el filtro.\n",
        "    :param colcomparar2: Segunda columna de comparación para el filtro.\n",
        "    :return: DataFrame con los valores imputados.\n",
        "    \"\"\"\n",
        "    # Iterar sobre las filas donde col_connulos es nulo\n",
        "    for idx, row in df[df[col_connulos].isna()].iterrows():\n",
        "        # Filtrar el DataFrame usando colcomparar1 y colcomparar2\n",
        "        filtro = (df[colcomparar1] == row[colcomparar1]) & (df[colcomparar2] == row[colcomparar2])\n",
        "\n",
        "        # Calcular la media de col_connulos en ese subconjunto\n",
        "        mediana = df.loc[filtro, col_connulos].median()\n",
        "\n",
        "        # Imputar la media si no es NaN\n",
        "        if not np.isnan(mediana):\n",
        "            df.at[idx, col_connulos] = mediana\n",
        "\n",
        "    return df\n"
      ]
    },
    {
      "cell_type": "code",
      "execution_count": 13,
      "metadata": {
        "id": "60ktrtANSCuz"
      },
      "outputs": [],
      "source": [
        "def extract_num(col):\n",
        "    try:\n",
        "        # Si el valor es un número flotante o entero, convertirlo a float (por ejemplo, 1.0 o 2)\n",
        "        if isinstance(col, (int, float)):\n",
        "            return float(col)\n",
        "\n",
        "        # Si el valor es una cadena y contiene un número, extraemos el primer número\n",
        "        return float(col.split()[0])\n",
        "    except:\n",
        "        return np.nan"
      ]
    },
    {
      "cell_type": "code",
      "execution_count": 14,
      "metadata": {
        "id": "EZOVzqEdSCuz"
      },
      "outputs": [],
      "source": [
        "\n",
        "# Función para identificar si es público o privado\n",
        "def extract_texto(col, texto1, texto2):\n",
        "    if isinstance(col, str):  # Solo aplicar 'lower()' si el valor es una cadena\n",
        "        if texto1 in col.lower():\n",
        "            return texto1\n",
        "        elif texto2 in col.lower():\n",
        "            return texto2\n",
        "    return np.nan"
      ]
    },
    {
      "cell_type": "code",
      "execution_count": 15,
      "metadata": {
        "id": "mj6VGyIhSCuz"
      },
      "outputs": [],
      "source": [
        "def asignar_columna(row, diccionario,col_asignar,col_agrupar,colfiltrado,valfiltrado):\n",
        "    if pd.isnull(row[col_asignar]) and row[colfiltrado] == valfiltrado and pd.notnull(row[col_agrupar]):\n",
        "        return diccionario.get(row[col_agrupar], 0) + 1\n",
        "    return row[col_asignar]"
      ]
    },
    {
      "cell_type": "code",
      "execution_count": 16,
      "metadata": {
        "id": "wVeVx-XmSCuz"
      },
      "outputs": [],
      "source": [
        "#def diccionario_mediana(df,colnulos,colagrup1,colagrup2):\n",
        " #   mediana = (df[df[colagrup1].notnull() & dfEDA[colnulos].notnull() ]\n",
        "  #  .groupby([colagrup1, colagrup2])[colnulos]\n",
        "   # .median().astype(int))\n",
        "    #return mediana"
      ]
    },
    {
      "source": [
        "def diccionario_mediana(df, colnulos, colagrup1, colagrup2):\n",
        "    \"\"\"\n",
        "    Rellena los valores nulos de col_connulos con la media calculada\n",
        "    para las filas que coincidan en colcomparar1 y colcomparar2.\n",
        "\n",
        "    :param df: DataFrame con los datos.\n",
        "    :param colnulos: Columna con valores nulos a imputar.\n",
        "    :param colagrup1: Primera columna de comparación para el filtro.\n",
        "    :param colagrup2: Segunda columna de comparación para el filtro.\n",
        "    :return: DataFrame con los valores imputados.\n",
        "    \"\"\"\n",
        "    mediana = (df[df[colagrup1].notnull() & df[colnulos].notnull()]  # Use df instead of dfEDA\n",
        "                .groupby([colagrup1, colagrup2])[colnulos]\n",
        "                .median()\n",
        "                .astype('Int64'))  # Use Int64 to handle NaNs\n",
        "    return mediana"
      ],
      "cell_type": "code",
      "metadata": {
        "id": "PEQhZ6mmWMAv"
      },
      "execution_count": 17,
      "outputs": []
    },
    {
      "cell_type": "code",
      "execution_count": 19,
      "metadata": {
        "colab": {
          "base_uri": "https://localhost:8080/",
          "height": 335
        },
        "id": "6djobu4OSCuz",
        "outputId": "00616c8b-c87a-4c49-a4db-692c9fceb03c"
      },
      "outputs": [
        {
          "output_type": "error",
          "ename": "FileNotFoundError",
          "evalue": "[Errno 2] No such file or directory: './data/pisosEDA.csv'",
          "traceback": [
            "\u001b[0;31m---------------------------------------------------------------------------\u001b[0m",
            "\u001b[0;31mFileNotFoundError\u001b[0m                         Traceback (most recent call last)",
            "\u001b[0;32m<ipython-input-19-fcfe41e39d22>\u001b[0m in \u001b[0;36m<cell line: 0>\u001b[0;34m()\u001b[0m\n\u001b[0;32m----> 1\u001b[0;31m \u001b[0mdfEDA\u001b[0m\u001b[0;34m=\u001b[0m \u001b[0mpd\u001b[0m\u001b[0;34m.\u001b[0m\u001b[0mread_csv\u001b[0m\u001b[0;34m(\u001b[0m\u001b[0;34m'./data/pisosEDA.csv'\u001b[0m\u001b[0;34m,\u001b[0m\u001b[0mindex_col\u001b[0m\u001b[0;34m=\u001b[0m\u001b[0;32mFalse\u001b[0m\u001b[0;34m)\u001b[0m\u001b[0;34m\u001b[0m\u001b[0;34m\u001b[0m\u001b[0m\n\u001b[0m\u001b[1;32m      2\u001b[0m \u001b[0;31m#dfEDA= pd.read_csv('./pisosEDA.csv',index_col=False)\u001b[0m\u001b[0;34m\u001b[0m\u001b[0;34m\u001b[0m\u001b[0m\n",
            "\u001b[0;32m/usr/local/lib/python3.11/dist-packages/pandas/io/parsers/readers.py\u001b[0m in \u001b[0;36mread_csv\u001b[0;34m(filepath_or_buffer, sep, delimiter, header, names, index_col, usecols, dtype, engine, converters, true_values, false_values, skipinitialspace, skiprows, skipfooter, nrows, na_values, keep_default_na, na_filter, verbose, skip_blank_lines, parse_dates, infer_datetime_format, keep_date_col, date_parser, date_format, dayfirst, cache_dates, iterator, chunksize, compression, thousands, decimal, lineterminator, quotechar, quoting, doublequote, escapechar, comment, encoding, encoding_errors, dialect, on_bad_lines, delim_whitespace, low_memory, memory_map, float_precision, storage_options, dtype_backend)\u001b[0m\n\u001b[1;32m   1024\u001b[0m     \u001b[0mkwds\u001b[0m\u001b[0;34m.\u001b[0m\u001b[0mupdate\u001b[0m\u001b[0;34m(\u001b[0m\u001b[0mkwds_defaults\u001b[0m\u001b[0;34m)\u001b[0m\u001b[0;34m\u001b[0m\u001b[0;34m\u001b[0m\u001b[0m\n\u001b[1;32m   1025\u001b[0m \u001b[0;34m\u001b[0m\u001b[0m\n\u001b[0;32m-> 1026\u001b[0;31m     \u001b[0;32mreturn\u001b[0m \u001b[0m_read\u001b[0m\u001b[0;34m(\u001b[0m\u001b[0mfilepath_or_buffer\u001b[0m\u001b[0;34m,\u001b[0m \u001b[0mkwds\u001b[0m\u001b[0;34m)\u001b[0m\u001b[0;34m\u001b[0m\u001b[0;34m\u001b[0m\u001b[0m\n\u001b[0m\u001b[1;32m   1027\u001b[0m \u001b[0;34m\u001b[0m\u001b[0m\n\u001b[1;32m   1028\u001b[0m \u001b[0;34m\u001b[0m\u001b[0m\n",
            "\u001b[0;32m/usr/local/lib/python3.11/dist-packages/pandas/io/parsers/readers.py\u001b[0m in \u001b[0;36m_read\u001b[0;34m(filepath_or_buffer, kwds)\u001b[0m\n\u001b[1;32m    618\u001b[0m \u001b[0;34m\u001b[0m\u001b[0m\n\u001b[1;32m    619\u001b[0m     \u001b[0;31m# Create the parser.\u001b[0m\u001b[0;34m\u001b[0m\u001b[0;34m\u001b[0m\u001b[0m\n\u001b[0;32m--> 620\u001b[0;31m     \u001b[0mparser\u001b[0m \u001b[0;34m=\u001b[0m \u001b[0mTextFileReader\u001b[0m\u001b[0;34m(\u001b[0m\u001b[0mfilepath_or_buffer\u001b[0m\u001b[0;34m,\u001b[0m \u001b[0;34m**\u001b[0m\u001b[0mkwds\u001b[0m\u001b[0;34m)\u001b[0m\u001b[0;34m\u001b[0m\u001b[0;34m\u001b[0m\u001b[0m\n\u001b[0m\u001b[1;32m    621\u001b[0m \u001b[0;34m\u001b[0m\u001b[0m\n\u001b[1;32m    622\u001b[0m     \u001b[0;32mif\u001b[0m \u001b[0mchunksize\u001b[0m \u001b[0;32mor\u001b[0m \u001b[0miterator\u001b[0m\u001b[0;34m:\u001b[0m\u001b[0;34m\u001b[0m\u001b[0;34m\u001b[0m\u001b[0m\n",
            "\u001b[0;32m/usr/local/lib/python3.11/dist-packages/pandas/io/parsers/readers.py\u001b[0m in \u001b[0;36m__init__\u001b[0;34m(self, f, engine, **kwds)\u001b[0m\n\u001b[1;32m   1618\u001b[0m \u001b[0;34m\u001b[0m\u001b[0m\n\u001b[1;32m   1619\u001b[0m         \u001b[0mself\u001b[0m\u001b[0;34m.\u001b[0m\u001b[0mhandles\u001b[0m\u001b[0;34m:\u001b[0m \u001b[0mIOHandles\u001b[0m \u001b[0;34m|\u001b[0m \u001b[0;32mNone\u001b[0m \u001b[0;34m=\u001b[0m \u001b[0;32mNone\u001b[0m\u001b[0;34m\u001b[0m\u001b[0;34m\u001b[0m\u001b[0m\n\u001b[0;32m-> 1620\u001b[0;31m         \u001b[0mself\u001b[0m\u001b[0;34m.\u001b[0m\u001b[0m_engine\u001b[0m \u001b[0;34m=\u001b[0m \u001b[0mself\u001b[0m\u001b[0;34m.\u001b[0m\u001b[0m_make_engine\u001b[0m\u001b[0;34m(\u001b[0m\u001b[0mf\u001b[0m\u001b[0;34m,\u001b[0m \u001b[0mself\u001b[0m\u001b[0;34m.\u001b[0m\u001b[0mengine\u001b[0m\u001b[0;34m)\u001b[0m\u001b[0;34m\u001b[0m\u001b[0;34m\u001b[0m\u001b[0m\n\u001b[0m\u001b[1;32m   1621\u001b[0m \u001b[0;34m\u001b[0m\u001b[0m\n\u001b[1;32m   1622\u001b[0m     \u001b[0;32mdef\u001b[0m \u001b[0mclose\u001b[0m\u001b[0;34m(\u001b[0m\u001b[0mself\u001b[0m\u001b[0;34m)\u001b[0m \u001b[0;34m->\u001b[0m \u001b[0;32mNone\u001b[0m\u001b[0;34m:\u001b[0m\u001b[0;34m\u001b[0m\u001b[0;34m\u001b[0m\u001b[0m\n",
            "\u001b[0;32m/usr/local/lib/python3.11/dist-packages/pandas/io/parsers/readers.py\u001b[0m in \u001b[0;36m_make_engine\u001b[0;34m(self, f, engine)\u001b[0m\n\u001b[1;32m   1878\u001b[0m                 \u001b[0;32mif\u001b[0m \u001b[0;34m\"b\"\u001b[0m \u001b[0;32mnot\u001b[0m \u001b[0;32min\u001b[0m \u001b[0mmode\u001b[0m\u001b[0;34m:\u001b[0m\u001b[0;34m\u001b[0m\u001b[0;34m\u001b[0m\u001b[0m\n\u001b[1;32m   1879\u001b[0m                     \u001b[0mmode\u001b[0m \u001b[0;34m+=\u001b[0m \u001b[0;34m\"b\"\u001b[0m\u001b[0;34m\u001b[0m\u001b[0;34m\u001b[0m\u001b[0m\n\u001b[0;32m-> 1880\u001b[0;31m             self.handles = get_handle(\n\u001b[0m\u001b[1;32m   1881\u001b[0m                 \u001b[0mf\u001b[0m\u001b[0;34m,\u001b[0m\u001b[0;34m\u001b[0m\u001b[0;34m\u001b[0m\u001b[0m\n\u001b[1;32m   1882\u001b[0m                 \u001b[0mmode\u001b[0m\u001b[0;34m,\u001b[0m\u001b[0;34m\u001b[0m\u001b[0;34m\u001b[0m\u001b[0m\n",
            "\u001b[0;32m/usr/local/lib/python3.11/dist-packages/pandas/io/common.py\u001b[0m in \u001b[0;36mget_handle\u001b[0;34m(path_or_buf, mode, encoding, compression, memory_map, is_text, errors, storage_options)\u001b[0m\n\u001b[1;32m    871\u001b[0m         \u001b[0;32mif\u001b[0m \u001b[0mioargs\u001b[0m\u001b[0;34m.\u001b[0m\u001b[0mencoding\u001b[0m \u001b[0;32mand\u001b[0m \u001b[0;34m\"b\"\u001b[0m \u001b[0;32mnot\u001b[0m \u001b[0;32min\u001b[0m \u001b[0mioargs\u001b[0m\u001b[0;34m.\u001b[0m\u001b[0mmode\u001b[0m\u001b[0;34m:\u001b[0m\u001b[0;34m\u001b[0m\u001b[0;34m\u001b[0m\u001b[0m\n\u001b[1;32m    872\u001b[0m             \u001b[0;31m# Encoding\u001b[0m\u001b[0;34m\u001b[0m\u001b[0;34m\u001b[0m\u001b[0m\n\u001b[0;32m--> 873\u001b[0;31m             handle = open(\n\u001b[0m\u001b[1;32m    874\u001b[0m                 \u001b[0mhandle\u001b[0m\u001b[0;34m,\u001b[0m\u001b[0;34m\u001b[0m\u001b[0;34m\u001b[0m\u001b[0m\n\u001b[1;32m    875\u001b[0m                 \u001b[0mioargs\u001b[0m\u001b[0;34m.\u001b[0m\u001b[0mmode\u001b[0m\u001b[0;34m,\u001b[0m\u001b[0;34m\u001b[0m\u001b[0;34m\u001b[0m\u001b[0m\n",
            "\u001b[0;31mFileNotFoundError\u001b[0m: [Errno 2] No such file or directory: './data/pisosEDA.csv'"
          ]
        }
      ],
      "source": [
        "dfEDA= pd.read_csv('./data/pisosEDA.csv',index_col=False)\n",
        "#dfEDA= pd.read_csv('./pisosEDA.csv',index_col=False)"
      ]
    },
    {
      "cell_type": "code",
      "source": [
        "from google.colab import drive\n",
        "drive.mount('/content/drive')"
      ],
      "metadata": {
        "id": "MaKuDQtXqj2I"
      },
      "execution_count": null,
      "outputs": []
    },
    {
      "cell_type": "markdown",
      "metadata": {
        "id": "nERRtztgSCuz"
      },
      "source": [
        "# **_3. Carga de datos_**"
      ]
    },
    {
      "cell_type": "code",
      "execution_count": null,
      "metadata": {
        "id": "Lveej-tNSCu0"
      },
      "outputs": [],
      "source": [
        "print(f\"El DataFrame dfEDA tiene {dfEDA.shape[0]} filas y {dfEDA.shape[1]} columnas.\")"
      ]
    },
    {
      "cell_type": "code",
      "execution_count": null,
      "metadata": {
        "id": "6hEsrv8nSCu0"
      },
      "outputs": [],
      "source": [
        "# Compramos que la columna url tiene valores unicos\n",
        "dfEDA['url'].nunique() == len(dfEDA)"
      ]
    },
    {
      "cell_type": "code",
      "execution_count": null,
      "metadata": {
        "id": "0A5LdeLUSCu0"
      },
      "outputs": [],
      "source": [
        "dfEDA.columns"
      ]
    },
    {
      "cell_type": "markdown",
      "metadata": {
        "id": "9pCILJDjSCu0"
      },
      "source": [
        "# **_4. Exploración de datos_**"
      ]
    },
    {
      "cell_type": "code",
      "execution_count": null,
      "metadata": {
        "id": "XEmi18mRSCu0"
      },
      "outputs": [],
      "source": [
        "dfEDA.head(2)"
      ]
    },
    {
      "cell_type": "code",
      "execution_count": null,
      "metadata": {
        "id": "FuByHKjoSCu0"
      },
      "outputs": [],
      "source": [
        "dfEDA.describe(include='all').T"
      ]
    },
    {
      "cell_type": "code",
      "execution_count": null,
      "metadata": {
        "id": "jDxmLebiSCu1"
      },
      "outputs": [],
      "source": [
        "# Tratar las columnas para quitar espacios si tuvieran y poner el nombre de las columnas en minúsculas\n",
        "# para tener desde el primer momento siempre el mismo nombre de columnas.\n",
        "dfEDA.columns = [col.strip().lower() for col in dfEDA.columns]"
      ]
    },
    {
      "cell_type": "code",
      "execution_count": null,
      "metadata": {
        "id": "vmM1HP6XSCu1"
      },
      "outputs": [],
      "source": [
        "dfEDA.columns.tolist()"
      ]
    },
    {
      "cell_type": "markdown",
      "metadata": {
        "id": "9NwpwGqcSCu1"
      },
      "source": [
        "## 4.1 Tipo de datos"
      ]
    },
    {
      "cell_type": "code",
      "execution_count": null,
      "metadata": {
        "id": "qOHPtgyOSCu1"
      },
      "outputs": [],
      "source": [
        "# Función `columnas_por_tipo` que muestra un resumen de los tipo de columnas que hay en el dataframe\n",
        "# boolean_columns, numeric_cols, cat_columns, object_columns, other_columns\n",
        "cols_bool, cols_num, cols_cat, cols_obj, cols_other = columnas_por_tipo(dfEDA)\n",
        "print(\"Booleans:\", cols_bool)\n",
        "print(\"Numéricas:\", cols_num)\n",
        "print(\"Categóricas:\", cols_cat)\n",
        "print(\"Objeto:\", cols_obj)\n",
        "print(\"Otras:\", cols_other)"
      ]
    },
    {
      "cell_type": "markdown",
      "metadata": {
        "id": "DtwDtwoHSCu2"
      },
      "source": [
        "## 4.2 Identificacion de valores nulos"
      ]
    },
    {
      "cell_type": "markdown",
      "metadata": {
        "id": "paNp938QSCu2"
      },
      "source": [
        "\n",
        "Identificación de Valores Nulos\n",
        "\n",
        "Los valores nulos pueden afectar los análisis estadísticos y las visualizaciones. Para detectarlos, revisaremos:\n",
        "- La cantidad de valores nulos por columna.\n",
        "- El porcentaje de valores nulos en relación con el total de datos.\n",
        "- Visualización de los valores nulos para identificar patrones."
      ]
    },
    {
      "cell_type": "markdown",
      "metadata": {
        "id": "E7xmhVFRSCu2"
      },
      "source": [
        "### 4.2.1 Número de valores nulos por columna"
      ]
    },
    {
      "cell_type": "code",
      "execution_count": null,
      "metadata": {
        "id": "00GkoR86SCu2"
      },
      "outputs": [],
      "source": [
        "# Verificar valores nulos por columna\n",
        "valores_nulos = dfEDA.isnull().sum()\n",
        "\n",
        "print(\"Valores nulos por columna:\")\n",
        "print(valores_nulos[valores_nulos > 0])"
      ]
    },
    {
      "cell_type": "markdown",
      "metadata": {
        "id": "tpU_B7ZJSCu2"
      },
      "source": [
        "### 4.2.2 Porcentaje de nulos por columna"
      ]
    },
    {
      "cell_type": "code",
      "execution_count": null,
      "metadata": {
        "id": "apMCOg_NSCu3"
      },
      "outputs": [],
      "source": [
        "# Ver porcentaje de valores nulos\n",
        "porcentaje_nulos = (dfEDA.isnull().sum() / len(dfEDA)) * 100\n",
        "\n",
        "print(\"\\nPorcentaje de valores nulos por columna:\")\n",
        "print(porcentaje_nulos[porcentaje_nulos > 0])"
      ]
    },
    {
      "cell_type": "markdown",
      "metadata": {
        "id": "eOfZHRdbSCu3"
      },
      "source": [
        "## 4.2.3 Visulización de nulos"
      ]
    },
    {
      "cell_type": "code",
      "execution_count": null,
      "metadata": {
        "id": "_HK-4IqSSCu3"
      },
      "outputs": [],
      "source": [
        "\n",
        "# Convertir valores nulos en 1 y valores no nulos en 0\n",
        "df_nulos = dfEDA.isnull().astype(int)\n",
        "\n",
        "# Graficar con imshow (MUCHO MÁS RÁPIDO)\n",
        "fig = px.imshow(df_nulos, labels={'x': 'Columnas', 'y': 'Índices', 'color': 'Nulo'},\n",
        "                color_continuous_scale='blues', title=\"Mapa de Valores Nulos\")\n",
        "#silvia comento los graficos para que no pese, quitar el comentario para analizarlos\n",
        "#fig.show()\n"
      ]
    },
    {
      "cell_type": "markdown",
      "metadata": {
        "id": "UP9Gkc3mSCu3"
      },
      "source": [
        "#### 🚩\n",
        "Explicación de las gráficas\n",
        "En las partes resaltadras con mayor intensidad de color hacen referencia a las variables/ columnas con mayor cantidad de valores nulos. Gracias a ello, podemos ver de manera clara si los nulos se encuentran al principio, al final , entre medio o algun otro lugar de la columna. Tambien podemos notar que especialmente las variables que empiezan con la palabra carpiteria y cancha_tenis tienen una gran cantidad de nulos al igual que otras variables."
      ]
    },
    {
      "cell_type": "markdown",
      "metadata": {
        "id": "ig8kIyCrSCu3"
      },
      "source": [
        "## 4.3 Identificación de datos duplicados"
      ]
    },
    {
      "cell_type": "markdown",
      "metadata": {
        "id": "IMxMPxaJSCu3"
      },
      "source": [
        "Identificación de Datos Duplicados\n",
        "- Los registros duplicados pueden distorsionar el análisis y deben ser detectados para evaluar si deben eliminarse."
      ]
    },
    {
      "cell_type": "code",
      "execution_count": null,
      "metadata": {
        "id": "bgyrIZTxSCu4"
      },
      "outputs": [],
      "source": [
        "duplicados = dfEDA.duplicated().sum()\n",
        "\n",
        "print(f\"\\nNúmero de registros duplicados: {duplicados}\")"
      ]
    },
    {
      "cell_type": "code",
      "execution_count": null,
      "metadata": {
        "id": "ji0OYeRMSCu4"
      },
      "outputs": [],
      "source": [
        "# Mostrar ejemplos de registros duplicados (si existen)\n",
        "if duplicados > 0:\n",
        "    print(\"\\nEjemplo de registros duplicados:\")\n",
        "    display(dfEDA[dfEDA.duplicated()].head())"
      ]
    },
    {
      "cell_type": "markdown",
      "metadata": {
        "id": "AM8FAr8WSCu4"
      },
      "source": [
        "# **_5. Variable target_**\n"
      ]
    },
    {
      "cell_type": "code",
      "execution_count": null,
      "metadata": {
        "id": "KGov_eNDSCu4"
      },
      "outputs": [],
      "source": [
        "# Distribución de la variable target en porcentaje\n",
        "dfEDA[\"precio\"].value_counts(normalize = True)"
      ]
    },
    {
      "cell_type": "code",
      "execution_count": null,
      "metadata": {
        "id": "sHOaHhF7SCu4"
      },
      "outputs": [],
      "source": [
        "dfEDA.precio.describe(percentiles=[0.15,0.3,0.45,0.55,0.75,0.9])"
      ]
    },
    {
      "cell_type": "markdown",
      "metadata": {
        "id": "Z1xgDu9RSCu4"
      },
      "source": [
        "## 5.1 Valores atípicos"
      ]
    },
    {
      "cell_type": "code",
      "execution_count": null,
      "metadata": {
        "id": "0KCJQvN5SCu5"
      },
      "outputs": [],
      "source": [
        "# Detectar valores atípicos con IQR\n",
        "Q1 = dfEDA['precio'].quantile(0.25)\n",
        "Q3 = dfEDA['precio'].quantile(0.75)\n",
        "IQR = Q3 - Q1\n",
        "limite_inferior = Q1 - 1.5 * IQR\n",
        "limite_superior = Q3 + 1.5 * IQR\n",
        "\n",
        "# Filtrar valores atípicos\n",
        "outliers = dfEDA[(dfEDA['precio'] < limite_inferior) | (dfEDA['precio'] > limite_superior)]\n",
        "print(f'Cantidad de valores atípicos en precio: {len(outliers)}')"
      ]
    },
    {
      "cell_type": "code",
      "execution_count": null,
      "metadata": {
        "id": "EiSYCOtJSCu5"
      },
      "outputs": [],
      "source": [
        "dfEDA.query(\"precio<50000 or precio>9000000\")"
      ]
    },
    {
      "cell_type": "markdown",
      "metadata": {
        "id": "53smA277SCu5"
      },
      "source": [
        "**_Se han revisado las web de anuncios con precios atipicos y son correctos_**"
      ]
    },
    {
      "cell_type": "code",
      "execution_count": null,
      "metadata": {
        "id": "Vj6aWGkPSCu5"
      },
      "outputs": [],
      "source": [
        "dfEDA.drop_duplicates(keep='first', inplace=True)"
      ]
    },
    {
      "cell_type": "markdown",
      "metadata": {
        "id": "xPOcx6eBSCu5"
      },
      "source": [
        "# 5.2 Distribución"
      ]
    },
    {
      "cell_type": "code",
      "execution_count": null,
      "metadata": {
        "id": "v0crc525SCu6"
      },
      "outputs": [],
      "source": [
        "# HISTOGRAMA\n",
        "fig = px.histogram(dfEDA,x=\"precio\", nbins=100,title='Precio en Euros', labels={'value': 'Precio'})\n",
        "fig.show()"
      ]
    },
    {
      "cell_type": "markdown",
      "metadata": {
        "id": "RZHNHfSISCu6"
      },
      "source": [
        "#### 🚩\n",
        "Explicación de las gráficas"
      ]
    },
    {
      "cell_type": "markdown",
      "metadata": {
        "id": "gSU2I7aqSCu6"
      },
      "source": [
        "En el grafico mostrado se puede visualizar claramente la distribucion de las viviendas segun su precio. Gracias a ello podemos percatarnos que hay una notable mayor cantidad de viviendas con un rango de 200 k - 400 k euros a a diferencia de las demas viviendas donde la cantidad de las mismas empieza a disminuir. Tambien se puede notar que hay varios outliers o en otras palabras viviendas que salen considerablemente de donde se encuentra el mayor numero de viviendas teniendo un precio sumamente mayor al de donde se encuentran el mayor numero de viviendas.  En conclusion, el mayor numero de viviendas se concentra en valores menores a 1 millon de euros y tenemos viviendas con precios que pueden llegar a ser mayores a 18 millones de euros lo que es algo poco comun."
      ]
    },
    {
      "cell_type": "markdown",
      "metadata": {
        "id": "B3t9y4JgSCu6"
      },
      "source": [
        "# **_6. Análisis estadístico inicial_**"
      ]
    },
    {
      "cell_type": "markdown",
      "metadata": {
        "id": "w8aOvnDWSCu_"
      },
      "source": [
        "### **_6.1 Análisis univariado_**\n",
        "El análisis univariado permite estudiar la distribución de cada variable por separado, identificando patrones, valores atípicos y posibles problemas en los datos."
      ]
    },
    {
      "cell_type": "markdown",
      "metadata": {
        "id": "op-UFduQSCu_"
      },
      "source": [
        "#### **_6.1.1 Variables numéricas_**\n",
        "Las variables numéricas se pueden analizar mediante histogramas para observar su distribución y boxplots o gráficos de violín para detectar posibles valores atípicos."
      ]
    },
    {
      "cell_type": "code",
      "execution_count": null,
      "metadata": {
        "id": "Kx7dw1FVSCu_"
      },
      "outputs": [],
      "source": [
        "#Gráfico con histogramas y violín\n",
        "\n",
        "# Parámetros\n",
        "var_porfila = 3  # Número de variables por fila\n",
        "graf_porvariable = 2  # Histograma y violín\n",
        "tot_var = len(cols_num)\n",
        "\n",
        "# Calcular el número de filas y columnas\n",
        "n_cols = var_porfila * graf_porvariable  # Total de columnas por fila\n",
        "n_rows = math.ceil(tot_var / var_porfila)  # Número de filas necesarias\n",
        "\n",
        "# Crear subplots dinámicamente\n",
        "fig, axes = plt.subplots(nrows=n_rows, ncols=n_cols, figsize=(20, 3 * n_rows))\n",
        "fig.suptitle('Histogramas y Gráficos de Violín', fontsize=16)\n",
        "\n",
        "if n_rows == 1:\n",
        "    axes = axes.reshape(1, -1)  # Convierte a 2D si hay solo una fila\n",
        "\n",
        "# Añadir gráficos\n",
        "for i, col in enumerate(cols_num):\n",
        "    row = i // var_porfila  # Fila correspondiente\n",
        "    col_hist = (i % var_porfila) * graf_porvariable  # Columna del histograma\n",
        "    col_violin = col_hist + 1  # Columna del gráfico de violín\n",
        "\n",
        "    # Histograma\n",
        "    sns.histplot(dfEDA[col].dropna(), bins=30, ax=axes[row, col_hist])\n",
        "    axes[row, col_hist].set_title(f'{col}', fontsize=10)\n",
        "    axes[row, col_hist].set_xlabel(\"\")\n",
        "    axes[row, col_hist].set_ylabel(\"Frecuencia\")\n",
        "\n",
        "    # Gráfico de violín\n",
        "\n",
        "    sns.violinplot(y=dfEDA[col].dropna(), ax=axes[row, col_violin], inner=\"stick\", color='green', alpha=0.7)\n",
        "\n",
        "    axes[row, col_violin].set_title(f'{col}', fontsize=10)\n",
        "    axes[row, col_violin].set_ylabel(\"\")\n",
        "    axes[row, col_violin].set_xlabel(\"\")\n",
        "\n",
        "# Ajustar el diseño\n",
        "plt.tight_layout(rect=[0, 0, 1, 0.96])\n",
        "#silvia comento los graficos para que no pese, quitar el comentario para analizarlos\n",
        "#fig.show()\n"
      ]
    },
    {
      "cell_type": "markdown",
      "metadata": {
        "id": "CplJrhGYSCv1"
      },
      "source": [
        "#### 🚩\n",
        "Interpretación de las gráficas."
      ]
    },
    {
      "cell_type": "markdown",
      "metadata": {
        "id": "b2Jvrb3XSCv1"
      },
      "source": [
        "##############################################\n",
        "##################################3333\n",
        "######################\n",
        "Silvia: Aqui jhay que revasar las graficas y decir que variables llaman la atención por algun motivo, para tenerlo en cuenta mas adelante.El comentario de abajo no aporta nada al analisis del proyecto."
      ]
    },
    {
      "cell_type": "markdown",
      "metadata": {
        "id": "oePHOaEUSCv1"
      },
      "source": [
        "En la visualizacion mostrada se puede apreciar claramente las distribuciones de las variables numericas/ columnas con valores numericos. Se puede apreciar que hay varias columnas con valores binarios o sea que solo manejan 0 y 1 como valores. Tambien se puede notar que hay algunas variables principalmente las binarias, que en su mayoria estan compuestas por valores igual a 0, lo que significa que no nos aportan mucha informacion y deberiamos analizar que tan importante es esa poca informacion que nos aportan para ver si se sigue conservando. Dentro de las demas variables se pueden notar distribuciones mas variadas."
      ]
    },
    {
      "cell_type": "markdown",
      "metadata": {
        "id": "a_xKi0jtSCv1"
      },
      "source": [
        "#### **_6.1.2 Variables categóricas_**\n",
        "Para las variables categóricas, los gráficos de barras ayudan a visualizar la frecuencia de cada categoría."
      ]
    },
    {
      "cell_type": "code",
      "execution_count": null,
      "metadata": {
        "id": "1Px0NZKsSCv1"
      },
      "outputs": [],
      "source": [
        "# Convertimos a categoricas las siguientes variables, barrio, distrito,letra_ce, tipologia,estado,tipo_inmueble,cocina,tipo_suelo,tipo_fachada,agua_caliente,grupo_cocina,\n",
        "#letra_emisiones,tipo_calefaccion,energia_calefaccioninstalacion_calefaccion\n",
        "\n",
        "cols = [\"barrio\", \"distrito\", \"letra_ce\", \"tipologia\", \"estado\", \"tipo_inmueble\",\n",
        "        \"cocina\", \"tipo_suelo\", \"tipo_fachada\", \"agua_caliente\", \"grupo_cocina\",\n",
        "        \"letra_emisiones\", \"tipo_calefaccion\", \"energia_calefaccion\", \"instalacion_calefaccion\"]\n",
        "\n",
        "for c in cols:\n",
        "    # Convertir 'categoría' a categórica\n",
        "    dfEDA[c] = dfEDA[c].astype('category')"
      ]
    },
    {
      "cell_type": "code",
      "execution_count": null,
      "metadata": {
        "id": "LobFQgzYSCv1"
      },
      "outputs": [],
      "source": [
        "# Función `columnas_por_tipo` que muestra un resumen de los tipo de columnas que hay en el dataframe\n",
        "# boolean_columns, numeric_cols, cat_columns, object_columns, other_columns\n",
        "cols_bool, cols_num, cols_cat, cols_obj, cols_other = columnas_por_tipo(dfEDA)\n",
        "print(\"Booleans:\", cols_bool)\n",
        "print(\"Numéricas:\", cols_num)\n",
        "print(\"Categóricas:\", cols_cat)\n",
        "print(\"Objeto:\", cols_obj)\n",
        "print(\"Otras:\", cols_other)"
      ]
    },
    {
      "cell_type": "code",
      "execution_count": null,
      "metadata": {
        "id": "Dj-GLpPwSCv2"
      },
      "outputs": [],
      "source": [
        "# Definir el número de gráficos por fila\n",
        "num_por_fila = 3\n",
        "listacol=cols_cat\n",
        "# Calcular el número de filas necesarias\n",
        "num_filas = (len(listacol) + num_por_fila - 1) // num_por_fila  # Redondea hacia arriba para cubrir todos los gráficos\n",
        "\n",
        "# Crear la figura con subplots\n",
        "fig, axes = plt.subplots(nrows=num_filas, ncols=num_por_fila, figsize=(15, 5 * num_filas))\n",
        "fig.suptitle(\"Frecuencia de Categorizaciones\", fontsize=16)\n",
        "\n",
        " # Asegurarse de que `axes` es 2D\n",
        "#axes = axes.reshape(num_filas, num_por_fila)\n",
        "#Bucle para crear los gráficos en cada fila\n",
        "for i, col in enumerate(listacol):\n",
        "    # Obtener la fila y columna correspondiente\n",
        "    row = i // num_por_fila\n",
        "    col_idx = i % num_por_fila\n",
        "\n",
        "    # Crear el gráfico de barras\n",
        "    top_10 = graficobarrascategoricas(dfEDA, col)\n",
        "\n",
        "    # Dibujar el gráfico de barras\n",
        "    top_10.plot(kind='bar', ax=axes[row, col_idx])\n",
        "\n",
        "    # Configurar los títulos y etiquetas\n",
        "    axes[row, col_idx].set_title(f'{col}', fontsize=12)\n",
        "    axes[row, col_idx].set_xlabel(\"\")\n",
        "    axes[row, col_idx].set_ylabel(\"Frecuencia\")\n",
        "\n",
        "    # Rotar las etiquetas del eje X\n",
        "    axes[row, col_idx].tick_params(axis='x', rotation=45)\n",
        "\n",
        "    # Ajustar el diseño\n",
        "plt.tight_layout(rect=[0, 0, 1, 0.96])  # Ajustar el diseño para que no se superpongan\n",
        "\n",
        "#silvia comento los graficos para que no pese, quitar el comentario para analizarlos\n",
        "#fig.show()\n",
        "\n",
        "\n",
        "\n"
      ]
    },
    {
      "cell_type": "markdown",
      "metadata": {
        "id": "J5GpKXNwSCv2"
      },
      "source": [
        "### **_6.2 Análisis bivariado_**\n",
        "El análisis bivariado nos permite estudiar la relación entre dos variables, ya sean numéricas o categóricas."
      ]
    },
    {
      "cell_type": "markdown",
      "metadata": {
        "id": "RrpVtcJJSCv2"
      },
      "source": [
        "#### **_6.2.2 Variables numéricas_**\n"
      ]
    },
    {
      "cell_type": "markdown",
      "metadata": {
        "id": "p-EWxWIOSCv2"
      },
      "source": [
        "#### Pairplots para ver la relación entre algunas de las variables numericas"
      ]
    },
    {
      "cell_type": "code",
      "execution_count": null,
      "metadata": {
        "id": "D9t38nboSCv2"
      },
      "outputs": [],
      "source": [
        "# Pairplot de variables numéricas claves\n",
        "sns.pairplot(dfEDA[['precio', 'm2_constr', 'cod_distrito','renta bruta media por hogar']])\n",
        "\n",
        "\n"
      ]
    },
    {
      "cell_type": "markdown",
      "metadata": {
        "id": "0fYDpvalSCv2"
      },
      "source": [
        "##### SLVIA , LOS GRAFICOS HAY QUE EXPLICARLOS CON ALGO SIMILAR A ESTO\n",
        "Explicacion de la grafica\n",
        "\n",
        "1. precio vs. m2_constr:Hay una correlación positiva, a medida que aumenta el tamaño construido (metros cuadrados), el precio tiende a incrementarse. La dispersión  muestra una nube de puntos con una tendencia ascendente.\n",
        "\n",
        "2. precio vs. cod_distrito:La relación entre precio y código de distrito es menos clara. Es probable que el gráfico refleje precios variados dentro de cada distrito,y que el  distrito afecte, pero de manera categórica. Será necesario analizar la comparación de medias por distrito.\n",
        "\n",
        "3. precio vs. renta bruta media por hogar: Hay una gran dispersión en los puntos por lo que la distribución no parece lineal.\n",
        "Podemos ver acumulación de puntos en la parte inferior izquierda , lo que indicaria que las viviendas con precios bajos estan asociados a las rentas más bajas.En las zonas con rentas altas parece haber algo más de variabilidad con algunos valores extremos. Aunque hay dispersión, es posible que exista una relación positiva entre la renta media por hogar y el precioprecio de vivienda.\n"
      ]
    },
    {
      "cell_type": "markdown",
      "metadata": {
        "id": "gV3-VlTWSCv2"
      },
      "source": [
        "#### Matriz de correlación y heatmap\n",
        "\n",
        "Utilizamos la matriz de correlación para  identificar relaciones entre variables numéricas."
      ]
    },
    {
      "cell_type": "code",
      "execution_count": null,
      "metadata": {
        "id": "5f8ne4a2SCv2"
      },
      "outputs": [],
      "source": [
        "df_corr=dfEDA.corr(numeric_only=True).copy()\n",
        "#silvia comento los graficos para que no pese, quitar el comentario para analizarlos\n",
        "\n",
        "#df_corr.style.background_gradient(cmap=\"Greens\",axis=None)\n"
      ]
    },
    {
      "cell_type": "code",
      "execution_count": null,
      "metadata": {
        "id": "6LjPhYXLSCv2"
      },
      "outputs": [],
      "source": [
        "\n",
        "\n",
        "# Seleccionar solo las columnas numéricas\n",
        "numericas = dfEDA.select_dtypes(include=[np.number])\n",
        "\n",
        "\n",
        "# Calcular la correlación de 'var1' con las demás columnas numéricas\n",
        "correlaciones = numericas.corrwith(numericas['precio'])\n",
        "\n",
        "print(\"Correlación de 'var1' con las demás variables numéricas:\")\n",
        "print(correlaciones)\n"
      ]
    },
    {
      "cell_type": "markdown",
      "metadata": {
        "id": "9hzkcX4cSCv2"
      },
      "source": [
        "#### 🚩\n",
        "Explicación de la gráfica\n",
        "\n",
        "Se puede apreciar una especial correlacion entre la variable precio con la de dormitorio m2_utiles, renta bruta media por hogar, renta bruta media por persona, mediana de la renta por unidad de consumo, renta neta media por hogar, renta neta media por persona. Las demas variables cuentan con una relacion hacia la variable precio mucho mas baja.\n"
      ]
    },
    {
      "cell_type": "code",
      "execution_count": null,
      "metadata": {
        "id": "onCr--HeSCv2"
      },
      "outputs": [],
      "source": [
        "# Distribución de variables numéricas\n",
        "\n",
        "\n",
        "# # Selecciono un subconjunto de variables numericas para hacer el estudio\n",
        "# cols= ['m2_constr', 'cod_barrio','cod_distrito']\n",
        "# for c in cols:\n",
        "#     plot_histogram_by_target(df = dfEDA.sort_values(\"precio\"), input_name = c, target_name = 'precio', normalize = True)"
      ]
    },
    {
      "cell_type": "markdown",
      "metadata": {
        "id": "ZutS7v4cSCv2"
      },
      "source": [
        "#### 🚩\n",
        "Explicación de las gráficas\n"
      ]
    },
    {
      "cell_type": "markdown",
      "metadata": {
        "id": "PDzyy8ySSCv2"
      },
      "source": [
        "#### **_6.2.2 Variables categoricas_**\n"
      ]
    },
    {
      "cell_type": "markdown",
      "metadata": {
        "id": "w-K64yL-SCv2"
      },
      "source": [
        "Analizamos la relación de la variable target con las varaibles categoricas\n"
      ]
    },
    {
      "cell_type": "code",
      "execution_count": null,
      "metadata": {
        "id": "quA4fhGnSCv2"
      },
      "outputs": [],
      "source": [
        "#silvia comento los graficos para que no pese, quitar el comentario para analizarlos\n",
        "\n",
        "#generar_barplot_media_mediana(dfEDA, cols_cat, 'precio')"
      ]
    },
    {
      "cell_type": "markdown",
      "metadata": {
        "id": "joVVSnZTSCv3"
      },
      "source": [
        "#### 🚩\n",
        "Explicación de las gráficas\n",
        "\n",
        "En esta grafica se puede aprecias claramente la distriburcion e influencia de el distrito sobre el precio. Logrando asi comprender como conclusion que el precio cambiara significativamente segun el distrito donde quieras vivir."
      ]
    },
    {
      "cell_type": "markdown",
      "metadata": {
        "id": "MmnUrhxxSCv3"
      },
      "source": [
        "# **_6. Limpieza de datos_**"
      ]
    },
    {
      "cell_type": "code",
      "execution_count": null,
      "metadata": {
        "id": "wtur0TgVSCv3"
      },
      "outputs": [],
      "source": [
        "dfEDA[\"distrito\"].value_counts(dropna=False)"
      ]
    },
    {
      "cell_type": "markdown",
      "metadata": {
        "id": "kHCrb9C9SCv3"
      },
      "source": [
        "### **_6.1 Eliminación de duplicados_**"
      ]
    },
    {
      "cell_type": "code",
      "execution_count": null,
      "metadata": {
        "id": "MTd_UVqmSCv3"
      },
      "outputs": [],
      "source": [
        "# Comprobamos si hay filas duplicadas\n",
        "len(dfEDA.drop_duplicates()) / len(dfEDA)"
      ]
    },
    {
      "cell_type": "markdown",
      "metadata": {
        "id": "OF1UiEwrSCv3"
      },
      "source": [
        "### **_6.2 Tratamiento de nulos_**\n",
        "Dependiendo de la cantidad de valores nulos y duplicados detectados, se pueden tomar las siguientes acciones:\n",
        "- Eliminar registros con muchos valores nulos si afectan el análisis.\n",
        "- Imputar valores faltantes\n",
        "- Eliminar registros duplicados si no aportan valor al análisis."
      ]
    },
    {
      "cell_type": "code",
      "execution_count": null,
      "metadata": {
        "id": "GpoN3NR5SCv3"
      },
      "outputs": [],
      "source": [
        "for col in dfEDA.columns:\n",
        "    porcentaje_nulos = dfEDA[col].isnull().mean() * 100\n",
        "    if porcentaje_nulos > 90:\n",
        "        print(f'Columna {col}: {porcentaje_nulos:.2f}% nulos')"
      ]
    },
    {
      "cell_type": "code",
      "execution_count": null,
      "metadata": {
        "id": "ohkSjvjNSCv3"
      },
      "outputs": [],
      "source": [
        "# Comprobamos si hay columnas con un 95% de los datos iguales, que no sean columnas con 0 y 1, en ese caso se eliminarán estas columnas\n",
        "[col for col in dfEDA.columns if dfEDA[col].value_counts(normalize=True).max() >= 0.95]"
      ]
    },
    {
      "cell_type": "code",
      "execution_count": null,
      "metadata": {
        "id": "ZR_8zLZpSCv3"
      },
      "outputs": [],
      "source": [
        "#Solo tenemos el caso de la columnas instalación calefaccion que tiene mas del 95% de los valores 'Radiadores'\n",
        "dfEDA[\"instalacion_calefaccion\"].value_counts(dropna=False)"
      ]
    },
    {
      "cell_type": "markdown",
      "metadata": {
        "id": "KLAdew3vSCv3"
      },
      "source": [
        "## 🚩\n",
        "REVISAR SI VAMOS A ELIMINAR CON ESTOS UMBRLES, DE MOMENTO LO COMENTO"
      ]
    },
    {
      "cell_type": "code",
      "execution_count": null,
      "metadata": {
        "id": "S_f9TyFESCv3"
      },
      "outputs": [],
      "source": [
        "# Eliminamos LAS COLUMNAS con un porcentaje de nulos mayor del 65 % y las columnas desequilibradas en las que una categoría contiene el 95% o mas de los datos.\n",
        "# umbral = len(dfEDA) * 0.35\n",
        "\n",
        "# Eliminar columnas con más del 90% de valores nulos\n",
        "# dfEDA = dfEDA.dropna(axis=1, thresh=umbral)\n",
        "# dfEDA = dfEDA.drop(columns=[col for col in dfEDA.columns if dfEDA[col].value_counts(normalize=True).max() >= 0.95])\n",
        "# dfEDA.shape"
      ]
    },
    {
      "cell_type": "code",
      "execution_count": null,
      "metadata": {
        "id": "BIElFIm-SCv3"
      },
      "outputs": [],
      "source": [
        "# Comprobar las columnas que tenen nulos\n",
        "for col in dfEDA.columns:\n",
        "    porcentaje_nulos = dfEDA[col].isnull().mean() * 100\n",
        "    if porcentaje_nulos > 0:\n",
        "        print(f'Columna {col}: {porcentaje_nulos:.2f}% nulos')"
      ]
    },
    {
      "cell_type": "markdown",
      "metadata": {
        "id": "WZcRsnUfSCv3"
      },
      "source": [
        "### **_6.2.1 Imputación de nulos de variables numéricas_**"
      ]
    },
    {
      "cell_type": "markdown",
      "metadata": {
        "id": "4bc97g_NSCv3"
      },
      "source": [
        "Agrupación en columna tipologia necesaria para hacer la imputacion de nulos de algunas columnas"
      ]
    },
    {
      "cell_type": "markdown",
      "metadata": {
        "id": "7EjufyoGSCv3"
      },
      "source": [
        "#### **_Tipologia_**"
      ]
    },
    {
      "cell_type": "code",
      "execution_count": null,
      "metadata": {
        "id": "2o8F19uRSCv3"
      },
      "outputs": [],
      "source": [
        "# Diccionario de mapeo para agrupar valores\n",
        "mapping = {\n",
        "    'Piso': 'Piso',\n",
        "    'Apartamento': 'Piso',\n",
        "    'Ático': 'Atico',\n",
        "    'Atico': 'Atico',\n",
        "    'Dúplex': 'Piso',\n",
        "    'Duplex': 'Piso',\n",
        "    'Estudio': 'Piso',\n",
        "    'Loft': 'Piso',\n",
        "    'Chalet': 'Chalet',\n",
        "    'Chalet Adosado': 'Chalet',\n",
        "    'Chalet Pareado': 'Chalet',\n",
        "    'Adosado': 'Chalet',\n",
        "    'Pareado': 'Chalet',\n",
        "    'Villa': 'Chalet',\n",
        "    'Bungalow': 'Chalet',\n",
        "    'Casa': 'Chalet'\n",
        "}\n",
        "\n",
        "# Agrupar valores en la columna 'tipo_propiedad'\n",
        "dfEDA['tipologia_agr'] = dfEDA['tipologia'].replace(mapping)\n",
        "dfEDA[\"tipologia_agr\"].value_counts(dropna=False)\n",
        "\n"
      ]
    },
    {
      "cell_type": "markdown",
      "metadata": {
        "id": "tgxSmFXoSCv3"
      },
      "source": [
        "#### Nulos  dormitorios\n"
      ]
    },
    {
      "cell_type": "code",
      "execution_count": null,
      "metadata": {
        "id": "qnmBPxSnSCv4"
      },
      "outputs": [],
      "source": [
        "dfEDA.query(\"dormitorios.isnull()\")[[\"url\",\"m2_constr\",\"precio\",\"dormitorios\",\"distrito\"]]"
      ]
    },
    {
      "cell_type": "code",
      "execution_count": null,
      "metadata": {
        "id": "fxvGJxmnSCv4"
      },
      "outputs": [],
      "source": [
        "# Establecer 'dormitorios' a 0 donde es nulo y la 'tipologia' es 'Estudio'\n",
        "dfEDA.loc[(dfEDA['tipologia'] == 'Estudio') & dfEDA['dormitorios'].isnull(), 'dormitorios'] = 0"
      ]
    },
    {
      "cell_type": "code",
      "execution_count": null,
      "metadata": {
        "id": "GVQVBHp2SCv4"
      },
      "outputs": [],
      "source": [
        "dfEDA = calcular_mediana_colconnulos(dfEDA, 'dormitorios', 'distrito', 'm2_constr')\n",
        "#comprobar por que depues de aplicar la funcion siguen quedando nulos, puede ser por que no haya vivendas para hacer la mediana en el distrito con la misma cantidad de dormitorios\n"
      ]
    },
    {
      "cell_type": "code",
      "execution_count": null,
      "metadata": {
        "id": "RFbasHBTSCv4"
      },
      "outputs": [],
      "source": [
        "dfEDA[\"dormitorios\"].value_counts(dropna=False)"
      ]
    },
    {
      "cell_type": "code",
      "execution_count": null,
      "metadata": {
        "id": "T5rQdzXJSCv4"
      },
      "outputs": [],
      "source": [
        "dfEDA.query(\"dormitorios.isnull()\")"
      ]
    },
    {
      "cell_type": "markdown",
      "metadata": {
        "id": "iAqGM1gBSCv4"
      },
      "source": [
        "#### Nulos banos"
      ]
    },
    {
      "cell_type": "code",
      "execution_count": null,
      "metadata": {
        "id": "vEwG8nBwSCv4"
      },
      "outputs": [],
      "source": [
        "\n",
        "# a todos los Estudios les voy a aplicar banos=1\n",
        "#el mininimo de banos tiene que ser 1, en los estudios tienen 0 habitaciones y 1 baño\n",
        "# Establecer 'banos' a 1 solo si tiene un valor menor que 1 o es nulo para 'Estudio'\n",
        "dfEDA.loc[(dfEDA['tipologia'] == 'Estudio'), 'banos'] = 1"
      ]
    },
    {
      "cell_type": "code",
      "execution_count": null,
      "metadata": {
        "id": "SM-Nl9hwSCv4"
      },
      "outputs": [],
      "source": [
        "# Identificar y mostrar valores no numéricos, excluyendo '3+'\n",
        "non_numeric_values = dfEDA[~dfEDA['banos'].apply(lambda x: str(x).replace('.', '').isdigit()) & dfEDA['banos'].notnull() & (dfEDA['banos'] != '3+')]['banos']\n",
        "print(\"Valores no numéricos en la columna 'banos':\")\n",
        "print (non_numeric_values)"
      ]
    },
    {
      "cell_type": "code",
      "execution_count": null,
      "metadata": {
        "id": "mtugvJSdSCv4"
      },
      "outputs": [],
      "source": [
        "# # Convertir la columna 'banos' a numérica , salvo 3+\n",
        "dfEDA['banos'] = dfEDA['banos'].apply(lambda x: pd.to_numeric(x) if x != \"3+\" else x)\n"
      ]
    },
    {
      "cell_type": "code",
      "execution_count": null,
      "metadata": {
        "id": "FEya00v8SCv5"
      },
      "outputs": [],
      "source": [
        "# Reemplazar los valores '3+' por 5 en la columna 'banos'\n",
        "dfEDA['banos'] = dfEDA['banos'].replace('3+', 5)"
      ]
    },
    {
      "cell_type": "code",
      "execution_count": null,
      "metadata": {
        "id": "3N_y6R9CSCv4"
      },
      "outputs": [],
      "source": [
        "\n",
        "dfEDA[\"banos\"].value_counts(dropna=False)"
      ]
    },
    {
      "cell_type": "code",
      "execution_count": null,
      "metadata": {
        "id": "DCpYp0cuSCv4"
      },
      "outputs": [],
      "source": [
        "# Filtrar valores no nulos y que 'banos' no sea igual a '3+', luego calcular la mediana por 'cod_barrio' y 'tipologia_agr'\n",
        "#mediana_banos_barrio_tlogia = (\n",
        " #   dfEDA[dfEDA['cod_barrio'].notnull() & dfEDA['banos'].notnull() & (dfEDA['banos'] != '3+')]\n",
        "  #  .groupby(['cod_barrio', 'tipologia_agr'])['banos']\n",
        "  #  .median()\n",
        "#)\n",
        "mediana_banos_barrio_tlogia =diccionario_mediana(dfEDA,'banos','cod_barrio','tipologia_agr')\n",
        "# Filtrar valores no nulos y que 'banos' no sea igual a '3+', luego calcular la mediana por 'cod_distrito' y 'tipologia_agr'\n",
        "#mediana_banos_distrito_tlogia = (\n",
        " #   dfEDA[dfEDA['cod_distrito'].notnull() & dfEDA['banos'].notnull() & (dfEDA['banos'] != '3+')]\n",
        "  #  .groupby(['cod_distrito', 'tipologia_agr'])['banos']\n",
        "   # .median()\n",
        "#)\n",
        "mediana_banos_distrito_tlogia =diccionario_mediana(dfEDA,'banos','cod_distrito','tipologia_agr')\n",
        "# Convertir a diccionario\n",
        "mediana_banos_barrio_dict = mediana_banos_barrio_tlogia.to_dict()\n",
        "mediana_banos_distrito_dict = mediana_banos_distrito_tlogia.to_dict()\n",
        "\n",
        "\n"
      ]
    },
    {
      "cell_type": "code",
      "execution_count": null,
      "metadata": {
        "id": "WuDX3yY5SCv4"
      },
      "outputs": [],
      "source": [
        "#Aplic a todos los qe tienen valor +3, el valor 5\n"
      ]
    },
    {
      "cell_type": "code",
      "execution_count": null,
      "metadata": {
        "id": "byRjyMaNSCv4"
      },
      "outputs": [],
      "source": [
        "# Aplicar la función a las filas seleccionadas\n",
        "dfEDA['banos'] = dfEDA.apply(lambda row: asignar_columna(row, mediana_banos_barrio_dict ,'banos','cod_barrio','tipologia_agr','Chalet'), axis=1)\n",
        "dfEDA['banos'] = dfEDA.apply(lambda row: asignar_columna(row, mediana_banos_distrito_dict ,'banos','cod_barrio','tipologia_agr','Chalet'), axis=1)\n",
        "\n",
        "\n",
        "\n",
        "\n",
        "dfEDA['banos'] = dfEDA.apply(lambda row: asignar_columna(row, mediana_banos_barrio_dict ,'banos','cod_barrio','tipologia_agr','Piso'), axis=1)\n",
        "dfEDA['banos'] = dfEDA.apply(lambda row: asignar_columna(row, mediana_banos_distrito_dict ,'banos','cod_barrio','tipologia_agr','Piso'), axis=1)"
      ]
    },
    {
      "cell_type": "code",
      "execution_count": null,
      "metadata": {
        "id": "v6s51GFbSCv4"
      },
      "outputs": [],
      "source": [
        "# Obtener la clave con el valor máximo\n",
        "clave_maxima = max(mediana_banos_barrio_dict, key=mediana_banos_barrio_dict.get)\n",
        "valor_maximo = mediana_banos_barrio_dict[clave_maxima]\n",
        "valor_maximo"
      ]
    },
    {
      "cell_type": "code",
      "execution_count": null,
      "metadata": {
        "id": "NWYDD64BSCv4"
      },
      "outputs": [],
      "source": [
        "# Obtener la clave con el valor máximo\n",
        "clave_maxima = max(mediana_banos_distrito_dict , key=mediana_banos_distrito_dict.get)\n",
        "valor_maximo = mediana_banos_distrito_dict [clave_maxima]\n",
        "valor_maximo"
      ]
    },
    {
      "cell_type": "code",
      "execution_count": null,
      "metadata": {
        "id": "5Qwbf9q3SCv5"
      },
      "outputs": [],
      "source": [
        "dfEDA['banos'] = pd.to_numeric(dfEDA['banos'])"
      ]
    },
    {
      "cell_type": "code",
      "execution_count": null,
      "metadata": {
        "id": "NBiebMMDSCv5"
      },
      "outputs": [],
      "source": [
        "# Establecer 'banos' a NaN donde 'banos' es 0\n",
        "#dfEDA.loc[dfEDA['banos'] == 0, 'banos'] = np.nan"
      ]
    },
    {
      "cell_type": "code",
      "execution_count": null,
      "metadata": {
        "id": "aG7a5fjFSCv5"
      },
      "outputs": [],
      "source": [
        "# Aplicar la función a las filas seleccionadas\n",
        "dfEDA['banos'] = dfEDA.apply(lambda row: asignar_columna(row, mediana_banos_barrio_dict ,'banos','cod_barrio','tipologia_agr','Chalet'), axis=1)\n",
        "dfEDA['banos'] = dfEDA.apply(lambda row: asignar_columna(row, mediana_banos_distrito_dict ,'banos','cod_distrito','tipologia_agr','Chalet'), axis=1)\n",
        "\n",
        "\n",
        "dfEDA['banos'] = dfEDA.apply(lambda row: asignar_columna(row, mediana_banos_barrio_dict ,'banos','cod_barrio','tipologia_agr','Piso'), axis=1)\n",
        "dfEDA['banos'] = dfEDA.apply(lambda row: asignar_columna(row, mediana_banos_distrito_dict ,'banos','cod_distrito','tipologia_agr','Piso'), axis=1)\n",
        "\n",
        "dfEDA['banos'] = dfEDA.apply(lambda row: asignar_columna(row, mediana_banos_barrio_dict ,'banos','cod_barrio','tipologia_agr','Atico'), axis=1)\n",
        "dfEDA['banos'] = dfEDA.apply(lambda row: asignar_columna(row, mediana_banos_distrito_dict ,'banos','cod_barrio','tipologia_agr','Atico'), axis=1)"
      ]
    },
    {
      "cell_type": "code",
      "execution_count": null,
      "metadata": {
        "id": "YKXFd20ySCv5"
      },
      "outputs": [],
      "source": [
        "dfEDA[\"banos\"].value_counts(dropna=False)"
      ]
    },
    {
      "cell_type": "markdown",
      "metadata": {
        "id": "_z9k50XuSCv5"
      },
      "source": [
        "Se ha comprobadoy la vivienda https://www.pisos.com/comprar/chalet-fuencarral_el_pardo_el_pardo28023-46668989227_102100/ tiene 13 baños\n"
      ]
    },
    {
      "cell_type": "code",
      "execution_count": null,
      "metadata": {
        "id": "jrfEb6HLSCv5"
      },
      "outputs": [],
      "source": [
        "dfEDA['banos'] = pd.to_numeric(dfEDA['banos'])"
      ]
    },
    {
      "cell_type": "code",
      "execution_count": null,
      "metadata": {
        "id": "G-iagdbSSCv5"
      },
      "outputs": [],
      "source": [
        "dfEDA.banos.describe()"
      ]
    },
    {
      "cell_type": "markdown",
      "metadata": {
        "id": "MuYIAAMISCv5"
      },
      "source": [
        "#####  Nulos en m2_constr"
      ]
    },
    {
      "cell_type": "code",
      "execution_count": null,
      "metadata": {
        "id": "N256VRqsSCv5"
      },
      "outputs": [],
      "source": [
        "dfEDA.query(\"m2_constr.isnull() \")[['url','m2_constr',\"dormitorios\",\"precio\",\"cod_barrio\",\"cod_distrito\"]]"
      ]
    },
    {
      "cell_type": "code",
      "execution_count": null,
      "metadata": {
        "id": "i3Ybsov1SCv5"
      },
      "outputs": [],
      "source": [
        "dfEDA[\"terraza\"].value_counts(dropna=False)"
      ]
    },
    {
      "cell_type": "code",
      "execution_count": null,
      "metadata": {
        "id": "bNjUMgkZSCv5"
      },
      "outputs": [],
      "source": [
        "###QUEDAN VALORES NULOS EN M2_CONSTR, le damos la mediana de las viviendas del mismo distrito y mismo numero de dormitorios\n",
        "\n",
        "\n",
        "# Aplicar la función para llenar solo los valores nulos en m2_constr\n",
        "dfEDA['m2_constr'] = dfEDA.apply(\n",
        "    #lambda row: calcular_mediana_m2_contr(row, dfEDA) if pd.isnull(row['m2_constr']) else row['m2_constr'], axis=1)\n",
        "    lambda row: calcular_mediana_colconnulos(row, dfEDA,'m2_constr','distrito','dormitorios') if pd.isnull(row['m2_constr']) else row['m2_constr'], axis=1)\n"
      ]
    },
    {
      "cell_type": "code",
      "execution_count": null,
      "metadata": {
        "id": "BfzqXzwtSCv5"
      },
      "outputs": [],
      "source": [
        "dfEDA.query(\"m2_constr.isnull()\")"
      ]
    },
    {
      "cell_type": "code",
      "execution_count": null,
      "metadata": {
        "id": "NVMNXXvtSCv6"
      },
      "outputs": [],
      "source": [
        "dfEDA.reset_index(drop=True, inplace=True)"
      ]
    },
    {
      "cell_type": "code",
      "execution_count": null,
      "metadata": {
        "id": "BBg7VHH6SCv6"
      },
      "outputs": [],
      "source": [
        "#m2_utiles=0.8 * m2_constr\n",
        "#dfEDA[\"m2_utiles\"] = dfEDA[\"m2_utiles\"].fillna(0.8 * dfEDA[\"m2_constr\"])\n"
      ]
    },
    {
      "cell_type": "markdown",
      "metadata": {
        "id": "yqVsTRr1SCv6"
      },
      "source": [
        "#### revisamos nulos de dormitorios despues de haber completado m2_constr"
      ]
    },
    {
      "cell_type": "code",
      "execution_count": null,
      "metadata": {
        "id": "OT8-39JBSCv6"
      },
      "outputs": [],
      "source": [
        "#vuelvo a revisar dormitorios ahora que tenemos m2_constr con datos\n",
        "mediana_dormitorios_barrio_tlogia =diccionario_mediana(dfEDA,'dormitorios','cod_barrio','tipologia_agr','')\n",
        "mediana_dormitorios_barrio_dict = mediana_dormitorios_barrio_tlogia.to_dict()\n",
        "dfEDA['dormitorios'] = dfEDA.apply(lambda row: asignar_columna(row, mediana_dormitorios_barrio_dict ,'dormitorios','cod_barrio','tipologia_agr','Chalet'), axis=1)\n",
        "dfEDA['dormitorios'] = dfEDA.apply(lambda row: asignar_columna(row, mediana_dormitorios_barrio_dict ,'dormitorios','cod_barrio','tipologia_agr','Piso'), axis=1)\n",
        "dfEDA['dormitorios'] = dfEDA.apply(lambda row: asignar_columna(row, mediana_dormitorios_barrio_dict ,'dormitorios','cod_barrio','tipologia_agr','Atico'), axis=1)"
      ]
    },
    {
      "cell_type": "code",
      "execution_count": null,
      "metadata": {
        "id": "7tsGb3wuSCv6"
      },
      "outputs": [],
      "source": [
        "dfEDA[\"banos\"].value_counts(dropna=False)"
      ]
    },
    {
      "cell_type": "markdown",
      "metadata": {
        "id": "rFLcYLhaSCv6"
      },
      "source": [
        "#### trastero"
      ]
    },
    {
      "cell_type": "code",
      "execution_count": null,
      "metadata": {
        "id": "rSdN9fB-SCv6"
      },
      "outputs": [],
      "source": [
        "dfEDA[\"trastero\"].value_counts(dropna=False)"
      ]
    },
    {
      "cell_type": "code",
      "execution_count": null,
      "metadata": {
        "id": "AafaXmF5SCv6"
      },
      "outputs": [],
      "source": [
        "#Considero que hay columnas que si no tienen valor el valor que les corresponde es 0. Pondremos 0 en num_garajes, amueblado, trastero\n",
        "#seguir escribiendo las columnas que correspondan y aplicarlo al final\n"
      ]
    },
    {
      "cell_type": "code",
      "execution_count": null,
      "metadata": {
        "id": "5LxwWeDfSCv6"
      },
      "outputs": [],
      "source": [
        "#cols_nulos_acero=[\"num_garajes\", \"amueblado\",\"trastero\"]\n",
        "#for col in cols_nulos_acero:\n",
        "#    dfEDA[col] = dfEDA[col].fillna(0)"
      ]
    },
    {
      "cell_type": "markdown",
      "metadata": {
        "id": "u2p9dirDSCv6"
      },
      "source": [
        "### **_6.2.2 Imputación de nulos de variables categóricas_**"
      ]
    },
    {
      "cell_type": "code",
      "execution_count": null,
      "metadata": {
        "id": "wMguUnVlSCv6"
      },
      "outputs": [],
      "source": [
        "dfEDA[\"tipo_fachada\"].value_counts(dropna=False)"
      ]
    },
    {
      "cell_type": "code",
      "source": [],
      "metadata": {
        "id": "ausJY1IETxbD"
      },
      "execution_count": null,
      "outputs": []
    },
    {
      "cell_type": "code",
      "execution_count": null,
      "metadata": {
        "id": "S4HnhxU1SCv6"
      },
      "outputs": [],
      "source": [
        "dfEDA[\"tipo_suelo\"].value_counts(dropna=False)"
      ]
    },
    {
      "cell_type": "markdown",
      "metadata": {
        "id": "tdWUzcOeSCv6"
      },
      "source": [
        "# **_7. Feature engineering y Categorical Encoding_**"
      ]
    },
    {
      "cell_type": "markdown",
      "metadata": {
        "id": "jA14OzEJSCv6"
      },
      "source": [
        "m2_utiles"
      ]
    },
    {
      "cell_type": "code",
      "execution_count": null,
      "metadata": {
        "id": "9IlVbOfqSCv6"
      },
      "outputs": [],
      "source": [
        "# para los valores nulos calculamos los m2_utiles como 0.8 de los contruidos\n",
        "#tambien podriamos calcular el indice con los valores que tenemos\n",
        "def calcular_utiles(m2_constr):\n",
        "    return m2_constr * 0.80"
      ]
    },
    {
      "cell_type": "markdown",
      "metadata": {
        "id": "mD8ZwmHiSCv6"
      },
      "source": [
        "#### tipologia"
      ]
    },
    {
      "cell_type": "markdown",
      "metadata": {
        "id": "WUDFx1jmSCv6"
      },
      "source": [
        "Se hace antes por que lo necesitamos para imputar los nulos de banos"
      ]
    },
    {
      "cell_type": "code",
      "execution_count": null,
      "metadata": {
        "id": "wCkd7rKESCv6"
      },
      "outputs": [],
      "source": [
        "dfEDA[\"tipologia_agr\"].value_counts(dropna=False)"
      ]
    },
    {
      "cell_type": "markdown",
      "metadata": {
        "id": "4FE28F06SCv7"
      },
      "source": [
        "#### carpinteria"
      ]
    },
    {
      "cell_type": "code",
      "execution_count": null,
      "metadata": {
        "id": "-huV2qOuSCv7"
      },
      "outputs": [],
      "source": [
        "\n",
        "# Diccionario para asignar valores de eficiencia\n",
        "eficiencia_carpinteria = {\n",
        "    'carpinteria_exterior_vidrio/metal': 1,\n",
        "    'carpinteria_exterior_vidrio/madera': 2,\n",
        "    'carpinteria_exterior_vidrio/pvc': 3,\n",
        "    'carpinteria_exterior_doble_vidrio/metal': 4,\n",
        "    'carpinteria_exterior_doble_vidrio/madera': 5,\n",
        "    'carpinteria_exterior_doble_vidrio/pvc': 6,\n",
        "    'carpinteria_exterior_triple_vidrio/metal': 7,\n",
        "    'carpinteria_exterior_triple_vidrio/madera': 8\n",
        "}\n",
        "\n",
        "# Crear una columna nueva con los valores de eficiencia\n",
        "def calcular_eficiencia(row):\n",
        "    valores = [eficiencia_carpinteria[col] for col in eficiencia_carpinteria if row[col] == 1]\n",
        "    return max(valores) if valores else None\n",
        "\n",
        "dfEDA['eficiencia_carpinteria'] = dfEDA.apply(calcular_eficiencia, axis=1)\n",
        "\n",
        "\n"
      ]
    },
    {
      "cell_type": "code",
      "execution_count": null,
      "metadata": {
        "id": "XoIwNfyrSCv7"
      },
      "outputs": [],
      "source": [
        "dfEDA[\"eficiencia_carpinteria\"].value_counts(dropna=False)"
      ]
    },
    {
      "cell_type": "code",
      "execution_count": null,
      "metadata": {
        "id": "gBRR7m38SCv7"
      },
      "outputs": [],
      "source": [
        "dfEDA[\"estado\"].value_counts(dropna=False)"
      ]
    },
    {
      "cell_type": "code",
      "source": [
        "#eliminamos las columnas\n",
        "cols=('carpinteria_exterior_vidrio/metal','carpinteria_exterior_vidrio/madera','carpinteria_exterior_vidrio/pvc',\n",
        "    'carpinteria_exterior_doble_vidrio/metal','carpinteria_exterior_doble_vidrio/madera','carpinteria_exterior_doble_vidrio/pvc',\n",
        "    'carpinteria_exterior_triple_vidrio/metal','carpinteria_exterior_triple_vidrio/madera')\n",
        "dfEDA=dfEDA.drop(columns=cols)"
      ],
      "metadata": {
        "id": "wK18Dt8KVEmy"
      },
      "execution_count": null,
      "outputs": []
    },
    {
      "cell_type": "code",
      "execution_count": null,
      "metadata": {
        "id": "0yxsg01rSCv7"
      },
      "outputs": [],
      "source": [
        "# Crear un diccionario de mapeo para agrupar las categorías\n",
        "estado_map = {\n",
        "    \"En buen estado\": \"Buen estado\",\n",
        "    \"Bueno / Habitable\": \"Buen estado\",\n",
        "    \"Estado Perfecto Estado\": \"Buen estado\",\n",
        "    \"A estrenar\": \"Reformado\",\n",
        "    \"Reformado\": \"Reformado\",\n",
        "    \"A reformar\": \"Para reformar\",\n",
        "    \"Estado A reformar\": \"Para reformar\",\n",
        "    \"Para reformar\": \"Para reformar\",\n",
        "    \"Óptimo / Reformado\": \"Reformado\",\n",
        "    \"Nuevo / En construcción\": \"Obra nueva\",\n",
        "    \"Estado Depende del precio\": \"Depende del precio\",\n",
        "    \"Estado Obra nueva\": \"Obra nueva\",\n",
        "    \"Obra nueva\": \"Obra nueva\"\n",
        "}\n",
        "\n",
        "# Aplicar el mapeo al dataframe\n",
        "dfEDA['estado'] = dfEDA['estado'].map(estado_map).fillna('Desconocido')\n"
      ]
    },
    {
      "cell_type": "markdown",
      "metadata": {
        "id": "pBiq-Fm7SCv7"
      },
      "source": [
        "#### amueblado"
      ]
    },
    {
      "cell_type": "code",
      "execution_count": null,
      "metadata": {
        "id": "1LVFDD9ySCv7"
      },
      "outputs": [],
      "source": [
        "dfEDA[\"amueblado\"].value_counts(dropna=False)"
      ]
    },
    {
      "cell_type": "code",
      "execution_count": null,
      "metadata": {
        "id": "G8dtssq_SCv7"
      },
      "outputs": [],
      "source": [
        "# Crear un diccionario de mapeo para convertir los valores\n",
        "amueblado_map = {\n",
        "    \"Sí\": 1,\n",
        "    \"No\": 0,\n",
        "    \"1.0\": 1,\n",
        "    \"0.0\": 0,\n",
        "    \"0\": 0,\n",
        "    \"Sólo cocina amueblada\": 0.1,\n",
        "    \"Parcialmente amueblado\": 0.5\n",
        "}\n",
        "\n",
        "# Aplicar el mapeo a la columna \"amueblado\"\n",
        "dfEDA['amueblado'] = dfEDA['amueblado'].map(amueblado_map).fillna(0)\n"
      ]
    },
    {
      "cell_type": "markdown",
      "metadata": {
        "id": "CGILMh4XSCv7"
      },
      "source": [
        "### planta Revisar ######################"
      ]
    },
    {
      "cell_type": "code",
      "execution_count": null,
      "metadata": {
        "id": "tbG5eEpJSCv7"
      },
      "outputs": [],
      "source": [
        "# Se remplaza valor raro encontrado en la columna planta\n",
        "dfEDA[\"planta\"] = dfEDA[\"planta\"].replace({\" , 2\", 2})"
      ]
    },
    {
      "cell_type": "code",
      "execution_count": null,
      "metadata": {
        "id": "IJcg81mASCv7"
      },
      "outputs": [],
      "source": [
        "# Limpiar los valores de la columna 'planta'\n",
        "dfEDA['planta'] = dfEDA['planta'].str.replace(' ,', '').str.strip()\n",
        "dfEDA.loc[dfEDA['planta'] == 'Entreplanta', 'planta'] = 0.5\n",
        "# Sustituir \"Planta baja\" por 0 en la columna 'planta'\n",
        "dfEDA['planta'] = dfEDA['planta'].replace('Planta baja', 0)\n",
        "# Reemplazar \"Semi-sótano\" por \"-0,5\" en la columna 'planta'\n",
        "dfEDA['planta'] = dfEDA['planta'].replace('Semi-sótano', '-0.5')\n",
        "# Actualizar la columna planta para las filas que cumplen con las condiciones\n",
        "dfEDA.loc[(dfEDA['planta'] == 'Principal') & (dfEDA['tipologia'] == 'Piso'), 'planta'] = 3\n",
        "# Actualizar la columna planta para las filas que cumplen con las condiciones\n",
        "dfEDA.loc[(dfEDA['planta'] == 'Principal') & (dfEDA['tipologia'] == 'Apartamento'), 'planta'] = 3\n",
        "\n",
        "\n",
        "# Limpiar espacios vacíos y otros valores no numéricos\n",
        "dfEDA['planta'] = dfEDA['planta'].replace({'Sótano': '', r'\\(.*\\)': ''}, regex=True)\n",
        "# tenemos un valor que es planta Principal en un chalet o casa no aplica, ¿que valor numerico ele puedo dar?, en un piso le voy a daer el 3 por que hace referencia a pisos que no son ni bajos ni aticoa\n",
        "# dfEDA['planta'] = dfEDA['planta'].str.replace(' ,', '').str.strip()\n",
        "# dfEDA['planta'] = dfEDA['planta'].str.replace('1, ', '')\n",
        "#elimino esta fila por que son 3 viviendas\n",
        "dfEDA = dfEDA[dfEDA['planta'] != 'Planta baja, de la 1 a la 3, 5']\n",
        "dfEDA = dfEDA[dfEDA['planta'] != 'De la principal a la 2']\n",
        "#mas adelante les pongo el mismo valor que Atico por que a la hora de calcular el precio es similar\n",
        "# Establecer 'planta' a nulo para todos los 'Chalet'\n",
        "dfEDA.loc[dfEDA['tipologia_agr'] == 'Chalet', 'planta'] = np.nan\n",
        "# Convierte la columna 'planta' a valores numéricos, forzando errores en NaN donde no sea posible\n",
        "# dfEDA['planta'] = pd.to_numeric(dfEDA['planta'])\n",
        "dfEDA['planta'] = pd.to_numeric(dfEDA['planta'], errors='coerce')\n",
        "\n",
        "#hay aticos con valor planta=1 en los datos, creo que es un error en la publicacion de la vivieda, los pongo a nulos para asignarles el valor de la ultima planta en el barrio\n",
        "dfEDA.loc[(dfEDA['planta'] == 1) & (dfEDA['tipologia_agr'] == 'Atico'), 'planta'] = np.nan\n",
        "#El edificio de viviendas mas alto de Madrid tiene 33 plantas, los datos con planta mayores de ese valor son erroneos por ello le voy a poner valor nulo si se cumple\n",
        "# dfEDA.loc[(dfEDA['planta'] > 33) & (dfEDA['tipologia_agr'] == 'Piso' | dfEDA['tipologia_agr'] == 'Atico'), 'planta'] = np.nan\n",
        "# El edificio de viviendas más alto de Madrid tiene 33 plantas, los datos con planta mayores de ese valor son erroneos, por ello les pongo valor nulo si se cumple\n",
        "dfEDA.loc[(dfEDA['planta'] > 33) & (dfEDA['tipologia_agr'] == 'Piso'), 'planta'] = np.nan\n",
        "dfEDA.loc[(dfEDA['planta'] > 33) & (dfEDA['tipologia_agr'] == 'Atico'), 'planta'] = np.nan"
      ]
    },
    {
      "cell_type": "code",
      "execution_count": null,
      "metadata": {
        "id": "x8LBM8T9SCv7"
      },
      "outputs": [],
      "source": []
    },
    {
      "cell_type": "code",
      "execution_count": null,
      "metadata": {
        "id": "rRLLpdUsSCv7"
      },
      "outputs": [],
      "source": [
        "dfEDA.planta.describe()"
      ]
    },
    {
      "cell_type": "code",
      "execution_count": null,
      "metadata": {
        "id": "Ae7Vzqq0SCv7"
      },
      "outputs": [],
      "source": [
        "dfEDA"
      ]
    },
    {
      "cell_type": "code",
      "execution_count": null,
      "metadata": {
        "id": "OiRw9MEuSCv7"
      },
      "outputs": [],
      "source": [
        "\n",
        "# Filtrar valores no nulos de 'cod_barrio' y 'planta' y obtener la máxima 'planta' por 'cod_barrio'\n",
        "max_planta_barrio = dfEDA[dfEDA['cod_barrio'].notnull() & dfEDA['planta'].notnull()].groupby('cod_barrio')['planta'].max().astype(int)\n",
        "max_planta_distrito = dfEDA[dfEDA['cod_distrito'].notnull() & dfEDA['planta'].notnull()].groupby('cod_distrito')['planta'].max().astype(int)\n",
        "mediana_planta_barrio = dfEDA[dfEDA['cod_barrio'].notnull() & dfEDA['planta'].notnull()].groupby('cod_barrio')['planta'].median().astype(int)\n",
        "mediana_planta_distrito = dfEDA[dfEDA['cod_distrito'].notnull() & dfEDA['planta'].notnull()].groupby('cod_distrito')['planta'].median().astype(int)\n",
        "# Convertir el resultado a un diccionario\n",
        "max_planta_barrio_dict = max_planta_barrio.to_dict()\n",
        "max_planta_distrito_dict = max_planta_distrito.to_dict()\n",
        "mediana_planta_barrio_dict = mediana_planta_barrio.to_dict()\n",
        "mediana_planta_distrito_dict = mediana_planta_distrito.to_dict()"
      ]
    },
    {
      "cell_type": "code",
      "execution_count": null,
      "metadata": {
        "id": "5lJMGQo2SCv7"
      },
      "outputs": [],
      "source": [
        "dfEDA[\"planta\"].value_counts(dropna=False)"
      ]
    },
    {
      "cell_type": "code",
      "execution_count": null,
      "metadata": {
        "id": "MKjXLkCCSCv8"
      },
      "outputs": [],
      "source": [
        "\n",
        "# Aplicar la función a las filas seleccionadas\n",
        "dfEDA['planta'] = dfEDA.apply(lambda row: asignar_columna(row, max_planta_barrio_dict,'planta','cod_barrio','tipologia_agr','Atico'), axis=1)\n",
        "# si el cod_barrio es nulo, tomo el aximo del distrito\n",
        "dfEDA['planta'] = dfEDA.apply(lambda row: asignar_columna(row, max_planta_distrito_dict,'planta','cod_distrito','tipologia_agr','Atico'), axis=1)\n",
        "# voy a cosiderar los chalets como los aticos ya que a la hora de predecir el precio tiene valor similar en Madrid\n",
        "# Actualizar el valor de planta a 10 para todas las filas donde tipologia sea Casa o Chalet\n",
        "dfEDA['planta'] = dfEDA.apply(lambda row: asignar_columna(row, max_planta_barrio_dict,'planta','cod_barrio','tipologia_agr','Chalet'), axis=1)\n",
        "# si el cod_barrio es nulo, tomo el aximo del distrito\n",
        "dfEDA['planta'] = dfEDA.apply(lambda row: asignar_columna(row, max_planta_distrito_dict,'planta','cod_distrito','tipologia_agr','Chalet'), axis=1)\n",
        "\n",
        "#una vez puesto la planta en los aticos , maximo valor de planta mas 1, tambien lo ponemos en los pisos, pero en este caso n es el maximo si no la mediana\n",
        "dfEDA['planta'] = dfEDA.apply(lambda row: asignar_columna(row, mediana_planta_barrio_dict,'planta','cod_barrio','tipologia_agr','Piso'), axis=1)\n",
        "# si el cod_barrio es nulo, tomo el aximo del distrito\n",
        "dfEDA['planta'] = dfEDA.apply(lambda row: asignar_columna(row, mediana_planta_distrito_dict,'planta','cod_distrito','tipologia_agr','Piso'), axis=1)\n"
      ]
    },
    {
      "cell_type": "markdown",
      "metadata": {
        "id": "2t_pfIYbSCv8"
      },
      "source": [
        "#### garaje"
      ]
    },
    {
      "cell_type": "code",
      "execution_count": null,
      "metadata": {
        "id": "sJUWh76eSCv8"
      },
      "outputs": [],
      "source": [
        "# Aplicamos las funciones a la columna 'garaje'\n",
        "dfEDA['num_garajes'] = dfEDA['garaje'].apply(lambda x: extract_num(x))\n",
        "dfEDA['tipo_garaje'] = dfEDA['garaje'].apply(lambda x: extract_texto(x, \"privado\", \"público\"))"
      ]
    },
    {
      "cell_type": "code",
      "execution_count": null,
      "metadata": {
        "id": "8ctCL1M_SCv8"
      },
      "outputs": [],
      "source": [
        "#Eliminamos la columna garaje\n",
        "dfEDA.drop(columns=['garaje'], inplace=True)"
      ]
    },
    {
      "cell_type": "markdown",
      "metadata": {
        "id": "hJsSqzwSSCv8"
      },
      "source": [
        "#### ano_construccion"
      ]
    },
    {
      "cell_type": "code",
      "execution_count": null,
      "metadata": {
        "id": "StmCH8jsSCv8"
      },
      "outputs": [],
      "source": [
        "dfEDA[\"ano_construccion\"].value_counts(dropna=False)"
      ]
    },
    {
      "cell_type": "code",
      "execution_count": null,
      "metadata": {
        "id": "ylHFBMlgSCv8"
      },
      "outputs": [],
      "source": [
        "# Aplicamos la función a la columna 'ano_construccion'\n",
        "dfEDA['ano_construccion'] = dfEDA['ano_construccion'].apply(categorize_ano_construccion)"
      ]
    },
    {
      "cell_type": "code",
      "execution_count": null,
      "metadata": {
        "id": "-LI2E7QgSCv8"
      },
      "outputs": [],
      "source": [
        "# Aplicar la función al DataFrame\n",
        "dfEDA['ano_construccion'] = dfEDA['ano_construccion'].apply(agrupar_antiguedad)"
      ]
    },
    {
      "cell_type": "code",
      "execution_count": null,
      "metadata": {
        "id": "sIFZBbscSCv8"
      },
      "outputs": [],
      "source": [
        "# Verificamos los primeros registros para comprobar que la agrupación fue realizada correctamente\n",
        "dfEDA['ano_construccion'].value_counts()"
      ]
    },
    {
      "cell_type": "code",
      "execution_count": null,
      "metadata": {
        "id": "I4Gr6pfYSCv8"
      },
      "outputs": [],
      "source": [
        "#hago OneHotEncoding en ano_construccion"
      ]
    },
    {
      "cell_type": "markdown",
      "metadata": {
        "id": "0LwwVFnvSCv8"
      },
      "source": [
        "En ano_construccion se puede hacer one hot encoding, o dar un valor de 1 a 6 en función de la antiguedad"
      ]
    },
    {
      "cell_type": "markdown",
      "metadata": {
        "id": "MrOaGM85SCv8"
      },
      "source": [
        "#### gastos_comunidad"
      ]
    },
    {
      "cell_type": "code",
      "execution_count": null,
      "metadata": {
        "id": "I-j3FivISCv9"
      },
      "outputs": [],
      "source": [
        "# Aqui hago las modificaiones necesarias en la columna ascensor para que este con los valores correctos.\n",
        "\n",
        "# Reemplazo de valores\n",
        "dfEDA[\"ascensor\"]= dfEDA[\"ascensor\"].replace({\"Sí\": 1})\n",
        "dfEDA[\"ascensor\"]= dfEDA[\"ascensor\"].replace({\"No\": 0})\n",
        "dfEDA[\"ascensor\"]= dfEDA[\"ascensor\"].replace({1.0: 1})\n",
        "dfEDA[\"ascensor\"]= dfEDA[\"ascensor\"].replace({0.0: 0})\n",
        "\n",
        "dfEDA[\"ascensor\"]= dfEDA[\"ascensor\"].replace({\"1\": 1})\n",
        "dfEDA[\"ascensor\"]= dfEDA[\"ascensor\"].replace({\"0\": 0})\n",
        "\n",
        "# Rellenar nulos con 0 . Lo que equivale a que no tiene ascensor.\n",
        "dfEDA[\"ascensor\"]= dfEDA[\"ascensor\"].fillna(0)"
      ]
    },
    {
      "cell_type": "code",
      "execution_count": null,
      "metadata": {
        "id": "Zsst6eaLSCv8"
      },
      "outputs": [],
      "source": [
        "dfEDA[\"gastos_comunidad\"].unique()"
      ]
    },
    {
      "cell_type": "markdown",
      "metadata": {
        "id": "IlniMEAQSCv8"
      },
      "source": [
        "# **_Lista de nombres de columnas booleanas_**\n",
        "columnas_int = [ 'terraza', 'trastero', 'ascensor', 'porteria','tiene_armario','cancha_tenis','tiene_piscina']\n",
        "columnas_float=['precio','m2_constr','m2_utiles']\n",
        "# **_Asignar el tipo booleano a las columnas_**\n",
        "for columna in columnas_int:\n",
        "    dfEDA[columna] = dfEDA[columna].astype(int)\n",
        "for columna in columnas_float:\n",
        "    dfEDA[columna] = dfEDA[columna].astype(float)"
      ]
    },
    {
      "cell_type": "code",
      "execution_count": null,
      "metadata": {
        "id": "qsaaW8dWSCv8"
      },
      "outputs": [],
      "source": [
        "# Eliminamos las columnas:\n",
        "colseliminar=['carpinteria_exterior_vidrio/metal','carpinteria_exterior_vidrio/madera', 'carpinteria_exterior_vidrio/pvc',\n",
        "    'carpinteria_exterior_doble_vidrio/metal',    'carpinteria_exterior_doble_vidrio/madera',    'carpinteria_exterior_doble_vidrio/pvc',\n",
        "    'carpinteria_exterior_triple_vidrio/metal',    'carpinteria_exterior_triple_vidrio/madera']\n",
        "dfEDA = dfEDA.drop(columns=colseliminar)"
      ]
    },
    {
      "cell_type": "code",
      "execution_count": null,
      "metadata": {
        "id": "fvAd-fF7SCv8"
      },
      "outputs": [],
      "source": [
        "dfEDA[\"dormitorios\"].value_counts(dropna=False)"
      ]
    },
    {
      "cell_type": "code",
      "execution_count": null,
      "metadata": {
        "id": "4yFJryNeSCv8"
      },
      "outputs": [],
      "source": [
        "dfEDA=reduce_mem_usage(dfEDA, turn_cat=False, silence=False)"
      ]
    },
    {
      "cell_type": "code",
      "execution_count": null,
      "metadata": {
        "id": "idP2KDpDSCv8"
      },
      "outputs": [],
      "source": [
        "dfEDA.info()"
      ]
    },
    {
      "cell_type": "code",
      "execution_count": null,
      "metadata": {
        "id": "69RqaqHdSCv9"
      },
      "outputs": [],
      "source": [
        "dfEDA[\"dormitorios\"].value_counts(dropna=False)"
      ]
    },
    {
      "cell_type": "markdown",
      "metadata": {
        "id": "9bjemY_RSCv9"
      },
      "source": [
        "### **_Calculo de nuevas columnas / Feature Engineering_**"
      ]
    },
    {
      "cell_type": "code",
      "execution_count": null,
      "metadata": {
        "id": "424KoNHkSCv9"
      },
      "outputs": [],
      "source": [
        "#alculamos Euros_M2= precio/m2_contr\n",
        "\n",
        "dfEDA[\"euros_m2\"]=dfEDA[\"precio\"]/dfEDA[\"m2_constr\"]"
      ]
    },
    {
      "cell_type": "markdown",
      "metadata": {
        "id": "mcFRUJVqSCv9"
      },
      "source": [
        "#### precio_medio_barrio"
      ]
    },
    {
      "cell_type": "code",
      "execution_count": null,
      "metadata": {
        "id": "vZYQDTFYSCv9"
      },
      "outputs": [],
      "source": [
        "#dfEDA=reduce_mem_usage(dfEDA, turn_cat=False, silence=True)"
      ]
    },
    {
      "cell_type": "code",
      "execution_count": null,
      "metadata": {
        "id": "81ye9VszSCv9"
      },
      "outputs": [],
      "source": [
        "dfEDA[\"m2_constr\"].value_counts(dropna=False)"
      ]
    },
    {
      "cell_type": "code",
      "execution_count": null,
      "metadata": {
        "id": "c6moW-tPSCv9"
      },
      "outputs": [],
      "source": [
        "dfEDA"
      ]
    },
    {
      "cell_type": "markdown",
      "metadata": {
        "id": "bF60b7OcSCv9"
      },
      "source": [
        "# **_8. Análisis estadístico final_**"
      ]
    },
    {
      "cell_type": "code",
      "execution_count": null,
      "metadata": {
        "id": "5_12ubpUSCv9"
      },
      "outputs": [],
      "source": [
        "# Chequeo de los valores descriptivos/estadisticos de las columnas numericas\n",
        "dfEDA.describe().T"
      ]
    },
    {
      "cell_type": "code",
      "execution_count": null,
      "metadata": {
        "id": "xdTj811LSCv9"
      },
      "outputs": [],
      "source": [
        "# Chequeo de los valores unicos de la columna\n",
        "dfEDA [\"porteria\"].unique()"
      ]
    },
    {
      "cell_type": "code",
      "execution_count": null,
      "metadata": {
        "id": "DCIM1EQySCv9"
      },
      "outputs": [],
      "source": [
        "# Chequeo de tipos de datos de las columnas\n",
        "dfEDA.info()"
      ]
    },
    {
      "cell_type": "code",
      "execution_count": null,
      "metadata": {
        "id": "qWYSVHSoSCv9"
      },
      "outputs": [],
      "source": [
        "# Modificacion de tipo de datos.\n",
        "\n",
        "\n",
        "dfEDA = dfEDA.astype({\n",
        "    \"url\": \"object\",\n",
        "    \"distrito\": \"category\",\n",
        "    \"barrio\": \"category\",\n",
        "    \"letrace\": \"string\",\n",
        "    \"tipologia\": \"category\",\n",
        "    \"estado\": \"category\",\n",
        "    \"ascensor\": \"int64\",\n",
        "    \"porteria\": \"category\",\n",
        "    \"certificado_energetico\":\"category\",\n",
        "    \"agua_caliente\": \"category\",\n",
        "    \"tipo_suelo\": \"category\",\n",
        "    \"tipo_fachada\": \"category\",\n",
        "    \"grupo_cocina\": \"category\",\n",
        "    \"clasificacion_aire\":\"category\",\n",
        "    \"letra_emisiones\":\"category\",\n",
        "    \"tipo_calefaccion\": \"category\",\n",
        "    \"energia_calefaccion\":\"category\",\n",
        "    \"instalacion_calefaccion\":\"category\",\n",
        "    \"tipologia_agr\":\"category\",\n",
        "    \"tipo_garaje\": \"category\"\n",
        "\n",
        "\n",
        "})"
      ]
    },
    {
      "cell_type": "code",
      "execution_count": null,
      "metadata": {
        "id": "nJ05ro6zSCv9"
      },
      "outputs": [],
      "source": [
        "dfEDA"
      ]
    },
    {
      "cell_type": "code",
      "execution_count": null,
      "metadata": {
        "id": "muDc8LzESCv9"
      },
      "outputs": [],
      "source": [
        "# Chequeo de valores columnas letrace\n",
        "dfEDA[\"letrace\"].unique()"
      ]
    },
    {
      "cell_type": "code",
      "execution_count": null,
      "metadata": {
        "id": "RFc-SvshSCv9"
      },
      "outputs": [],
      "source": [
        "# Relleno de nulos\n",
        "dfEDA[\"letrace\"] = dfEDA[\"letrace\"]. fillna(\"sin_registro\")"
      ]
    },
    {
      "cell_type": "code",
      "execution_count": null,
      "metadata": {
        "id": "nF0u3nPhSCv9"
      },
      "outputs": [],
      "source": [
        "# Confirmacion de cambios\n",
        "dfEDA[\"letrace\"].unique()"
      ]
    },
    {
      "cell_type": "code",
      "execution_count": null,
      "metadata": {
        "id": "u3kUhSFlSCv9"
      },
      "outputs": [],
      "source": [
        "# Cambio de tipo de datos\n",
        "#dfEDA[\"letrace\"] = dfEDA[\"letrace\"].astype(\"category\")"
      ]
    },
    {
      "cell_type": "code",
      "execution_count": null,
      "metadata": {
        "id": "z5CkJyGESCv-"
      },
      "outputs": [],
      "source": [
        "# Acceder a las columnas categóricas (ajustar según la estructura de la tupla)\n",
        "columnas_categoricas = columnas_por_tipo(dfEDA)[1]\n",
        "\n",
        "# Graficar la distribución de cada columna categórica y enteros\n",
        "for col in columnas_categoricas:\n",
        "    plt.figure(figsize=(6, 4))\n",
        "    sns.countplot(x=dfEDA[col])\n",
        "    plt.title(f\"Distribución de {col}\")\n",
        "    plt.xticks(rotation=45)\n",
        "    plt.show()"
      ]
    },
    {
      "cell_type": "code",
      "execution_count": null,
      "metadata": {
        "id": "-o3O0Dq8SCv-"
      },
      "outputs": [],
      "source": [
        "print(type(columnas_por_tipo(dfEDA)))  # Para ver el tipo de dato\n",
        "print(columnas_por_tipo(dfEDA))"
      ]
    },
    {
      "cell_type": "code",
      "execution_count": null,
      "metadata": {
        "id": "WPsMsUhESCv-"
      },
      "outputs": [],
      "source": [
        "dfEDA[\"barrio\"].unique()"
      ]
    },
    {
      "cell_type": "code",
      "execution_count": null,
      "metadata": {
        "id": "dfCYHY2XSCv-"
      },
      "outputs": [],
      "source": [
        "#  Evitamos que se trunque con value_counts()\n",
        "pd.set_option('display.max_rows', None)\n",
        "# Regresamos a que se trunque\n",
        "# pd.reset_option('display.max_rows', None)"
      ]
    },
    {
      "cell_type": "code",
      "execution_count": null,
      "metadata": {
        "id": "TqDGMKU4SCv-"
      },
      "outputs": [],
      "source": [
        "dfEDA[\"barrio\"].value_counts()"
      ]
    },
    {
      "cell_type": "code",
      "execution_count": null,
      "metadata": {
        "id": "TW55rbLxSCv-"
      },
      "outputs": [],
      "source": [
        "# tipologia está agrupada en tipologia_agrup\n",
        "dfEDA[\"tipologia\"].value_counts()"
      ]
    },
    {
      "cell_type": "code",
      "execution_count": null,
      "metadata": {
        "id": "CGf_KhhBSCv-"
      },
      "outputs": [],
      "source": [
        "# conversion del tipo de dato\n",
        "dfEDA['barrio'] = dfEDA['barrio'].fillna('').astype(str)\n"
      ]
    },
    {
      "cell_type": "code",
      "execution_count": null,
      "metadata": {
        "id": "TYCwyNsBSCv-"
      },
      "outputs": [],
      "source": [
        "#No es necesario\n",
        "# Eliminar espacios al principio y al final, y reemplazar dobles espacios en las columnas 'barrio' y 'tipologia'\n",
        "#dfEDA['barrio'] = dfEDA['barrio'].str.strip().str.replace(r'\\s+', '', regex=True)\n",
        "#dfEDA['tipologia'] = dfEDA['tipologia'].str.strip().str.replace(r'\\s+', '', regex=True)\n",
        "\n",
        "# Eliminar acentos en las columnas 'barrio' y 'tipologia'\n",
        "#dfEDA['barrio'] = dfEDA['barrio'].apply(unidecode)\n",
        "#dfEDA['tipologia'] = dfEDA['tipologia'].apply(unidecode)"
      ]
    },
    {
      "cell_type": "code",
      "execution_count": null,
      "metadata": {
        "id": "kYFCYPQfSCv-"
      },
      "outputs": [],
      "source": [
        "dfEDA[\"barrio\"].unique()"
      ]
    },
    {
      "cell_type": "code",
      "execution_count": null,
      "metadata": {
        "id": "_VGsJ27mSCv-"
      },
      "outputs": [],
      "source": [
        "dfEDA[\"barrio\"].value_counts()"
      ]
    },
    {
      "cell_type": "code",
      "execution_count": null,
      "metadata": {
        "id": "EMZXYwgESCv-"
      },
      "outputs": [],
      "source": [
        "#dfEDA[\"tipologia\"].unique()"
      ]
    },
    {
      "cell_type": "code",
      "execution_count": null,
      "metadata": {
        "id": "Qti275NkSCv-"
      },
      "outputs": [],
      "source": [
        "dfEDA"
      ]
    },
    {
      "cell_type": "markdown",
      "metadata": {
        "id": "g7AdJ_URSCv-"
      },
      "source": [
        "Puntos a realizar...\n",
        "\n",
        "*  Normalizar los valores en barrio. Hecho\n",
        "*  Normalizar los valores en Tipologia.Hecho\n",
        "*  Rellenar nulos en las columnas  para hacer el Clustering...\n",
        "* Analizar de manera mas profunda feature engineering ."
      ]
    },
    {
      "cell_type": "code",
      "execution_count": null,
      "metadata": {
        "id": "H8-zJnMGSCv_"
      },
      "outputs": [],
      "source": [
        "# Forzar la recolección de basura\n",
        "gc.collect()"
      ]
    },
    {
      "cell_type": "code",
      "execution_count": null,
      "metadata": {
        "id": "AnozXv8nSCv_"
      },
      "outputs": [],
      "source": [
        "dfEDA.to_csv(\"dfEDA_final.csv\",index='False')"
      ]
    },
    {
      "cell_type": "markdown",
      "metadata": {
        "id": "9c2k8xNVSCv_"
      },
      "source": [
        "# **_9. Dataset para generación del modelo_**"
      ]
    }
  ],
  "metadata": {
    "kernelspec": {
      "display_name": "Nuclio",
      "language": "python",
      "name": "python3"
    },
    "language_info": {
      "codemirror_mode": {
        "name": "ipython",
        "version": 3
      },
      "file_extension": ".py",
      "mimetype": "text/x-python",
      "name": "python",
      "nbconvert_exporter": "python",
      "pygments_lexer": "ipython3",
      "version": "3.12.7"
    },
    "colab": {
      "provenance": []
    }
  },
  "nbformat": 4,
  "nbformat_minor": 0
}