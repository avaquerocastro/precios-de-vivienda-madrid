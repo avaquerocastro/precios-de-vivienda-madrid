{
 "cells": [
  {
   "cell_type": "markdown",
   "metadata": {},
   "source": [
    "# Proyecto final -EDA"
   ]
  },
  {
   "cell_type": "markdown",
   "metadata": {},
   "source": [
    "<a id='seccion3'></a>\n",
    "# 1 Importar librerías"
   ]
  },
  {
   "cell_type": "code",
   "execution_count": 2,
   "metadata": {},
   "outputs": [],
   "source": [
    "# Principales\n",
    "import pandas as pd\n",
    "import numpy as np\n",
    "\n",
    "# Modificaciones \n",
    "import re\n",
    "from unidecode import unidecode\n",
    "import unicodedata\n",
    "import datetime\n",
    "import os\n",
    "\n",
    "\n",
    "# visuzalizaciones\n",
    "import missingno as msno\n",
    "import matplotlib as plt \n",
    "import plotly.express as px "
   ]
  },
  {
   "cell_type": "code",
   "execution_count": null,
   "metadata": {},
   "outputs": [],
   "source": [
    "pd.set_option(\"display.max_columns\", None)\n",
    "pd.set_option('display.max_rows',80)\n",
    "pd.set_option('display.float_format', lambda x: '%.2f' % x)\n",
    "pd.set_option('display.max_colwidth', None)\n",
    "# Ajustar la configuración para mostrar más filas \n",
    "#pd.set_option('display.max_rows', 500)\n",
    "\n",
    "#inicializo la lista to replace\n",
    "to_replace=['Null','Nan','nan','NULL',None]"
   ]
  },
  {
   "cell_type": "markdown",
   "metadata": {},
   "source": [
    "<a id='seccion3'></a>\n",
    "# 2 Funciones"
   ]
  },
  {
   "cell_type": "code",
   "execution_count": null,
   "metadata": {},
   "outputs": [],
   "source": [
    "#Funcion que agrupa las columnas por tipo de dato\n",
    "\n",
    "def columnas_por_tipo(df):\n",
    "    # Filtrar columnas por tipo de datos\n",
    "    int_columns = [col for col in df.columns if df[col].dtype.name.startswith('int')]\n",
    "    float_columns = [col for col in df.columns if df[col].dtype.name.startswith('float')]\n",
    "    boolean_columns=[col for col in df.columns if set(df[col].unique()) <= {0, 1}]\n",
    "    numeric_cols=int_columns + float_columns \n",
    "    object_columns = df.select_dtypes(include='object').columns.tolist()\n",
    "    category_columns = df.select_dtypes(include='category').columns.tolist()\n",
    "     \n",
    "    cat_columns=list(set(category_columns) - set(boolean_columns) )\n",
    "    # Obtener todas las columnas \n",
    "    all_columns = set(df.columns) \n",
    "    # # Columnas de otros tipos \n",
    "    other_columns = list(all_columns - set(int_columns) - set(float_columns) - set(object_columns) - set(category_columns))\n",
    "\n",
    "    # Cuento el número de columnas de cada tipo\n",
    "    num_int_columns = len(int_columns)\n",
    "    num_float_columns = len(float_columns)\n",
    "    num_object_columns = len(object_columns)\n",
    "    num_category_columns = len(category_columns)\n",
    "    num_other_columns = len(other_columns)\n",
    "\n",
    "    # Mostrar los resultados\n",
    "    #print(\"Número de columnas de tipo entero:\", num_int_columns)\n",
    "    #print(\"Columnas de tipo entero:\", int_columns)\n",
    "    #print(\"Número de columnas de tipo float:\", num_float_columns)\n",
    "    #print(\"Columnas de tipo float:\", float_columns)\n",
    "    #print(\"Número de columnas de tipo object:\", num_object_columns)\n",
    "    #print(\"Columnas de tipo object:\", object_columns)\n",
    "    #print(\"Número de columnas de tipo category:\", num_category_columns)\n",
    "    #print(\"Columnas de tipo category:\", category_columns)\n",
    "    #print(\"Número de columnas de otros tipos:\", num_other_columns)\n",
    "    #print(\"Columnas de otros tipos:\", other_columns)\n",
    "    return numeric_cols,cat_columns,boolean_columns\n",
    "\n"
   ]
  },
  {
   "cell_type": "code",
   "execution_count": null,
   "metadata": {},
   "outputs": [],
   "source": [
    "def reduce_mem_usage(df, turn_cat=False, silence=True):\n",
    "    \"\"\"Itera sobre todo el dataset convirtiendo cada columna en el tipo más adecuado para ahorrar memoria\n",
    "    Parameters\n",
    "    ----------\n",
    "    df : pd.DataFrame\n",
    "        Dataframe que se quiere reducir\n",
    "    turn_cat : bool, optional\n",
    "        Transformación de las columnas objeto o string a category, by default False\n",
    "    Returns\n",
    "    -------\n",
    "    pd.DataFrame\n",
    "        Dataframe optimizado\n",
    "    \"\"\"\n",
    "  \n",
    "    start_mem = df.memory_usage().sum() / 1024**2\n",
    "    for col in df.columns:\n",
    "        col_type = df[col].dtype\n",
    "        if col_type != object and not isinstance(col_type, pd.CategoricalDtype):\n",
    "            c_min = df[col].min()\n",
    "            c_max = df[col].max()\n",
    "            if pd.api.types.is_numeric_dtype(df[col]):\n",
    "                if str(col_type)[:3] == 'int':\n",
    "                    if c_min > np.iinfo(np.int8).min and c_max < np.iinfo(np.int8).max:\n",
    "                        df[col] = df[col].astype(np.int8)\n",
    "                    elif c_min > np.iinfo(np.int16).min and c_max < np.iinfo(np.int16).max:\n",
    "                        df[col] = df[col].astype(np.int16)\n",
    "                    elif c_min > np.iinfo(np.int32).min and c_max < np.iinfo(np.int32).max:\n",
    "                        df[col] = df[col].astype(np.int32)\n",
    "                    elif c_min > np.iinfo(np.int64).min and c_max < np.iinfo(np.int64).max:\n",
    "                        df[col] = df[col].astype(np.int64)\n",
    "                else:\n",
    "                    if c_min > np.finfo(np.float32).min and c_max < np.finfo(np.float32).max:\n",
    "                        df[col] = df[col].astype(np.float32)\n",
    "                    else:\n",
    "                        df[col] = df[col].astype(np.float64)\n",
    "        if turn_cat and col_type == object:\n",
    "            df[col] = df[col].astype('category')\n",
    "    end_mem = df.memory_usage().sum() / 1024**2\n",
    "    if not silence:\n",
    "        print('Memory usage after optimization is: {:.2f} MB'.format(end_mem))\n",
    "        print('Decreased by {:.1f}%'.format(100 * (start_mem - end_mem) / start_mem))\n",
    "    return df"
   ]
  },
  {
   "cell_type": "code",
   "execution_count": null,
   "metadata": {},
   "outputs": [],
   "source": [
    "\n",
    "\n",
    "def graficobarrascategoricas(df, colname):\n",
    "    \"\"\"Plots the barplot of a categorical variable with top 10 categories and groups the rest as 'Otros'. \n",
    "\n",
    "    Parameters:\n",
    "    df (DataFrame): The DataFrame containing the data\n",
    "    colname (str): Categorical variable's name\n",
    "\n",
    "    Returns:\n",
    "    None\n",
    "    \"\"\" \n",
    "    # Obtener las frecuencias de las categorías\n",
    "    value_counts = df[colname].value_counts()\n",
    "\n",
    "    # Seleccionar las 10 categorías más frecuentes\n",
    "    top_10 = value_counts.head(10)\n",
    "\n",
    "    # Agrupar el resto en 'Otros'\n",
    "    other_count = value_counts.tail(len(value_counts) - 10).sum()  # Sumar las frecuencias de las categorías restantes\n",
    "    if other_count > 0:  # Solo agrupar si hay categorías para agrupar\n",
    "        otros_series = pd.Series({'Otros': other_count})\n",
    "        top_10 = pd.concat([top_10, otros_series])  # Usamos pd.concat() en lugar de append\n",
    "\n",
    "    # Crear el gráfico de barras\n",
    "    fig = plt.figure(figsize=(10, 6))\n",
    "    fig.suptitle(f\"Frecuencia de {colname}\", fontsize=16)\n",
    "    top_10.plot(kind='bar')\n",
    "\n",
    "    # Mostrar el gráfico\n",
    "    plt.xlabel(colname)\n",
    "    plt.ylabel(\"Frecuencia\")\n",
    "    plt.xticks(rotation=45)\n",
    "    plt.show()\n"
   ]
  },
  {
   "cell_type": "code",
   "execution_count": null,
   "metadata": {},
   "outputs": [],
   "source": [
    "def plot_histogram_by_target(df, input_name, target_name, normalize = False):\n",
    "    \"\"\"Plots the histogram and boxplot of a numerical variable by target\n",
    "\n",
    "    Parameters:\n",
    "    input_name (str): Numeric variable's name\n",
    "    target_name (str): Target variable's name\n",
    "\n",
    "    Returns:\n",
    "    None\n",
    "    \"\"\"\n",
    "    fig = plt.figure(figsize=(15, 6))  # Ajustar el tamaño de la figura según sea necesario\n",
    "    fig.suptitle(input_name, fontsize=16)\n",
    "\n",
    " \n",
    "    ax1 = fig.add_subplot(121)\n",
    "    sns.histplot(data=df, x=input_name, hue=target_name, alpha=.5, bins=25, ax=ax1, stat = 'density', common_norm = not normalize)\n",
    "    \n",
    "    ax2 = fig.add_subplot(122)\n",
    "    sns.boxplot(data=df, x=target_name, y=input_name, ax=ax2)\n",
    "\n",
    "    plt.tight_layout()\n",
    "      # Asegurar que el título de la figura no se superponga\n",
    "    plt.subplots_adjust(top=0.85)"
   ]
  },
  {
   "cell_type": "code",
   "execution_count": null,
   "metadata": {},
   "outputs": [],
   "source": [
    "\n",
    "def plot_barplot_by_target(df, input_name, target_name, stacked=False):\n",
    "    \"\"\"\n",
    "    Grafica un gráfico de barras para una variable categórica en función de una variable objetivo.\n",
    "    \n",
    "    Parameters:\n",
    "    -----------\n",
    "    df : pd.DataFrame\n",
    "        DataFrame con los datos.\n",
    "    input_name : str\n",
    "        Nombre de la columna categórica a analizar.\n",
    "    target_name : str\n",
    "        Nombre de la columna objetivo (target).\n",
    "    stacked : bool, opcional, default=False\n",
    "        Si se debe apilar el gráfico de barras.\n",
    "    \"\"\"\n",
    "    # Crear una tabla de contingencia\n",
    "    crosstab = pd.crosstab(df[input_name], df[target_name])\n",
    "    \n",
    "    # Crear un gráfico de barras apiladas usando Plotly\n",
    "    fig = px.bar(crosstab, \n",
    "                 barmode='stack',  # Esto apila las barras\n",
    "                # color=crosstab.columns,  # Colores por las columnas\n",
    "                 title=f'Distribución de {input_name} por {target_name}')\n",
    "    \n",
    "    # Mostrar el gráfico\n",
    "    fig.update_layout(xaxis_title=input_name, \n",
    "                      yaxis_title='Frecuencia', \n",
    "                      xaxis_tickangle=-45)\n",
    "    \n",
    "    fig.show()\n",
    "\n",
    "\n"
   ]
  },
  {
   "cell_type": "code",
   "execution_count": null,
   "metadata": {},
   "outputs": [],
   "source": []
  },
  {
   "cell_type": "markdown",
   "metadata": {},
   "source": [
    "<a id='seccion3'></a>\n",
    "# 3 Leer el dataset"
   ]
  },
  {
   "cell_type": "code",
   "execution_count": 9,
   "metadata": {},
   "outputs": [
    {
     "name": "stderr",
     "output_type": "stream",
     "text": [
      "C:\\Users\\extas\\AppData\\Local\\Temp\\ipykernel_11108\\2743511520.py:1: DtypeWarning: Columns (0,14,46) have mixed types. Specify dtype option on import or set low_memory=False.\n",
      "  dfEDA= pd.read_csv('./data/pisosEDA.csv',index_col=False)\n"
     ]
    }
   ],
   "source": [
    "dfEDA= pd.read_csv('./data/pisosEDA.csv',index_col=False)"
   ]
  },
  {
   "cell_type": "code",
   "execution_count": null,
   "metadata": {},
   "outputs": [],
   "source": [
    "print(f\"El DataFrame dfMMPtiene {dfEDA.shape[0]} filas y {dfEDA.shape[1]} columnas.\")"
   ]
  },
  {
   "cell_type": "code",
   "execution_count": 11,
   "metadata": {},
   "outputs": [
    {
     "data": {
      "text/plain": [
       "Index(['precio', 'm2_constr', 'cod_distrito', 'cod_barrio', 'consumoce_ano',\n",
       "       'letrace', 'tipologia', 'estado', 'amueblado', 'planta', 'dormitorios',\n",
       "       'banos', 'garaje', 'trastero', 'ascensor', 'porteria',\n",
       "       'ano_construccion', 'jardin', 'cancha_tenis',\n",
       "       'carpinteria_exterior_doble_vidrio/pvc',\n",
       "       'carpinteria_exterior_doble_vidrio/madera',\n",
       "       'carpinteria_exterior_doble_vidrio/metal',\n",
       "       'carpinteria_exterior_triple_vidrio/madera',\n",
       "       'carpinteria_exterior_triple_vidrio/metal',\n",
       "       'carpinteria_exterior_vidrio/pvc', 'carpinteria_exterior_vidrio/madera',\n",
       "       'carpinteria_exterior_vidrio/metal', 'chimenea', 'cocina', 'exterior',\n",
       "       'interior', 'interior_y_exterior', 'tiene_piscina', 'porton_electrico',\n",
       "       'puerta_blindada', 'alarma', 'videoportero', 'acceso_discapacidad',\n",
       "       'certificado_energetico', 'tiene_jardin', 'cantidad_visitas', 'campo12',\n",
       "       'cantidad_armarios', 'agua_caliente', 'tipo_suelo', 'm2_utiles',\n",
       "       'gastos_comunidad', 'zonas_verdes', 'puerta_seguridad',\n",
       "       'codigo_Postal_x', 'tipo_fachada', 'orientacion_este',\n",
       "       'orientacion_norte', 'orientacion_oeste', 'orientacion_sur',\n",
       "       'sistema_alarma', 'grupo_cocina', 'clasificacion_aire', 'emisiones_ano',\n",
       "       'letra_emisiones', 'tipo_calefaccion', 'energia_calefaccion',\n",
       "       'instalacion_calefaccion', 'codigo_Postal_y', 'num_personas',\n",
       "       'num_personas_hombres', 'num_personas_mujeres', 'total_transacciones',\n",
       "       'viv_nuevas_transacciones', 'viv_usadas_transacciones', 'lineas_metro',\n",
       "       'salidas_metro', 'estaciones_metroligero', 'estaciones_cercanias',\n",
       "       'estacion_bus_urbano', 'num_lineas_buses',\n",
       "       'Renta neta media por persona', 'Renta neta media por hogar',\n",
       "       'Mediana de la renta por unidad de consumo',\n",
       "       'Renta bruta media por persona', 'Renta bruta media por hogar',\n",
       "       'Habitantes', 'Hogares', 'Tamaño medio del hogar',\n",
       "       'Tamaño del hogar (Nº de personas en la vivienda)', 'hog_con_1',\n",
       "       'hog_con_2', 'hog_con_3', 'hog_con_4', 'hog_con_5', 'hog_con_6',\n",
       "       'hog_con_7', 'hog_con_8', 'hog_con_9', 'hog_con_10', 'hog_con_11',\n",
       "       'hog_con_12', 'hog_con_13', 'hog_con_14', 'hog_con_15 y más'],\n",
       "      dtype='object')"
      ]
     },
     "execution_count": 11,
     "metadata": {},
     "output_type": "execute_result"
    }
   ],
   "source": [
    "dfEDA.columns\n"
   ]
  },
  {
   "cell_type": "code",
   "execution_count": 12,
   "metadata": {},
   "outputs": [
    {
     "data": {
      "text/html": [
       "<div>\n",
       "<style scoped>\n",
       "    .dataframe tbody tr th:only-of-type {\n",
       "        vertical-align: middle;\n",
       "    }\n",
       "\n",
       "    .dataframe tbody tr th {\n",
       "        vertical-align: top;\n",
       "    }\n",
       "\n",
       "    .dataframe thead th {\n",
       "        text-align: right;\n",
       "    }\n",
       "</style>\n",
       "<table border=\"1\" class=\"dataframe\">\n",
       "  <thead>\n",
       "    <tr style=\"text-align: right;\">\n",
       "      <th></th>\n",
       "      <th>count</th>\n",
       "      <th>unique</th>\n",
       "      <th>top</th>\n",
       "      <th>freq</th>\n",
       "      <th>mean</th>\n",
       "      <th>std</th>\n",
       "      <th>min</th>\n",
       "      <th>25%</th>\n",
       "      <th>50%</th>\n",
       "      <th>75%</th>\n",
       "      <th>max</th>\n",
       "    </tr>\n",
       "  </thead>\n",
       "  <tbody>\n",
       "    <tr>\n",
       "      <th>precio</th>\n",
       "      <td>10427.0</td>\n",
       "      <td>2541.0</td>\n",
       "      <td>650000.0</td>\n",
       "      <td>56.0</td>\n",
       "      <td>NaN</td>\n",
       "      <td>NaN</td>\n",
       "      <td>NaN</td>\n",
       "      <td>NaN</td>\n",
       "      <td>NaN</td>\n",
       "      <td>NaN</td>\n",
       "      <td>NaN</td>\n",
       "    </tr>\n",
       "    <tr>\n",
       "      <th>m2_constr</th>\n",
       "      <td>10400.0</td>\n",
       "      <td>NaN</td>\n",
       "      <td>NaN</td>\n",
       "      <td>NaN</td>\n",
       "      <td>137.21093</td>\n",
       "      <td>148.638886</td>\n",
       "      <td>0.0</td>\n",
       "      <td>68.0</td>\n",
       "      <td>98.0</td>\n",
       "      <td>149.0</td>\n",
       "      <td>4574.0</td>\n",
       "    </tr>\n",
       "    <tr>\n",
       "      <th>cod_distrito</th>\n",
       "      <td>10427.0</td>\n",
       "      <td>NaN</td>\n",
       "      <td>NaN</td>\n",
       "      <td>NaN</td>\n",
       "      <td>7.907548</td>\n",
       "      <td>5.756462</td>\n",
       "      <td>1.0</td>\n",
       "      <td>4.0</td>\n",
       "      <td>7.0</td>\n",
       "      <td>12.0</td>\n",
       "      <td>21.0</td>\n",
       "    </tr>\n",
       "    <tr>\n",
       "      <th>cod_barrio</th>\n",
       "      <td>10190.0</td>\n",
       "      <td>NaN</td>\n",
       "      <td>NaN</td>\n",
       "      <td>NaN</td>\n",
       "      <td>82.163886</td>\n",
       "      <td>57.588467</td>\n",
       "      <td>1.0</td>\n",
       "      <td>41.0</td>\n",
       "      <td>66.0</td>\n",
       "      <td>125.0</td>\n",
       "      <td>215.0</td>\n",
       "    </tr>\n",
       "    <tr>\n",
       "      <th>consumoce_ano</th>\n",
       "      <td>501</td>\n",
       "      <td>245</td>\n",
       "      <td>≥ 3,51</td>\n",
       "      <td>58</td>\n",
       "      <td>NaN</td>\n",
       "      <td>NaN</td>\n",
       "      <td>NaN</td>\n",
       "      <td>NaN</td>\n",
       "      <td>NaN</td>\n",
       "      <td>NaN</td>\n",
       "      <td>NaN</td>\n",
       "    </tr>\n",
       "    <tr>\n",
       "      <th>...</th>\n",
       "      <td>...</td>\n",
       "      <td>...</td>\n",
       "      <td>...</td>\n",
       "      <td>...</td>\n",
       "      <td>...</td>\n",
       "      <td>...</td>\n",
       "      <td>...</td>\n",
       "      <td>...</td>\n",
       "      <td>...</td>\n",
       "      <td>...</td>\n",
       "      <td>...</td>\n",
       "    </tr>\n",
       "    <tr>\n",
       "      <th>hog_con_11</th>\n",
       "      <td>10427.0</td>\n",
       "      <td>NaN</td>\n",
       "      <td>NaN</td>\n",
       "      <td>NaN</td>\n",
       "      <td>27.378441</td>\n",
       "      <td>17.419043</td>\n",
       "      <td>3.0</td>\n",
       "      <td>10.0</td>\n",
       "      <td>26.0</td>\n",
       "      <td>36.0</td>\n",
       "      <td>64.0</td>\n",
       "    </tr>\n",
       "    <tr>\n",
       "      <th>hog_con_12</th>\n",
       "      <td>10427.0</td>\n",
       "      <td>NaN</td>\n",
       "      <td>NaN</td>\n",
       "      <td>NaN</td>\n",
       "      <td>17.158435</td>\n",
       "      <td>11.67389</td>\n",
       "      <td>0.0</td>\n",
       "      <td>8.0</td>\n",
       "      <td>14.0</td>\n",
       "      <td>21.0</td>\n",
       "      <td>50.0</td>\n",
       "    </tr>\n",
       "    <tr>\n",
       "      <th>hog_con_13</th>\n",
       "      <td>10427.0</td>\n",
       "      <td>NaN</td>\n",
       "      <td>NaN</td>\n",
       "      <td>NaN</td>\n",
       "      <td>9.285605</td>\n",
       "      <td>5.226828</td>\n",
       "      <td>0.0</td>\n",
       "      <td>4.0</td>\n",
       "      <td>9.0</td>\n",
       "      <td>11.0</td>\n",
       "      <td>22.0</td>\n",
       "    </tr>\n",
       "    <tr>\n",
       "      <th>hog_con_14</th>\n",
       "      <td>10427.0</td>\n",
       "      <td>NaN</td>\n",
       "      <td>NaN</td>\n",
       "      <td>NaN</td>\n",
       "      <td>36.956076</td>\n",
       "      <td>13.59074</td>\n",
       "      <td>7.0</td>\n",
       "      <td>28.0</td>\n",
       "      <td>39.0</td>\n",
       "      <td>48.0</td>\n",
       "      <td>59.0</td>\n",
       "    </tr>\n",
       "    <tr>\n",
       "      <th>hog_con_15 y más</th>\n",
       "      <td>10427.0</td>\n",
       "      <td>NaN</td>\n",
       "      <td>NaN</td>\n",
       "      <td>NaN</td>\n",
       "      <td>36.956076</td>\n",
       "      <td>13.59074</td>\n",
       "      <td>7.0</td>\n",
       "      <td>28.0</td>\n",
       "      <td>39.0</td>\n",
       "      <td>48.0</td>\n",
       "      <td>59.0</td>\n",
       "    </tr>\n",
       "  </tbody>\n",
       "</table>\n",
       "<p>100 rows × 11 columns</p>\n",
       "</div>"
      ],
      "text/plain": [
       "                    count  unique       top  freq       mean         std  min  \\\n",
       "precio            10427.0  2541.0  650000.0  56.0        NaN         NaN  NaN   \n",
       "m2_constr         10400.0     NaN       NaN   NaN  137.21093  148.638886  0.0   \n",
       "cod_distrito      10427.0     NaN       NaN   NaN   7.907548    5.756462  1.0   \n",
       "cod_barrio        10190.0     NaN       NaN   NaN  82.163886   57.588467  1.0   \n",
       "consumoce_ano         501     245    ≥ 3,51    58        NaN         NaN  NaN   \n",
       "...                   ...     ...       ...   ...        ...         ...  ...   \n",
       "hog_con_11        10427.0     NaN       NaN   NaN  27.378441   17.419043  3.0   \n",
       "hog_con_12        10427.0     NaN       NaN   NaN  17.158435    11.67389  0.0   \n",
       "hog_con_13        10427.0     NaN       NaN   NaN   9.285605    5.226828  0.0   \n",
       "hog_con_14        10427.0     NaN       NaN   NaN  36.956076    13.59074  7.0   \n",
       "hog_con_15 y más  10427.0     NaN       NaN   NaN  36.956076    13.59074  7.0   \n",
       "\n",
       "                   25%   50%    75%     max  \n",
       "precio             NaN   NaN    NaN     NaN  \n",
       "m2_constr         68.0  98.0  149.0  4574.0  \n",
       "cod_distrito       4.0   7.0   12.0    21.0  \n",
       "cod_barrio        41.0  66.0  125.0   215.0  \n",
       "consumoce_ano      NaN   NaN    NaN     NaN  \n",
       "...                ...   ...    ...     ...  \n",
       "hog_con_11        10.0  26.0   36.0    64.0  \n",
       "hog_con_12         8.0  14.0   21.0    50.0  \n",
       "hog_con_13         4.0   9.0   11.0    22.0  \n",
       "hog_con_14        28.0  39.0   48.0    59.0  \n",
       "hog_con_15 y más  28.0  39.0   48.0    59.0  \n",
       "\n",
       "[100 rows x 11 columns]"
      ]
     },
     "execution_count": 12,
     "metadata": {},
     "output_type": "execute_result"
    }
   ],
   "source": [
    "dfEDA.describe(include='all').T"
   ]
  },
  {
   "cell_type": "code",
   "execution_count": null,
   "metadata": {},
   "outputs": [],
   "source": [
    "#Trato las columnas para quitar espacios si tuvieran y pongo el nombre de las columnas en minisculas \n",
    "# para tener desde el primer momento siempre el mismo nombre de columnas\n",
    "df.columns = [col.strip().lower() for col in df.columns]"
   ]
  },
  {
   "cell_type": "markdown",
   "metadata": {},
   "source": [
    "<a id='seccion3'></a>\n",
    "# 4 Exploración de datos"
   ]
  },
  {
   "cell_type": "code",
   "execution_count": null,
   "metadata": {},
   "outputs": [],
   "source": [
    "# Distribución de la variable target en porcentaje\n",
    "dfMMP[target].value_counts(normalize = True) "
   ]
  },
  {
   "cell_type": "code",
   "execution_count": null,
   "metadata": {},
   "outputs": [],
   "source": [
    "dfEDA.precio.describe(percentiles=[0.15,0.3,0.45,0.55,0.75,0.9])"
   ]
  },
  {
   "cell_type": "code",
   "execution_count": null,
   "metadata": {},
   "outputs": [],
   "source": [
    "dfEDA.info()"
   ]
  },
  {
   "cell_type": "code",
   "execution_count": null,
   "metadata": {},
   "outputs": [],
   "source": [
    "# Compruebo que url es unico\n",
    "dfEDA['url'].nunique() == len(dfEDA)"
   ]
  },
  {
   "cell_type": "code",
   "execution_count": null,
   "metadata": {},
   "outputs": [],
   "source": [
    "# Gráfico de barras para mostrar la distribución de la variable target\n",
    "dfEDA[precio].value_counts(normalize = True).plot(kind = 'bar')  "
   ]
  },
  {
   "cell_type": "code",
   "execution_count": null,
   "metadata": {},
   "outputs": [],
   "source": [
    "#llamo a la funcion columnas_por_tipo que muestra un resumen de los tipo de columnas que tengo en el dataframe\n",
    "cols_num,cols_cat,cols_bol=columnas_por_tipo(dfMMP)\n",
    "print(\"Numéricas:\", cols_num)\n",
    "print(\"Categoricas:\", cols_cat)\n",
    "print(\"Booleans:\", cols_bol)"
   ]
  },
  {
   "cell_type": "markdown",
   "metadata": {},
   "source": [
    "<a id='seccion3'></a>\n",
    "# 5 Analisis estadistico inicial"
   ]
  },
  {
   "cell_type": "markdown",
   "metadata": {},
   "source": [
    "### 5.1 Univariante"
   ]
  },
  {
   "cell_type": "markdown",
   "metadata": {},
   "source": [
    "#### 5.1.1 Variables numéricas"
   ]
  },
  {
   "cell_type": "code",
   "execution_count": null,
   "metadata": {},
   "outputs": [],
   "source": [
    "#Grafico con histogramas y violin para las variables categoricas\n",
    "\n",
    "# Parámetros \n",
    "var_porfila = 3  # Número de variables por fila\n",
    "graf_porvariable = 2  # Histograma y violín\n",
    "tot_var = len(cols_num)\n",
    "\n",
    "# Calcular el número de filas y columnas\n",
    "n_cols = var_porfila * graf_porvariable  # Total de columnas por fila\n",
    "n_rows = math.ceil(tot_var / var_porfila)  # Número de filas necesarias\n",
    "\n",
    "# Crear subplots dinámicamente\n",
    "fig, axes = plt.subplots(nrows=n_rows, ncols=n_cols, figsize=(20, 3 * n_rows))\n",
    "fig.suptitle('Histogramas y Gráficos de Violín', fontsize=16)\n",
    "\n",
    "if n_rows == 1:\n",
    "    axes = axes.reshape(1, -1)  # Convierte a 2D si hay solo una fila\n",
    "\n",
    "# Añadir gráficos\n",
    "for i, col in enumerate(cols_num):\n",
    "    row = i // var_porfila  # Fila correspondiente\n",
    "    col_hist = (i % var_porfila) * graf_porvariable  # Columna del histograma\n",
    "    col_violin = col_hist + 1  # Columna del gráfico de violín\n",
    "\n",
    "    # Histograma\n",
    "    sns.histplot(dfMMP[col].dropna(), bins=30, ax=axes[row, col_hist])\n",
    "    axes[row, col_hist].set_title(f'{col}', fontsize=10)\n",
    "    axes[row, col_hist].set_xlabel(\"\")\n",
    "    axes[row, col_hist].set_ylabel(\"Frecuencia\")\n",
    "\n",
    "    # Gráfico de violín\n",
    "\n",
    "    sns.violinplot(y=dfMMP[col].dropna(), ax=axes[row, col_violin], inner=\"stick\", color='green', alpha=0.7)\n",
    "\n",
    "    axes[row, col_violin].set_title(f'{col}', fontsize=10)\n",
    "    axes[row, col_violin].set_ylabel(\"\")\n",
    "    axes[row, col_violin].set_xlabel(\"\")\n",
    "\n",
    "\n",
    "\n",
    "# Ajustar el diseño\n",
    "plt.tight_layout(rect=[0, 0, 1, 0.96])\n",
    "plt.show()\n"
   ]
  },
  {
   "cell_type": "markdown",
   "metadata": {},
   "source": [
    "#### 5.1.2 Variables categoricas"
   ]
  },
  {
   "cell_type": "code",
   "execution_count": null,
   "metadata": {},
   "outputs": [],
   "source": [
    "#grafico de barras de variables categoricas\n",
    "for col in cols_cat:\n",
    "    graficobarras(dfMMP,colname=col)"
   ]
  },
  {
   "cell_type": "markdown",
   "metadata": {},
   "source": [
    "### 5.2 Bivariante"
   ]
  },
  {
   "cell_type": "markdown",
   "metadata": {},
   "source": [
    "#### 5.2.1 Variables numéricas"
   ]
  },
  {
   "cell_type": "code",
   "execution_count": null,
   "metadata": {},
   "outputs": [],
   "source": [
    "#Selecciono un subconjunto de variables numericas para hacer el estudio\n",
    "#cols= ['wdft_isgamer', 'avproductstatesidentifier','isprotected','cityidentifier','census_totalphysicalram']\n",
    "for c in cols_num:\n",
    "    plot_histogram_by_target(df = dfMMP.sort_values(target), input_name = c, target_name = 'precio', normalize = True)"
   ]
  },
  {
   "cell_type": "markdown",
   "metadata": {},
   "source": [
    "#### 5.2.2 Variables categóricas"
   ]
  },
  {
   "cell_type": "code",
   "execution_count": null,
   "metadata": {},
   "outputs": [],
   "source": [
    "\n",
    "# Asumiendo que tienes el dataframe dfMMP y las variables categóricas\n",
    "for c in col_cat:\n",
    "        plot_barplot_by_target(df=dfMMP, input_name=c, target_name='hasdetections', stacked=True)"
   ]
  },
  {
   "cell_type": "code",
   "execution_count": null,
   "metadata": {},
   "outputs": [],
   "source": []
  },
  {
   "cell_type": "markdown",
   "metadata": {},
   "source": [
    "<a id='seccion3'></a>\n",
    "# 6 Limpieza de datos"
   ]
  },
  {
   "cell_type": "markdown",
   "metadata": {},
   "source": [
    "### 6.1 Eliminación de duplicados"
   ]
  },
  {
   "cell_type": "code",
   "execution_count": null,
   "metadata": {},
   "outputs": [],
   "source": [
    "# Comprobamos si hay filas duplicadas \n",
    "len(dfEDA.drop_duplicates()) / len(dfEDA) "
   ]
  },
  {
   "cell_type": "markdown",
   "metadata": {},
   "source": [
    "### 6.2 Tratamiento de nulos"
   ]
  },
  {
   "cell_type": "code",
   "execution_count": null,
   "metadata": {},
   "outputs": [],
   "source": [
    "for col in dfEDA.columns:\n",
    "    porcentaje_nulos = dfEDA[col].isnull().mean() * 100\n",
    "    if porcentaje_nulos > 65:\n",
    "        print(f'Columna {col}: {porcentaje_nulos:.2f}% nulos')\n"
   ]
  },
  {
   "cell_type": "code",
   "execution_count": null,
   "metadata": {},
   "outputs": [],
   "source": [
    "#oompruebamos si hay columnas con un 95% de los datos iguales, eliminaré estas columnas\n",
    "[col for col in dfEDA.columns if dfEDA[col].value_counts(normalize=True).max() >= 0.95]"
   ]
  },
  {
   "cell_type": "markdown",
   "metadata": {},
   "source": [
    "# NOTA: REVISAR SI VAMOS A ELIMINAR CON ESTOS UMBRLES, DE MOMENTO LO COMENTO"
   ]
  },
  {
   "cell_type": "code",
   "execution_count": null,
   "metadata": {},
   "outputs": [],
   "source": [
    "#######\n",
    "\n",
    "#Eliminamos LAS COLUMNAS con un porcentaje de nulos mayor del 65 % y las columnas desequilibradas en las que una categoría contiene el 95% o mas de los datos.\n",
    "#umbral = len(dfEDA) * 0.35 \n",
    "# Eliminar columnas con más del 90% de valores nulos \n",
    "#dfEDA=dfEDA.dropna(axis=1, thresh=umbral)\n",
    "#dfEDA=dfEDA.drop(columns=[col for col in dfEDA.columns if dfEDA[col].value_counts(normalize=True).max() >= 0.95])\n",
    "#dfEDA.shape"
   ]
  },
  {
   "cell_type": "code",
   "execution_count": null,
   "metadata": {},
   "outputs": [],
   "source": [
    "#compruebo que columnas tenen nulos\n",
    "for col in dfMMP.columns:\n",
    "    porcentaje_nulos = dfMMP[col].isnull().mean() * 100\n",
    "    if porcentaje_nulos > 0:\n",
    "        print(f'Columna {col}: {porcentaje_nulos:.2f}% nulos')"
   ]
  },
  {
   "cell_type": "markdown",
   "metadata": {},
   "source": [
    "### 6.2.1 Imputacion de nulos variables númericas"
   ]
  },
  {
   "cell_type": "markdown",
   "metadata": {},
   "source": [
    "### 6.2.2 Imputación de nulos variables categoricas"
   ]
  },
  {
   "cell_type": "markdown",
   "metadata": {},
   "source": [
    "### "
   ]
  },
  {
   "cell_type": "markdown",
   "metadata": {},
   "source": []
  },
  {
   "cell_type": "markdown",
   "metadata": {},
   "source": []
  },
  {
   "cell_type": "markdown",
   "metadata": {},
   "source": [
    "<a id='seccion3'></a>\n",
    "\n",
    "# 7 Feature engineering y Categorical Encoding"
   ]
  },
  {
   "cell_type": "markdown",
   "metadata": {},
   "source": [
    "## <a id='seccion3'></a>\n",
    "# 8  Analisis Estadistico Final"
   ]
  },
  {
   "cell_type": "markdown",
   "metadata": {},
   "source": [
    "## <a id='seccion3'></a>\n",
    "# 9  Dataset para generacion de modelo"
   ]
  }
 ],
 "metadata": {
  "kernelspec": {
   "display_name": "Nuclio",
   "language": "python",
   "name": "python3"
  },
  "language_info": {
   "codemirror_mode": {
    "name": "ipython",
    "version": 3
   },
   "file_extension": ".py",
   "mimetype": "text/x-python",
   "name": "python",
   "nbconvert_exporter": "python",
   "pygments_lexer": "ipython3",
   "version": "3.12.7"
  }
 },
 "nbformat": 4,
 "nbformat_minor": 2
}
