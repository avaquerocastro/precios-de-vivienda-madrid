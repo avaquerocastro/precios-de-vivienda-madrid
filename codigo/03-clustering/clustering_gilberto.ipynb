{
 "cells": [
  {
   "cell_type": "markdown",
   "metadata": {},
   "source": [
    "![Nuclio logo](https://nuclio.school/wp-content/uploads/2018/12/nucleoDS-newBlack.png)"
   ]
  },
  {
   "cell_type": "markdown",
   "metadata": {},
   "source": [
    "# **_Análisis de Segmentación de Pisos mediante Clustering🏡_**\n",
    "\n",
    "## **_Introducción_**\n",
    "En este notebook, realizaremos un análisis de clustering para segmentar los pisos en función de sus características y la influencia de su entorno. El objetivo es identificar patrones en el mercado inmobiliario y agrupar propiedades con similitudes en términos de ubicación, tipo de negocios cercanos, acceso a transporte y otras variables relevantes.\n",
    "\n",
    "\n",
    "## **_Objetivos del análisis_**\n",
    "\n",
    "Segmentación del mercado inmobiliario: Identificar grupos de pisos con precios y características similares.\n",
    "Evaluar la influencia del entorno: Analizar cómo la cercanía a diferentes tipos de negocios, transporte público y otros factores afectan los precios de los inmuebles.\n",
    "Detección de zonas con potencial de valorización: Identificar áreas en crecimiento o con características similares a zonas más caras.\n",
    "Optimización de estrategias de inversión: Proporcionar información para la toma de decisiones en compra, venta o inversión en bienes raíces.\n",
    "\n",
    "\n",
    "## **_Metodología_**\n",
    "\n",
    "##### **_1. Carga y exploración de datos:_**\n",
    "\n",
    "Revisión de los datos disponibles .\n",
    "Identificación, tratamiento de valores nulos o inconsistencias, entre otras acciones.\n",
    "\n",
    "##### **_2. Preprocesamiento de datos:_**\n",
    "\n",
    "Codificación de variables categóricas como barrio y otras en relacion a negocios y la vivienda .\n",
    "Normalización de variables numéricas (precios, distancias, etc.).\n",
    "\n",
    "-------------------------------------------------------------------------------------------------------------------\n",
    "**_Los primeros dos pasos fueron realizados en el notebook donde esta el registro del EDA_** \n",
    "\n",
    "-------------------------------------------------------------------------------------------------------------------\n",
    "\n",
    "\n",
    "##### **_3. Selección de variables:_**\n",
    "\n",
    "Elección de las características más relevantes para el análisis.\n",
    "Análisis de correlación entre características y precio.\n",
    "\n",
    "##### **_4. Aplicación de Clustering:_**\n",
    "\n",
    "Prueba de diferentes algoritmos de clustering (K-Means, DBSCAN, GMM, etc.).\n",
    "Selección del número óptimo de clusters (método del codo, silhouette score, etc.).\n",
    "Evaluación de los resultados y ajuste de parámetros si es necesario.\n",
    "\n",
    "##### **_5. Análisis e interpretación de clusters:_**\n",
    "\n",
    "Visualización de los clusters(posiblemente un mapa).\n",
    "Comparación de los precios y características dentro de cada cluster.\n",
    "Evaluación del impacto de los negocios, el transporte, entre otras variables en los precios.\n",
    "\n",
    "##### **_6. Aplicación de clustering en modelos predictivos:_**\n",
    "\n",
    "Uso de los clusters como una nueva variable en modelos de regresión para mejorar la predicción de precios.\n",
    "Evaluación del impacto de cada cluster en el precio de los pisos.\n",
    "\n",
    "**_Conclusión esperada_**\n",
    "\n",
    "Este análisis proporcionará una segmentación detallada del mercado inmobiliario, ayudando a identificar zonas con potencial de inversión y a entender mejor los factores que influyen en los precios de los inmuebles. Además, permitirá mejorar modelos de predicción de precios al incluir la influencia del entorno en los resultados.\n",
    "\n"
   ]
  },
  {
   "cell_type": "markdown",
   "metadata": {
    "vscode": {
     "languageId": "plaintext"
    }
   },
   "source": [
    "# **_Importacion librerias_**"
   ]
  },
  {
   "cell_type": "code",
   "execution_count": 1,
   "metadata": {},
   "outputs": [],
   "source": [
    "import pandas as pd \n",
    "import numpy as np\n",
    "\n",
    "# visuzalizaciones\n",
    "import matplotlib.pyplot as plt\n",
    "import seaborn as sns\n",
    "import missingno as msno\n",
    "import plotly.express as px\n",
    "import plotly.io as pio\n",
    "from plotly.subplots import make_subplots\n"
   ]
  },
  {
   "cell_type": "markdown",
   "metadata": {},
   "source": [
    "# **_Lectura de datos_**"
   ]
  },
  {
   "cell_type": "code",
   "execution_count": null,
   "metadata": {},
   "outputs": [],
   "source": [
    "df_clustering = pd.read_csv(\"./data/\")"
   ]
  },
  {
   "cell_type": "markdown",
   "metadata": {},
   "source": [
    "# **_Ajustes extras_**"
   ]
  },
  {
   "cell_type": "code",
   "execution_count": null,
   "metadata": {},
   "outputs": [
    {
     "ename": "OptionError",
     "evalue": "\"No such keys(s): 'display_max_columns'\"",
     "output_type": "error",
     "traceback": [
      "\u001b[1;31m---------------------------------------------------------------------------\u001b[0m",
      "\u001b[1;31mOptionError\u001b[0m                               Traceback (most recent call last)",
      "Cell \u001b[1;32mIn[20], line 1\u001b[0m\n\u001b[1;32m----> 1\u001b[0m \u001b[43mpd\u001b[49m\u001b[38;5;241;43m.\u001b[39;49m\u001b[43mset_option\u001b[49m\u001b[43m(\u001b[49m\u001b[38;5;124;43m\"\u001b[39;49m\u001b[38;5;124;43mdisplay_max_columns\u001b[39;49m\u001b[38;5;124;43m\"\u001b[39;49m\u001b[43m,\u001b[49m\u001b[43m \u001b[49m\u001b[38;5;28;43;01mNone\u001b[39;49;00m\u001b[43m)\u001b[49m\n\u001b[0;32m      2\u001b[0m pd\u001b[38;5;241m.\u001b[39mreset_option(\u001b[38;5;124m\"\u001b[39m\u001b[38;5;124mdisplay_max_columns\u001b[39m\u001b[38;5;124m\"\u001b[39m, \u001b[38;5;28;01mNone\u001b[39;00m)\n\u001b[0;32m      3\u001b[0m pd\u001b[38;5;241m.\u001b[39mset_option(\u001b[38;5;124m\"\u001b[39m\u001b[38;5;124mdisplay_max_rows\u001b[39m\u001b[38;5;124m\"\u001b[39m, \u001b[38;5;28;01mNone\u001b[39;00m)\n",
      "File \u001b[1;32mc:\\Users\\Lenovo\\anaconda3\\envs\\nuclio_mlops\\lib\\site-packages\\pandas\\_config\\config.py:274\u001b[0m, in \u001b[0;36mCallableDynamicDoc.__call__\u001b[1;34m(self, *args, **kwds)\u001b[0m\n\u001b[0;32m    273\u001b[0m \u001b[38;5;28;01mdef\u001b[39;00m\u001b[38;5;250m \u001b[39m\u001b[38;5;21m__call__\u001b[39m(\u001b[38;5;28mself\u001b[39m, \u001b[38;5;241m*\u001b[39margs, \u001b[38;5;241m*\u001b[39m\u001b[38;5;241m*\u001b[39mkwds) \u001b[38;5;241m-\u001b[39m\u001b[38;5;241m>\u001b[39m T:\n\u001b[1;32m--> 274\u001b[0m     \u001b[38;5;28;01mreturn\u001b[39;00m \u001b[38;5;28mself\u001b[39m\u001b[38;5;241m.\u001b[39m\u001b[38;5;18m__func__\u001b[39m(\u001b[38;5;241m*\u001b[39margs, \u001b[38;5;241m*\u001b[39m\u001b[38;5;241m*\u001b[39mkwds)\n",
      "File \u001b[1;32mc:\\Users\\Lenovo\\anaconda3\\envs\\nuclio_mlops\\lib\\site-packages\\pandas\\_config\\config.py:167\u001b[0m, in \u001b[0;36m_set_option\u001b[1;34m(*args, **kwargs)\u001b[0m\n\u001b[0;32m    164\u001b[0m     \u001b[38;5;28;01mraise\u001b[39;00m \u001b[38;5;167;01mTypeError\u001b[39;00m(\u001b[38;5;124mf\u001b[39m\u001b[38;5;124m'\u001b[39m\u001b[38;5;124m_set_option() got an unexpected keyword argument \u001b[39m\u001b[38;5;124m\"\u001b[39m\u001b[38;5;132;01m{\u001b[39;00mkwarg\u001b[38;5;132;01m}\u001b[39;00m\u001b[38;5;124m\"\u001b[39m\u001b[38;5;124m'\u001b[39m)\n\u001b[0;32m    166\u001b[0m \u001b[38;5;28;01mfor\u001b[39;00m k, v \u001b[38;5;129;01min\u001b[39;00m \u001b[38;5;28mzip\u001b[39m(args[::\u001b[38;5;241m2\u001b[39m], args[\u001b[38;5;241m1\u001b[39m::\u001b[38;5;241m2\u001b[39m]):\n\u001b[1;32m--> 167\u001b[0m     key \u001b[38;5;241m=\u001b[39m \u001b[43m_get_single_key\u001b[49m\u001b[43m(\u001b[49m\u001b[43mk\u001b[49m\u001b[43m,\u001b[49m\u001b[43m \u001b[49m\u001b[43msilent\u001b[49m\u001b[43m)\u001b[49m\n\u001b[0;32m    169\u001b[0m     o \u001b[38;5;241m=\u001b[39m _get_registered_option(key)\n\u001b[0;32m    170\u001b[0m     \u001b[38;5;28;01mif\u001b[39;00m o \u001b[38;5;129;01mand\u001b[39;00m o\u001b[38;5;241m.\u001b[39mvalidator:\n",
      "File \u001b[1;32mc:\\Users\\Lenovo\\anaconda3\\envs\\nuclio_mlops\\lib\\site-packages\\pandas\\_config\\config.py:132\u001b[0m, in \u001b[0;36m_get_single_key\u001b[1;34m(pat, silent)\u001b[0m\n\u001b[0;32m    130\u001b[0m     \u001b[38;5;28;01mif\u001b[39;00m \u001b[38;5;129;01mnot\u001b[39;00m silent:\n\u001b[0;32m    131\u001b[0m         _warn_if_deprecated(pat)\n\u001b[1;32m--> 132\u001b[0m     \u001b[38;5;28;01mraise\u001b[39;00m OptionError(\u001b[38;5;124mf\u001b[39m\u001b[38;5;124m\"\u001b[39m\u001b[38;5;124mNo such keys(s): \u001b[39m\u001b[38;5;132;01m{\u001b[39;00m\u001b[38;5;28mrepr\u001b[39m(pat)\u001b[38;5;132;01m}\u001b[39;00m\u001b[38;5;124m\"\u001b[39m)\n\u001b[0;32m    133\u001b[0m \u001b[38;5;28;01mif\u001b[39;00m \u001b[38;5;28mlen\u001b[39m(keys) \u001b[38;5;241m>\u001b[39m \u001b[38;5;241m1\u001b[39m:\n\u001b[0;32m    134\u001b[0m     \u001b[38;5;28;01mraise\u001b[39;00m OptionError(\u001b[38;5;124m\"\u001b[39m\u001b[38;5;124mPattern matched multiple keys\u001b[39m\u001b[38;5;124m\"\u001b[39m)\n",
      "\u001b[1;31mOptionError\u001b[0m: \"No such keys(s): 'display_max_columns'\""
     ]
    }
   ],
   "source": [
    "pd.set_option(\"display_max_columns\", None)\n",
    "pd.reset_option(\"display_max_columns\", None)\n",
    "pd.set_option(\"display_max_rows\", None)\n",
    "pd.reset_option(\"display_max_rows\", None)"
   ]
  },
  {
   "cell_type": "markdown",
   "metadata": {},
   "source": [
    "# **_Modelado Clustering_**"
   ]
  },
  {
   "cell_type": "markdown",
   "metadata": {},
   "source": [
    "### **_Seleccion de variables_**\n",
    "\n"
   ]
  },
  {
   "cell_type": "markdown",
   "metadata": {},
   "source": [
    "### **_Aplicacion de Clustering_**"
   ]
  },
  {
   "cell_type": "markdown",
   "metadata": {},
   "source": [
    "### **_Analisis e interpretacion de clusters_**"
   ]
  },
  {
   "cell_type": "markdown",
   "metadata": {},
   "source": [
    "Aplicacion de "
   ]
  },
  {
   "cell_type": "markdown",
   "metadata": {},
   "source": [
    "# **_Conclusiones finales_**"
   ]
  },
  {
   "cell_type": "markdown",
   "metadata": {},
   "source": [
    "Despues de la creacion de los anteriores modelos se llega a la conclusion que el mejor modelo es XXXX con un resultado de XXXX y que gracias a el mismo podemos entender que sucede lo siguiente...."
   ]
  }
 ],
 "metadata": {
  "kernelspec": {
   "display_name": "nuclio_mlops",
   "language": "python",
   "name": "python3"
  },
  "language_info": {
   "codemirror_mode": {
    "name": "ipython",
    "version": 3
   },
   "file_extension": ".py",
   "mimetype": "text/x-python",
   "name": "python",
   "nbconvert_exporter": "python",
   "pygments_lexer": "ipython3",
   "version": "3.9.21"
  }
 },
 "nbformat": 4,
 "nbformat_minor": 2
}
