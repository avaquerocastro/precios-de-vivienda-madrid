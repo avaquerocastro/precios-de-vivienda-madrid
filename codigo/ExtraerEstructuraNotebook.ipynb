{
 "cells": [
  {
   "cell_type": "code",
   "execution_count": null,
   "metadata": {},
   "outputs": [],
   "source": [
    "import json\n",
    "\n",
    "def extraer_titulos(ruta_archivo):\n",
    "    # Leer el archivo .ipynb\n",
    "    with open(ruta_archivo, 'r', encoding='utf-8') as archivo:\n",
    "        notebook = json.load(archivo)\n",
    "    \n",
    "    titulos = []\n",
    "    \n",
    "    # Recorrer las celdas del notebook\n",
    "    for celda in notebook.get('cells', []):\n",
    "        if celda.get('cell_type') == 'markdown':\n",
    "            for linea in celda.get('source', []):\n",
    "                if linea.startswith('#'):  # Identificar encabezados Markdown\n",
    "                    nivel = linea.count('#')  # Contar el número de #\n",
    "                    titulo = linea.strip('#').strip()  # Extraer el texto del título\n",
    "                    titulos.append((nivel, titulo))\n",
    "    \n",
    "    return titulos\n",
    "\n",
    "def imprimir_outline(titulos):\n",
    "    for nivel, titulo in titulos:\n",
    "        print('  ' * (nivel - 1) + f'- {titulo}')\n",
    "\n",
    "# Ruta al archivo .ipynb\n",
    "ruta = 'tu_notebook.ipynb'\n",
    "\n",
    "# Extraer e imprimir el \"outline\"\n",
    "titulos = extraer_titulos(ruta)\n",
    "imprimir_outline(titulos)\n"
   ]
  }
 ],
 "metadata": {
  "language_info": {
   "name": "python"
  }
 },
 "nbformat": 4,
 "nbformat_minor": 2
}
