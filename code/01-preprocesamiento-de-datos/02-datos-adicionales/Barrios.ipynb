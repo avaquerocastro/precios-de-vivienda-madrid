{
 "cells": [
  {
   "cell_type": "markdown",
   "metadata": {},
   "source": [
    "# LIMPIEZA DE DATOS ADICIONALES PARA TFM"
   ]
  },
  {
   "cell_type": "markdown",
   "metadata": {},
   "source": [
    "# LIBRERÍAS"
   ]
  },
  {
   "cell_type": "code",
   "execution_count": 1,
   "metadata": {},
   "outputs": [],
   "source": [
    "import pandas as pd\n",
    "import numpy as np"
   ]
  },
  {
   "cell_type": "markdown",
   "metadata": {},
   "source": [
    "# BARRIOS Y DISTRITOS"
   ]
  },
  {
   "cell_type": "code",
   "execution_count": 2,
   "metadata": {},
   "outputs": [
    {
     "data": {
      "text/html": [
       "<div>\n",
       "<style scoped>\n",
       "    .dataframe tbody tr th:only-of-type {\n",
       "        vertical-align: middle;\n",
       "    }\n",
       "\n",
       "    .dataframe tbody tr th {\n",
       "        vertical-align: top;\n",
       "    }\n",
       "\n",
       "    .dataframe thead th {\n",
       "        text-align: right;\n",
       "    }\n",
       "</style>\n",
       "<table border=\"1\" class=\"dataframe\">\n",
       "  <thead>\n",
       "    <tr style=\"text-align: right;\">\n",
       "      <th></th>\n",
       "      <th>CODDIS</th>\n",
       "      <th>NOMDIS</th>\n",
       "      <th>COD_BAR</th>\n",
       "      <th>NOMBRE</th>\n",
       "      <th>COD_DIS_TX</th>\n",
       "      <th>BARRIO_MAY</th>\n",
       "      <th>COD_DISBAR</th>\n",
       "      <th>NUM_BAR</th>\n",
       "      <th>BARRIO_MT</th>\n",
       "      <th>COD_DISB</th>\n",
       "    </tr>\n",
       "  </thead>\n",
       "  <tbody>\n",
       "    <tr>\n",
       "      <th>0</th>\n",
       "      <td>17</td>\n",
       "      <td>Villaverde</td>\n",
       "      <td>172</td>\n",
       "      <td>San Cristóbal</td>\n",
       "      <td>17</td>\n",
       "      <td>SAN CRISTOBAL</td>\n",
       "      <td>172</td>\n",
       "      <td>2</td>\n",
       "      <td>SAN CRISTÓBAL</td>\n",
       "      <td>17-2</td>\n",
       "    </tr>\n",
       "    <tr>\n",
       "      <th>1</th>\n",
       "      <td>17</td>\n",
       "      <td>Villaverde</td>\n",
       "      <td>173</td>\n",
       "      <td>Butarque</td>\n",
       "      <td>17</td>\n",
       "      <td>BUTARQUE</td>\n",
       "      <td>173</td>\n",
       "      <td>3</td>\n",
       "      <td>BUTARQUE</td>\n",
       "      <td>17-3</td>\n",
       "    </tr>\n",
       "    <tr>\n",
       "      <th>2</th>\n",
       "      <td>17</td>\n",
       "      <td>Villaverde</td>\n",
       "      <td>175</td>\n",
       "      <td>Ángeles</td>\n",
       "      <td>17</td>\n",
       "      <td>ANGELES</td>\n",
       "      <td>175</td>\n",
       "      <td>5</td>\n",
       "      <td>ÁNGELES</td>\n",
       "      <td>17-5</td>\n",
       "    </tr>\n",
       "    <tr>\n",
       "      <th>3</th>\n",
       "      <td>17</td>\n",
       "      <td>Villaverde</td>\n",
       "      <td>174</td>\n",
       "      <td>Los Rosales</td>\n",
       "      <td>17</td>\n",
       "      <td>LOS ROSALES</td>\n",
       "      <td>174</td>\n",
       "      <td>4</td>\n",
       "      <td>LOS ROSALES</td>\n",
       "      <td>17-4</td>\n",
       "    </tr>\n",
       "    <tr>\n",
       "      <th>4</th>\n",
       "      <td>17</td>\n",
       "      <td>Villaverde</td>\n",
       "      <td>171</td>\n",
       "      <td>Villaverde Alto - Casco Histórico de Villaverde</td>\n",
       "      <td>17</td>\n",
       "      <td>VILLAVERDE ALTO - CASCO HISTORICO DE VILLAVERDE</td>\n",
       "      <td>171</td>\n",
       "      <td>1</td>\n",
       "      <td>VILLAVERDE ALTO - CASCO HISTÓRICO DE VILLAVERDE</td>\n",
       "      <td>17-1</td>\n",
       "    </tr>\n",
       "  </tbody>\n",
       "</table>\n",
       "</div>"
      ],
      "text/plain": [
       "   CODDIS      NOMDIS  COD_BAR  \\\n",
       "0      17  Villaverde      172   \n",
       "1      17  Villaverde      173   \n",
       "2      17  Villaverde      175   \n",
       "3      17  Villaverde      174   \n",
       "4      17  Villaverde      171   \n",
       "\n",
       "                                            NOMBRE  COD_DIS_TX  \\\n",
       "0                                    San Cristóbal          17   \n",
       "1                                         Butarque          17   \n",
       "2                                          Ángeles          17   \n",
       "3                                      Los Rosales          17   \n",
       "4  Villaverde Alto - Casco Histórico de Villaverde          17   \n",
       "\n",
       "                                        BARRIO_MAY  COD_DISBAR  NUM_BAR  \\\n",
       "0                                    SAN CRISTOBAL         172        2   \n",
       "1                                         BUTARQUE         173        3   \n",
       "2                                          ANGELES         175        5   \n",
       "3                                      LOS ROSALES         174        4   \n",
       "4  VILLAVERDE ALTO - CASCO HISTORICO DE VILLAVERDE         171        1   \n",
       "\n",
       "                                         BARRIO_MT COD_DISB  \n",
       "0                                    SAN CRISTÓBAL     17-2  \n",
       "1                                         BUTARQUE     17-3  \n",
       "2                                          ÁNGELES     17-5  \n",
       "3                                      LOS ROSALES     17-4  \n",
       "4  VILLAVERDE ALTO - CASCO HISTÓRICO DE VILLAVERDE     17-1  "
      ]
     },
     "execution_count": 2,
     "metadata": {},
     "output_type": "execute_result"
    }
   ],
   "source": [
    "# Cargar excel Códigos_Distritos_y_Barrios_Madrid.xlsx\n",
    "df_barrios = pd.read_excel('/Users/AleVC/Library/CloudStorage/GoogleDrive-ale.vaquero.c@gmail.com/My Drive/Nuclio/Máster en Data Science/TFM/Datos-adicionales/Códigos_Distritos_y_Barrios_Madrid.xlsx')\n",
    "df_barrios.head()"
   ]
  },
  {
   "cell_type": "code",
   "execution_count": 3,
   "metadata": {},
   "outputs": [
    {
     "data": {
      "text/plain": [
       "(131, 10)"
      ]
     },
     "execution_count": 3,
     "metadata": {},
     "output_type": "execute_result"
    }
   ],
   "source": [
    "df_barrios.shape\n",
    "# (131, 10)"
   ]
  },
  {
   "cell_type": "code",
   "execution_count": 4,
   "metadata": {},
   "outputs": [
    {
     "data": {
      "text/plain": [
       "Index(['CODDIS', 'NOMDIS', 'COD_BAR', 'NOMBRE', 'COD_DIS_TX', 'BARRIO_MAY',\n",
       "       'COD_DISBAR', 'NUM_BAR', 'BARRIO_MT', 'COD_DISB'],\n",
       "      dtype='object')"
      ]
     },
     "execution_count": 4,
     "metadata": {},
     "output_type": "execute_result"
    }
   ],
   "source": [
    "df_barrios.columns"
   ]
  },
  {
   "cell_type": "code",
   "execution_count": 5,
   "metadata": {},
   "outputs": [],
   "source": [
    "df_barrios = df_barrios.drop(['COD_DIS_TX', 'BARRIO_MAY',\n",
    "       'COD_DISBAR', 'NUM_BAR', 'BARRIO_MT', 'COD_DISB'], axis=1)"
   ]
  },
  {
   "cell_type": "code",
   "execution_count": 6,
   "metadata": {},
   "outputs": [
    {
     "data": {
      "text/html": [
       "<div>\n",
       "<style scoped>\n",
       "    .dataframe tbody tr th:only-of-type {\n",
       "        vertical-align: middle;\n",
       "    }\n",
       "\n",
       "    .dataframe tbody tr th {\n",
       "        vertical-align: top;\n",
       "    }\n",
       "\n",
       "    .dataframe thead th {\n",
       "        text-align: right;\n",
       "    }\n",
       "</style>\n",
       "<table border=\"1\" class=\"dataframe\">\n",
       "  <thead>\n",
       "    <tr style=\"text-align: right;\">\n",
       "      <th></th>\n",
       "      <th>CODDIS</th>\n",
       "      <th>NOMDIS</th>\n",
       "      <th>COD_BAR</th>\n",
       "      <th>NOMBRE</th>\n",
       "    </tr>\n",
       "  </thead>\n",
       "  <tbody>\n",
       "    <tr>\n",
       "      <th>0</th>\n",
       "      <td>17</td>\n",
       "      <td>Villaverde</td>\n",
       "      <td>172</td>\n",
       "      <td>San Cristóbal</td>\n",
       "    </tr>\n",
       "    <tr>\n",
       "      <th>1</th>\n",
       "      <td>17</td>\n",
       "      <td>Villaverde</td>\n",
       "      <td>173</td>\n",
       "      <td>Butarque</td>\n",
       "    </tr>\n",
       "    <tr>\n",
       "      <th>2</th>\n",
       "      <td>17</td>\n",
       "      <td>Villaverde</td>\n",
       "      <td>175</td>\n",
       "      <td>Ángeles</td>\n",
       "    </tr>\n",
       "    <tr>\n",
       "      <th>3</th>\n",
       "      <td>17</td>\n",
       "      <td>Villaverde</td>\n",
       "      <td>174</td>\n",
       "      <td>Los Rosales</td>\n",
       "    </tr>\n",
       "    <tr>\n",
       "      <th>4</th>\n",
       "      <td>17</td>\n",
       "      <td>Villaverde</td>\n",
       "      <td>171</td>\n",
       "      <td>Villaverde Alto - Casco Histórico de Villaverde</td>\n",
       "    </tr>\n",
       "  </tbody>\n",
       "</table>\n",
       "</div>"
      ],
      "text/plain": [
       "   CODDIS      NOMDIS  COD_BAR  \\\n",
       "0      17  Villaverde      172   \n",
       "1      17  Villaverde      173   \n",
       "2      17  Villaverde      175   \n",
       "3      17  Villaverde      174   \n",
       "4      17  Villaverde      171   \n",
       "\n",
       "                                            NOMBRE  \n",
       "0                                    San Cristóbal  \n",
       "1                                         Butarque  \n",
       "2                                          Ángeles  \n",
       "3                                      Los Rosales  \n",
       "4  Villaverde Alto - Casco Histórico de Villaverde  "
      ]
     },
     "execution_count": 6,
     "metadata": {},
     "output_type": "execute_result"
    }
   ],
   "source": [
    "df_barrios.head()"
   ]
  },
  {
   "cell_type": "code",
   "execution_count": 7,
   "metadata": {},
   "outputs": [
    {
     "data": {
      "text/plain": [
       "(131, 4)"
      ]
     },
     "execution_count": 7,
     "metadata": {},
     "output_type": "execute_result"
    }
   ],
   "source": [
    "df_barrios.shape\n",
    "# (131, 4)"
   ]
  },
  {
   "cell_type": "code",
   "execution_count": 8,
   "metadata": {},
   "outputs": [
    {
     "data": {
      "text/html": [
       "<div>\n",
       "<style scoped>\n",
       "    .dataframe tbody tr th:only-of-type {\n",
       "        vertical-align: middle;\n",
       "    }\n",
       "\n",
       "    .dataframe tbody tr th {\n",
       "        vertical-align: top;\n",
       "    }\n",
       "\n",
       "    .dataframe thead th {\n",
       "        text-align: right;\n",
       "    }\n",
       "</style>\n",
       "<table border=\"1\" class=\"dataframe\">\n",
       "  <thead>\n",
       "    <tr style=\"text-align: right;\">\n",
       "      <th></th>\n",
       "      <th>cod_distrito</th>\n",
       "      <th>distrito</th>\n",
       "      <th>cod_barrio</th>\n",
       "      <th>barrio</th>\n",
       "    </tr>\n",
       "  </thead>\n",
       "  <tbody>\n",
       "    <tr>\n",
       "      <th>0</th>\n",
       "      <td>17</td>\n",
       "      <td>Villaverde</td>\n",
       "      <td>172</td>\n",
       "      <td>San Cristóbal</td>\n",
       "    </tr>\n",
       "    <tr>\n",
       "      <th>1</th>\n",
       "      <td>17</td>\n",
       "      <td>Villaverde</td>\n",
       "      <td>173</td>\n",
       "      <td>Butarque</td>\n",
       "    </tr>\n",
       "    <tr>\n",
       "      <th>2</th>\n",
       "      <td>17</td>\n",
       "      <td>Villaverde</td>\n",
       "      <td>175</td>\n",
       "      <td>Ángeles</td>\n",
       "    </tr>\n",
       "    <tr>\n",
       "      <th>3</th>\n",
       "      <td>17</td>\n",
       "      <td>Villaverde</td>\n",
       "      <td>174</td>\n",
       "      <td>Los Rosales</td>\n",
       "    </tr>\n",
       "    <tr>\n",
       "      <th>4</th>\n",
       "      <td>17</td>\n",
       "      <td>Villaverde</td>\n",
       "      <td>171</td>\n",
       "      <td>Villaverde Alto - Casco Histórico de Villaverde</td>\n",
       "    </tr>\n",
       "  </tbody>\n",
       "</table>\n",
       "</div>"
      ],
      "text/plain": [
       "   cod_distrito    distrito  cod_barrio  \\\n",
       "0            17  Villaverde         172   \n",
       "1            17  Villaverde         173   \n",
       "2            17  Villaverde         175   \n",
       "3            17  Villaverde         174   \n",
       "4            17  Villaverde         171   \n",
       "\n",
       "                                            barrio  \n",
       "0                                    San Cristóbal  \n",
       "1                                         Butarque  \n",
       "2                                          Ángeles  \n",
       "3                                      Los Rosales  \n",
       "4  Villaverde Alto - Casco Histórico de Villaverde  "
      ]
     },
     "execution_count": 8,
     "metadata": {},
     "output_type": "execute_result"
    }
   ],
   "source": [
    "df_barrios = df_barrios.rename(columns={'CODDIS': 'cod_distrito', 'NOMDIS': 'distrito', 'COD_BAR': 'cod_barrio', 'NOMBRE': 'barrio'})\n",
    "df_barrios.head()"
   ]
  },
  {
   "cell_type": "code",
   "execution_count": 9,
   "metadata": {},
   "outputs": [
    {
     "data": {
      "text/html": [
       "<div>\n",
       "<style scoped>\n",
       "    .dataframe tbody tr th:only-of-type {\n",
       "        vertical-align: middle;\n",
       "    }\n",
       "\n",
       "    .dataframe tbody tr th {\n",
       "        vertical-align: top;\n",
       "    }\n",
       "\n",
       "    .dataframe thead th {\n",
       "        text-align: right;\n",
       "    }\n",
       "</style>\n",
       "<table border=\"1\" class=\"dataframe\">\n",
       "  <thead>\n",
       "    <tr style=\"text-align: right;\">\n",
       "      <th></th>\n",
       "      <th>cod_distrito</th>\n",
       "      <th>distrito</th>\n",
       "      <th>cod_barrio</th>\n",
       "      <th>barrio</th>\n",
       "    </tr>\n",
       "  </thead>\n",
       "  <tbody>\n",
       "    <tr>\n",
       "      <th>0</th>\n",
       "      <td>1</td>\n",
       "      <td>Centro</td>\n",
       "      <td>11</td>\n",
       "      <td>Palacio</td>\n",
       "    </tr>\n",
       "    <tr>\n",
       "      <th>1</th>\n",
       "      <td>1</td>\n",
       "      <td>Centro</td>\n",
       "      <td>12</td>\n",
       "      <td>Embajadores</td>\n",
       "    </tr>\n",
       "    <tr>\n",
       "      <th>2</th>\n",
       "      <td>1</td>\n",
       "      <td>Centro</td>\n",
       "      <td>13</td>\n",
       "      <td>Cortes</td>\n",
       "    </tr>\n",
       "    <tr>\n",
       "      <th>3</th>\n",
       "      <td>1</td>\n",
       "      <td>Centro</td>\n",
       "      <td>14</td>\n",
       "      <td>Justicia</td>\n",
       "    </tr>\n",
       "    <tr>\n",
       "      <th>4</th>\n",
       "      <td>1</td>\n",
       "      <td>Centro</td>\n",
       "      <td>15</td>\n",
       "      <td>Universidad</td>\n",
       "    </tr>\n",
       "    <tr>\n",
       "      <th>...</th>\n",
       "      <td>...</td>\n",
       "      <td>...</td>\n",
       "      <td>...</td>\n",
       "      <td>...</td>\n",
       "    </tr>\n",
       "    <tr>\n",
       "      <th>126</th>\n",
       "      <td>21</td>\n",
       "      <td>Barajas</td>\n",
       "      <td>211</td>\n",
       "      <td>Alameda de Osuna</td>\n",
       "    </tr>\n",
       "    <tr>\n",
       "      <th>127</th>\n",
       "      <td>21</td>\n",
       "      <td>Barajas</td>\n",
       "      <td>212</td>\n",
       "      <td>Aeropuerto</td>\n",
       "    </tr>\n",
       "    <tr>\n",
       "      <th>128</th>\n",
       "      <td>21</td>\n",
       "      <td>Barajas</td>\n",
       "      <td>213</td>\n",
       "      <td>Casco Histórico de Barajas</td>\n",
       "    </tr>\n",
       "    <tr>\n",
       "      <th>129</th>\n",
       "      <td>21</td>\n",
       "      <td>Barajas</td>\n",
       "      <td>214</td>\n",
       "      <td>Timón</td>\n",
       "    </tr>\n",
       "    <tr>\n",
       "      <th>130</th>\n",
       "      <td>21</td>\n",
       "      <td>Barajas</td>\n",
       "      <td>215</td>\n",
       "      <td>Corralejos</td>\n",
       "    </tr>\n",
       "  </tbody>\n",
       "</table>\n",
       "<p>131 rows × 4 columns</p>\n",
       "</div>"
      ],
      "text/plain": [
       "     cod_distrito distrito  cod_barrio                      barrio\n",
       "0               1   Centro          11                     Palacio\n",
       "1               1   Centro          12                 Embajadores\n",
       "2               1   Centro          13                      Cortes\n",
       "3               1   Centro          14                    Justicia\n",
       "4               1   Centro          15                 Universidad\n",
       "..            ...      ...         ...                         ...\n",
       "126            21  Barajas         211            Alameda de Osuna\n",
       "127            21  Barajas         212                  Aeropuerto\n",
       "128            21  Barajas         213  Casco Histórico de Barajas\n",
       "129            21  Barajas         214                       Timón\n",
       "130            21  Barajas         215                  Corralejos\n",
       "\n",
       "[131 rows x 4 columns]"
      ]
     },
     "execution_count": 9,
     "metadata": {},
     "output_type": "execute_result"
    }
   ],
   "source": [
    "df_barrios = df_barrios.sort_values(by='cod_barrio')\n",
    "df_barrios = df_barrios.reset_index(drop=True)\n",
    "df_barrios"
   ]
  },
  {
   "cell_type": "code",
   "execution_count": 10,
   "metadata": {},
   "outputs": [],
   "source": [
    "df_barrios.to_csv('distritos-y-barrios-limpio.csv', index=False)\n"
   ]
  },
  {
   "cell_type": "code",
   "execution_count": 11,
   "metadata": {},
   "outputs": [
    {
     "name": "stdout",
     "output_type": "stream",
     "text": [
      "<class 'pandas.core.frame.DataFrame'>\n",
      "RangeIndex: 131 entries, 0 to 130\n",
      "Data columns (total 4 columns):\n",
      " #   Column        Non-Null Count  Dtype \n",
      "---  ------        --------------  ----- \n",
      " 0   cod_distrito  131 non-null    int64 \n",
      " 1   distrito      131 non-null    object\n",
      " 2   cod_barrio    131 non-null    int64 \n",
      " 3   barrio        131 non-null    object\n",
      "dtypes: int64(2), object(2)\n",
      "memory usage: 4.2+ KB\n"
     ]
    }
   ],
   "source": [
    "df_barrios.info()"
   ]
  },
  {
   "cell_type": "code",
   "execution_count": 12,
   "metadata": {},
   "outputs": [
    {
     "data": {
      "text/plain": [
       "Index(['cod_distrito', 'distrito', 'cod_barrio', 'barrio'], dtype='object')"
      ]
     },
     "execution_count": 12,
     "metadata": {},
     "output_type": "execute_result"
    }
   ],
   "source": [
    "df_barrios.columns"
   ]
  },
  {
   "cell_type": "markdown",
   "metadata": {},
   "source": [
    "### COLUMNAS DEL DF DE BARRIOS Y DISTRITOS\n",
    "- `cod_distrito`: int64\n",
    "- `distrito`: object\n",
    "- `cod_barrio`: int64\n",
    "- `barrio` : object"
   ]
  }
 ],
 "metadata": {
  "kernelspec": {
   "display_name": "Nuclio",
   "language": "python",
   "name": "python3"
  },
  "language_info": {
   "codemirror_mode": {
    "name": "ipython",
    "version": 3
   },
   "file_extension": ".py",
   "mimetype": "text/x-python",
   "name": "python",
   "nbconvert_exporter": "python",
   "pygments_lexer": "ipython3",
   "version": "3.12.4"
  }
 },
 "nbformat": 4,
 "nbformat_minor": 2
}
