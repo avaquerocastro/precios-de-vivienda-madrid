{
 "cells": [
  {
   "cell_type": "markdown",
   "metadata": {},
   "source": [
    "# PISOS.COM MERGE CON DF DE DETALLES"
   ]
  },
  {
   "cell_type": "markdown",
   "metadata": {},
   "source": [
    "## LIBRERÍAS"
   ]
  },
  {
   "cell_type": "code",
   "execution_count": 1,
   "metadata": {},
   "outputs": [],
   "source": [
    "import pandas as pd\n",
    "import numpy as np\n",
    "import re\n",
    "\n",
    "# Ajustar pandas para mostrar contenido completo\n",
    "pd.set_option('display.max_colwidth', None)\n",
    "pd.set_option('display.max_columns', None)"
   ]
  },
  {
   "cell_type": "markdown",
   "metadata": {},
   "source": [
    "## PREPARAR DATA FRAMES"
   ]
  },
  {
   "cell_type": "code",
   "execution_count": 2,
   "metadata": {},
   "outputs": [
    {
     "data": {
      "text/html": [
       "<div>\n",
       "<style scoped>\n",
       "    .dataframe tbody tr th:only-of-type {\n",
       "        vertical-align: middle;\n",
       "    }\n",
       "\n",
       "    .dataframe tbody tr th {\n",
       "        vertical-align: top;\n",
       "    }\n",
       "\n",
       "    .dataframe thead th {\n",
       "        text-align: right;\n",
       "    }\n",
       "</style>\n",
       "<table border=\"1\" class=\"dataframe\">\n",
       "  <thead>\n",
       "    <tr style=\"text-align: right;\">\n",
       "      <th></th>\n",
       "      <th>title</th>\n",
       "      <th>ubicacion</th>\n",
       "      <th>precio</th>\n",
       "      <th>habitaciones</th>\n",
       "      <th>banos</th>\n",
       "      <th>m2_constr</th>\n",
       "      <th>planta</th>\n",
       "      <th>EUR/m2</th>\n",
       "      <th>url</th>\n",
       "      <th>fecha_descarga</th>\n",
       "      <th>web</th>\n",
       "      <th>detalle</th>\n",
       "      <th>consumo_energia</th>\n",
       "      <th>referencia</th>\n",
       "      <th>fecha_publicacion</th>\n",
       "      <th>conservacion</th>\n",
       "      <th>m2_utiles</th>\n",
       "      <th>ano_construccion</th>\n",
       "      <th>€_comunidad_mes</th>\n",
       "      <th>interior_exterior</th>\n",
       "      <th>orientacion</th>\n",
       "      <th>jardin</th>\n",
       "      <th>aire_acondicionado</th>\n",
       "      <th>calefaccion</th>\n",
       "      <th>cocina</th>\n",
       "      <th>tipo_suelo</th>\n",
       "      <th>piscina</th>\n",
       "      <th>armarios</th>\n",
       "      <th>garaje</th>\n",
       "      <th>terraza</th>\n",
       "      <th>trastero</th>\n",
       "      <th>ascensor</th>\n",
       "      <th>balcon</th>\n",
       "    </tr>\n",
       "  </thead>\n",
       "  <tbody>\n",
       "    <tr>\n",
       "      <th>0</th>\n",
       "      <td>Chalet en venta en Calle del Pico Milano, s/n</td>\n",
       "      <td>Mirasierra-Arroyo del Fresno (Distrito Fuencarral-El Pardo. Madrid Capital) / Mirasierra-Arroyo del Fresno (Distrito Fuencarral-El Pardo. Madrid Capital)</td>\n",
       "      <td>2950000.0</td>\n",
       "      <td>NaN</td>\n",
       "      <td>7.0</td>\n",
       "      <td>8.0</td>\n",
       "      <td>561.0</td>\n",
       "      <td>5258.0</td>\n",
       "      <td>https://www.pisos.com/comprar/chalet-mirasierra_arroyo_del_fresno28034-3860362029_109700/</td>\n",
       "      <td>2024-10-19</td>\n",
       "      <td>pisos.com</td>\n",
       "      <td>Parcela 2, Tipo B. Chalet de obra nueva de 561  m2 de superficie construida y situado en la zona de Madrid Capital. Está estructurado en 7 habitaciones, 8 baños completos y terraza. El Chalet tiene piscina. Aporta como extras garaje y trastero.</td>\n",
       "      <td>En trámite</td>\n",
       "      <td>Ref.: -0</td>\n",
       "      <td>2024-10-24</td>\n",
       "      <td>A estrenar</td>\n",
       "      <td>NaN</td>\n",
       "      <td>NaN</td>\n",
       "      <td>NaN</td>\n",
       "      <td>NaN</td>\n",
       "      <td>NaN</td>\n",
       "      <td>Privado</td>\n",
       "      <td>NaN</td>\n",
       "      <td>NaN</td>\n",
       "      <td>NaN</td>\n",
       "      <td>NaN</td>\n",
       "      <td>NaN</td>\n",
       "      <td>NaN</td>\n",
       "      <td>NaN</td>\n",
       "      <td>Terraza</td>\n",
       "      <td>Trastero</td>\n",
       "      <td>NaN</td>\n",
       "      <td>NaN</td>\n",
       "    </tr>\n",
       "  </tbody>\n",
       "</table>\n",
       "</div>"
      ],
      "text/plain": [
       "                                           title  \\\n",
       "0  Chalet en venta en Calle del Pico Milano, s/n   \n",
       "\n",
       "                                                                                                                                                   ubicacion  \\\n",
       "0  Mirasierra-Arroyo del Fresno (Distrito Fuencarral-El Pardo. Madrid Capital) / Mirasierra-Arroyo del Fresno (Distrito Fuencarral-El Pardo. Madrid Capital)   \n",
       "\n",
       "      precio  habitaciones  banos  m2_constr  planta  EUR/m2  \\\n",
       "0  2950000.0           NaN    7.0        8.0   561.0  5258.0   \n",
       "\n",
       "                                                                                         url  \\\n",
       "0  https://www.pisos.com/comprar/chalet-mirasierra_arroyo_del_fresno28034-3860362029_109700/   \n",
       "\n",
       "  fecha_descarga        web  \\\n",
       "0     2024-10-19  pisos.com   \n",
       "\n",
       "                                                                                                                                                                                                                                                detalle  \\\n",
       "0  Parcela 2, Tipo B. Chalet de obra nueva de 561  m2 de superficie construida y situado en la zona de Madrid Capital. Está estructurado en 7 habitaciones, 8 baños completos y terraza. El Chalet tiene piscina. Aporta como extras garaje y trastero.   \n",
       "\n",
       "  consumo_energia referencia fecha_publicacion conservacion  m2_utiles  \\\n",
       "0      En trámite   Ref.: -0        2024-10-24   A estrenar        NaN   \n",
       "\n",
       "  ano_construccion €_comunidad_mes interior_exterior orientacion   jardin  \\\n",
       "0              NaN             NaN               NaN         NaN  Privado   \n",
       "\n",
       "  aire_acondicionado calefaccion cocina tipo_suelo piscina armarios garaje  \\\n",
       "0                NaN         NaN    NaN        NaN     NaN      NaN    NaN   \n",
       "\n",
       "   terraza  trastero ascensor balcon  \n",
       "0  Terraza  Trastero      NaN    NaN  "
      ]
     },
     "execution_count": 2,
     "metadata": {},
     "output_type": "execute_result"
    }
   ],
   "source": [
    "df_detalles = pd.read_csv('pisoscom_detalles_limpio.csv')\n",
    "df_detalles.head(1)"
   ]
  },
  {
   "cell_type": "code",
   "execution_count": 3,
   "metadata": {},
   "outputs": [
    {
     "data": {
      "text/plain": [
       "(2867, 33)"
      ]
     },
     "execution_count": 3,
     "metadata": {},
     "output_type": "execute_result"
    }
   ],
   "source": [
    "df_detalles.shape\n",
    "# (3028, 33)"
   ]
  },
  {
   "cell_type": "code",
   "execution_count": 4,
   "metadata": {},
   "outputs": [
    {
     "data": {
      "text/html": [
       "<div>\n",
       "<style scoped>\n",
       "    .dataframe tbody tr th:only-of-type {\n",
       "        vertical-align: middle;\n",
       "    }\n",
       "\n",
       "    .dataframe tbody tr th {\n",
       "        vertical-align: top;\n",
       "    }\n",
       "\n",
       "    .dataframe thead th {\n",
       "        text-align: right;\n",
       "    }\n",
       "</style>\n",
       "<table border=\"1\" class=\"dataframe\">\n",
       "  <thead>\n",
       "    <tr style=\"text-align: right;\">\n",
       "      <th></th>\n",
       "      <th>title</th>\n",
       "      <th>ubicacion</th>\n",
       "      <th>precio</th>\n",
       "      <th>habitaciones</th>\n",
       "      <th>banos</th>\n",
       "      <th>m2_constr</th>\n",
       "      <th>planta</th>\n",
       "      <th>EUR/m2</th>\n",
       "      <th>estado</th>\n",
       "      <th>url</th>\n",
       "      <th>fecha_descarga</th>\n",
       "      <th>web</th>\n",
       "      <th>distrito</th>\n",
       "      <th>barrio</th>\n",
       "      <th>cod_distrito</th>\n",
       "      <th>cod_barrio</th>\n",
       "      <th>tipologia</th>\n",
       "    </tr>\n",
       "  </thead>\n",
       "  <tbody>\n",
       "    <tr>\n",
       "      <th>0</th>\n",
       "      <td>Apartamento en venta en A Tan Solo Metros del Teatro de La Latina</td>\n",
       "      <td>Palacio (Distrito Centro. Madrid Capital)</td>\n",
       "      <td>250000.0</td>\n",
       "      <td>1.0</td>\n",
       "      <td>1.0</td>\n",
       "      <td>39.0</td>\n",
       "      <td>5.0</td>\n",
       "      <td>6410.0</td>\n",
       "      <td>NaN</td>\n",
       "      <td>https://www.pisos.com/comprar/apartamento-centro_palacio28005-47597559176_109100/</td>\n",
       "      <td>2024-10-19</td>\n",
       "      <td>pisos.com</td>\n",
       "      <td>Centro</td>\n",
       "      <td>Palacio</td>\n",
       "      <td>1.0</td>\n",
       "      <td>11.0</td>\n",
       "      <td>Apartamento</td>\n",
       "    </tr>\n",
       "  </tbody>\n",
       "</table>\n",
       "</div>"
      ],
      "text/plain": [
       "                                                               title  \\\n",
       "0  Apartamento en venta en A Tan Solo Metros del Teatro de La Latina   \n",
       "\n",
       "                                   ubicacion    precio  habitaciones  banos  \\\n",
       "0  Palacio (Distrito Centro. Madrid Capital)  250000.0           1.0    1.0   \n",
       "\n",
       "   m2_constr  planta  EUR/m2 estado  \\\n",
       "0       39.0     5.0  6410.0    NaN   \n",
       "\n",
       "                                                                                 url  \\\n",
       "0  https://www.pisos.com/comprar/apartamento-centro_palacio28005-47597559176_109100/   \n",
       "\n",
       "  fecha_descarga        web distrito   barrio  cod_distrito  cod_barrio  \\\n",
       "0     2024-10-19  pisos.com   Centro  Palacio           1.0        11.0   \n",
       "\n",
       "     tipologia  \n",
       "0  Apartamento  "
      ]
     },
     "execution_count": 4,
     "metadata": {},
     "output_type": "execute_result"
    }
   ],
   "source": [
    "df_pisos = pd.read_csv('pisoscom_limpio.csv')\n",
    "df_pisos.head(1)"
   ]
  },
  {
   "cell_type": "code",
   "execution_count": 5,
   "metadata": {},
   "outputs": [
    {
     "data": {
      "text/plain": [
       "(4736, 17)"
      ]
     },
     "execution_count": 5,
     "metadata": {},
     "output_type": "execute_result"
    }
   ],
   "source": [
    "df_pisos.shape\n",
    "# (4736, 17)"
   ]
  },
  {
   "cell_type": "code",
   "execution_count": 6,
   "metadata": {},
   "outputs": [
    {
     "name": "stdout",
     "output_type": "stream",
     "text": [
      "<class 'pandas.core.frame.DataFrame'>\n",
      "RangeIndex: 4736 entries, 0 to 4735\n",
      "Data columns (total 17 columns):\n",
      " #   Column          Non-Null Count  Dtype  \n",
      "---  ------          --------------  -----  \n",
      " 0   title           4736 non-null   object \n",
      " 1   ubicacion       4736 non-null   object \n",
      " 2   precio          4731 non-null   float64\n",
      " 3   habitaciones    4546 non-null   float64\n",
      " 4   banos           4471 non-null   float64\n",
      " 5   m2_constr       4723 non-null   float64\n",
      " 6   planta          2739 non-null   float64\n",
      " 7   EUR/m2          4719 non-null   float64\n",
      " 8   estado          2934 non-null   object \n",
      " 9   url             4736 non-null   object \n",
      " 10  fecha_descarga  4736 non-null   object \n",
      " 11  web             4736 non-null   object \n",
      " 12  distrito        4202 non-null   object \n",
      " 13  barrio          4514 non-null   object \n",
      " 14  cod_distrito    3992 non-null   float64\n",
      " 15  cod_barrio      3992 non-null   float64\n",
      " 16  tipologia       4736 non-null   object \n",
      "dtypes: float64(8), object(9)\n",
      "memory usage: 629.1+ KB\n"
     ]
    }
   ],
   "source": [
    "df_pisos.info()"
   ]
  },
  {
   "cell_type": "code",
   "execution_count": 7,
   "metadata": {},
   "outputs": [
    {
     "name": "stdout",
     "output_type": "stream",
     "text": [
      "<class 'pandas.core.frame.DataFrame'>\n",
      "RangeIndex: 4736 entries, 0 to 4735\n",
      "Data columns (total 39 columns):\n",
      " #   Column              Non-Null Count  Dtype  \n",
      "---  ------              --------------  -----  \n",
      " 0   title               4736 non-null   object \n",
      " 1   ubicacion           4736 non-null   object \n",
      " 2   precio              4731 non-null   float64\n",
      " 3   habitaciones        4546 non-null   float64\n",
      " 4   banos               4471 non-null   float64\n",
      " 5   m2_constr           4723 non-null   float64\n",
      " 6   planta              2739 non-null   float64\n",
      " 7   EUR/m2              4719 non-null   float64\n",
      " 8   estado              2934 non-null   object \n",
      " 9   url                 4736 non-null   object \n",
      " 10  fecha_descarga      4736 non-null   object \n",
      " 11  web                 4736 non-null   object \n",
      " 12  distrito            4202 non-null   object \n",
      " 13  barrio              4514 non-null   object \n",
      " 14  cod_distrito        3992 non-null   float64\n",
      " 15  cod_barrio          3992 non-null   float64\n",
      " 16  detalle             4736 non-null   object \n",
      " 17  consumo_energia     4736 non-null   object \n",
      " 18  referencia          4736 non-null   object \n",
      " 19  fecha_publicacion   4736 non-null   object \n",
      " 20  conservacion        4736 non-null   object \n",
      " 21  m2_utiles           4736 non-null   float64\n",
      " 22  ano_construccion    4736 non-null   object \n",
      " 23  €_comunidad_mes     4736 non-null   object \n",
      " 24  interior_exterior   4736 non-null   object \n",
      " 25  orientacion         4736 non-null   object \n",
      " 26  jardin              4736 non-null   object \n",
      " 27  aire_acondicionado  4736 non-null   object \n",
      " 28  calefaccion         4736 non-null   object \n",
      " 29  cocina              4736 non-null   object \n",
      " 30  tipo_suelo          4736 non-null   object \n",
      " 31  piscina             4736 non-null   object \n",
      " 32  armarios            4736 non-null   object \n",
      " 33  garaje              4736 non-null   object \n",
      " 34  terraza             4736 non-null   object \n",
      " 35  trastero            4736 non-null   object \n",
      " 36  ascensor            4736 non-null   object \n",
      " 37  balcon              4736 non-null   object \n",
      " 38  tipologia           4736 non-null   object \n",
      "dtypes: float64(9), object(30)\n",
      "memory usage: 1.4+ MB\n"
     ]
    }
   ],
   "source": [
    "# df_pisos['fecha_publicacion'] = df_pisos['fecha_publicacion'].astype('object')\n",
    "# df_pisos['m2_utiles'] = df_pisos['m2_utiles'].astype('float')\n",
    "# df_pisos.info()"
   ]
  },
  {
   "cell_type": "code",
   "execution_count": 7,
   "metadata": {},
   "outputs": [
    {
     "name": "stdout",
     "output_type": "stream",
     "text": [
      "<class 'pandas.core.frame.DataFrame'>\n",
      "RangeIndex: 2867 entries, 0 to 2866\n",
      "Data columns (total 33 columns):\n",
      " #   Column              Non-Null Count  Dtype  \n",
      "---  ------              --------------  -----  \n",
      " 0   title               2616 non-null   object \n",
      " 1   ubicacion           2867 non-null   object \n",
      " 2   precio              2865 non-null   float64\n",
      " 3   habitaciones        2659 non-null   float64\n",
      " 4   banos               2792 non-null   float64\n",
      " 5   m2_constr           2779 non-null   float64\n",
      " 6   planta              2538 non-null   float64\n",
      " 7   EUR/m2              1755 non-null   float64\n",
      " 8   url                 2866 non-null   object \n",
      " 9   fecha_descarga      2867 non-null   object \n",
      " 10  web                 2867 non-null   object \n",
      " 11  detalle             2866 non-null   object \n",
      " 12  consumo_energia     2805 non-null   object \n",
      " 13  referencia          2867 non-null   object \n",
      " 14  fecha_publicacion   2805 non-null   object \n",
      " 15  conservacion        1710 non-null   object \n",
      " 16  m2_utiles           1153 non-null   float64\n",
      " 17  ano_construccion    1426 non-null   object \n",
      " 18  €_comunidad_mes     808 non-null    object \n",
      " 19  interior_exterior   621 non-null    object \n",
      " 20  orientacion         1158 non-null   object \n",
      " 21  jardin              204 non-null    object \n",
      " 22  aire_acondicionado  942 non-null    object \n",
      " 23  calefaccion         1437 non-null   object \n",
      " 24  cocina              634 non-null    object \n",
      " 25  tipo_suelo          827 non-null    object \n",
      " 26  piscina             217 non-null    object \n",
      " 27  armarios            1140 non-null   object \n",
      " 28  garaje              536 non-null    object \n",
      " 29  terraza             1208 non-null   object \n",
      " 30  trastero            715 non-null    object \n",
      " 31  ascensor            1916 non-null   object \n",
      " 32  balcon              327 non-null    object \n",
      "dtypes: float64(7), object(26)\n",
      "memory usage: 739.3+ KB\n"
     ]
    }
   ],
   "source": [
    "df_detalles.info()"
   ]
  },
  {
   "cell_type": "code",
   "execution_count": 8,
   "metadata": {},
   "outputs": [
    {
     "data": {
      "text/plain": [
       "Index(['title', 'ubicacion', 'precio', 'habitaciones', 'banos', 'm2_constr',\n",
       "       'planta', 'EUR/m2', 'estado', 'url', 'fecha_descarga', 'web',\n",
       "       'distrito', 'barrio', 'cod_distrito', 'cod_barrio', 'tipologia'],\n",
       "      dtype='object')"
      ]
     },
     "execution_count": 8,
     "metadata": {},
     "output_type": "execute_result"
    }
   ],
   "source": [
    "df_pisos.columns"
   ]
  },
  {
   "cell_type": "code",
   "execution_count": 9,
   "metadata": {},
   "outputs": [
    {
     "data": {
      "text/plain": [
       "Index(['title', 'ubicacion', 'precio', 'habitaciones', 'banos', 'm2_constr',\n",
       "       'planta', 'EUR/m2', 'url', 'fecha_descarga', 'web', 'detalle',\n",
       "       'consumo_energia', 'referencia', 'fecha_publicacion', 'conservacion',\n",
       "       'm2_utiles', 'ano_construccion', '€_comunidad_mes', 'interior_exterior',\n",
       "       'orientacion', 'jardin', 'aire_acondicionado', 'calefaccion', 'cocina',\n",
       "       'tipo_suelo', 'piscina', 'armarios', 'garaje', 'terraza', 'trastero',\n",
       "       'ascensor', 'balcon'],\n",
       "      dtype='object')"
      ]
     },
     "execution_count": 9,
     "metadata": {},
     "output_type": "execute_result"
    }
   ],
   "source": [
    "df_detalles.columns"
   ]
  },
  {
   "cell_type": "code",
   "execution_count": 29,
   "metadata": {},
   "outputs": [],
   "source": [
    "# urls_distintas = set(df_pisos['url']).difference(set(df_detalles['url']))\n",
    "# len(urls_distintas)\n",
    "# 1870"
   ]
  },
  {
   "cell_type": "code",
   "execution_count": 30,
   "metadata": {},
   "outputs": [],
   "source": [
    "# unmatched = df_pisos[~df_pisos['url'].isin(df_detalles['url'])]\n",
    "# unmatched.shape\n",
    "# (1870, 17)"
   ]
  },
  {
   "cell_type": "markdown",
   "metadata": {},
   "source": [
    "## MERGE"
   ]
  },
  {
   "cell_type": "code",
   "execution_count": null,
   "metadata": {},
   "outputs": [
    {
     "data": {
      "text/html": [
       "<div>\n",
       "<style scoped>\n",
       "    .dataframe tbody tr th:only-of-type {\n",
       "        vertical-align: middle;\n",
       "    }\n",
       "\n",
       "    .dataframe tbody tr th {\n",
       "        vertical-align: top;\n",
       "    }\n",
       "\n",
       "    .dataframe thead th {\n",
       "        text-align: right;\n",
       "    }\n",
       "</style>\n",
       "<table border=\"1\" class=\"dataframe\">\n",
       "  <thead>\n",
       "    <tr style=\"text-align: right;\">\n",
       "      <th></th>\n",
       "      <th>estado</th>\n",
       "      <th>url</th>\n",
       "      <th>distrito</th>\n",
       "      <th>barrio</th>\n",
       "      <th>cod_distrito</th>\n",
       "      <th>cod_barrio</th>\n",
       "      <th>tipologia</th>\n",
       "      <th>detalle</th>\n",
       "      <th>consumo_energia</th>\n",
       "      <th>referencia</th>\n",
       "      <th>fecha_publicacion</th>\n",
       "      <th>conservacion</th>\n",
       "      <th>m2_utiles</th>\n",
       "      <th>ano_construccion</th>\n",
       "      <th>€_comunidad_mes</th>\n",
       "      <th>interior_exterior</th>\n",
       "      <th>orientacion</th>\n",
       "      <th>jardin</th>\n",
       "      <th>aire_acondicionado</th>\n",
       "      <th>calefaccion</th>\n",
       "      <th>cocina</th>\n",
       "      <th>tipo_suelo</th>\n",
       "      <th>piscina</th>\n",
       "      <th>armarios</th>\n",
       "      <th>garaje</th>\n",
       "      <th>terraza</th>\n",
       "      <th>trastero</th>\n",
       "      <th>ascensor</th>\n",
       "      <th>balcon</th>\n",
       "      <th>title</th>\n",
       "      <th>ubicacion</th>\n",
       "      <th>precio</th>\n",
       "      <th>habitaciones</th>\n",
       "      <th>banos</th>\n",
       "      <th>m2_constr</th>\n",
       "      <th>planta</th>\n",
       "      <th>EUR/m2</th>\n",
       "      <th>fecha_descarga</th>\n",
       "      <th>web</th>\n",
       "    </tr>\n",
       "  </thead>\n",
       "  <tbody>\n",
       "    <tr>\n",
       "      <th>0</th>\n",
       "      <td>En buen estado</td>\n",
       "      <td>https://www.pisos.com/comprar/apartamento-acacias28005-46704102553_993362/</td>\n",
       "      <td>Arganzuela</td>\n",
       "      <td>Acacias</td>\n",
       "      <td>2.0</td>\n",
       "      <td>22.0</td>\n",
       "      <td>Apartamento</td>\n",
       "      <td>NaN</td>\n",
       "      <td>NaN</td>\n",
       "      <td>NaN</td>\n",
       "      <td>NaN</td>\n",
       "      <td>NaN</td>\n",
       "      <td>NaN</td>\n",
       "      <td>NaN</td>\n",
       "      <td>NaN</td>\n",
       "      <td>NaN</td>\n",
       "      <td>NaN</td>\n",
       "      <td>NaN</td>\n",
       "      <td>NaN</td>\n",
       "      <td>NaN</td>\n",
       "      <td>NaN</td>\n",
       "      <td>NaN</td>\n",
       "      <td>NaN</td>\n",
       "      <td>NaN</td>\n",
       "      <td>NaN</td>\n",
       "      <td>NaN</td>\n",
       "      <td>NaN</td>\n",
       "      <td>NaN</td>\n",
       "      <td>NaN</td>\n",
       "      <td>Apartamento en venta en Calle de Valdelasierra</td>\n",
       "      <td>Acacias (Distrito Arganzuela. Madrid Capital)</td>\n",
       "      <td>255000.0</td>\n",
       "      <td>1.0</td>\n",
       "      <td>1.0</td>\n",
       "      <td>71.0</td>\n",
       "      <td>NaN</td>\n",
       "      <td>3591.0</td>\n",
       "      <td>2024-08-19</td>\n",
       "      <td>pisos.com</td>\n",
       "    </tr>\n",
       "  </tbody>\n",
       "</table>\n",
       "</div>"
      ],
      "text/plain": [
       "           estado  \\\n",
       "0  En buen estado   \n",
       "\n",
       "                                                                          url  \\\n",
       "0  https://www.pisos.com/comprar/apartamento-acacias28005-46704102553_993362/   \n",
       "\n",
       "     distrito   barrio  cod_distrito  cod_barrio    tipologia detalle  \\\n",
       "0  Arganzuela  Acacias           2.0        22.0  Apartamento     NaN   \n",
       "\n",
       "  consumo_energia referencia fecha_publicacion conservacion  m2_utiles  \\\n",
       "0             NaN        NaN               NaN          NaN        NaN   \n",
       "\n",
       "  ano_construccion €_comunidad_mes interior_exterior orientacion jardin  \\\n",
       "0              NaN             NaN               NaN         NaN    NaN   \n",
       "\n",
       "  aire_acondicionado calefaccion cocina tipo_suelo piscina armarios garaje  \\\n",
       "0                NaN         NaN    NaN        NaN     NaN      NaN    NaN   \n",
       "\n",
       "  terraza trastero ascensor balcon  \\\n",
       "0     NaN      NaN      NaN    NaN   \n",
       "\n",
       "                                            title  \\\n",
       "0  Apartamento en venta en Calle de Valdelasierra   \n",
       "\n",
       "                                       ubicacion    precio  habitaciones  \\\n",
       "0  Acacias (Distrito Arganzuela. Madrid Capital)  255000.0           1.0   \n",
       "\n",
       "   banos  m2_constr  planta  EUR/m2 fecha_descarga        web  \n",
       "0    1.0       71.0     NaN  3591.0     2024-08-19  pisos.com  "
      ]
     },
     "execution_count": 31,
     "metadata": {},
     "output_type": "execute_result"
    }
   ],
   "source": [
    "# Hacer merge priorizando columnas de df_detalles preservando columnas únicas de ambas\n",
    "df_pisoscom = pd.merge(\n",
    "    df_pisos, \n",
    "    df_detalles, \n",
    "    on='url', \n",
    "    how='outer', \n",
    "    suffixes=('_pisos', '_detalles')\n",
    ")\n",
    "\n",
    "# Resolver posibles solapamientos de columnas dando prioridad a los valores de df_detalles\n",
    "for column in df_detalles.columns:\n",
    "    if column in df_pisos.columns and column != 'url':  # Avoid overwriting 'url'\n",
    "        df_pisoscom[column] = df_pisoscom[f\"{column}_detalles\"].combine_first(df_pisoscom[f\"{column}_pisos\"])\n",
    "        df_pisoscom.drop([f\"{column}_pisos\", f\"{column}_detalles\"], axis=1, inplace=True)\n",
    "\n",
    "df_pisoscom.head(1)\n"
   ]
  },
  {
   "cell_type": "code",
   "execution_count": 32,
   "metadata": {},
   "outputs": [
    {
     "data": {
      "text/plain": [
       "(4737, 39)"
      ]
     },
     "execution_count": 32,
     "metadata": {},
     "output_type": "execute_result"
    }
   ],
   "source": [
    "df_pisoscom.shape\n",
    "# (4737, 39)"
   ]
  },
  {
   "cell_type": "code",
   "execution_count": 33,
   "metadata": {},
   "outputs": [
    {
     "name": "stdout",
     "output_type": "stream",
     "text": [
      "<class 'pandas.core.frame.DataFrame'>\n",
      "RangeIndex: 4737 entries, 0 to 4736\n",
      "Data columns (total 39 columns):\n",
      " #   Column              Non-Null Count  Dtype  \n",
      "---  ------              --------------  -----  \n",
      " 0   estado              2934 non-null   object \n",
      " 1   url                 4736 non-null   object \n",
      " 2   distrito            4202 non-null   object \n",
      " 3   barrio              4514 non-null   object \n",
      " 4   cod_distrito        3992 non-null   float64\n",
      " 5   cod_barrio          3992 non-null   float64\n",
      " 6   tipologia           4736 non-null   object \n",
      " 7   detalle             2866 non-null   object \n",
      " 8   consumo_energia     2805 non-null   object \n",
      " 9   referencia          2867 non-null   object \n",
      " 10  fecha_publicacion   2805 non-null   object \n",
      " 11  conservacion        1710 non-null   object \n",
      " 12  m2_utiles           1153 non-null   float64\n",
      " 13  ano_construccion    1426 non-null   object \n",
      " 14  €_comunidad_mes     808 non-null    object \n",
      " 15  interior_exterior   621 non-null    object \n",
      " 16  orientacion         1158 non-null   object \n",
      " 17  jardin              204 non-null    object \n",
      " 18  aire_acondicionado  942 non-null    object \n",
      " 19  calefaccion         1437 non-null   object \n",
      " 20  cocina              634 non-null    object \n",
      " 21  tipo_suelo          827 non-null    object \n",
      " 22  piscina             217 non-null    object \n",
      " 23  armarios            1140 non-null   object \n",
      " 24  garaje              536 non-null    object \n",
      " 25  terraza             1208 non-null   object \n",
      " 26  trastero            715 non-null    object \n",
      " 27  ascensor            1916 non-null   object \n",
      " 28  balcon              327 non-null    object \n",
      " 29  title               4736 non-null   object \n",
      " 30  ubicacion           4737 non-null   object \n",
      " 31  precio              4731 non-null   float64\n",
      " 32  habitaciones        4633 non-null   float64\n",
      " 33  banos               4585 non-null   float64\n",
      " 34  m2_constr           4729 non-null   float64\n",
      " 35  planta              3690 non-null   float64\n",
      " 36  EUR/m2              4720 non-null   float64\n",
      " 37  fecha_descarga      4737 non-null   object \n",
      " 38  web                 4737 non-null   object \n",
      "dtypes: float64(9), object(30)\n",
      "memory usage: 1.4+ MB\n"
     ]
    }
   ],
   "source": [
    "df_pisoscom.info()"
   ]
  },
  {
   "cell_type": "code",
   "execution_count": 36,
   "metadata": {},
   "outputs": [
    {
     "data": {
      "text/html": [
       "<div>\n",
       "<style scoped>\n",
       "    .dataframe tbody tr th:only-of-type {\n",
       "        vertical-align: middle;\n",
       "    }\n",
       "\n",
       "    .dataframe tbody tr th {\n",
       "        vertical-align: top;\n",
       "    }\n",
       "\n",
       "    .dataframe thead th {\n",
       "        text-align: right;\n",
       "    }\n",
       "</style>\n",
       "<table border=\"1\" class=\"dataframe\">\n",
       "  <thead>\n",
       "    <tr style=\"text-align: right;\">\n",
       "      <th></th>\n",
       "      <th>estado</th>\n",
       "      <th>url</th>\n",
       "      <th>distrito</th>\n",
       "      <th>barrio</th>\n",
       "      <th>cod_distrito</th>\n",
       "      <th>cod_barrio</th>\n",
       "      <th>tipologia</th>\n",
       "      <th>detalle</th>\n",
       "      <th>consumo_energia</th>\n",
       "      <th>referencia</th>\n",
       "      <th>fecha_publicacion</th>\n",
       "      <th>conservacion</th>\n",
       "      <th>m2_utiles</th>\n",
       "      <th>ano_construccion</th>\n",
       "      <th>€_comunidad_mes</th>\n",
       "      <th>interior_exterior</th>\n",
       "      <th>orientacion</th>\n",
       "      <th>jardin</th>\n",
       "      <th>aire_acondicionado</th>\n",
       "      <th>calefaccion</th>\n",
       "      <th>cocina</th>\n",
       "      <th>tipo_suelo</th>\n",
       "      <th>piscina</th>\n",
       "      <th>armarios</th>\n",
       "      <th>garaje</th>\n",
       "      <th>terraza</th>\n",
       "      <th>trastero</th>\n",
       "      <th>ascensor</th>\n",
       "      <th>balcon</th>\n",
       "      <th>title</th>\n",
       "      <th>ubicacion</th>\n",
       "      <th>precio</th>\n",
       "      <th>habitaciones</th>\n",
       "      <th>banos</th>\n",
       "      <th>m2_constr</th>\n",
       "      <th>planta</th>\n",
       "      <th>EUR/m2</th>\n",
       "      <th>fecha_descarga</th>\n",
       "      <th>web</th>\n",
       "    </tr>\n",
       "  </thead>\n",
       "  <tbody>\n",
       "    <tr>\n",
       "      <th>4433</th>\n",
       "      <td>A estrenar</td>\n",
       "      <td>https://www.pisos.com/comprar/piso-universidad_malasana28004-47595548929_108900/</td>\n",
       "      <td>Centro</td>\n",
       "      <td>Universidad</td>\n",
       "      <td>1.0</td>\n",
       "      <td>15.0</td>\n",
       "      <td>Piso</td>\n",
       "      <td>Espectacular Vivienda Totalmente Reformada en Calle Malasaña\\n\\nEn Inmobiliaria Don Chamberí nos complace presentar esta espectacular vivienda totalmente reformada, lista para estrenar y entrar a vivir. Ubicada en la representativa Calle de Manuela Malasaña, 14 en la zona centro de la ciudad, esta propiedad se caracteriza por estar en un área con mucha historia y riqueza cultural. La ubicación ofrece una combinación única de encanto tradicional y modernidad cosmopolita.\\n\\nUbicación\\n\\nSituada en una de las zonas más emblemáticas de la ciudad, esta vivienda ofrece una oferta cultural inigualable. Entre la estación de metro Bilbao y San Bernardo.\\nAdemás, la zona cuenta con una amplia variedad de tiendas, restaurantes y locales de entretenimiento, garantizando una vida vibrante y llena de opciones.\\n\\nEl inmueble se encuentra en un edificio de fachada clásica, equipado con ascensor, que ha sido totalmente reformado por el prestigioso equipo de Diseño &amp; Interiorismo ARCTEMPUS.\\n\\nCaracterísticas de la Vivienda\\n\\n\\nDistribución Inteligente y Elegante:\\n\\n\\nCocina: Totalmente equipada e independiente.\\nSalón: De gran tamaño, con acabados de madera realizados a medida.\\nDormitorios: 3 amplios dormitorios.\\nBaños: 3 modernos baños.\\n\\n\\n\\n\\nBeneficios\\n\\nEsta propiedad es una oportunidad única, ya que fusiona tamaño, diseño y la mejor ubicación. Ideal para quienes buscan un hogar espacioso y con un toque de elegancia y modernidad en el corazón de la ciudad.\\n\\nNo deje pasar esta oportunidad de vivir en una vivienda exclusiva y reformada con los más altos estándares de calidad. ¡Contáctenos para más información y para programar una visita!</td>\n",
       "      <td>En trámite</td>\n",
       "      <td>Ref.: XA785-510536</td>\n",
       "      <td>2024-09-05</td>\n",
       "      <td>A estrenar</td>\n",
       "      <td>81.0</td>\n",
       "      <td>NaN</td>\n",
       "      <td>NaN</td>\n",
       "      <td>NaN</td>\n",
       "      <td>Sur</td>\n",
       "      <td>NaN</td>\n",
       "      <td>Frío-calor</td>\n",
       "      <td>NaN</td>\n",
       "      <td>NaN</td>\n",
       "      <td>NaN</td>\n",
       "      <td>NaN</td>\n",
       "      <td>NaN</td>\n",
       "      <td>NaN</td>\n",
       "      <td>NaN</td>\n",
       "      <td>NaN</td>\n",
       "      <td>Ascensor</td>\n",
       "      <td>NaN</td>\n",
       "      <td>Piso en venta en Calle de Manuela Malasaña</td>\n",
       "      <td>Universidad-Malasaña (Distrito Centro. Madrid Capital) / Universidad-Malasaña (Distrito Centro. Madrid Capital)</td>\n",
       "      <td>1039000.0</td>\n",
       "      <td>3.0</td>\n",
       "      <td>3.0</td>\n",
       "      <td>103.0</td>\n",
       "      <td>10087.0</td>\n",
       "      <td>10087.0</td>\n",
       "      <td>2024-10-19</td>\n",
       "      <td>pisos.com</td>\n",
       "    </tr>\n",
       "  </tbody>\n",
       "</table>\n",
       "</div>"
      ],
      "text/plain": [
       "          estado  \\\n",
       "4433  A estrenar   \n",
       "\n",
       "                                                                                   url  \\\n",
       "4433  https://www.pisos.com/comprar/piso-universidad_malasana28004-47595548929_108900/   \n",
       "\n",
       "     distrito       barrio  cod_distrito  cod_barrio tipologia  \\\n",
       "4433   Centro  Universidad           1.0        15.0      Piso   \n",
       "\n",
       "                                                                                                                                                                                                                                                                                                                                                                                                                                                                                                                                                                                                                                                                                                                                                                                                                                                                                                                                                                                                                                                                                                                                                                                                                                                                                                                                                                                                                                                                                                                                                                                                                                                                                                                            detalle  \\\n",
       "4433  Espectacular Vivienda Totalmente Reformada en Calle Malasaña\\n\\nEn Inmobiliaria Don Chamberí nos complace presentar esta espectacular vivienda totalmente reformada, lista para estrenar y entrar a vivir. Ubicada en la representativa Calle de Manuela Malasaña, 14 en la zona centro de la ciudad, esta propiedad se caracteriza por estar en un área con mucha historia y riqueza cultural. La ubicación ofrece una combinación única de encanto tradicional y modernidad cosmopolita.\\n\\nUbicación\\n\\nSituada en una de las zonas más emblemáticas de la ciudad, esta vivienda ofrece una oferta cultural inigualable. Entre la estación de metro Bilbao y San Bernardo.\\nAdemás, la zona cuenta con una amplia variedad de tiendas, restaurantes y locales de entretenimiento, garantizando una vida vibrante y llena de opciones.\\n\\nEl inmueble se encuentra en un edificio de fachada clásica, equipado con ascensor, que ha sido totalmente reformado por el prestigioso equipo de Diseño & Interiorismo ARCTEMPUS.\\n\\nCaracterísticas de la Vivienda\\n\\n\\nDistribución Inteligente y Elegante:\\n\\n\\nCocina: Totalmente equipada e independiente.\\nSalón: De gran tamaño, con acabados de madera realizados a medida.\\nDormitorios: 3 amplios dormitorios.\\nBaños: 3 modernos baños.\\n\\n\\n\\n\\nBeneficios\\n\\nEsta propiedad es una oportunidad única, ya que fusiona tamaño, diseño y la mejor ubicación. Ideal para quienes buscan un hogar espacioso y con un toque de elegancia y modernidad en el corazón de la ciudad.\\n\\nNo deje pasar esta oportunidad de vivir en una vivienda exclusiva y reformada con los más altos estándares de calidad. ¡Contáctenos para más información y para programar una visita!   \n",
       "\n",
       "     consumo_energia          referencia fecha_publicacion conservacion  \\\n",
       "4433      En trámite  Ref.: XA785-510536        2024-09-05   A estrenar   \n",
       "\n",
       "      m2_utiles ano_construccion €_comunidad_mes interior_exterior  \\\n",
       "4433       81.0              NaN             NaN               NaN   \n",
       "\n",
       "     orientacion jardin aire_acondicionado calefaccion cocina tipo_suelo  \\\n",
       "4433         Sur    NaN         Frío-calor         NaN    NaN        NaN   \n",
       "\n",
       "     piscina armarios garaje terraza trastero  ascensor balcon  \\\n",
       "4433     NaN      NaN    NaN     NaN      NaN  Ascensor    NaN   \n",
       "\n",
       "                                           title  \\\n",
       "4433  Piso en venta en Calle de Manuela Malasaña   \n",
       "\n",
       "                                                                                                            ubicacion  \\\n",
       "4433  Universidad-Malasaña (Distrito Centro. Madrid Capital) / Universidad-Malasaña (Distrito Centro. Madrid Capital)   \n",
       "\n",
       "         precio  habitaciones  banos  m2_constr   planta   EUR/m2  \\\n",
       "4433  1039000.0           3.0    3.0      103.0  10087.0  10087.0   \n",
       "\n",
       "     fecha_descarga        web  \n",
       "4433     2024-10-19  pisos.com  "
      ]
     },
     "execution_count": 36,
     "metadata": {},
     "output_type": "execute_result"
    }
   ],
   "source": [
    "df_random = df_pisoscom.sample(n=1, random_state=2)\n",
    "df_random"
   ]
  },
  {
   "cell_type": "code",
   "execution_count": 38,
   "metadata": {},
   "outputs": [
    {
     "data": {
      "text/plain": [
       "habitaciones\n",
       "3.0      1586\n",
       "2.0      1382\n",
       "4.0       645\n",
       "1.0       564\n",
       "5.0       232\n",
       "6.0        90\n",
       "7.0        52\n",
       "8.0        21\n",
       "9.0         8\n",
       "11.0        4\n",
       "69.0        3\n",
       "37.0        3\n",
       "12.0        3\n",
       "10.0        3\n",
       "49.0        3\n",
       "59.0        3\n",
       "40.0        3\n",
       "168.0       2\n",
       "15.0        2\n",
       "41.0        2\n",
       "413.0       1\n",
       "250.0       1\n",
       "75.0        1\n",
       "20.0        1\n",
       "500.0       1\n",
       "24.0        1\n",
       "36.0        1\n",
       "17.0        1\n",
       "14.0        1\n",
       "51.0        1\n",
       "167.0       1\n",
       "62.0        1\n",
       "42.0        1\n",
       "38.0        1\n",
       "46.0        1\n",
       "94.0        1\n",
       "102.0       1\n",
       "180.0       1\n",
       "30.0        1\n",
       "70.0        1\n",
       "112.0       1\n",
       "64.0        1\n",
       "Name: count, dtype: int64"
      ]
     },
     "execution_count": 38,
     "metadata": {},
     "output_type": "execute_result"
    }
   ],
   "source": [
    "count_hab = df_pisoscom['habitaciones'].value_counts().sort_values(ascending=False)  \n",
    "count_hab"
   ]
  },
  {
   "cell_type": "code",
   "execution_count": 39,
   "metadata": {},
   "outputs": [
    {
     "data": {
      "text/plain": [
       "banos\n",
       "1.0      1557\n",
       "2.0      1496\n",
       "3.0       745\n",
       "4.0       367\n",
       "5.0       168\n",
       "         ... \n",
       "190.0       1\n",
       "93.0        1\n",
       "32.0        1\n",
       "88.0        1\n",
       "231.0       1\n",
       "Name: count, Length: 114, dtype: int64"
      ]
     },
     "execution_count": 39,
     "metadata": {},
     "output_type": "execute_result"
    }
   ],
   "source": [
    "count_banos = df_pisoscom['banos'].value_counts().sort_values(ascending=False)  \n",
    "count_banos"
   ]
  },
  {
   "cell_type": "code",
   "execution_count": 40,
   "metadata": {},
   "outputs": [
    {
     "data": {
      "text/plain": [
       "planta\n",
       "1.0       696\n",
       "2.0       527\n",
       "3.0       466\n",
       "4.0       349\n",
       "5.0       208\n",
       "         ... \n",
       "104.0       1\n",
       "134.0       1\n",
       "75.0        1\n",
       "3229.0      1\n",
       "8270.0      1\n",
       "Name: count, Length: 917, dtype: int64"
      ]
     },
     "execution_count": 40,
     "metadata": {},
     "output_type": "execute_result"
    }
   ],
   "source": [
    "count_planta = df_pisoscom['planta'].value_counts().sort_values(ascending=False)  \n",
    "count_planta"
   ]
  },
  {
   "cell_type": "code",
   "execution_count": 41,
   "metadata": {},
   "outputs": [
    {
     "data": {
      "text/plain": [
       "tipologia\n",
       "Piso           3919\n",
       "Ático           226\n",
       "Chalet          169\n",
       "Apartamento     129\n",
       "Dúplex          108\n",
       "Casa             89\n",
       "Estudio          74\n",
       "Loft             18\n",
       "Finca             4\n",
       "Name: count, dtype: int64"
      ]
     },
     "execution_count": 41,
     "metadata": {},
     "output_type": "execute_result"
    }
   ],
   "source": [
    "count_tipologia = df_pisoscom['tipologia'].value_counts().sort_values(ascending=False)  \n",
    "count_tipologia"
   ]
  },
  {
   "cell_type": "code",
   "execution_count": 42,
   "metadata": {},
   "outputs": [
    {
     "data": {
      "text/plain": [
       "estado\n",
       "En buen estado    1704\n",
       "A estrenar         479\n",
       "Reformado          402\n",
       "A reformar         349\n",
       "Name: count, dtype: int64"
      ]
     },
     "execution_count": 42,
     "metadata": {},
     "output_type": "execute_result"
    }
   ],
   "source": [
    "count_estado = df_pisoscom['estado'].value_counts().sort_values(ascending=False)  \n",
    "count_estado"
   ]
  },
  {
   "cell_type": "code",
   "execution_count": 44,
   "metadata": {},
   "outputs": [
    {
     "data": {
      "text/plain": [
       "consumo_energia\n",
       "En trámite                1493\n",
       "Disponible                 596\n",
       "Pendiente de completar     526\n",
       "No indicado                186\n",
       "Exento                       4\n",
       "Name: count, dtype: int64"
      ]
     },
     "execution_count": 44,
     "metadata": {},
     "output_type": "execute_result"
    }
   ],
   "source": [
    "count_consumo = df_pisoscom['consumo_energia'].value_counts().sort_values(ascending=False)  \n",
    "count_consumo"
   ]
  },
  {
   "cell_type": "code",
   "execution_count": 45,
   "metadata": {},
   "outputs": [
    {
     "data": {
      "text/plain": [
       "conservacion\n",
       "En buen estado    951\n",
       "A estrenar        324\n",
       "Reformado         245\n",
       "A reformar        190\n",
       "Name: count, dtype: int64"
      ]
     },
     "execution_count": 45,
     "metadata": {},
     "output_type": "execute_result"
    }
   ],
   "source": [
    "count_conservacion = df_pisoscom['conservacion'].value_counts().sort_values(ascending=False)  \n",
    "count_conservacion"
   ]
  },
  {
   "cell_type": "code",
   "execution_count": 46,
   "metadata": {},
   "outputs": [
    {
     "data": {
      "text/plain": [
       "ano_construccion\n",
       "Más de 50 años        1019\n",
       "Entre 30 y 50 años     205\n",
       "Entre 20 y 30 años      92\n",
       "Entre 10 y 20 años      65\n",
       "Menos de 5 años         34\n",
       "Entre 5 y 10 años       11\n",
       "Name: count, dtype: int64"
      ]
     },
     "execution_count": 46,
     "metadata": {},
     "output_type": "execute_result"
    }
   ],
   "source": [
    "count_antiguedad = df_pisoscom['ano_construccion'].value_counts().sort_values(ascending=False)  \n",
    "count_antiguedad"
   ]
  },
  {
   "cell_type": "code",
   "execution_count": 48,
   "metadata": {},
   "outputs": [
    {
     "data": {
      "text/plain": [
       "€_comunidad_mes\n",
       "Más de 100 €                              351\n",
       "Entre 40 y 60 €                           100\n",
       "Entre 80 y 100 €                           95\n",
       "Entre 60 y 80 €                            80\n",
       "Entre 20 y 40 €                            41\n",
       "                                         ... \n",
       "75€                                         1\n",
       "350  € aparte calefacción                   1\n",
       "165€ limpieza, pisicina, gimnasio.....      1\n",
       "1.000                                       1\n",
       "No tiene                                    1\n",
       "Name: count, Length: 135, dtype: int64"
      ]
     },
     "execution_count": 48,
     "metadata": {},
     "output_type": "execute_result"
    }
   ],
   "source": [
    "count_comunidad = df_pisoscom['€_comunidad_mes'].value_counts().sort_values(ascending=False)  \n",
    "count_comunidad"
   ]
  },
  {
   "cell_type": "code",
   "execution_count": 49,
   "metadata": {},
   "outputs": [
    {
     "data": {
      "text/plain": [
       "interior_exterior\n",
       "Exterior    547\n",
       "Interior     74\n",
       "Name: count, dtype: int64"
      ]
     },
     "execution_count": 49,
     "metadata": {},
     "output_type": "execute_result"
    }
   ],
   "source": [
    "count_interior_exterior = df_pisoscom['interior_exterior'].value_counts().sort_values(ascending=False)  \n",
    "count_interior_exterior"
   ]
  },
  {
   "cell_type": "code",
   "execution_count": 50,
   "metadata": {},
   "outputs": [
    {
     "data": {
      "text/plain": [
       "orientacion\n",
       "Sur                                313\n",
       "Este                               263\n",
       "Oeste                              148\n",
       "Norte                              131\n",
       "Sureste                            105\n",
       "Suroeste                            58\n",
       "Noreste                             52\n",
       "Noroeste                            51\n",
       "Medio día                           10\n",
       "-1                                   9\n",
       "Nordeste                             2\n",
       "A la montaña                         2\n",
       "Este y oeste                         1\n",
       "Varias                               1\n",
       "Sur, este y norte                    1\n",
       "Este, noreste y suroeste             1\n",
       "Sur en la terraza y dormitorios      1\n",
       "Sur, oeste                           1\n",
       "Oeste y este                         1\n",
       "Norte y este                         1\n",
       "Este-oeste                           1\n",
       "Este, oeste y norte                  1\n",
       "Sudeste                              1\n",
       "Este|oeste                           1\n",
       "Sur/norte                            1\n",
       "Vistas al palacio de parcent.        1\n",
       "Name: count, dtype: int64"
      ]
     },
     "execution_count": 50,
     "metadata": {},
     "output_type": "execute_result"
    }
   ],
   "source": [
    "count_orientacion = df_pisoscom['orientacion'].value_counts().sort_values(ascending=False)  \n",
    "count_orientacion"
   ]
  },
  {
   "cell_type": "code",
   "execution_count": 51,
   "metadata": {},
   "outputs": [
    {
     "data": {
      "text/plain": [
       "jardin\n",
       "Comunitario    114\n",
       "Privado         90\n",
       "Name: count, dtype: int64"
      ]
     },
     "execution_count": 51,
     "metadata": {},
     "output_type": "execute_result"
    }
   ],
   "source": [
    "count_jardin = df_pisoscom['jardin'].value_counts().sort_values(ascending=False)  \n",
    "count_jardin"
   ]
  },
  {
   "cell_type": "code",
   "execution_count": 52,
   "metadata": {},
   "outputs": [
    {
     "data": {
      "text/plain": [
       "aire_acondicionado\n",
       "Frío                                                  475\n",
       "Frío y calor                                          320\n",
       "Splites repartidos                                     70\n",
       "Independiente                                          26\n",
       "Suelo refrigerante                                     10\n",
       "Frío-calor                                              7\n",
       "Aerotermia                                              5\n",
       "Preinstalado                                            5\n",
       "Central                                                 5\n",
       "Con bomba de calor                                      4\n",
       "Suelo radiante refrescante                              2\n",
       "Por conductos en toda la casa                           1\n",
       "A/a f/c                                                 1\n",
       "Preinstalación                                          1\n",
       "Climatizacion por conductos frio y calor                1\n",
       "Sistema air zone                                        1\n",
       "Individual                                              1\n",
       "Frió/calor por conductos                                1\n",
       "Suelo radiante                                          1\n",
       "Tiene la instalción hecha en toda la casa por cond      1\n",
       "Geotermia y aerotermia                                  1\n",
       "En toda la casa, por conductos                          1\n",
       "Aire frio/ calor por conductos/suelo refrescante        1\n",
       "No disponible                                           1\n",
       "Name: count, dtype: int64"
      ]
     },
     "execution_count": 52,
     "metadata": {},
     "output_type": "execute_result"
    }
   ],
   "source": [
    "count_aire_acond = df_pisoscom['aire_acondicionado'].value_counts().sort_values(ascending=False)  \n",
    "count_aire_acond"
   ]
  },
  {
   "cell_type": "code",
   "execution_count": 53,
   "metadata": {},
   "outputs": [
    {
     "data": {
      "text/plain": [
       "calefaccion\n",
       "Central                                               701\n",
       "Gas natural                                           520\n",
       "Eléctrica                                             113\n",
       "Individual                                             22\n",
       "Individual - gas natural                               18\n",
       "Suelo radiante                                         11\n",
       "Gasoil                                                  9\n",
       "Aerotermia                                              7\n",
       "Bomba frio calor                                        3\n",
       "Termo electrico                                         3\n",
       "Comunitario                                             3\n",
       "Climatización                                           2\n",
       "Calefaccion comunitaria                                 2\n",
       "Calefaccion individual                                  2\n",
       "Gas particular                                          2\n",
       "Gas natural y biomasa                                   1\n",
       "Individual con gas natural                              1\n",
       "G/n                                                     1\n",
       "Por climatizacion                                       1\n",
       "Suelo radiante agua                                     1\n",
       "Centralizada                                            1\n",
       "Agua caliente y calefacción central con contador i      1\n",
       "Geotermia y aerotermia                                  1\n",
       "Contadores individuales                                 1\n",
       "Bomba de calor                                          1\n",
       "Conducto                                                1\n",
       "Bomba frio-calor                                        1\n",
       "Calefacción central individualizada                     1\n",
       "Chimenea                                                1\n",
       "Comunitaria                                             1\n",
       "Central individualizada                                 1\n",
       "Bomba frio/calor                                        1\n",
       "Climatizaciòn                                           1\n",
       "Climatizacion                                           1\n",
       "Name: count, dtype: int64"
      ]
     },
     "execution_count": 53,
     "metadata": {},
     "output_type": "execute_result"
    }
   ],
   "source": [
    "count_calefaccion = df_pisoscom['calefaccion'].value_counts().sort_values(ascending=False)  \n",
    "count_calefaccion"
   ]
  },
  {
   "cell_type": "code",
   "execution_count": 54,
   "metadata": {},
   "outputs": [
    {
     "data": {
      "text/plain": [
       "cocina\n",
       "Cocina amueblada                       190\n",
       "Independiente                          131\n",
       "Cocina americana                        59\n",
       "Americana                               59\n",
       "Amueblada                               39\n",
       "                                      ... \n",
       "Equipafda americana                      1\n",
       "Qmueblada y equipada                     1\n",
       "Totalmente equipada.                     1\n",
       "Y equipada                               1\n",
       "Independiente - amueblada con elec.      1\n",
       "Name: count, Length: 84, dtype: int64"
      ]
     },
     "execution_count": 54,
     "metadata": {},
     "output_type": "execute_result"
    }
   ],
   "source": [
    "count_cocina = df_pisoscom['cocina'].value_counts().sort_values(ascending=False)  \n",
    "count_cocina"
   ]
  },
  {
   "cell_type": "code",
   "execution_count": 55,
   "metadata": {},
   "outputs": [
    {
     "data": {
      "text/plain": [
       "tipo_suelo\n",
       "Parquet                              287\n",
       "Tarima flotante                      253\n",
       "Tarima maciza                        113\n",
       "Gres                                  97\n",
       "Mármol                                28\n",
       "Terrazo                                7\n",
       "Parket                                 6\n",
       "Tarima                                 5\n",
       "Moqueta                                4\n",
       "Madera                                 4\n",
       "Tarima normal                          3\n",
       "Porcelanico                            2\n",
       "Radiante-refrescante                   2\n",
       "Suelo radiante                         1\n",
       "Suelo tecnico                          1\n",
       "Grés porcelánico                       1\n",
       "Tarima - porcelánico                   1\n",
       "Marmol  y tarima                       1\n",
       "Baldosa                                1\n",
       "Gres porcelanico imitacion madera      1\n",
       "Gres y tarima flotante                 1\n",
       "Porcelanato                            1\n",
       "Otros                                  1\n",
       "Otro                                   1\n",
       "Cerámico                               1\n",
       "Cemento pulido                         1\n",
       "Cerámica                               1\n",
       "Pino melis                             1\n",
       "Ceramica                               1\n",
       "Name: count, dtype: int64"
      ]
     },
     "execution_count": 55,
     "metadata": {},
     "output_type": "execute_result"
    }
   ],
   "source": [
    "count_suelo = df_pisoscom['tipo_suelo'].value_counts().sort_values(ascending=False)  \n",
    "count_suelo"
   ]
  },
  {
   "cell_type": "code",
   "execution_count": 56,
   "metadata": {},
   "outputs": [
    {
     "data": {
      "text/plain": [
       "piscina\n",
       "Comunitaria                                  139\n",
       "Propia                                        76\n",
       "Con salorium                                   1\n",
       "1 piscina de adultos y 1 piscina de niños      1\n",
       "Name: count, dtype: int64"
      ]
     },
     "execution_count": 56,
     "metadata": {},
     "output_type": "execute_result"
    }
   ],
   "source": [
    "count_piscina = df_pisoscom['piscina'].value_counts().sort_values(ascending=False)  \n",
    "count_piscina"
   ]
  },
  {
   "cell_type": "code",
   "execution_count": 57,
   "metadata": {},
   "outputs": [
    {
     "data": {
      "text/plain": [
       "armarios\n",
       "1                        810\n",
       "Más de 2                 254\n",
       "2                         71\n",
       "3 empotrados               1\n",
       "Mas de 5                   1\n",
       "1 closet                   1\n",
       "4 empotrados               1\n",
       "8 armarios empotrados      1\n",
       "Name: count, dtype: int64"
      ]
     },
     "execution_count": 57,
     "metadata": {},
     "output_type": "execute_result"
    }
   ],
   "source": [
    "count_armarios = df_pisoscom['armarios'].value_counts().sort_values(ascending=False)  \n",
    "count_armarios"
   ]
  },
  {
   "cell_type": "code",
   "execution_count": 58,
   "metadata": {},
   "outputs": [
    {
     "data": {
      "text/plain": [
       "garaje\n",
       "1                   418\n",
       "2                    96\n",
       "Más de 2             21\n",
       "Privado 1 plazas      1\n",
       "Name: count, dtype: int64"
      ]
     },
     "execution_count": 58,
     "metadata": {},
     "output_type": "execute_result"
    }
   ],
   "source": [
    "count_garaje = df_pisoscom['garaje'].value_counts().sort_values(ascending=False)  \n",
    "count_garaje"
   ]
  },
  {
   "cell_type": "code",
   "execution_count": 59,
   "metadata": {},
   "outputs": [
    {
     "data": {
      "text/plain": [
       "terraza\n",
       "Terraza    1208\n",
       "Name: count, dtype: int64"
      ]
     },
     "execution_count": 59,
     "metadata": {},
     "output_type": "execute_result"
    }
   ],
   "source": [
    "count_Terraza = df_pisoscom['terraza'].value_counts().sort_values(ascending=False)  \n",
    "count_Terraza"
   ]
  },
  {
   "cell_type": "code",
   "execution_count": 60,
   "metadata": {},
   "outputs": [
    {
     "data": {
      "text/plain": [
       "trastero\n",
       "Trastero    715\n",
       "Name: count, dtype: int64"
      ]
     },
     "execution_count": 60,
     "metadata": {},
     "output_type": "execute_result"
    }
   ],
   "source": [
    "count_Trastero = df_pisoscom['trastero'].value_counts().sort_values(ascending=False)  \n",
    "count_Trastero"
   ]
  },
  {
   "cell_type": "code",
   "execution_count": 61,
   "metadata": {},
   "outputs": [
    {
     "data": {
      "text/plain": [
       "ascensor\n",
       "Ascensor    1916\n",
       "Name: count, dtype: int64"
      ]
     },
     "execution_count": 61,
     "metadata": {},
     "output_type": "execute_result"
    }
   ],
   "source": [
    "count_Ascensor = df_pisoscom['ascensor'].value_counts().sort_values(ascending=False)  \n",
    "count_Ascensor"
   ]
  },
  {
   "cell_type": "code",
   "execution_count": 63,
   "metadata": {},
   "outputs": [
    {
     "data": {
      "text/plain": [
       "balcon\n",
       "Balcón    327\n",
       "Name: count, dtype: int64"
      ]
     },
     "execution_count": 63,
     "metadata": {},
     "output_type": "execute_result"
    }
   ],
   "source": [
    "count_Balcón = df_pisoscom['balcon'].value_counts().sort_values(ascending=False)  \n",
    "count_Balcón"
   ]
  },
  {
   "cell_type": "code",
   "execution_count": 64,
   "metadata": {},
   "outputs": [
    {
     "name": "stdout",
     "output_type": "stream",
     "text": [
      "<class 'pandas.core.frame.DataFrame'>\n",
      "RangeIndex: 4737 entries, 0 to 4736\n",
      "Data columns (total 39 columns):\n",
      " #   Column              Non-Null Count  Dtype  \n",
      "---  ------              --------------  -----  \n",
      " 0   estado              2934 non-null   object \n",
      " 1   url                 4736 non-null   object \n",
      " 2   distrito            4202 non-null   object \n",
      " 3   barrio              4514 non-null   object \n",
      " 4   cod_distrito        3992 non-null   float64\n",
      " 5   cod_barrio          3992 non-null   float64\n",
      " 6   tipologia           4736 non-null   object \n",
      " 7   detalle             2866 non-null   object \n",
      " 8   consumo_energia     2805 non-null   object \n",
      " 9   referencia          2867 non-null   object \n",
      " 10  fecha_publicacion   2805 non-null   object \n",
      " 11  conservacion        1710 non-null   object \n",
      " 12  m2_utiles           1153 non-null   float64\n",
      " 13  ano_construccion    1426 non-null   object \n",
      " 14  €_comunidad_mes     808 non-null    object \n",
      " 15  interior_exterior   621 non-null    object \n",
      " 16  orientacion         1158 non-null   object \n",
      " 17  jardin              204 non-null    object \n",
      " 18  aire_acondicionado  942 non-null    object \n",
      " 19  calefaccion         1437 non-null   object \n",
      " 20  cocina              634 non-null    object \n",
      " 21  tipo_suelo          827 non-null    object \n",
      " 22  piscina             217 non-null    object \n",
      " 23  armarios            1140 non-null   object \n",
      " 24  garaje              536 non-null    object \n",
      " 25  terraza             1208 non-null   object \n",
      " 26  trastero            715 non-null    object \n",
      " 27  ascensor            1916 non-null   object \n",
      " 28  balcon              327 non-null    object \n",
      " 29  title               4736 non-null   object \n",
      " 30  ubicacion           4737 non-null   object \n",
      " 31  precio              4731 non-null   float64\n",
      " 32  habitaciones        4633 non-null   float64\n",
      " 33  banos               4585 non-null   float64\n",
      " 34  m2_constr           4729 non-null   float64\n",
      " 35  planta              3690 non-null   float64\n",
      " 36  EUR/m2              4720 non-null   float64\n",
      " 37  fecha_descarga      4737 non-null   object \n",
      " 38  web                 4737 non-null   object \n",
      "dtypes: float64(9), object(30)\n",
      "memory usage: 1.4+ MB\n"
     ]
    }
   ],
   "source": [
    "df_pisoscom.info()"
   ]
  },
  {
   "cell_type": "code",
   "execution_count": 65,
   "metadata": {},
   "outputs": [
    {
     "name": "stdout",
     "output_type": "stream",
     "text": [
      "<class 'pandas.core.frame.DataFrame'>\n",
      "RangeIndex: 4737 entries, 0 to 4736\n",
      "Data columns (total 39 columns):\n",
      " #   Column              Non-Null Count  Dtype  \n",
      "---  ------              --------------  -----  \n",
      " 0   estado              2934 non-null   object \n",
      " 1   url                 4736 non-null   object \n",
      " 2   distrito            4202 non-null   object \n",
      " 3   barrio              4514 non-null   object \n",
      " 4   cod_distrito        3992 non-null   float64\n",
      " 5   cod_barrio          3992 non-null   float64\n",
      " 6   tipologia           4736 non-null   object \n",
      " 7   detalle             2866 non-null   object \n",
      " 8   consumo_energia     2805 non-null   object \n",
      " 9   referencia          2867 non-null   object \n",
      " 10  fecha_publicacion   2805 non-null   object \n",
      " 11  conservacion        1710 non-null   object \n",
      " 12  m2_utiles           1153 non-null   float64\n",
      " 13  ano_construccion    1426 non-null   object \n",
      " 14  €_comunidad_mes     808 non-null    object \n",
      " 15  interior_exterior   621 non-null    object \n",
      " 16  orientacion         1158 non-null   object \n",
      " 17  jardin              204 non-null    object \n",
      " 18  aire_acondicionado  942 non-null    object \n",
      " 19  calefaccion         1437 non-null   object \n",
      " 20  cocina              634 non-null    object \n",
      " 21  tipo_suelo          827 non-null    object \n",
      " 22  piscina             217 non-null    object \n",
      " 23  armarios            1140 non-null   object \n",
      " 24  garaje              536 non-null    object \n",
      " 25  terraza             4737 non-null   int64  \n",
      " 26  trastero            4737 non-null   int64  \n",
      " 27  ascensor            4737 non-null   int64  \n",
      " 28  balcon              4737 non-null   int64  \n",
      " 29  title               4736 non-null   object \n",
      " 30  ubicacion           4737 non-null   object \n",
      " 31  precio              4731 non-null   float64\n",
      " 32  habitaciones        4633 non-null   float64\n",
      " 33  banos               4585 non-null   float64\n",
      " 34  m2_constr           4729 non-null   float64\n",
      " 35  planta              3690 non-null   float64\n",
      " 36  EUR/m2              4720 non-null   float64\n",
      " 37  fecha_descarga      4737 non-null   object \n",
      " 38  web                 4737 non-null   object \n",
      "dtypes: float64(9), int64(4), object(26)\n",
      "memory usage: 1.4+ MB\n"
     ]
    }
   ],
   "source": [
    "# Convertir la columna 'ascensor' en valores booleanos\n",
    "df_pisoscom['ascensor'] = df_pisoscom['ascensor'].apply(lambda x: 1 if x == 'Ascensor' else 0)\n",
    "df_pisoscom['balcon'] = df_pisoscom['balcon'].apply(lambda x: 1 if x == 'Balcón' else 0)\n",
    "df_pisoscom['terraza'] = df_pisoscom['terraza'].apply(lambda x: 1 if x == 'Terraza' else 0)\n",
    "df_pisoscom['trastero'] = df_pisoscom['trastero'].apply(lambda x: 1 if x == 'Trastero' else 0)\n",
    "df_pisoscom.info()"
   ]
  },
  {
   "cell_type": "code",
   "execution_count": 69,
   "metadata": {},
   "outputs": [
    {
     "data": {
      "text/plain": [
       "garaje\n",
       "1.0    419\n",
       "2.0     96\n",
       "3.0     21\n",
       "Name: count, dtype: int64"
      ]
     },
     "execution_count": 69,
     "metadata": {},
     "output_type": "execute_result"
    }
   ],
   "source": [
    "df_pisoscom['garaje'] = df_pisoscom['garaje'].replace({'Más de 2': 3, 'Privado 1 plazas': 1})\n",
    "count_garaje = df_pisoscom['garaje'].value_counts().sort_values(ascending=False)  \n",
    "count_garaje"
   ]
  },
  {
   "cell_type": "code",
   "execution_count": null,
   "metadata": {},
   "outputs": [],
   "source": [
    "# Crear la columna 'interior'\n",
    "df_pisoscom['interior'] = df_pisoscom['interior_exterior'].apply(lambda x: 1 if x == 'Interior' else 0)\n",
    "\n",
    "# Crear la columna 'exterior'\n",
    "df_pisoscom['exterior'] = df_pisoscom['interior_exterior'].apply(lambda x: 1 if x == 'Exterior' else 0)\n",
    "\n",
    "# Eliminar la columna 'interior_exterior'\n",
    "df_pisoscom = df_pisoscom.drop('interior_exterior', axis=1)"
   ]
  },
  {
   "cell_type": "code",
   "execution_count": 74,
   "metadata": {},
   "outputs": [
    {
     "name": "stdout",
     "output_type": "stream",
     "text": [
      "<class 'pandas.core.frame.DataFrame'>\n",
      "RangeIndex: 4737 entries, 0 to 4736\n",
      "Data columns (total 39 columns):\n",
      " #   Column              Non-Null Count  Dtype  \n",
      "---  ------              --------------  -----  \n",
      " 0   estado              2935 non-null   object \n",
      " 1   url                 4736 non-null   object \n",
      " 2   distrito            4202 non-null   object \n",
      " 3   barrio              4514 non-null   object \n",
      " 4   cod_distrito        3992 non-null   float64\n",
      " 5   cod_barrio          3992 non-null   float64\n",
      " 6   tipologia           4736 non-null   object \n",
      " 7   detalle             2866 non-null   object \n",
      " 8   consumo_energia     2805 non-null   object \n",
      " 9   referencia          2867 non-null   object \n",
      " 10  fecha_publicacion   2805 non-null   object \n",
      " 11  m2_utiles           1153 non-null   float64\n",
      " 12  ano_construccion    1426 non-null   object \n",
      " 13  €_comunidad_mes     808 non-null    object \n",
      " 14  orientacion         1158 non-null   object \n",
      " 15  jardin              204 non-null    object \n",
      " 16  aire_acondicionado  942 non-null    object \n",
      " 17  calefaccion         1437 non-null   object \n",
      " 18  cocina              634 non-null    object \n",
      " 19  tipo_suelo          827 non-null    object \n",
      " 20  piscina             217 non-null    object \n",
      " 21  armarios            1140 non-null   object \n",
      " 22  garaje              536 non-null    float64\n",
      " 23  terraza             4737 non-null   int64  \n",
      " 24  trastero            4737 non-null   int64  \n",
      " 25  ascensor            4737 non-null   int64  \n",
      " 26  balcon              4737 non-null   int64  \n",
      " 27  title               4736 non-null   object \n",
      " 28  ubicacion           4737 non-null   object \n",
      " 29  precio              4731 non-null   float64\n",
      " 30  habitaciones        4633 non-null   float64\n",
      " 31  banos               4585 non-null   float64\n",
      " 32  m2_constr           4729 non-null   float64\n",
      " 33  planta              3690 non-null   float64\n",
      " 34  EUR/m2              4720 non-null   float64\n",
      " 35  fecha_descarga      4737 non-null   object \n",
      " 36  web                 4737 non-null   object \n",
      " 37  interior            4737 non-null   int64  \n",
      " 38  exterior            4737 non-null   int64  \n",
      "dtypes: float64(10), int64(6), object(23)\n",
      "memory usage: 1.4+ MB\n"
     ]
    }
   ],
   "source": [
    "# Fusionar las columnas 'estado' y 'conservacion', dando prioridad a 'estado'\n",
    "df_pisoscom['estado'] = df_pisoscom['estado'].combine_first(df_pisoscom['conservacion'])\n",
    "\n",
    "# Eliminar la columna 'conservacion'\n",
    "df_pisoscom = df_pisoscom.drop('conservacion', axis=1)\n",
    "\n",
    "df_pisoscom.info()"
   ]
  },
  {
   "cell_type": "code",
   "execution_count": 75,
   "metadata": {},
   "outputs": [
    {
     "data": {
      "text/plain": [
       "estado\n",
       "En buen estado    1705\n",
       "A estrenar         479\n",
       "Reformado          402\n",
       "A reformar         349\n",
       "Name: count, dtype: int64"
      ]
     },
     "execution_count": 75,
     "metadata": {},
     "output_type": "execute_result"
    }
   ],
   "source": [
    "count_estado = df_pisoscom['estado'].value_counts().sort_values(ascending=False)  \n",
    "count_estado"
   ]
  },
  {
   "cell_type": "code",
   "execution_count": 76,
   "metadata": {},
   "outputs": [
    {
     "data": {
      "text/plain": [
       "tipologia\n",
       "Piso           3919\n",
       "Ático           226\n",
       "Chalet          169\n",
       "Apartamento     129\n",
       "Dúplex          108\n",
       "Casa             89\n",
       "Estudio          74\n",
       "Loft             18\n",
       "Finca             4\n",
       "Name: count, dtype: int64"
      ]
     },
     "execution_count": 76,
     "metadata": {},
     "output_type": "execute_result"
    }
   ],
   "source": [
    "count_tipologia = df_pisoscom['tipologia'].value_counts().sort_values(ascending=False)  \n",
    "count_tipologia"
   ]
  },
  {
   "cell_type": "code",
   "execution_count": 77,
   "metadata": {},
   "outputs": [],
   "source": [
    "df_pisoscom.to_csv('pisoscom_limpio_completo.csv', index=False)"
   ]
  }
 ],
 "metadata": {
  "kernelspec": {
   "display_name": "Nuclio",
   "language": "python",
   "name": "python3"
  },
  "language_info": {
   "codemirror_mode": {
    "name": "ipython",
    "version": 3
   },
   "file_extension": ".py",
   "mimetype": "text/x-python",
   "name": "python",
   "nbconvert_exporter": "python",
   "pygments_lexer": "ipython3",
   "version": "3.12.4"
  }
 },
 "nbformat": 4,
 "nbformat_minor": 2
}
